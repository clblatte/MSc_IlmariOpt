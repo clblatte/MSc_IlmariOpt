{
 "cells": [
  {
   "cell_type": "markdown",
   "metadata": {},
   "source": [
    "# MultiForest optimization notebook\n",
    "\n",
    "## MSc Ilmari: New EU Forest Strategy 2030; Central Finland"
   ]
  },
  {
   "cell_type": "markdown",
   "metadata": {},
   "source": [
    "Above the code cells, there are short instructions how the users can modify the codes in the cells.<br>\n",
    "If there are no instructions, no changes should be needed for the cell by default.\n",
    "\n",
    "A detailed description is provided in the <b>README.md</b> (https://github.com/maeehart/MultiForestDemonstration#readme)"
   ]
  },
  {
   "cell_type": "markdown",
   "metadata": {},
   "source": [
    "## Basic definitions"
   ]
  },
  {
   "cell_type": "markdown",
   "metadata": {},
   "source": [
    "Simulated forest data (climate scenario and name); sample size of data "
   ]
  },
  {
   "cell_type": "code",
   "execution_count": 1,
   "metadata": {},
   "outputs": [],
   "source": [
    "RCP = \"rcp0\" # \"rcp0\" = no climate change, \"rcp45\" = Representative Concentration Pathway 4.5\n",
    "filename = \"sample_central_fin_\"+RCP+\".zip\" # sample_central_fin_rcp0.zip"
   ]
  },
  {
   "cell_type": "markdown",
   "metadata": {},
   "source": [
    "Specify policy scenario: \n",
    "* \"EUFS\" - EU Forest Strategy 2030"
   ]
  },
  {
   "cell_type": "code",
   "execution_count": 2,
   "metadata": {},
   "outputs": [],
   "source": [
    "scenario = \"refBAU\"\n",
    "#scenario = \"refCCF\" "
   ]
  },
  {
   "cell_type": "markdown",
   "metadata": {},
   "source": [
    "Name definition for saved output, rule: ..._scenario_RCP_extension"
   ]
  },
  {
   "cell_type": "code",
   "execution_count": 3,
   "metadata": {},
   "outputs": [],
   "source": [
    "extension = \"V1BAUrcp0\" # some additional info to the saved output "
   ]
  },
  {
   "cell_type": "markdown",
   "metadata": {},
   "source": [
    "## Read .py class"
   ]
  },
  {
   "cell_type": "code",
   "execution_count": 4,
   "metadata": {},
   "outputs": [],
   "source": [
    "import wget\n",
    "import os\n",
    "import pandas as pd\n",
    "import sys\n",
    "import numpy as np"
   ]
  },
  {
   "cell_type": "code",
   "execution_count": 5,
   "metadata": {},
   "outputs": [],
   "source": [
    "import multiFunctionalOptimization as MFO"
   ]
  },
  {
   "cell_type": "code",
   "execution_count": 6,
   "metadata": {},
   "outputs": [
    {
     "data": {
      "text/plain": [
       "<module 'multiFunctionalOptimization' from '/home/ubuntu/workspace/opt_ilmari/multiFunctionalOptimization.py'>"
      ]
     },
     "execution_count": 6,
     "metadata": {},
     "output_type": "execute_result"
    }
   ],
   "source": [
    "from importlib import reload\n",
    "reload(MFO)"
   ]
  },
  {
   "cell_type": "markdown",
   "metadata": {},
   "source": [
    "If no solver is specified, the open source solver CLP is used"
   ]
  },
  {
   "cell_type": "code",
   "execution_count": 7,
   "metadata": {},
   "outputs": [
    {
     "data": {
      "text/plain": [
       "'Using CPLEX'"
      ]
     },
     "metadata": {},
     "output_type": "display_data"
    }
   ],
   "source": [
    "mfo = MFO.MultiFunctionalOptimization(solver = 'CPLEX') "
   ]
  },
  {
   "cell_type": "markdown",
   "metadata": {},
   "source": [
    "## Read data"
   ]
  },
  {
   "cell_type": "code",
   "execution_count": 8,
   "metadata": {},
   "outputs": [
    {
     "data": {
      "text/plain": [
       "'sample size 715/3579(19%)'"
      ]
     },
     "metadata": {},
     "output_type": "display_data"
    },
    {
     "name": "stdout",
     "output_type": "stream",
     "text": [
      "CPU times: user 1.82 s, sys: 1.02 s, total: 2.84 s\n",
      "Wall time: 2.84 s\n"
     ]
    }
   ],
   "source": [
    "%%time\n",
    "mfo.readData(filename,\n",
    "             sampleRatio=1 #If no sample ratio given, the ratio is assumed to be 1.\n",
    "            )                "
   ]
  },
  {
   "cell_type": "code",
   "execution_count": 9,
   "metadata": {},
   "outputs": [],
   "source": [
    "id = mfo.data.id\n",
    "\n",
    "def get_unique_numbers(numbers):\n",
    "\n",
    "    list_of_unique_numbers = []\n",
    "\n",
    "    unique_numbers = set(numbers)\n",
    "\n",
    "    for number in unique_numbers:\n",
    "        list_of_unique_numbers.append(number)\n",
    "\n",
    "    return list_of_unique_numbers\n",
    "\n",
    "id = get_unique_numbers(id)\n",
    "id = pd.DataFrame(id)\n",
    "id.to_csv(\"./id_1.csv\")"
   ]
  },
  {
   "cell_type": "markdown",
   "metadata": {},
   "source": [
    "### TEST - REMOVE Fertilization regimes"
   ]
  },
  {
   "cell_type": "code",
   "execution_count": 10,
   "metadata": {},
   "outputs": [],
   "source": [
    "indexNames = mfo.data[(mfo.data[mfo.regimesEnu] == 'BAUwoT_m20_F') | \n",
    "                      (mfo.data[mfo.regimesEnu] == 'BAU_m5_F') | \n",
    "                      (mfo.data[mfo.regimesEnu] == 'BAU_F') |\n",
    "                      (mfo.data[mfo.regimesEnu] == 'BAUwT_F') | \n",
    "                      (mfo.data[mfo.regimesEnu] == 'BAUwT_m5_F') ].index \n",
    "mfo.data.drop(indexNames, inplace = True)"
   ]
  },
  {
   "cell_type": "code",
   "execution_count": 11,
   "metadata": {},
   "outputs": [],
   "source": [
    "# regimes for the BAU reference scenario\n",
    "\n",
    "# MAYBE WE CAN TRY FIRST THIS \n",
    "# if this already helps to screw down the peaks then we do not need the regimes with +5/-5\n",
    "mfo.data = mfo.data[mfo.data['regime'].isin(['SA', 'BAU', 'BAUwoT', 'BAUwT', 'initial_state']) ]\n",
    "\n",
    "# If we still have peaks, we include for the BAU scenario also the +/- 5 regimes\n",
    "# mfo.data = mfo.data[mfo.data['regime'].isin(['SA', 'BAU', 'BAUwoT', 'BAUwT', 'BAU_m5', 'BAUwT_m5', 'BAU_5', 'BAUwT_5', 'initial_state']) ]"
   ]
  },
  {
   "cell_type": "code",
   "execution_count": 12,
   "metadata": {},
   "outputs": [],
   "source": [
    "# regimes for the CCF reference scenario\n",
    "#mfo.data = mfo.data[mfo.data['regime'].isin(['SA', 'CCF_1', 'CCF_2', 'CCF_3', 'CCF_4', 'initial_state']) ]"
   ]
  },
  {
   "cell_type": "code",
   "execution_count": 13,
   "metadata": {},
   "outputs": [
    {
     "data": {
      "text/plain": [
       "SA               14300\n",
       "BAU_m5           13300\n",
       "BAUwoT           13280\n",
       "BAU              13280\n",
       "BAU_5            13260\n",
       "BAUwT             8560\n",
       "BAUwT_m5          8560\n",
       "BAUwT_5           8560\n",
       "initial_state      715\n",
       "Name: regime, dtype: int64"
      ]
     },
     "execution_count": 13,
     "metadata": {},
     "output_type": "execute_result"
    }
   ],
   "source": [
    "mfo.data[mfo.regimesEnu].value_counts()"
   ]
  },
  {
   "cell_type": "markdown",
   "metadata": {},
   "source": [
    "## Create some new variables in the data"
   ]
  },
  {
   "cell_type": "markdown",
   "metadata": {},
   "source": [
    "Calculate total (per stand) values from relative values:\n",
    "* \"Relative to Area\" = simulated indicator value relate to one hectar -> scaled to represented area of NFI plot <br>\n",
    "* (\"Relative to volume\" = indicator relates to standing Volume -> scaled to the represented volume of the plot) <br>\n",
    "* (\"Absolute Value\" = takes the inticator value as it is)"
   ]
  },
  {
   "cell_type": "code",
   "execution_count": 14,
   "metadata": {},
   "outputs": [],
   "source": [
    "columnTypes = {\n",
    "    'i_Vm3':(float,\"Relative to Area\"),\n",
    "    'Harvested_V':(float,\"Relative to Area\"),\n",
    "    'Harvested_V_log_under_bark':(float,\"Relative to Area\"), \n",
    "    'Harvested_V_pulp_under_bark':(float,\"Relative to Area\"),\n",
    "    'Harvested_V_under_bark':(float,\"Relative to Area\"), \n",
    "    'Biomass':(float,\"Relative to Area\"),\n",
    "    'ALL_MARKETED_MUSHROOMS':(float,\"Relative to Area\"), \n",
    "    'BILBERRY':(float,\"Relative to Area\"), \n",
    "    'COWBERRY':(float,\"Relative to Area\"),\n",
    "    'HSI_MOOSE':(float,\"Relative to Area\"),\n",
    "    'CAPERCAILLIE':(float,\"Relative to Area\"), \n",
    "    'HAZEL_GROUSE':(float,\"Relative to Area\"), \n",
    "    'V_total_deadwood':(float,\"Relative to Area\"), \n",
    "    'N_where_D_gt_40':(float,\"Relative to Area\"),\n",
    "    'prc_V_deciduous':(float,\"Relative to Area\"),\n",
    "    'CARBON_SINK':(float,\"Relative to Area\"), \n",
    "    'Recreation':(float,\"Relative to Area\"),\n",
    "    'Scenic':(float,\"Relative to Area\")\n",
    "}"
   ]
  },
  {
   "cell_type": "code",
   "execution_count": 15,
   "metadata": {},
   "outputs": [],
   "source": [
    "mfo.calculateTotalValuesFromRelativeValues(columnTypes=columnTypes)"
   ]
  },
  {
   "cell_type": "markdown",
   "metadata": {},
   "source": [
    "List the new created columns: <br>\n",
    "* Total_... hectare value multiplied by represented area (or volume)"
   ]
  },
  {
   "cell_type": "code",
   "execution_count": 16,
   "metadata": {},
   "outputs": [
    {
     "data": {
      "text/plain": [
       "['Total_i_Vm3',\n",
       " 'Total_Harvested_V',\n",
       " 'Total_Harvested_V_log_under_bark',\n",
       " 'Total_Harvested_V_pulp_under_bark',\n",
       " 'Total_Harvested_V_under_bark',\n",
       " 'Total_Biomass',\n",
       " 'Total_ALL_MARKETED_MUSHROOMS',\n",
       " 'Total_BILBERRY',\n",
       " 'Total_COWBERRY',\n",
       " 'Total_HSI_MOOSE',\n",
       " 'Total_CAPERCAILLIE',\n",
       " 'Total_HAZEL_GROUSE',\n",
       " 'Total_V_total_deadwood',\n",
       " 'Total_N_where_D_gt_40',\n",
       " 'Total_prc_V_deciduous',\n",
       " 'Total_CARBON_SINK',\n",
       " 'Total_Recreation',\n",
       " 'Total_Scenic']"
      ]
     },
     "execution_count": 16,
     "metadata": {},
     "output_type": "execute_result"
    }
   ],
   "source": [
    "[name for name in mfo.data.columns if \"Total_\" in name and \"Relative\" not in name]"
   ]
  },
  {
   "cell_type": "markdown",
   "metadata": {},
   "source": [
    "## Create new column\n",
    "1) Column indicating if regime is \"CCF_3, CCF_4, BAUwGTR\" (TRUE/FLASE) <br>\n",
    "Important for FES Biodiversity, allowed regimes for conservation sites.\n",
    "\n",
    "2) Column indicating if regime is \"SA\" (TRUE/FALSE)<br>\n",
    "Important for FES Biodiversity, allowed regimes for statutory protection sites.\n",
    "\n",
    "3) Column indicating if regime is \"BAUwT_B, BAUwT_5_B, BAUwT_15_B, BAUwT_30_B, BAUwT_GTR_B\" <br>\n",
    "Important for FES Resillience, allowed regimes for climate change adaption."
   ]
  },
  {
   "cell_type": "code",
   "execution_count": 17,
   "metadata": {},
   "outputs": [],
   "source": [
    "regimeClassNames = {\"regimeClass0name\":\"CCF\",\n",
    "                    \"regimeClass1name\":\"SA\",\n",
    "                    \"regimeClass2name\":\"Broadleave\"}\n",
    "regimeClassregimes = {\"regimeClass0regimes\":[\"CCF_3\",\"CCF_4\",\"BAUwGTR\", \"BAUwT_GTR\"],\n",
    "                      \"regimeClass1regimes\":[\"SA\"],\n",
    "                      \"regimeClass2regimes\":[\"BAUwT_B\", \"BAUwT_5_B\", \"BAUwT_15_B\", \"BAUwT_30_B\", \"BAUwT_GTR_B\"]}"
   ]
  },
  {
   "cell_type": "code",
   "execution_count": 18,
   "metadata": {},
   "outputs": [],
   "source": [
    "mfo.addRegimeClassifications(regimeClassNames = regimeClassNames,regimeClassregimes=regimeClassregimes)"
   ]
  },
  {
   "cell_type": "markdown",
   "metadata": {},
   "source": [
    "### % of stands falling in strictly protected areas"
   ]
  },
  {
   "cell_type": "code",
   "execution_count": 19,
   "metadata": {},
   "outputs": [
    {
     "data": {
      "text/plain": [
       "['id',\n",
       " 'year',\n",
       " 'regime',\n",
       " 'V',\n",
       " 'i_Vm3',\n",
       " 'Harvested_V',\n",
       " 'Harvested_V_log_under_bark',\n",
       " 'Harvested_V_pulp_under_bark',\n",
       " 'Harvested_V_under_bark',\n",
       " 'MAIN_SP',\n",
       " 'Age',\n",
       " 'AGE_ba',\n",
       " 'SC',\n",
       " 'Biomass',\n",
       " 'ALL_MARKETED_MUSHROOMS',\n",
       " 'BILBERRY',\n",
       " 'COWBERRY',\n",
       " 'HSI_MOOSE',\n",
       " 'CAPERCAILLIE',\n",
       " 'HAZEL_GROUSE',\n",
       " 'V_total_deadwood',\n",
       " 'N_where_D_gt_40',\n",
       " 'prc_V_deciduous',\n",
       " 'PEAT',\n",
       " 'clearcut',\n",
       " 'CARBON_SINK',\n",
       " 'CARBON_STORAGE_Update',\n",
       " 'Recreation',\n",
       " 'Scenic',\n",
       " 'scenario',\n",
       " 'represented_area_by_NFIplot',\n",
       " 'region',\n",
       " 'NUTS2_GL',\n",
       " 'protection',\n",
       " 'Total_i_Vm3',\n",
       " 'Total_Harvested_V',\n",
       " 'Total_Harvested_V_log_under_bark',\n",
       " 'Total_Harvested_V_pulp_under_bark',\n",
       " 'Total_Harvested_V_under_bark',\n",
       " 'Total_Biomass',\n",
       " 'Total_ALL_MARKETED_MUSHROOMS',\n",
       " 'Total_BILBERRY',\n",
       " 'Total_COWBERRY',\n",
       " 'Total_HSI_MOOSE',\n",
       " 'Total_CAPERCAILLIE',\n",
       " 'Total_HAZEL_GROUSE',\n",
       " 'Total_V_total_deadwood',\n",
       " 'Total_N_where_D_gt_40',\n",
       " 'Total_prc_V_deciduous',\n",
       " 'Total_CARBON_SINK',\n",
       " 'Total_Recreation',\n",
       " 'Total_Scenic',\n",
       " 'CCF_forests',\n",
       " 'SA_forests',\n",
       " 'Broadleave_forests']"
      ]
     },
     "execution_count": 19,
     "metadata": {},
     "output_type": "execute_result"
    }
   ],
   "source": [
    "list(mfo.data)"
   ]
  },
  {
   "cell_type": "code",
   "execution_count": 20,
   "metadata": {},
   "outputs": [
    {
     "data": {
      "text/plain": [
       "715"
      ]
     },
     "execution_count": 20,
     "metadata": {},
     "output_type": "execute_result"
    }
   ],
   "source": [
    "# Number of all stands\n",
    "# len(mfo.data[\"id\"].unique())\n",
    "standid = mfo.data.drop_duplicates(['id'])\n",
    "len(standid)"
   ]
  },
  {
   "cell_type": "code",
   "execution_count": 21,
   "metadata": {},
   "outputs": [
    {
     "data": {
      "text/plain": [
       "3.4965034965034967"
      ]
     },
     "execution_count": 21,
     "metadata": {},
     "output_type": "execute_result"
    }
   ],
   "source": [
    "len(standid[(standid[\"protection\"] == \"strict\")]) / len(standid) * 100"
   ]
  },
  {
   "cell_type": "markdown",
   "metadata": {},
   "source": [
    "### % of stands only with set aside (incl. strictly protected & other unmanaged)"
   ]
  },
  {
   "cell_type": "code",
   "execution_count": 22,
   "metadata": {},
   "outputs": [
    {
     "data": {
      "text/plain": [
       "6.153846153846154"
      ]
     },
     "execution_count": 22,
     "metadata": {},
     "output_type": "execute_result"
    }
   ],
   "source": [
    "managed = mfo.data[(mfo.data[\"regime\"] != \"SA\") & (mfo.data[\"regime\"] != \"initial_state\")]\n",
    "not_managed = mfo.data[(mfo.data[\"regime\"] == \"SA\") ]\n",
    "\n",
    "( len(not_managed[\"id\"].unique()) - len(managed[\"id\"].unique()) ) / len(not_managed[\"id\"].unique()) * 100"
   ]
  },
  {
   "cell_type": "markdown",
   "metadata": {},
   "source": [
    "### Define primary/old forest for additional protection"
   ]
  },
  {
   "cell_type": "code",
   "execution_count": 23,
   "metadata": {},
   "outputs": [
    {
     "data": {
      "text/plain": [
       "array([2, 0, 1, 4, 3, 5, 9])"
      ]
     },
     "execution_count": 23,
     "metadata": {},
     "output_type": "execute_result"
    }
   ],
   "source": [
    "mfo.data['MAIN_SP'].unique()"
   ]
  },
  {
   "cell_type": "code",
   "execution_count": 24,
   "metadata": {},
   "outputs": [],
   "source": [
    "# value>1 Pinus sylvestris\n",
    "# value>2 Picea abies\n",
    "# value>3 Betula pendula\n",
    "# value>4 Betula pubescens\n",
    "# value>5 Populus tremula\n",
    "# value>6 Alnus incana\n",
    "# value>7 Alnus glutinosa<\n",
    "# value>8 other coniferous tree species\n",
    "# value>9 other decidious tree species\n",
    "\n",
    "list_conifer = [1,2,8]\n",
    "list_broadleave = [3,4,5,6,7,9]"
   ]
  },
  {
   "cell_type": "code",
   "execution_count": 25,
   "metadata": {},
   "outputs": [],
   "source": [
    "# column indicating if old forest AND if regime SA\n",
    "mfo.data['Old_forests'] = np.where(\n",
    "    (mfo.data['AGE_ba'] >= 90) & (mfo.data['MAIN_SP'].isin(list_conifer) & (mfo.data['SA_forests'] == True) & (mfo.data['protection'] != \"strict\")) |\n",
    "    (mfo.data['AGE_ba'] >= 90) & (mfo.data['MAIN_SP'].isin(list_broadleave) & (mfo.data['SA_forests'] == True) & (mfo.data['protection'] != \"strict\"))\n",
    "        , True, False\n",
    ")"
   ]
  },
  {
   "cell_type": "code",
   "execution_count": 26,
   "metadata": {},
   "outputs": [],
   "source": [
    "#test = pd.DataFrame(mfo.data)\n",
    "#test.to_csv(\"./test.csv\")"
   ]
  },
  {
   "cell_type": "code",
   "execution_count": 27,
   "metadata": {},
   "outputs": [],
   "source": [
    "#list(mfo.data.columns)"
   ]
  },
  {
   "cell_type": "markdown",
   "metadata": {},
   "source": [
    "## Define initial value\n",
    "1) Define initial values, recognized by the regime \"initial_state\", which only occurs at the first year (here 2016)\n",
    "\n",
    "2) Create new variables that describe the <b>relative change to initial situation (start year) \"Relative_\"</b>:"
   ]
  },
  {
   "cell_type": "code",
   "execution_count": 28,
   "metadata": {},
   "outputs": [],
   "source": [
    "mfo.finalizeData(initialRegime=\"initial_state\")"
   ]
  },
  {
   "cell_type": "markdown",
   "metadata": {},
   "source": [
    "New variables created:"
   ]
  },
  {
   "cell_type": "code",
   "execution_count": 29,
   "metadata": {},
   "outputs": [
    {
     "data": {
      "text/plain": [
       "['Relative_V',\n",
       " 'Relative_Age',\n",
       " 'Relative_AGE_ba',\n",
       " 'Relative_ALL_MARKETED_MUSHROOMS',\n",
       " 'Relative_BILBERRY',\n",
       " 'Relative_COWBERRY',\n",
       " 'Relative_HSI_MOOSE',\n",
       " 'Relative_CAPERCAILLIE',\n",
       " 'Relative_HAZEL_GROUSE',\n",
       " 'Relative_V_total_deadwood',\n",
       " 'Relative_N_where_D_gt_40',\n",
       " 'Relative_prc_V_deciduous',\n",
       " 'Relative_CARBON_STORAGE_Update',\n",
       " 'Relative_Recreation',\n",
       " 'Relative_Scenic',\n",
       " 'Relative_Total_ALL_MARKETED_MUSHROOMS',\n",
       " 'Relative_Total_BILBERRY',\n",
       " 'Relative_Total_COWBERRY',\n",
       " 'Relative_Total_HSI_MOOSE',\n",
       " 'Relative_Total_CAPERCAILLIE',\n",
       " 'Relative_Total_HAZEL_GROUSE',\n",
       " 'Relative_Total_V_total_deadwood',\n",
       " 'Relative_Total_N_where_D_gt_40',\n",
       " 'Relative_Total_prc_V_deciduous',\n",
       " 'Relative_Total_Recreation',\n",
       " 'Relative_Total_Scenic']"
      ]
     },
     "execution_count": 29,
     "metadata": {},
     "output_type": "execute_result"
    }
   ],
   "source": [
    "[name for name in mfo.data.columns if \"Relative_\" in name]"
   ]
  },
  {
   "cell_type": "code",
   "execution_count": 30,
   "metadata": {},
   "outputs": [
    {
     "data": {
      "text/html": [
       "<div>\n",
       "<style scoped>\n",
       "    .dataframe tbody tr th:only-of-type {\n",
       "        vertical-align: middle;\n",
       "    }\n",
       "\n",
       "    .dataframe tbody tr th {\n",
       "        vertical-align: top;\n",
       "    }\n",
       "\n",
       "    .dataframe thead th {\n",
       "        text-align: right;\n",
       "    }\n",
       "</style>\n",
       "<table border=\"1\" class=\"dataframe\">\n",
       "  <thead>\n",
       "    <tr style=\"text-align: right;\">\n",
       "      <th></th>\n",
       "      <th></th>\n",
       "      <th></th>\n",
       "      <th>V</th>\n",
       "      <th>i_Vm3</th>\n",
       "      <th>Harvested_V</th>\n",
       "      <th>Harvested_V_log_under_bark</th>\n",
       "      <th>Harvested_V_pulp_under_bark</th>\n",
       "      <th>Harvested_V_under_bark</th>\n",
       "      <th>MAIN_SP</th>\n",
       "      <th>Age</th>\n",
       "      <th>AGE_ba</th>\n",
       "      <th>SC</th>\n",
       "      <th>...</th>\n",
       "      <th>Relative_Total_BILBERRY</th>\n",
       "      <th>Relative_Total_COWBERRY</th>\n",
       "      <th>Relative_Total_HSI_MOOSE</th>\n",
       "      <th>Relative_Total_CAPERCAILLIE</th>\n",
       "      <th>Relative_Total_HAZEL_GROUSE</th>\n",
       "      <th>Relative_Total_V_total_deadwood</th>\n",
       "      <th>Relative_Total_N_where_D_gt_40</th>\n",
       "      <th>Relative_Total_prc_V_deciduous</th>\n",
       "      <th>Relative_Total_Recreation</th>\n",
       "      <th>Relative_Total_Scenic</th>\n",
       "    </tr>\n",
       "    <tr>\n",
       "      <th>id</th>\n",
       "      <th>year</th>\n",
       "      <th>regime</th>\n",
       "      <th></th>\n",
       "      <th></th>\n",
       "      <th></th>\n",
       "      <th></th>\n",
       "      <th></th>\n",
       "      <th></th>\n",
       "      <th></th>\n",
       "      <th></th>\n",
       "      <th></th>\n",
       "      <th></th>\n",
       "      <th></th>\n",
       "      <th></th>\n",
       "      <th></th>\n",
       "      <th></th>\n",
       "      <th></th>\n",
       "      <th></th>\n",
       "      <th></th>\n",
       "      <th></th>\n",
       "      <th></th>\n",
       "      <th></th>\n",
       "      <th></th>\n",
       "    </tr>\n",
       "  </thead>\n",
       "  <tbody>\n",
       "    <tr>\n",
       "      <th rowspan=\"5\" valign=\"top\">99011014</th>\n",
       "      <th>2021</th>\n",
       "      <th>SA</th>\n",
       "      <td>409.58</td>\n",
       "      <td>7.20</td>\n",
       "      <td>0.0</td>\n",
       "      <td>0.0</td>\n",
       "      <td>0.0</td>\n",
       "      <td>0.0</td>\n",
       "      <td>2</td>\n",
       "      <td>84.0</td>\n",
       "      <td>83.53</td>\n",
       "      <td>1</td>\n",
       "      <td>...</td>\n",
       "      <td>0.0</td>\n",
       "      <td>0.000843</td>\n",
       "      <td>0.0</td>\n",
       "      <td>0.0</td>\n",
       "      <td>0.000372</td>\n",
       "      <td>0.005121</td>\n",
       "      <td>0.0</td>\n",
       "      <td>0.000204</td>\n",
       "      <td>0.001734</td>\n",
       "      <td>0.001791</td>\n",
       "    </tr>\n",
       "    <tr>\n",
       "      <th>2026</th>\n",
       "      <th>SA</th>\n",
       "      <td>445.49</td>\n",
       "      <td>7.29</td>\n",
       "      <td>0.0</td>\n",
       "      <td>0.0</td>\n",
       "      <td>0.0</td>\n",
       "      <td>0.0</td>\n",
       "      <td>2</td>\n",
       "      <td>89.0</td>\n",
       "      <td>88.57</td>\n",
       "      <td>1</td>\n",
       "      <td>...</td>\n",
       "      <td>0.0</td>\n",
       "      <td>0.000818</td>\n",
       "      <td>0.0</td>\n",
       "      <td>0.0</td>\n",
       "      <td>0.000223</td>\n",
       "      <td>0.008051</td>\n",
       "      <td>0.0</td>\n",
       "      <td>0.000204</td>\n",
       "      <td>0.001752</td>\n",
       "      <td>0.001836</td>\n",
       "    </tr>\n",
       "    <tr>\n",
       "      <th>2031</th>\n",
       "      <th>SA</th>\n",
       "      <td>480.72</td>\n",
       "      <td>7.17</td>\n",
       "      <td>0.0</td>\n",
       "      <td>0.0</td>\n",
       "      <td>0.0</td>\n",
       "      <td>0.0</td>\n",
       "      <td>2</td>\n",
       "      <td>94.0</td>\n",
       "      <td>93.60</td>\n",
       "      <td>1</td>\n",
       "      <td>...</td>\n",
       "      <td>0.0</td>\n",
       "      <td>0.000795</td>\n",
       "      <td>0.0</td>\n",
       "      <td>0.0</td>\n",
       "      <td>0.000074</td>\n",
       "      <td>0.010656</td>\n",
       "      <td>0.0</td>\n",
       "      <td>0.000204</td>\n",
       "      <td>0.001769</td>\n",
       "      <td>0.001881</td>\n",
       "    </tr>\n",
       "    <tr>\n",
       "      <th>2036</th>\n",
       "      <th>SA</th>\n",
       "      <td>503.77</td>\n",
       "      <td>4.75</td>\n",
       "      <td>0.0</td>\n",
       "      <td>0.0</td>\n",
       "      <td>0.0</td>\n",
       "      <td>0.0</td>\n",
       "      <td>2</td>\n",
       "      <td>99.0</td>\n",
       "      <td>98.62</td>\n",
       "      <td>1</td>\n",
       "      <td>...</td>\n",
       "      <td>0.0</td>\n",
       "      <td>0.000782</td>\n",
       "      <td>0.0</td>\n",
       "      <td>0.0</td>\n",
       "      <td>0.000000</td>\n",
       "      <td>0.012323</td>\n",
       "      <td>0.0</td>\n",
       "      <td>0.000204</td>\n",
       "      <td>0.001780</td>\n",
       "      <td>0.001926</td>\n",
       "    </tr>\n",
       "    <tr>\n",
       "      <th>2041</th>\n",
       "      <th>SA</th>\n",
       "      <td>518.69</td>\n",
       "      <td>3.13</td>\n",
       "      <td>0.0</td>\n",
       "      <td>0.0</td>\n",
       "      <td>0.0</td>\n",
       "      <td>0.0</td>\n",
       "      <td>2</td>\n",
       "      <td>104.0</td>\n",
       "      <td>103.63</td>\n",
       "      <td>1</td>\n",
       "      <td>...</td>\n",
       "      <td>0.0</td>\n",
       "      <td>0.000774</td>\n",
       "      <td>0.0</td>\n",
       "      <td>0.0</td>\n",
       "      <td>0.000000</td>\n",
       "      <td>0.013389</td>\n",
       "      <td>0.0</td>\n",
       "      <td>0.000136</td>\n",
       "      <td>0.001787</td>\n",
       "      <td>0.001972</td>\n",
       "    </tr>\n",
       "  </tbody>\n",
       "</table>\n",
       "<p>5 rows × 79 columns</p>\n",
       "</div>"
      ],
      "text/plain": [
       "                           V  i_Vm3  Harvested_V  Harvested_V_log_under_bark  \\\n",
       "id       year regime                                                           \n",
       "99011014 2021 SA      409.58   7.20          0.0                         0.0   \n",
       "         2026 SA      445.49   7.29          0.0                         0.0   \n",
       "         2031 SA      480.72   7.17          0.0                         0.0   \n",
       "         2036 SA      503.77   4.75          0.0                         0.0   \n",
       "         2041 SA      518.69   3.13          0.0                         0.0   \n",
       "\n",
       "                      Harvested_V_pulp_under_bark  Harvested_V_under_bark  \\\n",
       "id       year regime                                                        \n",
       "99011014 2021 SA                              0.0                     0.0   \n",
       "         2026 SA                              0.0                     0.0   \n",
       "         2031 SA                              0.0                     0.0   \n",
       "         2036 SA                              0.0                     0.0   \n",
       "         2041 SA                              0.0                     0.0   \n",
       "\n",
       "                      MAIN_SP    Age  AGE_ba  SC  ...  \\\n",
       "id       year regime                              ...   \n",
       "99011014 2021 SA            2   84.0   83.53   1  ...   \n",
       "         2026 SA            2   89.0   88.57   1  ...   \n",
       "         2031 SA            2   94.0   93.60   1  ...   \n",
       "         2036 SA            2   99.0   98.62   1  ...   \n",
       "         2041 SA            2  104.0  103.63   1  ...   \n",
       "\n",
       "                      Relative_Total_BILBERRY  Relative_Total_COWBERRY  \\\n",
       "id       year regime                                                     \n",
       "99011014 2021 SA                          0.0                 0.000843   \n",
       "         2026 SA                          0.0                 0.000818   \n",
       "         2031 SA                          0.0                 0.000795   \n",
       "         2036 SA                          0.0                 0.000782   \n",
       "         2041 SA                          0.0                 0.000774   \n",
       "\n",
       "                      Relative_Total_HSI_MOOSE  Relative_Total_CAPERCAILLIE  \\\n",
       "id       year regime                                                          \n",
       "99011014 2021 SA                           0.0                          0.0   \n",
       "         2026 SA                           0.0                          0.0   \n",
       "         2031 SA                           0.0                          0.0   \n",
       "         2036 SA                           0.0                          0.0   \n",
       "         2041 SA                           0.0                          0.0   \n",
       "\n",
       "                      Relative_Total_HAZEL_GROUSE  \\\n",
       "id       year regime                                \n",
       "99011014 2021 SA                         0.000372   \n",
       "         2026 SA                         0.000223   \n",
       "         2031 SA                         0.000074   \n",
       "         2036 SA                         0.000000   \n",
       "         2041 SA                         0.000000   \n",
       "\n",
       "                      Relative_Total_V_total_deadwood  \\\n",
       "id       year regime                                    \n",
       "99011014 2021 SA                             0.005121   \n",
       "         2026 SA                             0.008051   \n",
       "         2031 SA                             0.010656   \n",
       "         2036 SA                             0.012323   \n",
       "         2041 SA                             0.013389   \n",
       "\n",
       "                      Relative_Total_N_where_D_gt_40  \\\n",
       "id       year regime                                   \n",
       "99011014 2021 SA                                 0.0   \n",
       "         2026 SA                                 0.0   \n",
       "         2031 SA                                 0.0   \n",
       "         2036 SA                                 0.0   \n",
       "         2041 SA                                 0.0   \n",
       "\n",
       "                      Relative_Total_prc_V_deciduous  \\\n",
       "id       year regime                                   \n",
       "99011014 2021 SA                            0.000204   \n",
       "         2026 SA                            0.000204   \n",
       "         2031 SA                            0.000204   \n",
       "         2036 SA                            0.000204   \n",
       "         2041 SA                            0.000136   \n",
       "\n",
       "                      Relative_Total_Recreation  Relative_Total_Scenic  \n",
       "id       year regime                                                    \n",
       "99011014 2021 SA                       0.001734               0.001791  \n",
       "         2026 SA                       0.001752               0.001836  \n",
       "         2031 SA                       0.001769               0.001881  \n",
       "         2036 SA                       0.001780               0.001926  \n",
       "         2041 SA                       0.001787               0.001972  \n",
       "\n",
       "[5 rows x 79 columns]"
      ]
     },
     "execution_count": 30,
     "metadata": {},
     "output_type": "execute_result"
    }
   ],
   "source": [
    "mfo.data.head()"
   ]
  },
  {
   "cell_type": "code",
   "execution_count": 31,
   "metadata": {},
   "outputs": [
    {
     "data": {
      "text/html": [
       "<div>\n",
       "<style scoped>\n",
       "    .dataframe tbody tr th:only-of-type {\n",
       "        vertical-align: middle;\n",
       "    }\n",
       "\n",
       "    .dataframe tbody tr th {\n",
       "        vertical-align: top;\n",
       "    }\n",
       "\n",
       "    .dataframe thead th {\n",
       "        text-align: right;\n",
       "    }\n",
       "</style>\n",
       "<table border=\"1\" class=\"dataframe\">\n",
       "  <thead>\n",
       "    <tr style=\"text-align: right;\">\n",
       "      <th></th>\n",
       "      <th></th>\n",
       "      <th></th>\n",
       "      <th>V</th>\n",
       "      <th>i_Vm3</th>\n",
       "      <th>Harvested_V</th>\n",
       "      <th>Harvested_V_log_under_bark</th>\n",
       "      <th>Harvested_V_pulp_under_bark</th>\n",
       "      <th>Harvested_V_under_bark</th>\n",
       "      <th>MAIN_SP</th>\n",
       "      <th>Age</th>\n",
       "      <th>AGE_ba</th>\n",
       "      <th>SC</th>\n",
       "      <th>...</th>\n",
       "      <th>Total_V_total_deadwood</th>\n",
       "      <th>Total_N_where_D_gt_40</th>\n",
       "      <th>Total_prc_V_deciduous</th>\n",
       "      <th>Total_CARBON_SINK</th>\n",
       "      <th>Total_Recreation</th>\n",
       "      <th>Total_Scenic</th>\n",
       "      <th>CCF_forests</th>\n",
       "      <th>SA_forests</th>\n",
       "      <th>Broadleave_forests</th>\n",
       "      <th>Old_forests</th>\n",
       "    </tr>\n",
       "    <tr>\n",
       "      <th>id</th>\n",
       "      <th>year</th>\n",
       "      <th>regime</th>\n",
       "      <th></th>\n",
       "      <th></th>\n",
       "      <th></th>\n",
       "      <th></th>\n",
       "      <th></th>\n",
       "      <th></th>\n",
       "      <th></th>\n",
       "      <th></th>\n",
       "      <th></th>\n",
       "      <th></th>\n",
       "      <th></th>\n",
       "      <th></th>\n",
       "      <th></th>\n",
       "      <th></th>\n",
       "      <th></th>\n",
       "      <th></th>\n",
       "      <th></th>\n",
       "      <th></th>\n",
       "      <th></th>\n",
       "      <th></th>\n",
       "      <th></th>\n",
       "    </tr>\n",
       "  </thead>\n",
       "  <tbody>\n",
       "    <tr>\n",
       "      <th>99011014</th>\n",
       "      <th>2016</th>\n",
       "      <th>initial_state</th>\n",
       "      <td>374.02</td>\n",
       "      <td>0.0</td>\n",
       "      <td>0.0</td>\n",
       "      <td>0.0</td>\n",
       "      <td>0.0</td>\n",
       "      <td>0.0</td>\n",
       "      <td>2</td>\n",
       "      <td>80.0</td>\n",
       "      <td>79.48</td>\n",
       "      <td>1</td>\n",
       "      <td>...</td>\n",
       "      <td>1492.72</td>\n",
       "      <td>0.0</td>\n",
       "      <td>1191.0</td>\n",
       "      <td>0.0</td>\n",
       "      <td>2503.879</td>\n",
       "      <td>2317.289</td>\n",
       "      <td>False</td>\n",
       "      <td>False</td>\n",
       "      <td>False</td>\n",
       "      <td>False</td>\n",
       "    </tr>\n",
       "    <tr>\n",
       "      <th>99011025</th>\n",
       "      <th>2016</th>\n",
       "      <th>initial_state</th>\n",
       "      <td>52.28</td>\n",
       "      <td>0.0</td>\n",
       "      <td>0.0</td>\n",
       "      <td>0.0</td>\n",
       "      <td>0.0</td>\n",
       "      <td>0.0</td>\n",
       "      <td>1</td>\n",
       "      <td>60.0</td>\n",
       "      <td>36.80</td>\n",
       "      <td>4</td>\n",
       "      <td>...</td>\n",
       "      <td>1568.15</td>\n",
       "      <td>0.0</td>\n",
       "      <td>10719.0</td>\n",
       "      <td>0.0</td>\n",
       "      <td>1941.330</td>\n",
       "      <td>1968.326</td>\n",
       "      <td>False</td>\n",
       "      <td>False</td>\n",
       "      <td>False</td>\n",
       "      <td>False</td>\n",
       "    </tr>\n",
       "    <tr>\n",
       "      <th>99011027</th>\n",
       "      <th>2016</th>\n",
       "      <th>initial_state</th>\n",
       "      <td>46.74</td>\n",
       "      <td>0.0</td>\n",
       "      <td>0.0</td>\n",
       "      <td>0.0</td>\n",
       "      <td>0.0</td>\n",
       "      <td>0.0</td>\n",
       "      <td>4</td>\n",
       "      <td>15.0</td>\n",
       "      <td>17.04</td>\n",
       "      <td>3</td>\n",
       "      <td>...</td>\n",
       "      <td>1512.57</td>\n",
       "      <td>0.0</td>\n",
       "      <td>19850.0</td>\n",
       "      <td>0.0</td>\n",
       "      <td>1719.010</td>\n",
       "      <td>1334.317</td>\n",
       "      <td>False</td>\n",
       "      <td>False</td>\n",
       "      <td>False</td>\n",
       "      <td>False</td>\n",
       "    </tr>\n",
       "    <tr>\n",
       "      <th>99011029</th>\n",
       "      <th>2016</th>\n",
       "      <th>initial_state</th>\n",
       "      <td>371.71</td>\n",
       "      <td>0.0</td>\n",
       "      <td>0.0</td>\n",
       "      <td>0.0</td>\n",
       "      <td>0.0</td>\n",
       "      <td>0.0</td>\n",
       "      <td>2</td>\n",
       "      <td>97.0</td>\n",
       "      <td>97.00</td>\n",
       "      <td>3</td>\n",
       "      <td>...</td>\n",
       "      <td>1496.69</td>\n",
       "      <td>0.0</td>\n",
       "      <td>0.0</td>\n",
       "      <td>0.0</td>\n",
       "      <td>2644.417</td>\n",
       "      <td>2535.639</td>\n",
       "      <td>False</td>\n",
       "      <td>False</td>\n",
       "      <td>False</td>\n",
       "      <td>False</td>\n",
       "    </tr>\n",
       "    <tr>\n",
       "      <th>99011030</th>\n",
       "      <th>2016</th>\n",
       "      <th>initial_state</th>\n",
       "      <td>280.81</td>\n",
       "      <td>0.0</td>\n",
       "      <td>0.0</td>\n",
       "      <td>0.0</td>\n",
       "      <td>0.0</td>\n",
       "      <td>0.0</td>\n",
       "      <td>2</td>\n",
       "      <td>68.0</td>\n",
       "      <td>68.44</td>\n",
       "      <td>2</td>\n",
       "      <td>...</td>\n",
       "      <td>1512.57</td>\n",
       "      <td>0.0</td>\n",
       "      <td>0.0</td>\n",
       "      <td>0.0</td>\n",
       "      <td>2430.831</td>\n",
       "      <td>2173.972</td>\n",
       "      <td>False</td>\n",
       "      <td>False</td>\n",
       "      <td>False</td>\n",
       "      <td>False</td>\n",
       "    </tr>\n",
       "  </tbody>\n",
       "</table>\n",
       "<p>5 rows × 53 columns</p>\n",
       "</div>"
      ],
      "text/plain": [
       "                                  V  i_Vm3  Harvested_V  \\\n",
       "id       year regime                                      \n",
       "99011014 2016 initial_state  374.02    0.0          0.0   \n",
       "99011025 2016 initial_state   52.28    0.0          0.0   \n",
       "99011027 2016 initial_state   46.74    0.0          0.0   \n",
       "99011029 2016 initial_state  371.71    0.0          0.0   \n",
       "99011030 2016 initial_state  280.81    0.0          0.0   \n",
       "\n",
       "                             Harvested_V_log_under_bark  \\\n",
       "id       year regime                                      \n",
       "99011014 2016 initial_state                         0.0   \n",
       "99011025 2016 initial_state                         0.0   \n",
       "99011027 2016 initial_state                         0.0   \n",
       "99011029 2016 initial_state                         0.0   \n",
       "99011030 2016 initial_state                         0.0   \n",
       "\n",
       "                             Harvested_V_pulp_under_bark  \\\n",
       "id       year regime                                       \n",
       "99011014 2016 initial_state                          0.0   \n",
       "99011025 2016 initial_state                          0.0   \n",
       "99011027 2016 initial_state                          0.0   \n",
       "99011029 2016 initial_state                          0.0   \n",
       "99011030 2016 initial_state                          0.0   \n",
       "\n",
       "                             Harvested_V_under_bark  MAIN_SP   Age  AGE_ba  \\\n",
       "id       year regime                                                         \n",
       "99011014 2016 initial_state                     0.0        2  80.0   79.48   \n",
       "99011025 2016 initial_state                     0.0        1  60.0   36.80   \n",
       "99011027 2016 initial_state                     0.0        4  15.0   17.04   \n",
       "99011029 2016 initial_state                     0.0        2  97.0   97.00   \n",
       "99011030 2016 initial_state                     0.0        2  68.0   68.44   \n",
       "\n",
       "                             SC  ...  Total_V_total_deadwood  \\\n",
       "id       year regime             ...                           \n",
       "99011014 2016 initial_state   1  ...                 1492.72   \n",
       "99011025 2016 initial_state   4  ...                 1568.15   \n",
       "99011027 2016 initial_state   3  ...                 1512.57   \n",
       "99011029 2016 initial_state   3  ...                 1496.69   \n",
       "99011030 2016 initial_state   2  ...                 1512.57   \n",
       "\n",
       "                             Total_N_where_D_gt_40  Total_prc_V_deciduous  \\\n",
       "id       year regime                                                        \n",
       "99011014 2016 initial_state                    0.0                 1191.0   \n",
       "99011025 2016 initial_state                    0.0                10719.0   \n",
       "99011027 2016 initial_state                    0.0                19850.0   \n",
       "99011029 2016 initial_state                    0.0                    0.0   \n",
       "99011030 2016 initial_state                    0.0                    0.0   \n",
       "\n",
       "                             Total_CARBON_SINK  Total_Recreation  \\\n",
       "id       year regime                                               \n",
       "99011014 2016 initial_state                0.0          2503.879   \n",
       "99011025 2016 initial_state                0.0          1941.330   \n",
       "99011027 2016 initial_state                0.0          1719.010   \n",
       "99011029 2016 initial_state                0.0          2644.417   \n",
       "99011030 2016 initial_state                0.0          2430.831   \n",
       "\n",
       "                             Total_Scenic  CCF_forests  SA_forests  \\\n",
       "id       year regime                                                 \n",
       "99011014 2016 initial_state      2317.289        False       False   \n",
       "99011025 2016 initial_state      1968.326        False       False   \n",
       "99011027 2016 initial_state      1334.317        False       False   \n",
       "99011029 2016 initial_state      2535.639        False       False   \n",
       "99011030 2016 initial_state      2173.972        False       False   \n",
       "\n",
       "                             Broadleave_forests  Old_forests  \n",
       "id       year regime                                          \n",
       "99011014 2016 initial_state               False        False  \n",
       "99011025 2016 initial_state               False        False  \n",
       "99011027 2016 initial_state               False        False  \n",
       "99011029 2016 initial_state               False        False  \n",
       "99011030 2016 initial_state               False        False  \n",
       "\n",
       "[5 rows x 53 columns]"
      ]
     },
     "execution_count": 31,
     "metadata": {},
     "output_type": "execute_result"
    }
   ],
   "source": [
    "mfo.initialData.head()"
   ]
  },
  {
   "cell_type": "markdown",
   "metadata": {},
   "source": [
    "## Define the optimization problem for policy scenarios\n",
    "See README.md for details.\n",
    "\n",
    "<b>Objective format:</b>\n",
    "\n",
    "Unique_key :[Long human readable name, column name in data, max/min objective, year wise aggregation, stand wise aggregation (, target year )]\n",
    "\n",
    "1) \"Unique_key\" : [ (2) \"Long human readable name\", (3) \"column name\", (4) \"max/min objective\", (5) \"year wise aggregation\", (6) \"stand wise aggregation\" (, (7) target year ) ]\n",
    "\n",
    "<b>Options for \"objective\":</b> \"max\"imise or \"min\"imise it <br>\n",
    "<b>year wise aggregation:</b> \"min\" (minimum value), \"average\", \"firstYear\", \"targetYearWithSlope\",\"targetYear\",\"lastYear\" <br>\n",
    "<b>stand wise aggregation:</b> \"sum\", \"areaWeightedAverage\", \"areaWeightedSum\" <br>\n",
    "<b>targe yeart:</b> any year except the first one"
   ]
  },
  {
   "cell_type": "markdown",
   "metadata": {},
   "source": [
    "### EUFS - EU Forest Strategy 2030 - V1"
   ]
  },
  {
   "cell_type": "code",
   "execution_count": 32,
   "metadata": {},
   "outputs": [],
   "source": [
    "if scenario == 'EUFS':\n",
    "    \n",
    "    biodiversity = {\n",
    "    # Conservation regimes - overall target of 10%\n",
    "    \"Ratio_SA_forests\": [\"Ratio of protected areas (%, SA forests)\",\n",
    "                         \"SA_forests\",\"max\",\"firstYear\",\"areaWeightedAverage\"],    \n",
    "        \n",
    "    # Additional strictly protected areas (on top of minimum possible for Ratio of protected areas)\n",
    "    \"Ratio_strictly_protected\": [\"Ratio of additional strictly protected forest (%, set aside)\",\n",
    "                          \"Old_forests\",\"max\",\"firstYear\",\"areaWeightedAverage\"],  \n",
    "        \n",
    "    # Protection regimes \"effective management\" - target of 20%\n",
    "    \"Ratio_protection_regimes\": [\"Ratio of forest under protection regimes (%, CCF_3, CCF_4 and BAUwGTR)\",\n",
    "                          \"CCF_forests\",\"max\",\"firstYear\",\"areaWeightedAverage\"],\n",
    "        \n",
    "    # Deadwood - maximise the deadwood in the protection regimes (could also be Age, or large living trees?)\n",
    "    #\"Total_Deadwood_V\": [\"Maximise deadwood in protected areas (m3)\", \n",
    "    #                     \"V_total_deadwood\",\"max\",\"min\",\"subsetSum\",\"CCF_forests\"],\n",
    "        \n",
    "    # Large trees - maximise the large trees in the protection regimes\n",
    "    \"Total_Large_trees\": [\"Maximise large trees in protected areas (m3)\", \n",
    "                          \"Total_N_where_D_gt_40\",\"max\",\"min\",\"subsetSum\",\"CCF_forests\"],\n",
    "    \n",
    "    # Deadwood - maximise over all forest\n",
    "    \"Avg_Deadwood_V\": [\"Average deadwood volume (m3/ha)\", \n",
    "                       \"V_total_deadwood\",\"max\",\"min\",\"areaWeightedAverage\"] , \n",
    "\n",
    "    # Deciduous trees (% of volume)\n",
    "    \"Avg_prc_V_deciduous\":  [\"Share of deciduous trees (% of standing volume)\", \n",
    "                             \"prc_V_deciduous\",\"max\", \"min\",\"areaWeightedAverage\"]  \n",
    "    }\n",
    "    \n",
    "    wood_production = { \n",
    "    # Harvested roundwood\n",
    "    \"Avg_Harvested_V\" : [\"Average harvested timber volume (log & pulp) (m3/ha, evenflow)\",\n",
    "                             \"Harvested_V\",\n",
    "                             \"max\",\"min\",\"areaWeightedAverage\"] #,\n",
    "    \n",
    "    # Increment\n",
    "    #\"Avg_i_Vm3\": [\"Average timber volume increment(m3/ha)\",\n",
    "    #                  \"i_Vm3\",\"max\",\"min\",\"areaWeightedAverage\"]\n",
    "    }\n",
    "    \n",
    "    bioenergy = { \n",
    "    # Harvested biomass\n",
    "    \"Avg_Biomass\": [\"Average harvested biomass volume (m3/ha, evenflow)\",\n",
    "                    \"Biomass\", \"max\",\"min\",\"areaWeightedAverage\"]\n",
    "    }\n",
    "    \n",
    "    climate_regulation = {\n",
    "    # Carbon sink\n",
    "    \"Total_CARBON_SINK\": [\"Sequestration in carbon dioxide (t CO2)\",\n",
    "                          \"CARBON_SINK\",\"max\",\"min\",\"areaWeightedSum\"] \n",
    "    }\n",
    "    \n",
    "    nonwood = {\n",
    "    # Recreation index \n",
    "    \"Total_Recreation\" : [\"Recreation index (max minimum over yrs)\",\n",
    "                          \"Recreation\",\"max\",\"min\",\"areaWeightedSum\"],\n",
    "        \n",
    "    # Scenic index - maximise\n",
    "    \"Total_Scenic\" : [\"Scenic index (max minimum over yrs)\",\n",
    "                      \"Scenic\", \"max\",\"min\",\"areaWeightedSum\"],   \n",
    "        \n",
    "    # Bilberry - no decline, maximise it\n",
    "    \"Avg_BILBERRY\": [\"Average Bilberry yield (kg/ha)\",\n",
    "                     \"BILBERRY\",\"max\",\"min\",\"areaWeightedAverage\"],\n",
    "    \n",
    "    # Cowberry - no decline, maximise it\n",
    "    \"Avg_COWBERRY\": [\"Average Cowberry yield (kg/ha)\",\n",
    "                     \"COWBERRY\",\"max\",\"min\",\"areaWeightedAverage\"],\n",
    "    \n",
    "    # Mushrooms - no decline, maximise it\n",
    "    \"Avg_ALL_MARKETED_MUSHROOMS\": [\"Average mushroom yield (kg/ha)\",\n",
    "                                   \"ALL_MARKETED_MUSHROOMS\",\"max\",\"min\",\"areaWeightedAverage\"]\n",
    "    \n",
    "    }\n",
    "\n",
    "    objectives = {\n",
    "              **biodiversity,\n",
    "              **wood_production,\n",
    "              **bioenergy,\n",
    "              **climate_regulation ,\n",
    "              **nonwood,\n",
    "    }\n",
    "    \n",
    "    print(\"objectives for EUFS loaded\")"
   ]
  },
  {
   "cell_type": "code",
   "execution_count": 33,
   "metadata": {},
   "outputs": [
    {
     "name": "stdout",
     "output_type": "stream",
     "text": [
      "objectives for REF loaded\n"
     ]
    }
   ],
   "source": [
    "if scenario == 'refCCF' or scenario == 'refBAU':\n",
    "    \n",
    "    wood_production = { \n",
    "    # Harvested roundwood\n",
    "    \"Avg_Harvested_V\" : [\"Average harvested timber volume (log & pulp) (m3/ha, evenflow)\",\n",
    "                             \"Harvested_V\",\n",
    "                             \"max\",\"min\",\"areaWeightedAverage\"] ,\n",
    "    \n",
    "    # Increment\n",
    "    \"Avg_i_Vm3\": [\"Average timber volume increment(m3/ha)\",\n",
    "                  \"i_Vm3\",\"max\",\"min\",\"areaWeightedAverage\"]    \n",
    "    }\n",
    "    objectives = {\n",
    "              **wood_production\n",
    "    }\n",
    "    \n",
    "    print(\"objectives for REF loaded\")"
   ]
  },
  {
   "cell_type": "code",
   "execution_count": 34,
   "metadata": {},
   "outputs": [
    {
     "data": {
      "text/plain": [
       "2"
      ]
     },
     "execution_count": 34,
     "metadata": {},
     "output_type": "execute_result"
    }
   ],
   "source": [
    "len(objectives)"
   ]
  },
  {
   "cell_type": "code",
   "execution_count": 35,
   "metadata": {},
   "outputs": [
    {
     "data": {
      "text/plain": [
       "dict_keys(['Avg_Harvested_V', 'Avg_i_Vm3'])"
      ]
     },
     "execution_count": 35,
     "metadata": {},
     "output_type": "execute_result"
    }
   ],
   "source": [
    "objectives.keys()"
   ]
  },
  {
   "cell_type": "code",
   "execution_count": 36,
   "metadata": {},
   "outputs": [
    {
     "data": {
      "text/plain": [
       "Index(['V', 'i_Vm3', 'Harvested_V', 'Harvested_V_log_under_bark',\n",
       "       'Harvested_V_pulp_under_bark', 'Harvested_V_under_bark', 'MAIN_SP',\n",
       "       'Age', 'AGE_ba', 'SC', 'Biomass', 'ALL_MARKETED_MUSHROOMS', 'BILBERRY',\n",
       "       'COWBERRY', 'HSI_MOOSE', 'CAPERCAILLIE', 'HAZEL_GROUSE',\n",
       "       'V_total_deadwood', 'N_where_D_gt_40', 'prc_V_deciduous', 'PEAT',\n",
       "       'clearcut', 'CARBON_SINK', 'CARBON_STORAGE_Update', 'Recreation',\n",
       "       'Scenic', 'scenario', 'represented_area_by_NFIplot', 'region',\n",
       "       'NUTS2_GL', 'protection', 'Total_i_Vm3', 'Total_Harvested_V',\n",
       "       'Total_Harvested_V_log_under_bark', 'Total_Harvested_V_pulp_under_bark',\n",
       "       'Total_Harvested_V_under_bark', 'Total_Biomass',\n",
       "       'Total_ALL_MARKETED_MUSHROOMS', 'Total_BILBERRY', 'Total_COWBERRY',\n",
       "       'Total_HSI_MOOSE', 'Total_CAPERCAILLIE', 'Total_HAZEL_GROUSE',\n",
       "       'Total_V_total_deadwood', 'Total_N_where_D_gt_40',\n",
       "       'Total_prc_V_deciduous', 'Total_CARBON_SINK', 'Total_Recreation',\n",
       "       'Total_Scenic', 'CCF_forests', 'SA_forests', 'Broadleave_forests',\n",
       "       'Old_forests', 'Relative_V', 'Relative_Age', 'Relative_AGE_ba',\n",
       "       'Relative_ALL_MARKETED_MUSHROOMS', 'Relative_BILBERRY',\n",
       "       'Relative_COWBERRY', 'Relative_HSI_MOOSE', 'Relative_CAPERCAILLIE',\n",
       "       'Relative_HAZEL_GROUSE', 'Relative_V_total_deadwood',\n",
       "       'Relative_N_where_D_gt_40', 'Relative_prc_V_deciduous',\n",
       "       'Relative_CARBON_STORAGE_Update', 'Relative_Recreation',\n",
       "       'Relative_Scenic', 'Relative_Total_ALL_MARKETED_MUSHROOMS',\n",
       "       'Relative_Total_BILBERRY', 'Relative_Total_COWBERRY',\n",
       "       'Relative_Total_HSI_MOOSE', 'Relative_Total_CAPERCAILLIE',\n",
       "       'Relative_Total_HAZEL_GROUSE', 'Relative_Total_V_total_deadwood',\n",
       "       'Relative_Total_N_where_D_gt_40', 'Relative_Total_prc_V_deciduous',\n",
       "       'Relative_Total_Recreation', 'Relative_Total_Scenic'],\n",
       "      dtype='object')"
      ]
     },
     "execution_count": 36,
     "metadata": {},
     "output_type": "execute_result"
    }
   ],
   "source": [
    "mfo.data.columns"
   ]
  },
  {
   "cell_type": "code",
   "execution_count": 37,
   "metadata": {},
   "outputs": [
    {
     "data": {
      "text/plain": [
       "[('prc_V_deciduous', dtype('float64')),\n",
       " ('Total_prc_V_deciduous', dtype('float64')),\n",
       " ('Relative_prc_V_deciduous', dtype('float64')),\n",
       " ('Relative_Total_prc_V_deciduous', dtype('float64'))]"
      ]
     },
     "execution_count": 37,
     "metadata": {},
     "output_type": "execute_result"
    }
   ],
   "source": [
    "[(col,mfo.data.dtypes[col]) for col in mfo.data.columns if \"prc\" in col]"
   ]
  },
  {
   "cell_type": "markdown",
   "metadata": {},
   "source": [
    "## Define initial values NOT available in data, but needed for objective\n",
    "\n",
    "Examples are increment, harvests, biomass and carbon sink. They are required for the \"targetYearWithSlope\" objective, but values only occur after the first simulation period. National values are taken from the policy or forest statistics. \n",
    "\n",
    "<b>For the EU Forest Strategy scenario this might not be required.</b> "
   ]
  },
  {
   "cell_type": "code",
   "execution_count": 38,
   "metadata": {},
   "outputs": [],
   "source": [
    "#initialValues = {\"Total_i_Vm3\":107*10**6,               # value from National Forest Policy\n",
    "#                 \"Total_Harvested_V\": 72.3*10**6,       # value from National Forest Policy\n",
    "#                 \"Total_Biomass\": 2.9*10**6,            # value from National Forest Policy\n",
    "#                 \"Total_CARBON_SINK\" : 34.1*10**6}      # value from National Forest Policy"
   ]
  },
  {
   "cell_type": "code",
   "execution_count": 39,
   "metadata": {
    "scrolled": true
   },
   "outputs": [
    {
     "data": {
      "text/plain": [
       "'Defining objectives'"
      ]
     },
     "metadata": {},
     "output_type": "display_data"
    },
    {
     "data": {
      "text/plain": [
       "'Aggregating stand wise'"
      ]
     },
     "metadata": {},
     "output_type": "display_data"
    },
    {
     "name": "stderr",
     "output_type": "stream",
     "text": [
      "100%|██████████| 2/2 [00:01<00:00,  1.32it/s]\n"
     ]
    },
    {
     "data": {
      "text/plain": [
       "'Aggregating year wise'"
      ]
     },
     "metadata": {},
     "output_type": "display_data"
    },
    {
     "name": "stdout",
     "output_type": "stream",
     "text": [
      "100%|██████████| 2/2 [00:00<00:00, 2308.37it/s]\n"
     ]
    },
    {
     "data": {
      "text/plain": [
       "'Objectives added'"
      ]
     },
     "metadata": {},
     "output_type": "display_data"
    }
   ],
   "source": [
    "# mfo.defineObjectives(objectives,initialValues = initialValues)\n",
    "mfo.defineObjectives(objectives)"
   ]
  },
  {
   "cell_type": "markdown",
   "metadata": {},
   "source": [
    "## Define enabled constraints\n",
    "\n",
    "<b>For the EU Forest Strategy scenario this might not be required. </b> OR it can be a different enabled constraint - maybe related to the protection targets. Let´s see how the policy table looks ... "
   ]
  },
  {
   "cell_type": "code",
   "execution_count": 40,
   "metadata": {},
   "outputs": [],
   "source": [
    "CCFregimes = [regime for regime in mfo.regimes if \"CCF\" in regime] + [\"SA\"]"
   ]
  },
  {
   "cell_type": "code",
   "execution_count": 41,
   "metadata": {},
   "outputs": [
    {
     "data": {
      "text/plain": [
       "['SA']"
      ]
     },
     "execution_count": 41,
     "metadata": {},
     "output_type": "execute_result"
    }
   ],
   "source": [
    "CCFregimes"
   ]
  },
  {
   "cell_type": "markdown",
   "metadata": {},
   "source": [
    "Constraint format:\n",
    "- Shortname: \"constraint type\",\"allowed regimes\",\"human readable name\",(regimes),\"column in data\")"
   ]
  },
  {
   "cell_type": "code",
   "execution_count": 42,
   "metadata": {},
   "outputs": [],
   "source": [
    "constraintTypes = {\"CCFonPeat\":[\"Allowed regimes\",\"Only CCF on peat lands\",CCFregimes,\"PEAT\"]}"
   ]
  },
  {
   "cell_type": "code",
   "execution_count": 43,
   "metadata": {},
   "outputs": [],
   "source": [
    "mfo.defineConstraints(constraintTypes)"
   ]
  },
  {
   "cell_type": "markdown",
   "metadata": {},
   "source": [
    "## Calculate objective ranges\n",
    "The ideal and anti-ideal solution for the individual objective functions."
   ]
  },
  {
   "cell_type": "code",
   "execution_count": 44,
   "metadata": {
    "scrolled": false
   },
   "outputs": [
    {
     "data": {
      "text/plain": [
       "'Calculating objective ranges'"
      ]
     },
     "metadata": {},
     "output_type": "display_data"
    },
    {
     "name": "stdout",
     "output_type": "stream",
     "text": [
      "\r",
      "  0%|          | 0/2 [00:00<?, ?it/s]"
     ]
    },
    {
     "data": {
      "text/plain": [
       "'Optimizing for Average harvested timber volume (log & pulp) (m3/ha, evenflow)'"
      ]
     },
     "metadata": {},
     "output_type": "display_data"
    },
    {
     "data": {
      "text/plain": [
       "'Found an optimal solution in 0 seconds'"
      ]
     },
     "metadata": {},
     "output_type": "display_data"
    },
    {
     "data": {
      "text/plain": [
       "'Objective values are:'"
      ]
     },
     "metadata": {},
     "output_type": "display_data"
    },
    {
     "data": {
      "text/plain": [
       "'Average harvested timber volume (log & pulp) (m3/ha, evenflow)'"
      ]
     },
     "metadata": {},
     "output_type": "display_data"
    },
    {
     "data": {
      "text/plain": [
       "4.278060254424732"
      ]
     },
     "metadata": {},
     "output_type": "display_data"
    },
    {
     "data": {
      "text/plain": [
       "'Average timber volume increment(m3/ha)'"
      ]
     },
     "metadata": {},
     "output_type": "display_data"
    },
    {
     "data": {
      "text/plain": [
       "4.026504334985985"
      ]
     },
     "metadata": {},
     "output_type": "display_data"
    },
    {
     "name": "stdout",
     "output_type": "stream",
     "text": [
      "\r",
      " 50%|█████     | 1/2 [00:00<00:00,  4.50it/s]"
     ]
    },
    {
     "data": {
      "text/plain": [
       "'Optimizing for Average timber volume increment(m3/ha)'"
      ]
     },
     "metadata": {},
     "output_type": "display_data"
    },
    {
     "data": {
      "text/plain": [
       "'Found an optimal solution in 0 seconds'"
      ]
     },
     "metadata": {},
     "output_type": "display_data"
    },
    {
     "data": {
      "text/plain": [
       "'Objective values are:'"
      ]
     },
     "metadata": {},
     "output_type": "display_data"
    },
    {
     "data": {
      "text/plain": [
       "'Average harvested timber volume (log & pulp) (m3/ha, evenflow)'"
      ]
     },
     "metadata": {},
     "output_type": "display_data"
    },
    {
     "data": {
      "text/plain": [
       "1.591271729236757"
      ]
     },
     "metadata": {},
     "output_type": "display_data"
    },
    {
     "data": {
      "text/plain": [
       "'Average timber volume increment(m3/ha)'"
      ]
     },
     "metadata": {},
     "output_type": "display_data"
    },
    {
     "data": {
      "text/plain": [
       "4.8598747588538425"
      ]
     },
     "metadata": {},
     "output_type": "display_data"
    },
    {
     "name": "stdout",
     "output_type": "stream",
     "text": [
      "100%|██████████| 2/2 [00:00<00:00,  3.28it/s]\n",
      "CPU times: user 1.53 s, sys: 189 ms, total: 1.72 s\n",
      "Wall time: 614 ms\n"
     ]
    }
   ],
   "source": [
    "%%time\n",
    "mfo.calculateObjectiveRanges(debug=True)"
   ]
  },
  {
   "cell_type": "code",
   "execution_count": 45,
   "metadata": {},
   "outputs": [
    {
     "data": {
      "text/plain": [
       "{'Avg_Harvested_V': (1.591271729236757, 4.278060254424732),\n",
       " 'Avg_i_Vm3': (4.026504334985985, 4.8598747588538425)}"
      ]
     },
     "execution_count": 45,
     "metadata": {},
     "output_type": "execute_result"
    }
   ],
   "source": [
    "mfo.objectiveRanges"
   ]
  },
  {
   "cell_type": "markdown",
   "metadata": {},
   "source": [
    "## Show GUI"
   ]
  },
  {
   "cell_type": "markdown",
   "metadata": {},
   "source": [
    "* If \"Enabled constraints\" should be considered, start with ticking box \"only CCF ...\" and push \"Change constraints\"\n",
    "* Epsilon constraints are only considered if sliders are moved and button \"Set epsilon constraints\" is pushed\n",
    "* By pushing \"OPTIMIZE\" an optimal solution under the given constraints and reference points is searched"
   ]
  },
  {
   "cell_type": "code",
   "execution_count": 46,
   "metadata": {},
   "outputs": [
    {
     "data": {
      "text/html": [
       "<style>\n",
       "            .widget-label { min-width: 60% !important; }\n",
       "        </style>"
      ],
      "text/plain": [
       "<IPython.core.display.HTML object>"
      ]
     },
     "metadata": {},
     "output_type": "display_data"
    },
    {
     "data": {
      "text/html": [
       "<h2>Epsilon constraint values</h2>"
      ],
      "text/plain": [
       "<IPython.core.display.HTML object>"
      ]
     },
     "metadata": {},
     "output_type": "display_data"
    },
    {
     "data": {
      "application/vnd.jupyter.widget-view+json": {
       "model_id": "647f59ab3b7a4b228562cb42a3e4b703",
       "version_major": 2,
       "version_minor": 0
      },
      "text/plain": [
       "interactive(children=(FloatSlider(value=1.591271729236757, description='Average harvested timber volume (log &…"
      ]
     },
     "metadata": {},
     "output_type": "display_data"
    },
    {
     "data": {
      "text/html": [
       "<h2>Reference point</h2>"
      ],
      "text/plain": [
       "<IPython.core.display.HTML object>"
      ]
     },
     "metadata": {},
     "output_type": "display_data"
    },
    {
     "data": {
      "application/vnd.jupyter.widget-view+json": {
       "model_id": "198bdfbdf2914a9d8567e72e3e6a3827",
       "version_major": 2,
       "version_minor": 0
      },
      "text/plain": [
       "interactive(children=(FloatSlider(value=2.9346659918307445, description='Average harvested timber volume (log …"
      ]
     },
     "metadata": {},
     "output_type": "display_data"
    },
    {
     "data": {
      "text/html": [
       "<h2>Enabled constraints</h2>"
      ],
      "text/plain": [
       "<IPython.core.display.HTML object>"
      ]
     },
     "metadata": {},
     "output_type": "display_data"
    },
    {
     "data": {
      "application/vnd.jupyter.widget-view+json": {
       "model_id": "308ae6410d6443dd8883a1d0354d8480",
       "version_major": 2,
       "version_minor": 0
      },
      "text/plain": [
       "interactive(children=(Checkbox(value=False, description='Only CCF on peat lands'), Button(description='Change …"
      ]
     },
     "metadata": {},
     "output_type": "display_data"
    },
    {
     "data": {
      "application/vnd.jupyter.widget-view+json": {
       "model_id": "6b36904969574dd09ca0019dc132ac0d",
       "version_major": 2,
       "version_minor": 0
      },
      "text/plain": [
       "Button(description='Print solution', style=ButtonStyle())"
      ]
     },
     "metadata": {},
     "output_type": "display_data"
    }
   ],
   "source": [
    "mfo.showGUI(debug=True)"
   ]
  },
  {
   "cell_type": "markdown",
   "metadata": {},
   "source": [
    "## Visualization of optimal solution"
   ]
  },
  {
   "cell_type": "code",
   "execution_count": 47,
   "metadata": {},
   "outputs": [],
   "source": [
    "regimeAmounts = {regime:0 for regime in mfo.regimes}\n",
    "for key in mfo.regimesDecision.keys():\n",
    "    regimeAmounts[key[1]] +=mfo.regimesDecision[key].solution_value()*mfo.standAreas.loc[key[0],\"represented_area_by_NFIplot\"]/mfo.standAreas[\"represented_area_by_NFIplot\"].sum()"
   ]
  },
  {
   "cell_type": "code",
   "execution_count": 48,
   "metadata": {},
   "outputs": [
    {
     "name": "stdout",
     "output_type": "stream",
     "text": [
      "Populating the interactive namespace from numpy and matplotlib\n"
     ]
    }
   ],
   "source": [
    "%pylab notebook"
   ]
  },
  {
   "cell_type": "code",
   "execution_count": 49,
   "metadata": {},
   "outputs": [],
   "source": [
    "#[val for val in regimeAmounts.values()]"
   ]
  },
  {
   "cell_type": "code",
   "execution_count": 50,
   "metadata": {},
   "outputs": [
    {
     "data": {
      "application/javascript": [
       "/* Put everything inside the global mpl namespace */\n",
       "window.mpl = {};\n",
       "\n",
       "\n",
       "mpl.get_websocket_type = function() {\n",
       "    if (typeof(WebSocket) !== 'undefined') {\n",
       "        return WebSocket;\n",
       "    } else if (typeof(MozWebSocket) !== 'undefined') {\n",
       "        return MozWebSocket;\n",
       "    } else {\n",
       "        alert('Your browser does not have WebSocket support. ' +\n",
       "              'Please try Chrome, Safari or Firefox ≥ 6. ' +\n",
       "              'Firefox 4 and 5 are also supported but you ' +\n",
       "              'have to enable WebSockets in about:config.');\n",
       "    };\n",
       "}\n",
       "\n",
       "mpl.figure = function(figure_id, websocket, ondownload, parent_element) {\n",
       "    this.id = figure_id;\n",
       "\n",
       "    this.ws = websocket;\n",
       "\n",
       "    this.supports_binary = (this.ws.binaryType != undefined);\n",
       "\n",
       "    if (!this.supports_binary) {\n",
       "        var warnings = document.getElementById(\"mpl-warnings\");\n",
       "        if (warnings) {\n",
       "            warnings.style.display = 'block';\n",
       "            warnings.textContent = (\n",
       "                \"This browser does not support binary websocket messages. \" +\n",
       "                    \"Performance may be slow.\");\n",
       "        }\n",
       "    }\n",
       "\n",
       "    this.imageObj = new Image();\n",
       "\n",
       "    this.context = undefined;\n",
       "    this.message = undefined;\n",
       "    this.canvas = undefined;\n",
       "    this.rubberband_canvas = undefined;\n",
       "    this.rubberband_context = undefined;\n",
       "    this.format_dropdown = undefined;\n",
       "\n",
       "    this.image_mode = 'full';\n",
       "\n",
       "    this.root = $('<div/>');\n",
       "    this._root_extra_style(this.root)\n",
       "    this.root.attr('style', 'display: inline-block');\n",
       "\n",
       "    $(parent_element).append(this.root);\n",
       "\n",
       "    this._init_header(this);\n",
       "    this._init_canvas(this);\n",
       "    this._init_toolbar(this);\n",
       "\n",
       "    var fig = this;\n",
       "\n",
       "    this.waiting = false;\n",
       "\n",
       "    this.ws.onopen =  function () {\n",
       "            fig.send_message(\"supports_binary\", {value: fig.supports_binary});\n",
       "            fig.send_message(\"send_image_mode\", {});\n",
       "            if (mpl.ratio != 1) {\n",
       "                fig.send_message(\"set_dpi_ratio\", {'dpi_ratio': mpl.ratio});\n",
       "            }\n",
       "            fig.send_message(\"refresh\", {});\n",
       "        }\n",
       "\n",
       "    this.imageObj.onload = function() {\n",
       "            if (fig.image_mode == 'full') {\n",
       "                // Full images could contain transparency (where diff images\n",
       "                // almost always do), so we need to clear the canvas so that\n",
       "                // there is no ghosting.\n",
       "                fig.context.clearRect(0, 0, fig.canvas.width, fig.canvas.height);\n",
       "            }\n",
       "            fig.context.drawImage(fig.imageObj, 0, 0);\n",
       "        };\n",
       "\n",
       "    this.imageObj.onunload = function() {\n",
       "        fig.ws.close();\n",
       "    }\n",
       "\n",
       "    this.ws.onmessage = this._make_on_message_function(this);\n",
       "\n",
       "    this.ondownload = ondownload;\n",
       "}\n",
       "\n",
       "mpl.figure.prototype._init_header = function() {\n",
       "    var titlebar = $(\n",
       "        '<div class=\"ui-dialog-titlebar ui-widget-header ui-corner-all ' +\n",
       "        'ui-helper-clearfix\"/>');\n",
       "    var titletext = $(\n",
       "        '<div class=\"ui-dialog-title\" style=\"width: 100%; ' +\n",
       "        'text-align: center; padding: 3px;\"/>');\n",
       "    titlebar.append(titletext)\n",
       "    this.root.append(titlebar);\n",
       "    this.header = titletext[0];\n",
       "}\n",
       "\n",
       "\n",
       "\n",
       "mpl.figure.prototype._canvas_extra_style = function(canvas_div) {\n",
       "\n",
       "}\n",
       "\n",
       "\n",
       "mpl.figure.prototype._root_extra_style = function(canvas_div) {\n",
       "\n",
       "}\n",
       "\n",
       "mpl.figure.prototype._init_canvas = function() {\n",
       "    var fig = this;\n",
       "\n",
       "    var canvas_div = $('<div/>');\n",
       "\n",
       "    canvas_div.attr('style', 'position: relative; clear: both; outline: 0');\n",
       "\n",
       "    function canvas_keyboard_event(event) {\n",
       "        return fig.key_event(event, event['data']);\n",
       "    }\n",
       "\n",
       "    canvas_div.keydown('key_press', canvas_keyboard_event);\n",
       "    canvas_div.keyup('key_release', canvas_keyboard_event);\n",
       "    this.canvas_div = canvas_div\n",
       "    this._canvas_extra_style(canvas_div)\n",
       "    this.root.append(canvas_div);\n",
       "\n",
       "    var canvas = $('<canvas/>');\n",
       "    canvas.addClass('mpl-canvas');\n",
       "    canvas.attr('style', \"left: 0; top: 0; z-index: 0; outline: 0\")\n",
       "\n",
       "    this.canvas = canvas[0];\n",
       "    this.context = canvas[0].getContext(\"2d\");\n",
       "\n",
       "    var backingStore = this.context.backingStorePixelRatio ||\n",
       "\tthis.context.webkitBackingStorePixelRatio ||\n",
       "\tthis.context.mozBackingStorePixelRatio ||\n",
       "\tthis.context.msBackingStorePixelRatio ||\n",
       "\tthis.context.oBackingStorePixelRatio ||\n",
       "\tthis.context.backingStorePixelRatio || 1;\n",
       "\n",
       "    mpl.ratio = (window.devicePixelRatio || 1) / backingStore;\n",
       "\n",
       "    var rubberband = $('<canvas/>');\n",
       "    rubberband.attr('style', \"position: absolute; left: 0; top: 0; z-index: 1;\")\n",
       "\n",
       "    var pass_mouse_events = true;\n",
       "\n",
       "    canvas_div.resizable({\n",
       "        start: function(event, ui) {\n",
       "            pass_mouse_events = false;\n",
       "        },\n",
       "        resize: function(event, ui) {\n",
       "            fig.request_resize(ui.size.width, ui.size.height);\n",
       "        },\n",
       "        stop: function(event, ui) {\n",
       "            pass_mouse_events = true;\n",
       "            fig.request_resize(ui.size.width, ui.size.height);\n",
       "        },\n",
       "    });\n",
       "\n",
       "    function mouse_event_fn(event) {\n",
       "        if (pass_mouse_events)\n",
       "            return fig.mouse_event(event, event['data']);\n",
       "    }\n",
       "\n",
       "    rubberband.mousedown('button_press', mouse_event_fn);\n",
       "    rubberband.mouseup('button_release', mouse_event_fn);\n",
       "    // Throttle sequential mouse events to 1 every 20ms.\n",
       "    rubberband.mousemove('motion_notify', mouse_event_fn);\n",
       "\n",
       "    rubberband.mouseenter('figure_enter', mouse_event_fn);\n",
       "    rubberband.mouseleave('figure_leave', mouse_event_fn);\n",
       "\n",
       "    canvas_div.on(\"wheel\", function (event) {\n",
       "        event = event.originalEvent;\n",
       "        event['data'] = 'scroll'\n",
       "        if (event.deltaY < 0) {\n",
       "            event.step = 1;\n",
       "        } else {\n",
       "            event.step = -1;\n",
       "        }\n",
       "        mouse_event_fn(event);\n",
       "    });\n",
       "\n",
       "    canvas_div.append(canvas);\n",
       "    canvas_div.append(rubberband);\n",
       "\n",
       "    this.rubberband = rubberband;\n",
       "    this.rubberband_canvas = rubberband[0];\n",
       "    this.rubberband_context = rubberband[0].getContext(\"2d\");\n",
       "    this.rubberband_context.strokeStyle = \"#000000\";\n",
       "\n",
       "    this._resize_canvas = function(width, height) {\n",
       "        // Keep the size of the canvas, canvas container, and rubber band\n",
       "        // canvas in synch.\n",
       "        canvas_div.css('width', width)\n",
       "        canvas_div.css('height', height)\n",
       "\n",
       "        canvas.attr('width', width * mpl.ratio);\n",
       "        canvas.attr('height', height * mpl.ratio);\n",
       "        canvas.attr('style', 'width: ' + width + 'px; height: ' + height + 'px;');\n",
       "\n",
       "        rubberband.attr('width', width);\n",
       "        rubberband.attr('height', height);\n",
       "    }\n",
       "\n",
       "    // Set the figure to an initial 600x600px, this will subsequently be updated\n",
       "    // upon first draw.\n",
       "    this._resize_canvas(600, 600);\n",
       "\n",
       "    // Disable right mouse context menu.\n",
       "    $(this.rubberband_canvas).bind(\"contextmenu\",function(e){\n",
       "        return false;\n",
       "    });\n",
       "\n",
       "    function set_focus () {\n",
       "        canvas.focus();\n",
       "        canvas_div.focus();\n",
       "    }\n",
       "\n",
       "    window.setTimeout(set_focus, 100);\n",
       "}\n",
       "\n",
       "mpl.figure.prototype._init_toolbar = function() {\n",
       "    var fig = this;\n",
       "\n",
       "    var nav_element = $('<div/>');\n",
       "    nav_element.attr('style', 'width: 100%');\n",
       "    this.root.append(nav_element);\n",
       "\n",
       "    // Define a callback function for later on.\n",
       "    function toolbar_event(event) {\n",
       "        return fig.toolbar_button_onclick(event['data']);\n",
       "    }\n",
       "    function toolbar_mouse_event(event) {\n",
       "        return fig.toolbar_button_onmouseover(event['data']);\n",
       "    }\n",
       "\n",
       "    for(var toolbar_ind in mpl.toolbar_items) {\n",
       "        var name = mpl.toolbar_items[toolbar_ind][0];\n",
       "        var tooltip = mpl.toolbar_items[toolbar_ind][1];\n",
       "        var image = mpl.toolbar_items[toolbar_ind][2];\n",
       "        var method_name = mpl.toolbar_items[toolbar_ind][3];\n",
       "\n",
       "        if (!name) {\n",
       "            // put a spacer in here.\n",
       "            continue;\n",
       "        }\n",
       "        var button = $('<button/>');\n",
       "        button.addClass('ui-button ui-widget ui-state-default ui-corner-all ' +\n",
       "                        'ui-button-icon-only');\n",
       "        button.attr('role', 'button');\n",
       "        button.attr('aria-disabled', 'false');\n",
       "        button.click(method_name, toolbar_event);\n",
       "        button.mouseover(tooltip, toolbar_mouse_event);\n",
       "\n",
       "        var icon_img = $('<span/>');\n",
       "        icon_img.addClass('ui-button-icon-primary ui-icon');\n",
       "        icon_img.addClass(image);\n",
       "        icon_img.addClass('ui-corner-all');\n",
       "\n",
       "        var tooltip_span = $('<span/>');\n",
       "        tooltip_span.addClass('ui-button-text');\n",
       "        tooltip_span.html(tooltip);\n",
       "\n",
       "        button.append(icon_img);\n",
       "        button.append(tooltip_span);\n",
       "\n",
       "        nav_element.append(button);\n",
       "    }\n",
       "\n",
       "    var fmt_picker_span = $('<span/>');\n",
       "\n",
       "    var fmt_picker = $('<select/>');\n",
       "    fmt_picker.addClass('mpl-toolbar-option ui-widget ui-widget-content');\n",
       "    fmt_picker_span.append(fmt_picker);\n",
       "    nav_element.append(fmt_picker_span);\n",
       "    this.format_dropdown = fmt_picker[0];\n",
       "\n",
       "    for (var ind in mpl.extensions) {\n",
       "        var fmt = mpl.extensions[ind];\n",
       "        var option = $(\n",
       "            '<option/>', {selected: fmt === mpl.default_extension}).html(fmt);\n",
       "        fmt_picker.append(option);\n",
       "    }\n",
       "\n",
       "    // Add hover states to the ui-buttons\n",
       "    $( \".ui-button\" ).hover(\n",
       "        function() { $(this).addClass(\"ui-state-hover\");},\n",
       "        function() { $(this).removeClass(\"ui-state-hover\");}\n",
       "    );\n",
       "\n",
       "    var status_bar = $('<span class=\"mpl-message\"/>');\n",
       "    nav_element.append(status_bar);\n",
       "    this.message = status_bar[0];\n",
       "}\n",
       "\n",
       "mpl.figure.prototype.request_resize = function(x_pixels, y_pixels) {\n",
       "    // Request matplotlib to resize the figure. Matplotlib will then trigger a resize in the client,\n",
       "    // which will in turn request a refresh of the image.\n",
       "    this.send_message('resize', {'width': x_pixels, 'height': y_pixels});\n",
       "}\n",
       "\n",
       "mpl.figure.prototype.send_message = function(type, properties) {\n",
       "    properties['type'] = type;\n",
       "    properties['figure_id'] = this.id;\n",
       "    this.ws.send(JSON.stringify(properties));\n",
       "}\n",
       "\n",
       "mpl.figure.prototype.send_draw_message = function() {\n",
       "    if (!this.waiting) {\n",
       "        this.waiting = true;\n",
       "        this.ws.send(JSON.stringify({type: \"draw\", figure_id: this.id}));\n",
       "    }\n",
       "}\n",
       "\n",
       "\n",
       "mpl.figure.prototype.handle_save = function(fig, msg) {\n",
       "    var format_dropdown = fig.format_dropdown;\n",
       "    var format = format_dropdown.options[format_dropdown.selectedIndex].value;\n",
       "    fig.ondownload(fig, format);\n",
       "}\n",
       "\n",
       "\n",
       "mpl.figure.prototype.handle_resize = function(fig, msg) {\n",
       "    var size = msg['size'];\n",
       "    if (size[0] != fig.canvas.width || size[1] != fig.canvas.height) {\n",
       "        fig._resize_canvas(size[0], size[1]);\n",
       "        fig.send_message(\"refresh\", {});\n",
       "    };\n",
       "}\n",
       "\n",
       "mpl.figure.prototype.handle_rubberband = function(fig, msg) {\n",
       "    var x0 = msg['x0'] / mpl.ratio;\n",
       "    var y0 = (fig.canvas.height - msg['y0']) / mpl.ratio;\n",
       "    var x1 = msg['x1'] / mpl.ratio;\n",
       "    var y1 = (fig.canvas.height - msg['y1']) / mpl.ratio;\n",
       "    x0 = Math.floor(x0) + 0.5;\n",
       "    y0 = Math.floor(y0) + 0.5;\n",
       "    x1 = Math.floor(x1) + 0.5;\n",
       "    y1 = Math.floor(y1) + 0.5;\n",
       "    var min_x = Math.min(x0, x1);\n",
       "    var min_y = Math.min(y0, y1);\n",
       "    var width = Math.abs(x1 - x0);\n",
       "    var height = Math.abs(y1 - y0);\n",
       "\n",
       "    fig.rubberband_context.clearRect(\n",
       "        0, 0, fig.canvas.width / mpl.ratio, fig.canvas.height / mpl.ratio);\n",
       "\n",
       "    fig.rubberband_context.strokeRect(min_x, min_y, width, height);\n",
       "}\n",
       "\n",
       "mpl.figure.prototype.handle_figure_label = function(fig, msg) {\n",
       "    // Updates the figure title.\n",
       "    fig.header.textContent = msg['label'];\n",
       "}\n",
       "\n",
       "mpl.figure.prototype.handle_cursor = function(fig, msg) {\n",
       "    var cursor = msg['cursor'];\n",
       "    switch(cursor)\n",
       "    {\n",
       "    case 0:\n",
       "        cursor = 'pointer';\n",
       "        break;\n",
       "    case 1:\n",
       "        cursor = 'default';\n",
       "        break;\n",
       "    case 2:\n",
       "        cursor = 'crosshair';\n",
       "        break;\n",
       "    case 3:\n",
       "        cursor = 'move';\n",
       "        break;\n",
       "    }\n",
       "    fig.rubberband_canvas.style.cursor = cursor;\n",
       "}\n",
       "\n",
       "mpl.figure.prototype.handle_message = function(fig, msg) {\n",
       "    fig.message.textContent = msg['message'];\n",
       "}\n",
       "\n",
       "mpl.figure.prototype.handle_draw = function(fig, msg) {\n",
       "    // Request the server to send over a new figure.\n",
       "    fig.send_draw_message();\n",
       "}\n",
       "\n",
       "mpl.figure.prototype.handle_image_mode = function(fig, msg) {\n",
       "    fig.image_mode = msg['mode'];\n",
       "}\n",
       "\n",
       "mpl.figure.prototype.updated_canvas_event = function() {\n",
       "    // Called whenever the canvas gets updated.\n",
       "    this.send_message(\"ack\", {});\n",
       "}\n",
       "\n",
       "// A function to construct a web socket function for onmessage handling.\n",
       "// Called in the figure constructor.\n",
       "mpl.figure.prototype._make_on_message_function = function(fig) {\n",
       "    return function socket_on_message(evt) {\n",
       "        if (evt.data instanceof Blob) {\n",
       "            /* FIXME: We get \"Resource interpreted as Image but\n",
       "             * transferred with MIME type text/plain:\" errors on\n",
       "             * Chrome.  But how to set the MIME type?  It doesn't seem\n",
       "             * to be part of the websocket stream */\n",
       "            evt.data.type = \"image/png\";\n",
       "\n",
       "            /* Free the memory for the previous frames */\n",
       "            if (fig.imageObj.src) {\n",
       "                (window.URL || window.webkitURL).revokeObjectURL(\n",
       "                    fig.imageObj.src);\n",
       "            }\n",
       "\n",
       "            fig.imageObj.src = (window.URL || window.webkitURL).createObjectURL(\n",
       "                evt.data);\n",
       "            fig.updated_canvas_event();\n",
       "            fig.waiting = false;\n",
       "            return;\n",
       "        }\n",
       "        else if (typeof evt.data === 'string' && evt.data.slice(0, 21) == \"data:image/png;base64\") {\n",
       "            fig.imageObj.src = evt.data;\n",
       "            fig.updated_canvas_event();\n",
       "            fig.waiting = false;\n",
       "            return;\n",
       "        }\n",
       "\n",
       "        var msg = JSON.parse(evt.data);\n",
       "        var msg_type = msg['type'];\n",
       "\n",
       "        // Call the  \"handle_{type}\" callback, which takes\n",
       "        // the figure and JSON message as its only arguments.\n",
       "        try {\n",
       "            var callback = fig[\"handle_\" + msg_type];\n",
       "        } catch (e) {\n",
       "            console.log(\"No handler for the '\" + msg_type + \"' message type: \", msg);\n",
       "            return;\n",
       "        }\n",
       "\n",
       "        if (callback) {\n",
       "            try {\n",
       "                // console.log(\"Handling '\" + msg_type + \"' message: \", msg);\n",
       "                callback(fig, msg);\n",
       "            } catch (e) {\n",
       "                console.log(\"Exception inside the 'handler_\" + msg_type + \"' callback:\", e, e.stack, msg);\n",
       "            }\n",
       "        }\n",
       "    };\n",
       "}\n",
       "\n",
       "// from http://stackoverflow.com/questions/1114465/getting-mouse-location-in-canvas\n",
       "mpl.findpos = function(e) {\n",
       "    //this section is from http://www.quirksmode.org/js/events_properties.html\n",
       "    var targ;\n",
       "    if (!e)\n",
       "        e = window.event;\n",
       "    if (e.target)\n",
       "        targ = e.target;\n",
       "    else if (e.srcElement)\n",
       "        targ = e.srcElement;\n",
       "    if (targ.nodeType == 3) // defeat Safari bug\n",
       "        targ = targ.parentNode;\n",
       "\n",
       "    // jQuery normalizes the pageX and pageY\n",
       "    // pageX,Y are the mouse positions relative to the document\n",
       "    // offset() returns the position of the element relative to the document\n",
       "    var x = e.pageX - $(targ).offset().left;\n",
       "    var y = e.pageY - $(targ).offset().top;\n",
       "\n",
       "    return {\"x\": x, \"y\": y};\n",
       "};\n",
       "\n",
       "/*\n",
       " * return a copy of an object with only non-object keys\n",
       " * we need this to avoid circular references\n",
       " * http://stackoverflow.com/a/24161582/3208463\n",
       " */\n",
       "function simpleKeys (original) {\n",
       "  return Object.keys(original).reduce(function (obj, key) {\n",
       "    if (typeof original[key] !== 'object')\n",
       "        obj[key] = original[key]\n",
       "    return obj;\n",
       "  }, {});\n",
       "}\n",
       "\n",
       "mpl.figure.prototype.mouse_event = function(event, name) {\n",
       "    var canvas_pos = mpl.findpos(event)\n",
       "\n",
       "    if (name === 'button_press')\n",
       "    {\n",
       "        this.canvas.focus();\n",
       "        this.canvas_div.focus();\n",
       "    }\n",
       "\n",
       "    var x = canvas_pos.x * mpl.ratio;\n",
       "    var y = canvas_pos.y * mpl.ratio;\n",
       "\n",
       "    this.send_message(name, {x: x, y: y, button: event.button,\n",
       "                             step: event.step,\n",
       "                             guiEvent: simpleKeys(event)});\n",
       "\n",
       "    /* This prevents the web browser from automatically changing to\n",
       "     * the text insertion cursor when the button is pressed.  We want\n",
       "     * to control all of the cursor setting manually through the\n",
       "     * 'cursor' event from matplotlib */\n",
       "    event.preventDefault();\n",
       "    return false;\n",
       "}\n",
       "\n",
       "mpl.figure.prototype._key_event_extra = function(event, name) {\n",
       "    // Handle any extra behaviour associated with a key event\n",
       "}\n",
       "\n",
       "mpl.figure.prototype.key_event = function(event, name) {\n",
       "\n",
       "    // Prevent repeat events\n",
       "    if (name == 'key_press')\n",
       "    {\n",
       "        if (event.which === this._key)\n",
       "            return;\n",
       "        else\n",
       "            this._key = event.which;\n",
       "    }\n",
       "    if (name == 'key_release')\n",
       "        this._key = null;\n",
       "\n",
       "    var value = '';\n",
       "    if (event.ctrlKey && event.which != 17)\n",
       "        value += \"ctrl+\";\n",
       "    if (event.altKey && event.which != 18)\n",
       "        value += \"alt+\";\n",
       "    if (event.shiftKey && event.which != 16)\n",
       "        value += \"shift+\";\n",
       "\n",
       "    value += 'k';\n",
       "    value += event.which.toString();\n",
       "\n",
       "    this._key_event_extra(event, name);\n",
       "\n",
       "    this.send_message(name, {key: value,\n",
       "                             guiEvent: simpleKeys(event)});\n",
       "    return false;\n",
       "}\n",
       "\n",
       "mpl.figure.prototype.toolbar_button_onclick = function(name) {\n",
       "    if (name == 'download') {\n",
       "        this.handle_save(this, null);\n",
       "    } else {\n",
       "        this.send_message(\"toolbar_button\", {name: name});\n",
       "    }\n",
       "};\n",
       "\n",
       "mpl.figure.prototype.toolbar_button_onmouseover = function(tooltip) {\n",
       "    this.message.textContent = tooltip;\n",
       "};\n",
       "mpl.toolbar_items = [[\"Home\", \"Reset original view\", \"fa fa-home icon-home\", \"home\"], [\"Back\", \"Back to previous view\", \"fa fa-arrow-left icon-arrow-left\", \"back\"], [\"Forward\", \"Forward to next view\", \"fa fa-arrow-right icon-arrow-right\", \"forward\"], [\"\", \"\", \"\", \"\"], [\"Pan\", \"Pan axes with left mouse, zoom with right\", \"fa fa-arrows icon-move\", \"pan\"], [\"Zoom\", \"Zoom to rectangle\", \"fa fa-square-o icon-check-empty\", \"zoom\"], [\"\", \"\", \"\", \"\"], [\"Download\", \"Download plot\", \"fa fa-floppy-o icon-save\", \"download\"]];\n",
       "\n",
       "mpl.extensions = [\"eps\", \"pdf\", \"png\", \"ps\", \"raw\", \"svg\"];\n",
       "\n",
       "mpl.default_extension = \"png\";var comm_websocket_adapter = function(comm) {\n",
       "    // Create a \"websocket\"-like object which calls the given IPython comm\n",
       "    // object with the appropriate methods. Currently this is a non binary\n",
       "    // socket, so there is still some room for performance tuning.\n",
       "    var ws = {};\n",
       "\n",
       "    ws.close = function() {\n",
       "        comm.close()\n",
       "    };\n",
       "    ws.send = function(m) {\n",
       "        //console.log('sending', m);\n",
       "        comm.send(m);\n",
       "    };\n",
       "    // Register the callback with on_msg.\n",
       "    comm.on_msg(function(msg) {\n",
       "        //console.log('receiving', msg['content']['data'], msg);\n",
       "        // Pass the mpl event to the overridden (by mpl) onmessage function.\n",
       "        ws.onmessage(msg['content']['data'])\n",
       "    });\n",
       "    return ws;\n",
       "}\n",
       "\n",
       "mpl.mpl_figure_comm = function(comm, msg) {\n",
       "    // This is the function which gets called when the mpl process\n",
       "    // starts-up an IPython Comm through the \"matplotlib\" channel.\n",
       "\n",
       "    var id = msg.content.data.id;\n",
       "    // Get hold of the div created by the display call when the Comm\n",
       "    // socket was opened in Python.\n",
       "    var element = $(\"#\" + id);\n",
       "    var ws_proxy = comm_websocket_adapter(comm)\n",
       "\n",
       "    function ondownload(figure, format) {\n",
       "        window.open(figure.imageObj.src);\n",
       "    }\n",
       "\n",
       "    var fig = new mpl.figure(id, ws_proxy,\n",
       "                           ondownload,\n",
       "                           element.get(0));\n",
       "\n",
       "    // Call onopen now - mpl needs it, as it is assuming we've passed it a real\n",
       "    // web socket which is closed, not our websocket->open comm proxy.\n",
       "    ws_proxy.onopen();\n",
       "\n",
       "    fig.parent_element = element.get(0);\n",
       "    fig.cell_info = mpl.find_output_cell(\"<div id='\" + id + \"'></div>\");\n",
       "    if (!fig.cell_info) {\n",
       "        console.error(\"Failed to find cell for figure\", id, fig);\n",
       "        return;\n",
       "    }\n",
       "\n",
       "    var output_index = fig.cell_info[2]\n",
       "    var cell = fig.cell_info[0];\n",
       "\n",
       "};\n",
       "\n",
       "mpl.figure.prototype.handle_close = function(fig, msg) {\n",
       "    var width = fig.canvas.width/mpl.ratio\n",
       "    fig.root.unbind('remove')\n",
       "\n",
       "    // Update the output cell to use the data from the current canvas.\n",
       "    fig.push_to_output();\n",
       "    var dataURL = fig.canvas.toDataURL();\n",
       "    // Re-enable the keyboard manager in IPython - without this line, in FF,\n",
       "    // the notebook keyboard shortcuts fail.\n",
       "    IPython.keyboard_manager.enable()\n",
       "    $(fig.parent_element).html('<img src=\"' + dataURL + '\" width=\"' + width + '\">');\n",
       "    fig.close_ws(fig, msg);\n",
       "}\n",
       "\n",
       "mpl.figure.prototype.close_ws = function(fig, msg){\n",
       "    fig.send_message('closing', msg);\n",
       "    // fig.ws.close()\n",
       "}\n",
       "\n",
       "mpl.figure.prototype.push_to_output = function(remove_interactive) {\n",
       "    // Turn the data on the canvas into data in the output cell.\n",
       "    var width = this.canvas.width/mpl.ratio\n",
       "    var dataURL = this.canvas.toDataURL();\n",
       "    this.cell_info[1]['text/html'] = '<img src=\"' + dataURL + '\" width=\"' + width + '\">';\n",
       "}\n",
       "\n",
       "mpl.figure.prototype.updated_canvas_event = function() {\n",
       "    // Tell IPython that the notebook contents must change.\n",
       "    IPython.notebook.set_dirty(true);\n",
       "    this.send_message(\"ack\", {});\n",
       "    var fig = this;\n",
       "    // Wait a second, then push the new image to the DOM so\n",
       "    // that it is saved nicely (might be nice to debounce this).\n",
       "    setTimeout(function () { fig.push_to_output() }, 1000);\n",
       "}\n",
       "\n",
       "mpl.figure.prototype._init_toolbar = function() {\n",
       "    var fig = this;\n",
       "\n",
       "    var nav_element = $('<div/>');\n",
       "    nav_element.attr('style', 'width: 100%');\n",
       "    this.root.append(nav_element);\n",
       "\n",
       "    // Define a callback function for later on.\n",
       "    function toolbar_event(event) {\n",
       "        return fig.toolbar_button_onclick(event['data']);\n",
       "    }\n",
       "    function toolbar_mouse_event(event) {\n",
       "        return fig.toolbar_button_onmouseover(event['data']);\n",
       "    }\n",
       "\n",
       "    for(var toolbar_ind in mpl.toolbar_items){\n",
       "        var name = mpl.toolbar_items[toolbar_ind][0];\n",
       "        var tooltip = mpl.toolbar_items[toolbar_ind][1];\n",
       "        var image = mpl.toolbar_items[toolbar_ind][2];\n",
       "        var method_name = mpl.toolbar_items[toolbar_ind][3];\n",
       "\n",
       "        if (!name) { continue; };\n",
       "\n",
       "        var button = $('<button class=\"btn btn-default\" href=\"#\" title=\"' + name + '\"><i class=\"fa ' + image + ' fa-lg\"></i></button>');\n",
       "        button.click(method_name, toolbar_event);\n",
       "        button.mouseover(tooltip, toolbar_mouse_event);\n",
       "        nav_element.append(button);\n",
       "    }\n",
       "\n",
       "    // Add the status bar.\n",
       "    var status_bar = $('<span class=\"mpl-message\" style=\"text-align:right; float: right;\"/>');\n",
       "    nav_element.append(status_bar);\n",
       "    this.message = status_bar[0];\n",
       "\n",
       "    // Add the close button to the window.\n",
       "    var buttongrp = $('<div class=\"btn-group inline pull-right\"></div>');\n",
       "    var button = $('<button class=\"btn btn-mini btn-primary\" href=\"#\" title=\"Stop Interaction\"><i class=\"fa fa-power-off icon-remove icon-large\"></i></button>');\n",
       "    button.click(function (evt) { fig.handle_close(fig, {}); } );\n",
       "    button.mouseover('Stop Interaction', toolbar_mouse_event);\n",
       "    buttongrp.append(button);\n",
       "    var titlebar = this.root.find($('.ui-dialog-titlebar'));\n",
       "    titlebar.prepend(buttongrp);\n",
       "}\n",
       "\n",
       "mpl.figure.prototype._root_extra_style = function(el){\n",
       "    var fig = this\n",
       "    el.on(\"remove\", function(){\n",
       "\tfig.close_ws(fig, {});\n",
       "    });\n",
       "}\n",
       "\n",
       "mpl.figure.prototype._canvas_extra_style = function(el){\n",
       "    // this is important to make the div 'focusable\n",
       "    el.attr('tabindex', 0)\n",
       "    // reach out to IPython and tell the keyboard manager to turn it's self\n",
       "    // off when our div gets focus\n",
       "\n",
       "    // location in version 3\n",
       "    if (IPython.notebook.keyboard_manager) {\n",
       "        IPython.notebook.keyboard_manager.register_events(el);\n",
       "    }\n",
       "    else {\n",
       "        // location in version 2\n",
       "        IPython.keyboard_manager.register_events(el);\n",
       "    }\n",
       "\n",
       "}\n",
       "\n",
       "mpl.figure.prototype._key_event_extra = function(event, name) {\n",
       "    var manager = IPython.notebook.keyboard_manager;\n",
       "    if (!manager)\n",
       "        manager = IPython.keyboard_manager;\n",
       "\n",
       "    // Check for shift+enter\n",
       "    if (event.shiftKey && event.which == 13) {\n",
       "        this.canvas_div.blur();\n",
       "        // select the cell after this one\n",
       "        var index = IPython.notebook.find_cell_index(this.cell_info[0]);\n",
       "        IPython.notebook.select(index + 1);\n",
       "    }\n",
       "}\n",
       "\n",
       "mpl.figure.prototype.handle_save = function(fig, msg) {\n",
       "    fig.ondownload(fig, null);\n",
       "}\n",
       "\n",
       "\n",
       "mpl.find_output_cell = function(html_output) {\n",
       "    // Return the cell and output element which can be found *uniquely* in the notebook.\n",
       "    // Note - this is a bit hacky, but it is done because the \"notebook_saving.Notebook\"\n",
       "    // IPython event is triggered only after the cells have been serialised, which for\n",
       "    // our purposes (turning an active figure into a static one), is too late.\n",
       "    var cells = IPython.notebook.get_cells();\n",
       "    var ncells = cells.length;\n",
       "    for (var i=0; i<ncells; i++) {\n",
       "        var cell = cells[i];\n",
       "        if (cell.cell_type === 'code'){\n",
       "            for (var j=0; j<cell.output_area.outputs.length; j++) {\n",
       "                var data = cell.output_area.outputs[j];\n",
       "                if (data.data) {\n",
       "                    // IPython >= 3 moved mimebundle to data attribute of output\n",
       "                    data = data.data;\n",
       "                }\n",
       "                if (data['text/html'] == html_output) {\n",
       "                    return [cell, data, j];\n",
       "                }\n",
       "            }\n",
       "        }\n",
       "    }\n",
       "}\n",
       "\n",
       "// Register the function which deals with the matplotlib target/channel.\n",
       "// The kernel may be null if the page has been refreshed.\n",
       "if (IPython.notebook.kernel != null) {\n",
       "    IPython.notebook.kernel.comm_manager.register_target('matplotlib', mpl.mpl_figure_comm);\n",
       "}\n"
      ],
      "text/plain": [
       "<IPython.core.display.Javascript object>"
      ]
     },
     "metadata": {},
     "output_type": "display_data"
    },
    {
     "data": {
      "text/html": [
       "<img src=\"data:image/png;base64,iVBORw0KGgoAAAANSUhEUgAAAoAAAAHgCAYAAAA10dzkAAAAAXNSR0IArs4c6QAAIABJREFUeF7snQd0FUX7xp8QmqFJCz2G3gkISeiEjoKIFRQFRL7PBoqCiEpJpIuFXmyAfiJNJVZAWqhGOiFIaFJjaEIILYEk/zPrP1FI4O69c/fmzuyz53AUMu/uzO99dt8nuzuzPunp6engRgIkQAIkQAIkQAIkYBsCPjSAtsk1B0oCJEACJEACJEACBgEaQAqBBEiABEiABEiABGxGgAbQZgnncEmABEiABEiABEiABpAaIAESIAESIAESIAGbEaABtFnCOVwSIAESIAESIAESoAGkBkiABEiABEiABEjAZgRoAG2WcA6XBEiABEiABEiABGgAqQESIAESIAESIAESsBkBGkCbJZzDJQESIAESIAESIAEaQGqABEiABEiABEiABGxGgAbQZgnncEmABEiABEiABEiABpAaIAESIAESIAESIAGbEaABtFnCOVwSIAESIAESIAESoAGkBkiABEiABEiABEjAZgRoAG2WcA6XBEiABEiABEiABGgAqQESIAESIAESIAESsBkBGkCbJZzDJQESIAESIAESIAEaQGqABEiABEiABEiABGxGgAbQZgnncEmABEiABEiABEiABpAaIAESIAESIAESIAGbEaABtFnCOVwSIAESIAESIAESoAGkBkiABEiABEiABEjAZgRoAG2WcA6XBEiABEiABEiABGgAqQESIAESIAESIAESsBkBGkCbJZzDJQESIAESIAESIAEaQGqABEiABEiABEiABGxGgAbQZgnncEmABEiABEiABEiABpAaIAESIAESIAESIAGbEaABtFnCOVwSIAESIAESIAESoAGkBkiABEiABEiABEjAZgRoAG2WcA6XBEiABEiABEiABGgAqQESIAESIAESIAESsBkBGkCbJZzDJQESIAESIAESIAEaQGqABEiABEiABEiABGxGgAbQZgnncEmABEiABEiABEiABpAaIAESIAESIAESIAGbEaABtFnCOVwSIAESIAESIAESoAGkBkiABEiABEiABEjAZgRoAG2WcA6XBEiABEiABEiABGgAqQESIAESIAESIAESsBkBGkCbJZzDJQESIAESIAESIAEaQGqABEiABEiABEiABGxGgAbQZgnncEmABEiABEiABEiABpAaIAESIAESIAESIAGbEaABtFnCOVwSIAESIAESIAESoAGkBkiABEiABEiABEjAZgRoAG2WcA6XBEiABEiABEiABGgAqQESIAESIAESIAESsBkBGkCbJZzDJQESIAESIAESIAEaQGqABEiABEiABEiABGxGgAbQZgnncEmABEiABEiABEiABpAaIAESIAESIAESIAGbEaABtFnCOVwSIAESIAESIAESoAGkBkiABEiABEiABEjAZgRoAG2WcA6XBEiABEiABEiABJQygNOnT8fEiRORkJCAoKAgTJ06FSEhIQ6zuGDBAjzxxBN48MEHsXTp0sz26enpGDlyJD7++GNcuHABzZo1w8yZM1G1alWH+2QDEiABEiABEiABElCVgDIGcOHChejVqxdmzZqF0NBQTJo0CYsXL0ZcXBz8/f1vy//IkSNo3rw5KlWqhGLFit1kACdMmIBx48Zh3rx5qFixIoYPH46YmBjs3bsX+fPnd5jTtLQ0xMfHo1ChQvDx8XHYng1IgARIgARIgARynoC4AZSUlISyZcsiV65cOd+hHOiBMgZQmL7g4GBMmzbNwCTMV4UKFTBgwAAMHTo0W3Spqalo2bIl+vbti/Xr1xt3+TLuAIrki8QPGjQIgwcPNuITExNRqlQpzJ07Fz169HCYjhMnThh94EYCJEACJEACJKAegePHj6N8+fLqddwNPVbCAKakpMDPzw9LlixBt27dMofdu3dvw9RFRkZmi0I83t29eze+/fZb9OnT5yYDePjwYVSuXBk7duxA/fr1M+NbtWpl/H3y5MkO8QrDePfdd0MIqHDhwg7bswEJkAAJkAAJkEDOE7h48aJxA0d4iCJFiuR8h3KgB0oYQPGYtVy5cti0aROaNGmSiWnIkCGIiopCdHR0FnQbNmww7uLt3LkTJUqUyGIAxb7EO39i32XKlMmMf/zxx43HueKR861bcnIyxJ+MLUNAwgjSAOaAenlIEiABEiABEnCBgKjfwvjZuX5raQDFc/169ephxowZuO+++wxp3HoH0BUDGB4ejoiIiCxSs7OAXDjvGEICJEACJEACOUqABhBQwgA6+whY3PVr0KABfH19MwUm3hkUm3jZU0wcEXf5nH0EzDuAOXq+8uAkQAIkQAIk4BYCNICKGECRbTEJRCz5IpZ+EZswdAEBAejfv3+WSSDXrl3DwYMHbxLJsGHDjBk/4t2+atWqIU+ePMYkEDEBREwEEZsQhJhRbHYSCAXklvOQOyEBEiABEiABjxJg/VbIAIp38sSkj9mzZxtGUCwDs2jRIuzbt8+YuSuWiBHvCYplXbLbbn0ELNqIZWDGjx9/0zIwYtKI2WVgKCCPnq88GAmQAAmQAAm4hQDrt0IGUGRcLAGTsRC0mKk7ZcoU486g2MLCwhAYGGjcvTNrADMWgv7oo4+MmUBivUDx3qC4Q2hmo4DMUGIbEiABEiABEvAuAqzfihlA75LP34+M7T6LyNtywv6QAAmQAAmQgCMCrN80gI40csefU0BS+BhMAiRAAiRAAjlCgPWbBlBKeBSQFD4GkwAJkAAJkECOEGD9pgGUEh4FJIWPwSRAAiRAAiSQIwRYv2kApYRHAUnhYzAJkAAJkAAJ5AgB1m8aQCnhUUBS+BhMAiRAAiRAAjlCgPWbBlBKeBSQFD4GkwAJkAAJkECOEGD9pgGUEh4FJIWPwSRAAiRAAiSQIwRYv2kApYRHAUnhYzAJmCYwfc1BHP/rCsY8VBe+uXxMx7EhCZAACWRHgPWbBlDqzKCApPAxWEMCgUN/VHJUR8Z3VrLf7DQJkIBrBFi/aQBdU87/R1FAUvgYrCEBGkANk8ohkYCGBFi/aQClZE0BSeFjsIYEaAA1TCqHRAIaEmD9pgGUkjUFJIWPwRoSoAHUMKkcEgloSID1mwZQStYUkBQ+BmtIgAZQw6RySCSgIQHWbxpAKVlTQFL4GKwhARpADZPKIZGAhgRYv2kApWRNAUnhY7CGBGgANUwqh0QCGhJg/aYBlJI1BSSFj8EaEqAB1DCpHBIJaEiA9ZsGUErWFJAUPgZrSIAGUMOkckgkoCEB1m8aQClZU0BS+BisIQEaQA2TyiGRgIYEWL9pAKVkTQFJ4WOwhgRoADVMKodEAhoSYP2mAZSSNQUkhY/BGhKgAdQwqRwSCWhIgPWbBlBK1hSQFD4Ga0iABlDDpHJIJKAhAdZvGkApWVNAUvgYrCEBGkANk8ohkYCGBFi/aQClZE0BSeFjsIYEaAA1TCqHRAIaEmD9pgGUkjUFJIWPwRoSoAHUMKkcEgloSID1mwZQStYUkBQ+BmtIgAZQw6RySCSgIQHWbxpAKVlTQFL4GKwhARpADZPKIZGAhgRYv2kApWRNAUnhY7CGBGgANUwqh0QCGhJg/aYBlJI1BSSFj8EaEqAB1DCpHBIJaEiA9ZsGUErWFJAUPgZrSIAGUMOkckgkoCEB1m8aQClZU0BS+BisIQEaQA2TyiGRgIYEWL9pAKVkTQFJ4WOwhgRoADVMKodEAhoSYP2mAZSSNQUkhY/BGhKgAdQwqRwSCWhIgPWbBlBK1hSQFD4Ga0iABlDDpHJIJKAhAdZvGkApWVNAUvgYrCEBGkANk8ohkYCGBFi/aQClZE0BSeFjsIYEaAA1TCqHRAIaEmD9VswATp8+HRMnTkRCQgKCgoIwdepUhISEZCvNb775BmPHjsXBgwdx/fp1VK1aFYMGDcLTTz+d2b5Pnz6YN2/eTfEdO3bEsmXLTMmdAjKFiY1sRIAG0EbJ5lBJQGECrN8KGcCFCxeiV69emDVrFkJDQzFp0iQsXrwYcXFx8Pf3zyLDtWvX4vz586hRowby5s2LH374wTCAP/74I4TJE5swgKdOncKcOXMy4/Ply4eiRYuakjUFZAoTG9mIAA2gjZLNoZKAwgRYvxUygML0BQcHY9q0aYbk0tLSUKFCBQwYMABDhw41JcN7770XnTt3xqhRozIN4IULF7B06VJT8bc2ooBcwsYgjQnQAGqcXA6NBDQiwPqtiAFMSUmBn58flixZgm7dumVKsHfv3hAGLjIy8o6yTE9Px+rVq9G1a1fD7LVv3z7TAIq/izuE4q5fmzZtMHr0aBQvXjzb/SUnJ0P8ydiEgIQJTUxMROHChTU6NTgUEnCNAA2ga9wYRQIk4FkCNICKGMD4+HiUK1cOmzZtQpMmTTJVMmTIEERFRSE6Ojpb5QhjJuKEafP19cWMGTPQt2/fzLYLFiwwjGXFihVx6NAhvPXWWyhYsCA2b95stL91Cw8PR0RERJZ/pwH07InLo3kvARpA780Ne0YCJPAPARpAzQ2geEx8+PBhXLp0CatWrTIe/Yo7fmFhYdmeB6Jt5cqVsXLlSrRt2zZLG94B5OWDBO5MgAaQCiEBElCBAA2gIgZQ9hFwhhj79euH48ePY/ny5bfVZ8mSJY3HwM8995xDDVNADhGxgc0I0ADaLOEcLgkoSoD1WxEDKPQlJoGIJV/E0i9iE3f3AgIC0L9/f9OTQMTjX3GXT8wQzm47ceKEsU9xl1C8L+hoo4AcEeLP7UaABtBuGed4SUBNAqzfChlAsQyMmPQxe/ZswwiKZWAWLVqEffv2oVSpUsYSMeJ9v3HjxhlqFP9t1KiR8UhXPLr96aefDKM4c+ZMiDuB4rGweJ/vkUceQenSpY13AMU7hUlJSYiJiYFYDsbRRgE5IsSf240ADaDdMs7xkoCaBFi/FTKAQmJiCZiMhaDr16+PKVOmGHcGxSbe6wsMDMTcuXONvw8bNgzCNIq7enfddZexHuArr7yC7t27Gz+/evWqMaN4x44dxkzismXLokOHDsZ7gsJQmtkoIDOU2MZOBGgA7ZRtjpUE1CXA+q2YAfQ2qVFA3pYR9ienCdAA5nQGeHwSIAEzBFi/aQDN6OS2bSggKXwM1pAADaCGSeWQSEBDAqzfNIBSsqaApPAxWEMCNIAaJpVDIgENCbB+0wBKyZoCksLHYA0J0ABqmFQOiQQ0JMD6TQMoJWsKSAofgzUkQAOoYVI5JBLQkADrNw2glKwpICl8DNaQAA2ghknlkEhAQwKs3zSAUrKmgKTwMVhDAjSAGiaVQyIBDQmwftMASsmaApLCx2ANCdAAaphUDokENCTA+k0DKCVrCkgKH4M1JEADqGFSOSQS0JAA6zcNoJSsKSApfAzWkAANoIZJ5ZBIQEMCrN80gFKypoCk8DFYQwI0gBomlUMiAQ0JsH7TAErJmgKSwsdgDQnQAGqYVA6JBDQkwPpNAyglawpICh+DNSRAA6hhUjkkEtCQAOs3DaCUrCkgKXwM1pAADaCGSeWQSEBDAqzfNIBSsqaApPAxWEMCNIAaJpVDIgENCbB+0wBKyZoCksLHYA0J0ABqmFQOiQQ0JMD6TQMoJWsKSAofgzUkQAOoYVI5JBLQkADrNw2glKwpICl8DNaQAA2ghknlkEhAQwKs3zSAUrKmgKTwMVhDAjSAGiaVQyIBDQmwftMASsmaApLCx2ANCdAAaphUDokENCTA+k0DKCVrCkgKH4M1JEADqGFSOSQS0JAA6zcNoJSsKSApfAzWkAANoIZJ5ZBIQEMCrN80gFKypoCk8DFYQwI0gBomlUMiAQ0JsH7TAErJmgKSwsdgDQnQAGqYVA6JBDQkwPpNAyglawpICh+DNSRAA6hhUjkkEtCQAOs3DaCUrCkgKXwM1pAADaCGSeWQSEBDAqzfNIBSsqaApPAxWEMCNIAaJpVDIgENCbB+0wBKyZoCksLHYA0J0ABqmFQOiQQ0JMD6TQMoJWsKSAofgzUkQAOoYVI5JBLQkADrNw2glKwpICl8DNaQAA2ghknlkEhAQwKs3zSAUrKmgKTwMVhDAjSAGiaVQyIBDQmwftMASsmaApLCx2ANCdAAaphUDokENCTA+k0DKCVrCkgKH4M1JEADqGFSOSQS0JAA6zcNoJSsKSApfAzWkAANoIZJ5ZBIQEMCrN80gFKypoCk8DFYQwI0gBomlUMiAQ0JsH7TAErJmgKSwsdgDQnQAGqYVA6JBDQkwPqtmAGcPn06Jk6ciISEBAQFBWHq1KkICQnJVprffPMNxo4di4MHD+L69euoWrUqBg0ahKeffjqzfXp6OkaOHImPP/4YFy5cQLNmzTBz5kyjrZmNAjJDiW3sRIAG0E7Z5lhJQF0CrN8KGcCFCxeiV69emDVrFkJDQzFp0iQsXrwYcXFx8Pf3z6LCtWvX4vz586hRowby5s2LH374wTCAP/74Izp27Gi0nzBhAsaNG4d58+ahYsWKGD58OGJiYrB3717kz5/fobIpIIeI2MBmBGgAbZZwDpcEFCXA+q2QARSmLzg4GNOmTTPklpaWhgoVKmDAgAEYOnSoKQnee++96Ny5M0aNGgVx969s2bKGKRw8eLARn5iYiFKlSmHu3Lno0aOHw31SQA4RsYHNCNAA2izhHC4JKEqA9VsRA5iSkgI/Pz8sWbIE3bp1y5Rb7969jUe3kZGRd5SgMHurV69G165dsXTpUrRv3x6HDx9G5cqVsWPHDtSvXz8zvlWrVsbfJ0+enGWfycnJEH8yNiEgYUKFcSxcuLCipwG7TQLuI0AD6D6W3BMJkIB1BGgAFTGA8fHxKFeuHDZt2oQmTZpkKmLIkCGIiopCdHR0tioRxkzECdPm6+uLGTNmoG/fvkZbsS/xzp/Yd5kyZTLjH3/8cfj4+EA8cr51Cw8PR0RERJZ/pwG07iTlntUiQAOoVr7YWxKwKwEaQM0NoHhMLO70Xbp0CatWrTIe/Yo7gGFhYS4ZQN4BtOulguM2S4AG0CwptiMBEshJAjSAihhA2UfAGSLr168fjh8/juXLl7v0CPhWsVJAOXn68tjeSIAG0Buzwj6RAAmwfmfVgE+6eEFOgU1MAhFLvoilX8Qm7u4FBASgf//+pieBiMe/4o6gmCGcMQlETAARE0HEJgydmFHMSSAKCIJd9EoCNIBemRZ2igRI4BYCvIGjyB1AkTfxTp6Y9DF79mzDCIplYBYtWoR9+/YZM3fFEjHifT+xrIvYxH8bNWpkTPQQj25/+uknwyiKdf7EnUCxiWVgxo8ff9MyMLt37+YyMLxUkICLBGgAXQTHMBIgAY8SoAFUyAAKZYglYDIWghYzdadMmWKsCSg28V5fYGCgcfdObMOGDTNM44kTJ3DXXXcZ6wG+8sor6N69e6bIMhaC/uijj4zZxM2bNzcmilSrVs2UECkgU5jYyEYEaABtlGwOlQQUJsD6rZgB9DatUUDelhH2J6cJ0ADmdAZ4fBIgATMEWL9pAM3o5LZtKCApfAzWkAANoIZJ5ZBIQEMCrN80gFKypoCk8DFYQwI0gBomlUMiAQ0JsH7TAErJmgKSwsdgDQnQAGqYVA6JBDQkwPpNAyglawpICh+DNSRAA6hhUjkkEtCQAOs3DaCUrCkgKXwM1pAADaCGSeWQSEBDAqzfNIBSsqaApPAxWEMCNIAaJpVDIgENCbB+0wBKyZoCksLHYA0J0ABqmFQOiQQ0JMD6TQMoJWsKSAofgzUkQAOoYVI5JBLQkADrNw2glKwpICl8DNaQAA2ghknlkEhAQwKs3zSAUrKmgKTwMVhDAjSAGiaVQyIBDQmwftMASsmaApLCx2ANCdAAaphUDokENCTA+k0DKCVrCkgKH4M1JEADqGFSOSQS0JAA6zcNoJSsKSApfAzWkAANoIZJ5ZBIQEMCrN80gFKypoCk8DFYQwI0gBomlUMiAQ0JsH7TAErJmgKSwsdgDQnQAGqYVA6JBDQkwPpNAyglawpICh+DNSRAA6hhUjkkEtCQAOs3DaCUrCkgKXwM1pAADaCGSeWQSEBDAqzfNIBSsqaApPAxWEMCNIAaJpVDIgENCbB+0wBKyZoCksLHYA0J0ABqmFQOiQQ0JMD6TQMoJWsKSAofgzUkQAOoYVI5JBLQkADrNw2glKwpICl8DNaQAA2ghknlkEhAQwKs3zSAUrKmgKTwMVhDAjSAGiaVQyIBDQmwftMASsmaApLCx2ANCdAAaphUDokENCTA+k0DKCVrCkgKH4M1JEADqGFSOSQS0JAA6zcNoJSsKSApfAzWkAANoIZJ5ZBIQEMCrN80gFKypoCk8DFYQwI0gBomlUMiAQ0JsH7TAErJmgKSwsdgDQnQAGqYVA6JBDQkwPpNAyglawpICh+DNSRAA6hhUjkkEtCQAOs3DaCUrCkgKXwM1pAADaCGSeWQSEBDAqzfNIBSsqaApPAxWDMC11PTUPXtn5Uc1ZHxnZXsNztNAiTgGgHWbxpA15Tz/1EUkBQ+BmtG4Pc/L+K+yeuVHBUNoJJpY6dJwGUCrN80gC6LRwRSQFL4GKwZgcVbj+P1JbuVHBUNoJJpY6dJwGUCrN80gC6LhwZQCh2DNSQQ/l0s5m46ouTIaACVTBs7TQIuE6ABpAF0WTw0gFLoGKwhgUdnbsLWo+eVHBkNoJJpY6dJwGUCNIA0gC6LhwZQCh2DNSOQlpaOOuHLcSUlVcmR0QAqmTZ2mgRcJkADqJgBnD59OiZOnIiEhAQEBQVh6tSpCAkJyVYAH3/8MT7//HPs2bPH+HnDhg0xduzYm9r36dMH8+bNuym+Y8eOWLZsmSlRUUCmMLGRDQgcOnMJbd+PUnakNIDKpo4dJwGXCLB+K2QAFy5ciF69emHWrFkIDQ3FpEmTsHjxYsTFxcHf3z+LAHr27IlmzZqhadOmyJ8/PyZMmIBvv/0WsbGxKFeunNFeGMBTp05hzpw5mfH58uVD0aJFTQmKAjKFiY1sQCBy50m8smCnsiOlAVQ2dew4CbhEgPVbIQMoTF9wcDCmTZtmJDstLQ0VKlTAgAEDMHToUIcCSE1NNYydiBdGMsMAXrhwAUuXLnUYn10DCsglbAzSkMDYn37HR+sOKzsyGkBlU8eOk4BLBFi/FTGAKSkp8PPzw5IlS9CtW7fMZPfu3RvCwEVGRjoUQFJSknGnUNw17NKlS6YBFOYvb968hjls06YNRo8ejeLFi2e7v+TkZIg/GZsQkDChiYmJKFy4sMM+sAEJ6Eqg5ye/YuPBc8oOjwZQ2dSx4yTgEgEaQEUMYHx8vPHYdtOmTWjSpElmsocMGYKoqChER0c7FMCLL76I5cuXG4+AxSNhsS1YsMAwlhUrVsShQ4fw1ltvoWDBgti8eTN8fX2z7DM8PBwRERFZ/p0G0CF+NtCYQHp6Ouq/8wsSr15XdpRbh7VDiYL5lO0/O04CJOAcARpAmxjA8ePH491338XatWtRr16926rk8OHDqFy5MlauXIm2bdtmacc7gM6dYGxtDwLH/7qCFu+uQR5fH1xPTVdy0F/2C0WzKiWU7Ds7TQIk4DwBGkBFDKDMI+D33nvPeKwrTF2jRo0cqqRkyZJG++eee85hWwrIISI2sAGBZXv+xPP/247aZQsjNv6ikiMe1rkm+rWopGTf2WkSIAHnCbB+K2IARWrFJBCx5ItY+kVsYhJIQEAA+vfvf9tJIOKu35gxY4xHv40bN3aokBMnThj7FO8Fdu3a1WF7CsghIjawAYH3V8Rh6uqD6N6oAhZuPa7kiB9rWB4THwtSsu/sNAmQgPMEWL8VMoBiGRgx6WP27NmGERTLwCxatAj79u1DqVKljJm94j3BcePGGUoQy76MGDEC8+fPN5aDydjEO37iz6VLl4z3+R555BGULl3aeAdQvFMoJovExMRALAfjaKOAHBHiz+1A4Jk5v2FN3BmMerA2hkfGKjnkuuWK4PsBzZXsOztNAiTgPAHWb4UMoEivWMIlYyHo+vXrY8qUKcadQbGFhYUhMDAQc+fONf4u/v/o0aNZVDFy5EiIyRxXr141ZhTv2LHDmElctmxZdOjQAaNGjTIMpZmNAjJDiW10JxA8ZiXOJCXj6xea4pGZm5Qcbr7cubD3nU7wzeWjZP/ZaRIgAecIsH4rZgCdS6/1rSkg6xnzCN5N4PTFawgZuwrCN+2J6IhaI5Z7d4fv0LtVg1qhcsmCyvafHScBEjBPgPWbBtC8WrJpSQFJ4WOwBgTW7DuNZ+ZuQVX/gvjltVYIHPqjsqOa/uS96FyvjLL9Z8dJgATME2D9pgE0rxYaQClWDNaTwNRVB/D+L/vxUINy+LB7faUN4MttquC1DtX1TBRHRQIkcBMBGkAaQKlTggKSwsdgDQg898VWLI89hYxlVFS+A9i+Vil83MvxUlEapI1DIAHbE2D9pgGUOgkoICl8DNaAQLPxq3HywlV89Z/GaFK5uNJ3AAOK+WHdkNYaZIVDIAEScESA9ZsG0JFG7vhzCkgKH4MVJ3DhSorxCTix7RrZAUXuyqO0ARTjEBNZCubLrXhm2H0SIAFHBFi/aQAdaYQGUIoQg3UmsPHgWfT8JBr3FPdD1Ot/3zlT9RGwf6F8OJ2UjG9ebIp7A4rqnDaOjQRIAAANIA2g1IlAAUnhY7DiBGZHHcK4n/ehc90ymN7zXqUNYMtqJbFu/xmMfagungwNUDwz7D4JkIAjAqzfNICONMI7gFKEGKwzgQFf7cD3u+LxesfqeKl1FaUN4H9bVsJH6w6jd5N7EPFgHZ3TxrGRAAnwDqChAZ/09PR0qsE1AvwNwjVujNKDQJv31+LwmcuY1zcEraqVVNoAfvB4EF5btAshFYth0XNN9EgQR0ECJHBbAqzfNIBSpwcFJIWPwQoTuJR8A3XDl0P8+rh1WDuUKPj3t7NVfQfwx5ebo/OUDcZElp0j2sPHh5+EU1ie7DoJOCTA+k0D6FAkd2pAAUnhY7DCBLYc+QuPzdqMMkXyY/ObbTNHoqoBjBvdyfiMXWpglWw4AAAgAElEQVRaOja/2QZlitylcHbYdRIgAUcEWL9pAB1p5I4/p4Ck8DFYYQJzNv6BiO/3ol1Nf3zSO1h5A3hkfGd0+DAK+09dwpw+wWhdw1/h7LDrJEACjgiwftMAOtIIDaAUIQbrSmDw4l1Ysu0EXmlbFa+2r6aFAcyY1PJGpxp4IayyrqnjuEiABDgJxNAAJ4FInAr8DUICHkOVJtBp0jrsS0gyPp0mPqGWsan6CFjcAZy+5iAmLo/Dg/XLYnKPBkrnh50nARK4MwHWbxpAqXOEApLCx2BFCVy7noraI7N/X05lA7jq91N4dt5W1ChdCMsGtlQ0O+w2CZCAGQKs3zSAZnRy2zYUkBQ+BitKYNfxC3hw+kYUK5AX24a1u2nGrMoGUHzTWHzbOHcuH+x9pxPy5s6laIbYbRIgAUcEWL9pAB1p5I4/p4Ck8DFYUQLzo4/hrW9j0KJqCXzxbOhNo1DZAIolUetFrEDStRtYNrAFapQurGiG2G0SIAFHBFi/aQAdaYQGUIoQg3UkIMyfMIFiooSYMPHvTWUDKMbx2KxN2HLkPCZ1r49uDcrpmD6OiQRIgJNADA1wEojEqcDfICTgMVRZAg9O24BdJxIx/cl70bleGa0M4LClMfjfr8fwfKvKGHrfzeZW2YSx4yRAAlkIsH7TAEqdFhSQFD4GK0jgemqaMQEk5UYa1g4OQ2CJAloZwP/9ehTDlu5BWPWSmPtMiIIZYpdJgATMEGD9pgE0o5PbtqGApPAxWEEC+xIuotOk9SiULzd2jeyAXLlu/mSa6o+Atx75C49m84UTBVPFLpMACdyBAOs3DaDUCUIBSeFjsIIExOLPYhHo0IrFsPC5JllGoLoBvHjtOuqFrzDGtWtEBxTxy6NglthlEiABRwRYv2kAHWnkjj+ngKTwMVhBAuHfxWLupiN4tnlFDO9SSzsDKAYkloIRS8Is/G9jhFYqrmCW2GUSIAFHBFi/aQAdaYQGUIoQg3UjkDFL9oPHg/DwveW1NID95m3Byt9PI6JrbfRuGqhbCjkeEiABzgI2NMBZwBKnAn+DkIDHUOUIpKWlo274clxOScWKV1uiWqlCWhrA95bHYdqag3giJADjHq6rXJ7YYRIgAccEWL9pAB2r5A4tKCApfAxWjMDhM5fQ5v0o5M+TC3vCOyK3b9YvZaj+DqBIyfe74jHgqx1oEHA3vn2xmWJZYndJgATMEGD9pgE0o5PbtqGApPAxWDEC3+2Kx8sOjJEOBvDg6SS0+2Ad/PL6Gkb31pnOiqWN3SUBEsiGAOs3DaDUiUEBSeFjsGIExv30O2avO4ynGgdgdLfsH43qYABvpKah1v+vdbju9dYIKO6nWKbYXRIgAUcEWL9pAB1p5I4/p4Ck8DFYMQJPfRKNDQfPYvzDddEjJCDb3utgAMXAOk9Zj9j4i5j9dEN0rF1asUyxuyRAAo4IsH7TADrSCA2gFCEG60IgPT0dDUb9ggtXruOHAc1Rp1wRrQ3ga4t24pvtJ/Fa+2p4uW1VXdLIcZAACfw/ARpAGkCpk4ECksLHYIUInDh/Bc0nrEEeXx/sieiIfLl9tTaAH687jDE//Y7765bGjJ4NFcoUu0oCJGCGAOs3DaAZndy2DQUkhY/BChFYticBz/9vG2qVKYyfXmlx257r8gh43f4z6PXZb6hUsgBWDwpTKFPsKgmQgBkCrN80gGZ0QgMoRYnBOhD4YEUcpqw+iMcblce7jwZpbwBPJ11DyJhVEJ863vtOJ+TPk/0dTx1yyzGQgB0J0ADSAErpngKSwsdghQj0nbsFq/edxjsP1kavJrf/OoYudwDFO48NR6/EX5dT8H3/5qhbPvt3HhVKIbtKAiTwLwKs34oZwOnTp2PixIlISEhAUFAQpk6dipCQkGxF/fHHH+Pzzz/Hnj17jJ83bNgQY8eOvam9uMiPHDkSou2FCxfQrFkzzJw5E1WrmnvpmwLi9cQuBELGrMTppGR8/UJTNLynqPZ3AMUAn/z4V2w6dA7vPloPjzeqYJdUc5wkYAsCrN8KGcCFCxeiV69emDVrFkJDQzFp0iQsXrwYcXFx8Pf3zyLYnj17GoauadOmyJ8/PyZMmIBvv/0WsbGxKFeunNFe/Nu4ceMwb948VKxYEcOHD0dMTAz27t1rxDjaKCBHhPhzHQhkPA718QFiIzrCL29uWxjAiO9jMWfjETzbvCKGd6mlQyo5BhIggf8nwPqtkAEUpi84OBjTpk0z0peWloYKFSpgwIABGDp0qENRp6amomjRoka8MJLi7l/ZsmUxaNAgDB482IhPTExEqVKlMHfuXPTo0cPhPikgh4jYQAMCa+JO45k5W1DFvyBWvtbqjiPS5RGwGOSiLccx5OvdaFalOL7s11iDTHIIJEACGQRYvxUxgCkpKfDz88OSJUvQrVu3TAX37t3beHQbGRnpUNVJSUnGnUJx17BLly44fPgwKleujB07dqB+/fqZ8a1atTL+PnnyZIf7pIAcImIDDQhMW30A763Yj271y2JSjwa2MYC7T1xA12kbUaJgXmwd1l6DTHIIJEACNID/aMAnXdwK8/ItPj7eeGy7adMmNGnSJLO3Q4YMQVRUFKKjox2O4MUXX8Ty5cuNR8Di8a7Yl3hELPZdpkyZzPjHH38cPj4+EI+cb92Sk5Mh/vxbQOIupLhzWLhwYYd9YAMSUJHA819sw7LYBAzrXBP9WlSyjQG8mpKKWiOXQVwht7zdDiUL5VMxfewzCZBANgR4A0eRO4CyBnD8+PF49913sXbtWtSrV8+QgisGMDw8HBEREVmkRAPI64vOBJpPWI0T569i/n9C0bRyCdsYQDHQNu+txeGzl/HFsyFoUbWkzmnm2EjAVgRoABUxgDKPgN977z2MHj0aK1euRKNGjTIF7sojYN4BtNX1gYMV78VeuY6gd1YYLHaN7IAid+WxlQF84X/b8PMec3c/KRgSIAF1CNAAKmIAhaTEJBCx5ItY+kVsYhJIQEAA+vfvf9tJIOKu35gxY4xHv40b3/wSd8YkEDEBREwEEZsQhHhPkJNA1DmJ2VNrCWw6eBZPfhKNgGJ+WDektcOD6TQJRAx28soD+HDlfjxyb3m8//jtF8B2CIYNSIAEvIoADaBCBlC8kycmfcyePdswgmIZmEWLFmHfvn3GzF0xs1e8JyiWdRGbWOJlxIgRmD9/vvGuX8ZWsGBBiD8ZbcTj4X8vA7N7924uA+NVpyk7k5MEPlp3CGN/2mf6m7i6GcCMT+DVKVcYPwy4/SfwcjJHPDYJkIDzBGgAFTKAIr1iCZeMhaDFTN0pU6YYdwbFFhYWhsDAQOPundjE/x89ejSLKsTCz+JdPrFlLAT90UcfGbOJmzdvjhkzZqBatWqm1EQBmcLERgoTePmrHfhuVzxe71gdL7Wu4nAkuhnAo+cuo9XEtcibOxf2RnREbt9cDhmwAQmQgPcTYP1WzAB6m6QoIG/LCPvjbgJt31+LQ2cuY+4zwQirnnXB9VuPp5sBTEtLR53w5biSkmqsgSjWQuRGAiSgPgHWbxpAKRVTQFL4GOzlBC4n3zDMjzPLoOhmAEWKuk3fiJ3HL2Dakw3QpV5ZL88au0cCJGCGAOs3DaAZndy2DQUkhY/BXk5g65G/8OiszShdOD9+fautqd7qaACHfr0bC7Ycx4A2VTCoQ3VTHNiIBEjAuwmwftMASimUApLCx2AvJzB34x8I/34v2tbwx6d9gk31VkcDmMGhXc1S+KT3P0tJmQLCRiRAAl5JgPWbBlBKmBSQFD4GezmB1xfvwuJtJ/By26p4rb25iVE6GsDNh87hiY9/RYVid2H9kDZenjV2jwRIwAwB1m8aQDM64SNgKUoMVpXAfZPX4/c/L+KjpxuiQ+3SpoahowE8fzkFDUb9Yox/T0RHFMyX2xQLNiIBEvBeAjSANIBS6qSApPAx2IsJXLueijojl+NGWjo2DW2DsnffZaq3OhpAMfDGY1ch4eI1fP1CUzS8p6gpFmxEAnYhcPyvK6hQzE+p4bJ+0wBKCZYCksLHYC8msPvEBXSdthFF/fJg+/D28PHxMdVbXQ1g789+Q9T+MxjzUB30DL3HFAs2IgHdCZxOuoYJP8dh6c6TiHypGeqUK6LMkFm/aQClxEoBSeFjsBcT+Oq3Y3jzmxi0qFoCXzz792LrZjZdDeC4n3/H7KjDeLrxPRjVrY4ZFGxDAl5FQNdz01XIrN80gK5qx4ijgKTwMdiLCbz9bQy+jD6G51tVxtD7apjuqa5F5tsdJ/Dqwl0ICSyGRc83Mc2DDUnAWwjoem66ypf1mwbQVe3QAEqRY7C3E3hw+kbscmHxY12LjJgMIybFFMqfG7tHdjD9SNzb88z+2YeAruemqxmkAaQBdFU7NIBS5BjszQRupKah9sjlSL6RhjWDw1CxRAHT3dW1yKTcSEOtEcucnhRjGhwbkoDFBHQ9N13FRgNIA+iqdmgApcgx2JsJxCUkoeOkdcZyJ+JuV65c5iaAiDHpXGQ6frgOcaeS8FmfRmhTo5Q3p5B9I4EsBHQ+N11JNw0gDaArusmMoYCk8DHYSwl8ve0EBi3ehZCKxbDoOefed9O5yLz81Q58tyseQzpVx4thVbw0e+wWCWRPQOdz05Wcs37TALqiGxpAKWoM9nYCEd/HYs7GI+jbrCJGPFDLqe7qXGRmrD2Id5fFoWtQWUx5ooFTXNiYBHKagM7npitsaQBpAF3RDQ2gFDUGezuBx2dtxm9H/sL7jwXhkYblnequzkVm9b5T6Dt3K6qXKoTlr7Z0igsbk0BOE9D53HSFLQ0gDaAruqEBlKLGYG8mkJaWjnoRK3Ap+QaWD2yJ6qULOdVdnYtM/IWraDp+NXLn8sHedzohb+5cTrFhYxLISQI6n5uucKUBpAF0RTc0gFLUGOzNBP44exmt31uLfLlzITaiI3L7OmdydC4y6el/m+Okazfw8ystULNMYW9OJftGAjcR0PncdCXVNIA0gK7ohgZQihqDvZnA97viMeCrHahf4W4sfamZ013VvchkPB7/sHsQHmrg3ONxp2EygATcSED3c9NZVDSANIDOauam9hSQFD4GeyGBjE+e9QwNwJiH6jrdQ92LzIjIPfh881E816oS3ryvptN8GEACOUVA93PTWa6s3zSAzmqGBlCKGIO9ncDTn0Zj/YGzGPdwXTwREuB0d3UvMl9GH8Xb3+5Bq2olMa9viNN8GEACOUHg3KVkNBy9MicOLX3MI+M7S+8jux3QANIASgmLApLCx2AvIyDecbt31C84f+U6vu/fHHXLF3G6h7obwG1Hz+ORmZtQqnA+RL/Vzmk+DCABTxIQX/UR3/R+f0UcLl674clDu+1YNIBuQ5llRz7p4qrPzSUCNIAuYWOQlxI4eeEqmv3/LNfYdzoiX25fp3uquwEUs6PrjFxucNkxvD2KFsjrNCMGkIAnCPz2x18QryzsS0jyxOEsOwYNoGVoQQMowZYGUAIeQ72OwPLYBDz3xTZjdquY5erKprsBFExavLsax/+6iq/+0xhNKhd3BRNjSMAyAgmJ1yDe5Y3cGW8co8hdeTC4Y3UMX7rHsmNauWMaQOvo0gBKsKUBlIDHUK8j8MEv+zFl1QE81rA8Jj4W5FL/7GAA+83bipW/n0L4A7XQp1lFlzgxiATcTSDlRho+2/iHcQ5fSUmFjw+M93gHd6iOYgXyav2dbldYsn7zHUBXdJMZQwFJ4WOwlxF4du4WrNp3GhFda6N300CXemcHAyjep5q6+iB6BFfA+EfqucSJQSTgTgJR+88g4rtYHD572djtvQF3450H66BOuX/e47XDuekMU9ZvGkBn9JKlLQUkhY/BXkYgdOxKnLqYjK9faIKG9xRzqXd2KDI/7I5H//mur5XoElgGkUA2BI7/dQXv/LAXv+w9Zfy0RMF8ePO+GnioQTnkyuVzU4Qdzk1nRML6TQPojF5oAKVoMdibCZxJSkbwmJXGYyPxBRC/vLld6q4diszB05fQ7oMo+OX1xZ7wjlkKrUvgGEQCThC4mpKKmVGHMCvqEMSjX/F5wj5NA/Fyu6oonD9Ptnuyw7npBELQANIAOqMXGkApWgz2ZgJr406jz5wtqFyyAFYNCnO5q3YoMmJpjVojlxuFN+r1MNxTvIDLvBhIAs4QEIt2iMlao374HWLWvtiaVSmO8Adqo2qpO3+32w7npjMsaQBpAJ3RCw2gFC0GezOB6WsOYuLyODxYvywm92jgclftUmS6TF2PPScvYtZTDdGpTmmXeTGQBMwSEHeeI76PNRZqF1vZIvkxrEst3FenNHzErXsHm13OTUccMn5OA0gDaFYr2bajgKTwMdiLCLzwv234eU8C3r6/Jv7TspLLPbNLkRm0aBe+3n4Cr7arhlfaVXWZFwNJwBGBpGvXjUlHn234AzfS0pE3dy4837ISXgirgrvyml+r0y7npiOeNID/EOIyMGbVkk07GkAJeAz1KgIZa9vN/08omlYu4XLf7FJkPll/GKN//N24+zLzqYYu82IgCdyOgHjcu3TnSYz9aR/EO7pia1ezFEZ0qYWA4n5Og7PLuWkWDOs37wCa1QrvAEqRYrA3E0i8ch1B76wwurhrRAcU8cv+JXIzY7BLkdlw4Cye+jQalUoUwOrBrr8zaYYp29iPQGx8IkZGxmLr0fPG4CuWKIARD9RC6+r+LsOwy7lpFhANIA2gWa3QAEqRYrA3E9h06Cye/DgaFYrdhfVD2kh11S5F5t+zpvdGdHLqUZwUYAZrTeDClRS8v2I/vow+irR04K48vhjQtgqebV7RpU8z/huWXc5NswKhAaQBNKsVGkApUgz2ZgIfrzuMMT+553GmnYpMo9G/4OylFES+1AxBFe725hSzb15OIDUtHQu2HMN7y+Nw/sp1o7cPBJXFW/fXQJkid7ml93Y6N80AowGkATSjk9u2oYCk8DHYSwi8smCH8d3Q1ztWx0utq0j1yk5Fpucnv2LjwXN495F6eDy4ghQ3BtuXwLaj5zHyuz3GrHKxVS9VCOFda7v9O9N2OjfNqIn1WyEDOH36dEycOBEJCQkICgrC1KlTERISkm2eY2NjMWLECGzbtg1Hjx7Fhx9+iIEDB97UNjw8HBERETf9W/Xq1bFv3z4z2jHaUECmUbGhFxMQixqLJSbmPBMs9Y6RGKKdisyoH/bi0w1/4JlmgRj5QG0vzjC75o0ETiddw4Sf44zZ5GIrlD83BrWvhqca34Pcvrnc3mU7nZtm4LF+K2IAFy5ciF69emHWrFkIDQ3FpEmTsHjxYsTFxcHfP+tLsVu2bMGiRYvQsGFDvPrqq3jjjTeyNYBLlizBypUrM7WSO3dulChhfgYkBWTmNGMbbyZwJeUGao9cjvR0YMvb7VCyUD6p7tqpyCzaehxDluxG08rFMf8/jaW4Mdg+BK6npmHepiOYvPIAkpJvGAPv3qgCXu9U3fiUm1Wbnc5NMwxZvxUxgML0BQcHY9q0aUZe09LSUKFCBQwYMABDhw69Y64DAwMN85fdHcClS5di586dZrSSbRsKyGV0DPQSAtuO/oVHZm5GqcL5EP1WO+le2anIxJxIxAPTNqBYgbzYNqydqcV4pQFzB0oT2HjwLMK/i8WB05eMcQSVL4KIB+ugvgfeIbXTuWlGJKzfChjAlJQU+Pn5Qdyt69atW2Zee/fujQsXLiAyMtJlAygeKRcpUgT58+dHkyZNMG7cOAQEBJjRjtGGAjKNig29lIC4EzHyu1i0reGPT/sES/fSTkXm2vVU1BqxzJit+dvbbeFfKL80P+5ATwLis21jftyLn2ISjAGKXxre6FQdjzWs4LFvSdvp3DSjItZvBQxgfHw8ypUrh02bNhkmLWMbMmQIoqKiEB0d7ZIB/Pnnn3Hp0iWI9/7+/PNP433AkydPYs+ePShUKPtvKiYnJ0P8ydiEgMSdyMTERBQuXNiM5tiGBLyKwJAlu7Bo6wm83KYKXutQXbpvdisybd5fi8NnLuPzviFoWa2kND/uQC8C4pcEsWj4tDUHce16GnL5AL2aBBpfkJFZb9MVSnY7Nx0xogG0sQG8VRzibuI999yDDz74AM8++2y22slu4ohoSAPo6FTjz72VwP2T12Pvnxcx++mG6Fhb/pu2disyL365zbirI/sJPW/VB/vlOoGDp5PQd+5WHPvrirGTkIrFENG1NmqWyZmbBXY7Nx1ljgZQAQNo1SPg7MQh3jNs166d8Sg4u413AB2dUvy5SgSSb6Si9ojlxvdFNw5tg3J3y683ZrciM2XVAXzwy348fG85fPB4fZXSz77+PwFVNSu6f2R8Z9N5VHWczozRNAy+wmWgUuJbwGISiFjyRSz9IjYxCUS8q9e/f3+XJ4HcKhTxOFjsU9zle/nll03piL9BmMLERl5KIGMSQ1G/PNg+vL1bJjHYrcgsj03Ac19sQ+2yhfHjyy28NNPs1p0IqKpZGkA5XbN+K2IAxTIwYtLH7NmzDSMoloERy7yINftKlSplLBEj3hPMuHMn7hru3bvXUMf999+Pnj17Gn8KFiyIKlX+Xuh28ODBeOCBB4zHvuI9w5EjRxozgkVcyZLm3uWhgOROQEbnLIEFvx3D0G9i0LxKCfyvX6hbOqNqMXX1LsOxc1fQcuIa5M2dC3sjOlqyfptbEsOd3JaAqpqlAZQTNeu3IgZQpFksAZOxEHT9+vUxZcoUY01AsYWFhUEs9zJ37lzj70eOHEHFihWzqKNVq1ZYu3at8e89evTAunXrcO7cOcPwNW/eHGPGjEHlypVNq4oCMo2KDb2QwLClMfjfr8fwXKtKePO+mm7poarF1FUDmJaWjrrhy3E5JRUrX2uJKv7ZTyBzC1zuxBICqmqWBlBODqzfChlAuVRbE00BWcOVe/UMgW7TN2Ln8QuY+kQD47uj7thULaauGkDB7KEZG7HjmHs5uiMX3Ic5AqpqlgbQXH5v14r1mwZQSkEUkBQ+BucggRupacYXQJJvpGHN4DBULFHALb1RtZjKGMA3v4nBV78dQ//WVTC4o/xSOm5JBHdimoCqmqUBNJ3ibBuyftMASilIVQGJtaly5/Lh+0pS2Vc7eP+pJHT4cB0K5suN3SM7uG0xWlWLqYwBzFhMu11Nf3zSW34xbbWVpV7vVdUsDaCc1lSt33KjvjlaiVnA7hywO/elooDEp4je/jbG+OB4vxaV3ImD+1KIwDfbT+C1RbsQElgMi57/Z4F12SGoWkxlDGD04XPo/tGvxjI6YjkdbmoRUFWzNIByOlOxfsuNOGs0DaAEUasFpOqFSaaYSqSDoU4QeOf7vfhs4x94plkgRj5Q24nIOze1o2YTr1xH0DsrDDC7wzugcP48buPJHVlPQFXN0gDKacPq+i3XO89E0wBKcLZaQKpemGgAJUTlodDHZ2/Gb3/8hfcfC8IjDcu77ah21WyTcavwZ+I1LHm+CRoFFnMbT+7IegKqapYGUE4bVtdvud55JpoGUIKz1QJS9cJEAyghKg+EiqVL6kWswKXkG1g2sAVqlHbfp6nsqtk+c37D2rgzGN2tjvF6BTd1CKiqWRpAOY1ZXb/leueZaBpACc5WC0jVCxMNoISoPBB65OxlhL23Fvly50Ksmxcvtqtmx/+8D7OiDuGpxgEY3a2uB7LIQ7iLgKqapQGUU4DV9Vuud56JpgGU4Gy1gFS9MNEASojKA6E/7I5H//k7EFThbkS+1MytR7SrZpfuOImBC3ciOLAoFj/f1K1MuTNrCaiqWRpAOV1YXb/leueZaBpACc5WC0jVCxMNoISoPBCacbeqZ2gAxjzk3rtVdtXsvoSL6DRpPQrl/3tZHR8fHw9kkodwBwFVNUsDKJd9q+u3XO88E00DKMHZagGpemGiAZQQlQdCn/40GusPnMXYh+riydAAtx7RrppNuSEW1l6G66npxlIwYkkYbmoQUFWzNIBy+rK6fsv1zjPRNIASnK0WkKoXJhpACVFZHJqeno6Go1fir8sp+K5/M9Qrf7dbj2hnzXaatA77EpLwae9GaFuzlFu5cmfWEVBVszSAcpqwun7L9c4z0TSAEpytFpCqFyYaQAlRWRwaf+Eqmo5fbXwJZk9ER+TP4+vWI9pZswMX7MDSnfF4vWN1vNS6ilu5cmfWEVBVszSAcpqwun7L9c4z0TSAEpytFpCqFyYaQAlRWRy6IjYB//1iG2qWKYyfX2nh9qPZWbMz1x7ChGX78EBQWUx9ooHb2XKH1hBQVbM0gHJ6sLp+y/XOM9E0gBKcrRaQqhcmGkAJUVkc+sEv+zFl1QE82rA83nssyO1Hs7Nm18SdxjNztqBaqYJY8Wort7PlDq0hoKpmaQDl9GB1/ZbrnWeiaQAlOFstIFUvTDSAEqKyOLTfvC1Y+ftphD9QC32aVXT70eys2T8Tr6LJuNXwzeWDve90RL7c7n287vZkcYcGAVU1SwMoJ2Cr67dc7zwTTQMowdlqAal6YaIBlBCVxaGNx65CwkXrPllmZ82KCTb13/kFiVev48eXm6N22SIWZ5O7dwcBVTVLAyiXfavrt1zvPBNNAyjB2WoBqXphogGUEJWFoWeSkhE8ZiXEEnV7wjuiQL7cbj+a3TWb8Y3lDx4PwsP3uu8by25PFHeYSUBVzdIAyonY6vot1zvPRNMASnC2WkCqXphoACVEZWHo2rjT6DNnCyqVLIDVg8IsOZLdNTsycg/mbT6K/7ashLfur2kJY+7UvQRU1SwNoJwOrK7fcr3zTDQNoARnqwWk6oWJBlBCVBaGTl9zEBOXx6FrUFlMsWiWqt01Oz/6GN76NgYtq5XE531DLMwmd+0uAqpqlgZQTgFW12+53nkmmgZQgrPVAlL1wkQDKCEqC0Nf/HIbfopJwFv318B/W1a25Eh21+z2Y+fx8IxN8C+UD7+93c4SxtypewmoqlkaQDkdWF2/5XrnmWgaQAnOVgtI1QsTDSDesVQAACAASURBVKCEqCwMbfnuGhz76wrm9wtF0yolLDmS3TV7KfkG6oxcbrDdPrw9ihXIawln7tR9BFTVLA2gnAasrt9yvfNMNA2gBGerBaTqhYkGUEJUFoWKmalBESuMve8c0R53+1ljTKhZINNo/ycUTStbY7Qtkoktd6uqZmkA5eRqdf2W651nomkAJThbLSBVL0w0gBKisih086FzeOLjX1G+6F3Y8EYbi46i7ppq7tTsfz/fihV7T2HkA7XwjAVrLVqWPJvuWNXrLA2gnGCtrt9yvfNMNA2gBGerBaTqhcmdxVQiPQz9F4FP1h/G6B9/R6fapTHr6YaWsaFmgQ9WxGHK6oPo3qgCJjxazzLW3LF7CKiqWRpAufxbXb/leueZaBpACc5WC0jVCxMNoISoLAoduGAHlu6Mx+AO1dC/TVWLjsI7gALsTzF/4sUvtyOowt2IfKmZZay5Y/cQUPU6SwMol3+r67dc7zwTTQMowdlqAal6YaIBlBCVRaHtPojCwdOXMKdPMFrX8LfoKDSAAuyhM5fQ9v0o3JXHF7ERHZErl49lvLljeQKqXmdpAOVyb3X9luudZ6JpACU4Wy0gVS9MNIASorIg9ErK3zNT09KB395uC/9C+S04yt+7pGaB1LR01BqxDMk30rB2cBgCSxSwjDd3LE9AVc3SAMrl3ur6Ldc7z0TTAEpwtlpAql6YaAAlRGVB6Laj5/HITM+sTUfN/p3AB6ZuQMzJRMx66l50qlPGgqxyl+4ioKpmaQDlFGB1/ZbrnWeiaQAlOFstIFUvTDSAEqKyIPTzzUcwIjIWbWr447M+wRYc4Z9dUrN/s3h98S4s3nYCr7StilfbV7OUOXcuR0BVzdIAyuXd6vot1zvPRNMASnC2WkCqXphoACVEZUHokCW7sGjrCQxoUwWDOlS34Ag0gLdC9dSsa0uTaZOdq3qdpQGUE6jV9Vuud56JpgGU4Gy1gFS9MNEASojKgtDOU9YjNv4iZj3VEJ3qlLbgCDSAt0LdePAsen4SjcDiflj7emtLmXPncgRUvc7SAMrl3er6Ldc7z0TTAEpwtlpAql6YaAAlROXm0OQbqcYEkOup6djwRmuUL+rn5iPcvDtq9m8eZy8lo9HolfDxgTET2C9vbku5c+euE1BVszSArudcRFpdv+V655loGkAJzlYLSNULEw2ghKjcHLrnZCK6TN2Au/3yYMfw9vARjsTCjZr9B64wgMIILn2pGepXuNtC6ty1DAFVNUsDKJN1GkBBjwZQQkM0gNnDowGUEJWbQxf8dgxDv4lBsyrF8WW/xm7ee9bdqVpMrdDsU59EY8PBs5jwSF10Dw6wnD0P4BoBVTVLA+havjOirK7fcr3zTDQNoARnqwWk6oXJimIqkSZbhw5fugdf/HoUz7WshDfvr2k5C2r2H8Sjf9iLTzb8gT5NAxHetbbl7HkA1wioqlkaQNfyTQP4DzdlDOD06dMxceJEJCQkICgoCFOnTkVISEi2CoiNjcWIESOwbds2HD16FB9++CEGDhyYpa0z+8zuQDSAvAModwmyPvqhGRux49gFTHmiAboGlbX8gKoWUyt+aVmy7QQGL96FJpWK46v/Wn/31fLkanoAVTVLAygnSKvrt1zvPBOthAFcuHAhevXqhVmzZiE0NBSTJk3C4sWLERcXB3//rJ+12rJlCxYtWoSGDRvi1VdfxRtvvJHFADq7TxpA84K0opiaPzpbZhC4kZqGOuHLce16GlYPaoVKJQtaDkfVYmqFZjPevyzqlwfbPfD+peXJ1fQAqmqWBlBOkDSAirwDKExfcHAwpk2bZmQ8LS0NFSpUwIABAzB06NA7qiAwMNAwf7feAZTZp6duIat6YbKimMqd6vaM3n8qCR0+XIcCeX0RE+6Zb9JSs/9o7dr1VOOTcMYn+N5qC//C1n2Cz54Kd8+oVdUsDaBc/mkAFTCAKSkp8PPzw5IlS9CtW7fMjPfu3RsXLlxAZGSk0wZQdp80gHc+8WgA5S5M7or+dscJvLpwF4IDi2Lx803dtds7n29Df/TIcdx9EKs02/b9tTh05jLm9Q1Bq2ol3d1t7s8NBGgA3QDRwl1YdW7SACpgAOPj41GuXDls2rQJTZo0yZTZkCFDEBUVhejoaKcNoKv7TE5OhvjzbwMo7kQmJiaicOHCbj8FVL0wfde/GeqV57IXbheEkzsc9cNefOrhSQiqataqIvPS/O34cfefeOv+Gvhvy8pOZpDNPUFAVc3yDqCcOmgAaQCdMpXh4eGIiIjIojoawJuR1C1XxFj7zDeXtWvOyZ3++kd3n70Z0X/8hfceC8KjDct7ZMCqFlOrDODUVQfw/i/78XCDcvige32P5IAHcY6AqpqlAXQuz7e2pgFUwADKPq7N7h1AV/fJO4DmT7iIrrXRu2mg+QC2dCuBtLR0BEWsQFLyDfz8SgvULOP+O9TZdVjVYmqVAfxl7yn85/OtBn+RB27eRSA9PR0V3/zJuzrlRG+c0S3PzZvB0gAqYABFysSEDbHki1j6RWxiEkhAQAD69+8vNQnE1X1myMhqAal6wgo+hfLlxqpBrfjiuxMXc3c2PXruMlpNXIu8uXMZnyLL45vLnbu/7b5U1awzhdQZkMf/uoIW765BXt9ciH3Hc3lwpo92bvvr4XPo8dGvyiJwRrc8N2kAbxW6MsvAiEkfs2fPNoygWAZGLPOyb98+lCpVylgiRrwnOG7cOGN84g7f3r17jf+///770bNnT+NPwYIFUaVKFePfxTIwd9qnmSsCDWD2lILKF8GuE4l4IKgspj7RwAxKtnEzAfHemXj/TOQisn9zN+/99rtjkbmZjbgTWy9iBS4l38CKV1uiWqlCHssFD+SYwNOfRmP9gbOOG3ppCxpA1xNjdf12vWeei1TCAAocYgmYjIWg69evjylTphh3BsUWFhYG8ah37ty5xt+PHDmCihUrZqHYqlUrrF27NvPf77RPMymwWkCqFtMfBjRH12kbjOUvvng2BC2qcvajGT25s82EZfswc+0hPBkagLEP1XXnru+4L1U160whdRbmwzM2YrsHF+N2tn92bb/r+AU8OH2j0sN3Rrc8N29OtdX1WwVhKWMAvRGm1QJS+YQN/y4WczcdQWBxPywb2BL58/h6Ywq17VPGnQ1h/oQJ9NSmsmatYvTWtzGYH30ML4ZVxpBONaw6DPfrJIH/fr4VK/aecjLKu5rTALqeD6vrt+s981wkDaAEa6sFpHIxvXjtOtq9H4XTSckY2K4qBrarJkGaoc4QEC+2Nxq9EucupyDypWYIquC5JXlU1qwzjJ1p+/nmIxgRGYu2NfzxaZ9gZ0LZ1iICGYuk+/gA6ekWHcQDu6UBdB2y1fXb9Z55LpIGUIK11QJSvZh+vyseA77aYbwAv/zVlqhYooAEbYaaJfBn4lU0GbfaWIZHTADx5N1X1TVrlrEz7X774y88Pnszyt19FzYObeNMKNtaRGDggh1YujMe99UpjZ/3JFh0FOt3SwPoOmOr67frPfNcJA2gBGurBaR6MRV3onp99pvxknWLqiXwed8Q+IhfublZSiBj6ZEapQsZj989uamuWStYJV69bizJI7bd4R1QOH8eKw7DfZokIGbIt35vrfGOsnhfucvUDSYjva8ZDaDrObG6frveM89F0gBKsLZaQDoU0yNnL6PDpHVIuZGGKU80QNegshLEGWqGwIe/7MfkVQeMxZ/FItCe3HTQrBW8mo5bhfjEa1j8fBMEBxaz4hDcp0kCb34Tg69+O2Z8mk98ok9VzYrh0gCaTHo2zayu3673zHORNIASrK0WkKoXplsvSpNXHsCHK/ejZKF8xtqAvAMiIToTof3mbcXK309h5AO18EyzrLPhTezC5Sa6aNZlALcJ7Dt3C1bvO41R3erg6cb3uHv33J9JAgmJ19Dy3TVISU3LNOOqapYG0GTSb9PM6vot1zvPRNMASnC2WkCqXphuNYDJN1LRadJ6/HH2Mvo0DUR419oS1BnqiECTcavwZw7dbdJFs44YO/vzjGV5eoYGYIwHl+Vxtp+6t3/n+734bOMfCKlYDIue+/vb8qpqlgZQTq1W12+53nkmmgZQgrPVAlL1wpTdY4kNB87iqU+jIT4PHPlSc9QtX0SCPENvR+DspWRjBrB41TImvCMK5svtUVg6adad4CJ3nsQrC3ai0T1FseSFpu7cNfdlksC5S8loPmENrl5PNR79ikfANIAm4eVgM2ceczvTTavrtzN9yam2NIAS5K0WkG7F9OWvduC7XfGoV74Ivn2xmTFLlZt7CUTtP4Pen/2GSiULYPWgMPfu3MTedNOsiSGbahKXkISOk9YZn0gUE0E4GcoUNrc2em95HKatOYi65Yrgu/7NMnOgqmZ5B1BOHlbXb7neeSaaBlCCs9UCUvXCdLvf2E4nXUPb96KQlHwD7zxYG72aBErQZ2h2BGasPYh3l8Xl2Gf4dNOsu1R2PTUNtUYsw/XUdGx4ozXKF/Vz1665HxMExLqkzcavRtK1G5j1VEN0qlM6M0pVzdIAmkj8HZpYXb/leueZaBpACc5WC0jVC9OdbtlnLIor7oSsGtwK/oXyS2SAobcSeOnL7fgx5k+8eV8NPNeqsscB6ahZd0HsNGkd9iUk4ZNejdCuVil37Zb7MUFg+pqDmLg8DlX9C2L5wJbI9a+nD6pqlgbQROJpAO8IiQZQQkM0gNnDu5MBTE1Lx0MzNmL3iUQ8WL8sJvdoIJEBht5KoNXENTh67gq+7BeKZlVKeByQqsXUqveM/p2AVxfuxLc7TmJwh2ro36aqx3Nj1wNeTUlF8wmrjS/jfNg9CA81KH8TClU1SwMop2ir67dc7zwTTQMowdlqAal6YXJUTGOE+Zu+wViI9X/PhqJ5Vc8bFYm0e22oeMxVL/zvBYd3jmiPu/3yeryvumrWHSBnRR3C+J/3oUu9Mpj25L3u2CX3YYLAnI1/IOL7vahQ7C6sGRSG3L65aABNcPOWJo7qiav9tLp+u9ovT8bRAErQtlpAOhfTkZF7MG/zUePzcD+/0sKjnyuTSLlXh/56+Bx6fPRrjn5yTGfNyiZ/bdxp9JmzBVX8C2Lla61kd8d4EwTEAvTirrhYFmnMQ3XQMzTrGoyqapZ3AE0I4A5NrK7fcr3zTDQNoARnqwWk6oXJzG9s4m5V2/ejcCYpGa+2q4ZX2vGRmIQUjdBP1h/G6B9/R8fapTD76Uayu3MpXmfNugTkX0FiEeLG41blyDeaZfuuavyC345h6DcxKFU4H9YNaY18uX2zDEVVzdIAyqnS6vot1zvPRNMASnC2WkCqXpjMGECBXSwJI5aGyZs7F1YMbInAEgUkssHQjHfMBrWvhgFtc8ZQ665ZGZWJb2M3GPULLly5bnyDtk45roUpw9NR7I3UNLT9IMp4J3ZY55ro16JStiGqapYG0JEC7vxzq+u3XO88E00DKMHZagGpemEyawBFQXz609+w4eBZtKhaAp/3DeH6aBJ6bP9BFA6cvoQ5fYLRuoa/xJ5cD9Vds66T+Tuyx0eb8evhv/D+Y0F4pOHNkxFk9834mwlkLL5d1C8PNg5tA7+82S+KrqpmaQDlFG91/ZbrnWeiaQAlOFstIFUvTGYNoEAvPg8nFsgV7+pMe7IButQrK5ER+4aKmY61Ry4zJtb89lZb+BfOmeV17KBZGZWFfxeLuZuO4D8tKuLtzrVkdsXYOxBIS0vHfZPXI+5UEhzdEVdVszSAcqeA1fVbrneeiaYBlOBstYBUvTA5YwAF/g9/2Y/Jqw7Av1A+rBrUCoXy55HIij1Dtx87j4dnbELJQvmw5e12OQbBLpp1FXDGO2nijvcXz4a6uhvGOSDwy95T+M/nW41PIYq7f0Xuuv01RVXN0gDKnQZW12+53nkmmgZQgrPVAlL1wuSsAbx2PRVikdwj566gT9NAhHetLZEVe4Z+sfkIhkfGonX1kpjzTEiOQbCLZl0FvOPYeTzkBUbd1f6rECdeLek2YxN2Hb+AF8Iq441ONe7YbVU1SwMop0ar67dc7zwTTQMowdlqAal6YXLWAIoUrD9wxngfUCzQ/11/viDvrCzfWLIbC7cex4A2VTCoQ3Vnw93W3k6adQXa5eQbqBO+HOnpwLZh7VC8YD5XdsOYOxDYcOAsnvo0Gvly5zLu/pVwwFhVzdIAyp0GVtdvud55JpoGUIKz1QJS9cLkigEUaeg/fzt+2P0ngsoXwTcvNjOWy+BmjkCXqeux5+RFzHrqXnSqU8ZckAWt7KZZVxBmfK1lfr9QNM2Br7W40meVYp746FdsPnzO9NMEVTVLAyinSqvrt1zvPBNNAyjB2WoBqXphctUAnrp4De3ej0JS8g2M6lYHTzfOumirRLq0DRUTaMQEkOup6Vg/pDUqFPPLsbHaTbOugH7ui61YHnsKI7rUQt/mFV3ZBWNuQ2Db0fN4ZOYm5PH1QdTrrVH27rscslJVszSADlN7xwZW12+53nkmmgZQgrPVAlL1wuSqARSpmLvxD4R/vxeF8ufG6kFhxqQGbncmsOdkIrpM3WC86C4+Aefjk3N3Tu2oWWf1+cEv+zFl1QE83qg83n00yNlwtr8Dgb5zt2D1vtPo3qgCJjxazxQrVTVLA2gqvbdtZHX9luudZ6JpACU4Wy0gVS9MMgYwNS0d3aZvRMzJRHSrXxaTejSQyJA9QhduOYY3vo5BsyrF8WW/xjk6aDtq1lngP8f8iRe+3I565YsY77tycw+B2PhEdJ6ywXiPeNWgMOMzk2Y2VTVLA2gmu7dvY3X9luudZ6JpACU4Wy0gVS9MMgZQpGP3iQt4cPpG40V5viflWKAjIvfg881H8d+WlfDW/TUdB1jYwq6adQbp4TOX0Ob9KOTPkwuxEZ34rqsz8O7Q9qX52/Hj7j/xQFBZTH3C/C+OqmqWBlBOOFbXb7neeSaaBlCCs9UCUvXCJGsARUoyTE2lEgXw88AW2X7DUyJ1WoU+PGMjth+7gMk96uPB+uVydGx21qxZ8OIut3hn89r1NKwe1AqVShY0G8p2tyFw6MwltPsgyvil8edXWqBmmcKmWamqWRpA0ynOtqHV9Vuud56JpgGU4Gy1gFS9MLnDACZevY6270fh7KVkhyv5S6RQ+dB/mwmxiHblHDYTdtasM2LqOm0Ddp9IxMye9+K+ujk3a9uZPntz29cX78LibSfQrqY/Pukd7FRXVdUsDaBTac7S2Or6Ldc7z0TTAEpwtlpAql6Y3GEARVoyvuWZN3cu/PJqS9xT3Nw7PRIpVS70wKkktP9wHQrk9UVMeEfkyuGlc+yuWbMCGrJkFxZtPYGX21bFa+2rmQ1ju2wInDh/BWET1+JGWjq+fbEpGgQUdYqTqpqlAXQqzTSA2eCiAZTQEA1g9vDcZQDFiv5iQdeNB8+hVbWSmPtMcI7OcJWQimWhS3ecxMCFO9HonqJY8kJTy45jdseqFlN3adYsp882/IF3ftiLjrVLYfbTjcyGsV02BEZG7sG8zUddngSlqmZpAOVOB6vrt1zvPBNNAyjB2WoBqXphcmcxFS/Md5q0HimpaZjR817cz8dlNyk2o/h5yyf0qFlzF5RNB8/iyU+icU9xP2O9Om6uETiTlIzmE1Yj+UaayxPGVNUsDaBrmsmIsrp+y/XOM9E0gBKcrRaQqhcmdxpAkZ6MddNKFc6Hla+1QqH8t/+wu0Q6lQmNv3AVkTvjjUfk+xKSjH5PfLQeHmtUIcfHQM2aS8G5S8loOHolxJKNe8I7okC+3OYC2eomAuN+/h2zow6jQcDd+OaFpi49IVBVszSAcieD1fVbrneeiaYBlOBstYBUvTC52wBeu56KjpPW4ei5K+jbrCJGPFBLIms5E2qXXNplnO5QUfCYlRB3sFx5b80dx1d9H4lXrqPp+FW4nJKKT3s3QtuapVwakqqapQF0Kd2ZQVbXb7neeSaaBlCCs9UCUvXC5G4DKFIUtf8Men/2m7HIq1g8t065IhKZ83yoXXJpl3G6Q0FPfxqN9QfOYvzDddEjJMAdu7TVPiavPIAPV+5HjdKFjKVfXP0CjqqapQGUk7vV9Vuud56JpgGU4Gy1gFS9MFlhAEWaMhZ6rV/h78c9OT3j1Rnp2CWXdhmnM7m/XdsxP+7Fx+v/gLe8v+mOMXlqH5eTb6DZhNW4cOW6seizWPzZ1U1VzdIAuprxv+Osrt9yvfNMNA2gBGerBaTqhckqA3jq4jVjbcBLyTcw5qE66Bl6j0T2PBtql1zaZZzuUM/X205g0OJdaFypGBb8t4k7dmmbfXy87jDG/PS78bk38V6wr8TyR6pqlgZQTu5W12+53nkmWikDOH36dEycOBEJCQkICgrC1KlTERIScltSixcvxvDhw3HkyBFUrVoVEyZMwP3335/Zvk+fPpg3b95N8R07dsSyZctM0bdaQKpemKwygCIpczb+gYjv96Jw/tzG9z5LFspnKlc53cguubTLON2hpz0nE9Fl6gbc7ZcHO4a3d/kRpjv6otI+xDvBLd5dY7w/+e4j9fB4sNzkJ1U1SwMop1qr67dc7zwTrYwBXLhwIXr16oVZs2YhNDQUkyZNgjB4cXFx8Pf3z0Jr06ZNaNmyJcaNG4cuXbpg/vz5hgHcvn076tSpY7QXBvDUqVOYM2dOZny+fPlQtKi5hUStFpCqFyYrDeCN1DTjO8Gx8RfxcINy+KB7fc+cKZJHsUsu7TJOSTkY4cLI1B65HOJrLr++2Rali+R3x26138cXvx7F8KV7ULZIfqx9vTXEQvEym6qapQGUyTofAQt6yhhAYfqCg4Mxbdo0I+tpaWmoUKECBgwYgKFDh2ZRQvfu3XH58mX88MMPmT9r3Lgx6tevb5jIDAN44cIFLF261CUl0QBmj81KAyiOuPP4BTw0Y6Px3c/5/wlF08olXMqfp4KupqSi5ghzd5U91Sezx3E2l6oWU2fHaZafo3bi+7UHT18yFjkPq571F1lH8Xb7+fXUNLR+by1OnL+K8AdqoU+zitIIVNUsDaBc6q2u33K980y0EgYwJSUFfn5+WLJkCbp165ZJpnfv3hAGLjIyMgutgIAAvPbaaxg4cGDmz0aOHGmYvV27dmUaQPH3vHnzGnf92rRpg9GjR6N48eLZ0k9OTob4k7EJAQkTmpiYiMKFzX983GxqVb0weaKYDlsag//9egyVShYwZgDmy+1rFqtH2ok7lZsOncPSnSexfE+CsVSFipuzuaRmncty//nb8cPuPzH0vhp4vlVl54Jt2DrjvckSBfNiwxttkD+P/HmvqmZpAOVOABpARe4AxsfHo1y5chCPdZs0+edl6SFDhiAqKgrR0dFZlCBMnXi/74knnsj82YwZMxAREWE89hXbggULDGNZsWJFHDp0CG+99RYKFiyIzZs3w9c364UlPDzciL91owG8mYizpsGV0zjx6nW0fX8tzl5KweAO1dC/TVVXduPWGPHput0nEg3T9/2uP3H20j+/LLj1QB7cmbO5VLWYOjtOd6Vg2uoDeG/FfjzUoBw+VOR1BneN3dn9pKWlo/2HUTh05jLe6FQDL4S5xzCrqlkaQGcVdHN7GkCbG8Bb5XP48GFUrlwZK1euRNu2bbOoi3cAzZ1wniqmGd/BzZc7F355tRUCivuZ66CbWx09dxlLd/z9ZY7DZy9n7r2oXx50rlcG3eqXw6OzNrv5qJ7ZnbO5VLWYOjtOd9FfufcU+n2+1VjLbtnAlu7arZb7+TnmT7zw5XZjAtjGoW3c9kUgVTVLAygncxpARQygVY+As5NPyZIljcfAzz33nEN1WS0gVS9Mniqm4o5bz0+ijUetYdVLYk6fYI/NpBR3937YFY+lO+ONdxIztvx5cqFdzVLGHZ0WVUtmvqBul1zaZZwOLw4mG5w4fwXNJ6xBHl8f7H2nE/L4yk1oMHlY5ZqJc13MmBaTv15uUwWvdajutjGoqlkaQDkJWF2/5XrnmWgl3gEUKMQkELHki1j6RWxiEoh4z69///63nQRy5coVfP/995kkmzZtinr16mVOArkV8YkTJ4x9ivcCu3bt6jADVgtI1QuTpwygSNChM5dw36T1SElNw8ye9+K+umUc5s3VBldSbmBF7CnjEa/4goOYvSk2sQRZsyoljDt9HeuURsFsvutql1zaZZyuaujWOGFs6oWvQFLyDSwf2BLVSxdy16612s+auNN4Zs4W+OX1xcY32qBogbxuG5+qmqUBlJOA1fVbrneeiVbGAIplYMSkj9mzZxtGUCwDs2jRIuzbtw+lSpUylogR7wmKZV/EJt4XbNWqFcaPH4/OnTsb7/uNHTs2cxmYS5cuGe/zPfLIIyhdurTxDqB4pzApKQkxMTEQy8E42qwWkKoXJk8aQJGj91fEYerqgyhdOD9WDmqVrQFzlMvb/VzMOtxw4Kxh+oT5u3r9n8kc9coXwYP1y+GBoDLwL3TnJTzskku7jNNVPWUX9+jMTdh69Dwm96hv6IlbVgKPzdqELUfOo1/zihjWxb3fAldVszSAcmeK1fVbrneeiVbGAAocYgmYjIWgxXIuU6ZMMe4Mii0sLAyBgYGYO3duJjmxTuCwYcMyF4J+9913MxeCvnr1qjGjeMeOHcZM4rJly6JDhw4YNWqUYSjNbFYLSNULk6cNoFhPrcOH63Dsryt4tnlFDJcsEOKuzI7jFxC546QxQ/Pc5ZRMOdxT3M8o0g/WL4vKJQuakYnRxi65tMs4TSfeRMO3v43Bl9HHjEkNYnIDt5sJRB8+h+4f/Yq8vrmw/o3WKFXYveslqqpZGkC5M8Xq+i3XO89EK2UAPYPE/FGsFpCqFyZPG0CRsbVxp9Fnzhbjk1Df9W+G2mWLmE/k/7cUj5OF6YvcFY+j565kxhcvkBddxGSOBuUgvkPsykfn7ZJLu4zTaXHdISBjYeM2NfzxWZ9gd+5ai331+uw3rNt/Bj1DAzDmobpuu7Ze7wAAIABJREFUH5OqmqUBlJOC1fVbrneeiaYBlOBstYBUvTDlhAEUaXzpy+34MeZPNAi4G18/3xS5THwf9HTSNWPJFjGjOOZkYqYa7srji/9r70qgqyqy7QEhgTBPQRJAMEwyCoiSBhl0oSiCODG0gK3fBtsFNh9pBhtFvraCtCi0iC2gDDaTgLYgrV9lUhQExRBlBQGHRJCoDBGZIf61C9/7L8kL71buu+++U3VqLVaAVN1bZ6hT+1ad4foWtenmtqnUuVFN1875tsjSFjpdmI0iQ7d+c4jueOEjVdniw/FFsw9E813cnrXjuyPU57lN6sNu/ehuVK969CP9ueqsAEB32uz1/u1udrEZLQDQBZ+9ViCuhskvAHgg76TKDYiky0/c0op+f1X9sNI9evIMvf1FrkrbsmnPT/RbLIfaZK5uXFNF8PZoXpuSEsq40I6CQ22RpS10Rk0xiOjnk2dUIAhaxsTrqEr5stF8POtnDVu4Ta1VL8s+ctVZAYDuVNvr/dvd7GIzWgCgCz57rUBcDZNfABCinPvB1/TY6p1qE33vwa5Us+L5YJ7TZ/PVNRKCOd7ZmUunzuYHJY8TQ0TwImdfoL8LtQg71BZZ2kJntPWj0+S1tO/ICVo2LJ2ubFg92o9n+bzduUepxzMbqVQponf+uws1SvYmQpqrzgoAdKfWXu/f7mYXm9ECAF3w2WsF4mqY/ASAKMGGK6Od3/+sTg0GXlVfXe/iavjI8TNBaaOEHEAfgjkuqVHBhRY4G2qLLG2h05nUnff6r3lb6b2sH+h/bm5BQ9IbOB9ocM//XvoZvbZ9H/VscTG9MLi9Z5Ry1VkBgO5Uwuv9293sYjNaAKALPnutQFwNk58AEOLcnn2Ybp31If16Pk1fsNWqlEi9W6dQ37Yp1Cq1SomCOUqqLrbI0hY6S6oHxY176q0sen79XuW2APcF21v2wePU/en1KtfmquGdqVVd/aAupzzkqrMCAJ1KOHw/r/dvd7OLzWgBgC747LUCcTVMOgCQK41ifMMvHK7y1NFZFyaj2KFvZOynBxZvp3b1q9LK+zt58QpWz3zotUxatCWbujSpRQvuudLTuXPVWbFB7tTC6/3b3exiM1oAoAs+e61AXA2TzmbKlUYxvgIAXZiOIkO/zD2qclmiisyOidc5imCP5vvj6VkI5ury1DpV3ScWPpFig+JJ+kXnorOf6FDi9f6tMxe/+goAdMF5rxWIq2HSWbBcaRQAKADQhekoMhQVZ1o88rYCPe+P6e5JupNoztfLZyGIC8FcVzaoTsvuS/fyVerZYoM8Z7GrF+jsJzov8nr/1pmLX30FALrgvNcKxNUw6SxYrjQKABQA6MJ0hB164/T3VfDS7CFXqDRENrZDx04TIqJRcnHe3R2oW9Nkz9kgNshzFrt6gc5+ovMir/dvnbn41VcAoAvOe61AXA2TzoLlSqMAQAGALkxH2KGjln5GK7fvowd7NKER1zaO9uNZPC9Q1xtBWqjoU5KqO7qEig3S5Vhs++vsJzoz83r/1pmLX30FALrgvNcKxNUw6SxYrjQKABQA6MJ0hB364sa99MSaLJWPcubv20X78XH/PCTExunf0ZNn6YVB7ahnyzoxmbPYoJiwucQv0dlPdF7i9f6tMxe/+goAdMF5rxWIq2HSWbBcaRQAKADQhekIO3TDlz/SXS99rJKY39auLrWuW0WlP2lYo4IVQSHPr99DT721ixolV6T/HdklZjSLDYq2Jkf3eTr7ic6bvd6/debiV18BgC4477UCcTVMOguWK40CAO0GgFz1VmdtujCN2kNPnD5HnaespYPHTtO0fm3o1nZ1tZ9R0gFcZSk2qKQSPz/O6/3b3exiM1oAoAs+e61AXA2TzibDlUYxvgIAXZgO34bqrM1YTvLlTV/TpFU7qW618rR+dDcqc1HpmL1ebFDMWF2iF3mls17v3yUiNsaDBAC6YLjXCsTVMOksWK40CgAUAOjCdPg2VGdtxmqSqNPddeo6+j7vJD3etyUN6nhJrF6t3iM2KKbs1n6ZVzrr9f6tTagPAwQAumC61wrE1TDpLFiuNAoAFADownT4NnT7wz2oWoUE394f7sVLt2bT2BWZlFwpkTaO6U7lyl4U0/mJDYopu7VfprOf6Dzc6/1bZy5+9RUA6ILzXisQV8Oks2C50igAUACgC9Ph69B61ctT69SqKsAEgSYtU6tQ5XJlfZkTav1e+/R6+ubgcZrQ6zK69+pLYz4PsUExZ7nWC3X2E50He71/68zFr74CAF1w3msF4mqYdBYsVxoFAAoAdGE64m7opTUrKECI/Htt6lWlFimVKSmhjOfzDNRArppUljaNvYYqJHr/zsJEiQ3yXMyuXqCzn+i8yOv9W2cufvUVAOiC814rEFfDpLNgudIoAFAAoAvT4dvQjInX0Rf78mgH/nx3hHZ8l0ffHT5RZD6lS5FKx9IqtSq1qXceGF5Wp3JUr2fz83+lG2e8T1kHjtKoHk3oAZ+SX4sN8k0dHb1YZz9x9MDfOnm9f+vMxa++AgBdcN5rBeJqmHQWLFcaBQAKAHRhOnwbGm5tovxa5r48yvzuCGV8h595dODnk0XmWKZ0KWpSu5K6Nm5dt6r6iX8nlClZxO67O3Pp3gXbqGJiGXX6VyXJn2tosUG+qaOjF+vsJ44eKAAwyCYBgDoaU6ivAMDwzNNZsGJ8XShgDIbqyBLT4SpPobOgMv3w80kFCs8DwvMnhcjRV7glXFSaLqtT6Td/wvOgsFGtihHTuPz66690y/Mf0mc5R+i+rmk07oZmMdBmsz5a5CPUncp4vX+7m11sRgsAdMFnrxXIhs2UK41ifM3aTAUAXtgQArAhTQuAIK6OAQ7x97wTZ4oMLFe2NLVIOR9goqqZpFYl+BiWxr3yb23Tnp/ozjlbKLFMafpg7DVUq1KiC0vsbqjYIHf883q07tp0Oh+v92+n8/CznwBAF9z3WoG4GiadBcuVRgGAAgBdmA7fhuqszUiTBCjMOXSCMoKA8Ah9vu9n+uXU2SJDcc2LwBIEmMCfcOFH39LH3xyiu9IvoUk3t4z0Kk9/LzbIU/a6fng0dTZ0Ml7v364Jj8EDBAC6YLLXCsTVMOksWK40CgAUAOjCdPg2VGdtlmSSCOz4+uCxYIAJ/Ak/359HJ8/kF3kcfAo3jOlOqVXLl+RVURsjNihqrPTkQV7prNf7tyfMiPJDBQC6YKjXCsTVMOksWK40CgAUAOjCdPg2VGdtYpJc16cOnVxpFBvkbhl5vX+7m11sRgsAdMFnrxWIq2ES41tUqWyQpS2AQeh0YTRjNFRskL02yKmKeb1/O52Hn/0EALrgvtcKZANo4EqjfH3LCaAL0+HbUB1gZAvQFRvkmzo6erGuzjp6KBF5vX87nYef/QQAuuC+1wrE1TDpLFiuNAoAFADownT4NlRnbQoA9E1Mjl+sI0+utlaHRseMEwCoWCUAUEdjCvUVABieeToLlqtREgAoANCF6fBtqM7aFADom5gcv1hHnlxtrQ6NjhknAFAAoI6yhOsrAFAAoFMdssX4Cp1ONcKffrqbqQ3y5EqjfIS6W0Ne79/uZheb0XIC6ILPXisQV8Oks8lwpVGMr5wAujAdvg3VWZtyAuibmBy/WEeeXG2tDo2OGScngHICqKMscgLonFs6C5arURIAKADQ+YqIn546a1MAYPzIrbiZ6MiTq63VoVFHYl4f4OjMxa++cgLogvNeK5ANC5YrjQIABQC6MB2+DdXdTLmuTx06udIoNsjdMvJ6/3Y3u9iMFgDogs9eKxBXwyTGt6hS2SBLW06MhE4XRjNGQ8UG2WuDnKqY1/u303n42U8AoAvue61ANoAGrjTK17ecALowHb4N1QFGtgBdsUG+qaOjF+vqrKOHig+gYhMrADhz5kyaOnUqHThwgNq0aUP/+Mc/6MorryxW3q+++io9/PDD9M0331Djxo1pypQpdOONNwb7o5j5xIkTafbs2XTkyBHq1KkTzZo1S/V10gQAhueSzoIV4+tE0/zroyNLWwCD0OmfPjp9s47eig1yylV/+unIUmeGXu/fOnPxqy8bALh06VIaMmQIvfDCC3TVVVfRs88+SwB4u3btouTk5CL8+/DDD6lLly705JNP0k033USLFi1SAPDTTz+lli1bqv74N34/f/58atiwoQKLmZmZtHPnTipXrlxEmXitQFwNk86C5UqjnADKCWBEAxGHHXTWpi1AV2xQHCpqyJR0ddYpNV7v307n4Wc/NgAQoK9Dhw703HPPKX7l5+dTvXr1aMSIETRu3LgiPOzfvz8dO3aMVq9eHfxdx44d6fLLL1cgEqd/KSkp9OCDD9Lo0aNVn7y8PKpduzbNmzePBgwYEFEuXisQV8Oks2C50igAUABgRAMRhx101qYAwDgUYKEp6ciTq63VoVFHYl7v3zpz8asvCwB4+vRpSkpKouXLl1Pfvn2DvLrrrrvU1e2///3vIvyrX78+jRo1ikaOHBn8Ha57X3/9dcrIyKCvvvqK0tLSaPv27QoUBlrXrl3Vv6dPn17kmadOnSL8CTQARrwnJyeHKleuHHUZtpz4dtSfGYsHfj7pesev4UojCLSBTh0awROu8hQ6wy9ZG+TJlUaxQY63mbAdAQBxiAQMUaVKFXcPYzqaBQDcv38/paamEq5109PTg6weM2YMbdiwgbZs2VKE/QkJCepqd+DAgcHfPf/88zRp0iTKzc1Vz4LPH55dp06dYJ9+/fpRqVKlCFfOhdujjz6qxksTDggHhAPCAeGAcIA/B3CAU7duXf6ElIACAYAaALDwCSCuoQ8dOkQ1atRQoJFLC3z5eHVyGQ98sIFG8FnojAdti94cRJ7R42U8PMkGeXKlEW5gR48eVa5gpUuXjgd1ifkcWADAeLkCjrl0PHqhDb4PNtAYAIC4voA7ghduCB6poPZjRZ7aLIvrASLPuBaP1uRskaUWU5h0ZgEAwUsEgSDlC1K/oOH0Df53w4cPLzYI5Pjx47Rq1aqgKH73u99R69atCwSBIAAEgSCBzRQRxU6DQJjIuMg0bViwNtAoAJDrCix+3qK3ZsnUBnnaQKNZWvn/1LABgPDJQ9DHP//5TwUEkQZm2bJllJWVpSJ3kSIGfoJI64IGHz8EdEyePJl69epFS5YsoSeeeKJIGhj8PjQNzI4dOxyngeGqFDYsWBtoFADIdQUKAJT1aY7u2iJLcyTGEABiykgBE0gEjUjdGTNmqJNBtG7dulGDBg3U6V2gIU/ghAkTgomgn3rqqbCJoF988UUVCdS5c2dCoEiTJk1MlHWQJvgyAiiPHz+eEhMTjaTVBhohOKHTLPUVeYo8uXHAFp3lJhcn82VzAuiEGOkjHBAOCAeEA8IB4YBwQDgQmQMCACPzSHoIB4QDwgHhgHBAOCAcMIoDAgCNEqcQIxwQDggHhAPCAeGAcCAyBwQARuaR9BAOCAeEA8IB4YBwQDhgFAcEABolTiFGOCAcEA4IB4QDwgHhQGQOCACMzCPje3z++efUsmVL4+kUAoUDwgHhgHBAOCAcOM8BAYCWagJK4CxevJjmzJlDn3zyCZ07d85STgjZwgF/OJCdna2K0XMqI+kPp+StwgHhgBccEADoBVfj+JkbN26kuXPn0ooVK1QNxFtvvZVuu+026tChQxzPOvLUkIw0XKtQoQJddNFFkR8gPeKaA19//TXt2bOH6tSpY8xpNfTy+++/J1QfkmYmB86cOaPy0ELGKNloQrvnnnto+vTpVKlSJRPIsZoGAYAWiP/AgQMqQTaAH4BSv379VDm8jIwMat68uREcQDHvcCcp2GQbNmxIKPn3xz/+kT2tP/zwQwHA8Nlnn9EzzzwTBEcojYik6Jzb/fffT0jaXrFiRTpx4gQNHjyYXnvtNULxdsgYFX7eeOMN9XvODTqLtWkbANy/f7+q6BQA9Pfeey81a9aMsyjV3KGzI0aMoPLly6sblbFjx6rSpWfPniXIGnoMusuWLcuaVvlwYS2+ApMXAGiOLMNS0rt3b8KpH8rh3XnnndSzZ091IgYjZBIA3LBhQ1j6UeEFV9yoGgOgdPfdd7OWeKjxRblDgD3UuEZ5RIDBdevW0XvvvUddunRhS2cojQ899BAtXLiQFixYoKr+bN++XZWEvOOOO4JlH7kSClCQm5tLtWrV4kqCo3knJSXRt99+q+jcuXOn0lf8vW3btpSZmUm4Cv/oo49UnXbOLVRv//73v6vSo08//XRQb0eNGqXqzo8ZM4YzmQrM2vjhwlpoxUxeAKCJUg2hqUyZMvTAAw/Qn/70J2rcuHHwN6YBwEhifOmll1QpwU8//TRS17j+fajxve6665QPGU52A23kyJFqUwUI5NpCaWzVqhUBBA4cODBIDk7//vKXv9CuXbu4kqjmDTqHDh1KAEgXatOmTWNPZwAw9O3bl/Lz82nlypUE24S/48P0l19+oVWrVhlDZ7t27ei+++5T8g20f/3rX+qjBUF3nBv0dvfu3RE/XCpXrsyZTCvmLgDQcDFv3rxZAYSlS5fSZZddpq4hBgwYoHypTDoBjCTGvXv3qhOH4nwFI42Pl9+HgiP4cGIj7dixY3B6X3zxhToV/PHHH+NlytrzCD0Zw0nR+vXrqUWLFsHn4DQJunz8+HHtZ8fTANCZnp5OCQkJxU4LV95r166Np2lrzyVUZ+vXr08AQldffXXwOTjVxQ0FroY5t1C9rVmzptLb0OwK8GPFv48dO8aZTPXhcqHApYCrhgQWxr+YBQDGv4yiMkMYHYBAnIR9/PHHykcFJwtw6LXBmRcnfzfffDPl5OREhZ9+PST06/vyyy9XwTwAtoEGoIurNM6bTOjJGMDCK6+8Qj169AjSCFlef/31rEEuiLHlKg1XozgBBJhv0KCB8t8Mve4FMIIvMvw9OTfI8/HHH1e+qZMnT6YlS5YUcMXYsWOH+jg7dOgQZzKV3sLuVK9e/YJ0wFdXWnxzQABgfMvHk9nh6gyngvCtgo8cNlcYZVMbIvGGDBlC+Ll8+XLWZIZ+feNLG07locEtkCP8jHBFw7Vhkww9YcAVIQIFAg2b7LvvvqtOWDg3W5zpobOIgIVMcdWLj9BBgwYFRffOO++oq1IAQc4N4DZUb//85z8TXDICDZGzAIXwd+TcbPlw4Swjp3MXAOiUUwb2wyng6tWrFRjkDgCRziZcy8vLI1yLwjC///771KhRI9aSLBzsgqv8Jk2aFNhkTp8+rXzkTG1fffWVujatW7cuaxJt2Ujnz59fQE5NmzYt4Lbw2GOP0eHDh9WNhMkN7jiJiYkFTuw50muL3nKUje6cBQDqcoxZf3xtHjx4kG666abgzBFROXHiRHVNCKdspCqAYeLciovuhSMyNhycIpmSh0tHTkj23adPH0I+RGnxxQEAI/jjcl970ebqpk2b6IorrhC+RJuxUXoe0mpt27aNatSoEaUnymP84oAAQL84H6P33nDDDcrvBDmp0BAhigi1P/zhD8qRfurUqTRs2DB69NFHYzQjeU0sOQAAjPQwl156aSxfG7V3bd26VaW2Qf5DRIyGNlNOjBAYgTUKnyn8TEtLixr/OD6Iu86C5who+eCDD8LqLbIymNQQcBaIyMfHtulpjUySnQBAk6QZhhZcESK9Ar6o0f76178SrhFhnNBeffVVdRqI/FymNkT+IpgAV934crWpIcAH0d4cASDyqE2YMEGd4NauXbuAf5UJ0bEBPUSQC3J1wqcRyZFTU1MVGAwAwtD0TTboLmedhXyQdB8f1XBTwClZqF8g/g4XBhMabpCQ+Bq+5IGIX/i1wt8at0qR0huZwAPuNAgA5C7BCPMvV66cCghAvji0zp07E04FAQTRUKYIudZQG9i0hpMjOJwjVQquf2+55RaaOXOmaWRekB7OmylA35QpU9RptS0NpeHwgQbfXETt49TTtnQanHUWegpbixyA48ePVxGzpjaAXARjIb9qp06dFJk4WMAJJwILZ82aZSrpxtAlANAYUYYn5JJLLlFfaKgMgeCAqlWrqhPBa6+9Vg3AlTBOGrinJghQv2/fPvUF/vLLL6sIZziXL1q0SJW/u1DuKlPVgPNmitNrnIzZcAKGnIbYPHEKiA8X5MaDiwauhFHBxqbGWWchJ5z6IdWW6Vf5yHWIrAqFS09Cf2FvOecitWW9CQA0XNKoAIIrQJykvP766wTHc/inBJLP4mr02WefJfhacW7IS4UrXgAGnHAizQR+IvjBpoTXhWXIeTNFbVXoKvTT5IbSaKGADx9k+GCrVq2ayWQXSxtnnQVRKPWGHHnjxo0zWn644kWZTXyohDZkXUBpSs65SI0WXAhxAgANl/RPP/1ESJGC0wUkKAUAxFVooOEkEJUk/va3v7HmBMpKIdAFRjc0sbVtJe9MAoC4/kSFiC+//FIlCoYsQxuu9k1oAAu4KkRpP5ym4E9oah8TaNShgXsQCK7skXUBia3hXlNYb00JXsLegdNOZJWAqxEaaEatbtwo4XpYWnxzQABgfMsnarNDPjwAQDjphjYsVPz/hcpRRW0SHj4I/ijwmULJMJS769+/vzpBsR0AovTUf/7zn6APqIciiPqjhw8fTnPmzKHu3bsXCQLBy3DNb0JDQm+4YuD6F/5/OMXGesRJIGgPTfTNkd7s7Gylf05dMLifACJR+SOPPGJ88BJqGqMiz6lTp6hNmzZKNXHbAjD49ttvFyjfyFFvbZizAEAbpGwJjfj6XLZsmQr82LJlizJOb775pkqDElqTkzM7iqtljKvuwuCeM52YO4AAKifgFNCWBjCIazU41sM9w4QgEFsqngR0FB+e8Nu0IXgJvqvQ06ysLEU+roORc7V8+fK2LFnWdAoAZC0+mXxxHEDkM4AgridQfgog4vbbb1fX4ZxbcYXYsckiQevo0aPZnxgF5IMAJpwkNGvWjLPIIs4dtY1x+oc/cNVARD6uDgO5AVHDmnOzrXLExRdfrKoO2RC8xFkvZe5EAgBFC4zmAE5Q1qxZo64ScRWK6wrOrXApuAAtiHjGydGMGTPU6UNxlVE40Y4r3rfeektd9ZqcUwz+q23btg3m/kMAiElVawAAc3NzrUkQ/OSTTxLS+WAtmtxCE5jDVYFjrlGT5eOENgGATrgkfdhwAGXvAiWKcnJyaPbs2coxuXfv3uokKTk5mQ0tJZkoTj1xfYhTJe4NoGjv3r2Ea9EGDRoUcaY3gUbICNf6CHwwtQEADh06NCKINyU4AkF2a9euVXYIPsmmBi9JAnP+K1YAIH8ZCgW/5TMEyAPow9ULfMd69uypUhFgA8JP5KxC7WOTGwATgFNxvoKcaJ80adIFp4sKNpybLf6cWH/p6ekXDDQzqbJLpNN3U4KXQteeJDDnaYkEAPKUm8y6EAeQ8w9XaUgDg8TXqKSAIBCcAKKhZBGuSDdv3mw073AqBp8xAGFb2uLFi6lPnz4q5yOnZos/p20+gE51cNOmTapEZ2JiotMhcddPEpjHnUi0JiQAUItd0jleOYCs9Lh2ad26tQr6wJUaklu3b99eTRlRash3CF85U9uZM2dUHU78xGmnLY1r3jhb/DltiwJ2uu646m2APklg7lTS8dtPAGD8ykZmpsGBwqcMhXOJwQk9JSWFfV3V4qKYkecRGfhxlYYIxEaNGmlwj3dX7nnjiuO+Kf6ccgIYXsLc9VYSmPO2m5i9AED+MhQKiJSfX2ikIYzrjh07VGoUNFMAYHH+RThNaNq0qcrBZVIEqRPl5r6RFkejKf6cqD40YMAA1ledTvRQtw93vTU9gbmuPDn2FwDIUWoy5yIcAACEH2DAn2bVqlV0zTXXBP3CkP4FKUVQpkmaWRzgvpEWJw3T/DlD04Ygx2FaWppZiqhJjUl6a2ICc01xsuwuAJCl2GTShTkQKfIu0N/ECLwAbYgqRVb+uXPn0rZt26xREpM20oDQTPTnlLQhBZckd701PYG5DQZUAKANUhYajebAunXrVNWTlStXqutf5CGbOXOm0TSHEsd1I7XZn1PShpAKVEOZSq4JlE1PYG6DARUAaIOUhUbjOLBv3z6aN2+eqpKByObDhw/TokWLqF+/fioQxKaGOs+o8lKvXj1WZNvoz2ly2pDs7Gylg07XH9cPl9AbB5MTmLMyJiWcrADAEjJOhgkH/ODAihUr1BXvxo0blc/joEGD1E/kwMvIyKDmzZv7Ma2ovtOWBMlRZRqDh5meNsSWdDeyPhksNodTFADokFHSTTgQDxzAtcvYsWNVwmucIAQayk2ZAgBtSZB8IX0y0Z/T9LQhtqS7kfUZDztBdOYgADA6fJSnCAdiwoFhw4bR0qVLVY3RwYMHU//+/alatWqq3qgpANCWBMnhFMZkf07T04YUTkUVE4Pgw0tsXp8+sNvTVwoA9JS98nDhQPQ5cOLECVq2bJkK/NiyZYsqeffmm28qh3L4w5neTEmQHJCTjf6cJqYNAQAcOnQoJSUlXXAJTps2zeglatr6NFlYAgBNlq7QZjwHdu/erYDgggULVAm8Xr160e23307FRZiawBBTEiTb4M8Zqm+mpw0BAExPT6eEhIRilxkCRFCy0uRmyvo0WUYB2gQA2iBlodF4DuTn59OaNWtozpw5KiIWia9NbaYkSLbBnzNUB01PG2KLD2Aku2LK+oxEpwm/FwBoghSFBus4cPDgQapRo4aiOycnh2bPnk24Gu7duzc1a9aMkpOTjeSJSQmSbfDnDFVCBLaYnDbElijgCxkWk9ankQa0EFECAG2QstBoDAcyMzMVyAPoa9y4MS1ZsoR69uxJx44dU/WQ8XP58uXUt29ftjTblCDZBn9OW9KG2HICaNP6ZGtEHU5cAKBDRkk34UA8cAA5/3CVhjQwCxcupNWrV6sgEJwAoo0YMYI++eQT2rx5czxMt0RzsDFBMhhlqj+nLWlD5s+fTwMGDAjWIy+R8jMYZOv6ZCAa7SnfJmBPAAAAn0lEQVQKANRmmQwQDvjHgZo1ayon8tatW6ugD1ypbd26ldq3b68mlZWVRR07dlTVQaTx5IBp/py2pQ2pX78+devWjbp27ap+pqWl8VREmbXxHBAAaLyIhUCTOFD4mqlwOanc3FxKSUmhc+fOmUR2kBYTEyTb6s8ZEKppaUNeeeUVValn/fr1tGfPHkpNTVVgMAAI4bphajNxfZoqK9D1f5bo9mxufhgAAAAAAElFTkSuQmCC\" width=\"640\">"
      ],
      "text/plain": [
       "<IPython.core.display.HTML object>"
      ]
     },
     "metadata": {},
     "output_type": "display_data"
    },
    {
     "data": {
      "text/plain": [
       "[<matplotlib.lines.Line2D at 0x7f9be96a5f70>]"
      ]
     },
     "execution_count": 50,
     "metadata": {},
     "output_type": "execute_result"
    }
   ],
   "source": [
    "plt.plot([key for key in regimeAmounts.keys()],[val for val in regimeAmounts.values()])"
   ]
  },
  {
   "cell_type": "code",
   "execution_count": 51,
   "metadata": {},
   "outputs": [
    {
     "data": {
      "text/plain": [
       "([<matplotlib.axis.XTick at 0x7f9be967fca0>,\n",
       "  <matplotlib.axis.XTick at 0x7f9be967fc70>,\n",
       "  <matplotlib.axis.XTick at 0x7f9bf069c520>,\n",
       "  <matplotlib.axis.XTick at 0x7f9be9634310>,\n",
       "  <matplotlib.axis.XTick at 0x7f9be9d64220>,\n",
       "  <matplotlib.axis.XTick at 0x7f9be9634af0>,\n",
       "  <matplotlib.axis.XTick at 0x7f9be965b040>,\n",
       "  <matplotlib.axis.XTick at 0x7f9be965b550>],\n",
       " [Text(0, 0, 'SA'),\n",
       "  Text(1, 0, 'BAU'),\n",
       "  Text(2, 0, 'BAU_5'),\n",
       "  Text(3, 0, 'BAU_m5'),\n",
       "  Text(4, 0, 'BAUwT'),\n",
       "  Text(5, 0, 'BAUwT_5'),\n",
       "  Text(6, 0, 'BAUwT_m5'),\n",
       "  Text(7, 0, 'BAUwoT')])"
      ]
     },
     "execution_count": 51,
     "metadata": {},
     "output_type": "execute_result"
    }
   ],
   "source": [
    "plt.bar(range(len(regimeAmounts)), list(regimeAmounts.values()), align='center')\n",
    "plt.xticks(range(len(regimeAmounts)), list(regimeAmounts.keys()),rotation=\"vertical\")"
   ]
  },
  {
   "cell_type": "markdown",
   "metadata": {},
   "source": [
    "## Export data as csv\n",
    "\n",
    "- <b>Solution_alldata</b> contains the optimal regime per stand AND the timely development of indicator values plus all other input columns (represented_are_by_NFIplot, region, NUTS2)\n",
    "- <b>Solution</b> contains only the selected optimal regime and its share (if multiple regimes per stand are selected)\n"
   ]
  },
  {
   "cell_type": "code",
   "execution_count": 52,
   "metadata": {},
   "outputs": [],
   "source": [
    "try:\n",
    "    os.mkdir(\"results\")\n",
    "except FileExistsError:\n",
    "    pass\n",
    "b = []\n",
    "c = []\n",
    "for key in mfo.regimesDecision.keys():\n",
    "    if mfo.regimesDecision[key].solution_value() > 0:\n",
    "        b = b+ [(key[0],x*5+2016, key[1]) for x in range(0,21)]\n",
    "        c = c+ [(key[0],key[1],mfo.regimesDecision[key].solution_value())]\n",
    "data2b = mfo.data.iloc[mfo.data.index.isin(b)]\n",
    "data2b.to_csv(\"./results/solutionAlldata_\"+scenario+\"_\"+RCP+\"_\"+extension+\".csv\")\n",
    "c1 = pd.DataFrame(c)\n",
    "c1.to_csv(\"./results/solution_\"+scenario+\"_\"+RCP+\"_\"+extension+\".csv\")"
   ]
  },
  {
   "cell_type": "markdown",
   "metadata": {},
   "source": [
    "## Export objective ranges "
   ]
  },
  {
   "cell_type": "markdown",
   "metadata": {},
   "source": [
    "Save as json file"
   ]
  },
  {
   "cell_type": "code",
   "execution_count": 53,
   "metadata": {},
   "outputs": [],
   "source": [
    "import json\n",
    "mfo.objectiveRanges\n",
    "\n",
    "with open('./results/objectiveRanges_'+scenario+'_'+RCP+'_'+extension+'.json', 'w') as json_file:\n",
    "  json.dump(mfo.objectiveRanges, json_file)"
   ]
  },
  {
   "cell_type": "markdown",
   "metadata": {},
   "source": [
    "Save as CSV."
   ]
  },
  {
   "cell_type": "code",
   "execution_count": 54,
   "metadata": {},
   "outputs": [],
   "source": [
    "df = pd.read_json('./results/objectiveRanges_'+scenario+'_'+RCP+'_'+extension+'.json')\n",
    "\n",
    "df.to_csv('./results/objectiveRanges_'+scenario+'_'+RCP+'_'+extension+'.csv')"
   ]
  },
  {
   "cell_type": "markdown",
   "metadata": {},
   "source": [
    "## Export objective values\n",
    "The optimal solution for each objective."
   ]
  },
  {
   "cell_type": "code",
   "execution_count": 55,
   "metadata": {},
   "outputs": [],
   "source": [
    "with open(\"./results/objectiveValues_\"+scenario+'_'+RCP+'_'+extension+\".csv\",\"w\") as file: \n",
    "    delim = \"\" \n",
    "    for objName in mfo.objectiveTypes.keys(): \n",
    "        file.write(delim+objName) \n",
    "        delim = \",\" \n",
    "    file.write(\"\\n\") \n",
    "    delim = \"\" \n",
    "    for objName in mfo.objectiveTypes.keys(): \n",
    "        file.write(delim+str(mfo.objective[objName].solution_value())) \n",
    "        delim = \",\" \n",
    "    file.write(\"\\n\")"
   ]
  },
  {
   "cell_type": "code",
   "execution_count": null,
   "metadata": {},
   "outputs": [],
   "source": []
  },
  {
   "cell_type": "code",
   "execution_count": null,
   "metadata": {},
   "outputs": [],
   "source": []
  }
 ],
 "metadata": {
  "kernelspec": {
   "display_name": "Python 3",
   "language": "python",
   "name": "python3"
  },
  "language_info": {
   "codemirror_mode": {
    "name": "ipython",
    "version": 3
   },
   "file_extension": ".py",
   "mimetype": "text/x-python",
   "name": "python",
   "nbconvert_exporter": "python",
   "pygments_lexer": "ipython3",
   "version": "3.8.3"
  }
 },
 "nbformat": 4,
 "nbformat_minor": 2
}
