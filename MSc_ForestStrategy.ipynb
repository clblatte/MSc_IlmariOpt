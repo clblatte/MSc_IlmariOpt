{
 "cells": [
  {
   "cell_type": "markdown",
   "metadata": {},
   "source": [
    "# MultiForest optimization notebook\n",
    "\n",
    "## MSc Ilmari: New EU Forest Strategy 2030; Central Finland"
   ]
  },
  {
   "cell_type": "markdown",
   "metadata": {},
   "source": [
    "Above the code cells, there are short instructions how the users can modify the codes in the cells.<br>\n",
    "If there are no instructions, no changes should be needed for the cell by default.\n",
    "\n",
    "A detailed description is provided in the <b>README.md</b> (https://github.com/maeehart/MultiForestDemonstration#readme)"
   ]
  },
  {
   "cell_type": "markdown",
   "metadata": {},
   "source": [
    "## Basic definitions"
   ]
  },
  {
   "cell_type": "markdown",
   "metadata": {},
   "source": [
    "Simulated forest data (climate scenario and name); sample size of data "
   ]
  },
  {
   "cell_type": "code",
   "execution_count": 70,
   "metadata": {},
   "outputs": [],
   "source": [
    "RCP = \"rcp45\" # \"rcp0\" = no climate change, \"rcp45\" = Representative Concentration Pathway 4.5\n",
    "filename = \"sample_central_fin_\"+RCP+\".zip\" # sample_central_fin_rcp0.zip"
   ]
  },
  {
   "cell_type": "markdown",
   "metadata": {},
   "source": [
    "Specify policy scenario: \n",
    "* \"EUFS\" - EU Forest Strategy 2030"
   ]
  },
  {
   "cell_type": "code",
   "execution_count": 71,
   "metadata": {},
   "outputs": [],
   "source": [
    "scenario = \"refBAU\"\n",
    "#scenario = \"refCCF\" "
   ]
  },
  {
   "cell_type": "markdown",
   "metadata": {},
   "source": [
    "Name definition for saved output, rule: ..._scenario_RCP_extension"
   ]
  },
  {
   "cell_type": "code",
   "execution_count": 72,
   "metadata": {},
   "outputs": [],
   "source": [
    "extension = \"V4\" # some additional info to the saved output "
   ]
  },
  {
   "cell_type": "markdown",
   "metadata": {},
   "source": [
    "## Read .py class"
   ]
  },
  {
   "cell_type": "code",
   "execution_count": 73,
   "metadata": {},
   "outputs": [],
   "source": [
    "import wget\n",
    "import os\n",
    "import pandas as pd\n",
    "import sys\n",
    "import numpy as np"
   ]
  },
  {
   "cell_type": "code",
   "execution_count": 74,
   "metadata": {},
   "outputs": [],
   "source": [
    "import multiFunctionalOptimization as MFO"
   ]
  },
  {
   "cell_type": "code",
   "execution_count": 75,
   "metadata": {},
   "outputs": [
    {
     "data": {
      "text/plain": [
       "<module 'multiFunctionalOptimization' from '/home/ubuntu/workspace/opt_ilmari/multiFunctionalOptimization.py'>"
      ]
     },
     "execution_count": 75,
     "metadata": {},
     "output_type": "execute_result"
    }
   ],
   "source": [
    "from importlib import reload\n",
    "reload(MFO)"
   ]
  },
  {
   "cell_type": "markdown",
   "metadata": {},
   "source": [
    "If no solver is specified, the open source solver CLP is used"
   ]
  },
  {
   "cell_type": "code",
   "execution_count": 76,
   "metadata": {},
   "outputs": [
    {
     "data": {
      "text/plain": [
       "'Using CPLEX'"
      ]
     },
     "metadata": {},
     "output_type": "display_data"
    }
   ],
   "source": [
    "mfo = MFO.MultiFunctionalOptimization(solver = 'CPLEX') "
   ]
  },
  {
   "cell_type": "markdown",
   "metadata": {},
   "source": [
    "## Read data"
   ]
  },
  {
   "cell_type": "code",
   "execution_count": 77,
   "metadata": {},
   "outputs": [
    {
     "name": "stdout",
     "output_type": "stream",
     "text": [
      "CPU times: user 821 ms, sys: 502 ms, total: 1.32 s\n",
      "Wall time: 1.32 s\n"
     ]
    }
   ],
   "source": [
    "%%time\n",
    "mfo.readData(filename,\n",
    "             sampleRatio=1 #If no sample ratio given, the ratio is assumed to be 1.\n",
    "            )                "
   ]
  },
  {
   "cell_type": "code",
   "execution_count": 78,
   "metadata": {},
   "outputs": [],
   "source": [
    "id = mfo.data.id\n",
    "\n",
    "def get_unique_numbers(numbers):\n",
    "\n",
    "    list_of_unique_numbers = []\n",
    "\n",
    "    unique_numbers = set(numbers)\n",
    "\n",
    "    for number in unique_numbers:\n",
    "        list_of_unique_numbers.append(number)\n",
    "\n",
    "    return list_of_unique_numbers\n",
    "\n",
    "id = get_unique_numbers(id)\n",
    "id = pd.DataFrame(id)\n",
    "id.to_csv(\"./id_1.csv\")"
   ]
  },
  {
   "cell_type": "markdown",
   "metadata": {},
   "source": [
    "### TEST - REMOVE Fertilization regimes"
   ]
  },
  {
   "cell_type": "code",
   "execution_count": 79,
   "metadata": {},
   "outputs": [],
   "source": [
    "indexNames = mfo.data[(mfo.data[mfo.regimesEnu] == 'BAUwoT_m20_F') | \n",
    "                      (mfo.data[mfo.regimesEnu] == 'BAU_m5_F') | \n",
    "                      (mfo.data[mfo.regimesEnu] == 'BAU_F') |\n",
    "                      (mfo.data[mfo.regimesEnu] == 'BAUwT_F') | \n",
    "                      (mfo.data[mfo.regimesEnu] == 'BAUwT_m5_F') ].index \n",
    "mfo.data.drop(indexNames, inplace = True)"
   ]
  },
  {
   "cell_type": "code",
   "execution_count": 80,
   "metadata": {},
   "outputs": [
    {
     "data": {
      "text/plain": [
       "SA               71580\n",
       "CCF_1            66760\n",
       "BAUwoT_m20       66600\n",
       "BAU_m5           66580\n",
       "CCF_2            66520\n",
       "BAU              66500\n",
       "BAUwGTR          66500\n",
       "BAUwoT           66500\n",
       "BAU_5            66280\n",
       "CCF_3            65760\n",
       "BAU_15           64700\n",
       "CCF_4            63760\n",
       "BAU_30           56720\n",
       "BAUwT_5          44420\n",
       "BAUwT_m5         44420\n",
       "BAUwT            44420\n",
       "BAUwT_30         44420\n",
       "BAUwT_GTR        44420\n",
       "BAUwT_15         44420\n",
       "BAUwT_15_B       28800\n",
       "BAUwT_B          28800\n",
       "BAUwT_GTR_B      28800\n",
       "BAUwT_30_B       28800\n",
       "BAUwT_5_B        28800\n",
       "initial_state     3579\n",
       "Name: regime, dtype: int64"
      ]
     },
     "execution_count": 80,
     "metadata": {},
     "output_type": "execute_result"
    }
   ],
   "source": [
    "mfo.data[mfo.regimesEnu].value_counts()"
   ]
  },
  {
   "cell_type": "code",
   "execution_count": 81,
   "metadata": {},
   "outputs": [
    {
     "name": "stdout",
     "output_type": "stream",
     "text": [
      "regimes for refBAU loaded\n"
     ]
    }
   ],
   "source": [
    "# regimes for the BAU reference scenario\n",
    "\n",
    "if scenario == 'refBAU':\n",
    "    # MAYBE WE CAN TRY FIRST THIS \n",
    "    # if this already helps to screw down the peaks then we do not need the regimes with +5/-5\n",
    "    #mfo.data = mfo.data[mfo.data['regime'].isin(['SA', 'BAU', 'BAUwoT', 'BAUwT', 'initial_state']) ]\n",
    "\n",
    "    # If we still have peaks, we include for the BAU scenario also the +/- 5 regimes\n",
    "    mfo.data = mfo.data[mfo.data['regime'].isin(['SA',\n",
    "                                             'BAU', 'BAUwoT', 'BAUwT', 'BAU_m5', 'BAUwT_m5', 'BAU_5', 'BAUwT_5',\n",
    "                                             'initial_state']) ]\n",
    "\n",
    "    print(\"regimes for refBAU loaded\")"
   ]
  },
  {
   "cell_type": "code",
   "execution_count": 82,
   "metadata": {},
   "outputs": [],
   "source": [
    "# regimes for the CCF reference scenario\n",
    "if scenario == 'refCCF':\n",
    "    mfo.data = mfo.data[mfo.data['regime'].isin(['SA', 'CCF_3', 'CCF_4', \"BAUwGTR\", \"BAUwT_GTR\",'initial_state']) ] # 'CCF_1',\n",
    "    \n",
    "    print(\"objectives for refCCF loaded\")"
   ]
  },
  {
   "cell_type": "code",
   "execution_count": 83,
   "metadata": {},
   "outputs": [
    {
     "data": {
      "text/plain": [
       "SA               71580\n",
       "BAU_m5           66580\n",
       "BAU              66500\n",
       "BAUwoT           66500\n",
       "BAU_5            66280\n",
       "BAUwT_5          44420\n",
       "BAUwT_m5         44420\n",
       "BAUwT            44420\n",
       "initial_state     3579\n",
       "Name: regime, dtype: int64"
      ]
     },
     "execution_count": 83,
     "metadata": {},
     "output_type": "execute_result"
    }
   ],
   "source": [
    "mfo.data[mfo.regimesEnu].value_counts()"
   ]
  },
  {
   "cell_type": "markdown",
   "metadata": {},
   "source": [
    "## Create some new variables in the data"
   ]
  },
  {
   "cell_type": "markdown",
   "metadata": {},
   "source": [
    "Calculate total (per stand) values from relative values:\n",
    "* \"Relative to Area\" = simulated indicator value relate to one hectar -> scaled to represented area of NFI plot <br>\n",
    "* (\"Relative to volume\" = indicator relates to standing Volume -> scaled to the represented volume of the plot) <br>\n",
    "* (\"Absolute Value\" = takes the inticator value as it is)"
   ]
  },
  {
   "cell_type": "code",
   "execution_count": 84,
   "metadata": {},
   "outputs": [],
   "source": [
    "columnTypes = {\n",
    "    'i_Vm3':(float,\"Relative to Area\"),\n",
    "    'Harvested_V':(float,\"Relative to Area\"),\n",
    "    'Harvested_V_log_under_bark':(float,\"Relative to Area\"), \n",
    "    'Harvested_V_pulp_under_bark':(float,\"Relative to Area\"),\n",
    "    'Harvested_V_under_bark':(float,\"Relative to Area\"), \n",
    "    'Biomass':(float,\"Relative to Area\"),\n",
    "    'ALL_MARKETED_MUSHROOMS':(float,\"Relative to Area\"), \n",
    "    'BILBERRY':(float,\"Relative to Area\"), \n",
    "    'COWBERRY':(float,\"Relative to Area\"),\n",
    "    'HSI_MOOSE':(float,\"Relative to Area\"),\n",
    "    'CAPERCAILLIE':(float,\"Relative to Area\"), \n",
    "    'HAZEL_GROUSE':(float,\"Relative to Area\"), \n",
    "    'V_total_deadwood':(float,\"Relative to Area\"), \n",
    "    'N_where_D_gt_40':(float,\"Relative to Area\"),\n",
    "    'prc_V_deciduous':(float,\"Relative to Area\"),\n",
    "    'CARBON_SINK':(float,\"Relative to Area\"), \n",
    "    'Recreation':(float,\"Relative to Area\"),\n",
    "    'Scenic':(float,\"Relative to Area\")\n",
    "}"
   ]
  },
  {
   "cell_type": "code",
   "execution_count": 85,
   "metadata": {},
   "outputs": [],
   "source": [
    "mfo.calculateTotalValuesFromRelativeValues(columnTypes=columnTypes)"
   ]
  },
  {
   "cell_type": "markdown",
   "metadata": {},
   "source": [
    "List the new created columns: <br>\n",
    "* Total_... hectare value multiplied by represented area (or volume)"
   ]
  },
  {
   "cell_type": "code",
   "execution_count": 86,
   "metadata": {},
   "outputs": [
    {
     "data": {
      "text/plain": [
       "['Total_i_Vm3',\n",
       " 'Total_Harvested_V',\n",
       " 'Total_Harvested_V_log_under_bark',\n",
       " 'Total_Harvested_V_pulp_under_bark',\n",
       " 'Total_Harvested_V_under_bark',\n",
       " 'Total_Biomass',\n",
       " 'Total_ALL_MARKETED_MUSHROOMS',\n",
       " 'Total_BILBERRY',\n",
       " 'Total_COWBERRY',\n",
       " 'Total_HSI_MOOSE',\n",
       " 'Total_CAPERCAILLIE',\n",
       " 'Total_HAZEL_GROUSE',\n",
       " 'Total_V_total_deadwood',\n",
       " 'Total_N_where_D_gt_40',\n",
       " 'Total_prc_V_deciduous',\n",
       " 'Total_CARBON_SINK',\n",
       " 'Total_Recreation',\n",
       " 'Total_Scenic']"
      ]
     },
     "execution_count": 86,
     "metadata": {},
     "output_type": "execute_result"
    }
   ],
   "source": [
    "[name for name in mfo.data.columns if \"Total_\" in name and \"Relative\" not in name]"
   ]
  },
  {
   "cell_type": "markdown",
   "metadata": {},
   "source": [
    "## Create new column\n",
    "1) Column indicating if regime is \"CCF_3, CCF_4, BAUwGTR\" (TRUE/FLASE) <br>\n",
    "Important for FES Biodiversity, allowed regimes for conservation sites.\n",
    "\n",
    "2) Column indicating if regime is \"SA\" (TRUE/FALSE)<br>\n",
    "Important for FES Biodiversity, allowed regimes for statutory protection sites.\n",
    "\n",
    "3) Column indicating if regime is \"BAUwT_B, BAUwT_5_B, BAUwT_15_B, BAUwT_30_B, BAUwT_GTR_B\" <br>\n",
    "Important for FES Resillience, allowed regimes for climate change adaption."
   ]
  },
  {
   "cell_type": "code",
   "execution_count": 87,
   "metadata": {},
   "outputs": [],
   "source": [
    "regimeClassNames = {\"regimeClass0name\":\"CCF\",\n",
    "                    \"regimeClass1name\":\"SA\",\n",
    "                    \"regimeClass2name\":\"Broadleave\"}\n",
    "regimeClassregimes = {\"regimeClass0regimes\":[\"CCF_3\",\"CCF_4\",\"BAUwGTR\", \"BAUwT_GTR\"],\n",
    "                      \"regimeClass1regimes\":[\"SA\"],\n",
    "                      \"regimeClass2regimes\":[\"BAUwT_B\", \"BAUwT_5_B\", \"BAUwT_15_B\", \"BAUwT_30_B\", \"BAUwT_GTR_B\"]}"
   ]
  },
  {
   "cell_type": "code",
   "execution_count": 88,
   "metadata": {},
   "outputs": [],
   "source": [
    "mfo.addRegimeClassifications(regimeClassNames = regimeClassNames,regimeClassregimes=regimeClassregimes)"
   ]
  },
  {
   "cell_type": "markdown",
   "metadata": {},
   "source": [
    "### % of stands falling in strictly protected areas"
   ]
  },
  {
   "cell_type": "code",
   "execution_count": 89,
   "metadata": {},
   "outputs": [
    {
     "data": {
      "text/plain": [
       "['id',\n",
       " 'year',\n",
       " 'regime',\n",
       " 'V',\n",
       " 'i_Vm3',\n",
       " 'Harvested_V',\n",
       " 'Harvested_V_log_under_bark',\n",
       " 'Harvested_V_pulp_under_bark',\n",
       " 'Harvested_V_under_bark',\n",
       " 'MAIN_SP',\n",
       " 'Age',\n",
       " 'AGE_ba',\n",
       " 'SC',\n",
       " 'Biomass',\n",
       " 'ALL_MARKETED_MUSHROOMS',\n",
       " 'BILBERRY',\n",
       " 'COWBERRY',\n",
       " 'HSI_MOOSE',\n",
       " 'CAPERCAILLIE',\n",
       " 'HAZEL_GROUSE',\n",
       " 'V_total_deadwood',\n",
       " 'N_where_D_gt_40',\n",
       " 'prc_V_deciduous',\n",
       " 'PEAT',\n",
       " 'clearcut',\n",
       " 'CARBON_SINK',\n",
       " 'CARBON_STORAGE_Update',\n",
       " 'Recreation',\n",
       " 'Scenic',\n",
       " 'scenario',\n",
       " 'represented_area_by_NFIplot',\n",
       " 'region',\n",
       " 'NUTS2_GL',\n",
       " 'protection',\n",
       " 'Total_i_Vm3',\n",
       " 'Total_Harvested_V',\n",
       " 'Total_Harvested_V_log_under_bark',\n",
       " 'Total_Harvested_V_pulp_under_bark',\n",
       " 'Total_Harvested_V_under_bark',\n",
       " 'Total_Biomass',\n",
       " 'Total_ALL_MARKETED_MUSHROOMS',\n",
       " 'Total_BILBERRY',\n",
       " 'Total_COWBERRY',\n",
       " 'Total_HSI_MOOSE',\n",
       " 'Total_CAPERCAILLIE',\n",
       " 'Total_HAZEL_GROUSE',\n",
       " 'Total_V_total_deadwood',\n",
       " 'Total_N_where_D_gt_40',\n",
       " 'Total_prc_V_deciduous',\n",
       " 'Total_CARBON_SINK',\n",
       " 'Total_Recreation',\n",
       " 'Total_Scenic',\n",
       " 'CCF_forests',\n",
       " 'SA_forests',\n",
       " 'Broadleave_forests']"
      ]
     },
     "execution_count": 89,
     "metadata": {},
     "output_type": "execute_result"
    }
   ],
   "source": [
    "list(mfo.data)"
   ]
  },
  {
   "cell_type": "code",
   "execution_count": 90,
   "metadata": {},
   "outputs": [
    {
     "data": {
      "text/plain": [
       "3579"
      ]
     },
     "execution_count": 90,
     "metadata": {},
     "output_type": "execute_result"
    }
   ],
   "source": [
    "# Number of all stands\n",
    "# len(mfo.data[\"id\"].unique())\n",
    "standid = mfo.data.drop_duplicates(['id'])\n",
    "len(standid)"
   ]
  },
  {
   "cell_type": "code",
   "execution_count": 91,
   "metadata": {},
   "outputs": [
    {
     "data": {
      "text/plain": [
       "2.7102542609667504"
      ]
     },
     "execution_count": 91,
     "metadata": {},
     "output_type": "execute_result"
    }
   ],
   "source": [
    "len(standid[(standid[\"protection\"] == \"strict\")]) / len(standid) * 100"
   ]
  },
  {
   "cell_type": "markdown",
   "metadata": {},
   "source": [
    "### % of stands only with set aside (incl. strictly protected & other unmanaged)"
   ]
  },
  {
   "cell_type": "code",
   "execution_count": 92,
   "metadata": {},
   "outputs": [
    {
     "data": {
      "text/plain": [
       "6.007264599050014"
      ]
     },
     "execution_count": 92,
     "metadata": {},
     "output_type": "execute_result"
    }
   ],
   "source": [
    "managed = mfo.data[(mfo.data[\"regime\"] != \"SA\") & (mfo.data[\"regime\"] != \"initial_state\")]\n",
    "not_managed = mfo.data[(mfo.data[\"regime\"] == \"SA\") ]\n",
    "\n",
    "( len(not_managed[\"id\"].unique()) - len(managed[\"id\"].unique()) ) / len(not_managed[\"id\"].unique()) * 100"
   ]
  },
  {
   "cell_type": "markdown",
   "metadata": {},
   "source": [
    "### Define primary/old forest for additional protection"
   ]
  },
  {
   "cell_type": "code",
   "execution_count": 93,
   "metadata": {},
   "outputs": [
    {
     "data": {
      "text/plain": [
       "array([2, 0, 1, 4, 3, 6, 9, 5, 8])"
      ]
     },
     "execution_count": 93,
     "metadata": {},
     "output_type": "execute_result"
    }
   ],
   "source": [
    "mfo.data['MAIN_SP'].unique()"
   ]
  },
  {
   "cell_type": "code",
   "execution_count": 94,
   "metadata": {},
   "outputs": [],
   "source": [
    "# value>1 Pinus sylvestris\n",
    "# value>2 Picea abies\n",
    "# value>3 Betula pendula\n",
    "# value>4 Betula pubescens\n",
    "# value>5 Populus tremula\n",
    "# value>6 Alnus incana\n",
    "# value>7 Alnus glutinosa<\n",
    "# value>8 other coniferous tree species\n",
    "# value>9 other decidious tree species\n",
    "\n",
    "list_conifer = [1,2,8]\n",
    "list_broadleave = [3,4,5,6,7,9]"
   ]
  },
  {
   "cell_type": "code",
   "execution_count": 95,
   "metadata": {},
   "outputs": [],
   "source": [
    "# column indicating if old forest AND if regime SA\n",
    "mfo.data['Old_forests'] = np.where(\n",
    "    (mfo.data['AGE_ba'] >= 90) & (mfo.data['MAIN_SP'].isin(list_conifer) & (mfo.data['SA_forests'] == True) & (mfo.data['protection'] != \"strict\")) |\n",
    "    (mfo.data['AGE_ba'] >= 90) & (mfo.data['MAIN_SP'].isin(list_broadleave) & (mfo.data['SA_forests'] == True) & (mfo.data['protection'] != \"strict\"))\n",
    "        , True, False\n",
    ")"
   ]
  },
  {
   "cell_type": "markdown",
   "metadata": {},
   "source": [
    "## Define initial value\n",
    "1) Define initial values, recognized by the regime \"initial_state\", which only occurs at the first year (here 2016)\n",
    "\n",
    "2) Create new variables that describe the <b>relative change to initial situation (start year) \"Relative_\"</b>:"
   ]
  },
  {
   "cell_type": "code",
   "execution_count": 96,
   "metadata": {},
   "outputs": [],
   "source": [
    "mfo.finalizeData(initialRegime=\"initial_state\")"
   ]
  },
  {
   "cell_type": "markdown",
   "metadata": {},
   "source": [
    "New variables created:"
   ]
  },
  {
   "cell_type": "code",
   "execution_count": 97,
   "metadata": {},
   "outputs": [
    {
     "data": {
      "text/plain": [
       "['Relative_V',\n",
       " 'Relative_Age',\n",
       " 'Relative_AGE_ba',\n",
       " 'Relative_ALL_MARKETED_MUSHROOMS',\n",
       " 'Relative_BILBERRY',\n",
       " 'Relative_COWBERRY',\n",
       " 'Relative_HSI_MOOSE',\n",
       " 'Relative_CAPERCAILLIE',\n",
       " 'Relative_HAZEL_GROUSE',\n",
       " 'Relative_V_total_deadwood',\n",
       " 'Relative_N_where_D_gt_40',\n",
       " 'Relative_prc_V_deciduous',\n",
       " 'Relative_CARBON_STORAGE_Update',\n",
       " 'Relative_Recreation',\n",
       " 'Relative_Scenic',\n",
       " 'Relative_Total_ALL_MARKETED_MUSHROOMS',\n",
       " 'Relative_Total_BILBERRY',\n",
       " 'Relative_Total_COWBERRY',\n",
       " 'Relative_Total_HSI_MOOSE',\n",
       " 'Relative_Total_CAPERCAILLIE',\n",
       " 'Relative_Total_HAZEL_GROUSE',\n",
       " 'Relative_Total_V_total_deadwood',\n",
       " 'Relative_Total_N_where_D_gt_40',\n",
       " 'Relative_Total_prc_V_deciduous',\n",
       " 'Relative_Total_Recreation',\n",
       " 'Relative_Total_Scenic']"
      ]
     },
     "execution_count": 97,
     "metadata": {},
     "output_type": "execute_result"
    }
   ],
   "source": [
    "[name for name in mfo.data.columns if \"Relative_\" in name]"
   ]
  },
  {
   "cell_type": "code",
   "execution_count": 98,
   "metadata": {},
   "outputs": [
    {
     "data": {
      "text/html": [
       "<div>\n",
       "<style scoped>\n",
       "    .dataframe tbody tr th:only-of-type {\n",
       "        vertical-align: middle;\n",
       "    }\n",
       "\n",
       "    .dataframe tbody tr th {\n",
       "        vertical-align: top;\n",
       "    }\n",
       "\n",
       "    .dataframe thead th {\n",
       "        text-align: right;\n",
       "    }\n",
       "</style>\n",
       "<table border=\"1\" class=\"dataframe\">\n",
       "  <thead>\n",
       "    <tr style=\"text-align: right;\">\n",
       "      <th></th>\n",
       "      <th></th>\n",
       "      <th></th>\n",
       "      <th>V</th>\n",
       "      <th>i_Vm3</th>\n",
       "      <th>Harvested_V</th>\n",
       "      <th>Harvested_V_log_under_bark</th>\n",
       "      <th>Harvested_V_pulp_under_bark</th>\n",
       "      <th>Harvested_V_under_bark</th>\n",
       "      <th>MAIN_SP</th>\n",
       "      <th>Age</th>\n",
       "      <th>AGE_ba</th>\n",
       "      <th>SC</th>\n",
       "      <th>...</th>\n",
       "      <th>Relative_Total_BILBERRY</th>\n",
       "      <th>Relative_Total_COWBERRY</th>\n",
       "      <th>Relative_Total_HSI_MOOSE</th>\n",
       "      <th>Relative_Total_CAPERCAILLIE</th>\n",
       "      <th>Relative_Total_HAZEL_GROUSE</th>\n",
       "      <th>Relative_Total_V_total_deadwood</th>\n",
       "      <th>Relative_Total_N_where_D_gt_40</th>\n",
       "      <th>Relative_Total_prc_V_deciduous</th>\n",
       "      <th>Relative_Total_Recreation</th>\n",
       "      <th>Relative_Total_Scenic</th>\n",
       "    </tr>\n",
       "    <tr>\n",
       "      <th>id</th>\n",
       "      <th>year</th>\n",
       "      <th>regime</th>\n",
       "      <th></th>\n",
       "      <th></th>\n",
       "      <th></th>\n",
       "      <th></th>\n",
       "      <th></th>\n",
       "      <th></th>\n",
       "      <th></th>\n",
       "      <th></th>\n",
       "      <th></th>\n",
       "      <th></th>\n",
       "      <th></th>\n",
       "      <th></th>\n",
       "      <th></th>\n",
       "      <th></th>\n",
       "      <th></th>\n",
       "      <th></th>\n",
       "      <th></th>\n",
       "      <th></th>\n",
       "      <th></th>\n",
       "      <th></th>\n",
       "      <th></th>\n",
       "    </tr>\n",
       "  </thead>\n",
       "  <tbody>\n",
       "    <tr>\n",
       "      <th rowspan=\"5\" valign=\"top\">99011012</th>\n",
       "      <th rowspan=\"5\" valign=\"top\">2021</th>\n",
       "      <th>BAU</th>\n",
       "      <td>113.94</td>\n",
       "      <td>10.59</td>\n",
       "      <td>0.0</td>\n",
       "      <td>0.0</td>\n",
       "      <td>0.0</td>\n",
       "      <td>0.0</td>\n",
       "      <td>3</td>\n",
       "      <td>24.0</td>\n",
       "      <td>29.26</td>\n",
       "      <td>2</td>\n",
       "      <td>...</td>\n",
       "      <td>0.000124</td>\n",
       "      <td>0.000225</td>\n",
       "      <td>0.0</td>\n",
       "      <td>0.0</td>\n",
       "      <td>0.0</td>\n",
       "      <td>0.000308</td>\n",
       "      <td>0.0</td>\n",
       "      <td>0.000776</td>\n",
       "      <td>0.00024</td>\n",
       "      <td>0.000199</td>\n",
       "    </tr>\n",
       "    <tr>\n",
       "      <th>BAU_5</th>\n",
       "      <td>113.94</td>\n",
       "      <td>10.59</td>\n",
       "      <td>0.0</td>\n",
       "      <td>0.0</td>\n",
       "      <td>0.0</td>\n",
       "      <td>0.0</td>\n",
       "      <td>3</td>\n",
       "      <td>24.0</td>\n",
       "      <td>29.26</td>\n",
       "      <td>2</td>\n",
       "      <td>...</td>\n",
       "      <td>0.000124</td>\n",
       "      <td>0.000225</td>\n",
       "      <td>0.0</td>\n",
       "      <td>0.0</td>\n",
       "      <td>0.0</td>\n",
       "      <td>0.000308</td>\n",
       "      <td>0.0</td>\n",
       "      <td>0.000776</td>\n",
       "      <td>0.00024</td>\n",
       "      <td>0.000199</td>\n",
       "    </tr>\n",
       "    <tr>\n",
       "      <th>BAU_m5</th>\n",
       "      <td>113.94</td>\n",
       "      <td>10.59</td>\n",
       "      <td>0.0</td>\n",
       "      <td>0.0</td>\n",
       "      <td>0.0</td>\n",
       "      <td>0.0</td>\n",
       "      <td>3</td>\n",
       "      <td>24.0</td>\n",
       "      <td>29.26</td>\n",
       "      <td>2</td>\n",
       "      <td>...</td>\n",
       "      <td>0.000124</td>\n",
       "      <td>0.000225</td>\n",
       "      <td>0.0</td>\n",
       "      <td>0.0</td>\n",
       "      <td>0.0</td>\n",
       "      <td>0.000308</td>\n",
       "      <td>0.0</td>\n",
       "      <td>0.000776</td>\n",
       "      <td>0.00024</td>\n",
       "      <td>0.000199</td>\n",
       "    </tr>\n",
       "    <tr>\n",
       "      <th>BAUwT</th>\n",
       "      <td>113.94</td>\n",
       "      <td>10.59</td>\n",
       "      <td>0.0</td>\n",
       "      <td>0.0</td>\n",
       "      <td>0.0</td>\n",
       "      <td>0.0</td>\n",
       "      <td>3</td>\n",
       "      <td>24.0</td>\n",
       "      <td>29.26</td>\n",
       "      <td>2</td>\n",
       "      <td>...</td>\n",
       "      <td>0.000124</td>\n",
       "      <td>0.000225</td>\n",
       "      <td>0.0</td>\n",
       "      <td>0.0</td>\n",
       "      <td>0.0</td>\n",
       "      <td>0.000308</td>\n",
       "      <td>0.0</td>\n",
       "      <td>0.000776</td>\n",
       "      <td>0.00024</td>\n",
       "      <td>0.000199</td>\n",
       "    </tr>\n",
       "    <tr>\n",
       "      <th>BAUwT_5</th>\n",
       "      <td>113.94</td>\n",
       "      <td>10.59</td>\n",
       "      <td>0.0</td>\n",
       "      <td>0.0</td>\n",
       "      <td>0.0</td>\n",
       "      <td>0.0</td>\n",
       "      <td>3</td>\n",
       "      <td>24.0</td>\n",
       "      <td>29.26</td>\n",
       "      <td>2</td>\n",
       "      <td>...</td>\n",
       "      <td>0.000124</td>\n",
       "      <td>0.000225</td>\n",
       "      <td>0.0</td>\n",
       "      <td>0.0</td>\n",
       "      <td>0.0</td>\n",
       "      <td>0.000308</td>\n",
       "      <td>0.0</td>\n",
       "      <td>0.000776</td>\n",
       "      <td>0.00024</td>\n",
       "      <td>0.000199</td>\n",
       "    </tr>\n",
       "  </tbody>\n",
       "</table>\n",
       "<p>5 rows × 79 columns</p>\n",
       "</div>"
      ],
      "text/plain": [
       "                            V  i_Vm3  Harvested_V  Harvested_V_log_under_bark  \\\n",
       "id       year regime                                                            \n",
       "99011012 2021 BAU      113.94  10.59          0.0                         0.0   \n",
       "              BAU_5    113.94  10.59          0.0                         0.0   \n",
       "              BAU_m5   113.94  10.59          0.0                         0.0   \n",
       "              BAUwT    113.94  10.59          0.0                         0.0   \n",
       "              BAUwT_5  113.94  10.59          0.0                         0.0   \n",
       "\n",
       "                       Harvested_V_pulp_under_bark  Harvested_V_under_bark  \\\n",
       "id       year regime                                                         \n",
       "99011012 2021 BAU                              0.0                     0.0   \n",
       "              BAU_5                            0.0                     0.0   \n",
       "              BAU_m5                           0.0                     0.0   \n",
       "              BAUwT                            0.0                     0.0   \n",
       "              BAUwT_5                          0.0                     0.0   \n",
       "\n",
       "                       MAIN_SP   Age  AGE_ba  SC  ...  \\\n",
       "id       year regime                              ...   \n",
       "99011012 2021 BAU            3  24.0   29.26   2  ...   \n",
       "              BAU_5          3  24.0   29.26   2  ...   \n",
       "              BAU_m5         3  24.0   29.26   2  ...   \n",
       "              BAUwT          3  24.0   29.26   2  ...   \n",
       "              BAUwT_5        3  24.0   29.26   2  ...   \n",
       "\n",
       "                       Relative_Total_BILBERRY  Relative_Total_COWBERRY  \\\n",
       "id       year regime                                                      \n",
       "99011012 2021 BAU                     0.000124                 0.000225   \n",
       "              BAU_5                   0.000124                 0.000225   \n",
       "              BAU_m5                  0.000124                 0.000225   \n",
       "              BAUwT                   0.000124                 0.000225   \n",
       "              BAUwT_5                 0.000124                 0.000225   \n",
       "\n",
       "                       Relative_Total_HSI_MOOSE  Relative_Total_CAPERCAILLIE  \\\n",
       "id       year regime                                                           \n",
       "99011012 2021 BAU                           0.0                          0.0   \n",
       "              BAU_5                         0.0                          0.0   \n",
       "              BAU_m5                        0.0                          0.0   \n",
       "              BAUwT                         0.0                          0.0   \n",
       "              BAUwT_5                       0.0                          0.0   \n",
       "\n",
       "                       Relative_Total_HAZEL_GROUSE  \\\n",
       "id       year regime                                 \n",
       "99011012 2021 BAU                              0.0   \n",
       "              BAU_5                            0.0   \n",
       "              BAU_m5                           0.0   \n",
       "              BAUwT                            0.0   \n",
       "              BAUwT_5                          0.0   \n",
       "\n",
       "                       Relative_Total_V_total_deadwood  \\\n",
       "id       year regime                                     \n",
       "99011012 2021 BAU                             0.000308   \n",
       "              BAU_5                           0.000308   \n",
       "              BAU_m5                          0.000308   \n",
       "              BAUwT                           0.000308   \n",
       "              BAUwT_5                         0.000308   \n",
       "\n",
       "                       Relative_Total_N_where_D_gt_40  \\\n",
       "id       year regime                                    \n",
       "99011012 2021 BAU                                 0.0   \n",
       "              BAU_5                               0.0   \n",
       "              BAU_m5                              0.0   \n",
       "              BAUwT                               0.0   \n",
       "              BAUwT_5                             0.0   \n",
       "\n",
       "                       Relative_Total_prc_V_deciduous  \\\n",
       "id       year regime                                    \n",
       "99011012 2021 BAU                            0.000776   \n",
       "              BAU_5                          0.000776   \n",
       "              BAU_m5                         0.000776   \n",
       "              BAUwT                          0.000776   \n",
       "              BAUwT_5                        0.000776   \n",
       "\n",
       "                       Relative_Total_Recreation  Relative_Total_Scenic  \n",
       "id       year regime                                                     \n",
       "99011012 2021 BAU                        0.00024               0.000199  \n",
       "              BAU_5                      0.00024               0.000199  \n",
       "              BAU_m5                     0.00024               0.000199  \n",
       "              BAUwT                      0.00024               0.000199  \n",
       "              BAUwT_5                    0.00024               0.000199  \n",
       "\n",
       "[5 rows x 79 columns]"
      ]
     },
     "execution_count": 98,
     "metadata": {},
     "output_type": "execute_result"
    }
   ],
   "source": [
    "mfo.data.head()"
   ]
  },
  {
   "cell_type": "code",
   "execution_count": 99,
   "metadata": {},
   "outputs": [
    {
     "data": {
      "text/html": [
       "<div>\n",
       "<style scoped>\n",
       "    .dataframe tbody tr th:only-of-type {\n",
       "        vertical-align: middle;\n",
       "    }\n",
       "\n",
       "    .dataframe tbody tr th {\n",
       "        vertical-align: top;\n",
       "    }\n",
       "\n",
       "    .dataframe thead th {\n",
       "        text-align: right;\n",
       "    }\n",
       "</style>\n",
       "<table border=\"1\" class=\"dataframe\">\n",
       "  <thead>\n",
       "    <tr style=\"text-align: right;\">\n",
       "      <th></th>\n",
       "      <th></th>\n",
       "      <th></th>\n",
       "      <th>V</th>\n",
       "      <th>i_Vm3</th>\n",
       "      <th>Harvested_V</th>\n",
       "      <th>Harvested_V_log_under_bark</th>\n",
       "      <th>Harvested_V_pulp_under_bark</th>\n",
       "      <th>Harvested_V_under_bark</th>\n",
       "      <th>MAIN_SP</th>\n",
       "      <th>Age</th>\n",
       "      <th>AGE_ba</th>\n",
       "      <th>SC</th>\n",
       "      <th>...</th>\n",
       "      <th>Total_V_total_deadwood</th>\n",
       "      <th>Total_N_where_D_gt_40</th>\n",
       "      <th>Total_prc_V_deciduous</th>\n",
       "      <th>Total_CARBON_SINK</th>\n",
       "      <th>Total_Recreation</th>\n",
       "      <th>Total_Scenic</th>\n",
       "      <th>CCF_forests</th>\n",
       "      <th>SA_forests</th>\n",
       "      <th>Broadleave_forests</th>\n",
       "      <th>Old_forests</th>\n",
       "    </tr>\n",
       "    <tr>\n",
       "      <th>id</th>\n",
       "      <th>year</th>\n",
       "      <th>regime</th>\n",
       "      <th></th>\n",
       "      <th></th>\n",
       "      <th></th>\n",
       "      <th></th>\n",
       "      <th></th>\n",
       "      <th></th>\n",
       "      <th></th>\n",
       "      <th></th>\n",
       "      <th></th>\n",
       "      <th></th>\n",
       "      <th></th>\n",
       "      <th></th>\n",
       "      <th></th>\n",
       "      <th></th>\n",
       "      <th></th>\n",
       "      <th></th>\n",
       "      <th></th>\n",
       "      <th></th>\n",
       "      <th></th>\n",
       "      <th></th>\n",
       "      <th></th>\n",
       "    </tr>\n",
       "  </thead>\n",
       "  <tbody>\n",
       "    <tr>\n",
       "      <th>99011012</th>\n",
       "      <th>2016</th>\n",
       "      <th>initial_state</th>\n",
       "      <td>64.83</td>\n",
       "      <td>0.0</td>\n",
       "      <td>0.0</td>\n",
       "      <td>0.0</td>\n",
       "      <td>0.0</td>\n",
       "      <td>0.0</td>\n",
       "      <td>3</td>\n",
       "      <td>16.0</td>\n",
       "      <td>26.86</td>\n",
       "      <td>2</td>\n",
       "      <td>...</td>\n",
       "      <td>1508.60</td>\n",
       "      <td>0.0</td>\n",
       "      <td>26996.0</td>\n",
       "      <td>0.0</td>\n",
       "      <td>1915.525</td>\n",
       "      <td>1424.833</td>\n",
       "      <td>False</td>\n",
       "      <td>False</td>\n",
       "      <td>False</td>\n",
       "      <td>False</td>\n",
       "    </tr>\n",
       "    <tr>\n",
       "      <th>99011013</th>\n",
       "      <th>2016</th>\n",
       "      <th>initial_state</th>\n",
       "      <td>27.12</td>\n",
       "      <td>0.0</td>\n",
       "      <td>0.0</td>\n",
       "      <td>0.0</td>\n",
       "      <td>0.0</td>\n",
       "      <td>0.0</td>\n",
       "      <td>2</td>\n",
       "      <td>15.0</td>\n",
       "      <td>14.92</td>\n",
       "      <td>2</td>\n",
       "      <td>...</td>\n",
       "      <td>1508.60</td>\n",
       "      <td>0.0</td>\n",
       "      <td>4764.0</td>\n",
       "      <td>0.0</td>\n",
       "      <td>1818.260</td>\n",
       "      <td>1428.406</td>\n",
       "      <td>False</td>\n",
       "      <td>False</td>\n",
       "      <td>False</td>\n",
       "      <td>False</td>\n",
       "    </tr>\n",
       "    <tr>\n",
       "      <th>99011014</th>\n",
       "      <th>2016</th>\n",
       "      <th>initial_state</th>\n",
       "      <td>374.02</td>\n",
       "      <td>0.0</td>\n",
       "      <td>0.0</td>\n",
       "      <td>0.0</td>\n",
       "      <td>0.0</td>\n",
       "      <td>0.0</td>\n",
       "      <td>2</td>\n",
       "      <td>80.0</td>\n",
       "      <td>79.48</td>\n",
       "      <td>1</td>\n",
       "      <td>...</td>\n",
       "      <td>1496.69</td>\n",
       "      <td>0.0</td>\n",
       "      <td>1191.0</td>\n",
       "      <td>0.0</td>\n",
       "      <td>2503.879</td>\n",
       "      <td>2317.289</td>\n",
       "      <td>False</td>\n",
       "      <td>False</td>\n",
       "      <td>False</td>\n",
       "      <td>False</td>\n",
       "    </tr>\n",
       "    <tr>\n",
       "      <th>99011015</th>\n",
       "      <th>2016</th>\n",
       "      <th>initial_state</th>\n",
       "      <td>4.19</td>\n",
       "      <td>0.0</td>\n",
       "      <td>0.0</td>\n",
       "      <td>0.0</td>\n",
       "      <td>0.0</td>\n",
       "      <td>0.0</td>\n",
       "      <td>2</td>\n",
       "      <td>11.0</td>\n",
       "      <td>9.42</td>\n",
       "      <td>2</td>\n",
       "      <td>...</td>\n",
       "      <td>1496.69</td>\n",
       "      <td>0.0</td>\n",
       "      <td>12307.0</td>\n",
       "      <td>0.0</td>\n",
       "      <td>1565.371</td>\n",
       "      <td>1272.385</td>\n",
       "      <td>False</td>\n",
       "      <td>False</td>\n",
       "      <td>False</td>\n",
       "      <td>False</td>\n",
       "    </tr>\n",
       "    <tr>\n",
       "      <th>99011016</th>\n",
       "      <th>2016</th>\n",
       "      <th>initial_state</th>\n",
       "      <td>141.85</td>\n",
       "      <td>0.0</td>\n",
       "      <td>0.0</td>\n",
       "      <td>0.0</td>\n",
       "      <td>0.0</td>\n",
       "      <td>0.0</td>\n",
       "      <td>1</td>\n",
       "      <td>89.0</td>\n",
       "      <td>71.71</td>\n",
       "      <td>4</td>\n",
       "      <td>...</td>\n",
       "      <td>1417.29</td>\n",
       "      <td>0.0</td>\n",
       "      <td>5161.0</td>\n",
       "      <td>0.0</td>\n",
       "      <td>2374.854</td>\n",
       "      <td>2432.816</td>\n",
       "      <td>False</td>\n",
       "      <td>False</td>\n",
       "      <td>False</td>\n",
       "      <td>False</td>\n",
       "    </tr>\n",
       "  </tbody>\n",
       "</table>\n",
       "<p>5 rows × 53 columns</p>\n",
       "</div>"
      ],
      "text/plain": [
       "                                  V  i_Vm3  Harvested_V  \\\n",
       "id       year regime                                      \n",
       "99011012 2016 initial_state   64.83    0.0          0.0   \n",
       "99011013 2016 initial_state   27.12    0.0          0.0   \n",
       "99011014 2016 initial_state  374.02    0.0          0.0   \n",
       "99011015 2016 initial_state    4.19    0.0          0.0   \n",
       "99011016 2016 initial_state  141.85    0.0          0.0   \n",
       "\n",
       "                             Harvested_V_log_under_bark  \\\n",
       "id       year regime                                      \n",
       "99011012 2016 initial_state                         0.0   \n",
       "99011013 2016 initial_state                         0.0   \n",
       "99011014 2016 initial_state                         0.0   \n",
       "99011015 2016 initial_state                         0.0   \n",
       "99011016 2016 initial_state                         0.0   \n",
       "\n",
       "                             Harvested_V_pulp_under_bark  \\\n",
       "id       year regime                                       \n",
       "99011012 2016 initial_state                          0.0   \n",
       "99011013 2016 initial_state                          0.0   \n",
       "99011014 2016 initial_state                          0.0   \n",
       "99011015 2016 initial_state                          0.0   \n",
       "99011016 2016 initial_state                          0.0   \n",
       "\n",
       "                             Harvested_V_under_bark  MAIN_SP   Age  AGE_ba  \\\n",
       "id       year regime                                                         \n",
       "99011012 2016 initial_state                     0.0        3  16.0   26.86   \n",
       "99011013 2016 initial_state                     0.0        2  15.0   14.92   \n",
       "99011014 2016 initial_state                     0.0        2  80.0   79.48   \n",
       "99011015 2016 initial_state                     0.0        2  11.0    9.42   \n",
       "99011016 2016 initial_state                     0.0        1  89.0   71.71   \n",
       "\n",
       "                             SC  ...  Total_V_total_deadwood  \\\n",
       "id       year regime             ...                           \n",
       "99011012 2016 initial_state   2  ...                 1508.60   \n",
       "99011013 2016 initial_state   2  ...                 1508.60   \n",
       "99011014 2016 initial_state   1  ...                 1496.69   \n",
       "99011015 2016 initial_state   2  ...                 1496.69   \n",
       "99011016 2016 initial_state   4  ...                 1417.29   \n",
       "\n",
       "                             Total_N_where_D_gt_40  Total_prc_V_deciduous  \\\n",
       "id       year regime                                                        \n",
       "99011012 2016 initial_state                    0.0                26996.0   \n",
       "99011013 2016 initial_state                    0.0                 4764.0   \n",
       "99011014 2016 initial_state                    0.0                 1191.0   \n",
       "99011015 2016 initial_state                    0.0                12307.0   \n",
       "99011016 2016 initial_state                    0.0                 5161.0   \n",
       "\n",
       "                             Total_CARBON_SINK  Total_Recreation  \\\n",
       "id       year regime                                               \n",
       "99011012 2016 initial_state                0.0          1915.525   \n",
       "99011013 2016 initial_state                0.0          1818.260   \n",
       "99011014 2016 initial_state                0.0          2503.879   \n",
       "99011015 2016 initial_state                0.0          1565.371   \n",
       "99011016 2016 initial_state                0.0          2374.854   \n",
       "\n",
       "                             Total_Scenic  CCF_forests  SA_forests  \\\n",
       "id       year regime                                                 \n",
       "99011012 2016 initial_state      1424.833        False       False   \n",
       "99011013 2016 initial_state      1428.406        False       False   \n",
       "99011014 2016 initial_state      2317.289        False       False   \n",
       "99011015 2016 initial_state      1272.385        False       False   \n",
       "99011016 2016 initial_state      2432.816        False       False   \n",
       "\n",
       "                             Broadleave_forests  Old_forests  \n",
       "id       year regime                                          \n",
       "99011012 2016 initial_state               False        False  \n",
       "99011013 2016 initial_state               False        False  \n",
       "99011014 2016 initial_state               False        False  \n",
       "99011015 2016 initial_state               False        False  \n",
       "99011016 2016 initial_state               False        False  \n",
       "\n",
       "[5 rows x 53 columns]"
      ]
     },
     "execution_count": 99,
     "metadata": {},
     "output_type": "execute_result"
    }
   ],
   "source": [
    "mfo.initialData.head()"
   ]
  },
  {
   "cell_type": "markdown",
   "metadata": {},
   "source": [
    "## Define the optimization problem for policy scenarios\n",
    "See README.md for details.\n",
    "\n",
    "<b>Objective format:</b>\n",
    "\n",
    "Unique_key :[Long human readable name, column name in data, max/min objective, year wise aggregation, stand wise aggregation (, target year )]\n",
    "\n",
    "1) \"Unique_key\" : [ (2) \"Long human readable name\", (3) \"column name\", (4) \"max/min objective\", (5) \"year wise aggregation\", (6) \"stand wise aggregation\" (, (7) target year ) ]\n",
    "\n",
    "<b>Options for \"objective\":</b> \"max\"imise or \"min\"imise it <br>\n",
    "<b>year wise aggregation:</b> \"min\" (minimum value), \"average\", \"firstYear\", \"targetYearWithSlope\",\"targetYear\",\"lastYear\" <br>\n",
    "<b>stand wise aggregation:</b> \"sum\", \"areaWeightedAverage\", \"areaWeightedSum\" <br>\n",
    "<b>targe yeart:</b> any year except the first one"
   ]
  },
  {
   "cell_type": "markdown",
   "metadata": {},
   "source": [
    "### EUFS - EU Forest Strategy 2030 - V1"
   ]
  },
  {
   "cell_type": "code",
   "execution_count": 100,
   "metadata": {},
   "outputs": [],
   "source": [
    "if scenario == 'EUFS':\n",
    "    \n",
    "    biodiversity = {\n",
    "    # Conservation regimes - overall target of 10%\n",
    "    \"Ratio_SA_forests\": [\"Ratio of protected areas (%, SA forests)\",\n",
    "                         \"SA_forests\",\"max\",\"firstYear\",\"areaWeightedAverage\"],    \n",
    "        \n",
    "    # Additional strictly protected areas (on top of minimum possible for Ratio of protected areas)\n",
    "    \"Ratio_strictly_protected\": [\"Ratio of additional strictly protected forest (%, set aside)\",\n",
    "                          \"Old_forests\",\"max\",\"firstYear\",\"areaWeightedAverage\"],  \n",
    "        \n",
    "    # Protection regimes \"effective management\" - target of 20%\n",
    "    \"Ratio_protection_regimes\": [\"Ratio of forest under protection regimes (%, CCF_3, CCF_4 and BAUwGTR)\",\n",
    "                          \"CCF_forests\",\"max\",\"firstYear\",\"areaWeightedAverage\"],\n",
    "        \n",
    "    # Deadwood - maximise the deadwood in the protection regimes (could also be Age, or large living trees?)\n",
    "    #\"Total_Deadwood_V\": [\"Maximise deadwood in protected areas (m3)\", \n",
    "    #                     \"V_total_deadwood\",\"max\",\"min\",\"subsetSum\",\"CCF_forests\"],\n",
    "        \n",
    "    # Large trees - maximise the large trees in the protection regimes\n",
    "    \"Total_Large_trees\": [\"Maximise large trees in protected areas (m3)\", \n",
    "                          \"Total_N_where_D_gt_40\",\"max\",\"min\",\"subsetSum\",\"CCF_forests\"],\n",
    "    \n",
    "    # Deadwood - maximise over all forest\n",
    "    \"Avg_Deadwood_V\": [\"Average deadwood volume (m3/ha)\", \n",
    "                       \"V_total_deadwood\",\"max\",\"min\",\"areaWeightedAverage\"] , \n",
    "\n",
    "    # Deciduous trees (% of volume)\n",
    "    \"Avg_prc_V_deciduous\":  [\"Share of deciduous trees (% of standing volume)\", \n",
    "                             \"prc_V_deciduous\",\"max\", \"min\",\"areaWeightedAverage\"]  \n",
    "    }\n",
    "    \n",
    "    wood_production = { \n",
    "    # Harvested roundwood\n",
    "    \"Avg_Harvested_V\" : [\"Average harvested timber volume (log & pulp) (m3/ha, evenflow)\",\n",
    "                             \"Harvested_V\",\n",
    "                             \"max\",\"min\",\"areaWeightedAverage\"] #,\n",
    "    \n",
    "    # Increment\n",
    "    #\"Avg_i_Vm3\": [\"Average timber volume increment(m3/ha)\",\n",
    "    #                  \"i_Vm3\",\"max\",\"min\",\"areaWeightedAverage\"]\n",
    "    }\n",
    "    \n",
    "    bioenergy = { \n",
    "    # Harvested biomass\n",
    "    \"Avg_Biomass\": [\"Average harvested biomass volume (m3/ha, evenflow)\",\n",
    "                    \"Biomass\", \"max\",\"min\",\"areaWeightedAverage\"]\n",
    "    }\n",
    "    \n",
    "    climate_regulation = {\n",
    "    # Carbon sink\n",
    "    \"Total_CARBON_SINK\": [\"Sequestration in carbon dioxide (t CO2)\",\n",
    "                          \"CARBON_SINK\",\"max\",\"min\",\"areaWeightedSum\"] \n",
    "    }\n",
    "    \n",
    "    nonwood = {\n",
    "    # Recreation index \n",
    "    \"Total_Recreation\" : [\"Recreation index (max minimum over yrs)\",\n",
    "                          \"Recreation\",\"max\",\"min\",\"areaWeightedSum\"],\n",
    "        \n",
    "    # Scenic index - maximise\n",
    "    \"Total_Scenic\" : [\"Scenic index (max minimum over yrs)\",\n",
    "                      \"Scenic\", \"max\",\"min\",\"areaWeightedSum\"],   \n",
    "        \n",
    "    # Bilberry - no decline, maximise it\n",
    "    \"Avg_BILBERRY\": [\"Average Bilberry yield (kg/ha)\",\n",
    "                     \"BILBERRY\",\"max\",\"min\",\"areaWeightedAverage\"],\n",
    "    \n",
    "    # Cowberry - no decline, maximise it\n",
    "    \"Avg_COWBERRY\": [\"Average Cowberry yield (kg/ha)\",\n",
    "                     \"COWBERRY\",\"max\",\"min\",\"areaWeightedAverage\"],\n",
    "    \n",
    "    # Mushrooms - no decline, maximise it\n",
    "    \"Avg_ALL_MARKETED_MUSHROOMS\": [\"Average mushroom yield (kg/ha)\",\n",
    "                                   \"ALL_MARKETED_MUSHROOMS\",\"max\",\"min\",\"areaWeightedAverage\"]\n",
    "    \n",
    "    }\n",
    "\n",
    "    objectives = {\n",
    "              **biodiversity,\n",
    "              **wood_production,\n",
    "              **bioenergy,\n",
    "              **climate_regulation ,\n",
    "              **nonwood,\n",
    "    }\n",
    "    \n",
    "    print(\"objectives for EUFS loaded\")"
   ]
  },
  {
   "cell_type": "code",
   "execution_count": 101,
   "metadata": {},
   "outputs": [
    {
     "name": "stdout",
     "output_type": "stream",
     "text": [
      "objectives for REF loaded\n"
     ]
    }
   ],
   "source": [
    "if scenario == 'refCCF' or scenario == 'refBAU':\n",
    "    \n",
    "    wood_production = { \n",
    "    # included to smooth the peaks down\n",
    "    \"upper_Harvested_V\" : [\"Upper total harvest treshold (log & pulp) (m3, evenflow)\",\n",
    "                        \"Harvested_V\",\n",
    "                         \"min\",\"max\",\"areaWeightedSum\"] ,\n",
    "        \n",
    "    # aiming to maximise the minimum and stay above the historic lowest value \n",
    "    # table 5.4; https://stat.luke.fi/sites/default/files/suomen_metsatilastot_2021_verkko.pdf\n",
    "    # 5.531 million m3 for log + pulp \n",
    "    \"lower_Harvested_V\" : [\"Lower total harvest treshold (log & pulp) (m3, evenflow)\",\n",
    "                         \"Harvested_V\",\n",
    "                         \"max\",\"min\",\"areaWeightedSum\"] #,\n",
    "              \n",
    "    ## Harvested roundwood\n",
    "    #\"Avg_Harvested_V\" : [\"Average harvested timber volume (log & pulp) (m3/ha, evenflow)\",\n",
    "    #                     \"Harvested_V\",\n",
    "    #                     \"max\",\"min\",\"areaWeightedAverage\"] ,\n",
    "    #\n",
    "    # Increment\n",
    "    #\"Avg_i_Vm3\": [\"Average timber volume increment(m3/ha)\",\n",
    "    #              \"i_Vm3\",\"max\",\"min\",\"areaWeightedAverage\"]    \n",
    "    }\n",
    "    objectives = {\n",
    "              **wood_production\n",
    "    }\n",
    "    \n",
    "    print(\"objectives for REF loaded\")"
   ]
  },
  {
   "cell_type": "code",
   "execution_count": 102,
   "metadata": {},
   "outputs": [
    {
     "data": {
      "text/plain": [
       "2"
      ]
     },
     "execution_count": 102,
     "metadata": {},
     "output_type": "execute_result"
    }
   ],
   "source": [
    "len(objectives)"
   ]
  },
  {
   "cell_type": "code",
   "execution_count": 103,
   "metadata": {},
   "outputs": [
    {
     "data": {
      "text/plain": [
       "dict_keys(['upper_Harvested_V', 'lower_Harvested_V'])"
      ]
     },
     "execution_count": 103,
     "metadata": {},
     "output_type": "execute_result"
    }
   ],
   "source": [
    "objectives.keys()"
   ]
  },
  {
   "cell_type": "code",
   "execution_count": 104,
   "metadata": {},
   "outputs": [
    {
     "data": {
      "text/plain": [
       "Index(['V', 'i_Vm3', 'Harvested_V', 'Harvested_V_log_under_bark',\n",
       "       'Harvested_V_pulp_under_bark', 'Harvested_V_under_bark', 'MAIN_SP',\n",
       "       'Age', 'AGE_ba', 'SC', 'Biomass', 'ALL_MARKETED_MUSHROOMS', 'BILBERRY',\n",
       "       'COWBERRY', 'HSI_MOOSE', 'CAPERCAILLIE', 'HAZEL_GROUSE',\n",
       "       'V_total_deadwood', 'N_where_D_gt_40', 'prc_V_deciduous', 'PEAT',\n",
       "       'clearcut', 'CARBON_SINK', 'CARBON_STORAGE_Update', 'Recreation',\n",
       "       'Scenic', 'scenario', 'represented_area_by_NFIplot', 'region',\n",
       "       'NUTS2_GL', 'protection', 'Total_i_Vm3', 'Total_Harvested_V',\n",
       "       'Total_Harvested_V_log_under_bark', 'Total_Harvested_V_pulp_under_bark',\n",
       "       'Total_Harvested_V_under_bark', 'Total_Biomass',\n",
       "       'Total_ALL_MARKETED_MUSHROOMS', 'Total_BILBERRY', 'Total_COWBERRY',\n",
       "       'Total_HSI_MOOSE', 'Total_CAPERCAILLIE', 'Total_HAZEL_GROUSE',\n",
       "       'Total_V_total_deadwood', 'Total_N_where_D_gt_40',\n",
       "       'Total_prc_V_deciduous', 'Total_CARBON_SINK', 'Total_Recreation',\n",
       "       'Total_Scenic', 'CCF_forests', 'SA_forests', 'Broadleave_forests',\n",
       "       'Old_forests', 'Relative_V', 'Relative_Age', 'Relative_AGE_ba',\n",
       "       'Relative_ALL_MARKETED_MUSHROOMS', 'Relative_BILBERRY',\n",
       "       'Relative_COWBERRY', 'Relative_HSI_MOOSE', 'Relative_CAPERCAILLIE',\n",
       "       'Relative_HAZEL_GROUSE', 'Relative_V_total_deadwood',\n",
       "       'Relative_N_where_D_gt_40', 'Relative_prc_V_deciduous',\n",
       "       'Relative_CARBON_STORAGE_Update', 'Relative_Recreation',\n",
       "       'Relative_Scenic', 'Relative_Total_ALL_MARKETED_MUSHROOMS',\n",
       "       'Relative_Total_BILBERRY', 'Relative_Total_COWBERRY',\n",
       "       'Relative_Total_HSI_MOOSE', 'Relative_Total_CAPERCAILLIE',\n",
       "       'Relative_Total_HAZEL_GROUSE', 'Relative_Total_V_total_deadwood',\n",
       "       'Relative_Total_N_where_D_gt_40', 'Relative_Total_prc_V_deciduous',\n",
       "       'Relative_Total_Recreation', 'Relative_Total_Scenic'],\n",
       "      dtype='object')"
      ]
     },
     "execution_count": 104,
     "metadata": {},
     "output_type": "execute_result"
    }
   ],
   "source": [
    "mfo.data.columns"
   ]
  },
  {
   "cell_type": "code",
   "execution_count": 105,
   "metadata": {},
   "outputs": [
    {
     "data": {
      "text/plain": [
       "[('prc_V_deciduous', dtype('float64')),\n",
       " ('Total_prc_V_deciduous', dtype('float64')),\n",
       " ('Relative_prc_V_deciduous', dtype('float64')),\n",
       " ('Relative_Total_prc_V_deciduous', dtype('float64'))]"
      ]
     },
     "execution_count": 105,
     "metadata": {},
     "output_type": "execute_result"
    }
   ],
   "source": [
    "[(col,mfo.data.dtypes[col]) for col in mfo.data.columns if \"prc\" in col]"
   ]
  },
  {
   "cell_type": "markdown",
   "metadata": {},
   "source": [
    "## Define initial values NOT available in data, but needed for objective\n",
    "\n",
    "Examples are increment, harvests, biomass and carbon sink. They are required for the \"targetYearWithSlope\" objective, but values only occur after the first simulation period. National values are taken from the policy or forest statistics. \n",
    "\n",
    "<b>For the EU Forest Strategy scenario this might not be required.</b> "
   ]
  },
  {
   "cell_type": "code",
   "execution_count": 106,
   "metadata": {},
   "outputs": [],
   "source": [
    "#initialValues = {\"Total_Harvested_V\": 5.5*10**6}      # coming from national statistic "
   ]
  },
  {
   "cell_type": "code",
   "execution_count": 107,
   "metadata": {
    "scrolled": true
   },
   "outputs": [
    {
     "data": {
      "text/plain": [
       "'Defining objectives'"
      ]
     },
     "metadata": {},
     "output_type": "display_data"
    },
    {
     "data": {
      "text/plain": [
       "'Aggregating stand wise'"
      ]
     },
     "metadata": {},
     "output_type": "display_data"
    },
    {
     "name": "stderr",
     "output_type": "stream",
     "text": [
      "100%|██████████| 2/2 [00:11<00:00,  5.92s/it]\n"
     ]
    },
    {
     "data": {
      "text/plain": [
       "'Aggregating year wise'"
      ]
     },
     "metadata": {},
     "output_type": "display_data"
    },
    {
     "name": "stdout",
     "output_type": "stream",
     "text": [
      "100%|██████████| 2/2 [00:00<00:00, 1800.90it/s]\n"
     ]
    },
    {
     "data": {
      "text/plain": [
       "'Objectives added'"
      ]
     },
     "metadata": {},
     "output_type": "display_data"
    }
   ],
   "source": [
    "#mfo.defineObjectives(objectives,initialValues = initialValues)\n",
    "mfo.defineObjectives(objectives)"
   ]
  },
  {
   "cell_type": "markdown",
   "metadata": {},
   "source": [
    "## Define enabled constraints\n",
    "\n",
    "<b>For the EU Forest Strategy scenario this might not be required. </b> OR it can be a different enabled constraint - maybe related to the protection targets. Let´s see how the policy table looks ... "
   ]
  },
  {
   "cell_type": "code",
   "execution_count": 108,
   "metadata": {},
   "outputs": [],
   "source": [
    "CCFregimes = [regime for regime in mfo.regimes if \"CCF\" in regime] + [\"SA\"]"
   ]
  },
  {
   "cell_type": "code",
   "execution_count": 109,
   "metadata": {},
   "outputs": [
    {
     "data": {
      "text/plain": [
       "['SA']"
      ]
     },
     "execution_count": 109,
     "metadata": {},
     "output_type": "execute_result"
    }
   ],
   "source": [
    "CCFregimes"
   ]
  },
  {
   "cell_type": "markdown",
   "metadata": {},
   "source": [
    "Constraint format:\n",
    "- Shortname: \"constraint type\",\"allowed regimes\",\"human readable name\",(regimes),\"column in data\")"
   ]
  },
  {
   "cell_type": "code",
   "execution_count": 110,
   "metadata": {},
   "outputs": [],
   "source": [
    "constraintTypes = {\"CCFonPeat\":[\"Allowed regimes\",\"Only CCF on peat lands\",CCFregimes,\"PEAT\"]}"
   ]
  },
  {
   "cell_type": "code",
   "execution_count": 111,
   "metadata": {},
   "outputs": [],
   "source": [
    "mfo.defineConstraints(constraintTypes)"
   ]
  },
  {
   "cell_type": "markdown",
   "metadata": {},
   "source": [
    "## Calculate objective ranges\n",
    "The ideal and anti-ideal solution for the individual objective functions."
   ]
  },
  {
   "cell_type": "code",
   "execution_count": 112,
   "metadata": {
    "scrolled": false
   },
   "outputs": [
    {
     "data": {
      "text/plain": [
       "'Calculating objective ranges'"
      ]
     },
     "metadata": {},
     "output_type": "display_data"
    },
    {
     "name": "stdout",
     "output_type": "stream",
     "text": [
      "\r",
      "  0%|          | 0/2 [00:00<?, ?it/s]"
     ]
    },
    {
     "data": {
      "text/plain": [
       "'Optimizing for Upper total harvest treshold (log & pulp) (m3, evenflow)'"
      ]
     },
     "metadata": {},
     "output_type": "display_data"
    },
    {
     "data": {
      "text/plain": [
       "'Found an optimal solution in 0 seconds'"
      ]
     },
     "metadata": {},
     "output_type": "display_data"
    },
    {
     "data": {
      "text/plain": [
       "'Objective values are:'"
      ]
     },
     "metadata": {},
     "output_type": "display_data"
    },
    {
     "data": {
      "text/plain": [
       "'Upper total harvest treshold (log & pulp) (m3, evenflow)'"
      ]
     },
     "metadata": {},
     "output_type": "display_data"
    },
    {
     "data": {
      "text/plain": [
       "0.0"
      ]
     },
     "metadata": {},
     "output_type": "display_data"
    },
    {
     "data": {
      "text/plain": [
       "'Lower total harvest treshold (log & pulp) (m3, evenflow)'"
      ]
     },
     "metadata": {},
     "output_type": "display_data"
    },
    {
     "data": {
      "text/plain": [
       "0.0"
      ]
     },
     "metadata": {},
     "output_type": "display_data"
    },
    {
     "name": "stdout",
     "output_type": "stream",
     "text": [
      "\r",
      " 50%|█████     | 1/2 [00:00<00:00,  3.68it/s]"
     ]
    },
    {
     "data": {
      "text/plain": [
       "'Optimizing for Lower total harvest treshold (log & pulp) (m3, evenflow)'"
      ]
     },
     "metadata": {},
     "output_type": "display_data"
    },
    {
     "data": {
      "text/plain": [
       "'Found an optimal solution in 0 seconds'"
      ]
     },
     "metadata": {},
     "output_type": "display_data"
    },
    {
     "data": {
      "text/plain": [
       "'Objective values are:'"
      ]
     },
     "metadata": {},
     "output_type": "display_data"
    },
    {
     "data": {
      "text/plain": [
       "'Upper total harvest treshold (log & pulp) (m3, evenflow)'"
      ]
     },
     "metadata": {},
     "output_type": "display_data"
    },
    {
     "data": {
      "text/plain": [
       "9810522.462784996"
      ]
     },
     "metadata": {},
     "output_type": "display_data"
    },
    {
     "data": {
      "text/plain": [
       "'Lower total harvest treshold (log & pulp) (m3, evenflow)'"
      ]
     },
     "metadata": {},
     "output_type": "display_data"
    },
    {
     "data": {
      "text/plain": [
       "6838967.63559842"
      ]
     },
     "metadata": {},
     "output_type": "display_data"
    },
    {
     "name": "stdout",
     "output_type": "stream",
     "text": [
      "100%|██████████| 2/2 [00:01<00:00,  1.77it/s]\n",
      "CPU times: user 2.59 s, sys: 354 ms, total: 2.94 s\n",
      "Wall time: 1.14 s\n"
     ]
    }
   ],
   "source": [
    "%%time\n",
    "mfo.calculateObjectiveRanges(debug=True)"
   ]
  },
  {
   "cell_type": "code",
   "execution_count": 113,
   "metadata": {},
   "outputs": [
    {
     "data": {
      "text/plain": [
       "{'upper_Harvested_V': (0.0, 9810522.462784996),\n",
       " 'lower_Harvested_V': (0.0, 6838967.63559842)}"
      ]
     },
     "execution_count": 113,
     "metadata": {},
     "output_type": "execute_result"
    }
   ],
   "source": [
    "mfo.objectiveRanges"
   ]
  },
  {
   "cell_type": "markdown",
   "metadata": {},
   "source": [
    "## Show GUI"
   ]
  },
  {
   "cell_type": "markdown",
   "metadata": {},
   "source": [
    "* If \"Enabled constraints\" should be considered, start with ticking box \"only CCF ...\" and push \"Change constraints\"\n",
    "* Epsilon constraints are only considered if sliders are moved and button \"Set epsilon constraints\" is pushed\n",
    "* By pushing \"OPTIMIZE\" an optimal solution under the given constraints and reference points is searched"
   ]
  },
  {
   "cell_type": "code",
   "execution_count": 133,
   "metadata": {},
   "outputs": [
    {
     "data": {
      "text/html": [
       "<style>\n",
       "            .widget-label { min-width: 60% !important; }\n",
       "        </style>"
      ],
      "text/plain": [
       "<IPython.core.display.HTML object>"
      ]
     },
     "metadata": {},
     "output_type": "display_data"
    },
    {
     "data": {
      "text/html": [
       "<h2>Epsilon constraint values</h2>"
      ],
      "text/plain": [
       "<IPython.core.display.HTML object>"
      ]
     },
     "metadata": {},
     "output_type": "display_data"
    },
    {
     "data": {
      "application/vnd.jupyter.widget-view+json": {
       "model_id": "005ace8b96f049cb9886f924e64a82fb",
       "version_major": 2,
       "version_minor": 0
      },
      "text/plain": [
       "interactive(children=(FloatSlider(value=9810522.462784996, description='Upper total harvest treshold (log & pu…"
      ]
     },
     "metadata": {},
     "output_type": "display_data"
    },
    {
     "data": {
      "text/html": [
       "<h2>Reference point</h2>"
      ],
      "text/plain": [
       "<IPython.core.display.HTML object>"
      ]
     },
     "metadata": {},
     "output_type": "display_data"
    },
    {
     "data": {
      "application/vnd.jupyter.widget-view+json": {
       "model_id": "405a987321d54135ad7e2eebd46f4d1f",
       "version_major": 2,
       "version_minor": 0
      },
      "text/plain": [
       "interactive(children=(FloatSlider(value=4905261.231392498, description='Upper total harvest treshold (log & pu…"
      ]
     },
     "metadata": {},
     "output_type": "display_data"
    },
    {
     "data": {
      "text/html": [
       "<h2>Enabled constraints</h2>"
      ],
      "text/plain": [
       "<IPython.core.display.HTML object>"
      ]
     },
     "metadata": {},
     "output_type": "display_data"
    },
    {
     "data": {
      "application/vnd.jupyter.widget-view+json": {
       "model_id": "0528d468a524438e93813a72af15a0ca",
       "version_major": 2,
       "version_minor": 0
      },
      "text/plain": [
       "interactive(children=(Checkbox(value=False, description='Only CCF on peat lands'), Button(description='Change …"
      ]
     },
     "metadata": {},
     "output_type": "display_data"
    },
    {
     "data": {
      "application/vnd.jupyter.widget-view+json": {
       "model_id": "7de2e3413fa0423aa14230ae991b1d30",
       "version_major": 2,
       "version_minor": 0
      },
      "text/plain": [
       "Button(description='Print solution', style=ButtonStyle())"
      ]
     },
     "metadata": {},
     "output_type": "display_data"
    }
   ],
   "source": [
    "mfo.showGUI(debug=True)"
   ]
  },
  {
   "cell_type": "markdown",
   "metadata": {},
   "source": [
    "## Visualization of optimal solution"
   ]
  },
  {
   "cell_type": "code",
   "execution_count": 134,
   "metadata": {},
   "outputs": [],
   "source": [
    "regimeAmounts = {regime:0 for regime in mfo.regimes}\n",
    "for key in mfo.regimesDecision.keys():\n",
    "    regimeAmounts[key[1]] +=mfo.regimesDecision[key].solution_value()*mfo.standAreas.loc[key[0],\"represented_area_by_NFIplot\"]/mfo.standAreas[\"represented_area_by_NFIplot\"].sum()"
   ]
  },
  {
   "cell_type": "code",
   "execution_count": 135,
   "metadata": {},
   "outputs": [
    {
     "name": "stdout",
     "output_type": "stream",
     "text": [
      "Populating the interactive namespace from numpy and matplotlib\n"
     ]
    }
   ],
   "source": [
    "%pylab notebook"
   ]
  },
  {
   "cell_type": "code",
   "execution_count": 136,
   "metadata": {},
   "outputs": [],
   "source": [
    "#[val for val in regimeAmounts.values()]"
   ]
  },
  {
   "cell_type": "code",
   "execution_count": 137,
   "metadata": {},
   "outputs": [
    {
     "data": {
      "application/javascript": [
       "/* Put everything inside the global mpl namespace */\n",
       "window.mpl = {};\n",
       "\n",
       "\n",
       "mpl.get_websocket_type = function() {\n",
       "    if (typeof(WebSocket) !== 'undefined') {\n",
       "        return WebSocket;\n",
       "    } else if (typeof(MozWebSocket) !== 'undefined') {\n",
       "        return MozWebSocket;\n",
       "    } else {\n",
       "        alert('Your browser does not have WebSocket support. ' +\n",
       "              'Please try Chrome, Safari or Firefox ≥ 6. ' +\n",
       "              'Firefox 4 and 5 are also supported but you ' +\n",
       "              'have to enable WebSockets in about:config.');\n",
       "    };\n",
       "}\n",
       "\n",
       "mpl.figure = function(figure_id, websocket, ondownload, parent_element) {\n",
       "    this.id = figure_id;\n",
       "\n",
       "    this.ws = websocket;\n",
       "\n",
       "    this.supports_binary = (this.ws.binaryType != undefined);\n",
       "\n",
       "    if (!this.supports_binary) {\n",
       "        var warnings = document.getElementById(\"mpl-warnings\");\n",
       "        if (warnings) {\n",
       "            warnings.style.display = 'block';\n",
       "            warnings.textContent = (\n",
       "                \"This browser does not support binary websocket messages. \" +\n",
       "                    \"Performance may be slow.\");\n",
       "        }\n",
       "    }\n",
       "\n",
       "    this.imageObj = new Image();\n",
       "\n",
       "    this.context = undefined;\n",
       "    this.message = undefined;\n",
       "    this.canvas = undefined;\n",
       "    this.rubberband_canvas = undefined;\n",
       "    this.rubberband_context = undefined;\n",
       "    this.format_dropdown = undefined;\n",
       "\n",
       "    this.image_mode = 'full';\n",
       "\n",
       "    this.root = $('<div/>');\n",
       "    this._root_extra_style(this.root)\n",
       "    this.root.attr('style', 'display: inline-block');\n",
       "\n",
       "    $(parent_element).append(this.root);\n",
       "\n",
       "    this._init_header(this);\n",
       "    this._init_canvas(this);\n",
       "    this._init_toolbar(this);\n",
       "\n",
       "    var fig = this;\n",
       "\n",
       "    this.waiting = false;\n",
       "\n",
       "    this.ws.onopen =  function () {\n",
       "            fig.send_message(\"supports_binary\", {value: fig.supports_binary});\n",
       "            fig.send_message(\"send_image_mode\", {});\n",
       "            if (mpl.ratio != 1) {\n",
       "                fig.send_message(\"set_dpi_ratio\", {'dpi_ratio': mpl.ratio});\n",
       "            }\n",
       "            fig.send_message(\"refresh\", {});\n",
       "        }\n",
       "\n",
       "    this.imageObj.onload = function() {\n",
       "            if (fig.image_mode == 'full') {\n",
       "                // Full images could contain transparency (where diff images\n",
       "                // almost always do), so we need to clear the canvas so that\n",
       "                // there is no ghosting.\n",
       "                fig.context.clearRect(0, 0, fig.canvas.width, fig.canvas.height);\n",
       "            }\n",
       "            fig.context.drawImage(fig.imageObj, 0, 0);\n",
       "        };\n",
       "\n",
       "    this.imageObj.onunload = function() {\n",
       "        fig.ws.close();\n",
       "    }\n",
       "\n",
       "    this.ws.onmessage = this._make_on_message_function(this);\n",
       "\n",
       "    this.ondownload = ondownload;\n",
       "}\n",
       "\n",
       "mpl.figure.prototype._init_header = function() {\n",
       "    var titlebar = $(\n",
       "        '<div class=\"ui-dialog-titlebar ui-widget-header ui-corner-all ' +\n",
       "        'ui-helper-clearfix\"/>');\n",
       "    var titletext = $(\n",
       "        '<div class=\"ui-dialog-title\" style=\"width: 100%; ' +\n",
       "        'text-align: center; padding: 3px;\"/>');\n",
       "    titlebar.append(titletext)\n",
       "    this.root.append(titlebar);\n",
       "    this.header = titletext[0];\n",
       "}\n",
       "\n",
       "\n",
       "\n",
       "mpl.figure.prototype._canvas_extra_style = function(canvas_div) {\n",
       "\n",
       "}\n",
       "\n",
       "\n",
       "mpl.figure.prototype._root_extra_style = function(canvas_div) {\n",
       "\n",
       "}\n",
       "\n",
       "mpl.figure.prototype._init_canvas = function() {\n",
       "    var fig = this;\n",
       "\n",
       "    var canvas_div = $('<div/>');\n",
       "\n",
       "    canvas_div.attr('style', 'position: relative; clear: both; outline: 0');\n",
       "\n",
       "    function canvas_keyboard_event(event) {\n",
       "        return fig.key_event(event, event['data']);\n",
       "    }\n",
       "\n",
       "    canvas_div.keydown('key_press', canvas_keyboard_event);\n",
       "    canvas_div.keyup('key_release', canvas_keyboard_event);\n",
       "    this.canvas_div = canvas_div\n",
       "    this._canvas_extra_style(canvas_div)\n",
       "    this.root.append(canvas_div);\n",
       "\n",
       "    var canvas = $('<canvas/>');\n",
       "    canvas.addClass('mpl-canvas');\n",
       "    canvas.attr('style', \"left: 0; top: 0; z-index: 0; outline: 0\")\n",
       "\n",
       "    this.canvas = canvas[0];\n",
       "    this.context = canvas[0].getContext(\"2d\");\n",
       "\n",
       "    var backingStore = this.context.backingStorePixelRatio ||\n",
       "\tthis.context.webkitBackingStorePixelRatio ||\n",
       "\tthis.context.mozBackingStorePixelRatio ||\n",
       "\tthis.context.msBackingStorePixelRatio ||\n",
       "\tthis.context.oBackingStorePixelRatio ||\n",
       "\tthis.context.backingStorePixelRatio || 1;\n",
       "\n",
       "    mpl.ratio = (window.devicePixelRatio || 1) / backingStore;\n",
       "\n",
       "    var rubberband = $('<canvas/>');\n",
       "    rubberband.attr('style', \"position: absolute; left: 0; top: 0; z-index: 1;\")\n",
       "\n",
       "    var pass_mouse_events = true;\n",
       "\n",
       "    canvas_div.resizable({\n",
       "        start: function(event, ui) {\n",
       "            pass_mouse_events = false;\n",
       "        },\n",
       "        resize: function(event, ui) {\n",
       "            fig.request_resize(ui.size.width, ui.size.height);\n",
       "        },\n",
       "        stop: function(event, ui) {\n",
       "            pass_mouse_events = true;\n",
       "            fig.request_resize(ui.size.width, ui.size.height);\n",
       "        },\n",
       "    });\n",
       "\n",
       "    function mouse_event_fn(event) {\n",
       "        if (pass_mouse_events)\n",
       "            return fig.mouse_event(event, event['data']);\n",
       "    }\n",
       "\n",
       "    rubberband.mousedown('button_press', mouse_event_fn);\n",
       "    rubberband.mouseup('button_release', mouse_event_fn);\n",
       "    // Throttle sequential mouse events to 1 every 20ms.\n",
       "    rubberband.mousemove('motion_notify', mouse_event_fn);\n",
       "\n",
       "    rubberband.mouseenter('figure_enter', mouse_event_fn);\n",
       "    rubberband.mouseleave('figure_leave', mouse_event_fn);\n",
       "\n",
       "    canvas_div.on(\"wheel\", function (event) {\n",
       "        event = event.originalEvent;\n",
       "        event['data'] = 'scroll'\n",
       "        if (event.deltaY < 0) {\n",
       "            event.step = 1;\n",
       "        } else {\n",
       "            event.step = -1;\n",
       "        }\n",
       "        mouse_event_fn(event);\n",
       "    });\n",
       "\n",
       "    canvas_div.append(canvas);\n",
       "    canvas_div.append(rubberband);\n",
       "\n",
       "    this.rubberband = rubberband;\n",
       "    this.rubberband_canvas = rubberband[0];\n",
       "    this.rubberband_context = rubberband[0].getContext(\"2d\");\n",
       "    this.rubberband_context.strokeStyle = \"#000000\";\n",
       "\n",
       "    this._resize_canvas = function(width, height) {\n",
       "        // Keep the size of the canvas, canvas container, and rubber band\n",
       "        // canvas in synch.\n",
       "        canvas_div.css('width', width)\n",
       "        canvas_div.css('height', height)\n",
       "\n",
       "        canvas.attr('width', width * mpl.ratio);\n",
       "        canvas.attr('height', height * mpl.ratio);\n",
       "        canvas.attr('style', 'width: ' + width + 'px; height: ' + height + 'px;');\n",
       "\n",
       "        rubberband.attr('width', width);\n",
       "        rubberband.attr('height', height);\n",
       "    }\n",
       "\n",
       "    // Set the figure to an initial 600x600px, this will subsequently be updated\n",
       "    // upon first draw.\n",
       "    this._resize_canvas(600, 600);\n",
       "\n",
       "    // Disable right mouse context menu.\n",
       "    $(this.rubberband_canvas).bind(\"contextmenu\",function(e){\n",
       "        return false;\n",
       "    });\n",
       "\n",
       "    function set_focus () {\n",
       "        canvas.focus();\n",
       "        canvas_div.focus();\n",
       "    }\n",
       "\n",
       "    window.setTimeout(set_focus, 100);\n",
       "}\n",
       "\n",
       "mpl.figure.prototype._init_toolbar = function() {\n",
       "    var fig = this;\n",
       "\n",
       "    var nav_element = $('<div/>');\n",
       "    nav_element.attr('style', 'width: 100%');\n",
       "    this.root.append(nav_element);\n",
       "\n",
       "    // Define a callback function for later on.\n",
       "    function toolbar_event(event) {\n",
       "        return fig.toolbar_button_onclick(event['data']);\n",
       "    }\n",
       "    function toolbar_mouse_event(event) {\n",
       "        return fig.toolbar_button_onmouseover(event['data']);\n",
       "    }\n",
       "\n",
       "    for(var toolbar_ind in mpl.toolbar_items) {\n",
       "        var name = mpl.toolbar_items[toolbar_ind][0];\n",
       "        var tooltip = mpl.toolbar_items[toolbar_ind][1];\n",
       "        var image = mpl.toolbar_items[toolbar_ind][2];\n",
       "        var method_name = mpl.toolbar_items[toolbar_ind][3];\n",
       "\n",
       "        if (!name) {\n",
       "            // put a spacer in here.\n",
       "            continue;\n",
       "        }\n",
       "        var button = $('<button/>');\n",
       "        button.addClass('ui-button ui-widget ui-state-default ui-corner-all ' +\n",
       "                        'ui-button-icon-only');\n",
       "        button.attr('role', 'button');\n",
       "        button.attr('aria-disabled', 'false');\n",
       "        button.click(method_name, toolbar_event);\n",
       "        button.mouseover(tooltip, toolbar_mouse_event);\n",
       "\n",
       "        var icon_img = $('<span/>');\n",
       "        icon_img.addClass('ui-button-icon-primary ui-icon');\n",
       "        icon_img.addClass(image);\n",
       "        icon_img.addClass('ui-corner-all');\n",
       "\n",
       "        var tooltip_span = $('<span/>');\n",
       "        tooltip_span.addClass('ui-button-text');\n",
       "        tooltip_span.html(tooltip);\n",
       "\n",
       "        button.append(icon_img);\n",
       "        button.append(tooltip_span);\n",
       "\n",
       "        nav_element.append(button);\n",
       "    }\n",
       "\n",
       "    var fmt_picker_span = $('<span/>');\n",
       "\n",
       "    var fmt_picker = $('<select/>');\n",
       "    fmt_picker.addClass('mpl-toolbar-option ui-widget ui-widget-content');\n",
       "    fmt_picker_span.append(fmt_picker);\n",
       "    nav_element.append(fmt_picker_span);\n",
       "    this.format_dropdown = fmt_picker[0];\n",
       "\n",
       "    for (var ind in mpl.extensions) {\n",
       "        var fmt = mpl.extensions[ind];\n",
       "        var option = $(\n",
       "            '<option/>', {selected: fmt === mpl.default_extension}).html(fmt);\n",
       "        fmt_picker.append(option);\n",
       "    }\n",
       "\n",
       "    // Add hover states to the ui-buttons\n",
       "    $( \".ui-button\" ).hover(\n",
       "        function() { $(this).addClass(\"ui-state-hover\");},\n",
       "        function() { $(this).removeClass(\"ui-state-hover\");}\n",
       "    );\n",
       "\n",
       "    var status_bar = $('<span class=\"mpl-message\"/>');\n",
       "    nav_element.append(status_bar);\n",
       "    this.message = status_bar[0];\n",
       "}\n",
       "\n",
       "mpl.figure.prototype.request_resize = function(x_pixels, y_pixels) {\n",
       "    // Request matplotlib to resize the figure. Matplotlib will then trigger a resize in the client,\n",
       "    // which will in turn request a refresh of the image.\n",
       "    this.send_message('resize', {'width': x_pixels, 'height': y_pixels});\n",
       "}\n",
       "\n",
       "mpl.figure.prototype.send_message = function(type, properties) {\n",
       "    properties['type'] = type;\n",
       "    properties['figure_id'] = this.id;\n",
       "    this.ws.send(JSON.stringify(properties));\n",
       "}\n",
       "\n",
       "mpl.figure.prototype.send_draw_message = function() {\n",
       "    if (!this.waiting) {\n",
       "        this.waiting = true;\n",
       "        this.ws.send(JSON.stringify({type: \"draw\", figure_id: this.id}));\n",
       "    }\n",
       "}\n",
       "\n",
       "\n",
       "mpl.figure.prototype.handle_save = function(fig, msg) {\n",
       "    var format_dropdown = fig.format_dropdown;\n",
       "    var format = format_dropdown.options[format_dropdown.selectedIndex].value;\n",
       "    fig.ondownload(fig, format);\n",
       "}\n",
       "\n",
       "\n",
       "mpl.figure.prototype.handle_resize = function(fig, msg) {\n",
       "    var size = msg['size'];\n",
       "    if (size[0] != fig.canvas.width || size[1] != fig.canvas.height) {\n",
       "        fig._resize_canvas(size[0], size[1]);\n",
       "        fig.send_message(\"refresh\", {});\n",
       "    };\n",
       "}\n",
       "\n",
       "mpl.figure.prototype.handle_rubberband = function(fig, msg) {\n",
       "    var x0 = msg['x0'] / mpl.ratio;\n",
       "    var y0 = (fig.canvas.height - msg['y0']) / mpl.ratio;\n",
       "    var x1 = msg['x1'] / mpl.ratio;\n",
       "    var y1 = (fig.canvas.height - msg['y1']) / mpl.ratio;\n",
       "    x0 = Math.floor(x0) + 0.5;\n",
       "    y0 = Math.floor(y0) + 0.5;\n",
       "    x1 = Math.floor(x1) + 0.5;\n",
       "    y1 = Math.floor(y1) + 0.5;\n",
       "    var min_x = Math.min(x0, x1);\n",
       "    var min_y = Math.min(y0, y1);\n",
       "    var width = Math.abs(x1 - x0);\n",
       "    var height = Math.abs(y1 - y0);\n",
       "\n",
       "    fig.rubberband_context.clearRect(\n",
       "        0, 0, fig.canvas.width / mpl.ratio, fig.canvas.height / mpl.ratio);\n",
       "\n",
       "    fig.rubberband_context.strokeRect(min_x, min_y, width, height);\n",
       "}\n",
       "\n",
       "mpl.figure.prototype.handle_figure_label = function(fig, msg) {\n",
       "    // Updates the figure title.\n",
       "    fig.header.textContent = msg['label'];\n",
       "}\n",
       "\n",
       "mpl.figure.prototype.handle_cursor = function(fig, msg) {\n",
       "    var cursor = msg['cursor'];\n",
       "    switch(cursor)\n",
       "    {\n",
       "    case 0:\n",
       "        cursor = 'pointer';\n",
       "        break;\n",
       "    case 1:\n",
       "        cursor = 'default';\n",
       "        break;\n",
       "    case 2:\n",
       "        cursor = 'crosshair';\n",
       "        break;\n",
       "    case 3:\n",
       "        cursor = 'move';\n",
       "        break;\n",
       "    }\n",
       "    fig.rubberband_canvas.style.cursor = cursor;\n",
       "}\n",
       "\n",
       "mpl.figure.prototype.handle_message = function(fig, msg) {\n",
       "    fig.message.textContent = msg['message'];\n",
       "}\n",
       "\n",
       "mpl.figure.prototype.handle_draw = function(fig, msg) {\n",
       "    // Request the server to send over a new figure.\n",
       "    fig.send_draw_message();\n",
       "}\n",
       "\n",
       "mpl.figure.prototype.handle_image_mode = function(fig, msg) {\n",
       "    fig.image_mode = msg['mode'];\n",
       "}\n",
       "\n",
       "mpl.figure.prototype.updated_canvas_event = function() {\n",
       "    // Called whenever the canvas gets updated.\n",
       "    this.send_message(\"ack\", {});\n",
       "}\n",
       "\n",
       "// A function to construct a web socket function for onmessage handling.\n",
       "// Called in the figure constructor.\n",
       "mpl.figure.prototype._make_on_message_function = function(fig) {\n",
       "    return function socket_on_message(evt) {\n",
       "        if (evt.data instanceof Blob) {\n",
       "            /* FIXME: We get \"Resource interpreted as Image but\n",
       "             * transferred with MIME type text/plain:\" errors on\n",
       "             * Chrome.  But how to set the MIME type?  It doesn't seem\n",
       "             * to be part of the websocket stream */\n",
       "            evt.data.type = \"image/png\";\n",
       "\n",
       "            /* Free the memory for the previous frames */\n",
       "            if (fig.imageObj.src) {\n",
       "                (window.URL || window.webkitURL).revokeObjectURL(\n",
       "                    fig.imageObj.src);\n",
       "            }\n",
       "\n",
       "            fig.imageObj.src = (window.URL || window.webkitURL).createObjectURL(\n",
       "                evt.data);\n",
       "            fig.updated_canvas_event();\n",
       "            fig.waiting = false;\n",
       "            return;\n",
       "        }\n",
       "        else if (typeof evt.data === 'string' && evt.data.slice(0, 21) == \"data:image/png;base64\") {\n",
       "            fig.imageObj.src = evt.data;\n",
       "            fig.updated_canvas_event();\n",
       "            fig.waiting = false;\n",
       "            return;\n",
       "        }\n",
       "\n",
       "        var msg = JSON.parse(evt.data);\n",
       "        var msg_type = msg['type'];\n",
       "\n",
       "        // Call the  \"handle_{type}\" callback, which takes\n",
       "        // the figure and JSON message as its only arguments.\n",
       "        try {\n",
       "            var callback = fig[\"handle_\" + msg_type];\n",
       "        } catch (e) {\n",
       "            console.log(\"No handler for the '\" + msg_type + \"' message type: \", msg);\n",
       "            return;\n",
       "        }\n",
       "\n",
       "        if (callback) {\n",
       "            try {\n",
       "                // console.log(\"Handling '\" + msg_type + \"' message: \", msg);\n",
       "                callback(fig, msg);\n",
       "            } catch (e) {\n",
       "                console.log(\"Exception inside the 'handler_\" + msg_type + \"' callback:\", e, e.stack, msg);\n",
       "            }\n",
       "        }\n",
       "    };\n",
       "}\n",
       "\n",
       "// from http://stackoverflow.com/questions/1114465/getting-mouse-location-in-canvas\n",
       "mpl.findpos = function(e) {\n",
       "    //this section is from http://www.quirksmode.org/js/events_properties.html\n",
       "    var targ;\n",
       "    if (!e)\n",
       "        e = window.event;\n",
       "    if (e.target)\n",
       "        targ = e.target;\n",
       "    else if (e.srcElement)\n",
       "        targ = e.srcElement;\n",
       "    if (targ.nodeType == 3) // defeat Safari bug\n",
       "        targ = targ.parentNode;\n",
       "\n",
       "    // jQuery normalizes the pageX and pageY\n",
       "    // pageX,Y are the mouse positions relative to the document\n",
       "    // offset() returns the position of the element relative to the document\n",
       "    var x = e.pageX - $(targ).offset().left;\n",
       "    var y = e.pageY - $(targ).offset().top;\n",
       "\n",
       "    return {\"x\": x, \"y\": y};\n",
       "};\n",
       "\n",
       "/*\n",
       " * return a copy of an object with only non-object keys\n",
       " * we need this to avoid circular references\n",
       " * http://stackoverflow.com/a/24161582/3208463\n",
       " */\n",
       "function simpleKeys (original) {\n",
       "  return Object.keys(original).reduce(function (obj, key) {\n",
       "    if (typeof original[key] !== 'object')\n",
       "        obj[key] = original[key]\n",
       "    return obj;\n",
       "  }, {});\n",
       "}\n",
       "\n",
       "mpl.figure.prototype.mouse_event = function(event, name) {\n",
       "    var canvas_pos = mpl.findpos(event)\n",
       "\n",
       "    if (name === 'button_press')\n",
       "    {\n",
       "        this.canvas.focus();\n",
       "        this.canvas_div.focus();\n",
       "    }\n",
       "\n",
       "    var x = canvas_pos.x * mpl.ratio;\n",
       "    var y = canvas_pos.y * mpl.ratio;\n",
       "\n",
       "    this.send_message(name, {x: x, y: y, button: event.button,\n",
       "                             step: event.step,\n",
       "                             guiEvent: simpleKeys(event)});\n",
       "\n",
       "    /* This prevents the web browser from automatically changing to\n",
       "     * the text insertion cursor when the button is pressed.  We want\n",
       "     * to control all of the cursor setting manually through the\n",
       "     * 'cursor' event from matplotlib */\n",
       "    event.preventDefault();\n",
       "    return false;\n",
       "}\n",
       "\n",
       "mpl.figure.prototype._key_event_extra = function(event, name) {\n",
       "    // Handle any extra behaviour associated with a key event\n",
       "}\n",
       "\n",
       "mpl.figure.prototype.key_event = function(event, name) {\n",
       "\n",
       "    // Prevent repeat events\n",
       "    if (name == 'key_press')\n",
       "    {\n",
       "        if (event.which === this._key)\n",
       "            return;\n",
       "        else\n",
       "            this._key = event.which;\n",
       "    }\n",
       "    if (name == 'key_release')\n",
       "        this._key = null;\n",
       "\n",
       "    var value = '';\n",
       "    if (event.ctrlKey && event.which != 17)\n",
       "        value += \"ctrl+\";\n",
       "    if (event.altKey && event.which != 18)\n",
       "        value += \"alt+\";\n",
       "    if (event.shiftKey && event.which != 16)\n",
       "        value += \"shift+\";\n",
       "\n",
       "    value += 'k';\n",
       "    value += event.which.toString();\n",
       "\n",
       "    this._key_event_extra(event, name);\n",
       "\n",
       "    this.send_message(name, {key: value,\n",
       "                             guiEvent: simpleKeys(event)});\n",
       "    return false;\n",
       "}\n",
       "\n",
       "mpl.figure.prototype.toolbar_button_onclick = function(name) {\n",
       "    if (name == 'download') {\n",
       "        this.handle_save(this, null);\n",
       "    } else {\n",
       "        this.send_message(\"toolbar_button\", {name: name});\n",
       "    }\n",
       "};\n",
       "\n",
       "mpl.figure.prototype.toolbar_button_onmouseover = function(tooltip) {\n",
       "    this.message.textContent = tooltip;\n",
       "};\n",
       "mpl.toolbar_items = [[\"Home\", \"Reset original view\", \"fa fa-home icon-home\", \"home\"], [\"Back\", \"Back to previous view\", \"fa fa-arrow-left icon-arrow-left\", \"back\"], [\"Forward\", \"Forward to next view\", \"fa fa-arrow-right icon-arrow-right\", \"forward\"], [\"\", \"\", \"\", \"\"], [\"Pan\", \"Pan axes with left mouse, zoom with right\", \"fa fa-arrows icon-move\", \"pan\"], [\"Zoom\", \"Zoom to rectangle\", \"fa fa-square-o icon-check-empty\", \"zoom\"], [\"\", \"\", \"\", \"\"], [\"Download\", \"Download plot\", \"fa fa-floppy-o icon-save\", \"download\"]];\n",
       "\n",
       "mpl.extensions = [\"eps\", \"pdf\", \"png\", \"ps\", \"raw\", \"svg\"];\n",
       "\n",
       "mpl.default_extension = \"png\";var comm_websocket_adapter = function(comm) {\n",
       "    // Create a \"websocket\"-like object which calls the given IPython comm\n",
       "    // object with the appropriate methods. Currently this is a non binary\n",
       "    // socket, so there is still some room for performance tuning.\n",
       "    var ws = {};\n",
       "\n",
       "    ws.close = function() {\n",
       "        comm.close()\n",
       "    };\n",
       "    ws.send = function(m) {\n",
       "        //console.log('sending', m);\n",
       "        comm.send(m);\n",
       "    };\n",
       "    // Register the callback with on_msg.\n",
       "    comm.on_msg(function(msg) {\n",
       "        //console.log('receiving', msg['content']['data'], msg);\n",
       "        // Pass the mpl event to the overridden (by mpl) onmessage function.\n",
       "        ws.onmessage(msg['content']['data'])\n",
       "    });\n",
       "    return ws;\n",
       "}\n",
       "\n",
       "mpl.mpl_figure_comm = function(comm, msg) {\n",
       "    // This is the function which gets called when the mpl process\n",
       "    // starts-up an IPython Comm through the \"matplotlib\" channel.\n",
       "\n",
       "    var id = msg.content.data.id;\n",
       "    // Get hold of the div created by the display call when the Comm\n",
       "    // socket was opened in Python.\n",
       "    var element = $(\"#\" + id);\n",
       "    var ws_proxy = comm_websocket_adapter(comm)\n",
       "\n",
       "    function ondownload(figure, format) {\n",
       "        window.open(figure.imageObj.src);\n",
       "    }\n",
       "\n",
       "    var fig = new mpl.figure(id, ws_proxy,\n",
       "                           ondownload,\n",
       "                           element.get(0));\n",
       "\n",
       "    // Call onopen now - mpl needs it, as it is assuming we've passed it a real\n",
       "    // web socket which is closed, not our websocket->open comm proxy.\n",
       "    ws_proxy.onopen();\n",
       "\n",
       "    fig.parent_element = element.get(0);\n",
       "    fig.cell_info = mpl.find_output_cell(\"<div id='\" + id + \"'></div>\");\n",
       "    if (!fig.cell_info) {\n",
       "        console.error(\"Failed to find cell for figure\", id, fig);\n",
       "        return;\n",
       "    }\n",
       "\n",
       "    var output_index = fig.cell_info[2]\n",
       "    var cell = fig.cell_info[0];\n",
       "\n",
       "};\n",
       "\n",
       "mpl.figure.prototype.handle_close = function(fig, msg) {\n",
       "    var width = fig.canvas.width/mpl.ratio\n",
       "    fig.root.unbind('remove')\n",
       "\n",
       "    // Update the output cell to use the data from the current canvas.\n",
       "    fig.push_to_output();\n",
       "    var dataURL = fig.canvas.toDataURL();\n",
       "    // Re-enable the keyboard manager in IPython - without this line, in FF,\n",
       "    // the notebook keyboard shortcuts fail.\n",
       "    IPython.keyboard_manager.enable()\n",
       "    $(fig.parent_element).html('<img src=\"' + dataURL + '\" width=\"' + width + '\">');\n",
       "    fig.close_ws(fig, msg);\n",
       "}\n",
       "\n",
       "mpl.figure.prototype.close_ws = function(fig, msg){\n",
       "    fig.send_message('closing', msg);\n",
       "    // fig.ws.close()\n",
       "}\n",
       "\n",
       "mpl.figure.prototype.push_to_output = function(remove_interactive) {\n",
       "    // Turn the data on the canvas into data in the output cell.\n",
       "    var width = this.canvas.width/mpl.ratio\n",
       "    var dataURL = this.canvas.toDataURL();\n",
       "    this.cell_info[1]['text/html'] = '<img src=\"' + dataURL + '\" width=\"' + width + '\">';\n",
       "}\n",
       "\n",
       "mpl.figure.prototype.updated_canvas_event = function() {\n",
       "    // Tell IPython that the notebook contents must change.\n",
       "    IPython.notebook.set_dirty(true);\n",
       "    this.send_message(\"ack\", {});\n",
       "    var fig = this;\n",
       "    // Wait a second, then push the new image to the DOM so\n",
       "    // that it is saved nicely (might be nice to debounce this).\n",
       "    setTimeout(function () { fig.push_to_output() }, 1000);\n",
       "}\n",
       "\n",
       "mpl.figure.prototype._init_toolbar = function() {\n",
       "    var fig = this;\n",
       "\n",
       "    var nav_element = $('<div/>');\n",
       "    nav_element.attr('style', 'width: 100%');\n",
       "    this.root.append(nav_element);\n",
       "\n",
       "    // Define a callback function for later on.\n",
       "    function toolbar_event(event) {\n",
       "        return fig.toolbar_button_onclick(event['data']);\n",
       "    }\n",
       "    function toolbar_mouse_event(event) {\n",
       "        return fig.toolbar_button_onmouseover(event['data']);\n",
       "    }\n",
       "\n",
       "    for(var toolbar_ind in mpl.toolbar_items){\n",
       "        var name = mpl.toolbar_items[toolbar_ind][0];\n",
       "        var tooltip = mpl.toolbar_items[toolbar_ind][1];\n",
       "        var image = mpl.toolbar_items[toolbar_ind][2];\n",
       "        var method_name = mpl.toolbar_items[toolbar_ind][3];\n",
       "\n",
       "        if (!name) { continue; };\n",
       "\n",
       "        var button = $('<button class=\"btn btn-default\" href=\"#\" title=\"' + name + '\"><i class=\"fa ' + image + ' fa-lg\"></i></button>');\n",
       "        button.click(method_name, toolbar_event);\n",
       "        button.mouseover(tooltip, toolbar_mouse_event);\n",
       "        nav_element.append(button);\n",
       "    }\n",
       "\n",
       "    // Add the status bar.\n",
       "    var status_bar = $('<span class=\"mpl-message\" style=\"text-align:right; float: right;\"/>');\n",
       "    nav_element.append(status_bar);\n",
       "    this.message = status_bar[0];\n",
       "\n",
       "    // Add the close button to the window.\n",
       "    var buttongrp = $('<div class=\"btn-group inline pull-right\"></div>');\n",
       "    var button = $('<button class=\"btn btn-mini btn-primary\" href=\"#\" title=\"Stop Interaction\"><i class=\"fa fa-power-off icon-remove icon-large\"></i></button>');\n",
       "    button.click(function (evt) { fig.handle_close(fig, {}); } );\n",
       "    button.mouseover('Stop Interaction', toolbar_mouse_event);\n",
       "    buttongrp.append(button);\n",
       "    var titlebar = this.root.find($('.ui-dialog-titlebar'));\n",
       "    titlebar.prepend(buttongrp);\n",
       "}\n",
       "\n",
       "mpl.figure.prototype._root_extra_style = function(el){\n",
       "    var fig = this\n",
       "    el.on(\"remove\", function(){\n",
       "\tfig.close_ws(fig, {});\n",
       "    });\n",
       "}\n",
       "\n",
       "mpl.figure.prototype._canvas_extra_style = function(el){\n",
       "    // this is important to make the div 'focusable\n",
       "    el.attr('tabindex', 0)\n",
       "    // reach out to IPython and tell the keyboard manager to turn it's self\n",
       "    // off when our div gets focus\n",
       "\n",
       "    // location in version 3\n",
       "    if (IPython.notebook.keyboard_manager) {\n",
       "        IPython.notebook.keyboard_manager.register_events(el);\n",
       "    }\n",
       "    else {\n",
       "        // location in version 2\n",
       "        IPython.keyboard_manager.register_events(el);\n",
       "    }\n",
       "\n",
       "}\n",
       "\n",
       "mpl.figure.prototype._key_event_extra = function(event, name) {\n",
       "    var manager = IPython.notebook.keyboard_manager;\n",
       "    if (!manager)\n",
       "        manager = IPython.keyboard_manager;\n",
       "\n",
       "    // Check for shift+enter\n",
       "    if (event.shiftKey && event.which == 13) {\n",
       "        this.canvas_div.blur();\n",
       "        // select the cell after this one\n",
       "        var index = IPython.notebook.find_cell_index(this.cell_info[0]);\n",
       "        IPython.notebook.select(index + 1);\n",
       "    }\n",
       "}\n",
       "\n",
       "mpl.figure.prototype.handle_save = function(fig, msg) {\n",
       "    fig.ondownload(fig, null);\n",
       "}\n",
       "\n",
       "\n",
       "mpl.find_output_cell = function(html_output) {\n",
       "    // Return the cell and output element which can be found *uniquely* in the notebook.\n",
       "    // Note - this is a bit hacky, but it is done because the \"notebook_saving.Notebook\"\n",
       "    // IPython event is triggered only after the cells have been serialised, which for\n",
       "    // our purposes (turning an active figure into a static one), is too late.\n",
       "    var cells = IPython.notebook.get_cells();\n",
       "    var ncells = cells.length;\n",
       "    for (var i=0; i<ncells; i++) {\n",
       "        var cell = cells[i];\n",
       "        if (cell.cell_type === 'code'){\n",
       "            for (var j=0; j<cell.output_area.outputs.length; j++) {\n",
       "                var data = cell.output_area.outputs[j];\n",
       "                if (data.data) {\n",
       "                    // IPython >= 3 moved mimebundle to data attribute of output\n",
       "                    data = data.data;\n",
       "                }\n",
       "                if (data['text/html'] == html_output) {\n",
       "                    return [cell, data, j];\n",
       "                }\n",
       "            }\n",
       "        }\n",
       "    }\n",
       "}\n",
       "\n",
       "// Register the function which deals with the matplotlib target/channel.\n",
       "// The kernel may be null if the page has been refreshed.\n",
       "if (IPython.notebook.kernel != null) {\n",
       "    IPython.notebook.kernel.comm_manager.register_target('matplotlib', mpl.mpl_figure_comm);\n",
       "}\n"
      ],
      "text/plain": [
       "<IPython.core.display.Javascript object>"
      ]
     },
     "metadata": {},
     "output_type": "display_data"
    },
    {
     "data": {
      "text/html": [
       "<img src=\"data:image/png;base64,iVBORw0KGgoAAAANSUhEUgAAAgAAAAGACAYAAADbINq/AAAgAElEQVR4nO3deXxV5Z0/8J/tDK++piLqOEOdtHNEDVXK2oQKaKWpWjrWpR2rbcfWDbvZTWesh0VARKGKAQU3VIjaKmKKEj2ENYSwBIHIEsKWsIct7EnIntzP74/LTRNulrucc7/nfM/n/Xrd19Tk3nOfeZ4nz/fDvec55/+BiIiIfOf/STeAiIiIEo8BgIiIyIcYAIiIiHyIAYCIiMiHGACIiIh8iAGAiIjIhxgAiIiIfIgBgIiIyIcYAIiIiHyIAYCIiMiHGACIiIh8iAGAiIjIhxgAiIiIfIgBgIiIyIcYAIiIiHyIAYCIiMiHGACIiIh8iAGAiIjIhxgAiIiIfIgBgIiIyIcYAIiIiHyIAYCIiMiHGACIiIh8iAGAiIjIhxgAiIiIfIgBgIiIyIcYAIiIiHyIAYCIiMiHGACIiIh8iAGAiIjIhxgAiIiIfIgBgIiIyIcYAIiIiHyIAYCIiMiHGACIiIh8iAGAiIjIhxgAiIiIfIgBgIiIyIcYAIiIiHyIAYCIiMiHGACIiIh8iAGAiIjIhxgAiIiIfIgBgIiIyIcYAIiIiHzI9wGgS5cuSEpK4oMPPvjgg49OH126dJEuW7bxfQBISkqSbgIREXmEpprBAKBoMImIyFmaagYDgKLBJCIiZ2mqGQwAigaTiIicpalmMAAoGkwiInKWpprh+gBQXFyMwYMHIzk5GampqSgqKgp7Tm5uLr70pS+hX79+zY/q6uqIjq9pMImIyFmaaobrA0BaWhoyMjIAAJmZmUhNTQ17Tm5uLvr16xfT8TUNJhEROUtTzXB1ACgrK0PXrl3R0NAAAAgEAujevTtKSkpaPY8BgIiIEkFTzXB1ACgoKEDPnj1b/WzgwIHIyclp9bPc3FxceOGFGDBgAFJTU/HKK69E/B6aBpOIiJylqWaoCADl5eU4c+YMAKC0tBR9+vTBnDlz2jxmenp6q6s6devWzZnGExGROgwACRLpVwDnmzhxIn7/+99H9B6aBpOIiJylqWa4OgAAwNChQ1udBJiSkhL2nMOHD6OpqQkAUFFRgSFDhmDmzJkRHV/TYBIRkbM01QzXB4AdO3Zg0KBBSE5ORkpKCgoLCwEAw4cPR1ZWFgBg+vTp6NWrF/r27YtevXph3LhxCAQCER1f02ASkTMCgQCm5xRj44HT0k0hYZpqhusDgNM0DSYRhTNMy3UP8i5NNYMBQNFgElE46WLPAKCLpprBAKBoMIkonHSxZwDQRVPNYABQNJhEFE662DMA6KKpZjAAKBpMIgonXewZAHTRVDMYABQNJhGFky72DAC6aKoZDACKBpOIwkkXewYAXTTVDAYARYNJROGkiz0DgC6aagYDgKLBJKJw0sWeAUAXTTWDAUDRYBJROOlizwCgi6aawQCgaDCJKJx0sWcA0EVTzWAAUDSYRBROutgzAOiiqWYwACgaTCIKJ13sGQB00VQzGAAUDSYRhZMu9gwAumiqGQwAigaTiMJJF3sGAF001QwGAEWDSUThpIs9A4AummoGA4CiwSSicNLFngFAF001gwFA0WASUTjpYs8AoIummsEAoGgwiSicdLFnANBFU81gAFA0mEQUTrrYMwDooqlmMAAoGkwiCidd7BkAdNFUMxgAFA0mEYWTLvYMALpoqhkMAIoGk4jCSRd7BgBdNNUMBgBFg0lE4aSLPQOALppqBgOAosEkonDSxZ4BQBdNNYMBQNFgElE46WLPAKCLpprBAKBoMIkonHSxZwDQRVPNYABQNJhEFE662DMA6KKpZjAAKBpMIgonXewZAHTRVDMYABQNJhGFky72DAC6aKoZDACKBpOIwkkXewYAXTTVDAYARYNJROGkiz0DgC6aagYDgKLBJKJw0sWeAUAXTTWDAUDRYBJROOlizwCgi6aawQCgaDCJKJx0sWcA0EVTzWAAUDSYRBROutgzAOiiqWYwACgaTCIKJ13sGQB00VQzGAAUDSYRhZMu9gwAumiqGQwAigaTiMJJF3sGAF001QwGAEWDSUThpIs9A4AummoGA4CiwSSicNLFngFAF001gwFA0WASUTjpYs8AoIummsEAoGgwiSicdLFnANBFU81gAFA0mEQUTrrYMwDooqlmMAAoGkwiCidd7BkAdNFUMxgAFA0mEYWTLvYMALpoqhkMAIoGk4jCSRd7BgBdNNUMBgBFg0lE4aSLPQOALppqBgOAosEkonDSxZ4BQBdNNcP1AaC4uBiDBw9GcnIyUlNTUVRU1O5zA4EA0tLS0K1bt4iPr2kwiSicdLFnANBFU81wfQBIS0tDRkYGACAzMxOpqantPjc9PR0PP/wwAwARNZMu9gwAumiqGa4OAGVlZejatSsaGhoABP+F3717d5SUlIQ9t6ioCN/+9rexa9cuBgAiaiZd7BkAdNFUM1wdAAoKCtCzZ89WPxs4cCBycnJa/ay+vh6DBw/Gtm3bsHfvXgYAImomXewZAHTRVDNUBIDRo0dj8uTJANBpAEhPT0dSUlLzI5qwQETeI13sGQB0YQBIkEi/Arjhhhvwn//5nzAMA0lJSbjgggtgGAaOHTvW6XtoGkwiCidd7BkAdNFUM1wdAABg6NChrU4CTElJ6fD5/AqAiFqSLvYMALpoqhmuDwA7duzAoEGDkJycjJSUFBQWFgIAhg8fjqysrLDnMwAQUUvSxZ4BQBdNNcP1AcBpmgaTiMJJF3sGAF001QwGAEWDSUThpIs9A4AummoGA4CiwSSicNLFngFAF001gwFA0WASUTjpYs8AoIummsEAoGgwiSicdLFnANBFU81gAFA0mEQUTrrYMwDooqlmMAAoGkwiCidd7BkAdNFUMxgAFA0mEYWTLvYMALpoqhkMAIoGk4jCSRd7BgBdNNUMBgBFg0lE4aSLPQOALppqBgOAosEkonDSxZ4BQBdNNYMBQNFgElE46WLPAKCLpprBAKBoMIkonHSxZwDQRVPNYABQNJhEFE662DMA6KKpZjAAKBpMIgonXewZAHTRVDMYABQNJhGFky72DAC6aKoZDACKBpOIwkkXewYAXTTVDAYARYNJROGkiz0DgC6aagYDgKLBJKJw0sWeAUAXTTWDAUDRYBJROOlizwCgi6aawQCgaDCJKJx0sWcA0EVTzWAAUDSYRBROutgzAOiiqWYwACgaTCIKJ13sGQB00VQzGAAUDSYRhZMu9gwAumiqGQwAigaTiMJJF3sGAF001QwGAEWDSUThpIs9A4AummoGA4CiwSSicNLFngFAF001gwFA0WASUTjpYs8AoIummsEAoGgwiSicdLFnANBFU81gAFA0mEQUTrrYMwDooqlmMAAoGkwiCidd7BkAdNFUMxgAFA0mEYWTLvYMALpoqhkMAIoGk4jCSRd7BgBdNNUMBgBFg0lE4aSLPQOALppqBgOAosEkonDSxZ4BQBdNNYMBQNFgElE46WLPAKCLpprBAKBoMIkonHSxZwDQRVPNYABQNJhEFE662DMA6KKpZjAAKBpMIgonXewZAHTRVDMYABQNJhGFky72DAC6aKoZDACKBpOIwkkXewYAXTTVDAYARYNJROGkiz0DgC6aagYDgKLBJKJw0sWeAUAXTTWDAUDRYBJROOlizwCgi6aawQCgaDCJKJx0sWcA0EVTzWAAUDSYRBROutgzAOiiqWYwACgaTCIKJ13s23rU1DdKdwvFSFPNYABQNJhE1NqJylrxYt/WY8vBM9JdQzHSVDMYABQNJhG1tnrXcfFi39bjow2l0l1DMdJUM1wfAIqLizF48GAkJycjNTUVRUVFYc/Jz89Hv3790K9fP/Tq1Qu/+tWvUFtbG9HxNQ0mEbWWsWqPeLFv6/GXBdulu4ZipKlmuD4ApKWlISMjAwCQmZmJ1NTUsOdUVVWhvr4eANDU1IQf/vCHmDJlSkTH1zSYRNTaiLmF4sW+rcdDGeuku4ZipKlmuDoAlJWVoWvXrmhoaAAABAIBdO/eHSUlJe2+pqamBsOGDcPUqVMjeg9Ng0lErf33q6vFi31bjxuey5HuGoqRpprh6gBQUFCAnj17tvrZwIEDkZMT/sezd+9e9O3bF1/+8pdxzz33oK6uLqL30DSYRPQPgUAAvccuFC/27T2q6hqku4hioKlmqAkAIZWVlbjzzjsxe/bsNn+fnp6OpKSk5ke3bt1sbTMRucPB09XiRb6jx+bS09JdRDFgAEiQWL4CAIDZs2fjtttui+g9NA0mEf3Dsu1l4kW+o0dmAXcCeJGmmuHqAAAAQ4cObXUSYEpKSthzSkpKmk8CrKurwz333INRo0ZFdHxNg0lE//Da8l3iRb6jx8T526S7iGKgqWa4PgDs2LEDgwYNQnJyMlJSUlBYWAgAGD58OLKysgAAM2bMwDe+8Q307dsXvXr1wh/+8AfU1NREdHxNg0lE//DYBxvFi3x7j+RR2Xhg1lrpLqIYaKoZrg8ATtM0mET0D7e+tAKDJi4VL/ZtPYZNzcOQSdwJ4EWaagYDgKLBJKKghsYmJI/Oxv2z1ooX+7Yef3h/AwzTQmUtdwJ4jaaawQCgaDCJKGjXscrm79mli31bj+k5xTBMCxv2n5LuKoqSpprBAKBoMIkoKLvwMAzTwt8LSsWLfVuPhUVHYJgW5qw7IN1VFCVNNYMBQNFgElHQ1CU7YZjBu+5JF/u2HnuOn4VhWpjw6VbprqIoaaoZDACKBpOIgn77twJcMcJCTX2jeLFv69HYFEDP0dn4xUzuBPAaTTWDAUDRYBJR0HdfyMV3JucCgHixb+sBAP/1YnCXAnmLpprBAKBoMIkIqKlvxJUj5+PX7xYAcG8AePTcdQrKa+olu4uipKlmMAAoGkwiAooOBb/3T1+8E4B7A8AruSUwTAsF+7gTwEs01QwGAEWDSUTARxuCZ/5bmw8DcG8AWLL1KAzTwvtr90t2F0VJU81gAFA0mEQETMreDsO0UFJWAcC9AWD/iSoYpoWnPimS7C6KkqaawQCgaDCJCHgwYx2SR2WjvrEJgHsDQFNTANc8uQD3vvmZZHdRlDTVDAYARYNJRMCQSTkYNjWv+b+li317AQAAbpu2EgOfWSLRTRQjTTWDAUDRYBL5XUVNPQzTwp9mb2j+mXSx7ygAPDYnuBPgTBV3AniFpprBAKBoMIn8rmDfKRimhVdyS5p/Jl3sOwoAry3fBcO0sG7vSYnuohhoqhkMAIoGk8jv3l+7H4ZpYem2o80/ky72HQWAnO3BnQB/+2yfRHdRDDTVDAYARYNJ5HfjsopgmBYOnKxq/pl0se8oAJSeCu4EGJfFnQBeoalmMAAoGkwiv/vZG2vQa8wCNDUFmn8mXew7CgCBQAC9xizAT2eskeguioGmmsEAoGgwifwuZcJi3PnyqlY/ky72HQUAALjj5VVImbA4kd1EcdBUMxgAFA0mkZ8dr6yFYVow/7651c+li31nAeDxDzfBMC2cPFuXyO6iGGmqGQwAigaToldd14iqugbpZpANVpcch2FamLlyT6ufSxf7zgLAG3m7YZgW1uw+kcjuohhpqhkMAIoGk6L349dW43tT8lp9Z0zeNGvVHhimhVUlx1v9XLrYdxYAcneUwTAtvJu/N4G9RbHSVDMYABQNpt9IL+KdLeyUWCPmboZhWjhWUdvq59JzorN5cuh0NQzTwpMfb0lkd1GMNNUMBgBFg+k30os4A4C7/OiVVRjw9GIEAq0/zZGeE53Nk0AggN5jF+Ke1/MT2V0UI001gwFA0WD6jfQizgDgHoFAAN8Yu7DN7XTScyKSeRIKL+R+mmoGA4CiwfQb6UWcAcA9OrqgjvSciGSemH8Pfn1xvLI27HfkLppqBgOAosH0G+lFnAHAPUKX1H3vs/1hv5OeE5HMk7dWBk9gXH3eCYzkPppqBgOAosH0G+lFnAHAPV7NDd5Up2Bf+E11pOdEJPNkRfExGKaFjFV7wn5H7qKpZjAAKBpMv5FexBkA3OPRD4K31S2vCb+trvSciGSeHC2vgWFaGPlRYSK6i+KgqWYwACgaTL+RXsQZANzjv15cgcETl7b5O+k5Eck8CQQC6DNuIX782mqnu4ripKlmMAAoGky/kV7EGQDcoaGxCcmjs/HArLVt/l56TkQ6T+56dTX6PrUobBsjuYummsEAoGgw/UZ6EWcAcIeSskoYpoWJ2dva/L30nIh0noyYWwjDtFBWXuNkd1GcNNUMBgBFg+k30os4A4A7zC88DMO0MPfz0jZ/Lz0nIp0nGecuZbyymDsB3ExTzWAAUDSYfiO9iDMAuMOUxTthmBa2HDzT5u+l50Sk86S9mxmRu2iqGQwAigbTb6QXcQYAd/jNXwvQY4SFmvrGNn8vPScinSfHKtq+nTG5i6aawQCgaDD9RnoRZwBwh7QXcpE2Obfd30vPiUjnSSAQQP/xi/CjV1Y51FNkB001gwFA0WD6jfQizgAgr6a+ET1GWPjNXwvafY70nIhmntz9ej56j13InQAupqlmMAAoGky/kV7EGQDkbTl4BoZpYcrine0+R3pORDNPRn8c3Alw+Ey1E91FNtBUMxgAFA2m30gv4gwA8uZ+XgrDtDC/8HC7z5GeE9HMk3fy98IwLSzfecyJ7iIbaKoZDACKBtNvpBdxBgB5E7O3wTAtlJRVtvsc6TkRzTzJ33UChmnhzRW7negusoGmmsEAoGgw/UZ6EWcAkPfArLVIHpWNhsamdp8jPSeimScnKoM7Af6cucmJ7iIbaKoZDACKBtNvpBdxBgB5Qybl4PsvrujwOdJzItp5kjJhMe58mTsB3EpTzWAAUDSYfiO9iDMAyCqvqYdhWnj0g40dPk96TkQ7T346Yw16jVnAnQAupalmMAAoGky/kV7EGQBkFew7CcO08Grurg6fJz0nop0nY+dtgWFaKD1VZWd3kU001QwGAEWD6TfSizgDgKz3PtsPw7SQs/1oh8+TnhPRzpO/rtkHw7SwbHuZnd1FNtFUMxgAFA2m30gv4gwAssZlFUX0L2XpORHtPFm7J/jJxuvLO/5kg2RoqhkMAIoG02+kF3EGAFk/nbEG34jgqnnScyLaeXK6qg6GaeF/53AngBtpqhkMAIoG02+kF3EGAFnffHpxRNfNl54TscyT1GeW4PbpK+3oJrKZpprBAKBoMP1GehFnAJATunPeiLmd3zlPek7EMk/+5801uObJBWhq4k4At9FUMxgAFA2m30gv4gwAclaVHIdhWpi1ak+nz5WeE7HMk6c+KYJhWjhwkjsB3EZTzXB9ACguLsbgwYORnJyM1NRUFBUVhT0nJycHAwcOxLXXXotevXrhz3/+M5qa2r8yWEuaBtNvpBdxBgA5M1fugWFaWF1yvNPnSs+JWObJ+2uDOxyWbO14hwMlnqaa4foAkJaWhoyMDABAZmYmUlNTw56zYcMG7N4dvHZ2TU0Nrr/++ubXdEbTYPqN9CLOACDH/PtmGKaF45W1nT5Xek7EMk9C1zh4JbfEju4iG2mqGa4OAGVlZejatSsaGhoAAIFAAN27d0dJScd/FL/73e8wbty4iN5D02D6jfQizgAg54evrMI3n14c0XOl50Qs8+RMdWRXOaTE01QzXB0ACgoK0LNnz1Y/GzhwIHJyctp9zZEjR9C9e3esX78+ovfQNJh+I72IMwDICAQC6DVmAX72xpqIni89J2KdJ9c9uxS3vtTxfQ4o8TTVDFUBoLy8HKmpqUhPT2/3mOnp6UhKSmp+dOvWzdY2U+JIL+IMADIOnKyCYVoYlxV+PlBbpOdErPPk5299hp6js9HInQCuwgCQINF8BVBRUYHBgwdjwoQJUb2HpsH0G+lFnAFAxtJtR2GYFt5fuz+i50vPiVjnydOfboVhWth7/Gw83UU201QzXB0AAGDo0KGtTgJMSUkJe05lZSWGDBmC8ePHR318TYPpN9KLOAOAjFdyS2CYFgr2nYro+dJzItZ58sG64E6ARUVH4ukuspmmmuH6ALBjxw4MGjQIycnJSElJQWFhIQBg+PDhyMrKAgA888wz+Kd/+if069ev+fHMM89EdHxNg+k30os4A4CMP83eAMO0UFFTH9HzpedErPNkw/5TMEwLLy/jTgA30VQzXB8AnKZpMP1GehFnAJDx/RdXYMik9k8EPp/0nIh1nlTWNsAwLfzh/Q2xdhU5QFPNYABQNJh+I72IMwAkXn1jE5JHZePBjHURv0Z6TsQzT4ZMysGwqXmxdBU5RFPNYABQNJh+I72IMwAkXklZBQzTwqTs7RG/RnpOxDNP7p+1FsmjstHQGNmVTcl5mmoGA4CiwfQb6UWcASDxrM2HYZgWPtpQGvFrpOdEPPPk2fnbYJgWdh2rjKW7yAGaagYDgKLB9BvpRZwBIPHSF++EYVooOnQm4tdIz4l45smH6w/AMC0s2HI4lu4iB2iqGQwAigbTb6QXcQaAxPv1uwXoMcJCTX1jxK+RnhPxzJNNB07DMC28tLQ4lu4iB2iqGQwAigbTb6QXcQaAxEubnIu0F3Kjeo30nIhnnpw9txPgd+99HmVPkVM01QwGAEWD6TfSizgDQGLV1DeixwgLv/1bQVSvk54T8c6T6/+Sg+9N4U4At9BUMxgAFA2m30gv4m09eNlW52w5eAaGaWHqkp1RvU56TsQbAB7KWIerR81HPXcCuIKmmsEAoGgw/eRYRa34It7WY+L8bdJdo9bfC0phmBayC6M7IU56TsQbACZlb4dhWig+WhHV68gZmmoGA4CiwfSTN1fsFl/E23r0H78ItQ2Rn6BGkZsY45Y46TkRbwCY+3kw+FibuRPADTTVDAYARYPpF4FAAMOm5okv4u095m08KN1FKt0/ay2SR0d/URzp+RBvAAh99TFlcXRffZAzNNUMBgBFg+kXoQXRjY/k0dm4+7V86S5SafDEpbj1pRVRv056TsQbAKrrGnFFDCc/kjM01QwGAEWD6RfjsorEF/D2Ho99sBGGaWEnv6+11Znq+ub+jZb0nIg3AADAjc8vw03py6N+HdlPU81gAFA0mH5Q19CE/uMX4ab05eKLeFuPgn0nYZgWxmUVSXeVKuv3Bvv1teW7on6t9JywIwAMf3s9rho5H3UN3AkgTVPNYABQNJh+sGDLkeZCIL2It/UInZ/Qe9xCVNU1SHeXGn/7bB8M08Ky7WVRv1Z6TtgRAJ5bENwJsOMIP1mSpqlmMAAoGkw/GP72evQYYeFoeY34It7ewv5u/l4YpoU56w4I95YeY+dtgWFaOHi6OurXSs8JOwLAvI0HYZgWPtl0KOrXkr001QwGAEWDqd2xilpcOXI+7p+1FoB7F/aKmnpcO2YB7pi+UrK7VPnJjHz0HrsQgUAg6tdKzwk7AsDWQ+UwTAsvLNoR9WvJXppqBgOAosHULrT3/9PNwX8FSS/iHS3sI+ZuhmFaKCyN/K511LZAIID+4xfhv19dHdPrpeeEHQEgdBnkX727PqY+IPtoqhkMAIoGU7PQd+t9xi1svhOc9CLe0cJeWBrcqjhi7mapLlOjrKLmXF8WxvR66TlhRwAAzt0IaXJuTK8l+2iqGQwAigZTs9De/9Ef/6MISC/inS3st09fiWvHLEB5TX2iu0uVlcXHYZgWMlbtien10nPCrgDwq3fXR30rZLKfpprBAKBoMDUL7f3feOB088+kF/HOFvYP1u2HYVp4N39vgntLl7dW7oFhWli963hMr5eeE3YFgBcW7YBhWth6qDym15M9NNUMBgBFg6lVbUMj+p3b+9/yJDDpRbyzhb2qrgG9xy7EsKl5MZ28RkFPZAbPpzhRWRvT66XnhF0BIGvTIRgmLzUtTVPNYABQNJhaLdhyGIYZfhEY6UU8koU9tH2tYN/JRHWXOne+vAopExbH/HrpOWFXANh+JLgT4PmF22PuC4qfpprBAKBoMLUa/va65r3/LUkv4pEs7DuOVMAwY7uELQFNTQH0GrMA//PmmpiPIT0n7AoAdQ1NuGrkfDz8DncCSNJUMxgAFA2mRufv/W9JehGPdGH/8WurkTw6G6fO1jndXeocOFkFw7Tw1CexX1pZek7YFQAA4Kb05bjx+WUxv57ip6lmMAAoGkyNzt/735L0Ih7pwv7xhuBV3N5csdvp7lJnydajMEwLs9fuj/kY0nPCzgDw278V4IoRFqrruBNAiqaawQCgaDC1CQQC+N6U1nv/W5JexCNd2GvqG9F//CJ8Z3IuTwaM0svLSmCYFj7ffyrmY0jPCTsDwJTFO2GYFrYc5AWmpGiqGQwAigZTm9De/yc/3tLm76UX8WgW9mfnb4NhWlhdEttWNr/64+wNMEwLFXFcS0F6TtgZAKzNwRNi535eGvMxKD6aagYDgKLB1Ca0939Ti73/LUkv4tEs7HuOn4VhWnjkb5871V0qDZuahyGTcuI6hvScsDMAFB8NnlQ6KZs7AaRoqhkMAIoGU5PQ3v+bz9v735L0Ih7twn7vm5/hqpHzUVZR0+HzKKi+sQnJo7LxUMa6uI4jPSfsDAD1jU24etT8uPuEYqepZjAAKBpMTUJ7/18/b+9/S9KLeLQLe3Zh8P+nl5eV2N1dKoX+tfuXBfH9a1d6TtgZAADglinLccNz8X0qQrHTVDMYABQNpiahvf9l5e3/a1l6EY92Ya9vbELqM0swZFIOGpt4MmBnPt0cvPLdxxviu/Kd9JywOwA88t7nMEwLVXUNcR2HYqOpZjAAKBpMLUJ7/x9oY+9/S9KLeCwLe+h67st2lNnVXWql23Tte+k5YXcAeGlpMQyz/XNjyFmaagYDgKLB1OKNvODef2vz4Q6fJ72Ix7KwHzxdjR4jLAx/m1dz68yv3l2PK0fOR21DfHvepeeE3QEg9PXYh+sPxHUcio2mmsEAoGgwNQjt/e/71KJOb3sqvYjHurA/lBH8euPQ6Wo7ukyt70zOxU3py+M+jvScsDsA7DpWCcO08Oz8bXH3DUVPU81gAFA0mBoUlna8978l6UU81l2FckMAAB+cSURBVIU9Z3vw6nbpi3fG211qVdc14ooR9myblJ4TdgeAhnO7I9q6PDY5T1PNYABQNJgahO6eF8n3m9KLeKwLe2NTAEMm5WDgM0tQ39gUb5epFAqCLy4pjvtY0nPC7gAA2HN9BIqNpprBAKBoML0ukr3/LUkv4vEs7NNzgidyLdhyJJ4uUyuzoPRc/3R8HkgkpOeEEwHgD+8Hr5BYWcudAImmqWYwACgaTK8L7ZPvaO9/S9KLeDwLe1l5Da4aOR8/f+uzWLtLtdClk3cfq4z7WNJzwokAEAqQG+K4RwLFRlPNYABQNJheFzo5rqO9/y1JL+LxLuy//VsBDNPCvhNnY+ku1e6buRY9R2fbcr0E6TnhRABYWHQEhmlhzjruBEg0TTWDAUDRYHpZWUVNRHv/W5JexONd2FeVHIdhWpiYzbO5zzdo4lL8YNoKW44lPSecCAB7z91b4ulPt9rQQxQNTTWDAUDRYHpZaO///MLIv/OVXsTjXdibmgL4zuRcDHh6cdx73TU5U1UPw7Tw2JyNthxPek44EQAamwLoOTqbXyEJ0FQzGAAUDaZXtdz7H00hlF7E7VjYQ8Fn3sb4Lnerybq9J2GYkZ8L0hnpOeFEAACAW19ageueXWrLsShymmoGA4CiwfSq0JavMfM63/vfkvQibsfCfvJsHZJHZ+Pu1/Ojfq1Wf12zD4Zp3+WSpeeEUwHg0Q82wjAtnKmut+V4FBlNNYMBQNFgelVo7//m0uiubS69iNu1sIcW8uKjFTG9Xpsx5+aDXVdKlJ4TTgWAV3JLYJgWCvadtOV4FBlNNYMBQNFgelFo7/8tUyLb+9+S9CJu18K+/txH3uOyimJ6vTb3vJ6P3uMWRj0f2iM9J5wKAEu2Bq8o+f7a/bYcjyKjqWYwACgaTC8K7f2fkRf9973Si7hdC3voHIje4xaius7fJwMGAgH0H78Id7262rZjSs8JpwLA/hNVMEwLT33C4JhImmoGA4CiwfSiBzPW4cqR8yPe+9+S9CJu58L+Tv5eGKaFOT6/w1tZeQ0M08LIjwptO6b0nHAqADQ1BXDNkwtw75vcCZBImmqG6wNAcXExBg8ejOTkZKSmpqKoKDzt7t27F0OHDsVFF12Efv36RXV8TYPpNWXlwb3/D2asi+n10ou4nQt7eU09rnlyAe54eVXMx9BgRfExGKaFt1fvte2Y0nPCqQAAALdPX4nUZ5bYdjzqnKaa4foAkJaWhoyMDABAZmYmUlNTw55z8uRJrFy5EpZlMQB4yIy8XTDM6Pb+tyS9iNu9sD+RuRmGaWHLwTNxHcfL3lwR3BaZv+uEbceUnhNOBoD/nbMJhmnhdFWdbcekjmmqGa4OAGVlZejatSsaGoI3vAgEAujevTtKSkrafH5ubi4DgEcEAgHcMmV51Hv/W5JexO1e2DeXnoZhWhgx176Pv73mz5nBgnbyrH0FTXpOOBkAXl8eDNFr93AnQKJoqhmuDgAFBQXo2bNnq58NHDgQOTlt3waTAcA7QsUu2r3/LUkv4k4s7LdNW4lrxyxARY0/93bf8fIq2z/Slp4TTgaAZdvLYJgW/rpmn23HpI5pqhm+CwDp6elISkpqfnTr1s229lLkxsS4978l6UXciYV99tr9MEwL7/pwQW9qCuDaMfaf1CY9J5wMAKWngjsBxsYRpCk6DAAJwq8AdKptaETfp2Lb+9+S9CLuxMJ+trYBvccuxLCpebbtg/eK0La28Z/Ye4Mb6TnhZAAIBALoNWYBfjpjjW3HpI5pqhmuDgAAMHTo0FYnAaakpLT7XAYAb5h/bu//G3m74zqO9CLu1MIe+nSkYJ+/7vW++NyFbT5YZ++FbaTnhJMBAAh+bZIyYbGtx6T2aaoZrg8AO3bswKBBg5CcnIyUlBQUFgZPkBo+fDiysrIAAFVVVUhKSsJll12Gf/7nf0ZSUhJGjBgR0fE1DaZXNO/9r4h+739L0ou4Uwv79iPlMEz77obnFS8vC17adsN+e4OP9JxwOgA8/qH9J05S+zTVDNcHAKdpGkwvCO39fyjGvf8tSS/iTi7sd726Gj1HZ/tqe9cf3t8Aw7RQWdtg63Gl54TTASB0R8k1u+3bOknt01QzGAAUDaYXhPb+Z8e4978l6UXcyYX9ow2lMEwLb63cY9sx3W7Y1Dzc8FzbJ/jGQ3pOOB0Alu8MXjzpnfy9th6X2qapZjAAKBpMtwvt/e83Pva9/y1JL+JOLuw19cGbJKW9kOuLkwHrG5tw9aj5GP52/J8MnU96TjgdAA6fqYZhWhj9sX+vH5FImmoGA4CiwXS70N5/u7YsSS/iTi/sz1hbYZj2XhXPrXYerYBhWnhuwXbbjy09J5yeJ4FAAL3HLsTdr+fbelxqm6aawQCgaDDdLnR2e2GpPZe6lV7EnV7Ydx+rhGFa+N17n9t6XDf6ZNMhGKaFeRsP2n5s6Tnh9DwBgB+9sgr9xy/yxadF0jTVDAYARYPpZjX1wb3/35ti3/526UU8EQv7/7y5BlePmo9jFbW2H9tNXli0A4ZpYdvhctuPLT0nEjFPzL8H7yOhfZ64gaaawQCgaDDdzNpsz97/lqQX8UQs7KFrJryS2/bFr7T45TvrceXI+bacG3I+6TmRiHny1so9MEwLq0uO235sak1TzWAAUDSYbvbArLW27P1vSXoRT8TCXt/YhNRnluD6v+SgqUnvx7tDn1+Gm9OXO3Js6TmRiHkSuo1yxir/7BqRoqlmMAAoGky3KiuvQY8Rli17/1uSXsQTsbADwOSFwY/Hc3eUOXJ8adV1jbhihIVHHDrXQXpOJGKeHC2vgWFaGPkRdwI4TVPNYABQNJhuFbplqR17/1uSXsQTFQBKT1XhihEWHn5nvSPHlxbaHfLS0mJHji89JxIxTwKBAPo+tQh3vbra9mNTa5pqBgOAosF0o0AggJvT7dv735L0Ip6oAAAEL5/cY4SFw2eqHXsPKR+uPwDDtLBgyxFHji89JxI1T3782mr0GbeQOwEcpqlmMAAoGkw32nTA3r3/LUkv4okMAEu3BW+UM2XxTsfeQ0roegd7jp915PjScyJR82TkR4UwTAtHy+07z0aaG8970VQzGAAUDaYbPflxcO//loP27P1vSXoRT2QAaGwKYPDEpfjWs0vQ0Njk2PtI+MXMtfj6k9lodGixl54TiZonGauCOwFWFB9z5PiJFAgEMHvtftzx8irU1Nu/MyQemmoGA4CiwXSb0N5/p+5tL72IJzIAAMC0pcUwTAsLi5z5qFzKdc8uxW3TVjp2fOk5kah5srrkOAzTHfePkO5fJ/tcU81gAFA0mG4T2vv/5gr79v63JL2gJDoAhO6k+IuZax19n0Q6U1UPw7Twv3M2OfYe0nMiUfPkWEUtDNOC+ffNjhw/GtL9ywAQGQYARYPpNqG9/05dnUx6QUl0AACA3/y1AIZpYf+JKsffKxHW7jkJw7QwI2+XY+8hPScSNU8CgQD6j1+EH72yypHjR0O6fxkAIsMAoGgw3SS099+Ju7uFSC8oEgFgZXHwY95J2fbfNEfCu2v2wTCdvcaB9JxI5Dy5+/V89B4rvxNAun8ZACLDAKBoMN0ktPd/wRZ79/63JL2gSASApqYAhj6/DN98erEjl81NtNBJok5ub5SeE4mcJ6H+PHRadruodP8yAESGAUDRYLpFIBDATenL0X/8ItQ1OHfGuvSCIhEAAGBGXjBcZW06lJD3c9Ldr+c7vnddek4kcp68m78Xhil/1Ujp/mUAiAwDgKLBdIuN5/b+j8sqcvR9pBcUqQBw8mwdkkdl4+7X8l25TzpSgUAA/cYvwo9fc/bqddJzIpHzZM3uEzBMe2+6FQvp/mUAiAwDgKLBdIvRHwcvSOLE3v+WpBcUqQAAAI9+sBGGaeHG55fhteW7cLzSe7eBDV2/fpTD16+XnhOJnCcnz9bBMC08/qFzuyoiId2/DACRYQBQNJhuUFPfiD7jFjq2978l6QUl1kVGuo2JLEgdydsZvIPdO/l7HX0f6b5NdH+nTFiMO16W3Qkg3b9O9rmmmsEAoGgw3eDTzYdgmM7t/W9JekGJdZGRbmOiC1J73lyxG4ZpYc3uE46+j3TfJrq/fzpjDXqNWSC6E0C6f53sc001gwHARYNZU9+IU2frxLfwxON+h/f+tyS9oMS6yEi3MdEFqT2Pf7gJhmnh1Nk6R99Hum8T3d9j5wV3ApSekrtWhHT/OtnnbqoZ8WIAcNFgLj/3kejXn8zGdybn4qcz1uCxORvx/MLteHfNPizddhRFh87gpEtDwtEE7P1vSXpBiXWRkW5jogtSe+6YvhIDn1ni+PtI922i+/uv566tsGy7zE6AQCAg3r9O9rmbaka8GABsGkzpyd3WI9Eh4bUE7P1vSbp/Y11kpNvo5OIYqaamAK55cgF+/tZnjr+XdN8mur9DV1d8bblzV1dsz4nKWgx/e714/zrZ5wwAimgOAMmjs3Hj88vwkxn5ePSDjfjLgu14N38vFm89ii0Hz+BEZa1tISFRe/9bku7fWBcZ6TY6uThGat+JszBMC09/utXx95Lu20T39+mq4E6Ax+ZsdPR9zrdsexlSJiwR71un+5wBQBHNAeCBWWsxbGoe+j61qN3nJI/OxrefW4Z7Xs/Hn2ZvwKTs7Xgnfy8WFR1BYekZHK+sjWiveaL2/rck3b+xLjLSbWzr8UTmZmw6cDphnxotKjoCw7QwZ90Bx99Lum9jnSfxGPjMEkfvsNhSdV0jxpw776D3uIWYt/GgeP862ecMAIpoDgAtVdU1YNexSqwqOY7MglJMW1qMkR8V4sGMdRg2NQ/9xncQEkZl44bncnD36/n44+wNmJi9DW+v3ouFRUewufQ0jlXUYuRHidn776U+91K7Q49bX1qBv322D5W1DY6O3fSc4K2NNx447ej7AO7sb6fd++ZnuObJBY5fKGrLwTO4KX05DNPCPa/n4+C5SxBL96+Tfc4AoIhfAkAkqusasftYJVaXHMffC0oxPacYoz4qxEMZ6/D9F1egfwchwTCthOz9b0m6f2Ptc+k2tvUoOnQGoz4qRK8xC2CYFnqNWYCRHxU6Fuh+//4GGKaFsw4HDcCd/e20pz4pgmE6d9fIxqYAXs3dhatHzcfVo+bjteW70NgibEj3r5N9zgCgiN8DgHQb4/lDlW6nxj6vrG3Ae5/txw+mrWj+3R3TV+KDdftRVWdfsf7elDx8+7llth2vI9J9G88cj9X7a/fDMC0s2XrU9mMfPF2Ne17Ph2Fa+O4LuW2GROn+dbLPGQAUYQCQb2esf6jS7dTe55tLT+OJzM245sngpwK9xy7EmHlbsP1IecRj1Ja6hiZcNXI+hr+9Pq7jREq6b+OZ47Eq2BfcCfBKbomtx83adAi9xy2EYVoYM28LquvaviOldP862ecMAIowAMi3M9Y/VOl2+qXPy2vq8W7+Xgybmtf8/B+9sgqZBaWoqY/+lsQ7jlTAMC08v3B71K+NhXTfxjPHY3Wmuh6GaeHRD+zZCVBeU48/zQ5+bZMyYUmn1xiQ7l8n+5wBQBEGAPl2xvqHKt1Ov/V5IBDA5/tP4X/nbELP0dkwTAt9xi3EuKwiFB+tiHjcsjYFLxc9b+PBiF8TD+m+jWeOx+O6Z5fiv15cEfdxPtt9AkMm5cAwgxf5iuTGU9L962SfMwAowgAg385Y/1Cl2+nHPg85U1WPWav24OZzZ4AbpoW7X8vHxxsOdvqpwOSFO2CYVtxfJURKum/t6O9Y/GLmWvQcnd3q5Lxo1DU04bkF23HFCAvXPLkA7322P+KTfKX718k+ZwBQhAFAvp2x/qFKt9OPfX6+QCCAdXtP4k+zNyD53KcC/ccvwoRPt2LXsco2X/PwO+tx1cj5vGCUwyZ8uhWGaWHP8bNRv7akrBK3TVsJw7Rw+/SV2N3OWLZHun+d7HMGAEUYAOTbGesfqnQ7/djnHTl1tg5vrtiNtMm5zcf96Yw1+GTToVbF/sbnl+GWKcttec9ISPetU/3dmTnrDsAwLSwsOhLxawKBAP66Zh++/mQ2eoywMHnhDtQ3Rh/UpPvXyT5nAFCEAUC+nbH+oUq30499HolAIID8XSfwu/c+x9Wj5sMwLXzz6cWYmL0N2w6X44oRFn733ue2vmdHpPvW6f5uz4b9p2CYFqbnFEf0/OOVtXgoYx0M08L1f8nBur0nY35v6f51ss8ZABRhAJBvZ6x/qNLt9GOfR+t4ZS1eW74LNz6/rNX7TVsaWVGyg3TfJrK/W6qsbYBhWvjD+xs6fe7SbUeRMmExDDN4D4Hymvq43lu6f53scwYARRgA5NsZ6x+qdDv91ufSbfRbu+0wZFIOhk3Na/f31XWNGP1x8DLefcYtxKebD9nyvtL962SfMwAowgAg385Y/1Cl2+m3Ppduo9/abYf7Z61F8qhsNLTxPX5h6RmkvRA8X+Nnb6zB4TPVtr2vdP862ecMAIowAMi3M9Y/VOl2+q3Ppdvot3bb4dn522CYFkrK/nEWf2NTAC8vK8FVI+cjeVQ23sjbbftNg6T718k+ZwBQhAFAvp2x/qFKt9NvfS7dRr+12w6ZBaUwTAvZhYcBAKWnqnD3a8Hr+N+cvhxbDzlzLQbp/nWyzxkAFGEAkG9nrH+o0u30W59Lt9Fv7bbD5tLTMEwLLy4pxscbDqL32OB1/MdlFcV0GedISfevk33OAKAIA4B8O2P9Q5Vup9/6XLqNfmu3HarqgjsBvnGu8Kc+swS5Ozq+jr8dpPvXyT5nAFCEAUC+nbH+oUq30299Lt1Gv7XbLqEtmA+/sx4nIriOvx2k+9fJPmcAUIQBQL6dsf6hSrfTb30u3Ua/tdvLbZduYzx93hkGAEUYAOTbGesfqnQ7/dbn0m30W7u93HbpNsbT551hAFCEAUC+nbH+oUq30299Lt1Gv7Xby22XbmM8fd4ZBoAEKi4uxuDBg5GcnIzU1FQUFRW1+by33noLV199Na688ko8/PDDqK+P7FKWDADy7Yz1D1W6nX7rc+k2+q3dXm67dBvj6fPOMAAkUFpaGjIyMgAAmZmZSE1NDXvOnj17cPnll+PIkSMIBAK4/fbb8fLLL0d0fAYA+XbG+ocq3U6/9bl0G/3Wbi+3XbqN8fR5ZxgAEqSsrAxdu3ZFQ0MDgOBdxrp3746SkpJWz3v++efx61//uvm/58+fj+uvvz6i92AAkG9nrH+o0u30W59Lt9Fv7fZy26XbGE+fd4YBIEEKCgrQs2fPVj8bOHAgcnJyWv3s97//PSZOnNj831u3bsXXvva1iN6DAUC+nbH+oUq30299Lt1Gv7Xby22XbmM8fd4ZBoAEcSIApKenIykpqfnxxS9+sdV/u+HRrVs38Taw3e5/eLXdXm472812d+nSxf5iJ8TVASARXwG4UVKSNxMm251YXm034N22s92J5dV2e4WrAwAADB06tNVJgCkpKWHP2b17d9hJgNOnT09wS+3j1UnPdieWV9sNeLftbHdiebXdXuH6ALBjxw4MGjQIycnJSElJQWFhIQBg+PDhyMrKan7eG2+8gSuvvBJXXnklHnrooYi3AbqRVyc9251YXm034N22s92J5dV2e4XrA4AfpaenSzchJmx3Ynm13YB32852J5ZX2+0VDABEREQ+xABARETkQwwAREREPsQAQERE5EMMAERERD7EAEDkAcuXL5duAnnE2bNnpZtgm6amJnzyySe48847pZuiEgOAsJdeeqnVY9q0afjggw9w6NAh6aaptWrVqub/XVVVhUceeQR9+/bF/fffj9OnTwu2rH0DBgyQbkLMvNjfQPAuoyGBQACTJ0/GHXfcgXHjxrn6OiNenishxcXFME0T//Ef/4FBgwZh2rRp0k1SiQFA2AMPPBD2uO222/Bv//ZvWLRokXTz2vXhhx82/+/jx4/j1ltvxUUXXYShQ4di//79gi3rXMsF8v/+7//wi1/8AmvWrMGjjz6K++67T7Bl7evfv790E2Lmxf4GWrf76aefxi233ILZs2fj7rvvxh//+EfBlnXMq3Oluroa77zzDr797W/j8ssvx+OPP46vfvWr0s1SjQHApbZv347rrrtOuhntark4PvzwwzBNE0eOHEF6ejp++MMfCrascy0XyP79+6O6uhpA8OPG3r17SzWrQ0lJSWGfFrV8uJkX+xto3e6UlJTmTytqa2td3e5rrrkGhYWF2Lx5c5sPt7roootw4403Yt68ec33f+nRo4dwq3RjAHAxN3+U13Jx7Nu3LxobG1v9t5v17dsXFRUVKC8vR2pqaqvfufVfT5deemmbnxY98MADePDBB6Wb1yEv9jfQ+u/vW9/6VqvfubndXbp0QY8ePXDFFVeEPdxcUO+77z5ceuml+MlPfoLFixcDYABwGgOAS9XU1Li6kLb8V0a/fv1a/e78/3abCy64AF/4whea/29paSmA4EeQbu1zNxecznixvwHgi1/8Ii655BJcfPHF6NKlC44fPw4AaGhocPUnAF6eKxUVFZgxYwa+9a1v4Wtf+xouueQSFBcXSzdLLQYAYVlZWWGPWbNmIS0tDePHj5duXrsMw2j1r4zQon7mzBlXf3LRkdOnT2PNmjXSzWiTlxf19ri5vwFg3759rR51dXUAgGPHjuGjjz4Sbl37vPr3d77CwkI8+uijuOyyy8I+OSJ7MAAI+853vtPqkZaWhnvuuQczZ85EIBCQbl7UqqqqWp09XVtbK9gaPV5//XXpJjjuu9/9rnQTVHj44Yelm2CL3bt3Y+rUqcjKymp10jHZhwHAxUInwniZm/81kpeXh4EDB+KSSy5B165dceGFF6Jr167SzerQVVddhV//+tf48MMPceLECenm2Mqtn3Js3boVd999NwYMGIA+ffo0P7zgww8/xC9/+Uv88pe/RGZmpnRzOnTTTTdh48aNAIBDhw7hkksuwfe//31cc801mDRpknDrdGIAcKGtW7fisccew7//+79LNyVubl3UAaBnz57IzMzE/v37cfDgweaHmx04cAAzZ87Ez372M1x++eUYMGAA/vznP0s3yxZuDYt9+vTB5MmTkZeXh1WrVjU/3G78+PEYMGAApk6dihdffBEpKSmYMGGCdLPadc011zT/78mTJzfvJjp16pRnApfXMAC4RGVlJd58801cd9116NKlC0aMGIHCwkLpZsXNrYs6AE9/r1hYWIj09HRcccUVavZKu3WuuDnEdqRPnz6oqqpq/u+zZ8+6upC2HP8f/ehHeOONN5r/26tj4HYMAMJWrVqFBx98EBdffDHuuusuWJYFwzCkm2Ubty7qADBp0iS8++67zSd3ecG9996Lnj174o477sC0adOwdetW6SbZxq1z5bHHHkNeXp50M6LW1k4FN+9eSElJQWlpKSorK3HppZdi586dzb/7+te/LtgyvRgAhF1wwQW45ZZbcOTIkeafadr76ubkPm/ePFx44YX4whe+0GqbmpsNHDgQ/fv3xxNPPIElS5Z44iTLSO9jcMcddzjcktisXr0aF154IS6//PLmnS9e+Bt96KGH8POf/xx5eXnIy8vDfffdh4ceeki6We2aO3cuLrvsMnzlK1/BXXfd1fzz1atXY9iwYYIt04sBQNisWbNwww034Ktf/SpGjRqF4uJiTywukfrNb34j3YR29ejRAzk5OSgvL8fZs2ebH253+vRpzJ07F4888giSk5Nx8803SzepQ279l32kevbsiZkzZ2Lz5s0oKipqfrjd2bNn8cQTTyAlJQUpKSkwTdP18/vIkSPYtGlTqx1Qhw4dcv3lxb2KAcAlduzYgSeeeAJf+cpX8KUvfQkzZszAqVOnpJvVLg03MXLzpZbb09jYiJUrV2Ls2LEYMmQI/vVf/9X1d0pz86dAkfjmN78p3QQiRzAAuExjYyPmzZuH22+/HV/+8pelm9Mur97EqKVnn30W06dPR1lZGcrLy5sfbnbppZdi6NChePrpp5Gfn9/qEsxu5eX7GADAmDFj8Mknn0g3I2qat4ySPRgAhFVXV+PVV1/F7Nmz0dTUhMcffxy9e/fGXXfdhQMHDkg3L2puv4lRSxdccEHzwyvnALQ8q9srvHwfAwC4+OKLccEFF+Bf/uVfmi8NfMkll0g3q1Oat4ySPRgAhN177734wQ9+gLS0NNx8880YPnw4srOz8fjjj+P222+Xbl5MvP6db4ibTrDz8lcuXv8K4PxLAoceXqFxyyjZgwFA2LXXXgsgePOfiy++GE1NTc2/c/OWnfa4/SZG0XBTkPHyVy5eDwCdcesljDVvGSV7MAAIO/9e6S25qQCdz6s3MYqGFwqXF75y0X4fA7fOEy9uGaXEYgAQ1vK2ui3/d+i/3UrbTYza4uYA1pJX2qn1pDQ397/XtoxSYjEACDMMo/mWuuc/vHo9AA03MQLcvbCHeOkrF60npbl1nnhxyyglFgMA2UbTTYwAd320q+krF20npbk1AHhxyyglFgMAxUXrTYwAd13FUMNXLl47Kc3rlzD24pZRSiwGAIqJl29i5OUtdW3xylcuXjspza3/su+MtvlNzmEAoJh4+SZGXt5S15IXv3Lx0klpbvoKKBpa5jc5jwGAYqLxJkZe2FLn5a9cvHZSmtcvYXw+L8xvSiwGAIqL125i1Bm3fuzr5a9cQrx2UprXL2HcFrfOb5LBAEC28MpNjDri5i11Xv7KJcRrJ6V59SuA9rh5fpMMBgCKiZdvYuTFLXVe/srFqyeleTUAeHF+kwwGAIqJl29i5OUtdV78ysWrJ6V59RLGXp7flFgMABQTbTcxCvHKljoNX7l45aQ0TZcw9sr8psT4/yAckrODpsX1AAAAAElFTkSuQmCC\" width=\"640\">"
      ],
      "text/plain": [
       "<IPython.core.display.HTML object>"
      ]
     },
     "metadata": {},
     "output_type": "display_data"
    },
    {
     "data": {
      "text/plain": [
       "[<matplotlib.lines.Line2D at 0x7f53c1d452b0>]"
      ]
     },
     "execution_count": 137,
     "metadata": {},
     "output_type": "execute_result"
    }
   ],
   "source": [
    "plt.plot([key for key in regimeAmounts.keys()],[val for val in regimeAmounts.values()])"
   ]
  },
  {
   "cell_type": "code",
   "execution_count": 138,
   "metadata": {},
   "outputs": [
    {
     "data": {
      "text/plain": [
       "([<matplotlib.axis.XTick at 0x7f53c1e3bc70>,\n",
       "  <matplotlib.axis.XTick at 0x7f53c1e3bc40>,\n",
       "  <matplotlib.axis.XTick at 0x7f53c1e3f790>,\n",
       "  <matplotlib.axis.XTick at 0x7f53c1d45520>,\n",
       "  <matplotlib.axis.XTick at 0x7f53c1d458b0>,\n",
       "  <matplotlib.axis.XTick at 0x7f53c1d45dc0>,\n",
       "  <matplotlib.axis.XTick at 0x7f53c1d45460>,\n",
       "  <matplotlib.axis.XTick at 0x7f53c1d2c190>],\n",
       " [Text(0, 0, 'BAU'),\n",
       "  Text(1, 0, 'BAU_5'),\n",
       "  Text(2, 0, 'BAU_m5'),\n",
       "  Text(3, 0, 'BAUwT'),\n",
       "  Text(4, 0, 'BAUwT_5'),\n",
       "  Text(5, 0, 'BAUwT_m5'),\n",
       "  Text(6, 0, 'BAUwoT'),\n",
       "  Text(7, 0, 'SA')])"
      ]
     },
     "execution_count": 138,
     "metadata": {},
     "output_type": "execute_result"
    }
   ],
   "source": [
    "plt.bar(range(len(regimeAmounts)), list(regimeAmounts.values()), align='center')\n",
    "plt.xticks(range(len(regimeAmounts)), list(regimeAmounts.keys()),rotation=\"vertical\")"
   ]
  },
  {
   "cell_type": "markdown",
   "metadata": {},
   "source": [
    "## Export data as csv\n",
    "\n",
    "- <b>Solution_alldata</b> contains the optimal regime per stand AND the timely development of indicator values plus all other input columns (represented_are_by_NFIplot, region, NUTS2)\n",
    "- <b>Solution</b> contains only the selected optimal regime and its share (if multiple regimes per stand are selected)\n"
   ]
  },
  {
   "cell_type": "code",
   "execution_count": 139,
   "metadata": {},
   "outputs": [],
   "source": [
    "try:\n",
    "    os.mkdir(\"results\")\n",
    "except FileExistsError:\n",
    "    pass\n",
    "b = []\n",
    "c = []\n",
    "for key in mfo.regimesDecision.keys():\n",
    "    if mfo.regimesDecision[key].solution_value() > 0:\n",
    "        b = b+ [(key[0],x*5+2016, key[1]) for x in range(0,21)]\n",
    "        c = c+ [(key[0],key[1],mfo.regimesDecision[key].solution_value())]\n",
    "data2b = mfo.data.iloc[mfo.data.index.isin(b)]\n",
    "data2b.to_csv(\"./results/solutionAlldata_\"+scenario+\"_\"+RCP+\"_\"+extension+\".csv\")\n",
    "c1 = pd.DataFrame(c)\n",
    "c1.to_csv(\"./results/solution_\"+scenario+\"_\"+RCP+\"_\"+extension+\".csv\")"
   ]
  },
  {
   "cell_type": "markdown",
   "metadata": {},
   "source": [
    "## Export objective ranges "
   ]
  },
  {
   "cell_type": "markdown",
   "metadata": {},
   "source": [
    "Save as json file"
   ]
  },
  {
   "cell_type": "code",
   "execution_count": 140,
   "metadata": {},
   "outputs": [],
   "source": [
    "import json\n",
    "mfo.objectiveRanges\n",
    "\n",
    "with open('./results/objectiveRanges_'+scenario+'_'+RCP+'_'+extension+'.json', 'w') as json_file:\n",
    "  json.dump(mfo.objectiveRanges, json_file)"
   ]
  },
  {
   "cell_type": "markdown",
   "metadata": {},
   "source": [
    "Save as CSV."
   ]
  },
  {
   "cell_type": "code",
   "execution_count": 141,
   "metadata": {},
   "outputs": [],
   "source": [
    "df = pd.read_json('./results/objectiveRanges_'+scenario+'_'+RCP+'_'+extension+'.json')\n",
    "\n",
    "df.to_csv('./results/objectiveRanges_'+scenario+'_'+RCP+'_'+extension+'.csv')"
   ]
  },
  {
   "cell_type": "markdown",
   "metadata": {},
   "source": [
    "## Export objective values\n",
    "The optimal solution for each objective."
   ]
  },
  {
   "cell_type": "code",
   "execution_count": 142,
   "metadata": {},
   "outputs": [],
   "source": [
    "with open(\"./results/objectiveValues_\"+scenario+'_'+RCP+'_'+extension+\".csv\",\"w\") as file: \n",
    "    delim = \"\" \n",
    "    for objName in mfo.objectiveTypes.keys(): \n",
    "        file.write(delim+objName) \n",
    "        delim = \",\" \n",
    "    file.write(\"\\n\") \n",
    "    delim = \"\" \n",
    "    for objName in mfo.objectiveTypes.keys(): \n",
    "        file.write(delim+str(mfo.objective[objName].solution_value())) \n",
    "        delim = \",\" \n",
    "    file.write(\"\\n\")"
   ]
  },
  {
   "cell_type": "code",
   "execution_count": null,
   "metadata": {},
   "outputs": [],
   "source": []
  }
 ],
 "metadata": {
  "kernelspec": {
   "display_name": "Python 3",
   "language": "python",
   "name": "python3"
  },
  "language_info": {
   "codemirror_mode": {
    "name": "ipython",
    "version": 3
   },
   "file_extension": ".py",
   "mimetype": "text/x-python",
   "name": "python",
   "nbconvert_exporter": "python",
   "pygments_lexer": "ipython3",
   "version": "3.8.3"
  }
 },
 "nbformat": 4,
 "nbformat_minor": 2
}
