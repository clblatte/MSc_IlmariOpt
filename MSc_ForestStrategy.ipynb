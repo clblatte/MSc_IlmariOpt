{
 "cells": [
  {
   "cell_type": "markdown",
   "metadata": {},
   "source": [
    "# MultiForest optimization notebook\n",
    "\n",
    "## MSc Ilmari: New EU Forest Strategy 2030; Central Finland"
   ]
  },
  {
   "cell_type": "markdown",
   "metadata": {},
   "source": [
    "Above the code cells, there are short instructions how the users can modify the codes in the cells.<br>\n",
    "If there are no instructions, no changes should be needed for the cell by default.\n",
    "\n",
    "A detailed description is provided in the <b>README.md</b> (https://github.com/maeehart/MultiForestDemonstration#readme)"
   ]
  },
  {
   "cell_type": "markdown",
   "metadata": {},
   "source": [
    "## Basic definitions"
   ]
  },
  {
   "cell_type": "markdown",
   "metadata": {},
   "source": [
    "Simulated forest data (climate scenario and name); sample size of data "
   ]
  },
  {
   "cell_type": "code",
   "execution_count": 1,
   "metadata": {},
   "outputs": [],
   "source": [
    "RCP = \"rcp45\" # \"rcp0\" = no climate change, \"rcp45\"\n",
    "filename = \"sample_central_fin_\"+RCP+\".zip\" # sample_central_fin_rcp0.zip"
   ]
  },
  {
   "cell_type": "markdown",
   "metadata": {},
   "source": [
    "Specify policy scenario: \n",
    "* \"EUFS\" - EU Forest Strategy 2030"
   ]
  },
  {
   "cell_type": "code",
   "execution_count": 2,
   "metadata": {},
   "outputs": [],
   "source": [
    "scenario = \"EUFS\" "
   ]
  },
  {
   "cell_type": "markdown",
   "metadata": {},
   "source": [
    "Name definition for saved output, rule: _scenario_RCP_extension"
   ]
  },
  {
   "cell_type": "code",
   "execution_count": 3,
   "metadata": {},
   "outputs": [],
   "source": [
    "extension = \"V2woF\" # some additional info to the saved output "
   ]
  },
  {
   "cell_type": "markdown",
   "metadata": {},
   "source": [
    "## Read .py class"
   ]
  },
  {
   "cell_type": "code",
   "execution_count": 4,
   "metadata": {},
   "outputs": [],
   "source": [
    "import wget\n",
    "import os\n",
    "import pandas as pd\n",
    "import sys\n",
    "import numpy as np"
   ]
  },
  {
   "cell_type": "code",
   "execution_count": 5,
   "metadata": {},
   "outputs": [],
   "source": [
    "import multiFunctionalOptimization as MFO"
   ]
  },
  {
   "cell_type": "code",
   "execution_count": 6,
   "metadata": {},
   "outputs": [
    {
     "data": {
      "text/plain": [
       "<module 'multiFunctionalOptimization' from '/home/ubuntu/workspace/opt_ilmari/multiFunctionalOptimization.py'>"
      ]
     },
     "execution_count": 6,
     "metadata": {},
     "output_type": "execute_result"
    }
   ],
   "source": [
    "from importlib import reload\n",
    "reload(MFO)"
   ]
  },
  {
   "cell_type": "markdown",
   "metadata": {},
   "source": [
    "If no solver is specified, the open source solver CLP is used"
   ]
  },
  {
   "cell_type": "code",
   "execution_count": 7,
   "metadata": {},
   "outputs": [
    {
     "data": {
      "text/plain": [
       "'Using CPLEX'"
      ]
     },
     "metadata": {},
     "output_type": "display_data"
    }
   ],
   "source": [
    "mfo = MFO.MultiFunctionalOptimization(solver = 'CPLEX') "
   ]
  },
  {
   "cell_type": "markdown",
   "metadata": {},
   "source": [
    "## Read data"
   ]
  },
  {
   "cell_type": "code",
   "execution_count": 8,
   "metadata": {},
   "outputs": [
    {
     "name": "stdout",
     "output_type": "stream",
     "text": [
      "CPU times: user 4.47 s, sys: 2.01 s, total: 6.48 s\n",
      "Wall time: 6.48 s\n"
     ]
    }
   ],
   "source": [
    "%%time\n",
    "mfo.readData(filename,\n",
    "             sampleRatio=1 #If no sample ratio given, the ratio is assumed to be 1.\n",
    "            )                "
   ]
  },
  {
   "cell_type": "code",
   "execution_count": 9,
   "metadata": {},
   "outputs": [],
   "source": [
    "id = mfo.data.id\n",
    "\n",
    "def get_unique_numbers(numbers):\n",
    "\n",
    "    list_of_unique_numbers = []\n",
    "\n",
    "    unique_numbers = set(numbers)\n",
    "\n",
    "    for number in unique_numbers:\n",
    "        list_of_unique_numbers.append(number)\n",
    "\n",
    "    return list_of_unique_numbers\n",
    "\n",
    "id = get_unique_numbers(id)\n",
    "id = pd.DataFrame(id)\n",
    "id.to_csv(\"./id_1.csv\")"
   ]
  },
  {
   "cell_type": "markdown",
   "metadata": {},
   "source": [
    "### TEST - REMOVE Fertilization regimes"
   ]
  },
  {
   "cell_type": "code",
   "execution_count": 10,
   "metadata": {},
   "outputs": [],
   "source": [
    "indexNames = mfo.data[(mfo.data[mfo.regimesEnu] == 'BAUwoT_m20_F') | \n",
    "                      (mfo.data[mfo.regimesEnu] == 'BAU_m5_F') | \n",
    "                      (mfo.data[mfo.regimesEnu] == 'BAU_F') |\n",
    "                      (mfo.data[mfo.regimesEnu] == 'BAUwT_F') | \n",
    "                      (mfo.data[mfo.regimesEnu] == 'BAUwT_m5_F')].index \n",
    "mfo.data.drop(indexNames, inplace = True)"
   ]
  },
  {
   "cell_type": "code",
   "execution_count": 11,
   "metadata": {},
   "outputs": [
    {
     "data": {
      "text/plain": [
       "SA               71580\n",
       "CCF_1            66760\n",
       "BAUwoT_m20       66600\n",
       "BAU_m5           66580\n",
       "CCF_2            66520\n",
       "BAUwoT           66500\n",
       "BAU              66500\n",
       "BAUwGTR          66500\n",
       "BAU_5            66280\n",
       "CCF_3            65760\n",
       "BAU_15           64700\n",
       "CCF_4            63760\n",
       "BAU_30           56720\n",
       "BAUwT_30         44420\n",
       "BAUwT_5          44420\n",
       "BAUwT_GTR        44420\n",
       "BAUwT_m5         44420\n",
       "BAUwT            44420\n",
       "BAUwT_15         44420\n",
       "BAUwT_5_B        28800\n",
       "BAUwT_15_B       28800\n",
       "BAUwT_GTR_B      28800\n",
       "BAUwT_B          28800\n",
       "BAUwT_30_B       28800\n",
       "initial_state     3579\n",
       "Name: regime, dtype: int64"
      ]
     },
     "execution_count": 11,
     "metadata": {},
     "output_type": "execute_result"
    }
   ],
   "source": [
    "mfo.data[mfo.regimesEnu].value_counts()"
   ]
  },
  {
   "cell_type": "markdown",
   "metadata": {},
   "source": [
    "## Create some new variables in the data"
   ]
  },
  {
   "cell_type": "markdown",
   "metadata": {},
   "source": [
    "Calculate total (per stand) values from relative values:\n",
    "* \"Relative to Area\" = simulated indicator value relate to one hectar -> scaled to represented area of NFI plot <br>\n",
    "* (\"Relative to volume\" = indicator relates to standing Volume -> scaled to the represented volume of the plot) <br>\n",
    "* (\"Absolute Value\" = takes the inticator value as it is)"
   ]
  },
  {
   "cell_type": "code",
   "execution_count": 12,
   "metadata": {},
   "outputs": [],
   "source": [
    "columnTypes = {\n",
    "    'i_Vm3':(float,\"Relative to Area\"),\n",
    "    'Harvested_V':(float,\"Relative to Area\"),\n",
    "    'Harvested_V_log_under_bark':(float,\"Relative to Area\"), \n",
    "    'Harvested_V_pulp_under_bark':(float,\"Relative to Area\"),\n",
    "    'Harvested_V_under_bark':(float,\"Relative to Area\"), \n",
    "    'Biomass':(float,\"Relative to Area\"),\n",
    "    'ALL_MARKETED_MUSHROOMS':(float,\"Relative to Area\"), \n",
    "    'BILBERRY':(float,\"Relative to Area\"), \n",
    "    'COWBERRY':(float,\"Relative to Area\"),\n",
    "    'HSI_MOOSE':(float,\"Relative to Area\"),\n",
    "    'CAPERCAILLIE':(float,\"Relative to Area\"), \n",
    "    'HAZEL_GROUSE':(float,\"Relative to Area\"), \n",
    "    'V_total_deadwood':(float,\"Relative to Area\"), \n",
    "    'N_where_D_gt_40':(float,\"Relative to Area\"),\n",
    "    'prc_V_deciduous':(float,\"Relative to Area\"),\n",
    "    'CARBON_SINK':(float,\"Relative to Area\"), \n",
    "    'Recreation':(float,\"Relative to Area\"),\n",
    "    'Scenic':(float,\"Relative to Area\")\n",
    "}"
   ]
  },
  {
   "cell_type": "code",
   "execution_count": 13,
   "metadata": {},
   "outputs": [],
   "source": [
    "mfo.calculateTotalValuesFromRelativeValues(columnTypes=columnTypes)"
   ]
  },
  {
   "cell_type": "markdown",
   "metadata": {},
   "source": [
    "List the new created columns: <br>\n",
    "* Total_... hectare value multiplied by represented area (or volume)"
   ]
  },
  {
   "cell_type": "code",
   "execution_count": 14,
   "metadata": {},
   "outputs": [
    {
     "data": {
      "text/plain": [
       "['Total_i_Vm3',\n",
       " 'Total_Harvested_V',\n",
       " 'Total_Harvested_V_log_under_bark',\n",
       " 'Total_Harvested_V_pulp_under_bark',\n",
       " 'Total_Harvested_V_under_bark',\n",
       " 'Total_Biomass',\n",
       " 'Total_ALL_MARKETED_MUSHROOMS',\n",
       " 'Total_BILBERRY',\n",
       " 'Total_COWBERRY',\n",
       " 'Total_HSI_MOOSE',\n",
       " 'Total_CAPERCAILLIE',\n",
       " 'Total_HAZEL_GROUSE',\n",
       " 'Total_V_total_deadwood',\n",
       " 'Total_N_where_D_gt_40',\n",
       " 'Total_prc_V_deciduous',\n",
       " 'Total_CARBON_SINK',\n",
       " 'Total_Recreation',\n",
       " 'Total_Scenic']"
      ]
     },
     "execution_count": 14,
     "metadata": {},
     "output_type": "execute_result"
    }
   ],
   "source": [
    "[name for name in mfo.data.columns if \"Total_\" in name and \"Relative\" not in name]"
   ]
  },
  {
   "cell_type": "markdown",
   "metadata": {},
   "source": [
    "## Create new column\n",
    "1) Column indicating if regime is \"CCF_3, CCF_4, BAUwGTR\" (TRUE/FLASE) <br>\n",
    "Important for FES Biodiversity, allowed regimes for conservation sites.\n",
    "\n",
    "2) Column indicating if regime is \"SA\" (TRUE/FALSE)<br>\n",
    "Important for FES Biodiversity, allowed regimes for statutory protection sites.\n",
    "\n",
    "3) Column indicating if regime is \"BAUwT_B, BAUwT_5_B, BAUwT_15_B, BAUwT_30_B, BAUwT_GTR_B\" <br>\n",
    "Important for FES Resillience, allowed regimes for climate change adaption."
   ]
  },
  {
   "cell_type": "code",
   "execution_count": 15,
   "metadata": {},
   "outputs": [],
   "source": [
    "regimeClassNames = {\"regimeClass0name\":\"CCF\",\n",
    "                    \"regimeClass1name\":\"SA\",\n",
    "                    \"regimeClass2name\":\"Broadleave\"}\n",
    "regimeClassregimes = {\"regimeClass0regimes\":[\"CCF_3\",\"CCF_4\",\"BAUwGTR\", \"BAUwT_GTR\"],\n",
    "                      \"regimeClass1regimes\":[\"SA\"],\n",
    "                      \"regimeClass2regimes\":[\"BAUwT_B\", \"BAUwT_5_B\", \"BAUwT_15_B\", \"BAUwT_30_B\", \"BAUwT_GTR_B\"]}"
   ]
  },
  {
   "cell_type": "code",
   "execution_count": 16,
   "metadata": {},
   "outputs": [],
   "source": [
    "mfo.addRegimeClassifications(regimeClassNames = regimeClassNames,regimeClassregimes=regimeClassregimes)"
   ]
  },
  {
   "cell_type": "markdown",
   "metadata": {},
   "source": [
    "### % of stands falling in strictly protected areas"
   ]
  },
  {
   "cell_type": "code",
   "execution_count": 17,
   "metadata": {},
   "outputs": [
    {
     "data": {
      "text/plain": [
       "3579"
      ]
     },
     "execution_count": 17,
     "metadata": {},
     "output_type": "execute_result"
    }
   ],
   "source": [
    "# Number of all stands\n",
    "# len(mfo.data[\"id\"].unique())\n",
    "standid = mfo.data.drop_duplicates(['id'])\n",
    "len(standid)"
   ]
  },
  {
   "cell_type": "code",
   "execution_count": 18,
   "metadata": {},
   "outputs": [
    {
     "data": {
      "text/plain": [
       "2.7102542609667504"
      ]
     },
     "execution_count": 18,
     "metadata": {},
     "output_type": "execute_result"
    }
   ],
   "source": [
    "len(standid[(standid[\"protection\"] == \"strict\")]) / len(standid) * 100"
   ]
  },
  {
   "cell_type": "markdown",
   "metadata": {},
   "source": [
    "### % of stands only with set aside (incl. strictly protected & other unmanaged)"
   ]
  },
  {
   "cell_type": "code",
   "execution_count": 19,
   "metadata": {},
   "outputs": [
    {
     "data": {
      "text/plain": [
       "5.588153115395362"
      ]
     },
     "execution_count": 19,
     "metadata": {},
     "output_type": "execute_result"
    }
   ],
   "source": [
    "managed = mfo.data[(mfo.data[\"regime\"] != \"SA\") & (mfo.data[\"regime\"] != \"initial_state\")]\n",
    "not_managed = mfo.data[(mfo.data[\"regime\"] == \"SA\") ]\n",
    "\n",
    "( len(not_managed[\"id\"].unique()) - len(managed[\"id\"].unique()) ) / len(not_managed[\"id\"].unique()) * 100"
   ]
  },
  {
   "cell_type": "markdown",
   "metadata": {},
   "source": [
    "### Define primary/old forest for additional protection"
   ]
  },
  {
   "cell_type": "code",
   "execution_count": 20,
   "metadata": {},
   "outputs": [
    {
     "data": {
      "text/plain": [
       "array([2, 0, 3, 4, 1, 6, 9, 5, 8])"
      ]
     },
     "execution_count": 20,
     "metadata": {},
     "output_type": "execute_result"
    }
   ],
   "source": [
    "mfo.data['MAIN_SP'].unique()"
   ]
  },
  {
   "cell_type": "code",
   "execution_count": 21,
   "metadata": {},
   "outputs": [],
   "source": [
    "# value>1 Pinus sylvestris\n",
    "# value>2 Picea abies\n",
    "# value>3 Betula pendula\n",
    "# value>4 Betula pubescens\n",
    "# value>5 Populus tremula\n",
    "# value>6 Alnus incana\n",
    "# value>7 Alnus glutinosa<\n",
    "# value>8 other coniferous tree species\n",
    "# value>9 other decidious tree species\n",
    "\n",
    "list_conifer = [1,2,8]\n",
    "list_broadleave = [3,4,5,6,7,9]"
   ]
  },
  {
   "cell_type": "code",
   "execution_count": 22,
   "metadata": {},
   "outputs": [],
   "source": [
    "# column indicating if old forest AND if regime SA\n",
    "mfo.data['Old_forests'] = np.where(\n",
    "    (mfo.data['AGE_ba'] >= 90) & (mfo.data['MAIN_SP'].isin(list_conifer) & (mfo.data['SA_forests'] == True) & (mfo.data['protection'] != \"strict\")) |\n",
    "    (mfo.data['AGE_ba'] >= 90) & (mfo.data['MAIN_SP'].isin(list_broadleave) & (mfo.data['SA_forests'] == True) & (mfo.data['protection'] != \"strict\"))\n",
    "        , True, False\n",
    ")"
   ]
  },
  {
   "cell_type": "code",
   "execution_count": 23,
   "metadata": {},
   "outputs": [],
   "source": [
    "#test = pd.DataFrame(mfo.data)\n",
    "#test.to_csv(\"./test.csv\")"
   ]
  },
  {
   "cell_type": "code",
   "execution_count": 24,
   "metadata": {},
   "outputs": [],
   "source": [
    "#list(mfo.data.columns)"
   ]
  },
  {
   "cell_type": "markdown",
   "metadata": {},
   "source": [
    "## Define initial value\n",
    "1) Define initial values, recognized by the regime \"initial_state\", which only occurs at the first year (here 2016)\n",
    "\n",
    "2) Create new variables that describe the <b>relative change to initial situation (start year) \"Relative_\"</b>:"
   ]
  },
  {
   "cell_type": "code",
   "execution_count": 25,
   "metadata": {},
   "outputs": [],
   "source": [
    "mfo.finalizeData(initialRegime=\"initial_state\")"
   ]
  },
  {
   "cell_type": "markdown",
   "metadata": {},
   "source": [
    "New variables created:"
   ]
  },
  {
   "cell_type": "code",
   "execution_count": 26,
   "metadata": {},
   "outputs": [
    {
     "data": {
      "text/plain": [
       "['Relative_V',\n",
       " 'Relative_Age',\n",
       " 'Relative_AGE_ba',\n",
       " 'Relative_ALL_MARKETED_MUSHROOMS',\n",
       " 'Relative_BILBERRY',\n",
       " 'Relative_COWBERRY',\n",
       " 'Relative_HSI_MOOSE',\n",
       " 'Relative_CAPERCAILLIE',\n",
       " 'Relative_HAZEL_GROUSE',\n",
       " 'Relative_V_total_deadwood',\n",
       " 'Relative_N_where_D_gt_40',\n",
       " 'Relative_prc_V_deciduous',\n",
       " 'Relative_CARBON_STORAGE_Update',\n",
       " 'Relative_Recreation',\n",
       " 'Relative_Scenic',\n",
       " 'Relative_Total_ALL_MARKETED_MUSHROOMS',\n",
       " 'Relative_Total_BILBERRY',\n",
       " 'Relative_Total_COWBERRY',\n",
       " 'Relative_Total_HSI_MOOSE',\n",
       " 'Relative_Total_CAPERCAILLIE',\n",
       " 'Relative_Total_HAZEL_GROUSE',\n",
       " 'Relative_Total_V_total_deadwood',\n",
       " 'Relative_Total_N_where_D_gt_40',\n",
       " 'Relative_Total_prc_V_deciduous',\n",
       " 'Relative_Total_Recreation',\n",
       " 'Relative_Total_Scenic']"
      ]
     },
     "execution_count": 26,
     "metadata": {},
     "output_type": "execute_result"
    }
   ],
   "source": [
    "[name for name in mfo.data.columns if \"Relative_\" in name]"
   ]
  },
  {
   "cell_type": "code",
   "execution_count": 27,
   "metadata": {},
   "outputs": [
    {
     "data": {
      "text/html": [
       "<div>\n",
       "<style scoped>\n",
       "    .dataframe tbody tr th:only-of-type {\n",
       "        vertical-align: middle;\n",
       "    }\n",
       "\n",
       "    .dataframe tbody tr th {\n",
       "        vertical-align: top;\n",
       "    }\n",
       "\n",
       "    .dataframe thead th {\n",
       "        text-align: right;\n",
       "    }\n",
       "</style>\n",
       "<table border=\"1\" class=\"dataframe\">\n",
       "  <thead>\n",
       "    <tr style=\"text-align: right;\">\n",
       "      <th></th>\n",
       "      <th></th>\n",
       "      <th></th>\n",
       "      <th>V</th>\n",
       "      <th>i_Vm3</th>\n",
       "      <th>Harvested_V</th>\n",
       "      <th>Harvested_V_log_under_bark</th>\n",
       "      <th>Harvested_V_pulp_under_bark</th>\n",
       "      <th>Harvested_V_under_bark</th>\n",
       "      <th>MAIN_SP</th>\n",
       "      <th>Age</th>\n",
       "      <th>AGE_ba</th>\n",
       "      <th>SC</th>\n",
       "      <th>...</th>\n",
       "      <th>Relative_Total_BILBERRY</th>\n",
       "      <th>Relative_Total_COWBERRY</th>\n",
       "      <th>Relative_Total_HSI_MOOSE</th>\n",
       "      <th>Relative_Total_CAPERCAILLIE</th>\n",
       "      <th>Relative_Total_HAZEL_GROUSE</th>\n",
       "      <th>Relative_Total_V_total_deadwood</th>\n",
       "      <th>Relative_Total_N_where_D_gt_40</th>\n",
       "      <th>Relative_Total_prc_V_deciduous</th>\n",
       "      <th>Relative_Total_Recreation</th>\n",
       "      <th>Relative_Total_Scenic</th>\n",
       "    </tr>\n",
       "    <tr>\n",
       "      <th>id</th>\n",
       "      <th>year</th>\n",
       "      <th>regime</th>\n",
       "      <th></th>\n",
       "      <th></th>\n",
       "      <th></th>\n",
       "      <th></th>\n",
       "      <th></th>\n",
       "      <th></th>\n",
       "      <th></th>\n",
       "      <th></th>\n",
       "      <th></th>\n",
       "      <th></th>\n",
       "      <th></th>\n",
       "      <th></th>\n",
       "      <th></th>\n",
       "      <th></th>\n",
       "      <th></th>\n",
       "      <th></th>\n",
       "      <th></th>\n",
       "      <th></th>\n",
       "      <th></th>\n",
       "      <th></th>\n",
       "      <th></th>\n",
       "    </tr>\n",
       "  </thead>\n",
       "  <tbody>\n",
       "    <tr>\n",
       "      <th rowspan=\"5\" valign=\"top\">99011012</th>\n",
       "      <th rowspan=\"5\" valign=\"top\">2021</th>\n",
       "      <th>BAU</th>\n",
       "      <td>113.94</td>\n",
       "      <td>10.59</td>\n",
       "      <td>0.0</td>\n",
       "      <td>0.0</td>\n",
       "      <td>0.0</td>\n",
       "      <td>0.0</td>\n",
       "      <td>3</td>\n",
       "      <td>24.0</td>\n",
       "      <td>29.26</td>\n",
       "      <td>2</td>\n",
       "      <td>...</td>\n",
       "      <td>0.000124</td>\n",
       "      <td>0.000225</td>\n",
       "      <td>0.0</td>\n",
       "      <td>0.0</td>\n",
       "      <td>0.0</td>\n",
       "      <td>0.000308</td>\n",
       "      <td>0.0</td>\n",
       "      <td>0.000776</td>\n",
       "      <td>0.00024</td>\n",
       "      <td>0.000199</td>\n",
       "    </tr>\n",
       "    <tr>\n",
       "      <th>BAU_15</th>\n",
       "      <td>113.94</td>\n",
       "      <td>10.59</td>\n",
       "      <td>0.0</td>\n",
       "      <td>0.0</td>\n",
       "      <td>0.0</td>\n",
       "      <td>0.0</td>\n",
       "      <td>3</td>\n",
       "      <td>24.0</td>\n",
       "      <td>29.26</td>\n",
       "      <td>2</td>\n",
       "      <td>...</td>\n",
       "      <td>0.000124</td>\n",
       "      <td>0.000225</td>\n",
       "      <td>0.0</td>\n",
       "      <td>0.0</td>\n",
       "      <td>0.0</td>\n",
       "      <td>0.000308</td>\n",
       "      <td>0.0</td>\n",
       "      <td>0.000776</td>\n",
       "      <td>0.00024</td>\n",
       "      <td>0.000199</td>\n",
       "    </tr>\n",
       "    <tr>\n",
       "      <th>BAU_30</th>\n",
       "      <td>113.94</td>\n",
       "      <td>10.59</td>\n",
       "      <td>0.0</td>\n",
       "      <td>0.0</td>\n",
       "      <td>0.0</td>\n",
       "      <td>0.0</td>\n",
       "      <td>3</td>\n",
       "      <td>24.0</td>\n",
       "      <td>29.26</td>\n",
       "      <td>2</td>\n",
       "      <td>...</td>\n",
       "      <td>0.000124</td>\n",
       "      <td>0.000225</td>\n",
       "      <td>0.0</td>\n",
       "      <td>0.0</td>\n",
       "      <td>0.0</td>\n",
       "      <td>0.000308</td>\n",
       "      <td>0.0</td>\n",
       "      <td>0.000776</td>\n",
       "      <td>0.00024</td>\n",
       "      <td>0.000199</td>\n",
       "    </tr>\n",
       "    <tr>\n",
       "      <th>BAU_5</th>\n",
       "      <td>113.94</td>\n",
       "      <td>10.59</td>\n",
       "      <td>0.0</td>\n",
       "      <td>0.0</td>\n",
       "      <td>0.0</td>\n",
       "      <td>0.0</td>\n",
       "      <td>3</td>\n",
       "      <td>24.0</td>\n",
       "      <td>29.26</td>\n",
       "      <td>2</td>\n",
       "      <td>...</td>\n",
       "      <td>0.000124</td>\n",
       "      <td>0.000225</td>\n",
       "      <td>0.0</td>\n",
       "      <td>0.0</td>\n",
       "      <td>0.0</td>\n",
       "      <td>0.000308</td>\n",
       "      <td>0.0</td>\n",
       "      <td>0.000776</td>\n",
       "      <td>0.00024</td>\n",
       "      <td>0.000199</td>\n",
       "    </tr>\n",
       "    <tr>\n",
       "      <th>BAU_m5</th>\n",
       "      <td>113.94</td>\n",
       "      <td>10.59</td>\n",
       "      <td>0.0</td>\n",
       "      <td>0.0</td>\n",
       "      <td>0.0</td>\n",
       "      <td>0.0</td>\n",
       "      <td>3</td>\n",
       "      <td>24.0</td>\n",
       "      <td>29.26</td>\n",
       "      <td>2</td>\n",
       "      <td>...</td>\n",
       "      <td>0.000124</td>\n",
       "      <td>0.000225</td>\n",
       "      <td>0.0</td>\n",
       "      <td>0.0</td>\n",
       "      <td>0.0</td>\n",
       "      <td>0.000308</td>\n",
       "      <td>0.0</td>\n",
       "      <td>0.000776</td>\n",
       "      <td>0.00024</td>\n",
       "      <td>0.000199</td>\n",
       "    </tr>\n",
       "  </tbody>\n",
       "</table>\n",
       "<p>5 rows × 79 columns</p>\n",
       "</div>"
      ],
      "text/plain": [
       "                           V  i_Vm3  Harvested_V  Harvested_V_log_under_bark  \\\n",
       "id       year regime                                                           \n",
       "99011012 2021 BAU     113.94  10.59          0.0                         0.0   \n",
       "              BAU_15  113.94  10.59          0.0                         0.0   \n",
       "              BAU_30  113.94  10.59          0.0                         0.0   \n",
       "              BAU_5   113.94  10.59          0.0                         0.0   \n",
       "              BAU_m5  113.94  10.59          0.0                         0.0   \n",
       "\n",
       "                      Harvested_V_pulp_under_bark  Harvested_V_under_bark  \\\n",
       "id       year regime                                                        \n",
       "99011012 2021 BAU                             0.0                     0.0   \n",
       "              BAU_15                          0.0                     0.0   \n",
       "              BAU_30                          0.0                     0.0   \n",
       "              BAU_5                           0.0                     0.0   \n",
       "              BAU_m5                          0.0                     0.0   \n",
       "\n",
       "                      MAIN_SP   Age  AGE_ba  SC  ...  Relative_Total_BILBERRY  \\\n",
       "id       year regime                             ...                            \n",
       "99011012 2021 BAU           3  24.0   29.26   2  ...                 0.000124   \n",
       "              BAU_15        3  24.0   29.26   2  ...                 0.000124   \n",
       "              BAU_30        3  24.0   29.26   2  ...                 0.000124   \n",
       "              BAU_5         3  24.0   29.26   2  ...                 0.000124   \n",
       "              BAU_m5        3  24.0   29.26   2  ...                 0.000124   \n",
       "\n",
       "                      Relative_Total_COWBERRY  Relative_Total_HSI_MOOSE  \\\n",
       "id       year regime                                                      \n",
       "99011012 2021 BAU                    0.000225                       0.0   \n",
       "              BAU_15                 0.000225                       0.0   \n",
       "              BAU_30                 0.000225                       0.0   \n",
       "              BAU_5                  0.000225                       0.0   \n",
       "              BAU_m5                 0.000225                       0.0   \n",
       "\n",
       "                      Relative_Total_CAPERCAILLIE  \\\n",
       "id       year regime                                \n",
       "99011012 2021 BAU                             0.0   \n",
       "              BAU_15                          0.0   \n",
       "              BAU_30                          0.0   \n",
       "              BAU_5                           0.0   \n",
       "              BAU_m5                          0.0   \n",
       "\n",
       "                      Relative_Total_HAZEL_GROUSE  \\\n",
       "id       year regime                                \n",
       "99011012 2021 BAU                             0.0   \n",
       "              BAU_15                          0.0   \n",
       "              BAU_30                          0.0   \n",
       "              BAU_5                           0.0   \n",
       "              BAU_m5                          0.0   \n",
       "\n",
       "                      Relative_Total_V_total_deadwood  \\\n",
       "id       year regime                                    \n",
       "99011012 2021 BAU                            0.000308   \n",
       "              BAU_15                         0.000308   \n",
       "              BAU_30                         0.000308   \n",
       "              BAU_5                          0.000308   \n",
       "              BAU_m5                         0.000308   \n",
       "\n",
       "                      Relative_Total_N_where_D_gt_40  \\\n",
       "id       year regime                                   \n",
       "99011012 2021 BAU                                0.0   \n",
       "              BAU_15                             0.0   \n",
       "              BAU_30                             0.0   \n",
       "              BAU_5                              0.0   \n",
       "              BAU_m5                             0.0   \n",
       "\n",
       "                      Relative_Total_prc_V_deciduous  \\\n",
       "id       year regime                                   \n",
       "99011012 2021 BAU                           0.000776   \n",
       "              BAU_15                        0.000776   \n",
       "              BAU_30                        0.000776   \n",
       "              BAU_5                         0.000776   \n",
       "              BAU_m5                        0.000776   \n",
       "\n",
       "                      Relative_Total_Recreation  Relative_Total_Scenic  \n",
       "id       year regime                                                    \n",
       "99011012 2021 BAU                       0.00024               0.000199  \n",
       "              BAU_15                    0.00024               0.000199  \n",
       "              BAU_30                    0.00024               0.000199  \n",
       "              BAU_5                     0.00024               0.000199  \n",
       "              BAU_m5                    0.00024               0.000199  \n",
       "\n",
       "[5 rows x 79 columns]"
      ]
     },
     "execution_count": 27,
     "metadata": {},
     "output_type": "execute_result"
    }
   ],
   "source": [
    "mfo.data.head()"
   ]
  },
  {
   "cell_type": "code",
   "execution_count": 28,
   "metadata": {},
   "outputs": [
    {
     "data": {
      "text/html": [
       "<div>\n",
       "<style scoped>\n",
       "    .dataframe tbody tr th:only-of-type {\n",
       "        vertical-align: middle;\n",
       "    }\n",
       "\n",
       "    .dataframe tbody tr th {\n",
       "        vertical-align: top;\n",
       "    }\n",
       "\n",
       "    .dataframe thead th {\n",
       "        text-align: right;\n",
       "    }\n",
       "</style>\n",
       "<table border=\"1\" class=\"dataframe\">\n",
       "  <thead>\n",
       "    <tr style=\"text-align: right;\">\n",
       "      <th></th>\n",
       "      <th></th>\n",
       "      <th></th>\n",
       "      <th>V</th>\n",
       "      <th>i_Vm3</th>\n",
       "      <th>Harvested_V</th>\n",
       "      <th>Harvested_V_log_under_bark</th>\n",
       "      <th>Harvested_V_pulp_under_bark</th>\n",
       "      <th>Harvested_V_under_bark</th>\n",
       "      <th>MAIN_SP</th>\n",
       "      <th>Age</th>\n",
       "      <th>AGE_ba</th>\n",
       "      <th>SC</th>\n",
       "      <th>...</th>\n",
       "      <th>Total_V_total_deadwood</th>\n",
       "      <th>Total_N_where_D_gt_40</th>\n",
       "      <th>Total_prc_V_deciduous</th>\n",
       "      <th>Total_CARBON_SINK</th>\n",
       "      <th>Total_Recreation</th>\n",
       "      <th>Total_Scenic</th>\n",
       "      <th>CCF_forests</th>\n",
       "      <th>SA_forests</th>\n",
       "      <th>Broadleave_forests</th>\n",
       "      <th>Old_forests</th>\n",
       "    </tr>\n",
       "    <tr>\n",
       "      <th>id</th>\n",
       "      <th>year</th>\n",
       "      <th>regime</th>\n",
       "      <th></th>\n",
       "      <th></th>\n",
       "      <th></th>\n",
       "      <th></th>\n",
       "      <th></th>\n",
       "      <th></th>\n",
       "      <th></th>\n",
       "      <th></th>\n",
       "      <th></th>\n",
       "      <th></th>\n",
       "      <th></th>\n",
       "      <th></th>\n",
       "      <th></th>\n",
       "      <th></th>\n",
       "      <th></th>\n",
       "      <th></th>\n",
       "      <th></th>\n",
       "      <th></th>\n",
       "      <th></th>\n",
       "      <th></th>\n",
       "      <th></th>\n",
       "    </tr>\n",
       "  </thead>\n",
       "  <tbody>\n",
       "    <tr>\n",
       "      <th>99011012</th>\n",
       "      <th>2016</th>\n",
       "      <th>initial_state</th>\n",
       "      <td>64.83</td>\n",
       "      <td>0.0</td>\n",
       "      <td>0.0</td>\n",
       "      <td>0.0</td>\n",
       "      <td>0.0</td>\n",
       "      <td>0.0</td>\n",
       "      <td>3</td>\n",
       "      <td>16.0</td>\n",
       "      <td>26.86</td>\n",
       "      <td>2</td>\n",
       "      <td>...</td>\n",
       "      <td>1508.60</td>\n",
       "      <td>0.0</td>\n",
       "      <td>26996.0</td>\n",
       "      <td>0.0</td>\n",
       "      <td>1915.525</td>\n",
       "      <td>1424.833</td>\n",
       "      <td>False</td>\n",
       "      <td>False</td>\n",
       "      <td>False</td>\n",
       "      <td>False</td>\n",
       "    </tr>\n",
       "    <tr>\n",
       "      <th>99011013</th>\n",
       "      <th>2016</th>\n",
       "      <th>initial_state</th>\n",
       "      <td>27.12</td>\n",
       "      <td>0.0</td>\n",
       "      <td>0.0</td>\n",
       "      <td>0.0</td>\n",
       "      <td>0.0</td>\n",
       "      <td>0.0</td>\n",
       "      <td>2</td>\n",
       "      <td>15.0</td>\n",
       "      <td>14.92</td>\n",
       "      <td>2</td>\n",
       "      <td>...</td>\n",
       "      <td>1508.60</td>\n",
       "      <td>0.0</td>\n",
       "      <td>4764.0</td>\n",
       "      <td>0.0</td>\n",
       "      <td>1818.260</td>\n",
       "      <td>1428.406</td>\n",
       "      <td>False</td>\n",
       "      <td>False</td>\n",
       "      <td>False</td>\n",
       "      <td>False</td>\n",
       "    </tr>\n",
       "    <tr>\n",
       "      <th>99011014</th>\n",
       "      <th>2016</th>\n",
       "      <th>initial_state</th>\n",
       "      <td>374.02</td>\n",
       "      <td>0.0</td>\n",
       "      <td>0.0</td>\n",
       "      <td>0.0</td>\n",
       "      <td>0.0</td>\n",
       "      <td>0.0</td>\n",
       "      <td>2</td>\n",
       "      <td>80.0</td>\n",
       "      <td>79.48</td>\n",
       "      <td>1</td>\n",
       "      <td>...</td>\n",
       "      <td>1496.69</td>\n",
       "      <td>0.0</td>\n",
       "      <td>1191.0</td>\n",
       "      <td>0.0</td>\n",
       "      <td>2503.879</td>\n",
       "      <td>2317.289</td>\n",
       "      <td>False</td>\n",
       "      <td>False</td>\n",
       "      <td>False</td>\n",
       "      <td>False</td>\n",
       "    </tr>\n",
       "    <tr>\n",
       "      <th>99011015</th>\n",
       "      <th>2016</th>\n",
       "      <th>initial_state</th>\n",
       "      <td>4.19</td>\n",
       "      <td>0.0</td>\n",
       "      <td>0.0</td>\n",
       "      <td>0.0</td>\n",
       "      <td>0.0</td>\n",
       "      <td>0.0</td>\n",
       "      <td>2</td>\n",
       "      <td>11.0</td>\n",
       "      <td>9.42</td>\n",
       "      <td>2</td>\n",
       "      <td>...</td>\n",
       "      <td>1496.69</td>\n",
       "      <td>0.0</td>\n",
       "      <td>12307.0</td>\n",
       "      <td>0.0</td>\n",
       "      <td>1565.371</td>\n",
       "      <td>1272.385</td>\n",
       "      <td>False</td>\n",
       "      <td>False</td>\n",
       "      <td>False</td>\n",
       "      <td>False</td>\n",
       "    </tr>\n",
       "    <tr>\n",
       "      <th>99011016</th>\n",
       "      <th>2016</th>\n",
       "      <th>initial_state</th>\n",
       "      <td>141.85</td>\n",
       "      <td>0.0</td>\n",
       "      <td>0.0</td>\n",
       "      <td>0.0</td>\n",
       "      <td>0.0</td>\n",
       "      <td>0.0</td>\n",
       "      <td>1</td>\n",
       "      <td>89.0</td>\n",
       "      <td>71.71</td>\n",
       "      <td>4</td>\n",
       "      <td>...</td>\n",
       "      <td>1417.29</td>\n",
       "      <td>0.0</td>\n",
       "      <td>5161.0</td>\n",
       "      <td>0.0</td>\n",
       "      <td>2374.854</td>\n",
       "      <td>2432.816</td>\n",
       "      <td>False</td>\n",
       "      <td>False</td>\n",
       "      <td>False</td>\n",
       "      <td>False</td>\n",
       "    </tr>\n",
       "  </tbody>\n",
       "</table>\n",
       "<p>5 rows × 53 columns</p>\n",
       "</div>"
      ],
      "text/plain": [
       "                                  V  i_Vm3  Harvested_V  \\\n",
       "id       year regime                                      \n",
       "99011012 2016 initial_state   64.83    0.0          0.0   \n",
       "99011013 2016 initial_state   27.12    0.0          0.0   \n",
       "99011014 2016 initial_state  374.02    0.0          0.0   \n",
       "99011015 2016 initial_state    4.19    0.0          0.0   \n",
       "99011016 2016 initial_state  141.85    0.0          0.0   \n",
       "\n",
       "                             Harvested_V_log_under_bark  \\\n",
       "id       year regime                                      \n",
       "99011012 2016 initial_state                         0.0   \n",
       "99011013 2016 initial_state                         0.0   \n",
       "99011014 2016 initial_state                         0.0   \n",
       "99011015 2016 initial_state                         0.0   \n",
       "99011016 2016 initial_state                         0.0   \n",
       "\n",
       "                             Harvested_V_pulp_under_bark  \\\n",
       "id       year regime                                       \n",
       "99011012 2016 initial_state                          0.0   \n",
       "99011013 2016 initial_state                          0.0   \n",
       "99011014 2016 initial_state                          0.0   \n",
       "99011015 2016 initial_state                          0.0   \n",
       "99011016 2016 initial_state                          0.0   \n",
       "\n",
       "                             Harvested_V_under_bark  MAIN_SP   Age  AGE_ba  \\\n",
       "id       year regime                                                         \n",
       "99011012 2016 initial_state                     0.0        3  16.0   26.86   \n",
       "99011013 2016 initial_state                     0.0        2  15.0   14.92   \n",
       "99011014 2016 initial_state                     0.0        2  80.0   79.48   \n",
       "99011015 2016 initial_state                     0.0        2  11.0    9.42   \n",
       "99011016 2016 initial_state                     0.0        1  89.0   71.71   \n",
       "\n",
       "                             SC  ...  Total_V_total_deadwood  \\\n",
       "id       year regime             ...                           \n",
       "99011012 2016 initial_state   2  ...                 1508.60   \n",
       "99011013 2016 initial_state   2  ...                 1508.60   \n",
       "99011014 2016 initial_state   1  ...                 1496.69   \n",
       "99011015 2016 initial_state   2  ...                 1496.69   \n",
       "99011016 2016 initial_state   4  ...                 1417.29   \n",
       "\n",
       "                             Total_N_where_D_gt_40  Total_prc_V_deciduous  \\\n",
       "id       year regime                                                        \n",
       "99011012 2016 initial_state                    0.0                26996.0   \n",
       "99011013 2016 initial_state                    0.0                 4764.0   \n",
       "99011014 2016 initial_state                    0.0                 1191.0   \n",
       "99011015 2016 initial_state                    0.0                12307.0   \n",
       "99011016 2016 initial_state                    0.0                 5161.0   \n",
       "\n",
       "                             Total_CARBON_SINK  Total_Recreation  \\\n",
       "id       year regime                                               \n",
       "99011012 2016 initial_state                0.0          1915.525   \n",
       "99011013 2016 initial_state                0.0          1818.260   \n",
       "99011014 2016 initial_state                0.0          2503.879   \n",
       "99011015 2016 initial_state                0.0          1565.371   \n",
       "99011016 2016 initial_state                0.0          2374.854   \n",
       "\n",
       "                             Total_Scenic  CCF_forests  SA_forests  \\\n",
       "id       year regime                                                 \n",
       "99011012 2016 initial_state      1424.833        False       False   \n",
       "99011013 2016 initial_state      1428.406        False       False   \n",
       "99011014 2016 initial_state      2317.289        False       False   \n",
       "99011015 2016 initial_state      1272.385        False       False   \n",
       "99011016 2016 initial_state      2432.816        False       False   \n",
       "\n",
       "                             Broadleave_forests  Old_forests  \n",
       "id       year regime                                          \n",
       "99011012 2016 initial_state               False        False  \n",
       "99011013 2016 initial_state               False        False  \n",
       "99011014 2016 initial_state               False        False  \n",
       "99011015 2016 initial_state               False        False  \n",
       "99011016 2016 initial_state               False        False  \n",
       "\n",
       "[5 rows x 53 columns]"
      ]
     },
     "execution_count": 28,
     "metadata": {},
     "output_type": "execute_result"
    }
   ],
   "source": [
    "mfo.initialData.head()"
   ]
  },
  {
   "cell_type": "markdown",
   "metadata": {},
   "source": [
    "## Define the optimization problem for policy scenarios\n",
    "See README.md for details.\n",
    "\n",
    "<b>Objective format:</b>\n",
    "\n",
    "Unique_key :[Long human readable name, column name in data, max/min objective, year wise aggregation, stand wise aggregation (, target year )]\n",
    "\n",
    "1) \"Unique_key\" : [ (2) \"Long human readable name\", (3) \"column name\", (4) \"max/min objective\", (5) \"year wise aggregation\", (6) \"stand wise aggregation\" (, (7) target year ) ]\n",
    "\n",
    "<b>Options for \"objective\":</b> \"max\"imise or \"min\"imise it <br>\n",
    "<b>year wise aggregation:</b> \"min\" (minimum value), \"average\", \"firstYear\", \"targetYearWithSlope\",\"targetYear\",\"lastYear\" <br>\n",
    "<b>stand wise aggregation:</b> \"sum\", \"areaWeightedAverage\", \"areaWeightedSum\" <br>\n",
    "<b>targe yeart:</b> any year except the first one"
   ]
  },
  {
   "cell_type": "markdown",
   "metadata": {},
   "source": [
    "### EUFS - EU Forest Strategy 2030 - V1"
   ]
  },
  {
   "cell_type": "code",
   "execution_count": 29,
   "metadata": {},
   "outputs": [
    {
     "name": "stdout",
     "output_type": "stream",
     "text": [
      "objectives for EUFS loaded\n"
     ]
    }
   ],
   "source": [
    "if scenario == 'EUFS':\n",
    "    \n",
    "    biodiversity = {\n",
    "    # Conservation regimes - overall target of 10%\n",
    "    \"Ratio_SA_forests\": [\"Ratio of protected areas (%, SA forests)\",\n",
    "                         \"SA_forests\",\"max\",\"firstYear\",\"areaWeightedAverage\"],    \n",
    "        \n",
    "    # Additional strictly protected areas (on top of minimum possible for Ratio of protected areas)\n",
    "    \"Ratio_strictly_protected\": [\"Ratio of additional strictly protected forest (%, set aside)\",\n",
    "                          \"Old_forests\",\"max\",\"firstYear\",\"areaWeightedAverage\"],  \n",
    "        \n",
    "    # Protection regimes \"effective management\" - target of 20%\n",
    "    \"Ratio_protection_regimes\": [\"Ratio of forest under protection regimes (%, CCF_3, CCF_4 and BAUwGTR)\",\n",
    "                          \"CCF_forests\",\"max\",\"firstYear\",\"areaWeightedAverage\"],\n",
    "        \n",
    "    # Deadwood - maximise the deadwood in the protection regimes (could also be Age, or large living trees?)\n",
    "    #\"Total_Deadwood_V\": [\"Maximise deadwood in protected areas (m3)\", \n",
    "    #                     \"V_total_deadwood\",\"max\",\"min\",\"subsetSum\",\"CCF_forests\"],\n",
    "        \n",
    "    # Large trees - maximise the large trees in the protection regimes\n",
    "    \"Total_Large_trees\": [\"Maximise large trees in protected areas (m3)\", \n",
    "                          \"Total_N_where_D_gt_40\",\"max\",\"min\",\"subsetSum\",\"CCF_forests\"],\n",
    "    \n",
    "    # Deadwood - maximise over all forest\n",
    "    \"Avg_Deadwood_V\": [\"Average deadwood volume (m3/ha)\", \n",
    "                       \"V_total_deadwood\",\"max\",\"min\",\"areaWeightedAverage\"] , \n",
    "\n",
    "    # Deciduous trees (% of volume)\n",
    "    \"Avg_prc_V_deciduous\":  [\"Share of deciduous trees (% of standing volume)\", \n",
    "                             \"prc_V_deciduous\",\"max\", \"min\",\"areaWeightedAverage\"]  \n",
    "    }\n",
    "    \n",
    "    wood_production = { \n",
    "    # Harvested roundwood\n",
    "    \"Avg_Harvested_V\" : [\"Average harvested timber volume (log & pulp) (m3/ha, evenflow)\",\n",
    "                             \"Harvested_V\",\n",
    "                             \"max\",\"min\",\"areaWeightedAverage\"] #,\n",
    "    \n",
    "    # Increment\n",
    "    #\"Avg_i_Vm3\": [\"Average timber volume increment(m3/ha)\",\n",
    "    #                  \"i_Vm3\",\"max\",\"min\",\"areaWeightedAverage\"]\n",
    "    }\n",
    "    \n",
    "    bioenergy = { \n",
    "    # Harvested biomass\n",
    "    \"Avg_Biomass\": [\"Average harvested biomass volume (m3/ha, evenflow)\",\n",
    "                    \"Biomass\", \"max\",\"min\",\"areaWeightedAverage\"]\n",
    "    }\n",
    "    \n",
    "    climate_regulation = {\n",
    "    # Carbon sink\n",
    "    \"Total_CARBON_SINK\": [\"Sequestration in carbon dioxide (t CO2)\",\n",
    "                          \"CARBON_SINK\",\"max\",\"min\",\"areaWeightedSum\"] \n",
    "    }\n",
    "    \n",
    "    nonwood = {\n",
    "    # Recreation index \n",
    "    \"Total_Recreation\" : [\"Recreation index (max minimum over yrs)\",\n",
    "                          \"Recreation\",\"max\",\"min\",\"areaWeightedSum\"],\n",
    "        \n",
    "    # Scenic index - maximise\n",
    "    \"Total_Scenic\" : [\"Scenic index (max minimum over yrs)\",\n",
    "                      \"Scenic\", \"max\",\"min\",\"areaWeightedSum\"],   \n",
    "        \n",
    "    # Bilberry - no decline, maximise it\n",
    "    \"Avg_BILBERRY\": [\"Average Bilberry yield (kg/ha)\",\n",
    "                     \"BILBERRY\",\"max\",\"min\",\"areaWeightedAverage\"],\n",
    "    \n",
    "    # Cowberry - no decline, maximise it\n",
    "    \"Avg_COWBERRY\": [\"Average Cowberry yield (kg/ha)\",\n",
    "                     \"COWBERRY\",\"max\",\"min\",\"areaWeightedAverage\"],\n",
    "    \n",
    "    # Mushrooms - no decline, maximise it\n",
    "    \"Avg_ALL_MARKETED_MUSHROOMS\": [\"Average mushroom yield (kg/ha)\",\n",
    "                                   \"ALL_MARKETED_MUSHROOMS\",\"max\",\"min\",\"areaWeightedAverage\"]\n",
    "    \n",
    "    }\n",
    "\n",
    "    objectives = {\n",
    "              **biodiversity,\n",
    "              **wood_production,\n",
    "              **bioenergy,\n",
    "              **climate_regulation ,\n",
    "              **nonwood,\n",
    "    }\n",
    "    \n",
    "    print(\"objectives for EUFS loaded\")"
   ]
  },
  {
   "cell_type": "code",
   "execution_count": 30,
   "metadata": {},
   "outputs": [
    {
     "data": {
      "text/plain": [
       "14"
      ]
     },
     "execution_count": 30,
     "metadata": {},
     "output_type": "execute_result"
    }
   ],
   "source": [
    "len(objectives)"
   ]
  },
  {
   "cell_type": "code",
   "execution_count": 31,
   "metadata": {},
   "outputs": [
    {
     "data": {
      "text/plain": [
       "dict_keys(['Ratio_SA_forests', 'Ratio_strictly_protected', 'Ratio_protection_regimes', 'Total_Large_trees', 'Avg_Deadwood_V', 'Avg_prc_V_deciduous', 'Avg_Harvested_V', 'Avg_Biomass', 'Total_CARBON_SINK', 'Total_Recreation', 'Total_Scenic', 'Avg_BILBERRY', 'Avg_COWBERRY', 'Avg_ALL_MARKETED_MUSHROOMS'])"
      ]
     },
     "execution_count": 31,
     "metadata": {},
     "output_type": "execute_result"
    }
   ],
   "source": [
    "objectives.keys()"
   ]
  },
  {
   "cell_type": "code",
   "execution_count": 32,
   "metadata": {},
   "outputs": [
    {
     "data": {
      "text/plain": [
       "Index(['V', 'i_Vm3', 'Harvested_V', 'Harvested_V_log_under_bark',\n",
       "       'Harvested_V_pulp_under_bark', 'Harvested_V_under_bark', 'MAIN_SP',\n",
       "       'Age', 'AGE_ba', 'SC', 'Biomass', 'ALL_MARKETED_MUSHROOMS', 'BILBERRY',\n",
       "       'COWBERRY', 'HSI_MOOSE', 'CAPERCAILLIE', 'HAZEL_GROUSE',\n",
       "       'V_total_deadwood', 'N_where_D_gt_40', 'prc_V_deciduous', 'PEAT',\n",
       "       'clearcut', 'CARBON_SINK', 'CARBON_STORAGE_Update', 'Recreation',\n",
       "       'Scenic', 'scenario', 'represented_area_by_NFIplot', 'region',\n",
       "       'NUTS2_GL', 'protection', 'Total_i_Vm3', 'Total_Harvested_V',\n",
       "       'Total_Harvested_V_log_under_bark', 'Total_Harvested_V_pulp_under_bark',\n",
       "       'Total_Harvested_V_under_bark', 'Total_Biomass',\n",
       "       'Total_ALL_MARKETED_MUSHROOMS', 'Total_BILBERRY', 'Total_COWBERRY',\n",
       "       'Total_HSI_MOOSE', 'Total_CAPERCAILLIE', 'Total_HAZEL_GROUSE',\n",
       "       'Total_V_total_deadwood', 'Total_N_where_D_gt_40',\n",
       "       'Total_prc_V_deciduous', 'Total_CARBON_SINK', 'Total_Recreation',\n",
       "       'Total_Scenic', 'CCF_forests', 'SA_forests', 'Broadleave_forests',\n",
       "       'Old_forests', 'Relative_V', 'Relative_Age', 'Relative_AGE_ba',\n",
       "       'Relative_ALL_MARKETED_MUSHROOMS', 'Relative_BILBERRY',\n",
       "       'Relative_COWBERRY', 'Relative_HSI_MOOSE', 'Relative_CAPERCAILLIE',\n",
       "       'Relative_HAZEL_GROUSE', 'Relative_V_total_deadwood',\n",
       "       'Relative_N_where_D_gt_40', 'Relative_prc_V_deciduous',\n",
       "       'Relative_CARBON_STORAGE_Update', 'Relative_Recreation',\n",
       "       'Relative_Scenic', 'Relative_Total_ALL_MARKETED_MUSHROOMS',\n",
       "       'Relative_Total_BILBERRY', 'Relative_Total_COWBERRY',\n",
       "       'Relative_Total_HSI_MOOSE', 'Relative_Total_CAPERCAILLIE',\n",
       "       'Relative_Total_HAZEL_GROUSE', 'Relative_Total_V_total_deadwood',\n",
       "       'Relative_Total_N_where_D_gt_40', 'Relative_Total_prc_V_deciduous',\n",
       "       'Relative_Total_Recreation', 'Relative_Total_Scenic'],\n",
       "      dtype='object')"
      ]
     },
     "execution_count": 32,
     "metadata": {},
     "output_type": "execute_result"
    }
   ],
   "source": [
    "mfo.data.columns"
   ]
  },
  {
   "cell_type": "code",
   "execution_count": 33,
   "metadata": {},
   "outputs": [
    {
     "data": {
      "text/plain": [
       "[('prc_V_deciduous', dtype('float64')),\n",
       " ('Total_prc_V_deciduous', dtype('float64')),\n",
       " ('Relative_prc_V_deciduous', dtype('float64')),\n",
       " ('Relative_Total_prc_V_deciduous', dtype('float64'))]"
      ]
     },
     "execution_count": 33,
     "metadata": {},
     "output_type": "execute_result"
    }
   ],
   "source": [
    "[(col,mfo.data.dtypes[col]) for col in mfo.data.columns if \"prc\" in col]"
   ]
  },
  {
   "cell_type": "markdown",
   "metadata": {},
   "source": [
    "## Define initial values NOT available in data, but needed for objective\n",
    "\n",
    "Examples are increment, harvests, biomass and carbon sink. They are required for the \"targetYearWithSlope\" objective, but values only occur after the first simulation period. National values are taken from the policy or forest statistics. \n",
    "\n",
    "<b>For the EU Forest Strategy scenario this might not be required.</b> "
   ]
  },
  {
   "cell_type": "code",
   "execution_count": 34,
   "metadata": {},
   "outputs": [],
   "source": [
    "#initialValues = {\"Total_i_Vm3\":107*10**6,               # value from National Forest Policy\n",
    "#                 \"Total_Harvested_V\": 72.3*10**6,       # value from National Forest Policy\n",
    "#                 \"Total_Biomass\": 2.9*10**6,            # value from National Forest Policy\n",
    "#                 \"Total_CARBON_SINK\" : 34.1*10**6}      # value from National Forest Policy"
   ]
  },
  {
   "cell_type": "code",
   "execution_count": 35,
   "metadata": {
    "scrolled": true
   },
   "outputs": [
    {
     "data": {
      "text/plain": [
       "'Defining objectives'"
      ]
     },
     "metadata": {},
     "output_type": "display_data"
    },
    {
     "data": {
      "text/plain": [
       "'Aggregating stand wise'"
      ]
     },
     "metadata": {},
     "output_type": "display_data"
    },
    {
     "name": "stderr",
     "output_type": "stream",
     "text": [
      "100%|██████████| 14/14 [03:45<00:00, 16.12s/it]\n"
     ]
    },
    {
     "data": {
      "text/plain": [
       "'Aggregating year wise'"
      ]
     },
     "metadata": {},
     "output_type": "display_data"
    },
    {
     "name": "stdout",
     "output_type": "stream",
     "text": [
      "100%|██████████| 14/14 [00:00<00:00, 3469.64it/s]\n"
     ]
    },
    {
     "data": {
      "text/plain": [
       "'Objectives added'"
      ]
     },
     "metadata": {},
     "output_type": "display_data"
    }
   ],
   "source": [
    "# mfo.defineObjectives(objectives,initialValues = initialValues)\n",
    "mfo.defineObjectives(objectives)"
   ]
  },
  {
   "cell_type": "markdown",
   "metadata": {},
   "source": [
    "## Define enabled constraints\n",
    "\n",
    "<b>For the EU Forest Strategy scenario this might not be required. </b> OR it can be a different enabled constraint - maybe related to the protection targets. Let´s see how the policy table looks ... "
   ]
  },
  {
   "cell_type": "code",
   "execution_count": 36,
   "metadata": {},
   "outputs": [],
   "source": [
    "CCFregimes = [regime for regime in mfo.regimes if \"CCF\" in regime] + [\"SA\"]"
   ]
  },
  {
   "cell_type": "code",
   "execution_count": 37,
   "metadata": {},
   "outputs": [
    {
     "data": {
      "text/plain": [
       "['CCF_1', 'CCF_2', 'CCF_3', 'CCF_4', 'SA']"
      ]
     },
     "execution_count": 37,
     "metadata": {},
     "output_type": "execute_result"
    }
   ],
   "source": [
    "CCFregimes"
   ]
  },
  {
   "cell_type": "markdown",
   "metadata": {},
   "source": [
    "Constraint format:\n",
    "- Shortname: \"constraint type\",\"allowed regimes\",\"human readable name\",(regimes),\"column in data\")"
   ]
  },
  {
   "cell_type": "code",
   "execution_count": 38,
   "metadata": {},
   "outputs": [],
   "source": [
    "constraintTypes = {\"CCFonPeat\":[\"Allowed regimes\",\"Only CCF on peat lands\",CCFregimes,\"PEAT\"]}"
   ]
  },
  {
   "cell_type": "code",
   "execution_count": 39,
   "metadata": {},
   "outputs": [],
   "source": [
    "mfo.defineConstraints(constraintTypes)"
   ]
  },
  {
   "cell_type": "markdown",
   "metadata": {},
   "source": [
    "## Calculate objective ranges\n",
    "The ideal and anti-ideal solution for the individual objective functions."
   ]
  },
  {
   "cell_type": "code",
   "execution_count": 40,
   "metadata": {
    "scrolled": false
   },
   "outputs": [
    {
     "data": {
      "text/plain": [
       "'Calculating objective ranges'"
      ]
     },
     "metadata": {},
     "output_type": "display_data"
    },
    {
     "name": "stdout",
     "output_type": "stream",
     "text": [
      "\r",
      "  0%|          | 0/14 [00:00<?, ?it/s]"
     ]
    },
    {
     "data": {
      "text/plain": [
       "'Optimizing for Ratio of protected areas (%, SA forests)'"
      ]
     },
     "metadata": {},
     "output_type": "display_data"
    },
    {
     "data": {
      "text/plain": [
       "'Found an optimal solution in 2 seconds'"
      ]
     },
     "metadata": {},
     "output_type": "display_data"
    },
    {
     "data": {
      "text/plain": [
       "'Objective values are:'"
      ]
     },
     "metadata": {},
     "output_type": "display_data"
    },
    {
     "data": {
      "text/plain": [
       "'Ratio of protected areas (%, SA forests)'"
      ]
     },
     "metadata": {},
     "output_type": "display_data"
    },
    {
     "data": {
      "text/plain": [
       "0.999999999999941"
      ]
     },
     "metadata": {},
     "output_type": "display_data"
    },
    {
     "data": {
      "text/plain": [
       "'Ratio of additional strictly protected forest (%, set aside)'"
      ]
     },
     "metadata": {},
     "output_type": "display_data"
    },
    {
     "data": {
      "text/plain": [
       "0.0718077675328302"
      ]
     },
     "metadata": {},
     "output_type": "display_data"
    },
    {
     "data": {
      "text/plain": [
       "'Ratio of forest under protection regimes (%, CCF_3, CCF_4 and BAUwGTR)'"
      ]
     },
     "metadata": {},
     "output_type": "display_data"
    },
    {
     "data": {
      "text/plain": [
       "0.0"
      ]
     },
     "metadata": {},
     "output_type": "display_data"
    },
    {
     "data": {
      "text/plain": [
       "'Maximise large trees in protected areas (m3)'"
      ]
     },
     "metadata": {},
     "output_type": "display_data"
    },
    {
     "data": {
      "text/plain": [
       "0.0"
      ]
     },
     "metadata": {},
     "output_type": "display_data"
    },
    {
     "data": {
      "text/plain": [
       "'Average deadwood volume (m3/ha)'"
      ]
     },
     "metadata": {},
     "output_type": "display_data"
    },
    {
     "data": {
      "text/plain": [
       "6.61401788208995"
      ]
     },
     "metadata": {},
     "output_type": "display_data"
    },
    {
     "data": {
      "text/plain": [
       "'Share of deciduous trees (% of standing volume)'"
      ]
     },
     "metadata": {},
     "output_type": "display_data"
    },
    {
     "data": {
      "text/plain": [
       "8.966191673651839"
      ]
     },
     "metadata": {},
     "output_type": "display_data"
    },
    {
     "data": {
      "text/plain": [
       "'Average harvested timber volume (log & pulp) (m3/ha, evenflow)'"
      ]
     },
     "metadata": {},
     "output_type": "display_data"
    },
    {
     "data": {
      "text/plain": [
       "0.0"
      ]
     },
     "metadata": {},
     "output_type": "display_data"
    },
    {
     "data": {
      "text/plain": [
       "'Average harvested biomass volume (m3/ha, evenflow)'"
      ]
     },
     "metadata": {},
     "output_type": "display_data"
    },
    {
     "data": {
      "text/plain": [
       "0.0"
      ]
     },
     "metadata": {},
     "output_type": "display_data"
    },
    {
     "data": {
      "text/plain": [
       "'Sequestration in carbon dioxide (t CO2)'"
      ]
     },
     "metadata": {},
     "output_type": "display_data"
    },
    {
     "data": {
      "text/plain": [
       "2968686.6000000006"
      ]
     },
     "metadata": {},
     "output_type": "display_data"
    },
    {
     "data": {
      "text/plain": [
       "'Recreation index (max minimum over yrs)'"
      ]
     },
     "metadata": {},
     "output_type": "display_data"
    },
    {
     "data": {
      "text/plain": [
       "7477525.172000002"
      ]
     },
     "metadata": {},
     "output_type": "display_data"
    },
    {
     "data": {
      "text/plain": [
       "'Scenic index (max minimum over yrs)'"
      ]
     },
     "metadata": {},
     "output_type": "display_data"
    },
    {
     "data": {
      "text/plain": [
       "6916146.528000002"
      ]
     },
     "metadata": {},
     "output_type": "display_data"
    },
    {
     "data": {
      "text/plain": [
       "'Average Bilberry yield (kg/ha)'"
      ]
     },
     "metadata": {},
     "output_type": "display_data"
    },
    {
     "data": {
      "text/plain": [
       "6.347596814752738"
      ]
     },
     "metadata": {},
     "output_type": "display_data"
    },
    {
     "data": {
      "text/plain": [
       "'Average Cowberry yield (kg/ha)'"
      ]
     },
     "metadata": {},
     "output_type": "display_data"
    },
    {
     "data": {
      "text/plain": [
       "26.921031573065118"
      ]
     },
     "metadata": {},
     "output_type": "display_data"
    },
    {
     "data": {
      "text/plain": [
       "'Average mushroom yield (kg/ha)'"
      ]
     },
     "metadata": {},
     "output_type": "display_data"
    },
    {
     "data": {
      "text/plain": [
       "12.716789606035217"
      ]
     },
     "metadata": {},
     "output_type": "display_data"
    },
    {
     "name": "stdout",
     "output_type": "stream",
     "text": [
      "\r",
      "  7%|▋         | 1/14 [00:14<03:11, 14.70s/it]"
     ]
    },
    {
     "data": {
      "text/plain": [
       "'Optimizing for Ratio of additional strictly protected forest (%, set aside)'"
      ]
     },
     "metadata": {},
     "output_type": "display_data"
    },
    {
     "data": {
      "text/plain": [
       "'Found an optimal solution in 1 seconds'"
      ]
     },
     "metadata": {},
     "output_type": "display_data"
    },
    {
     "data": {
      "text/plain": [
       "'Objective values are:'"
      ]
     },
     "metadata": {},
     "output_type": "display_data"
    },
    {
     "data": {
      "text/plain": [
       "'Ratio of protected areas (%, SA forests)'"
      ]
     },
     "metadata": {},
     "output_type": "display_data"
    },
    {
     "data": {
      "text/plain": [
       "0.1260128527521651"
      ]
     },
     "metadata": {},
     "output_type": "display_data"
    },
    {
     "data": {
      "text/plain": [
       "'Ratio of additional strictly protected forest (%, set aside)'"
      ]
     },
     "metadata": {},
     "output_type": "display_data"
    },
    {
     "data": {
      "text/plain": [
       "0.0718077675328302"
      ]
     },
     "metadata": {},
     "output_type": "display_data"
    },
    {
     "data": {
      "text/plain": [
       "'Ratio of forest under protection regimes (%, CCF_3, CCF_4 and BAUwGTR)'"
      ]
     },
     "metadata": {},
     "output_type": "display_data"
    },
    {
     "data": {
      "text/plain": [
       "0.0"
      ]
     },
     "metadata": {},
     "output_type": "display_data"
    },
    {
     "data": {
      "text/plain": [
       "'Maximise large trees in protected areas (m3)'"
      ]
     },
     "metadata": {},
     "output_type": "display_data"
    },
    {
     "data": {
      "text/plain": [
       "0.0"
      ]
     },
     "metadata": {},
     "output_type": "display_data"
    },
    {
     "data": {
      "text/plain": [
       "'Average deadwood volume (m3/ha)'"
      ]
     },
     "metadata": {},
     "output_type": "display_data"
    },
    {
     "data": {
      "text/plain": [
       "4.7126962838781585"
      ]
     },
     "metadata": {},
     "output_type": "display_data"
    },
    {
     "data": {
      "text/plain": [
       "'Share of deciduous trees (% of standing volume)'"
      ]
     },
     "metadata": {},
     "output_type": "display_data"
    },
    {
     "data": {
      "text/plain": [
       "3.3143336127410135"
      ]
     },
     "metadata": {},
     "output_type": "display_data"
    },
    {
     "data": {
      "text/plain": [
       "'Average harvested timber volume (log & pulp) (m3/ha, evenflow)'"
      ]
     },
     "metadata": {},
     "output_type": "display_data"
    },
    {
     "data": {
      "text/plain": [
       "1.4115423302598489"
      ]
     },
     "metadata": {},
     "output_type": "display_data"
    },
    {
     "data": {
      "text/plain": [
       "'Average harvested biomass volume (m3/ha, evenflow)'"
      ]
     },
     "metadata": {},
     "output_type": "display_data"
    },
    {
     "data": {
      "text/plain": [
       "0.23773120983514942"
      ]
     },
     "metadata": {},
     "output_type": "display_data"
    },
    {
     "data": {
      "text/plain": [
       "'Sequestration in carbon dioxide (t CO2)'"
      ]
     },
     "metadata": {},
     "output_type": "display_data"
    },
    {
     "data": {
      "text/plain": [
       "-1101928.464650001"
      ]
     },
     "metadata": {},
     "output_type": "display_data"
    },
    {
     "data": {
      "text/plain": [
       "'Recreation index (max minimum over yrs)'"
      ]
     },
     "metadata": {},
     "output_type": "display_data"
    },
    {
     "data": {
      "text/plain": [
       "7081144.888999987"
      ]
     },
     "metadata": {},
     "output_type": "display_data"
    },
    {
     "data": {
      "text/plain": [
       "'Scenic index (max minimum over yrs)'"
      ]
     },
     "metadata": {},
     "output_type": "display_data"
    },
    {
     "data": {
      "text/plain": [
       "6423816.902999994"
      ]
     },
     "metadata": {},
     "output_type": "display_data"
    },
    {
     "data": {
      "text/plain": [
       "'Average Bilberry yield (kg/ha)'"
      ]
     },
     "metadata": {},
     "output_type": "display_data"
    },
    {
     "data": {
      "text/plain": [
       "3.4462679519418877"
      ]
     },
     "metadata": {},
     "output_type": "display_data"
    },
    {
     "data": {
      "text/plain": [
       "'Average Cowberry yield (kg/ha)'"
      ]
     },
     "metadata": {},
     "output_type": "display_data"
    },
    {
     "data": {
      "text/plain": [
       "38.23084213467452"
      ]
     },
     "metadata": {},
     "output_type": "display_data"
    },
    {
     "data": {
      "text/plain": [
       "'Average mushroom yield (kg/ha)'"
      ]
     },
     "metadata": {},
     "output_type": "display_data"
    },
    {
     "data": {
      "text/plain": [
       "17.465420508521802"
      ]
     },
     "metadata": {},
     "output_type": "display_data"
    },
    {
     "name": "stdout",
     "output_type": "stream",
     "text": [
      "\r",
      " 14%|█▍        | 2/14 [00:28<02:53, 14.46s/it]"
     ]
    },
    {
     "data": {
      "text/plain": [
       "'Optimizing for Ratio of forest under protection regimes (%, CCF_3, CCF_4 and BAUwGTR)'"
      ]
     },
     "metadata": {},
     "output_type": "display_data"
    },
    {
     "data": {
      "text/plain": [
       "'Found an optimal solution in 1 seconds'"
      ]
     },
     "metadata": {},
     "output_type": "display_data"
    },
    {
     "data": {
      "text/plain": [
       "'Objective values are:'"
      ]
     },
     "metadata": {},
     "output_type": "display_data"
    },
    {
     "data": {
      "text/plain": [
       "'Ratio of protected areas (%, SA forests)'"
      ]
     },
     "metadata": {},
     "output_type": "display_data"
    },
    {
     "data": {
      "text/plain": [
       "0.05588153115395347"
      ]
     },
     "metadata": {},
     "output_type": "display_data"
    },
    {
     "data": {
      "text/plain": [
       "'Ratio of additional strictly protected forest (%, set aside)'"
      ]
     },
     "metadata": {},
     "output_type": "display_data"
    },
    {
     "data": {
      "text/plain": [
       "0.0016764459346186086"
      ]
     },
     "metadata": {},
     "output_type": "display_data"
    },
    {
     "data": {
      "text/plain": [
       "'Ratio of forest under protection regimes (%, CCF_3, CCF_4 and BAUwGTR)'"
      ]
     },
     "metadata": {},
     "output_type": "display_data"
    },
    {
     "data": {
      "text/plain": [
       "0.9424420229113776"
      ]
     },
     "metadata": {},
     "output_type": "display_data"
    },
    {
     "data": {
      "text/plain": [
       "'Maximise large trees in protected areas (m3)'"
      ]
     },
     "metadata": {},
     "output_type": "display_data"
    },
    {
     "data": {
      "text/plain": [
       "12152.17"
      ]
     },
     "metadata": {},
     "output_type": "display_data"
    },
    {
     "data": {
      "text/plain": [
       "'Average deadwood volume (m3/ha)'"
      ]
     },
     "metadata": {},
     "output_type": "display_data"
    },
    {
     "data": {
      "text/plain": [
       "4.284045822855541"
      ]
     },
     "metadata": {},
     "output_type": "display_data"
    },
    {
     "data": {
      "text/plain": [
       "'Share of deciduous trees (% of standing volume)'"
      ]
     },
     "metadata": {},
     "output_type": "display_data"
    },
    {
     "data": {
      "text/plain": [
       "3.155909471919559"
      ]
     },
     "metadata": {},
     "output_type": "display_data"
    },
    {
     "data": {
      "text/plain": [
       "'Average harvested timber volume (log & pulp) (m3/ha, evenflow)'"
      ]
     },
     "metadata": {},
     "output_type": "display_data"
    },
    {
     "data": {
      "text/plain": [
       "1.566423582006146"
      ]
     },
     "metadata": {},
     "output_type": "display_data"
    },
    {
     "data": {
      "text/plain": [
       "'Average harvested biomass volume (m3/ha, evenflow)'"
      ]
     },
     "metadata": {},
     "output_type": "display_data"
    },
    {
     "data": {
      "text/plain": [
       "0.2537161218217379"
      ]
     },
     "metadata": {},
     "output_type": "display_data"
    },
    {
     "data": {
      "text/plain": [
       "'Sequestration in carbon dioxide (t CO2)'"
      ]
     },
     "metadata": {},
     "output_type": "display_data"
    },
    {
     "data": {
      "text/plain": [
       "-2715737.1766000036"
      ]
     },
     "metadata": {},
     "output_type": "display_data"
    },
    {
     "data": {
      "text/plain": [
       "'Recreation index (max minimum over yrs)'"
      ]
     },
     "metadata": {},
     "output_type": "display_data"
    },
    {
     "data": {
      "text/plain": [
       "6541249.502999983"
      ]
     },
     "metadata": {},
     "output_type": "display_data"
    },
    {
     "data": {
      "text/plain": [
       "'Scenic index (max minimum over yrs)'"
      ]
     },
     "metadata": {},
     "output_type": "display_data"
    },
    {
     "data": {
      "text/plain": [
       "5860616.42599999"
      ]
     },
     "metadata": {},
     "output_type": "display_data"
    },
    {
     "data": {
      "text/plain": [
       "'Average Bilberry yield (kg/ha)'"
      ]
     },
     "metadata": {},
     "output_type": "display_data"
    },
    {
     "data": {
      "text/plain": [
       "3.149859178541494"
      ]
     },
     "metadata": {},
     "output_type": "display_data"
    },
    {
     "data": {
      "text/plain": [
       "'Average Cowberry yield (kg/ha)'"
      ]
     },
     "metadata": {},
     "output_type": "display_data"
    },
    {
     "data": {
      "text/plain": [
       "42.250339200894146"
      ]
     },
     "metadata": {},
     "output_type": "display_data"
    },
    {
     "data": {
      "text/plain": [
       "'Average mushroom yield (kg/ha)'"
      ]
     },
     "metadata": {},
     "output_type": "display_data"
    },
    {
     "data": {
      "text/plain": [
       "17.88846605196958"
      ]
     },
     "metadata": {},
     "output_type": "display_data"
    },
    {
     "name": "stdout",
     "output_type": "stream",
     "text": [
      "\r",
      " 21%|██▏       | 3/14 [00:42<02:36, 14.19s/it]"
     ]
    },
    {
     "data": {
      "text/plain": [
       "'Optimizing for Maximise large trees in protected areas (m3)'"
      ]
     },
     "metadata": {},
     "output_type": "display_data"
    },
    {
     "data": {
      "text/plain": [
       "'Found an optimal solution in 1 seconds'"
      ]
     },
     "metadata": {},
     "output_type": "display_data"
    },
    {
     "data": {
      "text/plain": [
       "'Objective values are:'"
      ]
     },
     "metadata": {},
     "output_type": "display_data"
    },
    {
     "data": {
      "text/plain": [
       "'Ratio of protected areas (%, SA forests)'"
      ]
     },
     "metadata": {},
     "output_type": "display_data"
    },
    {
     "data": {
      "text/plain": [
       "0.05588153115395347"
      ]
     },
     "metadata": {},
     "output_type": "display_data"
    },
    {
     "data": {
      "text/plain": [
       "'Ratio of additional strictly protected forest (%, set aside)'"
      ]
     },
     "metadata": {},
     "output_type": "display_data"
    },
    {
     "data": {
      "text/plain": [
       "0.0016764459346186086"
      ]
     },
     "metadata": {},
     "output_type": "display_data"
    },
    {
     "data": {
      "text/plain": [
       "'Ratio of forest under protection regimes (%, CCF_3, CCF_4 and BAUwGTR)'"
      ]
     },
     "metadata": {},
     "output_type": "display_data"
    },
    {
     "data": {
      "text/plain": [
       "0.686504610226309"
      ]
     },
     "metadata": {},
     "output_type": "display_data"
    },
    {
     "data": {
      "text/plain": [
       "'Maximise large trees in protected areas (m3)'"
      ]
     },
     "metadata": {},
     "output_type": "display_data"
    },
    {
     "data": {
      "text/plain": [
       "34233.31"
      ]
     },
     "metadata": {},
     "output_type": "display_data"
    },
    {
     "data": {
      "text/plain": [
       "'Average deadwood volume (m3/ha)'"
      ]
     },
     "metadata": {},
     "output_type": "display_data"
    },
    {
     "data": {
      "text/plain": [
       "4.283945236099471"
      ]
     },
     "metadata": {},
     "output_type": "display_data"
    },
    {
     "data": {
      "text/plain": [
       "'Share of deciduous trees (% of standing volume)'"
      ]
     },
     "metadata": {},
     "output_type": "display_data"
    },
    {
     "data": {
      "text/plain": [
       "20.13449493389796"
      ]
     },
     "metadata": {},
     "output_type": "display_data"
    },
    {
     "data": {
      "text/plain": [
       "'Average harvested timber volume (log & pulp) (m3/ha, evenflow)'"
      ]
     },
     "metadata": {},
     "output_type": "display_data"
    },
    {
     "data": {
      "text/plain": [
       "2.617241800855871"
      ]
     },
     "metadata": {},
     "output_type": "display_data"
    },
    {
     "data": {
      "text/plain": [
       "'Average harvested biomass volume (m3/ha, evenflow)'"
      ]
     },
     "metadata": {},
     "output_type": "display_data"
    },
    {
     "data": {
      "text/plain": [
       "0.006007264599050014"
      ]
     },
     "metadata": {},
     "output_type": "display_data"
    },
    {
     "data": {
      "text/plain": [
       "'Sequestration in carbon dioxide (t CO2)'"
      ]
     },
     "metadata": {},
     "output_type": "display_data"
    },
    {
     "data": {
      "text/plain": [
       "-2302795.812936846"
      ]
     },
     "metadata": {},
     "output_type": "display_data"
    },
    {
     "data": {
      "text/plain": [
       "'Recreation index (max minimum over yrs)'"
      ]
     },
     "metadata": {},
     "output_type": "display_data"
    },
    {
     "data": {
      "text/plain": [
       "6889336.546528933"
      ]
     },
     "metadata": {},
     "output_type": "display_data"
    },
    {
     "data": {
      "text/plain": [
       "'Scenic index (max minimum over yrs)'"
      ]
     },
     "metadata": {},
     "output_type": "display_data"
    },
    {
     "data": {
      "text/plain": [
       "6361563.232078415"
      ]
     },
     "metadata": {},
     "output_type": "display_data"
    },
    {
     "data": {
      "text/plain": [
       "'Average Bilberry yield (kg/ha)'"
      ]
     },
     "metadata": {},
     "output_type": "display_data"
    },
    {
     "data": {
      "text/plain": [
       "7.848523594505941"
      ]
     },
     "metadata": {},
     "output_type": "display_data"
    },
    {
     "data": {
      "text/plain": [
       "'Average Cowberry yield (kg/ha)'"
      ]
     },
     "metadata": {},
     "output_type": "display_data"
    },
    {
     "data": {
      "text/plain": [
       "34.75446229731915"
      ]
     },
     "metadata": {},
     "output_type": "display_data"
    },
    {
     "data": {
      "text/plain": [
       "'Average mushroom yield (kg/ha)'"
      ]
     },
     "metadata": {},
     "output_type": "display_data"
    },
    {
     "data": {
      "text/plain": [
       "14.798984348759557"
      ]
     },
     "metadata": {},
     "output_type": "display_data"
    },
    {
     "name": "stdout",
     "output_type": "stream",
     "text": [
      "\r",
      " 29%|██▊       | 4/14 [00:55<02:18, 13.85s/it]"
     ]
    },
    {
     "data": {
      "text/plain": [
       "'Optimizing for Average deadwood volume (m3/ha)'"
      ]
     },
     "metadata": {},
     "output_type": "display_data"
    },
    {
     "data": {
      "text/plain": [
       "'Found an optimal solution in 2 seconds'"
      ]
     },
     "metadata": {},
     "output_type": "display_data"
    },
    {
     "data": {
      "text/plain": [
       "'Objective values are:'"
      ]
     },
     "metadata": {},
     "output_type": "display_data"
    },
    {
     "data": {
      "text/plain": [
       "'Ratio of protected areas (%, SA forests)'"
      ]
     },
     "metadata": {},
     "output_type": "display_data"
    },
    {
     "data": {
      "text/plain": [
       "0.9555741827325547"
      ]
     },
     "metadata": {},
     "output_type": "display_data"
    },
    {
     "data": {
      "text/plain": [
       "'Ratio of additional strictly protected forest (%, set aside)'"
      ]
     },
     "metadata": {},
     "output_type": "display_data"
    },
    {
     "data": {
      "text/plain": [
       "0.0718077675328302"
      ]
     },
     "metadata": {},
     "output_type": "display_data"
    },
    {
     "data": {
      "text/plain": [
       "'Ratio of forest under protection regimes (%, CCF_3, CCF_4 and BAUwGTR)'"
      ]
     },
     "metadata": {},
     "output_type": "display_data"
    },
    {
     "data": {
      "text/plain": [
       "0.013970382788488386"
      ]
     },
     "metadata": {},
     "output_type": "display_data"
    },
    {
     "data": {
      "text/plain": [
       "'Maximise large trees in protected areas (m3)'"
      ]
     },
     "metadata": {},
     "output_type": "display_data"
    },
    {
     "data": {
      "text/plain": [
       "0.0"
      ]
     },
     "metadata": {},
     "output_type": "display_data"
    },
    {
     "data": {
      "text/plain": [
       "'Average deadwood volume (m3/ha)'"
      ]
     },
     "metadata": {},
     "output_type": "display_data"
    },
    {
     "data": {
      "text/plain": [
       "6.6155099189717665"
      ]
     },
     "metadata": {},
     "output_type": "display_data"
    },
    {
     "data": {
      "text/plain": [
       "'Share of deciduous trees (% of standing volume)'"
      ]
     },
     "metadata": {},
     "output_type": "display_data"
    },
    {
     "data": {
      "text/plain": [
       "10.040234702430752"
      ]
     },
     "metadata": {},
     "output_type": "display_data"
    },
    {
     "data": {
      "text/plain": [
       "'Average harvested timber volume (log & pulp) (m3/ha, evenflow)'"
      ]
     },
     "metadata": {},
     "output_type": "display_data"
    },
    {
     "data": {
      "text/plain": [
       "0.0038250908074881247"
      ]
     },
     "metadata": {},
     "output_type": "display_data"
    },
    {
     "data": {
      "text/plain": [
       "'Average harvested biomass volume (m3/ha, evenflow)'"
      ]
     },
     "metadata": {},
     "output_type": "display_data"
    },
    {
     "data": {
      "text/plain": [
       "0.0006342553785973735"
      ]
     },
     "metadata": {},
     "output_type": "display_data"
    },
    {
     "data": {
      "text/plain": [
       "'Sequestration in carbon dioxide (t CO2)'"
      ]
     },
     "metadata": {},
     "output_type": "display_data"
    },
    {
     "data": {
      "text/plain": [
       "2735314.1199999945"
      ]
     },
     "metadata": {},
     "output_type": "display_data"
    },
    {
     "data": {
      "text/plain": [
       "'Recreation index (max minimum over yrs)'"
      ]
     },
     "metadata": {},
     "output_type": "display_data"
    },
    {
     "data": {
      "text/plain": [
       "7469091.303999998"
      ]
     },
     "metadata": {},
     "output_type": "display_data"
    },
    {
     "data": {
      "text/plain": [
       "'Scenic index (max minimum over yrs)'"
      ]
     },
     "metadata": {},
     "output_type": "display_data"
    },
    {
     "data": {
      "text/plain": [
       "6907376.798"
      ]
     },
     "metadata": {},
     "output_type": "display_data"
    },
    {
     "data": {
      "text/plain": [
       "'Average Bilberry yield (kg/ha)'"
      ]
     },
     "metadata": {},
     "output_type": "display_data"
    },
    {
     "data": {
      "text/plain": [
       "6.490530036322994"
      ]
     },
     "metadata": {},
     "output_type": "display_data"
    },
    {
     "data": {
      "text/plain": [
       "'Average Cowberry yield (kg/ha)'"
      ]
     },
     "metadata": {},
     "output_type": "display_data"
    },
    {
     "data": {
      "text/plain": [
       "27.36175579770881"
      ]
     },
     "metadata": {},
     "output_type": "display_data"
    },
    {
     "data": {
      "text/plain": [
       "'Average mushroom yield (kg/ha)'"
      ]
     },
     "metadata": {},
     "output_type": "display_data"
    },
    {
     "data": {
      "text/plain": [
       "12.803277451802183"
      ]
     },
     "metadata": {},
     "output_type": "display_data"
    },
    {
     "name": "stdout",
     "output_type": "stream",
     "text": [
      "\r",
      " 36%|███▌      | 5/14 [01:09<02:06, 14.01s/it]"
     ]
    },
    {
     "data": {
      "text/plain": [
       "'Optimizing for Share of deciduous trees (% of standing volume)'"
      ]
     },
     "metadata": {},
     "output_type": "display_data"
    },
    {
     "data": {
      "text/plain": [
       "'Found an optimal solution in 2 seconds'"
      ]
     },
     "metadata": {},
     "output_type": "display_data"
    },
    {
     "data": {
      "text/plain": [
       "'Objective values are:'"
      ]
     },
     "metadata": {},
     "output_type": "display_data"
    },
    {
     "data": {
      "text/plain": [
       "'Ratio of protected areas (%, SA forests)'"
      ]
     },
     "metadata": {},
     "output_type": "display_data"
    },
    {
     "data": {
      "text/plain": [
       "0.09360156468287205"
      ]
     },
     "metadata": {},
     "output_type": "display_data"
    },
    {
     "data": {
      "text/plain": [
       "'Ratio of additional strictly protected forest (%, set aside)'"
      ]
     },
     "metadata": {},
     "output_type": "display_data"
    },
    {
     "data": {
      "text/plain": [
       "0.003073484213467449"
      ]
     },
     "metadata": {},
     "output_type": "display_data"
    },
    {
     "data": {
      "text/plain": [
       "'Ratio of forest under protection regimes (%, CCF_3, CCF_4 and BAUwGTR)'"
      ]
     },
     "metadata": {},
     "output_type": "display_data"
    },
    {
     "data": {
      "text/plain": [
       "0.28122380553227994"
      ]
     },
     "metadata": {},
     "output_type": "display_data"
    },
    {
     "data": {
      "text/plain": [
       "'Maximise large trees in protected areas (m3)'"
      ]
     },
     "metadata": {},
     "output_type": "display_data"
    },
    {
     "data": {
      "text/plain": [
       "0.0"
      ]
     },
     "metadata": {},
     "output_type": "display_data"
    },
    {
     "data": {
      "text/plain": [
       "'Average deadwood volume (m3/ha)'"
      ]
     },
     "metadata": {},
     "output_type": "display_data"
    },
    {
     "data": {
      "text/plain": [
       "4.341276892986895"
      ]
     },
     "metadata": {},
     "output_type": "display_data"
    },
    {
     "data": {
      "text/plain": [
       "'Share of deciduous trees (% of standing volume)'"
      ]
     },
     "metadata": {},
     "output_type": "display_data"
    },
    {
     "data": {
      "text/plain": [
       "23.7457128387817"
      ]
     },
     "metadata": {},
     "output_type": "display_data"
    },
    {
     "data": {
      "text/plain": [
       "'Average harvested timber volume (log & pulp) (m3/ha, evenflow)'"
      ]
     },
     "metadata": {},
     "output_type": "display_data"
    },
    {
     "data": {
      "text/plain": [
       "1.8335359038838037"
      ]
     },
     "metadata": {},
     "output_type": "display_data"
    },
    {
     "data": {
      "text/plain": [
       "'Average harvested biomass volume (m3/ha, evenflow)'"
      ]
     },
     "metadata": {},
     "output_type": "display_data"
    },
    {
     "data": {
      "text/plain": [
       "0.018172673931265714"
      ]
     },
     "metadata": {},
     "output_type": "display_data"
    },
    {
     "data": {
      "text/plain": [
       "'Sequestration in carbon dioxide (t CO2)'"
      ]
     },
     "metadata": {},
     "output_type": "display_data"
    },
    {
     "data": {
      "text/plain": [
       "-4597618.947550022"
      ]
     },
     "metadata": {},
     "output_type": "display_data"
    },
    {
     "data": {
      "text/plain": [
       "'Recreation index (max minimum over yrs)'"
      ]
     },
     "metadata": {},
     "output_type": "display_data"
    },
    {
     "data": {
      "text/plain": [
       "6897178.736437512"
      ]
     },
     "metadata": {},
     "output_type": "display_data"
    },
    {
     "data": {
      "text/plain": [
       "'Scenic index (max minimum over yrs)'"
      ]
     },
     "metadata": {},
     "output_type": "display_data"
    },
    {
     "data": {
      "text/plain": [
       "6383971.427312492"
      ]
     },
     "metadata": {},
     "output_type": "display_data"
    },
    {
     "data": {
      "text/plain": [
       "'Average Bilberry yield (kg/ha)'"
      ]
     },
     "metadata": {},
     "output_type": "display_data"
    },
    {
     "data": {
      "text/plain": [
       "7.453415872101134"
      ]
     },
     "metadata": {},
     "output_type": "display_data"
    },
    {
     "data": {
      "text/plain": [
       "'Average Cowberry yield (kg/ha)'"
      ]
     },
     "metadata": {},
     "output_type": "display_data"
    },
    {
     "data": {
      "text/plain": [
       "34.11236130902487"
      ]
     },
     "metadata": {},
     "output_type": "display_data"
    },
    {
     "data": {
      "text/plain": [
       "'Average mushroom yield (kg/ha)'"
      ]
     },
     "metadata": {},
     "output_type": "display_data"
    },
    {
     "data": {
      "text/plain": [
       "14.694872782201703"
      ]
     },
     "metadata": {},
     "output_type": "display_data"
    },
    {
     "name": "stdout",
     "output_type": "stream",
     "text": [
      "\r",
      " 43%|████▎     | 6/14 [01:23<01:51, 13.90s/it]"
     ]
    },
    {
     "data": {
      "text/plain": [
       "'Optimizing for Average harvested timber volume (log & pulp) (m3/ha, evenflow)'"
      ]
     },
     "metadata": {},
     "output_type": "display_data"
    },
    {
     "data": {
      "text/plain": [
       "'Found an optimal solution in 2 seconds'"
      ]
     },
     "metadata": {},
     "output_type": "display_data"
    },
    {
     "data": {
      "text/plain": [
       "'Objective values are:'"
      ]
     },
     "metadata": {},
     "output_type": "display_data"
    },
    {
     "data": {
      "text/plain": [
       "'Ratio of protected areas (%, SA forests)'"
      ]
     },
     "metadata": {},
     "output_type": "display_data"
    },
    {
     "data": {
      "text/plain": [
       "0.05588153115395347"
      ]
     },
     "metadata": {},
     "output_type": "display_data"
    },
    {
     "data": {
      "text/plain": [
       "'Ratio of additional strictly protected forest (%, set aside)'"
      ]
     },
     "metadata": {},
     "output_type": "display_data"
    },
    {
     "data": {
      "text/plain": [
       "0.0016764459346186086"
      ]
     },
     "metadata": {},
     "output_type": "display_data"
    },
    {
     "data": {
      "text/plain": [
       "'Ratio of forest under protection regimes (%, CCF_3, CCF_4 and BAUwGTR)'"
      ]
     },
     "metadata": {},
     "output_type": "display_data"
    },
    {
     "data": {
      "text/plain": [
       "0.17419204047288595"
      ]
     },
     "metadata": {},
     "output_type": "display_data"
    },
    {
     "data": {
      "text/plain": [
       "'Maximise large trees in protected areas (m3)'"
      ]
     },
     "metadata": {},
     "output_type": "display_data"
    },
    {
     "data": {
      "text/plain": [
       "0.0"
      ]
     },
     "metadata": {},
     "output_type": "display_data"
    },
    {
     "data": {
      "text/plain": [
       "'Average deadwood volume (m3/ha)'"
      ]
     },
     "metadata": {},
     "output_type": "display_data"
    },
    {
     "data": {
      "text/plain": [
       "3.4126484105876793"
      ]
     },
     "metadata": {},
     "output_type": "display_data"
    },
    {
     "data": {
      "text/plain": [
       "'Share of deciduous trees (% of standing volume)'"
      ]
     },
     "metadata": {},
     "output_type": "display_data"
    },
    {
     "data": {
      "text/plain": [
       "17.05503322581227"
      ]
     },
     "metadata": {},
     "output_type": "display_data"
    },
    {
     "data": {
      "text/plain": [
       "'Average harvested timber volume (log & pulp) (m3/ha, evenflow)'"
      ]
     },
     "metadata": {},
     "output_type": "display_data"
    },
    {
     "data": {
      "text/plain": [
       "5.787990468657745"
      ]
     },
     "metadata": {},
     "output_type": "display_data"
    },
    {
     "data": {
      "text/plain": [
       "'Average harvested biomass volume (m3/ha, evenflow)'"
      ]
     },
     "metadata": {},
     "output_type": "display_data"
    },
    {
     "data": {
      "text/plain": [
       "0.08389773679798826"
      ]
     },
     "metadata": {},
     "output_type": "display_data"
    },
    {
     "data": {
      "text/plain": [
       "'Sequestration in carbon dioxide (t CO2)'"
      ]
     },
     "metadata": {},
     "output_type": "display_data"
    },
    {
     "data": {
      "text/plain": [
       "1691209.9089403187"
      ]
     },
     "metadata": {},
     "output_type": "display_data"
    },
    {
     "data": {
      "text/plain": [
       "'Recreation index (max minimum over yrs)'"
      ]
     },
     "metadata": {},
     "output_type": "display_data"
    },
    {
     "data": {
      "text/plain": [
       "6811319.784238"
      ]
     },
     "metadata": {},
     "output_type": "display_data"
    },
    {
     "data": {
      "text/plain": [
       "'Scenic index (max minimum over yrs)'"
      ]
     },
     "metadata": {},
     "output_type": "display_data"
    },
    {
     "data": {
      "text/plain": [
       "6202969.108603026"
      ]
     },
     "metadata": {},
     "output_type": "display_data"
    },
    {
     "data": {
      "text/plain": [
       "'Average Bilberry yield (kg/ha)'"
      ]
     },
     "metadata": {},
     "output_type": "display_data"
    },
    {
     "data": {
      "text/plain": [
       "6.3119080364215225"
      ]
     },
     "metadata": {},
     "output_type": "display_data"
    },
    {
     "data": {
      "text/plain": [
       "'Average Cowberry yield (kg/ha)'"
      ]
     },
     "metadata": {},
     "output_type": "display_data"
    },
    {
     "data": {
      "text/plain": [
       "33.97948310576846"
      ]
     },
     "metadata": {},
     "output_type": "display_data"
    },
    {
     "data": {
      "text/plain": [
       "'Average mushroom yield (kg/ha)'"
      ]
     },
     "metadata": {},
     "output_type": "display_data"
    },
    {
     "data": {
      "text/plain": [
       "15.020095033336608"
      ]
     },
     "metadata": {},
     "output_type": "display_data"
    },
    {
     "name": "stdout",
     "output_type": "stream",
     "text": [
      "\r",
      " 50%|█████     | 7/14 [01:37<01:37, 13.89s/it]"
     ]
    },
    {
     "data": {
      "text/plain": [
       "'Optimizing for Average harvested biomass volume (m3/ha, evenflow)'"
      ]
     },
     "metadata": {},
     "output_type": "display_data"
    },
    {
     "data": {
      "text/plain": [
       "'Found an optimal solution in 2 seconds'"
      ]
     },
     "metadata": {},
     "output_type": "display_data"
    },
    {
     "data": {
      "text/plain": [
       "'Objective values are:'"
      ]
     },
     "metadata": {},
     "output_type": "display_data"
    },
    {
     "data": {
      "text/plain": [
       "'Ratio of protected areas (%, SA forests)'"
      ]
     },
     "metadata": {},
     "output_type": "display_data"
    },
    {
     "data": {
      "text/plain": [
       "0.05588153115395347"
      ]
     },
     "metadata": {},
     "output_type": "display_data"
    },
    {
     "data": {
      "text/plain": [
       "'Ratio of additional strictly protected forest (%, set aside)'"
      ]
     },
     "metadata": {},
     "output_type": "display_data"
    },
    {
     "data": {
      "text/plain": [
       "0.0016764459346186086"
      ]
     },
     "metadata": {},
     "output_type": "display_data"
    },
    {
     "data": {
      "text/plain": [
       "'Ratio of forest under protection regimes (%, CCF_3, CCF_4 and BAUwGTR)'"
      ]
     },
     "metadata": {},
     "output_type": "display_data"
    },
    {
     "data": {
      "text/plain": [
       "0.0005588153115395362"
      ]
     },
     "metadata": {},
     "output_type": "display_data"
    },
    {
     "data": {
      "text/plain": [
       "'Maximise large trees in protected areas (m3)'"
      ]
     },
     "metadata": {},
     "output_type": "display_data"
    },
    {
     "data": {
      "text/plain": [
       "0.0"
      ]
     },
     "metadata": {},
     "output_type": "display_data"
    },
    {
     "data": {
      "text/plain": [
       "'Average deadwood volume (m3/ha)'"
      ]
     },
     "metadata": {},
     "output_type": "display_data"
    },
    {
     "data": {
      "text/plain": [
       "2.6512304424563373"
      ]
     },
     "metadata": {},
     "output_type": "display_data"
    },
    {
     "data": {
      "text/plain": [
       "'Share of deciduous trees (% of standing volume)'"
      ]
     },
     "metadata": {},
     "output_type": "display_data"
    },
    {
     "data": {
      "text/plain": [
       "2.9847244342079295"
      ]
     },
     "metadata": {},
     "output_type": "display_data"
    },
    {
     "data": {
      "text/plain": [
       "'Average harvested timber volume (log & pulp) (m3/ha, evenflow)'"
      ]
     },
     "metadata": {},
     "output_type": "display_data"
    },
    {
     "data": {
      "text/plain": [
       "3.8793553184250213"
      ]
     },
     "metadata": {},
     "output_type": "display_data"
    },
    {
     "data": {
      "text/plain": [
       "'Average harvested biomass volume (m3/ha, evenflow)'"
      ]
     },
     "metadata": {},
     "output_type": "display_data"
    },
    {
     "data": {
      "text/plain": [
       "0.7047570741828348"
      ]
     },
     "metadata": {},
     "output_type": "display_data"
    },
    {
     "data": {
      "text/plain": [
       "'Sequestration in carbon dioxide (t CO2)'"
      ]
     },
     "metadata": {},
     "output_type": "display_data"
    },
    {
     "data": {
      "text/plain": [
       "834746.3648423868"
      ]
     },
     "metadata": {},
     "output_type": "display_data"
    },
    {
     "data": {
      "text/plain": [
       "'Recreation index (max minimum over yrs)'"
      ]
     },
     "metadata": {},
     "output_type": "display_data"
    },
    {
     "data": {
      "text/plain": [
       "6646492.399786762"
      ]
     },
     "metadata": {},
     "output_type": "display_data"
    },
    {
     "data": {
      "text/plain": [
       "'Scenic index (max minimum over yrs)'"
      ]
     },
     "metadata": {},
     "output_type": "display_data"
    },
    {
     "data": {
      "text/plain": [
       "5980072.974194477"
      ]
     },
     "metadata": {},
     "output_type": "display_data"
    },
    {
     "data": {
      "text/plain": [
       "'Average Bilberry yield (kg/ha)'"
      ]
     },
     "metadata": {},
     "output_type": "display_data"
    },
    {
     "data": {
      "text/plain": [
       "3.6914382059481725"
      ]
     },
     "metadata": {},
     "output_type": "display_data"
    },
    {
     "data": {
      "text/plain": [
       "'Average Cowberry yield (kg/ha)'"
      ]
     },
     "metadata": {},
     "output_type": "display_data"
    },
    {
     "data": {
      "text/plain": [
       "39.83533206157606"
      ]
     },
     "metadata": {},
     "output_type": "display_data"
    },
    {
     "data": {
      "text/plain": [
       "'Average mushroom yield (kg/ha)'"
      ]
     },
     "metadata": {},
     "output_type": "display_data"
    },
    {
     "data": {
      "text/plain": [
       "17.925004232005335"
      ]
     },
     "metadata": {},
     "output_type": "display_data"
    },
    {
     "name": "stdout",
     "output_type": "stream",
     "text": [
      "\r",
      " 57%|█████▋    | 8/14 [01:51<01:23, 13.97s/it]"
     ]
    },
    {
     "data": {
      "text/plain": [
       "'Optimizing for Sequestration in carbon dioxide (t CO2)'"
      ]
     },
     "metadata": {},
     "output_type": "display_data"
    },
    {
     "data": {
      "text/plain": [
       "'Found an optimal solution in 3 seconds'"
      ]
     },
     "metadata": {},
     "output_type": "display_data"
    },
    {
     "data": {
      "text/plain": [
       "'Objective values are:'"
      ]
     },
     "metadata": {},
     "output_type": "display_data"
    },
    {
     "data": {
      "text/plain": [
       "'Ratio of protected areas (%, SA forests)'"
      ]
     },
     "metadata": {},
     "output_type": "display_data"
    },
    {
     "data": {
      "text/plain": [
       "0.5407087204992821"
      ]
     },
     "metadata": {},
     "output_type": "display_data"
    },
    {
     "data": {
      "text/plain": [
       "'Ratio of additional strictly protected forest (%, set aside)'"
      ]
     },
     "metadata": {},
     "output_type": "display_data"
    },
    {
     "data": {
      "text/plain": [
       "0.0235949301287227"
      ]
     },
     "metadata": {},
     "output_type": "display_data"
    },
    {
     "data": {
      "text/plain": [
       "'Ratio of forest under protection regimes (%, CCF_3, CCF_4 and BAUwGTR)'"
      ]
     },
     "metadata": {},
     "output_type": "display_data"
    },
    {
     "data": {
      "text/plain": [
       "0.07770715036063967"
      ]
     },
     "metadata": {},
     "output_type": "display_data"
    },
    {
     "data": {
      "text/plain": [
       "'Maximise large trees in protected areas (m3)'"
      ]
     },
     "metadata": {},
     "output_type": "display_data"
    },
    {
     "data": {
      "text/plain": [
       "0.0"
      ]
     },
     "metadata": {},
     "output_type": "display_data"
    },
    {
     "data": {
      "text/plain": [
       "'Average deadwood volume (m3/ha)'"
      ]
     },
     "metadata": {},
     "output_type": "display_data"
    },
    {
     "data": {
      "text/plain": [
       "5.220872866345539"
      ]
     },
     "metadata": {},
     "output_type": "display_data"
    },
    {
     "data": {
      "text/plain": [
       "'Share of deciduous trees (% of standing volume)'"
      ]
     },
     "metadata": {},
     "output_type": "display_data"
    },
    {
     "data": {
      "text/plain": [
       "6.45151136390995"
      ]
     },
     "metadata": {},
     "output_type": "display_data"
    },
    {
     "data": {
      "text/plain": [
       "'Average harvested timber volume (log & pulp) (m3/ha, evenflow)'"
      ]
     },
     "metadata": {},
     "output_type": "display_data"
    },
    {
     "data": {
      "text/plain": [
       "0.009200894104498463"
      ]
     },
     "metadata": {},
     "output_type": "display_data"
    },
    {
     "data": {
      "text/plain": [
       "'Average harvested biomass volume (m3/ha, evenflow)'"
      ]
     },
     "metadata": {},
     "output_type": "display_data"
    },
    {
     "data": {
      "text/plain": [
       "0.0"
      ]
     },
     "metadata": {},
     "output_type": "display_data"
    },
    {
     "data": {
      "text/plain": [
       "'Sequestration in carbon dioxide (t CO2)'"
      ]
     },
     "metadata": {},
     "output_type": "display_data"
    },
    {
     "data": {
      "text/plain": [
       "9935691.194801226"
      ]
     },
     "metadata": {},
     "output_type": "display_data"
    },
    {
     "data": {
      "text/plain": [
       "'Recreation index (max minimum over yrs)'"
      ]
     },
     "metadata": {},
     "output_type": "display_data"
    },
    {
     "data": {
      "text/plain": [
       "7180988.528661261"
      ]
     },
     "metadata": {},
     "output_type": "display_data"
    },
    {
     "data": {
      "text/plain": [
       "'Scenic index (max minimum over yrs)'"
      ]
     },
     "metadata": {},
     "output_type": "display_data"
    },
    {
     "data": {
      "text/plain": [
       "6579016.776617381"
      ]
     },
     "metadata": {},
     "output_type": "display_data"
    },
    {
     "data": {
      "text/plain": [
       "'Average Bilberry yield (kg/ha)'"
      ]
     },
     "metadata": {},
     "output_type": "display_data"
    },
    {
     "data": {
      "text/plain": [
       "3.788138887071365"
      ]
     },
     "metadata": {},
     "output_type": "display_data"
    },
    {
     "data": {
      "text/plain": [
       "'Average Cowberry yield (kg/ha)'"
      ]
     },
     "metadata": {},
     "output_type": "display_data"
    },
    {
     "data": {
      "text/plain": [
       "26.132912230010323"
      ]
     },
     "metadata": {},
     "output_type": "display_data"
    },
    {
     "data": {
      "text/plain": [
       "'Average mushroom yield (kg/ha)'"
      ]
     },
     "metadata": {},
     "output_type": "display_data"
    },
    {
     "data": {
      "text/plain": [
       "16.20022733688666"
      ]
     },
     "metadata": {},
     "output_type": "display_data"
    },
    {
     "name": "stdout",
     "output_type": "stream",
     "text": [
      "\r",
      " 64%|██████▍   | 9/14 [02:07<01:12, 14.58s/it]"
     ]
    },
    {
     "data": {
      "text/plain": [
       "'Optimizing for Recreation index (max minimum over yrs)'"
      ]
     },
     "metadata": {},
     "output_type": "display_data"
    },
    {
     "data": {
      "text/plain": [
       "'Found an optimal solution in 2 seconds'"
      ]
     },
     "metadata": {},
     "output_type": "display_data"
    },
    {
     "data": {
      "text/plain": [
       "'Objective values are:'"
      ]
     },
     "metadata": {},
     "output_type": "display_data"
    },
    {
     "data": {
      "text/plain": [
       "'Ratio of protected areas (%, SA forests)'"
      ]
     },
     "metadata": {},
     "output_type": "display_data"
    },
    {
     "data": {
      "text/plain": [
       "0.5722253941219363"
      ]
     },
     "metadata": {},
     "output_type": "display_data"
    },
    {
     "data": {
      "text/plain": [
       "'Ratio of additional strictly protected forest (%, set aside)'"
      ]
     },
     "metadata": {},
     "output_type": "display_data"
    },
    {
     "data": {
      "text/plain": [
       "0.0368818105616093"
      ]
     },
     "metadata": {},
     "output_type": "display_data"
    },
    {
     "data": {
      "text/plain": [
       "'Ratio of forest under protection regimes (%, CCF_3, CCF_4 and BAUwGTR)'"
      ]
     },
     "metadata": {},
     "output_type": "display_data"
    },
    {
     "data": {
      "text/plain": [
       "0.019279128248113963"
      ]
     },
     "metadata": {},
     "output_type": "display_data"
    },
    {
     "data": {
      "text/plain": [
       "'Maximise large trees in protected areas (m3)'"
      ]
     },
     "metadata": {},
     "output_type": "display_data"
    },
    {
     "data": {
      "text/plain": [
       "0.0"
      ]
     },
     "metadata": {},
     "output_type": "display_data"
    },
    {
     "data": {
      "text/plain": [
       "'Average deadwood volume (m3/ha)'"
      ]
     },
     "metadata": {},
     "output_type": "display_data"
    },
    {
     "data": {
      "text/plain": [
       "5.486831148434732"
      ]
     },
     "metadata": {},
     "output_type": "display_data"
    },
    {
     "data": {
      "text/plain": [
       "'Share of deciduous trees (% of standing volume)'"
      ]
     },
     "metadata": {},
     "output_type": "display_data"
    },
    {
     "data": {
      "text/plain": [
       "10.544785532968858"
      ]
     },
     "metadata": {},
     "output_type": "display_data"
    },
    {
     "data": {
      "text/plain": [
       "'Average harvested timber volume (log & pulp) (m3/ha, evenflow)'"
      ]
     },
     "metadata": {},
     "output_type": "display_data"
    },
    {
     "data": {
      "text/plain": [
       "1.2142581726739314"
      ]
     },
     "metadata": {},
     "output_type": "display_data"
    },
    {
     "data": {
      "text/plain": [
       "'Average harvested biomass volume (m3/ha, evenflow)'"
      ]
     },
     "metadata": {},
     "output_type": "display_data"
    },
    {
     "data": {
      "text/plain": [
       "0.08974573903324953"
      ]
     },
     "metadata": {},
     "output_type": "display_data"
    },
    {
     "data": {
      "text/plain": [
       "'Sequestration in carbon dioxide (t CO2)'"
      ]
     },
     "metadata": {},
     "output_type": "display_data"
    },
    {
     "data": {
      "text/plain": [
       "4729454.733833822"
      ]
     },
     "metadata": {},
     "output_type": "display_data"
    },
    {
     "data": {
      "text/plain": [
       "'Recreation index (max minimum over yrs)'"
      ]
     },
     "metadata": {},
     "output_type": "display_data"
    },
    {
     "data": {
      "text/plain": [
       "7578949.143999992"
      ]
     },
     "metadata": {},
     "output_type": "display_data"
    },
    {
     "data": {
      "text/plain": [
       "'Scenic index (max minimum over yrs)'"
      ]
     },
     "metadata": {},
     "output_type": "display_data"
    },
    {
     "data": {
      "text/plain": [
       "6893122.55941626"
      ]
     },
     "metadata": {},
     "output_type": "display_data"
    },
    {
     "data": {
      "text/plain": [
       "'Average Bilberry yield (kg/ha)'"
      ]
     },
     "metadata": {},
     "output_type": "display_data"
    },
    {
     "data": {
      "text/plain": [
       "5.451785303058339"
      ]
     },
     "metadata": {},
     "output_type": "display_data"
    },
    {
     "data": {
      "text/plain": [
       "'Average Cowberry yield (kg/ha)'"
      ]
     },
     "metadata": {},
     "output_type": "display_data"
    },
    {
     "data": {
      "text/plain": [
       "31.068603298050906"
      ]
     },
     "metadata": {},
     "output_type": "display_data"
    },
    {
     "data": {
      "text/plain": [
       "'Average mushroom yield (kg/ha)'"
      ]
     },
     "metadata": {},
     "output_type": "display_data"
    },
    {
     "data": {
      "text/plain": [
       "15.526183662645698"
      ]
     },
     "metadata": {},
     "output_type": "display_data"
    },
    {
     "name": "stdout",
     "output_type": "stream",
     "text": [
      "\r",
      " 71%|███████▏  | 10/14 [02:21<00:58, 14.60s/it]"
     ]
    },
    {
     "data": {
      "text/plain": [
       "'Optimizing for Scenic index (max minimum over yrs)'"
      ]
     },
     "metadata": {},
     "output_type": "display_data"
    },
    {
     "data": {
      "text/plain": [
       "'Found an optimal solution in 2 seconds'"
      ]
     },
     "metadata": {},
     "output_type": "display_data"
    },
    {
     "data": {
      "text/plain": [
       "'Objective values are:'"
      ]
     },
     "metadata": {},
     "output_type": "display_data"
    },
    {
     "data": {
      "text/plain": [
       "'Ratio of protected areas (%, SA forests)'"
      ]
     },
     "metadata": {},
     "output_type": "display_data"
    },
    {
     "data": {
      "text/plain": [
       "0.6502724458262064"
      ]
     },
     "metadata": {},
     "output_type": "display_data"
    },
    {
     "data": {
      "text/plain": [
       "'Ratio of additional strictly protected forest (%, set aside)'"
      ]
     },
     "metadata": {},
     "output_type": "display_data"
    },
    {
     "data": {
      "text/plain": [
       "0.03408773400391163"
      ]
     },
     "metadata": {},
     "output_type": "display_data"
    },
    {
     "data": {
      "text/plain": [
       "'Ratio of forest under protection regimes (%, CCF_3, CCF_4 and BAUwGTR)'"
      ]
     },
     "metadata": {},
     "output_type": "display_data"
    },
    {
     "data": {
      "text/plain": [
       "0.03408773400391163"
      ]
     },
     "metadata": {},
     "output_type": "display_data"
    },
    {
     "data": {
      "text/plain": [
       "'Maximise large trees in protected areas (m3)'"
      ]
     },
     "metadata": {},
     "output_type": "display_data"
    },
    {
     "data": {
      "text/plain": [
       "13970.429999999998"
      ]
     },
     "metadata": {},
     "output_type": "display_data"
    },
    {
     "data": {
      "text/plain": [
       "'Average deadwood volume (m3/ha)'"
      ]
     },
     "metadata": {},
     "output_type": "display_data"
    },
    {
     "data": {
      "text/plain": [
       "5.64731908821523"
      ]
     },
     "metadata": {},
     "output_type": "display_data"
    },
    {
     "data": {
      "text/plain": [
       "'Share of deciduous trees (% of standing volume)'"
      ]
     },
     "metadata": {},
     "output_type": "display_data"
    },
    {
     "data": {
      "text/plain": [
       "13.88107101907134"
      ]
     },
     "metadata": {},
     "output_type": "display_data"
    },
    {
     "data": {
      "text/plain": [
       "'Average harvested timber volume (log & pulp) (m3/ha, evenflow)'"
      ]
     },
     "metadata": {},
     "output_type": "display_data"
    },
    {
     "data": {
      "text/plain": [
       "1.0614981203060878"
      ]
     },
     "metadata": {},
     "output_type": "display_data"
    },
    {
     "data": {
      "text/plain": [
       "'Average harvested biomass volume (m3/ha, evenflow)'"
      ]
     },
     "metadata": {},
     "output_type": "display_data"
    },
    {
     "data": {
      "text/plain": [
       "0.09712489522212898"
      ]
     },
     "metadata": {},
     "output_type": "display_data"
    },
    {
     "data": {
      "text/plain": [
       "'Sequestration in carbon dioxide (t CO2)'"
      ]
     },
     "metadata": {},
     "output_type": "display_data"
    },
    {
     "data": {
      "text/plain": [
       "2623675.34888779"
      ]
     },
     "metadata": {},
     "output_type": "display_data"
    },
    {
     "data": {
      "text/plain": [
       "'Recreation index (max minimum over yrs)'"
      ]
     },
     "metadata": {},
     "output_type": "display_data"
    },
    {
     "data": {
      "text/plain": [
       "7561654.832429445"
      ]
     },
     "metadata": {},
     "output_type": "display_data"
    },
    {
     "data": {
      "text/plain": [
       "'Scenic index (max minimum over yrs)'"
      ]
     },
     "metadata": {},
     "output_type": "display_data"
    },
    {
     "data": {
      "text/plain": [
       "6976913.5435826145"
      ]
     },
     "metadata": {},
     "output_type": "display_data"
    },
    {
     "data": {
      "text/plain": [
       "'Average Bilberry yield (kg/ha)'"
      ]
     },
     "metadata": {},
     "output_type": "display_data"
    },
    {
     "data": {
      "text/plain": [
       "6.676306130428266"
      ]
     },
     "metadata": {},
     "output_type": "display_data"
    },
    {
     "data": {
      "text/plain": [
       "'Average Cowberry yield (kg/ha)'"
      ]
     },
     "metadata": {},
     "output_type": "display_data"
    },
    {
     "data": {
      "text/plain": [
       "32.37842873450768"
      ]
     },
     "metadata": {},
     "output_type": "display_data"
    },
    {
     "data": {
      "text/plain": [
       "'Average mushroom yield (kg/ha)'"
      ]
     },
     "metadata": {},
     "output_type": "display_data"
    },
    {
     "data": {
      "text/plain": [
       "14.611640618210433"
      ]
     },
     "metadata": {},
     "output_type": "display_data"
    },
    {
     "name": "stdout",
     "output_type": "stream",
     "text": [
      "\r",
      " 79%|███████▊  | 11/14 [02:36<00:43, 14.55s/it]"
     ]
    },
    {
     "data": {
      "text/plain": [
       "'Optimizing for Average Bilberry yield (kg/ha)'"
      ]
     },
     "metadata": {},
     "output_type": "display_data"
    },
    {
     "data": {
      "text/plain": [
       "'Found an optimal solution in 3 seconds'"
      ]
     },
     "metadata": {},
     "output_type": "display_data"
    },
    {
     "data": {
      "text/plain": [
       "'Objective values are:'"
      ]
     },
     "metadata": {},
     "output_type": "display_data"
    },
    {
     "data": {
      "text/plain": [
       "'Ratio of protected areas (%, SA forests)'"
      ]
     },
     "metadata": {},
     "output_type": "display_data"
    },
    {
     "data": {
      "text/plain": [
       "0.2232467169600489"
      ]
     },
     "metadata": {},
     "output_type": "display_data"
    },
    {
     "data": {
      "text/plain": [
       "'Ratio of additional strictly protected forest (%, set aside)'"
      ]
     },
     "metadata": {},
     "output_type": "display_data"
    },
    {
     "data": {
      "text/plain": [
       "0.02347024308466047"
      ]
     },
     "metadata": {},
     "output_type": "display_data"
    },
    {
     "data": {
      "text/plain": [
       "'Ratio of forest under protection regimes (%, CCF_3, CCF_4 and BAUwGTR)'"
      ]
     },
     "metadata": {},
     "output_type": "display_data"
    },
    {
     "data": {
      "text/plain": [
       "0.36127409891032075"
      ]
     },
     "metadata": {},
     "output_type": "display_data"
    },
    {
     "data": {
      "text/plain": [
       "'Maximise large trees in protected areas (m3)'"
      ]
     },
     "metadata": {},
     "output_type": "display_data"
    },
    {
     "data": {
      "text/plain": [
       "0.0"
      ]
     },
     "metadata": {},
     "output_type": "display_data"
    },
    {
     "data": {
      "text/plain": [
       "'Average deadwood volume (m3/ha)'"
      ]
     },
     "metadata": {},
     "output_type": "display_data"
    },
    {
     "data": {
      "text/plain": [
       "4.724794635373014"
      ]
     },
     "metadata": {},
     "output_type": "display_data"
    },
    {
     "data": {
      "text/plain": [
       "'Share of deciduous trees (% of standing volume)'"
      ]
     },
     "metadata": {},
     "output_type": "display_data"
    },
    {
     "data": {
      "text/plain": [
       "20.122101145571325"
      ]
     },
     "metadata": {},
     "output_type": "display_data"
    },
    {
     "data": {
      "text/plain": [
       "'Average harvested timber volume (log & pulp) (m3/ha, evenflow)'"
      ]
     },
     "metadata": {},
     "output_type": "display_data"
    },
    {
     "data": {
      "text/plain": [
       "2.067362391729534"
      ]
     },
     "metadata": {},
     "output_type": "display_data"
    },
    {
     "data": {
      "text/plain": [
       "'Average harvested biomass volume (m3/ha, evenflow)'"
      ]
     },
     "metadata": {},
     "output_type": "display_data"
    },
    {
     "data": {
      "text/plain": [
       "0.029860296172115112"
      ]
     },
     "metadata": {},
     "output_type": "display_data"
    },
    {
     "data": {
      "text/plain": [
       "'Sequestration in carbon dioxide (t CO2)'"
      ]
     },
     "metadata": {},
     "output_type": "display_data"
    },
    {
     "data": {
      "text/plain": [
       "1130980.1306500023"
      ]
     },
     "metadata": {},
     "output_type": "display_data"
    },
    {
     "data": {
      "text/plain": [
       "'Recreation index (max minimum over yrs)'"
      ]
     },
     "metadata": {},
     "output_type": "display_data"
    },
    {
     "data": {
      "text/plain": [
       "7198598.926999988"
      ]
     },
     "metadata": {},
     "output_type": "display_data"
    },
    {
     "data": {
      "text/plain": [
       "'Scenic index (max minimum over yrs)'"
      ]
     },
     "metadata": {},
     "output_type": "display_data"
    },
    {
     "data": {
      "text/plain": [
       "6624638.161999993"
      ]
     },
     "metadata": {},
     "output_type": "display_data"
    },
    {
     "data": {
      "text/plain": [
       "'Average Bilberry yield (kg/ha)'"
      ]
     },
     "metadata": {},
     "output_type": "display_data"
    },
    {
     "data": {
      "text/plain": [
       "8.497726459905"
      ]
     },
     "metadata": {},
     "output_type": "display_data"
    },
    {
     "data": {
      "text/plain": [
       "'Average Cowberry yield (kg/ha)'"
      ]
     },
     "metadata": {},
     "output_type": "display_data"
    },
    {
     "data": {
      "text/plain": [
       "32.92288823693774"
      ]
     },
     "metadata": {},
     "output_type": "display_data"
    },
    {
     "data": {
      "text/plain": [
       "'Average mushroom yield (kg/ha)'"
      ]
     },
     "metadata": {},
     "output_type": "display_data"
    },
    {
     "data": {
      "text/plain": [
       "14.256697401508688"
      ]
     },
     "metadata": {},
     "output_type": "display_data"
    },
    {
     "name": "stdout",
     "output_type": "stream",
     "text": [
      "\r",
      " 86%|████████▌ | 12/14 [02:51<00:29, 14.78s/it]"
     ]
    },
    {
     "data": {
      "text/plain": [
       "'Optimizing for Average Cowberry yield (kg/ha)'"
      ]
     },
     "metadata": {},
     "output_type": "display_data"
    },
    {
     "data": {
      "text/plain": [
       "'Found an optimal solution in 3 seconds'"
      ]
     },
     "metadata": {},
     "output_type": "display_data"
    },
    {
     "data": {
      "text/plain": [
       "'Objective values are:'"
      ]
     },
     "metadata": {},
     "output_type": "display_data"
    },
    {
     "data": {
      "text/plain": [
       "'Ratio of protected areas (%, SA forests)'"
      ]
     },
     "metadata": {},
     "output_type": "display_data"
    },
    {
     "data": {
      "text/plain": [
       "0.05588153115395347"
      ]
     },
     "metadata": {},
     "output_type": "display_data"
    },
    {
     "data": {
      "text/plain": [
       "'Ratio of additional strictly protected forest (%, set aside)'"
      ]
     },
     "metadata": {},
     "output_type": "display_data"
    },
    {
     "data": {
      "text/plain": [
       "0.0016764459346186086"
      ]
     },
     "metadata": {},
     "output_type": "display_data"
    },
    {
     "data": {
      "text/plain": [
       "'Ratio of forest under protection regimes (%, CCF_3, CCF_4 and BAUwGTR)'"
      ]
     },
     "metadata": {},
     "output_type": "display_data"
    },
    {
     "data": {
      "text/plain": [
       "0.026029412450687683"
      ]
     },
     "metadata": {},
     "output_type": "display_data"
    },
    {
     "data": {
      "text/plain": [
       "'Maximise large trees in protected areas (m3)'"
      ]
     },
     "metadata": {},
     "output_type": "display_data"
    },
    {
     "data": {
      "text/plain": [
       "0.0"
      ]
     },
     "metadata": {},
     "output_type": "display_data"
    },
    {
     "data": {
      "text/plain": [
       "'Average deadwood volume (m3/ha)'"
      ]
     },
     "metadata": {},
     "output_type": "display_data"
    },
    {
     "data": {
      "text/plain": [
       "2.82314916715712"
      ]
     },
     "metadata": {},
     "output_type": "display_data"
    },
    {
     "data": {
      "text/plain": [
       "'Share of deciduous trees (% of standing volume)'"
      ]
     },
     "metadata": {},
     "output_type": "display_data"
    },
    {
     "data": {
      "text/plain": [
       "4.64786299026291"
      ]
     },
     "metadata": {},
     "output_type": "display_data"
    },
    {
     "data": {
      "text/plain": [
       "'Average harvested timber volume (log & pulp) (m3/ha, evenflow)'"
      ]
     },
     "metadata": {},
     "output_type": "display_data"
    },
    {
     "data": {
      "text/plain": [
       "2.590385785837599"
      ]
     },
     "metadata": {},
     "output_type": "display_data"
    },
    {
     "data": {
      "text/plain": [
       "'Average harvested biomass volume (m3/ha, evenflow)'"
      ]
     },
     "metadata": {},
     "output_type": "display_data"
    },
    {
     "data": {
      "text/plain": [
       "0.30851654026467396"
      ]
     },
     "metadata": {},
     "output_type": "display_data"
    },
    {
     "data": {
      "text/plain": [
       "'Sequestration in carbon dioxide (t CO2)'"
      ]
     },
     "metadata": {},
     "output_type": "display_data"
    },
    {
     "data": {
      "text/plain": [
       "-2626323.3428591928"
      ]
     },
     "metadata": {},
     "output_type": "display_data"
    },
    {
     "data": {
      "text/plain": [
       "'Recreation index (max minimum over yrs)'"
      ]
     },
     "metadata": {},
     "output_type": "display_data"
    },
    {
     "data": {
      "text/plain": [
       "6217613.5531619815"
      ]
     },
     "metadata": {},
     "output_type": "display_data"
    },
    {
     "data": {
      "text/plain": [
       "'Scenic index (max minimum over yrs)'"
      ]
     },
     "metadata": {},
     "output_type": "display_data"
    },
    {
     "data": {
      "text/plain": [
       "5546910.8146055285"
      ]
     },
     "metadata": {},
     "output_type": "display_data"
    },
    {
     "data": {
      "text/plain": [
       "'Average Bilberry yield (kg/ha)'"
      ]
     },
     "metadata": {},
     "output_type": "display_data"
    },
    {
     "data": {
      "text/plain": [
       "3.995789567633512"
      ]
     },
     "metadata": {},
     "output_type": "display_data"
    },
    {
     "data": {
      "text/plain": [
       "'Average Cowberry yield (kg/ha)'"
      ]
     },
     "metadata": {},
     "output_type": "display_data"
    },
    {
     "data": {
      "text/plain": [
       "48.6303979966456"
      ]
     },
     "metadata": {},
     "output_type": "display_data"
    },
    {
     "data": {
      "text/plain": [
       "'Average mushroom yield (kg/ha)'"
      ]
     },
     "metadata": {},
     "output_type": "display_data"
    },
    {
     "data": {
      "text/plain": [
       "16.97191684078717"
      ]
     },
     "metadata": {},
     "output_type": "display_data"
    },
    {
     "name": "stdout",
     "output_type": "stream",
     "text": [
      "\r",
      " 93%|█████████▎| 13/14 [03:07<00:15, 15.24s/it]"
     ]
    },
    {
     "data": {
      "text/plain": [
       "'Optimizing for Average mushroom yield (kg/ha)'"
      ]
     },
     "metadata": {},
     "output_type": "display_data"
    },
    {
     "data": {
      "text/plain": [
       "'Found an optimal solution in 6 seconds'"
      ]
     },
     "metadata": {},
     "output_type": "display_data"
    },
    {
     "data": {
      "text/plain": [
       "'Objective values are:'"
      ]
     },
     "metadata": {},
     "output_type": "display_data"
    },
    {
     "data": {
      "text/plain": [
       "'Ratio of protected areas (%, SA forests)'"
      ]
     },
     "metadata": {},
     "output_type": "display_data"
    },
    {
     "data": {
      "text/plain": [
       "0.14290741491231376"
      ]
     },
     "metadata": {},
     "output_type": "display_data"
    },
    {
     "data": {
      "text/plain": [
       "'Ratio of additional strictly protected forest (%, set aside)'"
      ]
     },
     "metadata": {},
     "output_type": "display_data"
    },
    {
     "data": {
      "text/plain": [
       "0.003073484213467449"
      ]
     },
     "metadata": {},
     "output_type": "display_data"
    },
    {
     "data": {
      "text/plain": [
       "'Ratio of forest under protection regimes (%, CCF_3, CCF_4 and BAUwGTR)'"
      ]
     },
     "metadata": {},
     "output_type": "display_data"
    },
    {
     "data": {
      "text/plain": [
       "0.019279128248113963"
      ]
     },
     "metadata": {},
     "output_type": "display_data"
    },
    {
     "data": {
      "text/plain": [
       "'Maximise large trees in protected areas (m3)'"
      ]
     },
     "metadata": {},
     "output_type": "display_data"
    },
    {
     "data": {
      "text/plain": [
       "0.0"
      ]
     },
     "metadata": {},
     "output_type": "display_data"
    },
    {
     "data": {
      "text/plain": [
       "'Average deadwood volume (m3/ha)'"
      ]
     },
     "metadata": {},
     "output_type": "display_data"
    },
    {
     "data": {
      "text/plain": [
       "3.9214542552046705"
      ]
     },
     "metadata": {},
     "output_type": "display_data"
    },
    {
     "data": {
      "text/plain": [
       "'Share of deciduous trees (% of standing volume)'"
      ]
     },
     "metadata": {},
     "output_type": "display_data"
    },
    {
     "data": {
      "text/plain": [
       "4.406108201466599"
      ]
     },
     "metadata": {},
     "output_type": "display_data"
    },
    {
     "data": {
      "text/plain": [
       "'Average harvested timber volume (log & pulp) (m3/ha, evenflow)'"
      ]
     },
     "metadata": {},
     "output_type": "display_data"
    },
    {
     "data": {
      "text/plain": [
       "0.40091639429539183"
      ]
     },
     "metadata": {},
     "output_type": "display_data"
    },
    {
     "data": {
      "text/plain": [
       "'Average harvested biomass volume (m3/ha, evenflow)'"
      ]
     },
     "metadata": {},
     "output_type": "display_data"
    },
    {
     "data": {
      "text/plain": [
       "0.04554871402465238"
      ]
     },
     "metadata": {},
     "output_type": "display_data"
    },
    {
     "data": {
      "text/plain": [
       "'Sequestration in carbon dioxide (t CO2)'"
      ]
     },
     "metadata": {},
     "output_type": "display_data"
    },
    {
     "data": {
      "text/plain": [
       "-2734638.856908449"
      ]
     },
     "metadata": {},
     "output_type": "display_data"
    },
    {
     "data": {
      "text/plain": [
       "'Recreation index (max minimum over yrs)'"
      ]
     },
     "metadata": {},
     "output_type": "display_data"
    },
    {
     "data": {
      "text/plain": [
       "7027457.377792226"
      ]
     },
     "metadata": {},
     "output_type": "display_data"
    },
    {
     "data": {
      "text/plain": [
       "'Scenic index (max minimum over yrs)'"
      ]
     },
     "metadata": {},
     "output_type": "display_data"
    },
    {
     "data": {
      "text/plain": [
       "6331127.738473495"
      ]
     },
     "metadata": {},
     "output_type": "display_data"
    },
    {
     "data": {
      "text/plain": [
       "'Average Bilberry yield (kg/ha)'"
      ]
     },
     "metadata": {},
     "output_type": "display_data"
    },
    {
     "data": {
      "text/plain": [
       "2.9830008365265863"
      ]
     },
     "metadata": {},
     "output_type": "display_data"
    },
    {
     "data": {
      "text/plain": [
       "'Average Cowberry yield (kg/ha)'"
      ]
     },
     "metadata": {},
     "output_type": "display_data"
    },
    {
     "data": {
      "text/plain": [
       "37.472018903963935"
      ]
     },
     "metadata": {},
     "output_type": "display_data"
    },
    {
     "data": {
      "text/plain": [
       "'Average mushroom yield (kg/ha)'"
      ]
     },
     "metadata": {},
     "output_type": "display_data"
    },
    {
     "data": {
      "text/plain": [
       "19.22524688919624"
      ]
     },
     "metadata": {},
     "output_type": "display_data"
    },
    {
     "name": "stdout",
     "output_type": "stream",
     "text": [
      "100%|██████████| 14/14 [03:26<00:00, 14.78s/it]\n",
      "CPU times: user 3min 10s, sys: 2min 58s, total: 6min 8s\n",
      "Wall time: 3min 26s\n"
     ]
    }
   ],
   "source": [
    "%%time\n",
    "mfo.calculateObjectiveRanges(debug=True)"
   ]
  },
  {
   "cell_type": "code",
   "execution_count": 41,
   "metadata": {},
   "outputs": [
    {
     "data": {
      "text/plain": [
       "{'Ratio_SA_forests': (0.05588153115395347, 0.999999999999941),\n",
       " 'Ratio_strictly_protected': (0.0016764459346186086, 0.0718077675328302),\n",
       " 'Ratio_protection_regimes': (0.0, 0.9424420229113776),\n",
       " 'Total_Large_trees': (0.0, 34233.31),\n",
       " 'Avg_Deadwood_V': (2.6512304424563373, 6.6155099189717665),\n",
       " 'Avg_prc_V_deciduous': (2.9847244342079295, 23.7457128387817),\n",
       " 'Avg_Harvested_V': (0.0, 5.787990468657745),\n",
       " 'Avg_Biomass': (0.0, 0.7047570741828348),\n",
       " 'Total_CARBON_SINK': (-4597618.947550022, 9935691.194801226),\n",
       " 'Total_Recreation': (6217613.5531619815, 7578949.143999992),\n",
       " 'Total_Scenic': (5546910.8146055285, 6976913.5435826145),\n",
       " 'Avg_BILBERRY': (2.9830008365265863, 8.497726459905),\n",
       " 'Avg_COWBERRY': (26.132912230010323, 48.6303979966456),\n",
       " 'Avg_ALL_MARKETED_MUSHROOMS': (12.716789606035217, 19.22524688919624)}"
      ]
     },
     "execution_count": 41,
     "metadata": {},
     "output_type": "execute_result"
    }
   ],
   "source": [
    "mfo.objectiveRanges"
   ]
  },
  {
   "cell_type": "markdown",
   "metadata": {},
   "source": [
    "## Show GUI"
   ]
  },
  {
   "cell_type": "markdown",
   "metadata": {},
   "source": [
    "* If \"Enabled constraints\" should be considered, start with ticking box \"only CCF ...\" and push \"Change constraints\"\n",
    "* Epsilon constraints are only considered if sliders are moved and button \"Set epsilon constraints\" is pushed\n",
    "* By pushing \"OPTIMIZE\" an optimal solution under the given constraints and reference points is searched"
   ]
  },
  {
   "cell_type": "code",
   "execution_count": 42,
   "metadata": {},
   "outputs": [
    {
     "data": {
      "text/html": [
       "<style>\n",
       "            .widget-label { min-width: 60% !important; }\n",
       "        </style>"
      ],
      "text/plain": [
       "<IPython.core.display.HTML object>"
      ]
     },
     "metadata": {},
     "output_type": "display_data"
    },
    {
     "data": {
      "text/html": [
       "<h2>Epsilon constraint values</h2>"
      ],
      "text/plain": [
       "<IPython.core.display.HTML object>"
      ]
     },
     "metadata": {},
     "output_type": "display_data"
    },
    {
     "data": {
      "application/vnd.jupyter.widget-view+json": {
       "model_id": "3063a7c5c4e140a2b676134268f51039",
       "version_major": 2,
       "version_minor": 0
      },
      "text/plain": [
       "interactive(children=(FloatSlider(value=0.05588153115395347, description='Ratio of protected areas (%, SA fore…"
      ]
     },
     "metadata": {},
     "output_type": "display_data"
    },
    {
     "data": {
      "text/html": [
       "<h2>Reference point</h2>"
      ],
      "text/plain": [
       "<IPython.core.display.HTML object>"
      ]
     },
     "metadata": {},
     "output_type": "display_data"
    },
    {
     "data": {
      "application/vnd.jupyter.widget-view+json": {
       "model_id": "60dab5a88af24679bf745ca100719224",
       "version_major": 2,
       "version_minor": 0
      },
      "text/plain": [
       "interactive(children=(FloatSlider(value=0.5279407655769472, description='Ratio of protected areas (%, SA fores…"
      ]
     },
     "metadata": {},
     "output_type": "display_data"
    },
    {
     "data": {
      "text/html": [
       "<h2>Enabled constraints</h2>"
      ],
      "text/plain": [
       "<IPython.core.display.HTML object>"
      ]
     },
     "metadata": {},
     "output_type": "display_data"
    },
    {
     "data": {
      "application/vnd.jupyter.widget-view+json": {
       "model_id": "374a624137c34898ada43c43a51a109a",
       "version_major": 2,
       "version_minor": 0
      },
      "text/plain": [
       "interactive(children=(Checkbox(value=False, description='Only CCF on peat lands'), Button(description='Change …"
      ]
     },
     "metadata": {},
     "output_type": "display_data"
    },
    {
     "data": {
      "application/vnd.jupyter.widget-view+json": {
       "model_id": "7b4b4a925b224b95b7ac102bf569f1f1",
       "version_major": 2,
       "version_minor": 0
      },
      "text/plain": [
       "Button(description='Print solution', style=ButtonStyle())"
      ]
     },
     "metadata": {},
     "output_type": "display_data"
    }
   ],
   "source": [
    "mfo.showGUI(debug=True)"
   ]
  },
  {
   "cell_type": "markdown",
   "metadata": {},
   "source": [
    "## Visualization of optimal solution"
   ]
  },
  {
   "cell_type": "code",
   "execution_count": 43,
   "metadata": {},
   "outputs": [],
   "source": [
    "regimeAmounts = {regime:0 for regime in mfo.regimes}\n",
    "for key in mfo.regimesDecision.keys():\n",
    "    regimeAmounts[key[1]] +=mfo.regimesDecision[key].solution_value()*mfo.standAreas.loc[key[0],\"represented_area_by_NFIplot\"]/mfo.standAreas[\"represented_area_by_NFIplot\"].sum()"
   ]
  },
  {
   "cell_type": "code",
   "execution_count": 44,
   "metadata": {},
   "outputs": [
    {
     "name": "stdout",
     "output_type": "stream",
     "text": [
      "Populating the interactive namespace from numpy and matplotlib\n"
     ]
    }
   ],
   "source": [
    "%pylab notebook"
   ]
  },
  {
   "cell_type": "code",
   "execution_count": 45,
   "metadata": {},
   "outputs": [],
   "source": [
    "#[val for val in regimeAmounts.values()]"
   ]
  },
  {
   "cell_type": "code",
   "execution_count": 46,
   "metadata": {},
   "outputs": [
    {
     "data": {
      "application/javascript": [
       "/* Put everything inside the global mpl namespace */\n",
       "window.mpl = {};\n",
       "\n",
       "\n",
       "mpl.get_websocket_type = function() {\n",
       "    if (typeof(WebSocket) !== 'undefined') {\n",
       "        return WebSocket;\n",
       "    } else if (typeof(MozWebSocket) !== 'undefined') {\n",
       "        return MozWebSocket;\n",
       "    } else {\n",
       "        alert('Your browser does not have WebSocket support. ' +\n",
       "              'Please try Chrome, Safari or Firefox ≥ 6. ' +\n",
       "              'Firefox 4 and 5 are also supported but you ' +\n",
       "              'have to enable WebSockets in about:config.');\n",
       "    };\n",
       "}\n",
       "\n",
       "mpl.figure = function(figure_id, websocket, ondownload, parent_element) {\n",
       "    this.id = figure_id;\n",
       "\n",
       "    this.ws = websocket;\n",
       "\n",
       "    this.supports_binary = (this.ws.binaryType != undefined);\n",
       "\n",
       "    if (!this.supports_binary) {\n",
       "        var warnings = document.getElementById(\"mpl-warnings\");\n",
       "        if (warnings) {\n",
       "            warnings.style.display = 'block';\n",
       "            warnings.textContent = (\n",
       "                \"This browser does not support binary websocket messages. \" +\n",
       "                    \"Performance may be slow.\");\n",
       "        }\n",
       "    }\n",
       "\n",
       "    this.imageObj = new Image();\n",
       "\n",
       "    this.context = undefined;\n",
       "    this.message = undefined;\n",
       "    this.canvas = undefined;\n",
       "    this.rubberband_canvas = undefined;\n",
       "    this.rubberband_context = undefined;\n",
       "    this.format_dropdown = undefined;\n",
       "\n",
       "    this.image_mode = 'full';\n",
       "\n",
       "    this.root = $('<div/>');\n",
       "    this._root_extra_style(this.root)\n",
       "    this.root.attr('style', 'display: inline-block');\n",
       "\n",
       "    $(parent_element).append(this.root);\n",
       "\n",
       "    this._init_header(this);\n",
       "    this._init_canvas(this);\n",
       "    this._init_toolbar(this);\n",
       "\n",
       "    var fig = this;\n",
       "\n",
       "    this.waiting = false;\n",
       "\n",
       "    this.ws.onopen =  function () {\n",
       "            fig.send_message(\"supports_binary\", {value: fig.supports_binary});\n",
       "            fig.send_message(\"send_image_mode\", {});\n",
       "            if (mpl.ratio != 1) {\n",
       "                fig.send_message(\"set_dpi_ratio\", {'dpi_ratio': mpl.ratio});\n",
       "            }\n",
       "            fig.send_message(\"refresh\", {});\n",
       "        }\n",
       "\n",
       "    this.imageObj.onload = function() {\n",
       "            if (fig.image_mode == 'full') {\n",
       "                // Full images could contain transparency (where diff images\n",
       "                // almost always do), so we need to clear the canvas so that\n",
       "                // there is no ghosting.\n",
       "                fig.context.clearRect(0, 0, fig.canvas.width, fig.canvas.height);\n",
       "            }\n",
       "            fig.context.drawImage(fig.imageObj, 0, 0);\n",
       "        };\n",
       "\n",
       "    this.imageObj.onunload = function() {\n",
       "        fig.ws.close();\n",
       "    }\n",
       "\n",
       "    this.ws.onmessage = this._make_on_message_function(this);\n",
       "\n",
       "    this.ondownload = ondownload;\n",
       "}\n",
       "\n",
       "mpl.figure.prototype._init_header = function() {\n",
       "    var titlebar = $(\n",
       "        '<div class=\"ui-dialog-titlebar ui-widget-header ui-corner-all ' +\n",
       "        'ui-helper-clearfix\"/>');\n",
       "    var titletext = $(\n",
       "        '<div class=\"ui-dialog-title\" style=\"width: 100%; ' +\n",
       "        'text-align: center; padding: 3px;\"/>');\n",
       "    titlebar.append(titletext)\n",
       "    this.root.append(titlebar);\n",
       "    this.header = titletext[0];\n",
       "}\n",
       "\n",
       "\n",
       "\n",
       "mpl.figure.prototype._canvas_extra_style = function(canvas_div) {\n",
       "\n",
       "}\n",
       "\n",
       "\n",
       "mpl.figure.prototype._root_extra_style = function(canvas_div) {\n",
       "\n",
       "}\n",
       "\n",
       "mpl.figure.prototype._init_canvas = function() {\n",
       "    var fig = this;\n",
       "\n",
       "    var canvas_div = $('<div/>');\n",
       "\n",
       "    canvas_div.attr('style', 'position: relative; clear: both; outline: 0');\n",
       "\n",
       "    function canvas_keyboard_event(event) {\n",
       "        return fig.key_event(event, event['data']);\n",
       "    }\n",
       "\n",
       "    canvas_div.keydown('key_press', canvas_keyboard_event);\n",
       "    canvas_div.keyup('key_release', canvas_keyboard_event);\n",
       "    this.canvas_div = canvas_div\n",
       "    this._canvas_extra_style(canvas_div)\n",
       "    this.root.append(canvas_div);\n",
       "\n",
       "    var canvas = $('<canvas/>');\n",
       "    canvas.addClass('mpl-canvas');\n",
       "    canvas.attr('style', \"left: 0; top: 0; z-index: 0; outline: 0\")\n",
       "\n",
       "    this.canvas = canvas[0];\n",
       "    this.context = canvas[0].getContext(\"2d\");\n",
       "\n",
       "    var backingStore = this.context.backingStorePixelRatio ||\n",
       "\tthis.context.webkitBackingStorePixelRatio ||\n",
       "\tthis.context.mozBackingStorePixelRatio ||\n",
       "\tthis.context.msBackingStorePixelRatio ||\n",
       "\tthis.context.oBackingStorePixelRatio ||\n",
       "\tthis.context.backingStorePixelRatio || 1;\n",
       "\n",
       "    mpl.ratio = (window.devicePixelRatio || 1) / backingStore;\n",
       "\n",
       "    var rubberband = $('<canvas/>');\n",
       "    rubberband.attr('style', \"position: absolute; left: 0; top: 0; z-index: 1;\")\n",
       "\n",
       "    var pass_mouse_events = true;\n",
       "\n",
       "    canvas_div.resizable({\n",
       "        start: function(event, ui) {\n",
       "            pass_mouse_events = false;\n",
       "        },\n",
       "        resize: function(event, ui) {\n",
       "            fig.request_resize(ui.size.width, ui.size.height);\n",
       "        },\n",
       "        stop: function(event, ui) {\n",
       "            pass_mouse_events = true;\n",
       "            fig.request_resize(ui.size.width, ui.size.height);\n",
       "        },\n",
       "    });\n",
       "\n",
       "    function mouse_event_fn(event) {\n",
       "        if (pass_mouse_events)\n",
       "            return fig.mouse_event(event, event['data']);\n",
       "    }\n",
       "\n",
       "    rubberband.mousedown('button_press', mouse_event_fn);\n",
       "    rubberband.mouseup('button_release', mouse_event_fn);\n",
       "    // Throttle sequential mouse events to 1 every 20ms.\n",
       "    rubberband.mousemove('motion_notify', mouse_event_fn);\n",
       "\n",
       "    rubberband.mouseenter('figure_enter', mouse_event_fn);\n",
       "    rubberband.mouseleave('figure_leave', mouse_event_fn);\n",
       "\n",
       "    canvas_div.on(\"wheel\", function (event) {\n",
       "        event = event.originalEvent;\n",
       "        event['data'] = 'scroll'\n",
       "        if (event.deltaY < 0) {\n",
       "            event.step = 1;\n",
       "        } else {\n",
       "            event.step = -1;\n",
       "        }\n",
       "        mouse_event_fn(event);\n",
       "    });\n",
       "\n",
       "    canvas_div.append(canvas);\n",
       "    canvas_div.append(rubberband);\n",
       "\n",
       "    this.rubberband = rubberband;\n",
       "    this.rubberband_canvas = rubberband[0];\n",
       "    this.rubberband_context = rubberband[0].getContext(\"2d\");\n",
       "    this.rubberband_context.strokeStyle = \"#000000\";\n",
       "\n",
       "    this._resize_canvas = function(width, height) {\n",
       "        // Keep the size of the canvas, canvas container, and rubber band\n",
       "        // canvas in synch.\n",
       "        canvas_div.css('width', width)\n",
       "        canvas_div.css('height', height)\n",
       "\n",
       "        canvas.attr('width', width * mpl.ratio);\n",
       "        canvas.attr('height', height * mpl.ratio);\n",
       "        canvas.attr('style', 'width: ' + width + 'px; height: ' + height + 'px;');\n",
       "\n",
       "        rubberband.attr('width', width);\n",
       "        rubberband.attr('height', height);\n",
       "    }\n",
       "\n",
       "    // Set the figure to an initial 600x600px, this will subsequently be updated\n",
       "    // upon first draw.\n",
       "    this._resize_canvas(600, 600);\n",
       "\n",
       "    // Disable right mouse context menu.\n",
       "    $(this.rubberband_canvas).bind(\"contextmenu\",function(e){\n",
       "        return false;\n",
       "    });\n",
       "\n",
       "    function set_focus () {\n",
       "        canvas.focus();\n",
       "        canvas_div.focus();\n",
       "    }\n",
       "\n",
       "    window.setTimeout(set_focus, 100);\n",
       "}\n",
       "\n",
       "mpl.figure.prototype._init_toolbar = function() {\n",
       "    var fig = this;\n",
       "\n",
       "    var nav_element = $('<div/>');\n",
       "    nav_element.attr('style', 'width: 100%');\n",
       "    this.root.append(nav_element);\n",
       "\n",
       "    // Define a callback function for later on.\n",
       "    function toolbar_event(event) {\n",
       "        return fig.toolbar_button_onclick(event['data']);\n",
       "    }\n",
       "    function toolbar_mouse_event(event) {\n",
       "        return fig.toolbar_button_onmouseover(event['data']);\n",
       "    }\n",
       "\n",
       "    for(var toolbar_ind in mpl.toolbar_items) {\n",
       "        var name = mpl.toolbar_items[toolbar_ind][0];\n",
       "        var tooltip = mpl.toolbar_items[toolbar_ind][1];\n",
       "        var image = mpl.toolbar_items[toolbar_ind][2];\n",
       "        var method_name = mpl.toolbar_items[toolbar_ind][3];\n",
       "\n",
       "        if (!name) {\n",
       "            // put a spacer in here.\n",
       "            continue;\n",
       "        }\n",
       "        var button = $('<button/>');\n",
       "        button.addClass('ui-button ui-widget ui-state-default ui-corner-all ' +\n",
       "                        'ui-button-icon-only');\n",
       "        button.attr('role', 'button');\n",
       "        button.attr('aria-disabled', 'false');\n",
       "        button.click(method_name, toolbar_event);\n",
       "        button.mouseover(tooltip, toolbar_mouse_event);\n",
       "\n",
       "        var icon_img = $('<span/>');\n",
       "        icon_img.addClass('ui-button-icon-primary ui-icon');\n",
       "        icon_img.addClass(image);\n",
       "        icon_img.addClass('ui-corner-all');\n",
       "\n",
       "        var tooltip_span = $('<span/>');\n",
       "        tooltip_span.addClass('ui-button-text');\n",
       "        tooltip_span.html(tooltip);\n",
       "\n",
       "        button.append(icon_img);\n",
       "        button.append(tooltip_span);\n",
       "\n",
       "        nav_element.append(button);\n",
       "    }\n",
       "\n",
       "    var fmt_picker_span = $('<span/>');\n",
       "\n",
       "    var fmt_picker = $('<select/>');\n",
       "    fmt_picker.addClass('mpl-toolbar-option ui-widget ui-widget-content');\n",
       "    fmt_picker_span.append(fmt_picker);\n",
       "    nav_element.append(fmt_picker_span);\n",
       "    this.format_dropdown = fmt_picker[0];\n",
       "\n",
       "    for (var ind in mpl.extensions) {\n",
       "        var fmt = mpl.extensions[ind];\n",
       "        var option = $(\n",
       "            '<option/>', {selected: fmt === mpl.default_extension}).html(fmt);\n",
       "        fmt_picker.append(option);\n",
       "    }\n",
       "\n",
       "    // Add hover states to the ui-buttons\n",
       "    $( \".ui-button\" ).hover(\n",
       "        function() { $(this).addClass(\"ui-state-hover\");},\n",
       "        function() { $(this).removeClass(\"ui-state-hover\");}\n",
       "    );\n",
       "\n",
       "    var status_bar = $('<span class=\"mpl-message\"/>');\n",
       "    nav_element.append(status_bar);\n",
       "    this.message = status_bar[0];\n",
       "}\n",
       "\n",
       "mpl.figure.prototype.request_resize = function(x_pixels, y_pixels) {\n",
       "    // Request matplotlib to resize the figure. Matplotlib will then trigger a resize in the client,\n",
       "    // which will in turn request a refresh of the image.\n",
       "    this.send_message('resize', {'width': x_pixels, 'height': y_pixels});\n",
       "}\n",
       "\n",
       "mpl.figure.prototype.send_message = function(type, properties) {\n",
       "    properties['type'] = type;\n",
       "    properties['figure_id'] = this.id;\n",
       "    this.ws.send(JSON.stringify(properties));\n",
       "}\n",
       "\n",
       "mpl.figure.prototype.send_draw_message = function() {\n",
       "    if (!this.waiting) {\n",
       "        this.waiting = true;\n",
       "        this.ws.send(JSON.stringify({type: \"draw\", figure_id: this.id}));\n",
       "    }\n",
       "}\n",
       "\n",
       "\n",
       "mpl.figure.prototype.handle_save = function(fig, msg) {\n",
       "    var format_dropdown = fig.format_dropdown;\n",
       "    var format = format_dropdown.options[format_dropdown.selectedIndex].value;\n",
       "    fig.ondownload(fig, format);\n",
       "}\n",
       "\n",
       "\n",
       "mpl.figure.prototype.handle_resize = function(fig, msg) {\n",
       "    var size = msg['size'];\n",
       "    if (size[0] != fig.canvas.width || size[1] != fig.canvas.height) {\n",
       "        fig._resize_canvas(size[0], size[1]);\n",
       "        fig.send_message(\"refresh\", {});\n",
       "    };\n",
       "}\n",
       "\n",
       "mpl.figure.prototype.handle_rubberband = function(fig, msg) {\n",
       "    var x0 = msg['x0'] / mpl.ratio;\n",
       "    var y0 = (fig.canvas.height - msg['y0']) / mpl.ratio;\n",
       "    var x1 = msg['x1'] / mpl.ratio;\n",
       "    var y1 = (fig.canvas.height - msg['y1']) / mpl.ratio;\n",
       "    x0 = Math.floor(x0) + 0.5;\n",
       "    y0 = Math.floor(y0) + 0.5;\n",
       "    x1 = Math.floor(x1) + 0.5;\n",
       "    y1 = Math.floor(y1) + 0.5;\n",
       "    var min_x = Math.min(x0, x1);\n",
       "    var min_y = Math.min(y0, y1);\n",
       "    var width = Math.abs(x1 - x0);\n",
       "    var height = Math.abs(y1 - y0);\n",
       "\n",
       "    fig.rubberband_context.clearRect(\n",
       "        0, 0, fig.canvas.width / mpl.ratio, fig.canvas.height / mpl.ratio);\n",
       "\n",
       "    fig.rubberband_context.strokeRect(min_x, min_y, width, height);\n",
       "}\n",
       "\n",
       "mpl.figure.prototype.handle_figure_label = function(fig, msg) {\n",
       "    // Updates the figure title.\n",
       "    fig.header.textContent = msg['label'];\n",
       "}\n",
       "\n",
       "mpl.figure.prototype.handle_cursor = function(fig, msg) {\n",
       "    var cursor = msg['cursor'];\n",
       "    switch(cursor)\n",
       "    {\n",
       "    case 0:\n",
       "        cursor = 'pointer';\n",
       "        break;\n",
       "    case 1:\n",
       "        cursor = 'default';\n",
       "        break;\n",
       "    case 2:\n",
       "        cursor = 'crosshair';\n",
       "        break;\n",
       "    case 3:\n",
       "        cursor = 'move';\n",
       "        break;\n",
       "    }\n",
       "    fig.rubberband_canvas.style.cursor = cursor;\n",
       "}\n",
       "\n",
       "mpl.figure.prototype.handle_message = function(fig, msg) {\n",
       "    fig.message.textContent = msg['message'];\n",
       "}\n",
       "\n",
       "mpl.figure.prototype.handle_draw = function(fig, msg) {\n",
       "    // Request the server to send over a new figure.\n",
       "    fig.send_draw_message();\n",
       "}\n",
       "\n",
       "mpl.figure.prototype.handle_image_mode = function(fig, msg) {\n",
       "    fig.image_mode = msg['mode'];\n",
       "}\n",
       "\n",
       "mpl.figure.prototype.updated_canvas_event = function() {\n",
       "    // Called whenever the canvas gets updated.\n",
       "    this.send_message(\"ack\", {});\n",
       "}\n",
       "\n",
       "// A function to construct a web socket function for onmessage handling.\n",
       "// Called in the figure constructor.\n",
       "mpl.figure.prototype._make_on_message_function = function(fig) {\n",
       "    return function socket_on_message(evt) {\n",
       "        if (evt.data instanceof Blob) {\n",
       "            /* FIXME: We get \"Resource interpreted as Image but\n",
       "             * transferred with MIME type text/plain:\" errors on\n",
       "             * Chrome.  But how to set the MIME type?  It doesn't seem\n",
       "             * to be part of the websocket stream */\n",
       "            evt.data.type = \"image/png\";\n",
       "\n",
       "            /* Free the memory for the previous frames */\n",
       "            if (fig.imageObj.src) {\n",
       "                (window.URL || window.webkitURL).revokeObjectURL(\n",
       "                    fig.imageObj.src);\n",
       "            }\n",
       "\n",
       "            fig.imageObj.src = (window.URL || window.webkitURL).createObjectURL(\n",
       "                evt.data);\n",
       "            fig.updated_canvas_event();\n",
       "            fig.waiting = false;\n",
       "            return;\n",
       "        }\n",
       "        else if (typeof evt.data === 'string' && evt.data.slice(0, 21) == \"data:image/png;base64\") {\n",
       "            fig.imageObj.src = evt.data;\n",
       "            fig.updated_canvas_event();\n",
       "            fig.waiting = false;\n",
       "            return;\n",
       "        }\n",
       "\n",
       "        var msg = JSON.parse(evt.data);\n",
       "        var msg_type = msg['type'];\n",
       "\n",
       "        // Call the  \"handle_{type}\" callback, which takes\n",
       "        // the figure and JSON message as its only arguments.\n",
       "        try {\n",
       "            var callback = fig[\"handle_\" + msg_type];\n",
       "        } catch (e) {\n",
       "            console.log(\"No handler for the '\" + msg_type + \"' message type: \", msg);\n",
       "            return;\n",
       "        }\n",
       "\n",
       "        if (callback) {\n",
       "            try {\n",
       "                // console.log(\"Handling '\" + msg_type + \"' message: \", msg);\n",
       "                callback(fig, msg);\n",
       "            } catch (e) {\n",
       "                console.log(\"Exception inside the 'handler_\" + msg_type + \"' callback:\", e, e.stack, msg);\n",
       "            }\n",
       "        }\n",
       "    };\n",
       "}\n",
       "\n",
       "// from http://stackoverflow.com/questions/1114465/getting-mouse-location-in-canvas\n",
       "mpl.findpos = function(e) {\n",
       "    //this section is from http://www.quirksmode.org/js/events_properties.html\n",
       "    var targ;\n",
       "    if (!e)\n",
       "        e = window.event;\n",
       "    if (e.target)\n",
       "        targ = e.target;\n",
       "    else if (e.srcElement)\n",
       "        targ = e.srcElement;\n",
       "    if (targ.nodeType == 3) // defeat Safari bug\n",
       "        targ = targ.parentNode;\n",
       "\n",
       "    // jQuery normalizes the pageX and pageY\n",
       "    // pageX,Y are the mouse positions relative to the document\n",
       "    // offset() returns the position of the element relative to the document\n",
       "    var x = e.pageX - $(targ).offset().left;\n",
       "    var y = e.pageY - $(targ).offset().top;\n",
       "\n",
       "    return {\"x\": x, \"y\": y};\n",
       "};\n",
       "\n",
       "/*\n",
       " * return a copy of an object with only non-object keys\n",
       " * we need this to avoid circular references\n",
       " * http://stackoverflow.com/a/24161582/3208463\n",
       " */\n",
       "function simpleKeys (original) {\n",
       "  return Object.keys(original).reduce(function (obj, key) {\n",
       "    if (typeof original[key] !== 'object')\n",
       "        obj[key] = original[key]\n",
       "    return obj;\n",
       "  }, {});\n",
       "}\n",
       "\n",
       "mpl.figure.prototype.mouse_event = function(event, name) {\n",
       "    var canvas_pos = mpl.findpos(event)\n",
       "\n",
       "    if (name === 'button_press')\n",
       "    {\n",
       "        this.canvas.focus();\n",
       "        this.canvas_div.focus();\n",
       "    }\n",
       "\n",
       "    var x = canvas_pos.x * mpl.ratio;\n",
       "    var y = canvas_pos.y * mpl.ratio;\n",
       "\n",
       "    this.send_message(name, {x: x, y: y, button: event.button,\n",
       "                             step: event.step,\n",
       "                             guiEvent: simpleKeys(event)});\n",
       "\n",
       "    /* This prevents the web browser from automatically changing to\n",
       "     * the text insertion cursor when the button is pressed.  We want\n",
       "     * to control all of the cursor setting manually through the\n",
       "     * 'cursor' event from matplotlib */\n",
       "    event.preventDefault();\n",
       "    return false;\n",
       "}\n",
       "\n",
       "mpl.figure.prototype._key_event_extra = function(event, name) {\n",
       "    // Handle any extra behaviour associated with a key event\n",
       "}\n",
       "\n",
       "mpl.figure.prototype.key_event = function(event, name) {\n",
       "\n",
       "    // Prevent repeat events\n",
       "    if (name == 'key_press')\n",
       "    {\n",
       "        if (event.which === this._key)\n",
       "            return;\n",
       "        else\n",
       "            this._key = event.which;\n",
       "    }\n",
       "    if (name == 'key_release')\n",
       "        this._key = null;\n",
       "\n",
       "    var value = '';\n",
       "    if (event.ctrlKey && event.which != 17)\n",
       "        value += \"ctrl+\";\n",
       "    if (event.altKey && event.which != 18)\n",
       "        value += \"alt+\";\n",
       "    if (event.shiftKey && event.which != 16)\n",
       "        value += \"shift+\";\n",
       "\n",
       "    value += 'k';\n",
       "    value += event.which.toString();\n",
       "\n",
       "    this._key_event_extra(event, name);\n",
       "\n",
       "    this.send_message(name, {key: value,\n",
       "                             guiEvent: simpleKeys(event)});\n",
       "    return false;\n",
       "}\n",
       "\n",
       "mpl.figure.prototype.toolbar_button_onclick = function(name) {\n",
       "    if (name == 'download') {\n",
       "        this.handle_save(this, null);\n",
       "    } else {\n",
       "        this.send_message(\"toolbar_button\", {name: name});\n",
       "    }\n",
       "};\n",
       "\n",
       "mpl.figure.prototype.toolbar_button_onmouseover = function(tooltip) {\n",
       "    this.message.textContent = tooltip;\n",
       "};\n",
       "mpl.toolbar_items = [[\"Home\", \"Reset original view\", \"fa fa-home icon-home\", \"home\"], [\"Back\", \"Back to previous view\", \"fa fa-arrow-left icon-arrow-left\", \"back\"], [\"Forward\", \"Forward to next view\", \"fa fa-arrow-right icon-arrow-right\", \"forward\"], [\"\", \"\", \"\", \"\"], [\"Pan\", \"Pan axes with left mouse, zoom with right\", \"fa fa-arrows icon-move\", \"pan\"], [\"Zoom\", \"Zoom to rectangle\", \"fa fa-square-o icon-check-empty\", \"zoom\"], [\"\", \"\", \"\", \"\"], [\"Download\", \"Download plot\", \"fa fa-floppy-o icon-save\", \"download\"]];\n",
       "\n",
       "mpl.extensions = [\"eps\", \"pdf\", \"png\", \"ps\", \"raw\", \"svg\"];\n",
       "\n",
       "mpl.default_extension = \"png\";var comm_websocket_adapter = function(comm) {\n",
       "    // Create a \"websocket\"-like object which calls the given IPython comm\n",
       "    // object with the appropriate methods. Currently this is a non binary\n",
       "    // socket, so there is still some room for performance tuning.\n",
       "    var ws = {};\n",
       "\n",
       "    ws.close = function() {\n",
       "        comm.close()\n",
       "    };\n",
       "    ws.send = function(m) {\n",
       "        //console.log('sending', m);\n",
       "        comm.send(m);\n",
       "    };\n",
       "    // Register the callback with on_msg.\n",
       "    comm.on_msg(function(msg) {\n",
       "        //console.log('receiving', msg['content']['data'], msg);\n",
       "        // Pass the mpl event to the overridden (by mpl) onmessage function.\n",
       "        ws.onmessage(msg['content']['data'])\n",
       "    });\n",
       "    return ws;\n",
       "}\n",
       "\n",
       "mpl.mpl_figure_comm = function(comm, msg) {\n",
       "    // This is the function which gets called when the mpl process\n",
       "    // starts-up an IPython Comm through the \"matplotlib\" channel.\n",
       "\n",
       "    var id = msg.content.data.id;\n",
       "    // Get hold of the div created by the display call when the Comm\n",
       "    // socket was opened in Python.\n",
       "    var element = $(\"#\" + id);\n",
       "    var ws_proxy = comm_websocket_adapter(comm)\n",
       "\n",
       "    function ondownload(figure, format) {\n",
       "        window.open(figure.imageObj.src);\n",
       "    }\n",
       "\n",
       "    var fig = new mpl.figure(id, ws_proxy,\n",
       "                           ondownload,\n",
       "                           element.get(0));\n",
       "\n",
       "    // Call onopen now - mpl needs it, as it is assuming we've passed it a real\n",
       "    // web socket which is closed, not our websocket->open comm proxy.\n",
       "    ws_proxy.onopen();\n",
       "\n",
       "    fig.parent_element = element.get(0);\n",
       "    fig.cell_info = mpl.find_output_cell(\"<div id='\" + id + \"'></div>\");\n",
       "    if (!fig.cell_info) {\n",
       "        console.error(\"Failed to find cell for figure\", id, fig);\n",
       "        return;\n",
       "    }\n",
       "\n",
       "    var output_index = fig.cell_info[2]\n",
       "    var cell = fig.cell_info[0];\n",
       "\n",
       "};\n",
       "\n",
       "mpl.figure.prototype.handle_close = function(fig, msg) {\n",
       "    var width = fig.canvas.width/mpl.ratio\n",
       "    fig.root.unbind('remove')\n",
       "\n",
       "    // Update the output cell to use the data from the current canvas.\n",
       "    fig.push_to_output();\n",
       "    var dataURL = fig.canvas.toDataURL();\n",
       "    // Re-enable the keyboard manager in IPython - without this line, in FF,\n",
       "    // the notebook keyboard shortcuts fail.\n",
       "    IPython.keyboard_manager.enable()\n",
       "    $(fig.parent_element).html('<img src=\"' + dataURL + '\" width=\"' + width + '\">');\n",
       "    fig.close_ws(fig, msg);\n",
       "}\n",
       "\n",
       "mpl.figure.prototype.close_ws = function(fig, msg){\n",
       "    fig.send_message('closing', msg);\n",
       "    // fig.ws.close()\n",
       "}\n",
       "\n",
       "mpl.figure.prototype.push_to_output = function(remove_interactive) {\n",
       "    // Turn the data on the canvas into data in the output cell.\n",
       "    var width = this.canvas.width/mpl.ratio\n",
       "    var dataURL = this.canvas.toDataURL();\n",
       "    this.cell_info[1]['text/html'] = '<img src=\"' + dataURL + '\" width=\"' + width + '\">';\n",
       "}\n",
       "\n",
       "mpl.figure.prototype.updated_canvas_event = function() {\n",
       "    // Tell IPython that the notebook contents must change.\n",
       "    IPython.notebook.set_dirty(true);\n",
       "    this.send_message(\"ack\", {});\n",
       "    var fig = this;\n",
       "    // Wait a second, then push the new image to the DOM so\n",
       "    // that it is saved nicely (might be nice to debounce this).\n",
       "    setTimeout(function () { fig.push_to_output() }, 1000);\n",
       "}\n",
       "\n",
       "mpl.figure.prototype._init_toolbar = function() {\n",
       "    var fig = this;\n",
       "\n",
       "    var nav_element = $('<div/>');\n",
       "    nav_element.attr('style', 'width: 100%');\n",
       "    this.root.append(nav_element);\n",
       "\n",
       "    // Define a callback function for later on.\n",
       "    function toolbar_event(event) {\n",
       "        return fig.toolbar_button_onclick(event['data']);\n",
       "    }\n",
       "    function toolbar_mouse_event(event) {\n",
       "        return fig.toolbar_button_onmouseover(event['data']);\n",
       "    }\n",
       "\n",
       "    for(var toolbar_ind in mpl.toolbar_items){\n",
       "        var name = mpl.toolbar_items[toolbar_ind][0];\n",
       "        var tooltip = mpl.toolbar_items[toolbar_ind][1];\n",
       "        var image = mpl.toolbar_items[toolbar_ind][2];\n",
       "        var method_name = mpl.toolbar_items[toolbar_ind][3];\n",
       "\n",
       "        if (!name) { continue; };\n",
       "\n",
       "        var button = $('<button class=\"btn btn-default\" href=\"#\" title=\"' + name + '\"><i class=\"fa ' + image + ' fa-lg\"></i></button>');\n",
       "        button.click(method_name, toolbar_event);\n",
       "        button.mouseover(tooltip, toolbar_mouse_event);\n",
       "        nav_element.append(button);\n",
       "    }\n",
       "\n",
       "    // Add the status bar.\n",
       "    var status_bar = $('<span class=\"mpl-message\" style=\"text-align:right; float: right;\"/>');\n",
       "    nav_element.append(status_bar);\n",
       "    this.message = status_bar[0];\n",
       "\n",
       "    // Add the close button to the window.\n",
       "    var buttongrp = $('<div class=\"btn-group inline pull-right\"></div>');\n",
       "    var button = $('<button class=\"btn btn-mini btn-primary\" href=\"#\" title=\"Stop Interaction\"><i class=\"fa fa-power-off icon-remove icon-large\"></i></button>');\n",
       "    button.click(function (evt) { fig.handle_close(fig, {}); } );\n",
       "    button.mouseover('Stop Interaction', toolbar_mouse_event);\n",
       "    buttongrp.append(button);\n",
       "    var titlebar = this.root.find($('.ui-dialog-titlebar'));\n",
       "    titlebar.prepend(buttongrp);\n",
       "}\n",
       "\n",
       "mpl.figure.prototype._root_extra_style = function(el){\n",
       "    var fig = this\n",
       "    el.on(\"remove\", function(){\n",
       "\tfig.close_ws(fig, {});\n",
       "    });\n",
       "}\n",
       "\n",
       "mpl.figure.prototype._canvas_extra_style = function(el){\n",
       "    // this is important to make the div 'focusable\n",
       "    el.attr('tabindex', 0)\n",
       "    // reach out to IPython and tell the keyboard manager to turn it's self\n",
       "    // off when our div gets focus\n",
       "\n",
       "    // location in version 3\n",
       "    if (IPython.notebook.keyboard_manager) {\n",
       "        IPython.notebook.keyboard_manager.register_events(el);\n",
       "    }\n",
       "    else {\n",
       "        // location in version 2\n",
       "        IPython.keyboard_manager.register_events(el);\n",
       "    }\n",
       "\n",
       "}\n",
       "\n",
       "mpl.figure.prototype._key_event_extra = function(event, name) {\n",
       "    var manager = IPython.notebook.keyboard_manager;\n",
       "    if (!manager)\n",
       "        manager = IPython.keyboard_manager;\n",
       "\n",
       "    // Check for shift+enter\n",
       "    if (event.shiftKey && event.which == 13) {\n",
       "        this.canvas_div.blur();\n",
       "        // select the cell after this one\n",
       "        var index = IPython.notebook.find_cell_index(this.cell_info[0]);\n",
       "        IPython.notebook.select(index + 1);\n",
       "    }\n",
       "}\n",
       "\n",
       "mpl.figure.prototype.handle_save = function(fig, msg) {\n",
       "    fig.ondownload(fig, null);\n",
       "}\n",
       "\n",
       "\n",
       "mpl.find_output_cell = function(html_output) {\n",
       "    // Return the cell and output element which can be found *uniquely* in the notebook.\n",
       "    // Note - this is a bit hacky, but it is done because the \"notebook_saving.Notebook\"\n",
       "    // IPython event is triggered only after the cells have been serialised, which for\n",
       "    // our purposes (turning an active figure into a static one), is too late.\n",
       "    var cells = IPython.notebook.get_cells();\n",
       "    var ncells = cells.length;\n",
       "    for (var i=0; i<ncells; i++) {\n",
       "        var cell = cells[i];\n",
       "        if (cell.cell_type === 'code'){\n",
       "            for (var j=0; j<cell.output_area.outputs.length; j++) {\n",
       "                var data = cell.output_area.outputs[j];\n",
       "                if (data.data) {\n",
       "                    // IPython >= 3 moved mimebundle to data attribute of output\n",
       "                    data = data.data;\n",
       "                }\n",
       "                if (data['text/html'] == html_output) {\n",
       "                    return [cell, data, j];\n",
       "                }\n",
       "            }\n",
       "        }\n",
       "    }\n",
       "}\n",
       "\n",
       "// Register the function which deals with the matplotlib target/channel.\n",
       "// The kernel may be null if the page has been refreshed.\n",
       "if (IPython.notebook.kernel != null) {\n",
       "    IPython.notebook.kernel.comm_manager.register_target('matplotlib', mpl.mpl_figure_comm);\n",
       "}\n"
      ],
      "text/plain": [
       "<IPython.core.display.Javascript object>"
      ]
     },
     "metadata": {},
     "output_type": "display_data"
    },
    {
     "data": {
      "text/html": [
       "<img src=\"data:image/png;base64,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\" width=\"640\">"
      ],
      "text/plain": [
       "<IPython.core.display.HTML object>"
      ]
     },
     "metadata": {},
     "output_type": "display_data"
    },
    {
     "data": {
      "text/plain": [
       "[<matplotlib.lines.Line2D at 0x7f8db8532e80>]"
      ]
     },
     "execution_count": 46,
     "metadata": {},
     "output_type": "execute_result"
    }
   ],
   "source": [
    "plt.plot([key for key in regimeAmounts.keys()],[val for val in regimeAmounts.values()])"
   ]
  },
  {
   "cell_type": "code",
   "execution_count": 47,
   "metadata": {},
   "outputs": [
    {
     "data": {
      "text/plain": [
       "([<matplotlib.axis.XTick at 0x7f8daf9e16a0>,\n",
       "  <matplotlib.axis.XTick at 0x7f8daf9e1670>,\n",
       "  <matplotlib.axis.XTick at 0x7f8daf9d5a30>,\n",
       "  <matplotlib.axis.XTick at 0x7f8daff8c850>,\n",
       "  <matplotlib.axis.XTick at 0x7f8daff8cd60>,\n",
       "  <matplotlib.axis.XTick at 0x7f8daff982b0>,\n",
       "  <matplotlib.axis.XTick at 0x7f8daff987c0>,\n",
       "  <matplotlib.axis.XTick at 0x7f8daff98cd0>,\n",
       "  <matplotlib.axis.XTick at 0x7f8daff9b220>,\n",
       "  <matplotlib.axis.XTick at 0x7f8daff9b760>,\n",
       "  <matplotlib.axis.XTick at 0x7f8daff9bc70>,\n",
       "  <matplotlib.axis.XTick at 0x7f8daffa01c0>,\n",
       "  <matplotlib.axis.XTick at 0x7f8daff9b9d0>,\n",
       "  <matplotlib.axis.XTick at 0x7f8daff98a30>,\n",
       "  <matplotlib.axis.XTick at 0x7f8daff8cac0>,\n",
       "  <matplotlib.axis.XTick at 0x7f8daffa0880>,\n",
       "  <matplotlib.axis.XTick at 0x7f8daffa0d90>,\n",
       "  <matplotlib.axis.XTick at 0x7f8dafd301c0>,\n",
       "  <matplotlib.axis.XTick at 0x7f8dafd30610>,\n",
       "  <matplotlib.axis.XTick at 0x7f8dafd30a60>,\n",
       "  <matplotlib.axis.XTick at 0x7f8dafd08250>,\n",
       "  <matplotlib.axis.XTick at 0x7f8dafd08760>,\n",
       "  <matplotlib.axis.XTick at 0x7f8dafd307f0>,\n",
       "  <matplotlib.axis.XTick at 0x7f8daffa0a60>],\n",
       " [Text(0, 0, 'BAU'),\n",
       "  Text(0, 0, 'BAU_15'),\n",
       "  Text(0, 0, 'BAU_30'),\n",
       "  Text(0, 0, 'BAU_5'),\n",
       "  Text(0, 0, 'BAU_m5'),\n",
       "  Text(0, 0, 'BAUwGTR'),\n",
       "  Text(0, 0, 'BAUwT'),\n",
       "  Text(0, 0, 'BAUwT_15'),\n",
       "  Text(0, 0, 'BAUwT_15_B'),\n",
       "  Text(0, 0, 'BAUwT_30'),\n",
       "  Text(0, 0, 'BAUwT_30_B'),\n",
       "  Text(0, 0, 'BAUwT_5'),\n",
       "  Text(0, 0, 'BAUwT_5_B'),\n",
       "  Text(0, 0, 'BAUwT_B'),\n",
       "  Text(0, 0, 'BAUwT_GTR'),\n",
       "  Text(0, 0, 'BAUwT_GTR_B'),\n",
       "  Text(0, 0, 'BAUwT_m5'),\n",
       "  Text(0, 0, 'BAUwoT'),\n",
       "  Text(0, 0, 'BAUwoT_m20'),\n",
       "  Text(0, 0, 'CCF_1'),\n",
       "  Text(0, 0, 'CCF_2'),\n",
       "  Text(0, 0, 'CCF_3'),\n",
       "  Text(0, 0, 'CCF_4'),\n",
       "  Text(0, 0, 'SA')])"
      ]
     },
     "execution_count": 47,
     "metadata": {},
     "output_type": "execute_result"
    }
   ],
   "source": [
    "plt.bar(range(len(regimeAmounts)), list(regimeAmounts.values()), align='center')\n",
    "plt.xticks(range(len(regimeAmounts)), list(regimeAmounts.keys()),rotation=\"vertical\")"
   ]
  },
  {
   "cell_type": "markdown",
   "metadata": {},
   "source": [
    "## Export data as csv\n",
    "\n",
    "- <b>Solution_alldata</b> contains the optimal regime per stand AND the timely development of indicator values plus all other input columns (represented_are_by_NFIplot, region, NUTS2)\n",
    "- <b>Solution</b> contains only the selected optimal regime and its share (if multiple regimes per stand are selected)\n"
   ]
  },
  {
   "cell_type": "code",
   "execution_count": 48,
   "metadata": {},
   "outputs": [],
   "source": [
    "try:\n",
    "    os.mkdir(\"results\")\n",
    "except FileExistsError:\n",
    "    pass\n",
    "b = []\n",
    "c = []\n",
    "for key in mfo.regimesDecision.keys():\n",
    "    if mfo.regimesDecision[key].solution_value() > 0:\n",
    "        b = b+ [(key[0],x*5+2016, key[1]) for x in range(0,21)]\n",
    "        c = c+ [(key[0],key[1],mfo.regimesDecision[key].solution_value())]\n",
    "data2b = mfo.data.iloc[mfo.data.index.isin(b)]\n",
    "data2b.to_csv(\"./results/solutionAlldata_\"+scenario+\"_\"+RCP+\"_\"+extension+\".csv\")\n",
    "c1 = pd.DataFrame(c)\n",
    "c1.to_csv(\"./results/solution_\"+scenario+\"_\"+RCP+\"_\"+extension+\".csv\")"
   ]
  },
  {
   "cell_type": "markdown",
   "metadata": {},
   "source": [
    "## Export objective ranges "
   ]
  },
  {
   "cell_type": "markdown",
   "metadata": {},
   "source": [
    "Save as json file"
   ]
  },
  {
   "cell_type": "code",
   "execution_count": 49,
   "metadata": {},
   "outputs": [],
   "source": [
    "import json\n",
    "mfo.objectiveRanges\n",
    "\n",
    "with open('./results/objectiveRanges_'+scenario+'_'+RCP+'_'+extension+'.json', 'w') as json_file:\n",
    "  json.dump(mfo.objectiveRanges, json_file)"
   ]
  },
  {
   "cell_type": "markdown",
   "metadata": {},
   "source": [
    "Save as CSV."
   ]
  },
  {
   "cell_type": "code",
   "execution_count": 50,
   "metadata": {},
   "outputs": [],
   "source": [
    "df = pd.read_json('./results/objectiveRanges_'+scenario+'_'+RCP+'_'+extension+'.json')\n",
    "\n",
    "df.to_csv('./results/objectiveRanges_'+scenario+'_'+RCP+'_'+extension+'.csv')"
   ]
  },
  {
   "cell_type": "markdown",
   "metadata": {},
   "source": [
    "## Export objective values\n",
    "The optimal solution for each objective."
   ]
  },
  {
   "cell_type": "code",
   "execution_count": 51,
   "metadata": {},
   "outputs": [],
   "source": [
    "with open(\"./results/objectiveValues_\"+scenario+'_'+RCP+'_'+extension+\".csv\",\"w\") as file: \n",
    "    delim = \"\" \n",
    "    for objName in mfo.objectiveTypes.keys(): \n",
    "        file.write(delim+objName) \n",
    "        delim = \",\" \n",
    "    file.write(\"\\n\") \n",
    "    delim = \"\" \n",
    "    for objName in mfo.objectiveTypes.keys(): \n",
    "        file.write(delim+str(mfo.objective[objName].solution_value())) \n",
    "        delim = \",\" \n",
    "    file.write(\"\\n\")"
   ]
  },
  {
   "cell_type": "code",
   "execution_count": null,
   "metadata": {},
   "outputs": [],
   "source": []
  }
 ],
 "metadata": {
  "kernelspec": {
   "display_name": "Python 3",
   "language": "python",
   "name": "python3"
  },
  "language_info": {
   "codemirror_mode": {
    "name": "ipython",
    "version": 3
   },
   "file_extension": ".py",
   "mimetype": "text/x-python",
   "name": "python",
   "nbconvert_exporter": "python",
   "pygments_lexer": "ipython3",
   "version": "3.8.3"
  }
 },
 "nbformat": 4,
 "nbformat_minor": 2
}
