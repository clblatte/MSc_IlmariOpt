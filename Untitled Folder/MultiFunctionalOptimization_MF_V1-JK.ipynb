{
 "cells": [
  {
   "cell_type": "markdown",
   "metadata": {},
   "source": [
    "# Multiforest optimization notebook"
   ]
  },
  {
   "cell_type": "markdown",
   "metadata": {},
   "source": [
    "Above the code cells, there will be instructions how the users should modify the codes in the cells. If there are no instructions, then by default no changes should be needed for the cell."
   ]
  },
  {
   "cell_type": "markdown",
   "metadata": {},
   "source": [
    "## Read the data"
   ]
  },
  {
   "cell_type": "code",
   "execution_count": 40,
   "metadata": {},
   "outputs": [],
   "source": [
    "import multiFunctionalOptimization as MFO"
   ]
  },
  {
   "cell_type": "code",
   "execution_count": 41,
   "metadata": {},
   "outputs": [
    {
     "data": {
      "text/plain": [
       "<module 'multiFunctionalOptimization' from 'C:\\\\MultiforestOptimisationNotebook\\\\multiforestOptimizationNotebook\\\\multiFunctionalOptimization.py'>"
      ]
     },
     "execution_count": 41,
     "metadata": {},
     "output_type": "execute_result"
    }
   ],
   "source": [
    "from importlib import reload\n",
    "reload(MFO)"
   ]
  },
  {
   "cell_type": "markdown",
   "metadata": {},
   "source": [
    "You can choose solver by defining \"solver=XXX\" in the argument. Possible options are \"CPLEX\", \"CLP\" and \"GLOP\""
   ]
  },
  {
   "cell_type": "code",
   "execution_count": 42,
   "metadata": {},
   "outputs": [
    {
     "data": {
      "text/plain": [
       "'Using CLP'"
      ]
     },
     "metadata": {},
     "output_type": "display_data"
    }
   ],
   "source": [
    "mfo = MFO.MultiFunctionalOptimization(solver = \"CLP\")"
   ]
  },
  {
   "cell_type": "markdown",
   "metadata": {},
   "source": [
    "Define CC scenario data"
   ]
  },
  {
   "cell_type": "code",
   "execution_count": 43,
   "metadata": {},
   "outputs": [],
   "source": [
    "RCP = \"RCP0\"\n",
    "objectives_globiom = 'globiom_RCP0_V1'"
   ]
  },
  {
   "cell_type": "code",
   "execution_count": 44,
   "metadata": {},
   "outputs": [],
   "source": [
    "#RCP = \"RCP45\"\n",
    "#objectives_globiom = 'globiom_RCP45_V1'"
   ]
  },
  {
   "cell_type": "markdown",
   "metadata": {},
   "source": [
    "1.5 degrees = RCP0 (no CC), NDC = RCP 4.5"
   ]
  },
  {
   "cell_type": "code",
   "execution_count": 45,
   "metadata": {},
   "outputs": [],
   "source": [
    "scenario = \"MF\""
   ]
  },
  {
   "cell_type": "code",
   "execution_count": 46,
   "metadata": {},
   "outputs": [],
   "source": [
    "import wget\n",
    "import os\n",
    "import numpy as np\n",
    "import pandas as pd"
   ]
  },
  {
   "cell_type": "markdown",
   "metadata": {},
   "source": [
    "NoCC:"
   ]
  },
  {
   "cell_type": "code",
   "execution_count": 47,
   "metadata": {
    "scrolled": true
   },
   "outputs": [
    {
     "name": "stdout",
     "output_type": "stream",
     "text": [
      "Wall time: 6min 22s\n"
     ]
    }
   ],
   "source": [
    "%%time\n",
    "mfo.readData(\"C:/MultiforestOptimisationNotebook/data/MultiForestResults210704_20Periods_InclIntensivve_NoCC.csv\",\n",
    "             standsEnu = \"Description\", regimesEnu = [\"ControlCategoryName\", \"AlternativeNo\"], timeEnu = \"period\",\n",
    "             sampleRatio = 0.2, #If no sample ratio given, the ratio is assumed to be 1\n",
    "             areaCol = \"RepresentedArea\",\n",
    "             samplingSubsets = \"Region\" \n",
    "            )"
   ]
  },
  {
   "cell_type": "markdown",
   "metadata": {},
   "source": [
    "RCP45:"
   ]
  },
  {
   "cell_type": "code",
   "execution_count": 48,
   "metadata": {},
   "outputs": [],
   "source": [
    "#%%time\n",
    "#mfo.readData(\"C:/MultiforestOptimisationNotebook/data/MultiForestResults210710_20Periods_InclIntensivve_RCP45.csv\",\n",
    "#             standsEnu = \"Description\", regimesEnu = [\"ControlCategoryName\", \"AlternativeNo\"], timeEnu = \"period\",\n",
    "#             sampleRatio = 1, #If no sample ratio given, the ratio is assumed to be 1\n",
    "#             areaCol = \"RepresentedArea\"\n",
    "#            )"
   ]
  },
  {
   "cell_type": "markdown",
   "metadata": {},
   "source": [
    "Remove forestry regimes connected to intensification:"
   ]
  },
  {
   "cell_type": "code",
   "execution_count": 49,
   "metadata": {},
   "outputs": [],
   "source": [
    "indexNames = mfo.data[(mfo.data['ControlCategoryName'] == 'Int_Prod') | (mfo.data['ControlCategoryName'] == 'Int_HybridExotic') | (mfo.data['ControlCategoryName'] == 'Int_Contorta')].index\n",
    "mfo.data.drop(indexNames, inplace = True)"
   ]
  },
  {
   "cell_type": "markdown",
   "metadata": {},
   "source": [
    "Remove unneeded columns since data set becomes too large:"
   ]
  },
  {
   "cell_type": "code",
   "execution_count": 50,
   "metadata": {},
   "outputs": [],
   "source": [
    "mfo.data.drop(['Richness', 'BilberryCover', 'Wildfood', 'Region', 'County', 'NoOfStems', 'Volume',\n",
    "       'VolumeExclOverstory', 'DeadWoodVolumeSpruce', 'DeadWoodLyingDeciduous', 'TotalSoilCarbon',\n",
    "       'TotalCarbonStocksStumpsandRoots', 'TotalCarbonStockTreesAboveGround',\n",
    "       'DeadWoodLyingConiferous', 'DeadWoodStandingDeciduous', 'DeadWoodStandingConiferous', 'VolumeAspen',\n",
    "       'VolumeBeech', 'VolumeContorta', 'VolumeOak', 'VolumeLarch', 'VolumeBirch', 'VolumeOtherBroadLeaf', 'VolumePine',\n",
    "       'VolumeSouthernBroadleaf', 'VolumeSpruce'], axis = 1, inplace = True)"
   ]
  },
  {
   "cell_type": "markdown",
   "metadata": {},
   "source": [
    "Create a column for Pulpfuel i.e. pulp plus firewood"
   ]
  },
  {
   "cell_type": "code",
   "execution_count": 51,
   "metadata": {},
   "outputs": [],
   "source": [
    "mfo.data['PulpFuel'] = mfo.data.SumPulpVolumeTotal.values + mfo.data.SumHarvestFuelwoodTotal.values"
   ]
  },
  {
   "cell_type": "markdown",
   "metadata": {},
   "source": [
    "Create column for simulated harvest for globiom optimisation"
   ]
  },
  {
   "cell_type": "code",
   "execution_count": 52,
   "metadata": {},
   "outputs": [],
   "source": [
    "mfo.data['SimulatedSAWlog'] = mfo.data.SumTimberVolumeTotal.values/5"
   ]
  },
  {
   "cell_type": "code",
   "execution_count": 53,
   "metadata": {},
   "outputs": [],
   "source": [
    "mfo.data['SimulatedResidue'] = mfo.data.SumHarvestResiduesTotal.values/5"
   ]
  },
  {
   "cell_type": "code",
   "execution_count": 54,
   "metadata": {},
   "outputs": [],
   "source": [
    "mfo.data['SimulatedPulPFuel'] = mfo.data.PulpFuel.values/5"
   ]
  },
  {
   "cell_type": "markdown",
   "metadata": {},
   "source": [
    "Create a new column for old decidious forest: older than 80 years and more than 30% deciduous"
   ]
  },
  {
   "cell_type": "code",
   "execution_count": 55,
   "metadata": {},
   "outputs": [
    {
     "name": "stderr",
     "output_type": "stream",
     "text": [
      "<ipython-input-55-9487c82f8522>:1: RuntimeWarning: invalid value encountered in true_divide\n",
      "  mfo.data['DeciduousRatio'] = mfo.data.VolumeDecidous.values/mfo.data.StandingVolume.values\n"
     ]
    }
   ],
   "source": [
    "mfo.data['DeciduousRatio'] = mfo.data.VolumeDecidous.values/mfo.data.StandingVolume.values"
   ]
  },
  {
   "cell_type": "code",
   "execution_count": 56,
   "metadata": {},
   "outputs": [],
   "source": [
    "mfo.data[\"old_deciduous_rich_forest_area\"] = (mfo.data['DeciduousRatio'].values>0.3)*(mfo.data[\"Age\"].values>80)*mfo.data[\"RepresentedArea\"].values"
   ]
  },
  {
   "cell_type": "markdown",
   "metadata": {},
   "source": [
    "Create bolean indicator for set asides to calculate share of forest set aside from management,\n",
    "for managed forest to calculate values only for managed forest, and for CCF to calculate share of CCF"
   ]
  },
  {
   "cell_type": "code",
   "execution_count": 57,
   "metadata": {},
   "outputs": [],
   "source": [
    "mfo.data['SetAside'] = np.where(mfo.data.ControlCategoryName == 'SetAside (Unmanaged)', True, False)"
   ]
  },
  {
   "cell_type": "code",
   "execution_count": 58,
   "metadata": {},
   "outputs": [],
   "source": [
    "mfo.data['managed'] = np.where(mfo.data.ControlCategoryName == 'SetAside (Unmanaged)', False, True)"
   ]
  },
  {
   "cell_type": "code",
   "execution_count": 59,
   "metadata": {},
   "outputs": [],
   "source": [
    "mfo.data['CCF'] = np.where(mfo.data.ControlCategoryName == 'CCF', True, False)"
   ]
  },
  {
   "cell_type": "code",
   "execution_count": 60,
   "metadata": {
    "scrolled": true
   },
   "outputs": [
    {
     "data": {
      "text/plain": [
       "Index(['Description', 'period', 'AlternativeNo', 'RepresentedArea',\n",
       "       'ControlCategoryName', 'Age', 'StandingVolume', 'VolumeDecidous',\n",
       "       'SumVolumeCutTotal', 'SumTimberVolumeTotal', 'SumPulpVolumeTotal',\n",
       "       'SumHarvestResiduesTotal', 'SumHarvestFuelwoodTotal',\n",
       "       'AnnualIncrementNetTotal', 'DeadWoodVolume', 'reserve', 'NPV',\n",
       "       'RecreationIndex', 'TotalCarbon', 'combinedRegime', 'PulpFuel',\n",
       "       'SimulatedSAWlog', 'SimulatedResidue', 'SimulatedPulPFuel',\n",
       "       'DeciduousRatio', 'old_deciduous_rich_forest_area', 'SetAside',\n",
       "       'managed', 'CCF'],\n",
       "      dtype='object')"
      ]
     },
     "execution_count": 60,
     "metadata": {},
     "output_type": "execute_result"
    }
   ],
   "source": [
    "mfo.data.columns"
   ]
  },
  {
   "cell_type": "markdown",
   "metadata": {},
   "source": [
    "## QUESTION:  \n",
    "\n",
    "The function below does not work propperly. I can calculate Total values manually for now, but it would be nice to have it workning in the future."
   ]
  },
  {
   "cell_type": "code",
   "execution_count": 61,
   "metadata": {},
   "outputs": [],
   "source": [
    "#mfo.calculateTotalValuesFromRelativeValues()"
   ]
  },
  {
   "cell_type": "markdown",
   "metadata": {},
   "source": [
    "Manual calculation of Total values:"
   ]
  },
  {
   "cell_type": "code",
   "execution_count": 62,
   "metadata": {},
   "outputs": [],
   "source": [
    "mfo.data[\"Total_VolumeDeciduous\"] = mfo.data[\"VolumeDecidous\"] * mfo.data[\"RepresentedArea\"]\n",
    "mfo.data[\"Total_DeadWoodVolume\"] = mfo.data[\"DeadWoodVolume\"] * mfo.data[\"RepresentedArea\"]\n",
    "mfo.data[\"Total_RecreationIndex\"] = mfo.data[\"RecreationIndex\"] * mfo.data[\"RepresentedArea\"]\n",
    "mfo.data[\"Total_TotalCarbon\"] = mfo.data[\"TotalCarbon\"] * mfo.data[\"RepresentedArea\"]"
   ]
  },
  {
   "cell_type": "markdown",
   "metadata": {},
   "source": [
    "Set indicator values for BD indicators to 0 on set asides to only calculate with values on managed"
   ]
  },
  {
   "cell_type": "code",
   "execution_count": 63,
   "metadata": {},
   "outputs": [],
   "source": [
    "mfo.data[\"Total_VolumeDeciduous_managed\"] = mfo.data[\"Total_VolumeDeciduous\"] * mfo.data[\"managed\"]\n",
    "mfo.data[\"Total_DeadWoodVolume_managed\"] = mfo.data[\"Total_DeadWoodVolume\"] * mfo.data[\"managed\"]\n",
    "mfo.data[\"old_deciduous_rich_forest_area_managed\"] = mfo.data[\"old_deciduous_rich_forest_area\"] * mfo.data[\"managed\"]"
   ]
  },
  {
   "cell_type": "markdown",
   "metadata": {},
   "source": [
    "Now there is one initial_state regime for every NFI plot:"
   ]
  },
  {
   "cell_type": "code",
   "execution_count": 64,
   "metadata": {},
   "outputs": [
    {
     "data": {
      "text/plain": [
       "True"
      ]
     },
     "execution_count": 64,
     "metadata": {},
     "output_type": "execute_result"
    }
   ],
   "source": [
    "w = mfo.data.period == 0\n",
    "x = mfo.data.ControlCategoryName == \"Initial state\"\n",
    "y = mfo.data.AlternativeNo == 1\n",
    "sum(x&y&w) == mfo.data.Description.nunique()"
   ]
  },
  {
   "cell_type": "markdown",
   "metadata": {},
   "source": [
    "## Finalise data:"
   ]
  },
  {
   "cell_type": "code",
   "execution_count": 65,
   "metadata": {},
   "outputs": [],
   "source": [
    "mfo.finalizeData(initialTime=0, initialRegime=\"ControlCategoryNameInitial state_AlternativeNo1\")"
   ]
  },
  {
   "cell_type": "code",
   "execution_count": 66,
   "metadata": {
    "scrolled": true
   },
   "outputs": [
    {
     "data": {
      "text/html": [
       "<div>\n",
       "<style scoped>\n",
       "    .dataframe tbody tr th:only-of-type {\n",
       "        vertical-align: middle;\n",
       "    }\n",
       "\n",
       "    .dataframe tbody tr th {\n",
       "        vertical-align: top;\n",
       "    }\n",
       "\n",
       "    .dataframe thead th {\n",
       "        text-align: right;\n",
       "    }\n",
       "</style>\n",
       "<table border=\"1\" class=\"dataframe\">\n",
       "  <thead>\n",
       "    <tr style=\"text-align: right;\">\n",
       "      <th></th>\n",
       "      <th></th>\n",
       "      <th></th>\n",
       "      <th>AlternativeNo</th>\n",
       "      <th>RepresentedArea</th>\n",
       "      <th>ControlCategoryName</th>\n",
       "      <th>Age</th>\n",
       "      <th>StandingVolume</th>\n",
       "      <th>VolumeDecidous</th>\n",
       "      <th>SumVolumeCutTotal</th>\n",
       "      <th>SumTimberVolumeTotal</th>\n",
       "      <th>SumPulpVolumeTotal</th>\n",
       "      <th>SumHarvestResiduesTotal</th>\n",
       "      <th>...</th>\n",
       "      <th>SetAside</th>\n",
       "      <th>managed</th>\n",
       "      <th>CCF</th>\n",
       "      <th>Total_VolumeDeciduous</th>\n",
       "      <th>Total_DeadWoodVolume</th>\n",
       "      <th>Total_RecreationIndex</th>\n",
       "      <th>Total_TotalCarbon</th>\n",
       "      <th>Total_VolumeDeciduous_managed</th>\n",
       "      <th>Total_DeadWoodVolume_managed</th>\n",
       "      <th>old_deciduous_rich_forest_area_managed</th>\n",
       "    </tr>\n",
       "    <tr>\n",
       "      <th>Description</th>\n",
       "      <th>period</th>\n",
       "      <th>combinedRegime</th>\n",
       "      <th></th>\n",
       "      <th></th>\n",
       "      <th></th>\n",
       "      <th></th>\n",
       "      <th></th>\n",
       "      <th></th>\n",
       "      <th></th>\n",
       "      <th></th>\n",
       "      <th></th>\n",
       "      <th></th>\n",
       "      <th></th>\n",
       "      <th></th>\n",
       "      <th></th>\n",
       "      <th></th>\n",
       "      <th></th>\n",
       "      <th></th>\n",
       "      <th></th>\n",
       "      <th></th>\n",
       "      <th></th>\n",
       "      <th></th>\n",
       "      <th></th>\n",
       "    </tr>\n",
       "  </thead>\n",
       "  <tbody>\n",
       "    <tr>\n",
       "      <th>2008 1001 1060</th>\n",
       "      <th>0</th>\n",
       "      <th>ControlCategoryNameInitial state_AlternativeNo1</th>\n",
       "      <td>1</td>\n",
       "      <td>870.4958</td>\n",
       "      <td>Initial state</td>\n",
       "      <td>45.000000</td>\n",
       "      <td>64.988010</td>\n",
       "      <td>0.000000</td>\n",
       "      <td>0.0</td>\n",
       "      <td>0.0</td>\n",
       "      <td>0.0</td>\n",
       "      <td>0.0</td>\n",
       "      <td>...</td>\n",
       "      <td>False</td>\n",
       "      <td>True</td>\n",
       "      <td>False</td>\n",
       "      <td>0.000000</td>\n",
       "      <td>0.000000</td>\n",
       "      <td>307.947117</td>\n",
       "      <td>67769.778087</td>\n",
       "      <td>0.000000</td>\n",
       "      <td>0.000000</td>\n",
       "      <td>0.0</td>\n",
       "    </tr>\n",
       "    <tr>\n",
       "      <th>2008 1002 4180</th>\n",
       "      <th>0</th>\n",
       "      <th>ControlCategoryNameInitial state_AlternativeNo1</th>\n",
       "      <td>1</td>\n",
       "      <td>870.4958</td>\n",
       "      <td>Initial state</td>\n",
       "      <td>20.807460</td>\n",
       "      <td>92.016150</td>\n",
       "      <td>0.000000</td>\n",
       "      <td>0.0</td>\n",
       "      <td>0.0</td>\n",
       "      <td>0.0</td>\n",
       "      <td>0.0</td>\n",
       "      <td>...</td>\n",
       "      <td>False</td>\n",
       "      <td>True</td>\n",
       "      <td>False</td>\n",
       "      <td>0.000000</td>\n",
       "      <td>0.000000</td>\n",
       "      <td>409.055117</td>\n",
       "      <td>72461.759154</td>\n",
       "      <td>0.000000</td>\n",
       "      <td>0.000000</td>\n",
       "      <td>0.0</td>\n",
       "    </tr>\n",
       "    <tr>\n",
       "      <th>2008 1003 3180</th>\n",
       "      <th>0</th>\n",
       "      <th>ControlCategoryNameInitial state_AlternativeNo1</th>\n",
       "      <td>1</td>\n",
       "      <td>870.4958</td>\n",
       "      <td>Initial state</td>\n",
       "      <td>0.686210</td>\n",
       "      <td>0.344602</td>\n",
       "      <td>0.258768</td>\n",
       "      <td>0.0</td>\n",
       "      <td>0.0</td>\n",
       "      <td>0.0</td>\n",
       "      <td>0.0</td>\n",
       "      <td>...</td>\n",
       "      <td>False</td>\n",
       "      <td>True</td>\n",
       "      <td>False</td>\n",
       "      <td>225.256370</td>\n",
       "      <td>12584.322533</td>\n",
       "      <td>261.148740</td>\n",
       "      <td>40152.950634</td>\n",
       "      <td>225.256370</td>\n",
       "      <td>12584.322533</td>\n",
       "      <td>0.0</td>\n",
       "    </tr>\n",
       "    <tr>\n",
       "      <th>2008 1004 2060</th>\n",
       "      <th>0</th>\n",
       "      <th>ControlCategoryNameInitial state_AlternativeNo1</th>\n",
       "      <td>1</td>\n",
       "      <td>870.4958</td>\n",
       "      <td>Initial state</td>\n",
       "      <td>45.000000</td>\n",
       "      <td>73.465700</td>\n",
       "      <td>45.291360</td>\n",
       "      <td>0.0</td>\n",
       "      <td>0.0</td>\n",
       "      <td>0.0</td>\n",
       "      <td>0.0</td>\n",
       "      <td>...</td>\n",
       "      <td>False</td>\n",
       "      <td>True</td>\n",
       "      <td>False</td>\n",
       "      <td>39425.938656</td>\n",
       "      <td>0.000000</td>\n",
       "      <td>498.566198</td>\n",
       "      <td>67646.559406</td>\n",
       "      <td>39425.938656</td>\n",
       "      <td>0.000000</td>\n",
       "      <td>0.0</td>\n",
       "    </tr>\n",
       "    <tr>\n",
       "      <th>2008 1005 1120</th>\n",
       "      <th>0</th>\n",
       "      <th>ControlCategoryNameInitial state_AlternativeNo1</th>\n",
       "      <td>1</td>\n",
       "      <td>870.4958</td>\n",
       "      <td>Initial state</td>\n",
       "      <td>180.000000</td>\n",
       "      <td>130.845600</td>\n",
       "      <td>10.114100</td>\n",
       "      <td>0.0</td>\n",
       "      <td>0.0</td>\n",
       "      <td>0.0</td>\n",
       "      <td>0.0</td>\n",
       "      <td>...</td>\n",
       "      <td>False</td>\n",
       "      <td>True</td>\n",
       "      <td>False</td>\n",
       "      <td>8804.281571</td>\n",
       "      <td>8403.690720</td>\n",
       "      <td>518.070004</td>\n",
       "      <td>104025.379745</td>\n",
       "      <td>8804.281571</td>\n",
       "      <td>8403.690720</td>\n",
       "      <td>0.0</td>\n",
       "    </tr>\n",
       "    <tr>\n",
       "      <th>...</th>\n",
       "      <th>...</th>\n",
       "      <th>...</th>\n",
       "      <td>...</td>\n",
       "      <td>...</td>\n",
       "      <td>...</td>\n",
       "      <td>...</td>\n",
       "      <td>...</td>\n",
       "      <td>...</td>\n",
       "      <td>...</td>\n",
       "      <td>...</td>\n",
       "      <td>...</td>\n",
       "      <td>...</td>\n",
       "      <td>...</td>\n",
       "      <td>...</td>\n",
       "      <td>...</td>\n",
       "      <td>...</td>\n",
       "      <td>...</td>\n",
       "      <td>...</td>\n",
       "      <td>...</td>\n",
       "      <td>...</td>\n",
       "      <td>...</td>\n",
       "      <td>...</td>\n",
       "      <td>...</td>\n",
       "    </tr>\n",
       "    <tr>\n",
       "      <th>2012 5831 2031</th>\n",
       "      <th>0</th>\n",
       "      <th>ControlCategoryNameInitial state_AlternativeNo1</th>\n",
       "      <td>1</td>\n",
       "      <td>285.3203</td>\n",
       "      <td>Initial state</td>\n",
       "      <td>4.868808</td>\n",
       "      <td>7.514251</td>\n",
       "      <td>4.587702</td>\n",
       "      <td>0.0</td>\n",
       "      <td>0.0</td>\n",
       "      <td>0.0</td>\n",
       "      <td>0.0</td>\n",
       "      <td>...</td>\n",
       "      <td>False</td>\n",
       "      <td>True</td>\n",
       "      <td>False</td>\n",
       "      <td>1308.964511</td>\n",
       "      <td>0.000000</td>\n",
       "      <td>85.596090</td>\n",
       "      <td>15342.796693</td>\n",
       "      <td>1308.964511</td>\n",
       "      <td>0.000000</td>\n",
       "      <td>0.0</td>\n",
       "    </tr>\n",
       "    <tr>\n",
       "      <th>2012 5831 3030</th>\n",
       "      <th>0</th>\n",
       "      <th>ControlCategoryNameInitial state_AlternativeNo1</th>\n",
       "      <td>1</td>\n",
       "      <td>480.5716</td>\n",
       "      <td>Initial state</td>\n",
       "      <td>124.000000</td>\n",
       "      <td>132.822300</td>\n",
       "      <td>20.337890</td>\n",
       "      <td>0.0</td>\n",
       "      <td>0.0</td>\n",
       "      <td>0.0</td>\n",
       "      <td>0.0</td>\n",
       "      <td>...</td>\n",
       "      <td>False</td>\n",
       "      <td>True</td>\n",
       "      <td>False</td>\n",
       "      <td>9773.812338</td>\n",
       "      <td>563.259230</td>\n",
       "      <td>191.981386</td>\n",
       "      <td>52268.937560</td>\n",
       "      <td>9773.812338</td>\n",
       "      <td>563.259230</td>\n",
       "      <td>0.0</td>\n",
       "    </tr>\n",
       "    <tr>\n",
       "      <th>2012 5839 1030</th>\n",
       "      <th>0</th>\n",
       "      <th>ControlCategoryNameInitial state_AlternativeNo1</th>\n",
       "      <td>1</td>\n",
       "      <td>480.5716</td>\n",
       "      <td>Initial state</td>\n",
       "      <td>152.000000</td>\n",
       "      <td>196.820500</td>\n",
       "      <td>0.000000</td>\n",
       "      <td>0.0</td>\n",
       "      <td>0.0</td>\n",
       "      <td>0.0</td>\n",
       "      <td>0.0</td>\n",
       "      <td>...</td>\n",
       "      <td>False</td>\n",
       "      <td>True</td>\n",
       "      <td>False</td>\n",
       "      <td>0.000000</td>\n",
       "      <td>1213.428873</td>\n",
       "      <td>303.856724</td>\n",
       "      <td>60209.374049</td>\n",
       "      <td>0.000000</td>\n",
       "      <td>1213.428873</td>\n",
       "      <td>0.0</td>\n",
       "    </tr>\n",
       "    <tr>\n",
       "      <th>2012 5839 4030</th>\n",
       "      <th>0</th>\n",
       "      <th>ControlCategoryNameInitial state_AlternativeNo1</th>\n",
       "      <td>1</td>\n",
       "      <td>480.5716</td>\n",
       "      <td>Initial state</td>\n",
       "      <td>122.000000</td>\n",
       "      <td>92.022580</td>\n",
       "      <td>0.000000</td>\n",
       "      <td>0.0</td>\n",
       "      <td>0.0</td>\n",
       "      <td>0.0</td>\n",
       "      <td>0.0</td>\n",
       "      <td>...</td>\n",
       "      <td>False</td>\n",
       "      <td>True</td>\n",
       "      <td>False</td>\n",
       "      <td>0.000000</td>\n",
       "      <td>0.000000</td>\n",
       "      <td>330.417292</td>\n",
       "      <td>41947.302432</td>\n",
       "      <td>0.000000</td>\n",
       "      <td>0.000000</td>\n",
       "      <td>0.0</td>\n",
       "    </tr>\n",
       "    <tr>\n",
       "      <th>2012 5849 1031</th>\n",
       "      <th>0</th>\n",
       "      <th>ControlCategoryNameInitial state_AlternativeNo1</th>\n",
       "      <td>1</td>\n",
       "      <td>136.6484</td>\n",
       "      <td>Initial state</td>\n",
       "      <td>75.000000</td>\n",
       "      <td>209.920000</td>\n",
       "      <td>0.000000</td>\n",
       "      <td>0.0</td>\n",
       "      <td>0.0</td>\n",
       "      <td>0.0</td>\n",
       "      <td>0.0</td>\n",
       "      <td>...</td>\n",
       "      <td>False</td>\n",
       "      <td>True</td>\n",
       "      <td>False</td>\n",
       "      <td>0.000000</td>\n",
       "      <td>0.000000</td>\n",
       "      <td>86.864013</td>\n",
       "      <td>16652.178997</td>\n",
       "      <td>0.000000</td>\n",
       "      <td>0.000000</td>\n",
       "      <td>0.0</td>\n",
       "    </tr>\n",
       "  </tbody>\n",
       "</table>\n",
       "<p>5976 rows × 33 columns</p>\n",
       "</div>"
      ],
      "text/plain": [
       "                                                                       AlternativeNo  \\\n",
       "Description    period combinedRegime                                                   \n",
       "2008 1001 1060 0      ControlCategoryNameInitial state_AlternativeNo1              1   \n",
       "2008 1002 4180 0      ControlCategoryNameInitial state_AlternativeNo1              1   \n",
       "2008 1003 3180 0      ControlCategoryNameInitial state_AlternativeNo1              1   \n",
       "2008 1004 2060 0      ControlCategoryNameInitial state_AlternativeNo1              1   \n",
       "2008 1005 1120 0      ControlCategoryNameInitial state_AlternativeNo1              1   \n",
       "...                                                                              ...   \n",
       "2012 5831 2031 0      ControlCategoryNameInitial state_AlternativeNo1              1   \n",
       "2012 5831 3030 0      ControlCategoryNameInitial state_AlternativeNo1              1   \n",
       "2012 5839 1030 0      ControlCategoryNameInitial state_AlternativeNo1              1   \n",
       "2012 5839 4030 0      ControlCategoryNameInitial state_AlternativeNo1              1   \n",
       "2012 5849 1031 0      ControlCategoryNameInitial state_AlternativeNo1              1   \n",
       "\n",
       "                                                                       RepresentedArea  \\\n",
       "Description    period combinedRegime                                                     \n",
       "2008 1001 1060 0      ControlCategoryNameInitial state_AlternativeNo1         870.4958   \n",
       "2008 1002 4180 0      ControlCategoryNameInitial state_AlternativeNo1         870.4958   \n",
       "2008 1003 3180 0      ControlCategoryNameInitial state_AlternativeNo1         870.4958   \n",
       "2008 1004 2060 0      ControlCategoryNameInitial state_AlternativeNo1         870.4958   \n",
       "2008 1005 1120 0      ControlCategoryNameInitial state_AlternativeNo1         870.4958   \n",
       "...                                                                                ...   \n",
       "2012 5831 2031 0      ControlCategoryNameInitial state_AlternativeNo1         285.3203   \n",
       "2012 5831 3030 0      ControlCategoryNameInitial state_AlternativeNo1         480.5716   \n",
       "2012 5839 1030 0      ControlCategoryNameInitial state_AlternativeNo1         480.5716   \n",
       "2012 5839 4030 0      ControlCategoryNameInitial state_AlternativeNo1         480.5716   \n",
       "2012 5849 1031 0      ControlCategoryNameInitial state_AlternativeNo1         136.6484   \n",
       "\n",
       "                                                                      ControlCategoryName  \\\n",
       "Description    period combinedRegime                                                        \n",
       "2008 1001 1060 0      ControlCategoryNameInitial state_AlternativeNo1       Initial state   \n",
       "2008 1002 4180 0      ControlCategoryNameInitial state_AlternativeNo1       Initial state   \n",
       "2008 1003 3180 0      ControlCategoryNameInitial state_AlternativeNo1       Initial state   \n",
       "2008 1004 2060 0      ControlCategoryNameInitial state_AlternativeNo1       Initial state   \n",
       "2008 1005 1120 0      ControlCategoryNameInitial state_AlternativeNo1       Initial state   \n",
       "...                                                                                   ...   \n",
       "2012 5831 2031 0      ControlCategoryNameInitial state_AlternativeNo1       Initial state   \n",
       "2012 5831 3030 0      ControlCategoryNameInitial state_AlternativeNo1       Initial state   \n",
       "2012 5839 1030 0      ControlCategoryNameInitial state_AlternativeNo1       Initial state   \n",
       "2012 5839 4030 0      ControlCategoryNameInitial state_AlternativeNo1       Initial state   \n",
       "2012 5849 1031 0      ControlCategoryNameInitial state_AlternativeNo1       Initial state   \n",
       "\n",
       "                                                                              Age  \\\n",
       "Description    period combinedRegime                                                \n",
       "2008 1001 1060 0      ControlCategoryNameInitial state_AlternativeNo1   45.000000   \n",
       "2008 1002 4180 0      ControlCategoryNameInitial state_AlternativeNo1   20.807460   \n",
       "2008 1003 3180 0      ControlCategoryNameInitial state_AlternativeNo1    0.686210   \n",
       "2008 1004 2060 0      ControlCategoryNameInitial state_AlternativeNo1   45.000000   \n",
       "2008 1005 1120 0      ControlCategoryNameInitial state_AlternativeNo1  180.000000   \n",
       "...                                                                           ...   \n",
       "2012 5831 2031 0      ControlCategoryNameInitial state_AlternativeNo1    4.868808   \n",
       "2012 5831 3030 0      ControlCategoryNameInitial state_AlternativeNo1  124.000000   \n",
       "2012 5839 1030 0      ControlCategoryNameInitial state_AlternativeNo1  152.000000   \n",
       "2012 5839 4030 0      ControlCategoryNameInitial state_AlternativeNo1  122.000000   \n",
       "2012 5849 1031 0      ControlCategoryNameInitial state_AlternativeNo1   75.000000   \n",
       "\n",
       "                                                                       StandingVolume  \\\n",
       "Description    period combinedRegime                                                    \n",
       "2008 1001 1060 0      ControlCategoryNameInitial state_AlternativeNo1       64.988010   \n",
       "2008 1002 4180 0      ControlCategoryNameInitial state_AlternativeNo1       92.016150   \n",
       "2008 1003 3180 0      ControlCategoryNameInitial state_AlternativeNo1        0.344602   \n",
       "2008 1004 2060 0      ControlCategoryNameInitial state_AlternativeNo1       73.465700   \n",
       "2008 1005 1120 0      ControlCategoryNameInitial state_AlternativeNo1      130.845600   \n",
       "...                                                                               ...   \n",
       "2012 5831 2031 0      ControlCategoryNameInitial state_AlternativeNo1        7.514251   \n",
       "2012 5831 3030 0      ControlCategoryNameInitial state_AlternativeNo1      132.822300   \n",
       "2012 5839 1030 0      ControlCategoryNameInitial state_AlternativeNo1      196.820500   \n",
       "2012 5839 4030 0      ControlCategoryNameInitial state_AlternativeNo1       92.022580   \n",
       "2012 5849 1031 0      ControlCategoryNameInitial state_AlternativeNo1      209.920000   \n",
       "\n",
       "                                                                       VolumeDecidous  \\\n",
       "Description    period combinedRegime                                                    \n",
       "2008 1001 1060 0      ControlCategoryNameInitial state_AlternativeNo1        0.000000   \n",
       "2008 1002 4180 0      ControlCategoryNameInitial state_AlternativeNo1        0.000000   \n",
       "2008 1003 3180 0      ControlCategoryNameInitial state_AlternativeNo1        0.258768   \n",
       "2008 1004 2060 0      ControlCategoryNameInitial state_AlternativeNo1       45.291360   \n",
       "2008 1005 1120 0      ControlCategoryNameInitial state_AlternativeNo1       10.114100   \n",
       "...                                                                               ...   \n",
       "2012 5831 2031 0      ControlCategoryNameInitial state_AlternativeNo1        4.587702   \n",
       "2012 5831 3030 0      ControlCategoryNameInitial state_AlternativeNo1       20.337890   \n",
       "2012 5839 1030 0      ControlCategoryNameInitial state_AlternativeNo1        0.000000   \n",
       "2012 5839 4030 0      ControlCategoryNameInitial state_AlternativeNo1        0.000000   \n",
       "2012 5849 1031 0      ControlCategoryNameInitial state_AlternativeNo1        0.000000   \n",
       "\n",
       "                                                                       SumVolumeCutTotal  \\\n",
       "Description    period combinedRegime                                                       \n",
       "2008 1001 1060 0      ControlCategoryNameInitial state_AlternativeNo1                0.0   \n",
       "2008 1002 4180 0      ControlCategoryNameInitial state_AlternativeNo1                0.0   \n",
       "2008 1003 3180 0      ControlCategoryNameInitial state_AlternativeNo1                0.0   \n",
       "2008 1004 2060 0      ControlCategoryNameInitial state_AlternativeNo1                0.0   \n",
       "2008 1005 1120 0      ControlCategoryNameInitial state_AlternativeNo1                0.0   \n",
       "...                                                                                  ...   \n",
       "2012 5831 2031 0      ControlCategoryNameInitial state_AlternativeNo1                0.0   \n",
       "2012 5831 3030 0      ControlCategoryNameInitial state_AlternativeNo1                0.0   \n",
       "2012 5839 1030 0      ControlCategoryNameInitial state_AlternativeNo1                0.0   \n",
       "2012 5839 4030 0      ControlCategoryNameInitial state_AlternativeNo1                0.0   \n",
       "2012 5849 1031 0      ControlCategoryNameInitial state_AlternativeNo1                0.0   \n",
       "\n",
       "                                                                       SumTimberVolumeTotal  \\\n",
       "Description    period combinedRegime                                                          \n",
       "2008 1001 1060 0      ControlCategoryNameInitial state_AlternativeNo1                   0.0   \n",
       "2008 1002 4180 0      ControlCategoryNameInitial state_AlternativeNo1                   0.0   \n",
       "2008 1003 3180 0      ControlCategoryNameInitial state_AlternativeNo1                   0.0   \n",
       "2008 1004 2060 0      ControlCategoryNameInitial state_AlternativeNo1                   0.0   \n",
       "2008 1005 1120 0      ControlCategoryNameInitial state_AlternativeNo1                   0.0   \n",
       "...                                                                                     ...   \n",
       "2012 5831 2031 0      ControlCategoryNameInitial state_AlternativeNo1                   0.0   \n",
       "2012 5831 3030 0      ControlCategoryNameInitial state_AlternativeNo1                   0.0   \n",
       "2012 5839 1030 0      ControlCategoryNameInitial state_AlternativeNo1                   0.0   \n",
       "2012 5839 4030 0      ControlCategoryNameInitial state_AlternativeNo1                   0.0   \n",
       "2012 5849 1031 0      ControlCategoryNameInitial state_AlternativeNo1                   0.0   \n",
       "\n",
       "                                                                       SumPulpVolumeTotal  \\\n",
       "Description    period combinedRegime                                                        \n",
       "2008 1001 1060 0      ControlCategoryNameInitial state_AlternativeNo1                 0.0   \n",
       "2008 1002 4180 0      ControlCategoryNameInitial state_AlternativeNo1                 0.0   \n",
       "2008 1003 3180 0      ControlCategoryNameInitial state_AlternativeNo1                 0.0   \n",
       "2008 1004 2060 0      ControlCategoryNameInitial state_AlternativeNo1                 0.0   \n",
       "2008 1005 1120 0      ControlCategoryNameInitial state_AlternativeNo1                 0.0   \n",
       "...                                                                                   ...   \n",
       "2012 5831 2031 0      ControlCategoryNameInitial state_AlternativeNo1                 0.0   \n",
       "2012 5831 3030 0      ControlCategoryNameInitial state_AlternativeNo1                 0.0   \n",
       "2012 5839 1030 0      ControlCategoryNameInitial state_AlternativeNo1                 0.0   \n",
       "2012 5839 4030 0      ControlCategoryNameInitial state_AlternativeNo1                 0.0   \n",
       "2012 5849 1031 0      ControlCategoryNameInitial state_AlternativeNo1                 0.0   \n",
       "\n",
       "                                                                       SumHarvestResiduesTotal  \\\n",
       "Description    period combinedRegime                                                             \n",
       "2008 1001 1060 0      ControlCategoryNameInitial state_AlternativeNo1                      0.0   \n",
       "2008 1002 4180 0      ControlCategoryNameInitial state_AlternativeNo1                      0.0   \n",
       "2008 1003 3180 0      ControlCategoryNameInitial state_AlternativeNo1                      0.0   \n",
       "2008 1004 2060 0      ControlCategoryNameInitial state_AlternativeNo1                      0.0   \n",
       "2008 1005 1120 0      ControlCategoryNameInitial state_AlternativeNo1                      0.0   \n",
       "...                                                                                        ...   \n",
       "2012 5831 2031 0      ControlCategoryNameInitial state_AlternativeNo1                      0.0   \n",
       "2012 5831 3030 0      ControlCategoryNameInitial state_AlternativeNo1                      0.0   \n",
       "2012 5839 1030 0      ControlCategoryNameInitial state_AlternativeNo1                      0.0   \n",
       "2012 5839 4030 0      ControlCategoryNameInitial state_AlternativeNo1                      0.0   \n",
       "2012 5849 1031 0      ControlCategoryNameInitial state_AlternativeNo1                      0.0   \n",
       "\n",
       "                                                                       ...  \\\n",
       "Description    period combinedRegime                                   ...   \n",
       "2008 1001 1060 0      ControlCategoryNameInitial state_AlternativeNo1  ...   \n",
       "2008 1002 4180 0      ControlCategoryNameInitial state_AlternativeNo1  ...   \n",
       "2008 1003 3180 0      ControlCategoryNameInitial state_AlternativeNo1  ...   \n",
       "2008 1004 2060 0      ControlCategoryNameInitial state_AlternativeNo1  ...   \n",
       "2008 1005 1120 0      ControlCategoryNameInitial state_AlternativeNo1  ...   \n",
       "...                                                                    ...   \n",
       "2012 5831 2031 0      ControlCategoryNameInitial state_AlternativeNo1  ...   \n",
       "2012 5831 3030 0      ControlCategoryNameInitial state_AlternativeNo1  ...   \n",
       "2012 5839 1030 0      ControlCategoryNameInitial state_AlternativeNo1  ...   \n",
       "2012 5839 4030 0      ControlCategoryNameInitial state_AlternativeNo1  ...   \n",
       "2012 5849 1031 0      ControlCategoryNameInitial state_AlternativeNo1  ...   \n",
       "\n",
       "                                                                       SetAside  \\\n",
       "Description    period combinedRegime                                              \n",
       "2008 1001 1060 0      ControlCategoryNameInitial state_AlternativeNo1     False   \n",
       "2008 1002 4180 0      ControlCategoryNameInitial state_AlternativeNo1     False   \n",
       "2008 1003 3180 0      ControlCategoryNameInitial state_AlternativeNo1     False   \n",
       "2008 1004 2060 0      ControlCategoryNameInitial state_AlternativeNo1     False   \n",
       "2008 1005 1120 0      ControlCategoryNameInitial state_AlternativeNo1     False   \n",
       "...                                                                         ...   \n",
       "2012 5831 2031 0      ControlCategoryNameInitial state_AlternativeNo1     False   \n",
       "2012 5831 3030 0      ControlCategoryNameInitial state_AlternativeNo1     False   \n",
       "2012 5839 1030 0      ControlCategoryNameInitial state_AlternativeNo1     False   \n",
       "2012 5839 4030 0      ControlCategoryNameInitial state_AlternativeNo1     False   \n",
       "2012 5849 1031 0      ControlCategoryNameInitial state_AlternativeNo1     False   \n",
       "\n",
       "                                                                       managed  \\\n",
       "Description    period combinedRegime                                             \n",
       "2008 1001 1060 0      ControlCategoryNameInitial state_AlternativeNo1     True   \n",
       "2008 1002 4180 0      ControlCategoryNameInitial state_AlternativeNo1     True   \n",
       "2008 1003 3180 0      ControlCategoryNameInitial state_AlternativeNo1     True   \n",
       "2008 1004 2060 0      ControlCategoryNameInitial state_AlternativeNo1     True   \n",
       "2008 1005 1120 0      ControlCategoryNameInitial state_AlternativeNo1     True   \n",
       "...                                                                        ...   \n",
       "2012 5831 2031 0      ControlCategoryNameInitial state_AlternativeNo1     True   \n",
       "2012 5831 3030 0      ControlCategoryNameInitial state_AlternativeNo1     True   \n",
       "2012 5839 1030 0      ControlCategoryNameInitial state_AlternativeNo1     True   \n",
       "2012 5839 4030 0      ControlCategoryNameInitial state_AlternativeNo1     True   \n",
       "2012 5849 1031 0      ControlCategoryNameInitial state_AlternativeNo1     True   \n",
       "\n",
       "                                                                         CCF  \\\n",
       "Description    period combinedRegime                                           \n",
       "2008 1001 1060 0      ControlCategoryNameInitial state_AlternativeNo1  False   \n",
       "2008 1002 4180 0      ControlCategoryNameInitial state_AlternativeNo1  False   \n",
       "2008 1003 3180 0      ControlCategoryNameInitial state_AlternativeNo1  False   \n",
       "2008 1004 2060 0      ControlCategoryNameInitial state_AlternativeNo1  False   \n",
       "2008 1005 1120 0      ControlCategoryNameInitial state_AlternativeNo1  False   \n",
       "...                                                                      ...   \n",
       "2012 5831 2031 0      ControlCategoryNameInitial state_AlternativeNo1  False   \n",
       "2012 5831 3030 0      ControlCategoryNameInitial state_AlternativeNo1  False   \n",
       "2012 5839 1030 0      ControlCategoryNameInitial state_AlternativeNo1  False   \n",
       "2012 5839 4030 0      ControlCategoryNameInitial state_AlternativeNo1  False   \n",
       "2012 5849 1031 0      ControlCategoryNameInitial state_AlternativeNo1  False   \n",
       "\n",
       "                                                                       Total_VolumeDeciduous  \\\n",
       "Description    period combinedRegime                                                           \n",
       "2008 1001 1060 0      ControlCategoryNameInitial state_AlternativeNo1               0.000000   \n",
       "2008 1002 4180 0      ControlCategoryNameInitial state_AlternativeNo1               0.000000   \n",
       "2008 1003 3180 0      ControlCategoryNameInitial state_AlternativeNo1             225.256370   \n",
       "2008 1004 2060 0      ControlCategoryNameInitial state_AlternativeNo1           39425.938656   \n",
       "2008 1005 1120 0      ControlCategoryNameInitial state_AlternativeNo1            8804.281571   \n",
       "...                                                                                      ...   \n",
       "2012 5831 2031 0      ControlCategoryNameInitial state_AlternativeNo1            1308.964511   \n",
       "2012 5831 3030 0      ControlCategoryNameInitial state_AlternativeNo1            9773.812338   \n",
       "2012 5839 1030 0      ControlCategoryNameInitial state_AlternativeNo1               0.000000   \n",
       "2012 5839 4030 0      ControlCategoryNameInitial state_AlternativeNo1               0.000000   \n",
       "2012 5849 1031 0      ControlCategoryNameInitial state_AlternativeNo1               0.000000   \n",
       "\n",
       "                                                                       Total_DeadWoodVolume  \\\n",
       "Description    period combinedRegime                                                          \n",
       "2008 1001 1060 0      ControlCategoryNameInitial state_AlternativeNo1              0.000000   \n",
       "2008 1002 4180 0      ControlCategoryNameInitial state_AlternativeNo1              0.000000   \n",
       "2008 1003 3180 0      ControlCategoryNameInitial state_AlternativeNo1          12584.322533   \n",
       "2008 1004 2060 0      ControlCategoryNameInitial state_AlternativeNo1              0.000000   \n",
       "2008 1005 1120 0      ControlCategoryNameInitial state_AlternativeNo1           8403.690720   \n",
       "...                                                                                     ...   \n",
       "2012 5831 2031 0      ControlCategoryNameInitial state_AlternativeNo1              0.000000   \n",
       "2012 5831 3030 0      ControlCategoryNameInitial state_AlternativeNo1            563.259230   \n",
       "2012 5839 1030 0      ControlCategoryNameInitial state_AlternativeNo1           1213.428873   \n",
       "2012 5839 4030 0      ControlCategoryNameInitial state_AlternativeNo1              0.000000   \n",
       "2012 5849 1031 0      ControlCategoryNameInitial state_AlternativeNo1              0.000000   \n",
       "\n",
       "                                                                       Total_RecreationIndex  \\\n",
       "Description    period combinedRegime                                                           \n",
       "2008 1001 1060 0      ControlCategoryNameInitial state_AlternativeNo1             307.947117   \n",
       "2008 1002 4180 0      ControlCategoryNameInitial state_AlternativeNo1             409.055117   \n",
       "2008 1003 3180 0      ControlCategoryNameInitial state_AlternativeNo1             261.148740   \n",
       "2008 1004 2060 0      ControlCategoryNameInitial state_AlternativeNo1             498.566198   \n",
       "2008 1005 1120 0      ControlCategoryNameInitial state_AlternativeNo1             518.070004   \n",
       "...                                                                                      ...   \n",
       "2012 5831 2031 0      ControlCategoryNameInitial state_AlternativeNo1              85.596090   \n",
       "2012 5831 3030 0      ControlCategoryNameInitial state_AlternativeNo1             191.981386   \n",
       "2012 5839 1030 0      ControlCategoryNameInitial state_AlternativeNo1             303.856724   \n",
       "2012 5839 4030 0      ControlCategoryNameInitial state_AlternativeNo1             330.417292   \n",
       "2012 5849 1031 0      ControlCategoryNameInitial state_AlternativeNo1              86.864013   \n",
       "\n",
       "                                                                       Total_TotalCarbon  \\\n",
       "Description    period combinedRegime                                                       \n",
       "2008 1001 1060 0      ControlCategoryNameInitial state_AlternativeNo1       67769.778087   \n",
       "2008 1002 4180 0      ControlCategoryNameInitial state_AlternativeNo1       72461.759154   \n",
       "2008 1003 3180 0      ControlCategoryNameInitial state_AlternativeNo1       40152.950634   \n",
       "2008 1004 2060 0      ControlCategoryNameInitial state_AlternativeNo1       67646.559406   \n",
       "2008 1005 1120 0      ControlCategoryNameInitial state_AlternativeNo1      104025.379745   \n",
       "...                                                                                  ...   \n",
       "2012 5831 2031 0      ControlCategoryNameInitial state_AlternativeNo1       15342.796693   \n",
       "2012 5831 3030 0      ControlCategoryNameInitial state_AlternativeNo1       52268.937560   \n",
       "2012 5839 1030 0      ControlCategoryNameInitial state_AlternativeNo1       60209.374049   \n",
       "2012 5839 4030 0      ControlCategoryNameInitial state_AlternativeNo1       41947.302432   \n",
       "2012 5849 1031 0      ControlCategoryNameInitial state_AlternativeNo1       16652.178997   \n",
       "\n",
       "                                                                       Total_VolumeDeciduous_managed  \\\n",
       "Description    period combinedRegime                                                                   \n",
       "2008 1001 1060 0      ControlCategoryNameInitial state_AlternativeNo1                       0.000000   \n",
       "2008 1002 4180 0      ControlCategoryNameInitial state_AlternativeNo1                       0.000000   \n",
       "2008 1003 3180 0      ControlCategoryNameInitial state_AlternativeNo1                     225.256370   \n",
       "2008 1004 2060 0      ControlCategoryNameInitial state_AlternativeNo1                   39425.938656   \n",
       "2008 1005 1120 0      ControlCategoryNameInitial state_AlternativeNo1                    8804.281571   \n",
       "...                                                                                              ...   \n",
       "2012 5831 2031 0      ControlCategoryNameInitial state_AlternativeNo1                    1308.964511   \n",
       "2012 5831 3030 0      ControlCategoryNameInitial state_AlternativeNo1                    9773.812338   \n",
       "2012 5839 1030 0      ControlCategoryNameInitial state_AlternativeNo1                       0.000000   \n",
       "2012 5839 4030 0      ControlCategoryNameInitial state_AlternativeNo1                       0.000000   \n",
       "2012 5849 1031 0      ControlCategoryNameInitial state_AlternativeNo1                       0.000000   \n",
       "\n",
       "                                                                       Total_DeadWoodVolume_managed  \\\n",
       "Description    period combinedRegime                                                                  \n",
       "2008 1001 1060 0      ControlCategoryNameInitial state_AlternativeNo1                      0.000000   \n",
       "2008 1002 4180 0      ControlCategoryNameInitial state_AlternativeNo1                      0.000000   \n",
       "2008 1003 3180 0      ControlCategoryNameInitial state_AlternativeNo1                  12584.322533   \n",
       "2008 1004 2060 0      ControlCategoryNameInitial state_AlternativeNo1                      0.000000   \n",
       "2008 1005 1120 0      ControlCategoryNameInitial state_AlternativeNo1                   8403.690720   \n",
       "...                                                                                             ...   \n",
       "2012 5831 2031 0      ControlCategoryNameInitial state_AlternativeNo1                      0.000000   \n",
       "2012 5831 3030 0      ControlCategoryNameInitial state_AlternativeNo1                    563.259230   \n",
       "2012 5839 1030 0      ControlCategoryNameInitial state_AlternativeNo1                   1213.428873   \n",
       "2012 5839 4030 0      ControlCategoryNameInitial state_AlternativeNo1                      0.000000   \n",
       "2012 5849 1031 0      ControlCategoryNameInitial state_AlternativeNo1                      0.000000   \n",
       "\n",
       "                                                                       old_deciduous_rich_forest_area_managed  \n",
       "Description    period combinedRegime                                                                           \n",
       "2008 1001 1060 0      ControlCategoryNameInitial state_AlternativeNo1                                     0.0  \n",
       "2008 1002 4180 0      ControlCategoryNameInitial state_AlternativeNo1                                     0.0  \n",
       "2008 1003 3180 0      ControlCategoryNameInitial state_AlternativeNo1                                     0.0  \n",
       "2008 1004 2060 0      ControlCategoryNameInitial state_AlternativeNo1                                     0.0  \n",
       "2008 1005 1120 0      ControlCategoryNameInitial state_AlternativeNo1                                     0.0  \n",
       "...                                                                                                       ...  \n",
       "2012 5831 2031 0      ControlCategoryNameInitial state_AlternativeNo1                                     0.0  \n",
       "2012 5831 3030 0      ControlCategoryNameInitial state_AlternativeNo1                                     0.0  \n",
       "2012 5839 1030 0      ControlCategoryNameInitial state_AlternativeNo1                                     0.0  \n",
       "2012 5839 4030 0      ControlCategoryNameInitial state_AlternativeNo1                                     0.0  \n",
       "2012 5849 1031 0      ControlCategoryNameInitial state_AlternativeNo1                                     0.0  \n",
       "\n",
       "[5976 rows x 33 columns]"
      ]
     },
     "execution_count": 66,
     "metadata": {},
     "output_type": "execute_result"
    }
   ],
   "source": [
    "mfo.initialData"
   ]
  },
  {
   "cell_type": "markdown",
   "metadata": {},
   "source": [
    "## GLOBIOM demands VERSION 1\n",
    "E.g., used for \"bottom up\" approach, on top of national scenario optimizations, no assortment transfer possible."
   ]
  },
  {
   "cell_type": "code",
   "execution_count": 67,
   "metadata": {},
   "outputs": [
    {
     "name": "stdout",
     "output_type": "stream",
     "text": [
      "used RCP0\n"
     ]
    }
   ],
   "source": [
    "# --------------\n",
    "# 1.5 degree scenario; matches with RCP0 (no CC)\n",
    "# --------------\n",
    "\n",
    "if objectives_globiom == 'globiom_RCP0_V1':\n",
    "    \n",
    "    # read the csv with the globiom demands \n",
    "    # data was created in R (package \"zoo\")to extend the time series of globiom that they match with each simulation step\n",
    "    demands1p5 = pd.read_csv(\"C:/MultiforestOptimisationNotebook/data/G1p5all.csv\") \n",
    "\n",
    "    # extract individual columns and turn them into a list that goes into the objective problem\n",
    "    sawlog1p5 = demands1p5[\"GSawlog_uB\"]\n",
    "    sawlog1p5 = sawlog1p5.to_list()\n",
    "    \n",
    "    pulpfuel1p5 = demands1p5[\"GPulpFuel_uB\"]\n",
    "    pulpfuel1p5 = pulpfuel1p5.to_list()\n",
    "\n",
    "    residues1p5 = demands1p5[\"GResidues\"]\n",
    "    residues1p5 = residues1p5.to_list()\n",
    "    \n",
    "    GLOBdemand_RCP0 = {\n",
    "        \n",
    "    # Maximize Sawlog according to GLOBIOM demand at RCP1.5 scenario\n",
    "    \"GSawlog_RCP0\":(\"Sawlog harvest levels according to GLOBIOM at RCP0\",\n",
    "                    \"SimulatedSAWlog\",\"max\",\"periodicTargets\",\"areaWeightedSum\", sawlog1p5),\n",
    "        \n",
    "    # Maximize pulp wood according to GLOBIOM demand at RCP1.5 scenario\n",
    "    \"GPulpFuel_RCP0\":(\"Pulp harvest levels according to GLOBIOM at RCP0\",\n",
    "                      \"SimulatedPulPFuel\",\"max\",\"periodicTargets\",\"areaWeightedSum\", pulpfuel1p5),\n",
    "        \n",
    "    # Maximize residues according to GLOBIOM demand at RCP1.5 scenario\n",
    "    \"GResidues_RCP0\":(\"Residues levels according to GLOBIOM at RCP0\",\n",
    "                       \"SimulatedResidue\",\"max\",\"periodicTargets\",\"areaWeightedSum\", residues1p5)\n",
    "        \n",
    "    }\n",
    "    \n",
    "    print(\"used RCP0\") \n",
    "    \n",
    "elif objectives_globiom == 'globiom_RCP45_V1':\n",
    "    \n",
    "    demands4p5 = pd.read_csv(\"C:/MultiforestOptimisationNotebook/data/G4p5all.csv\") \n",
    "\n",
    "    sawlog4p5 = demands4p5[\"GSawlog_uB\"]\n",
    "    sawlog4p5 = sawlog4p5.to_list()\n",
    "    \n",
    "    pulpfuel4p5 = demands4p5[\"GPulpFuel_uB\"]\n",
    "    pulpfuel4p5 = pulpfuel4p5.to_list()\n",
    "\n",
    "    residues4p5 = demands4p5[\"GResidues\"]\n",
    "    residues4p5 = residues4p5.to_list()\n",
    "    \n",
    "    GLOBdemand_RCP45 = {\n",
    "        \n",
    "    # Maximize Sawlog according to GLOBIOM demand at RCP4.5 scenario\n",
    "    \"GSawlog_RCP45\":(\"Sawlog harvest levels according to GLOBIOM at RCP4.5\",\n",
    "                     \"SimulatedSAWlog\",\"max\",\"periodicTargets\",\"areaWeightedSum\", sawlog4p5),\n",
    "        \n",
    "    # Maximize pulp wood according to GLOBIOM demand at RCP4.5 scenario\n",
    "    \"GPulpFuel_RCP45\":(\"PulpFuel harvest levels according to GLOBIOM at RCP4.5\",\n",
    "                       \"SimulatedPulPFuel\",\"max\",\"periodicTargets\",\"areaWeightedSum\", pulpfuel4p5),\n",
    "   \n",
    "    # Maximize residues according to GLOBIOM demand at RCP4.5 scenario\n",
    "    \"GResidues_RCP45\":(\"Residues levels according to GLOBIOM at RCP4.5\",\n",
    "                       \"SimulatedResidue\",\"max\",\"periodicTargets\",\"areaWeightedSum\", residues4p5)\n",
    "    \n",
    "    }\n",
    "    print(\"used RCP45\")\n",
    "\n",
    "else:\n",
    "    globiom = {}\n",
    "    print(\"no demands considered\")"
   ]
  },
  {
   "cell_type": "markdown",
   "metadata": {},
   "source": [
    "## Start defining the optimization problem"
   ]
  },
  {
   "cell_type": "markdown",
   "metadata": {},
   "source": [
    "#### Define objectives"
   ]
  },
  {
   "cell_type": "markdown",
   "metadata": {},
   "source": [
    "Objective format: Unique_key : (Long human readable name,column name in data, max/min objective, year wise aggregation, stand wise aggregation [, target year])\n",
    "\n",
    "Options for \"objective\": \"max\"imise or \"min\"imise it\n",
    "year wise aggregation: \"min\" (minimum value), \"average\", \"firstYear\", \"sum\", \"targetYearWithSlope\",\"targetYear\"\n",
    "stand wise aggregation: \"sum\", \"areaWeightedAverage\", \"areaWeightedSum\"\n",
    "targe yeart: any year except the first one"
   ]
  },
  {
   "cell_type": "markdown",
   "metadata": {},
   "source": [
    "Objective dictionary structure: \"Unique short name\":(\"Long human readable name\",\"column name in the data\")"
   ]
  },
  {
   "cell_type": "code",
   "execution_count": 68,
   "metadata": {},
   "outputs": [],
   "source": [
    "Income = {\n",
    "\"NetPresentValue\":(\"Total sum net present value of cut forest\",\"NPV\",\"max\",\"firstYear\",\"areaWeightedSum\")\n",
    "}"
   ]
  },
  {
   "cell_type": "code",
   "execution_count": 69,
   "metadata": {},
   "outputs": [],
   "source": [
    "Wood = {\n",
    "\"TotalAnnIncrement\":(\"Annual Increment (maximised min over all years)\",\n",
    "                     \"AnnualIncrementNetTotal\",\"max\",\"min\",\"areaWeightedAverage\"),\n",
    "# Maximising the minimum across years should guarantee evenflow:\n",
    "\"HarvestEvenFlow\":(\"Average harvest\",\"SumVolumeCutTotal\",\"max\",\"min\",\"areaWeightedAverage\")\n",
    "}"
   ]
  },
  {
   "cell_type": "code",
   "execution_count": 70,
   "metadata": {},
   "outputs": [],
   "source": [
    "Nonwood = { \n",
    "\"TotalCarbon\":(\"No decrease carbon stocks\",\"Relative_Total_TotalCarbon\",\"max\",\"min\",\"sum\"),\n",
    "\"RecreationIndex\":(\"No decrease in recreation index\",\"Relative_Total_RecreationIndex\",\"max\",\"min\",\"sum\")\n",
    "}"
   ]
  },
  {
   "cell_type": "code",
   "execution_count": 71,
   "metadata": {},
   "outputs": [],
   "source": [
    "Biodiversity = { \n",
    "\"DeadWoodVolume\":(\"60% incr in deadwood by 2050\",\"Relative_Total_DeadWoodVolume_managed\",\"max\",\"targetYearWithSlope\",\"sum\",8),  \n",
    "\"OldDeciduous\":(\"60% incr in old deciduous area by 2050\",\"Relative_old_deciduous_rich_forest_area_managed\",\"max\",\"targetYearWithSlope\",\"sum\",8),\n",
    "\"DeciduousVolume\":(\"60% incr in deciduous volume by 2050\",\"Relative_Total_VolumeDeciduous_managed\",\"max\",\"targetYearWithSlope\",\"sum\",8),\n",
    "\"SetAside\":(\"Share of set aside forest\",\"SetAside\",\"max\",\"firstYear\",\"areaWeightedAverage\"),\n",
    "\"CCF\":(\"Share of CCF\",\"CCF\",\"max\",\"firstYear\",\"areaWeightedAverage\")\n",
    "}"
   ]
  },
  {
   "cell_type": "code",
   "execution_count": 72,
   "metadata": {},
   "outputs": [],
   "source": [
    "objectives = {\n",
    "             **GLOBdemand_RCP0,\n",
    "             #**GLOBdemand_RCP45,\n",
    "             **Income,\n",
    "             **Wood,\n",
    "             **Nonwood, \n",
    "             **Biodiversity\n",
    "}"
   ]
  },
  {
   "cell_type": "code",
   "execution_count": 73,
   "metadata": {
    "scrolled": true
   },
   "outputs": [
    {
     "data": {
      "text/plain": [
       "'Defining objectives'"
      ]
     },
     "metadata": {},
     "output_type": "display_data"
    },
    {
     "data": {
      "text/plain": [
       "'Aggregating stand wise'"
      ]
     },
     "metadata": {},
     "output_type": "display_data"
    },
    {
     "name": "stderr",
     "output_type": "stream",
     "text": [
      "100%|██████████████████████████████████████████████████████████████████████████████████| 13/13 [12:51<00:00, 59.37s/it]\n"
     ]
    },
    {
     "data": {
      "text/plain": [
       "'Aggregating year wise'"
      ]
     },
     "metadata": {},
     "output_type": "display_data"
    },
    {
     "name": "stdout",
     "output_type": "stream",
     "text": [
      "100%|████████████████████████████████████████████████████████████████████████████████| 13/13 [00:00<00:00, 2177.81it/s]\n"
     ]
    },
    {
     "data": {
      "text/plain": [
       "'Objectives added'"
      ]
     },
     "metadata": {},
     "output_type": "display_data"
    }
   ],
   "source": [
    "mfo.defineObjectives(objectives)"
   ]
  },
  {
   "cell_type": "markdown",
   "metadata": {},
   "source": [
    "## Calculate objective ranges"
   ]
  },
  {
   "cell_type": "code",
   "execution_count": 74,
   "metadata": {
    "scrolled": true
   },
   "outputs": [
    {
     "data": {
      "text/plain": [
       "'Calculating objective ranges'"
      ]
     },
     "metadata": {},
     "output_type": "display_data"
    },
    {
     "name": "stdout",
     "output_type": "stream",
     "text": [
      "\r",
      "  0%|                                                                                           | 0/13 [00:00<?, ?it/s]"
     ]
    },
    {
     "data": {
      "text/plain": [
       "'Optimizing for Sawlog harvest levels according to GLOBIOM at RCP0'"
      ]
     },
     "metadata": {},
     "output_type": "display_data"
    },
    {
     "data": {
      "text/plain": [
       "'Found an optimal solution in 373 seconds'"
      ]
     },
     "metadata": {},
     "output_type": "display_data"
    },
    {
     "data": {
      "text/plain": [
       "'Objective values are:'"
      ]
     },
     "metadata": {},
     "output_type": "display_data"
    },
    {
     "data": {
      "text/plain": [
       "'Sawlog harvest levels according to GLOBIOM at RCP0'"
      ]
     },
     "metadata": {},
     "output_type": "display_data"
    },
    {
     "data": {
      "text/plain": [
       "-0.09457940185393"
      ]
     },
     "metadata": {},
     "output_type": "display_data"
    },
    {
     "data": {
      "text/plain": [
       "'Pulp harvest levels according to GLOBIOM at RCP0'"
      ]
     },
     "metadata": {},
     "output_type": "display_data"
    },
    {
     "data": {
      "text/plain": [
       "-0.33066257312704217"
      ]
     },
     "metadata": {},
     "output_type": "display_data"
    },
    {
     "data": {
      "text/plain": [
       "'Residues levels according to GLOBIOM at RCP0'"
      ]
     },
     "metadata": {},
     "output_type": "display_data"
    },
    {
     "data": {
      "text/plain": [
       "-0.371911469496586"
      ]
     },
     "metadata": {},
     "output_type": "display_data"
    },
    {
     "data": {
      "text/plain": [
       "'Total sum net present value of cut forest'"
      ]
     },
     "metadata": {},
     "output_type": "display_data"
    },
    {
     "data": {
      "text/plain": [
       "892748180099.5364"
      ]
     },
     "metadata": {},
     "output_type": "display_data"
    },
    {
     "data": {
      "text/plain": [
       "'Annual Increment (maximised min over all years)'"
      ]
     },
     "metadata": {},
     "output_type": "display_data"
    },
    {
     "data": {
      "text/plain": [
       "0.0"
      ]
     },
     "metadata": {},
     "output_type": "display_data"
    },
    {
     "data": {
      "text/plain": [
       "'Average harvest'"
      ]
     },
     "metadata": {},
     "output_type": "display_data"
    },
    {
     "data": {
      "text/plain": [
       "0.0"
      ]
     },
     "metadata": {},
     "output_type": "display_data"
    },
    {
     "data": {
      "text/plain": [
       "'No decrease carbon stocks'"
      ]
     },
     "metadata": {},
     "output_type": "display_data"
    },
    {
     "data": {
      "text/plain": [
       "0.0"
      ]
     },
     "metadata": {},
     "output_type": "display_data"
    },
    {
     "data": {
      "text/plain": [
       "'No decrease in recreation index'"
      ]
     },
     "metadata": {},
     "output_type": "display_data"
    },
    {
     "data": {
      "text/plain": [
       "0.0"
      ]
     },
     "metadata": {},
     "output_type": "display_data"
    },
    {
     "data": {
      "text/plain": [
       "'60% incr in deadwood by 2050'"
      ]
     },
     "metadata": {},
     "output_type": "display_data"
    },
    {
     "data": {
      "text/plain": [
       "0.0"
      ]
     },
     "metadata": {},
     "output_type": "display_data"
    },
    {
     "data": {
      "text/plain": [
       "'60% incr in old deciduous area by 2050'"
      ]
     },
     "metadata": {},
     "output_type": "display_data"
    },
    {
     "data": {
      "text/plain": [
       "-0.22308137122018537"
      ]
     },
     "metadata": {},
     "output_type": "display_data"
    },
    {
     "data": {
      "text/plain": [
       "'60% incr in deciduous volume by 2050'"
      ]
     },
     "metadata": {},
     "output_type": "display_data"
    },
    {
     "data": {
      "text/plain": [
       "0.0"
      ]
     },
     "metadata": {},
     "output_type": "display_data"
    },
    {
     "data": {
      "text/plain": [
       "'Share of set aside forest'"
      ]
     },
     "metadata": {},
     "output_type": "display_data"
    },
    {
     "data": {
      "text/plain": [
       "0.0417146923485372"
      ]
     },
     "metadata": {},
     "output_type": "display_data"
    },
    {
     "data": {
      "text/plain": [
       "'Share of CCF'"
      ]
     },
     "metadata": {},
     "output_type": "display_data"
    },
    {
     "data": {
      "text/plain": [
       "0.01042863631257788"
      ]
     },
     "metadata": {},
     "output_type": "display_data"
    },
    {
     "name": "stdout",
     "output_type": "stream",
     "text": [
      "\r",
      "  8%|██████▏                                                                         | 1/13 [06:13<1:14:47, 373.98s/it]"
     ]
    },
    {
     "data": {
      "text/plain": [
       "'Optimizing for Pulp harvest levels according to GLOBIOM at RCP0'"
      ]
     },
     "metadata": {},
     "output_type": "display_data"
    },
    {
     "data": {
      "text/plain": [
       "'Found an optimal solution in 81 seconds'"
      ]
     },
     "metadata": {},
     "output_type": "display_data"
    },
    {
     "data": {
      "text/plain": [
       "'Objective values are:'"
      ]
     },
     "metadata": {},
     "output_type": "display_data"
    },
    {
     "data": {
      "text/plain": [
       "'Sawlog harvest levels according to GLOBIOM at RCP0'"
      ]
     },
     "metadata": {},
     "output_type": "display_data"
    },
    {
     "data": {
      "text/plain": [
       "-0.5705470077839913"
      ]
     },
     "metadata": {},
     "output_type": "display_data"
    },
    {
     "data": {
      "text/plain": [
       "'Pulp harvest levels according to GLOBIOM at RCP0'"
      ]
     },
     "metadata": {},
     "output_type": "display_data"
    },
    {
     "data": {
      "text/plain": [
       "0.09180420086757979"
      ]
     },
     "metadata": {},
     "output_type": "display_data"
    },
    {
     "data": {
      "text/plain": [
       "'Residues levels according to GLOBIOM at RCP0'"
      ]
     },
     "metadata": {},
     "output_type": "display_data"
    },
    {
     "data": {
      "text/plain": [
       "-0.37778333833114364"
      ]
     },
     "metadata": {},
     "output_type": "display_data"
    },
    {
     "data": {
      "text/plain": [
       "'Total sum net present value of cut forest'"
      ]
     },
     "metadata": {},
     "output_type": "display_data"
    },
    {
     "data": {
      "text/plain": [
       "864834209798.4297"
      ]
     },
     "metadata": {},
     "output_type": "display_data"
    },
    {
     "data": {
      "text/plain": [
       "'Annual Increment (maximised min over all years)'"
      ]
     },
     "metadata": {},
     "output_type": "display_data"
    },
    {
     "data": {
      "text/plain": [
       "0.0"
      ]
     },
     "metadata": {},
     "output_type": "display_data"
    },
    {
     "data": {
      "text/plain": [
       "'Average harvest'"
      ]
     },
     "metadata": {},
     "output_type": "display_data"
    },
    {
     "data": {
      "text/plain": [
       "0.0"
      ]
     },
     "metadata": {},
     "output_type": "display_data"
    },
    {
     "data": {
      "text/plain": [
       "'No decrease carbon stocks'"
      ]
     },
     "metadata": {},
     "output_type": "display_data"
    },
    {
     "data": {
      "text/plain": [
       "0.0"
      ]
     },
     "metadata": {},
     "output_type": "display_data"
    },
    {
     "data": {
      "text/plain": [
       "'No decrease in recreation index'"
      ]
     },
     "metadata": {},
     "output_type": "display_data"
    },
    {
     "data": {
      "text/plain": [
       "0.0"
      ]
     },
     "metadata": {},
     "output_type": "display_data"
    },
    {
     "data": {
      "text/plain": [
       "'60% incr in deadwood by 2050'"
      ]
     },
     "metadata": {},
     "output_type": "display_data"
    },
    {
     "data": {
      "text/plain": [
       "0.0"
      ]
     },
     "metadata": {},
     "output_type": "display_data"
    },
    {
     "data": {
      "text/plain": [
       "'60% incr in old deciduous area by 2050'"
      ]
     },
     "metadata": {},
     "output_type": "display_data"
    },
    {
     "data": {
      "text/plain": [
       "0.0"
      ]
     },
     "metadata": {},
     "output_type": "display_data"
    },
    {
     "data": {
      "text/plain": [
       "'60% incr in deciduous volume by 2050'"
      ]
     },
     "metadata": {},
     "output_type": "display_data"
    },
    {
     "data": {
      "text/plain": [
       "0.0"
      ]
     },
     "metadata": {},
     "output_type": "display_data"
    },
    {
     "data": {
      "text/plain": [
       "'Share of set aside forest'"
      ]
     },
     "metadata": {},
     "output_type": "display_data"
    },
    {
     "data": {
      "text/plain": [
       "0.04160482195013045"
      ]
     },
     "metadata": {},
     "output_type": "display_data"
    },
    {
     "data": {
      "text/plain": [
       "'Share of CCF'"
      ]
     },
     "metadata": {},
     "output_type": "display_data"
    },
    {
     "data": {
      "text/plain": [
       "0.03278854829670314"
      ]
     },
     "metadata": {},
     "output_type": "display_data"
    },
    {
     "name": "stdout",
     "output_type": "stream",
     "text": [
      "\r",
      " 15%|████████████▌                                                                     | 2/13 [07:35<52:27, 286.15s/it]"
     ]
    },
    {
     "data": {
      "text/plain": [
       "'Optimizing for Residues levels according to GLOBIOM at RCP0'"
      ]
     },
     "metadata": {},
     "output_type": "display_data"
    },
    {
     "data": {
      "text/plain": [
       "'Found an optimal solution in 90 seconds'"
      ]
     },
     "metadata": {},
     "output_type": "display_data"
    },
    {
     "data": {
      "text/plain": [
       "'Objective values are:'"
      ]
     },
     "metadata": {},
     "output_type": "display_data"
    },
    {
     "data": {
      "text/plain": [
       "'Sawlog harvest levels according to GLOBIOM at RCP0'"
      ]
     },
     "metadata": {},
     "output_type": "display_data"
    },
    {
     "data": {
      "text/plain": [
       "-0.6260566281454277"
      ]
     },
     "metadata": {},
     "output_type": "display_data"
    },
    {
     "data": {
      "text/plain": [
       "'Pulp harvest levels according to GLOBIOM at RCP0'"
      ]
     },
     "metadata": {},
     "output_type": "display_data"
    },
    {
     "data": {
      "text/plain": [
       "-0.4581902763869757"
      ]
     },
     "metadata": {},
     "output_type": "display_data"
    },
    {
     "data": {
      "text/plain": [
       "'Residues levels according to GLOBIOM at RCP0'"
      ]
     },
     "metadata": {},
     "output_type": "display_data"
    },
    {
     "data": {
      "text/plain": [
       "0.8918764392432547"
      ]
     },
     "metadata": {},
     "output_type": "display_data"
    },
    {
     "data": {
      "text/plain": [
       "'Total sum net present value of cut forest'"
      ]
     },
     "metadata": {},
     "output_type": "display_data"
    },
    {
     "data": {
      "text/plain": [
       "888343310102.7189"
      ]
     },
     "metadata": {},
     "output_type": "display_data"
    },
    {
     "data": {
      "text/plain": [
       "'Annual Increment (maximised min over all years)'"
      ]
     },
     "metadata": {},
     "output_type": "display_data"
    },
    {
     "data": {
      "text/plain": [
       "0.0"
      ]
     },
     "metadata": {},
     "output_type": "display_data"
    },
    {
     "data": {
      "text/plain": [
       "'Average harvest'"
      ]
     },
     "metadata": {},
     "output_type": "display_data"
    },
    {
     "data": {
      "text/plain": [
       "0.0"
      ]
     },
     "metadata": {},
     "output_type": "display_data"
    },
    {
     "data": {
      "text/plain": [
       "'No decrease carbon stocks'"
      ]
     },
     "metadata": {},
     "output_type": "display_data"
    },
    {
     "data": {
      "text/plain": [
       "0.0"
      ]
     },
     "metadata": {},
     "output_type": "display_data"
    },
    {
     "data": {
      "text/plain": [
       "'No decrease in recreation index'"
      ]
     },
     "metadata": {},
     "output_type": "display_data"
    },
    {
     "data": {
      "text/plain": [
       "0.0"
      ]
     },
     "metadata": {},
     "output_type": "display_data"
    },
    {
     "data": {
      "text/plain": [
       "'60% incr in deadwood by 2050'"
      ]
     },
     "metadata": {},
     "output_type": "display_data"
    },
    {
     "data": {
      "text/plain": [
       "0.0"
      ]
     },
     "metadata": {},
     "output_type": "display_data"
    },
    {
     "data": {
      "text/plain": [
       "'60% incr in old deciduous area by 2050'"
      ]
     },
     "metadata": {},
     "output_type": "display_data"
    },
    {
     "data": {
      "text/plain": [
       "0.0"
      ]
     },
     "metadata": {},
     "output_type": "display_data"
    },
    {
     "data": {
      "text/plain": [
       "'60% incr in deciduous volume by 2050'"
      ]
     },
     "metadata": {},
     "output_type": "display_data"
    },
    {
     "data": {
      "text/plain": [
       "0.0"
      ]
     },
     "metadata": {},
     "output_type": "display_data"
    },
    {
     "data": {
      "text/plain": [
       "'Share of set aside forest'"
      ]
     },
     "metadata": {},
     "output_type": "display_data"
    },
    {
     "data": {
      "text/plain": [
       "0.04160482195013045"
      ]
     },
     "metadata": {},
     "output_type": "display_data"
    },
    {
     "data": {
      "text/plain": [
       "'Share of CCF'"
      ]
     },
     "metadata": {},
     "output_type": "display_data"
    },
    {
     "data": {
      "text/plain": [
       "0.0"
      ]
     },
     "metadata": {},
     "output_type": "display_data"
    },
    {
     "name": "stdout",
     "output_type": "stream",
     "text": [
      "\r",
      " 23%|██████████████████▉                                                               | 3/13 [09:05<37:55, 227.55s/it]"
     ]
    },
    {
     "data": {
      "text/plain": [
       "'Optimizing for Total sum net present value of cut forest'"
      ]
     },
     "metadata": {},
     "output_type": "display_data"
    },
    {
     "data": {
      "text/plain": [
       "'Found an optimal solution in 27 seconds'"
      ]
     },
     "metadata": {},
     "output_type": "display_data"
    },
    {
     "data": {
      "text/plain": [
       "'Objective values are:'"
      ]
     },
     "metadata": {},
     "output_type": "display_data"
    },
    {
     "data": {
      "text/plain": [
       "'Sawlog harvest levels according to GLOBIOM at RCP0'"
      ]
     },
     "metadata": {},
     "output_type": "display_data"
    },
    {
     "data": {
      "text/plain": [
       "-0.65386012199305"
      ]
     },
     "metadata": {},
     "output_type": "display_data"
    },
    {
     "data": {
      "text/plain": [
       "'Pulp harvest levels according to GLOBIOM at RCP0'"
      ]
     },
     "metadata": {},
     "output_type": "display_data"
    },
    {
     "data": {
      "text/plain": [
       "-0.5818150198942132"
      ]
     },
     "metadata": {},
     "output_type": "display_data"
    },
    {
     "data": {
      "text/plain": [
       "'Residues levels according to GLOBIOM at RCP0'"
      ]
     },
     "metadata": {},
     "output_type": "display_data"
    },
    {
     "data": {
      "text/plain": [
       "-0.0031158018282652863"
      ]
     },
     "metadata": {},
     "output_type": "display_data"
    },
    {
     "data": {
      "text/plain": [
       "'Total sum net present value of cut forest'"
      ]
     },
     "metadata": {},
     "output_type": "display_data"
    },
    {
     "data": {
      "text/plain": [
       "1000478986580.3842"
      ]
     },
     "metadata": {},
     "output_type": "display_data"
    },
    {
     "data": {
      "text/plain": [
       "'Annual Increment (maximised min over all years)'"
      ]
     },
     "metadata": {},
     "output_type": "display_data"
    },
    {
     "data": {
      "text/plain": [
       "0.0"
      ]
     },
     "metadata": {},
     "output_type": "display_data"
    },
    {
     "data": {
      "text/plain": [
       "'Average harvest'"
      ]
     },
     "metadata": {},
     "output_type": "display_data"
    },
    {
     "data": {
      "text/plain": [
       "0.0"
      ]
     },
     "metadata": {},
     "output_type": "display_data"
    },
    {
     "data": {
      "text/plain": [
       "'No decrease carbon stocks'"
      ]
     },
     "metadata": {},
     "output_type": "display_data"
    },
    {
     "data": {
      "text/plain": [
       "0.0"
      ]
     },
     "metadata": {},
     "output_type": "display_data"
    },
    {
     "data": {
      "text/plain": [
       "'No decrease in recreation index'"
      ]
     },
     "metadata": {},
     "output_type": "display_data"
    },
    {
     "data": {
      "text/plain": [
       "0.0"
      ]
     },
     "metadata": {},
     "output_type": "display_data"
    },
    {
     "data": {
      "text/plain": [
       "'60% incr in deadwood by 2050'"
      ]
     },
     "metadata": {},
     "output_type": "display_data"
    },
    {
     "data": {
      "text/plain": [
       "0.0"
      ]
     },
     "metadata": {},
     "output_type": "display_data"
    },
    {
     "data": {
      "text/plain": [
       "'60% incr in old deciduous area by 2050'"
      ]
     },
     "metadata": {},
     "output_type": "display_data"
    },
    {
     "data": {
      "text/plain": [
       "-1.3206522570248933"
      ]
     },
     "metadata": {},
     "output_type": "display_data"
    },
    {
     "data": {
      "text/plain": [
       "'60% incr in deciduous volume by 2050'"
      ]
     },
     "metadata": {},
     "output_type": "display_data"
    },
    {
     "data": {
      "text/plain": [
       "-0.024600691835718388"
      ]
     },
     "metadata": {},
     "output_type": "display_data"
    },
    {
     "data": {
      "text/plain": [
       "'Share of set aside forest'"
      ]
     },
     "metadata": {},
     "output_type": "display_data"
    },
    {
     "data": {
      "text/plain": [
       "0.043734037622983446"
      ]
     },
     "metadata": {},
     "output_type": "display_data"
    },
    {
     "data": {
      "text/plain": [
       "'Share of CCF'"
      ]
     },
     "metadata": {},
     "output_type": "display_data"
    },
    {
     "data": {
      "text/plain": [
       "0.012376276482123189"
      ]
     },
     "metadata": {},
     "output_type": "display_data"
    },
    {
     "name": "stdout",
     "output_type": "stream",
     "text": [
      "\r",
      " 31%|█████████████████████████▏                                                        | 4/13 [09:33<25:06, 167.39s/it]"
     ]
    },
    {
     "data": {
      "text/plain": [
       "'Optimizing for Annual Increment (maximised min over all years)'"
      ]
     },
     "metadata": {},
     "output_type": "display_data"
    },
    {
     "data": {
      "text/plain": [
       "'Found an optimal solution in 46 seconds'"
      ]
     },
     "metadata": {},
     "output_type": "display_data"
    },
    {
     "data": {
      "text/plain": [
       "'Objective values are:'"
      ]
     },
     "metadata": {},
     "output_type": "display_data"
    },
    {
     "data": {
      "text/plain": [
       "'Sawlog harvest levels according to GLOBIOM at RCP0'"
      ]
     },
     "metadata": {},
     "output_type": "display_data"
    },
    {
     "data": {
      "text/plain": [
       "-0.6830400213911605"
      ]
     },
     "metadata": {},
     "output_type": "display_data"
    },
    {
     "data": {
      "text/plain": [
       "'Pulp harvest levels according to GLOBIOM at RCP0'"
      ]
     },
     "metadata": {},
     "output_type": "display_data"
    },
    {
     "data": {
      "text/plain": [
       "-0.6435703778200135"
      ]
     },
     "metadata": {},
     "output_type": "display_data"
    },
    {
     "data": {
      "text/plain": [
       "'Residues levels according to GLOBIOM at RCP0'"
      ]
     },
     "metadata": {},
     "output_type": "display_data"
    },
    {
     "data": {
      "text/plain": [
       "-0.1657991292667479"
      ]
     },
     "metadata": {},
     "output_type": "display_data"
    },
    {
     "data": {
      "text/plain": [
       "'Total sum net present value of cut forest'"
      ]
     },
     "metadata": {},
     "output_type": "display_data"
    },
    {
     "data": {
      "text/plain": [
       "875669237366.4557"
      ]
     },
     "metadata": {},
     "output_type": "display_data"
    },
    {
     "data": {
      "text/plain": [
       "'Annual Increment (maximised min over all years)'"
      ]
     },
     "metadata": {},
     "output_type": "display_data"
    },
    {
     "data": {
      "text/plain": [
       "4.555698719324596"
      ]
     },
     "metadata": {},
     "output_type": "display_data"
    },
    {
     "data": {
      "text/plain": [
       "'Average harvest'"
      ]
     },
     "metadata": {},
     "output_type": "display_data"
    },
    {
     "data": {
      "text/plain": [
       "0.0"
      ]
     },
     "metadata": {},
     "output_type": "display_data"
    },
    {
     "data": {
      "text/plain": [
       "'No decrease carbon stocks'"
      ]
     },
     "metadata": {},
     "output_type": "display_data"
    },
    {
     "data": {
      "text/plain": [
       "0.0"
      ]
     },
     "metadata": {},
     "output_type": "display_data"
    },
    {
     "data": {
      "text/plain": [
       "'No decrease in recreation index'"
      ]
     },
     "metadata": {},
     "output_type": "display_data"
    },
    {
     "data": {
      "text/plain": [
       "0.0"
      ]
     },
     "metadata": {},
     "output_type": "display_data"
    },
    {
     "data": {
      "text/plain": [
       "'60% incr in deadwood by 2050'"
      ]
     },
     "metadata": {},
     "output_type": "display_data"
    },
    {
     "data": {
      "text/plain": [
       "-0.4146549666084116"
      ]
     },
     "metadata": {},
     "output_type": "display_data"
    },
    {
     "data": {
      "text/plain": [
       "'60% incr in old deciduous area by 2050'"
      ]
     },
     "metadata": {},
     "output_type": "display_data"
    },
    {
     "data": {
      "text/plain": [
       "-0.5661377516087875"
      ]
     },
     "metadata": {},
     "output_type": "display_data"
    },
    {
     "data": {
      "text/plain": [
       "'60% incr in deciduous volume by 2050'"
      ]
     },
     "metadata": {},
     "output_type": "display_data"
    },
    {
     "data": {
      "text/plain": [
       "0.0"
      ]
     },
     "metadata": {},
     "output_type": "display_data"
    },
    {
     "data": {
      "text/plain": [
       "'Share of set aside forest'"
      ]
     },
     "metadata": {},
     "output_type": "display_data"
    },
    {
     "data": {
      "text/plain": [
       "0.12190553203332663"
      ]
     },
     "metadata": {},
     "output_type": "display_data"
    },
    {
     "data": {
      "text/plain": [
       "'Share of CCF'"
      ]
     },
     "metadata": {},
     "output_type": "display_data"
    },
    {
     "data": {
      "text/plain": [
       "0.029427489332631725"
      ]
     },
     "metadata": {},
     "output_type": "display_data"
    },
    {
     "name": "stdout",
     "output_type": "stream",
     "text": [
      "\r",
      " 38%|███████████████████████████████▌                                                  | 5/13 [10:19<17:28, 131.01s/it]"
     ]
    },
    {
     "data": {
      "text/plain": [
       "'Optimizing for Average harvest'"
      ]
     },
     "metadata": {},
     "output_type": "display_data"
    },
    {
     "data": {
      "text/plain": [
       "'Found an optimal solution in 100 seconds'"
      ]
     },
     "metadata": {},
     "output_type": "display_data"
    },
    {
     "data": {
      "text/plain": [
       "'Objective values are:'"
      ]
     },
     "metadata": {},
     "output_type": "display_data"
    },
    {
     "data": {
      "text/plain": [
       "'Sawlog harvest levels according to GLOBIOM at RCP0'"
      ]
     },
     "metadata": {},
     "output_type": "display_data"
    },
    {
     "data": {
      "text/plain": [
       "-0.39218267603491813"
      ]
     },
     "metadata": {},
     "output_type": "display_data"
    },
    {
     "data": {
      "text/plain": [
       "'Pulp harvest levels according to GLOBIOM at RCP0'"
      ]
     },
     "metadata": {},
     "output_type": "display_data"
    },
    {
     "data": {
      "text/plain": [
       "-0.011747853699726668"
      ]
     },
     "metadata": {},
     "output_type": "display_data"
    },
    {
     "data": {
      "text/plain": [
       "'Residues levels according to GLOBIOM at RCP0'"
      ]
     },
     "metadata": {},
     "output_type": "display_data"
    },
    {
     "data": {
      "text/plain": [
       "-0.29813616785363567"
      ]
     },
     "metadata": {},
     "output_type": "display_data"
    },
    {
     "data": {
      "text/plain": [
       "'Total sum net present value of cut forest'"
      ]
     },
     "metadata": {},
     "output_type": "display_data"
    },
    {
     "data": {
      "text/plain": [
       "893443804759.9031"
      ]
     },
     "metadata": {},
     "output_type": "display_data"
    },
    {
     "data": {
      "text/plain": [
       "'Annual Increment (maximised min over all years)'"
      ]
     },
     "metadata": {},
     "output_type": "display_data"
    },
    {
     "data": {
      "text/plain": [
       "0.0"
      ]
     },
     "metadata": {},
     "output_type": "display_data"
    },
    {
     "data": {
      "text/plain": [
       "'Average harvest'"
      ]
     },
     "metadata": {},
     "output_type": "display_data"
    },
    {
     "data": {
      "text/plain": [
       "24.468634762621406"
      ]
     },
     "metadata": {},
     "output_type": "display_data"
    },
    {
     "data": {
      "text/plain": [
       "'No decrease carbon stocks'"
      ]
     },
     "metadata": {},
     "output_type": "display_data"
    },
    {
     "data": {
      "text/plain": [
       "0.0"
      ]
     },
     "metadata": {},
     "output_type": "display_data"
    },
    {
     "data": {
      "text/plain": [
       "'No decrease in recreation index'"
      ]
     },
     "metadata": {},
     "output_type": "display_data"
    },
    {
     "data": {
      "text/plain": [
       "0.0"
      ]
     },
     "metadata": {},
     "output_type": "display_data"
    },
    {
     "data": {
      "text/plain": [
       "'60% incr in deadwood by 2050'"
      ]
     },
     "metadata": {},
     "output_type": "display_data"
    },
    {
     "data": {
      "text/plain": [
       "0.0"
      ]
     },
     "metadata": {},
     "output_type": "display_data"
    },
    {
     "data": {
      "text/plain": [
       "'60% incr in old deciduous area by 2050'"
      ]
     },
     "metadata": {},
     "output_type": "display_data"
    },
    {
     "data": {
      "text/plain": [
       "-0.2148415738442613"
      ]
     },
     "metadata": {},
     "output_type": "display_data"
    },
    {
     "data": {
      "text/plain": [
       "'60% incr in deciduous volume by 2050'"
      ]
     },
     "metadata": {},
     "output_type": "display_data"
    },
    {
     "data": {
      "text/plain": [
       "0.0"
      ]
     },
     "metadata": {},
     "output_type": "display_data"
    },
    {
     "data": {
      "text/plain": [
       "'Share of set aside forest'"
      ]
     },
     "metadata": {},
     "output_type": "display_data"
    },
    {
     "data": {
      "text/plain": [
       "0.04160482195013045"
      ]
     },
     "metadata": {},
     "output_type": "display_data"
    },
    {
     "data": {
      "text/plain": [
       "'Share of CCF'"
      ]
     },
     "metadata": {},
     "output_type": "display_data"
    },
    {
     "data": {
      "text/plain": [
       "0.017309241972694768"
      ]
     },
     "metadata": {},
     "output_type": "display_data"
    },
    {
     "name": "stdout",
     "output_type": "stream",
     "text": [
      "\r",
      " 46%|█████████████████████████████████████▊                                            | 6/13 [11:59<14:13, 121.95s/it]"
     ]
    },
    {
     "data": {
      "text/plain": [
       "'Optimizing for No decrease carbon stocks'"
      ]
     },
     "metadata": {},
     "output_type": "display_data"
    },
    {
     "data": {
      "text/plain": [
       "'Found an optimal solution in 31 seconds'"
      ]
     },
     "metadata": {},
     "output_type": "display_data"
    },
    {
     "data": {
      "text/plain": [
       "'Objective values are:'"
      ]
     },
     "metadata": {},
     "output_type": "display_data"
    },
    {
     "data": {
      "text/plain": [
       "'Sawlog harvest levels according to GLOBIOM at RCP0'"
      ]
     },
     "metadata": {},
     "output_type": "display_data"
    },
    {
     "data": {
      "text/plain": [
       "-0.4504855419577924"
      ]
     },
     "metadata": {},
     "output_type": "display_data"
    },
    {
     "data": {
      "text/plain": [
       "'Pulp harvest levels according to GLOBIOM at RCP0'"
      ]
     },
     "metadata": {},
     "output_type": "display_data"
    },
    {
     "data": {
      "text/plain": [
       "-0.1347596396712622"
      ]
     },
     "metadata": {},
     "output_type": "display_data"
    },
    {
     "data": {
      "text/plain": [
       "'Residues levels according to GLOBIOM at RCP0'"
      ]
     },
     "metadata": {},
     "output_type": "display_data"
    },
    {
     "data": {
      "text/plain": [
       "-0.4113496345830906"
      ]
     },
     "metadata": {},
     "output_type": "display_data"
    },
    {
     "data": {
      "text/plain": [
       "'Total sum net present value of cut forest'"
      ]
     },
     "metadata": {},
     "output_type": "display_data"
    },
    {
     "data": {
      "text/plain": [
       "846751771512.0367"
      ]
     },
     "metadata": {},
     "output_type": "display_data"
    },
    {
     "data": {
      "text/plain": [
       "'Annual Increment (maximised min over all years)'"
      ]
     },
     "metadata": {},
     "output_type": "display_data"
    },
    {
     "data": {
      "text/plain": [
       "0.0"
      ]
     },
     "metadata": {},
     "output_type": "display_data"
    },
    {
     "data": {
      "text/plain": [
       "'Average harvest'"
      ]
     },
     "metadata": {},
     "output_type": "display_data"
    },
    {
     "data": {
      "text/plain": [
       "0.0"
      ]
     },
     "metadata": {},
     "output_type": "display_data"
    },
    {
     "data": {
      "text/plain": [
       "'No decrease carbon stocks'"
      ]
     },
     "metadata": {},
     "output_type": "display_data"
    },
    {
     "data": {
      "text/plain": [
       "1.0350427934677475"
      ]
     },
     "metadata": {},
     "output_type": "display_data"
    },
    {
     "data": {
      "text/plain": [
       "'No decrease in recreation index'"
      ]
     },
     "metadata": {},
     "output_type": "display_data"
    },
    {
     "data": {
      "text/plain": [
       "0.0"
      ]
     },
     "metadata": {},
     "output_type": "display_data"
    },
    {
     "data": {
      "text/plain": [
       "'60% incr in deadwood by 2050'"
      ]
     },
     "metadata": {},
     "output_type": "display_data"
    },
    {
     "data": {
      "text/plain": [
       "-0.2991335885787606"
      ]
     },
     "metadata": {},
     "output_type": "display_data"
    },
    {
     "data": {
      "text/plain": [
       "'60% incr in old deciduous area by 2050'"
      ]
     },
     "metadata": {},
     "output_type": "display_data"
    },
    {
     "data": {
      "text/plain": [
       "-0.1436434053370862"
      ]
     },
     "metadata": {},
     "output_type": "display_data"
    },
    {
     "data": {
      "text/plain": [
       "'60% incr in deciduous volume by 2050'"
      ]
     },
     "metadata": {},
     "output_type": "display_data"
    },
    {
     "data": {
      "text/plain": [
       "0.0"
      ]
     },
     "metadata": {},
     "output_type": "display_data"
    },
    {
     "data": {
      "text/plain": [
       "'Share of set aside forest'"
      ]
     },
     "metadata": {},
     "output_type": "display_data"
    },
    {
     "data": {
      "text/plain": [
       "0.10547196119369065"
      ]
     },
     "metadata": {},
     "output_type": "display_data"
    },
    {
     "data": {
      "text/plain": [
       "'Share of CCF'"
      ]
     },
     "metadata": {},
     "output_type": "display_data"
    },
    {
     "data": {
      "text/plain": [
       "0.012710003690073591"
      ]
     },
     "metadata": {},
     "output_type": "display_data"
    },
    {
     "name": "stdout",
     "output_type": "stream",
     "text": [
      "\r",
      " 54%|████████████████████████████████████████████▋                                      | 7/13 [12:31<09:29, 94.88s/it]"
     ]
    },
    {
     "data": {
      "text/plain": [
       "'Optimizing for No decrease in recreation index'"
      ]
     },
     "metadata": {},
     "output_type": "display_data"
    },
    {
     "data": {
      "text/plain": [
       "'Found an optimal solution in 54 seconds'"
      ]
     },
     "metadata": {},
     "output_type": "display_data"
    },
    {
     "data": {
      "text/plain": [
       "'Objective values are:'"
      ]
     },
     "metadata": {},
     "output_type": "display_data"
    },
    {
     "data": {
      "text/plain": [
       "'Sawlog harvest levels according to GLOBIOM at RCP0'"
      ]
     },
     "metadata": {},
     "output_type": "display_data"
    },
    {
     "data": {
      "text/plain": [
       "-0.9371475139314578"
      ]
     },
     "metadata": {},
     "output_type": "display_data"
    },
    {
     "data": {
      "text/plain": [
       "'Pulp harvest levels according to GLOBIOM at RCP0'"
      ]
     },
     "metadata": {},
     "output_type": "display_data"
    },
    {
     "data": {
      "text/plain": [
       "-0.8815747567186139"
      ]
     },
     "metadata": {},
     "output_type": "display_data"
    },
    {
     "data": {
      "text/plain": [
       "'Residues levels according to GLOBIOM at RCP0'"
      ]
     },
     "metadata": {},
     "output_type": "display_data"
    },
    {
     "data": {
      "text/plain": [
       "-0.8134300021519838"
      ]
     },
     "metadata": {},
     "output_type": "display_data"
    },
    {
     "data": {
      "text/plain": [
       "'Total sum net present value of cut forest'"
      ]
     },
     "metadata": {},
     "output_type": "display_data"
    },
    {
     "data": {
      "text/plain": [
       "698392480593.2745"
      ]
     },
     "metadata": {},
     "output_type": "display_data"
    },
    {
     "data": {
      "text/plain": [
       "'Annual Increment (maximised min over all years)'"
      ]
     },
     "metadata": {},
     "output_type": "display_data"
    },
    {
     "data": {
      "text/plain": [
       "0.0"
      ]
     },
     "metadata": {},
     "output_type": "display_data"
    },
    {
     "data": {
      "text/plain": [
       "'Average harvest'"
      ]
     },
     "metadata": {},
     "output_type": "display_data"
    },
    {
     "data": {
      "text/plain": [
       "0.0"
      ]
     },
     "metadata": {},
     "output_type": "display_data"
    },
    {
     "data": {
      "text/plain": [
       "'No decrease carbon stocks'"
      ]
     },
     "metadata": {},
     "output_type": "display_data"
    },
    {
     "data": {
      "text/plain": [
       "0.0"
      ]
     },
     "metadata": {},
     "output_type": "display_data"
    },
    {
     "data": {
      "text/plain": [
       "'No decrease in recreation index'"
      ]
     },
     "metadata": {},
     "output_type": "display_data"
    },
    {
     "data": {
      "text/plain": [
       "1.0391951875677192"
      ]
     },
     "metadata": {},
     "output_type": "display_data"
    },
    {
     "data": {
      "text/plain": [
       "'60% incr in deadwood by 2050'"
      ]
     },
     "metadata": {},
     "output_type": "display_data"
    },
    {
     "data": {
      "text/plain": [
       "-0.808649781298582"
      ]
     },
     "metadata": {},
     "output_type": "display_data"
    },
    {
     "data": {
      "text/plain": [
       "'60% incr in old deciduous area by 2050'"
      ]
     },
     "metadata": {},
     "output_type": "display_data"
    },
    {
     "data": {
      "text/plain": [
       "-0.7821233561489714"
      ]
     },
     "metadata": {},
     "output_type": "display_data"
    },
    {
     "data": {
      "text/plain": [
       "'60% incr in deciduous volume by 2050'"
      ]
     },
     "metadata": {},
     "output_type": "display_data"
    },
    {
     "data": {
      "text/plain": [
       "0.0"
      ]
     },
     "metadata": {},
     "output_type": "display_data"
    },
    {
     "data": {
      "text/plain": [
       "'Share of set aside forest'"
      ]
     },
     "metadata": {},
     "output_type": "display_data"
    },
    {
     "data": {
      "text/plain": [
       "0.13931147075206424"
      ]
     },
     "metadata": {},
     "output_type": "display_data"
    },
    {
     "data": {
      "text/plain": [
       "'Share of CCF'"
      ]
     },
     "metadata": {},
     "output_type": "display_data"
    },
    {
     "data": {
      "text/plain": [
       "0.035687549102907695"
      ]
     },
     "metadata": {},
     "output_type": "display_data"
    },
    {
     "name": "stdout",
     "output_type": "stream",
     "text": [
      "\r",
      " 62%|███████████████████████████████████████████████████                                | 8/13 [13:26<06:54, 82.89s/it]"
     ]
    },
    {
     "data": {
      "text/plain": [
       "'Optimizing for 60% incr in deadwood by 2050'"
      ]
     },
     "metadata": {},
     "output_type": "display_data"
    },
    {
     "data": {
      "text/plain": [
       "'Found an optimal solution in 27 seconds'"
      ]
     },
     "metadata": {},
     "output_type": "display_data"
    },
    {
     "data": {
      "text/plain": [
       "'Objective values are:'"
      ]
     },
     "metadata": {},
     "output_type": "display_data"
    },
    {
     "data": {
      "text/plain": [
       "'Sawlog harvest levels according to GLOBIOM at RCP0'"
      ]
     },
     "metadata": {},
     "output_type": "display_data"
    },
    {
     "data": {
      "text/plain": [
       "-0.9232755676628217"
      ]
     },
     "metadata": {},
     "output_type": "display_data"
    },
    {
     "data": {
      "text/plain": [
       "'Pulp harvest levels according to GLOBIOM at RCP0'"
      ]
     },
     "metadata": {},
     "output_type": "display_data"
    },
    {
     "data": {
      "text/plain": [
       "-0.8699877915489911"
      ]
     },
     "metadata": {},
     "output_type": "display_data"
    },
    {
     "data": {
      "text/plain": [
       "'Residues levels according to GLOBIOM at RCP0'"
      ]
     },
     "metadata": {},
     "output_type": "display_data"
    },
    {
     "data": {
      "text/plain": [
       "-0.8086677157302673"
      ]
     },
     "metadata": {},
     "output_type": "display_data"
    },
    {
     "data": {
      "text/plain": [
       "'Total sum net present value of cut forest'"
      ]
     },
     "metadata": {},
     "output_type": "display_data"
    },
    {
     "data": {
      "text/plain": [
       "765379153243.9847"
      ]
     },
     "metadata": {},
     "output_type": "display_data"
    },
    {
     "data": {
      "text/plain": [
       "'Annual Increment (maximised min over all years)'"
      ]
     },
     "metadata": {},
     "output_type": "display_data"
    },
    {
     "data": {
      "text/plain": [
       "0.0"
      ]
     },
     "metadata": {},
     "output_type": "display_data"
    },
    {
     "data": {
      "text/plain": [
       "'Average harvest'"
      ]
     },
     "metadata": {},
     "output_type": "display_data"
    },
    {
     "data": {
      "text/plain": [
       "0.0"
      ]
     },
     "metadata": {},
     "output_type": "display_data"
    },
    {
     "data": {
      "text/plain": [
       "'No decrease carbon stocks'"
      ]
     },
     "metadata": {},
     "output_type": "display_data"
    },
    {
     "data": {
      "text/plain": [
       "0.0"
      ]
     },
     "metadata": {},
     "output_type": "display_data"
    },
    {
     "data": {
      "text/plain": [
       "'No decrease in recreation index'"
      ]
     },
     "metadata": {},
     "output_type": "display_data"
    },
    {
     "data": {
      "text/plain": [
       "0.0"
      ]
     },
     "metadata": {},
     "output_type": "display_data"
    },
    {
     "data": {
      "text/plain": [
       "'60% incr in deadwood by 2050'"
      ]
     },
     "metadata": {},
     "output_type": "display_data"
    },
    {
     "data": {
      "text/plain": [
       "0.30737786804962836"
      ]
     },
     "metadata": {},
     "output_type": "display_data"
    },
    {
     "data": {
      "text/plain": [
       "'60% incr in old deciduous area by 2050'"
      ]
     },
     "metadata": {},
     "output_type": "display_data"
    },
    {
     "data": {
      "text/plain": [
       "0.0"
      ]
     },
     "metadata": {},
     "output_type": "display_data"
    },
    {
     "data": {
      "text/plain": [
       "'60% incr in deciduous volume by 2050'"
      ]
     },
     "metadata": {},
     "output_type": "display_data"
    },
    {
     "data": {
      "text/plain": [
       "0.0"
      ]
     },
     "metadata": {},
     "output_type": "display_data"
    },
    {
     "data": {
      "text/plain": [
       "'Share of set aside forest'"
      ]
     },
     "metadata": {},
     "output_type": "display_data"
    },
    {
     "data": {
      "text/plain": [
       "0.05172209561150205"
      ]
     },
     "metadata": {},
     "output_type": "display_data"
    },
    {
     "data": {
      "text/plain": [
       "'Share of CCF'"
      ]
     },
     "metadata": {},
     "output_type": "display_data"
    },
    {
     "data": {
      "text/plain": [
       "0.02010971844939396"
      ]
     },
     "metadata": {},
     "output_type": "display_data"
    },
    {
     "name": "stdout",
     "output_type": "stream",
     "text": [
      "\r",
      " 69%|█████████████████████████████████████████████████████████▍                         | 9/13 [13:54<04:25, 66.30s/it]"
     ]
    },
    {
     "data": {
      "text/plain": [
       "'Optimizing for 60% incr in old deciduous area by 2050'"
      ]
     },
     "metadata": {},
     "output_type": "display_data"
    },
    {
     "data": {
      "text/plain": [
       "'Found an optimal solution in 18 seconds'"
      ]
     },
     "metadata": {},
     "output_type": "display_data"
    },
    {
     "data": {
      "text/plain": [
       "'Objective values are:'"
      ]
     },
     "metadata": {},
     "output_type": "display_data"
    },
    {
     "data": {
      "text/plain": [
       "'Sawlog harvest levels according to GLOBIOM at RCP0'"
      ]
     },
     "metadata": {},
     "output_type": "display_data"
    },
    {
     "data": {
      "text/plain": [
       "-0.5097651904396997"
      ]
     },
     "metadata": {},
     "output_type": "display_data"
    },
    {
     "data": {
      "text/plain": [
       "'Pulp harvest levels according to GLOBIOM at RCP0'"
      ]
     },
     "metadata": {},
     "output_type": "display_data"
    },
    {
     "data": {
      "text/plain": [
       "-0.37672077519751146"
      ]
     },
     "metadata": {},
     "output_type": "display_data"
    },
    {
     "data": {
      "text/plain": [
       "'Residues levels according to GLOBIOM at RCP0'"
      ]
     },
     "metadata": {},
     "output_type": "display_data"
    },
    {
     "data": {
      "text/plain": [
       "-0.4878840577889024"
      ]
     },
     "metadata": {},
     "output_type": "display_data"
    },
    {
     "data": {
      "text/plain": [
       "'Total sum net present value of cut forest'"
      ]
     },
     "metadata": {},
     "output_type": "display_data"
    },
    {
     "data": {
      "text/plain": [
       "784785705819.7706"
      ]
     },
     "metadata": {},
     "output_type": "display_data"
    },
    {
     "data": {
      "text/plain": [
       "'Annual Increment (maximised min over all years)'"
      ]
     },
     "metadata": {},
     "output_type": "display_data"
    },
    {
     "data": {
      "text/plain": [
       "0.0"
      ]
     },
     "metadata": {},
     "output_type": "display_data"
    },
    {
     "data": {
      "text/plain": [
       "'Average harvest'"
      ]
     },
     "metadata": {},
     "output_type": "display_data"
    },
    {
     "data": {
      "text/plain": [
       "0.0"
      ]
     },
     "metadata": {},
     "output_type": "display_data"
    },
    {
     "data": {
      "text/plain": [
       "'No decrease carbon stocks'"
      ]
     },
     "metadata": {},
     "output_type": "display_data"
    },
    {
     "data": {
      "text/plain": [
       "0.0"
      ]
     },
     "metadata": {},
     "output_type": "display_data"
    },
    {
     "data": {
      "text/plain": [
       "'No decrease in recreation index'"
      ]
     },
     "metadata": {},
     "output_type": "display_data"
    },
    {
     "data": {
      "text/plain": [
       "0.0"
      ]
     },
     "metadata": {},
     "output_type": "display_data"
    },
    {
     "data": {
      "text/plain": [
       "'60% incr in deadwood by 2050'"
      ]
     },
     "metadata": {},
     "output_type": "display_data"
    },
    {
     "data": {
      "text/plain": [
       "-0.00789650076669357"
      ]
     },
     "metadata": {},
     "output_type": "display_data"
    },
    {
     "data": {
      "text/plain": [
       "'60% incr in old deciduous area by 2050'"
      ]
     },
     "metadata": {},
     "output_type": "display_data"
    },
    {
     "data": {
      "text/plain": [
       "0.2085914080264387"
      ]
     },
     "metadata": {},
     "output_type": "display_data"
    },
    {
     "data": {
      "text/plain": [
       "'60% incr in deciduous volume by 2050'"
      ]
     },
     "metadata": {},
     "output_type": "display_data"
    },
    {
     "data": {
      "text/plain": [
       "0.0"
      ]
     },
     "metadata": {},
     "output_type": "display_data"
    },
    {
     "data": {
      "text/plain": [
       "'Share of set aside forest'"
      ]
     },
     "metadata": {},
     "output_type": "display_data"
    },
    {
     "data": {
      "text/plain": [
       "0.06715380250851402"
      ]
     },
     "metadata": {},
     "output_type": "display_data"
    },
    {
     "data": {
      "text/plain": [
       "'Share of CCF'"
      ]
     },
     "metadata": {},
     "output_type": "display_data"
    },
    {
     "data": {
      "text/plain": [
       "0.02675504389708084"
      ]
     },
     "metadata": {},
     "output_type": "display_data"
    },
    {
     "name": "stdout",
     "output_type": "stream",
     "text": [
      "\r",
      " 77%|███████████████████████████████████████████████████████████████                   | 10/13 [14:12<02:35, 51.97s/it]"
     ]
    },
    {
     "data": {
      "text/plain": [
       "'Optimizing for 60% incr in deciduous volume by 2050'"
      ]
     },
     "metadata": {},
     "output_type": "display_data"
    },
    {
     "data": {
      "text/plain": [
       "'Found an optimal solution in 28 seconds'"
      ]
     },
     "metadata": {},
     "output_type": "display_data"
    },
    {
     "data": {
      "text/plain": [
       "'Objective values are:'"
      ]
     },
     "metadata": {},
     "output_type": "display_data"
    },
    {
     "data": {
      "text/plain": [
       "'Sawlog harvest levels according to GLOBIOM at RCP0'"
      ]
     },
     "metadata": {},
     "output_type": "display_data"
    },
    {
     "data": {
      "text/plain": [
       "-0.4919099065343879"
      ]
     },
     "metadata": {},
     "output_type": "display_data"
    },
    {
     "data": {
      "text/plain": [
       "'Pulp harvest levels according to GLOBIOM at RCP0'"
      ]
     },
     "metadata": {},
     "output_type": "display_data"
    },
    {
     "data": {
      "text/plain": [
       "-0.3683410754831373"
      ]
     },
     "metadata": {},
     "output_type": "display_data"
    },
    {
     "data": {
      "text/plain": [
       "'Residues levels according to GLOBIOM at RCP0'"
      ]
     },
     "metadata": {},
     "output_type": "display_data"
    },
    {
     "data": {
      "text/plain": [
       "-0.5120248359355947"
      ]
     },
     "metadata": {},
     "output_type": "display_data"
    },
    {
     "data": {
      "text/plain": [
       "'Total sum net present value of cut forest'"
      ]
     },
     "metadata": {},
     "output_type": "display_data"
    },
    {
     "data": {
      "text/plain": [
       "804351086437.2236"
      ]
     },
     "metadata": {},
     "output_type": "display_data"
    },
    {
     "data": {
      "text/plain": [
       "'Annual Increment (maximised min over all years)'"
      ]
     },
     "metadata": {},
     "output_type": "display_data"
    },
    {
     "data": {
      "text/plain": [
       "0.0"
      ]
     },
     "metadata": {},
     "output_type": "display_data"
    },
    {
     "data": {
      "text/plain": [
       "'Average harvest'"
      ]
     },
     "metadata": {},
     "output_type": "display_data"
    },
    {
     "data": {
      "text/plain": [
       "0.0"
      ]
     },
     "metadata": {},
     "output_type": "display_data"
    },
    {
     "data": {
      "text/plain": [
       "'No decrease carbon stocks'"
      ]
     },
     "metadata": {},
     "output_type": "display_data"
    },
    {
     "data": {
      "text/plain": [
       "0.0"
      ]
     },
     "metadata": {},
     "output_type": "display_data"
    },
    {
     "data": {
      "text/plain": [
       "'No decrease in recreation index'"
      ]
     },
     "metadata": {},
     "output_type": "display_data"
    },
    {
     "data": {
      "text/plain": [
       "0.0"
      ]
     },
     "metadata": {},
     "output_type": "display_data"
    },
    {
     "data": {
      "text/plain": [
       "'60% incr in deadwood by 2050'"
      ]
     },
     "metadata": {},
     "output_type": "display_data"
    },
    {
     "data": {
      "text/plain": [
       "0.0"
      ]
     },
     "metadata": {},
     "output_type": "display_data"
    },
    {
     "data": {
      "text/plain": [
       "'60% incr in old deciduous area by 2050'"
      ]
     },
     "metadata": {},
     "output_type": "display_data"
    },
    {
     "data": {
      "text/plain": [
       "0.0"
      ]
     },
     "metadata": {},
     "output_type": "display_data"
    },
    {
     "data": {
      "text/plain": [
       "'60% incr in deciduous volume by 2050'"
      ]
     },
     "metadata": {},
     "output_type": "display_data"
    },
    {
     "data": {
      "text/plain": [
       "1.1046534438139852"
      ]
     },
     "metadata": {},
     "output_type": "display_data"
    },
    {
     "data": {
      "text/plain": [
       "'Share of set aside forest'"
      ]
     },
     "metadata": {},
     "output_type": "display_data"
    },
    {
     "data": {
      "text/plain": [
       "0.04618111839351055"
      ]
     },
     "metadata": {},
     "output_type": "display_data"
    },
    {
     "data": {
      "text/plain": [
       "'Share of CCF'"
      ]
     },
     "metadata": {},
     "output_type": "display_data"
    },
    {
     "data": {
      "text/plain": [
       "0.037705496848181634"
      ]
     },
     "metadata": {},
     "output_type": "display_data"
    },
    {
     "name": "stdout",
     "output_type": "stream",
     "text": [
      "\r",
      " 85%|█████████████████████████████████████████████████████████████████████▍            | 11/13 [14:40<01:29, 44.84s/it]"
     ]
    },
    {
     "data": {
      "text/plain": [
       "'Optimizing for Share of set aside forest'"
      ]
     },
     "metadata": {},
     "output_type": "display_data"
    },
    {
     "data": {
      "text/plain": [
       "'Found an optimal solution in 17 seconds'"
      ]
     },
     "metadata": {},
     "output_type": "display_data"
    },
    {
     "data": {
      "text/plain": [
       "'Objective values are:'"
      ]
     },
     "metadata": {},
     "output_type": "display_data"
    },
    {
     "data": {
      "text/plain": [
       "'Sawlog harvest levels according to GLOBIOM at RCP0'"
      ]
     },
     "metadata": {},
     "output_type": "display_data"
    },
    {
     "data": {
      "text/plain": [
       "-1.0"
      ]
     },
     "metadata": {},
     "output_type": "display_data"
    },
    {
     "data": {
      "text/plain": [
       "'Pulp harvest levels according to GLOBIOM at RCP0'"
      ]
     },
     "metadata": {},
     "output_type": "display_data"
    },
    {
     "data": {
      "text/plain": [
       "-1.0"
      ]
     },
     "metadata": {},
     "output_type": "display_data"
    },
    {
     "data": {
      "text/plain": [
       "'Residues levels according to GLOBIOM at RCP0'"
      ]
     },
     "metadata": {},
     "output_type": "display_data"
    },
    {
     "data": {
      "text/plain": [
       "-1.0"
      ]
     },
     "metadata": {},
     "output_type": "display_data"
    },
    {
     "data": {
      "text/plain": [
       "'Total sum net present value of cut forest'"
      ]
     },
     "metadata": {},
     "output_type": "display_data"
    },
    {
     "data": {
      "text/plain": [
       "-391681975.15"
      ]
     },
     "metadata": {},
     "output_type": "display_data"
    },
    {
     "data": {
      "text/plain": [
       "'Annual Increment (maximised min over all years)'"
      ]
     },
     "metadata": {},
     "output_type": "display_data"
    },
    {
     "data": {
      "text/plain": [
       "0.0"
      ]
     },
     "metadata": {},
     "output_type": "display_data"
    },
    {
     "data": {
      "text/plain": [
       "'Average harvest'"
      ]
     },
     "metadata": {},
     "output_type": "display_data"
    },
    {
     "data": {
      "text/plain": [
       "0.0"
      ]
     },
     "metadata": {},
     "output_type": "display_data"
    },
    {
     "data": {
      "text/plain": [
       "'No decrease carbon stocks'"
      ]
     },
     "metadata": {},
     "output_type": "display_data"
    },
    {
     "data": {
      "text/plain": [
       "0.0"
      ]
     },
     "metadata": {},
     "output_type": "display_data"
    },
    {
     "data": {
      "text/plain": [
       "'No decrease in recreation index'"
      ]
     },
     "metadata": {},
     "output_type": "display_data"
    },
    {
     "data": {
      "text/plain": [
       "0.0"
      ]
     },
     "metadata": {},
     "output_type": "display_data"
    },
    {
     "data": {
      "text/plain": [
       "'60% incr in deadwood by 2050'"
      ]
     },
     "metadata": {},
     "output_type": "display_data"
    },
    {
     "data": {
      "text/plain": [
       "-7.0"
      ]
     },
     "metadata": {},
     "output_type": "display_data"
    },
    {
     "data": {
      "text/plain": [
       "'60% incr in old deciduous area by 2050'"
      ]
     },
     "metadata": {},
     "output_type": "display_data"
    },
    {
     "data": {
      "text/plain": [
       "-7.0"
      ]
     },
     "metadata": {},
     "output_type": "display_data"
    },
    {
     "data": {
      "text/plain": [
       "'60% incr in deciduous volume by 2050'"
      ]
     },
     "metadata": {},
     "output_type": "display_data"
    },
    {
     "data": {
      "text/plain": [
       "-7.0"
      ]
     },
     "metadata": {},
     "output_type": "display_data"
    },
    {
     "data": {
      "text/plain": [
       "'Share of set aside forest'"
      ]
     },
     "metadata": {},
     "output_type": "display_data"
    },
    {
     "data": {
      "text/plain": [
       "1.0000000000000018"
      ]
     },
     "metadata": {},
     "output_type": "display_data"
    },
    {
     "data": {
      "text/plain": [
       "'Share of CCF'"
      ]
     },
     "metadata": {},
     "output_type": "display_data"
    },
    {
     "data": {
      "text/plain": [
       "0.0"
      ]
     },
     "metadata": {},
     "output_type": "display_data"
    },
    {
     "name": "stdout",
     "output_type": "stream",
     "text": [
      "\r",
      " 92%|███████████████████████████████████████████████████████████████████████████▋      | 12/13 [14:58<00:36, 36.70s/it]"
     ]
    },
    {
     "data": {
      "text/plain": [
       "'Optimizing for Share of CCF'"
      ]
     },
     "metadata": {},
     "output_type": "display_data"
    },
    {
     "data": {
      "text/plain": [
       "'Found an optimal solution in 17 seconds'"
      ]
     },
     "metadata": {},
     "output_type": "display_data"
    },
    {
     "data": {
      "text/plain": [
       "'Objective values are:'"
      ]
     },
     "metadata": {},
     "output_type": "display_data"
    },
    {
     "data": {
      "text/plain": [
       "'Sawlog harvest levels according to GLOBIOM at RCP0'"
      ]
     },
     "metadata": {},
     "output_type": "display_data"
    },
    {
     "data": {
      "text/plain": [
       "-0.5333500174050925"
      ]
     },
     "metadata": {},
     "output_type": "display_data"
    },
    {
     "data": {
      "text/plain": [
       "'Pulp harvest levels according to GLOBIOM at RCP0'"
      ]
     },
     "metadata": {},
     "output_type": "display_data"
    },
    {
     "data": {
      "text/plain": [
       "-0.43871989505001163"
      ]
     },
     "metadata": {},
     "output_type": "display_data"
    },
    {
     "data": {
      "text/plain": [
       "'Residues levels according to GLOBIOM at RCP0'"
      ]
     },
     "metadata": {},
     "output_type": "display_data"
    },
    {
     "data": {
      "text/plain": [
       "-0.7250704935040443"
      ]
     },
     "metadata": {},
     "output_type": "display_data"
    },
    {
     "data": {
      "text/plain": [
       "'Total sum net present value of cut forest'"
      ]
     },
     "metadata": {},
     "output_type": "display_data"
    },
    {
     "data": {
      "text/plain": [
       "749815298768.6561"
      ]
     },
     "metadata": {},
     "output_type": "display_data"
    },
    {
     "data": {
      "text/plain": [
       "'Annual Increment (maximised min over all years)'"
      ]
     },
     "metadata": {},
     "output_type": "display_data"
    },
    {
     "data": {
      "text/plain": [
       "0.0"
      ]
     },
     "metadata": {},
     "output_type": "display_data"
    },
    {
     "data": {
      "text/plain": [
       "'Average harvest'"
      ]
     },
     "metadata": {},
     "output_type": "display_data"
    },
    {
     "data": {
      "text/plain": [
       "0.0"
      ]
     },
     "metadata": {},
     "output_type": "display_data"
    },
    {
     "data": {
      "text/plain": [
       "'No decrease carbon stocks'"
      ]
     },
     "metadata": {},
     "output_type": "display_data"
    },
    {
     "data": {
      "text/plain": [
       "0.0"
      ]
     },
     "metadata": {},
     "output_type": "display_data"
    },
    {
     "data": {
      "text/plain": [
       "'No decrease in recreation index'"
      ]
     },
     "metadata": {},
     "output_type": "display_data"
    },
    {
     "data": {
      "text/plain": [
       "0.0"
      ]
     },
     "metadata": {},
     "output_type": "display_data"
    },
    {
     "data": {
      "text/plain": [
       "'60% incr in deadwood by 2050'"
      ]
     },
     "metadata": {},
     "output_type": "display_data"
    },
    {
     "data": {
      "text/plain": [
       "-0.06336637317367533"
      ]
     },
     "metadata": {},
     "output_type": "display_data"
    },
    {
     "data": {
      "text/plain": [
       "'60% incr in old deciduous area by 2050'"
      ]
     },
     "metadata": {},
     "output_type": "display_data"
    },
    {
     "data": {
      "text/plain": [
       "0.0"
      ]
     },
     "metadata": {},
     "output_type": "display_data"
    },
    {
     "data": {
      "text/plain": [
       "'60% incr in deciduous volume by 2050'"
      ]
     },
     "metadata": {},
     "output_type": "display_data"
    },
    {
     "data": {
      "text/plain": [
       "0.0"
      ]
     },
     "metadata": {},
     "output_type": "display_data"
    },
    {
     "data": {
      "text/plain": [
       "'Share of set aside forest'"
      ]
     },
     "metadata": {},
     "output_type": "display_data"
    },
    {
     "data": {
      "text/plain": [
       "0.05926318208045384"
      ]
     },
     "metadata": {},
     "output_type": "display_data"
    },
    {
     "data": {
      "text/plain": [
       "'Share of CCF'"
      ]
     },
     "metadata": {},
     "output_type": "display_data"
    },
    {
     "data": {
      "text/plain": [
       "0.3303102916805133"
      ]
     },
     "metadata": {},
     "output_type": "display_data"
    },
    {
     "name": "stdout",
     "output_type": "stream",
     "text": [
      "100%|██████████████████████████████████████████████████████████████████████████████████| 13/13 [15:16<00:00, 70.47s/it]\n",
      "Wall time: 15min 16s\n"
     ]
    }
   ],
   "source": [
    "%%time\n",
    "mfo.calculateObjectiveRanges()"
   ]
  },
  {
   "cell_type": "code",
   "execution_count": 75,
   "metadata": {},
   "outputs": [
    {
     "data": {
      "text/plain": [
       "{'GSawlog_RCP0': (-1.0, -0.09457940185393),\n",
       " 'GPulpFuel_RCP0': (-1.0, 0.09180420086757979),\n",
       " 'GResidues_RCP0': (-1.0, 0.8918764392432547),\n",
       " 'NetPresentValue': (-391681975.15, 1000478986580.3842),\n",
       " 'TotalAnnIncrement': (0.0, 4.555698719324596),\n",
       " 'HarvestEvenFlow': (0.0, 24.468634762621406),\n",
       " 'TotalCarbon': (0.0, 1.0350427934677475),\n",
       " 'RecreationIndex': (0.0, 1.0391951875677192),\n",
       " 'DeadWoodVolume': (-7.0, 0.30737786804962836),\n",
       " 'OldDeciduous': (-7.0, 0.2085914080264387),\n",
       " 'DeciduousVolume': (-7.0, 1.1046534438139852),\n",
       " 'SetAside': (0.04160482195013045, 1.0000000000000018),\n",
       " 'CCF': (0.0, 0.3303102916805133)}"
      ]
     },
     "execution_count": 75,
     "metadata": {},
     "output_type": "execute_result"
    }
   ],
   "source": [
    "mfo.objectiveRanges"
   ]
  },
  {
   "cell_type": "markdown",
   "metadata": {},
   "source": [
    "## Export the objetive ranges\n",
    "\n",
    "Can save re-calculation times if big data sets are optimised"
   ]
  },
  {
   "cell_type": "code",
   "execution_count": null,
   "metadata": {},
   "outputs": [],
   "source": [
    "import json\n",
    "mfo.objectiveRanges\n",
    "\n",
    "with open(\"C:/MultiforestOptimisationNotebook/results/V1/objectiveRanges_\"+RCP+\"_\"+scenario+\".json\", \"w\") as json_file:\n",
    "    json.dump(mfo.objectiveRanges, json_file)"
   ]
  },
  {
   "cell_type": "markdown",
   "metadata": {},
   "source": [
    "Save the objectives ranges also as CSV"
   ]
  },
  {
   "cell_type": "code",
   "execution_count": null,
   "metadata": {},
   "outputs": [],
   "source": [
    "import pandas\n",
    "df = pandas.read_json(\"C:/MultiforestOptimisationNotebook/results/V1/objectiveRanges_\"+RCP+\"_\"+scenario+\".json\")\n",
    "df.to_csv(\"C:/MultiforestOptimisationNotebook/results/V1/objectiveRanges_\"+RCP+\"_\"+scenario+\".csv\")"
   ]
  },
  {
   "cell_type": "markdown",
   "metadata": {},
   "source": [
    "## Show the GUI"
   ]
  },
  {
   "cell_type": "code",
   "execution_count": 76,
   "metadata": {
    "scrolled": false
   },
   "outputs": [
    {
     "data": {
      "text/html": [
       "<style>\n",
       "            .widget-label { min-width: 60% !important; }\n",
       "        </style>"
      ],
      "text/plain": [
       "<IPython.core.display.HTML object>"
      ]
     },
     "metadata": {},
     "output_type": "display_data"
    },
    {
     "data": {
      "text/html": [
       "<h2>Epsilon constraint values</h2>"
      ],
      "text/plain": [
       "<IPython.core.display.HTML object>"
      ]
     },
     "metadata": {},
     "output_type": "display_data"
    },
    {
     "data": {
      "application/vnd.jupyter.widget-view+json": {
       "model_id": "72375411c30b495e82190d0853120135",
       "version_major": 2,
       "version_minor": 0
      },
      "text/plain": [
       "interactive(children=(FloatSlider(value=-1.0, description='Sawlog harvest levels according to GLOBIOM at RCP0'…"
      ]
     },
     "metadata": {},
     "output_type": "display_data"
    },
    {
     "data": {
      "text/html": [
       "<h2>Reference point</h2>"
      ],
      "text/plain": [
       "<IPython.core.display.HTML object>"
      ]
     },
     "metadata": {},
     "output_type": "display_data"
    },
    {
     "data": {
      "application/vnd.jupyter.widget-view+json": {
       "model_id": "546e23ed6cbd4878a85be2a83318c698",
       "version_major": 2,
       "version_minor": 0
      },
      "text/plain": [
       "interactive(children=(FloatSlider(value=-0.547289700926965, description='Sawlog harvest levels according to GL…"
      ]
     },
     "metadata": {},
     "output_type": "display_data"
    },
    {
     "data": {
      "text/html": [
       "<h2>Enabled constraints</h2>"
      ],
      "text/plain": [
       "<IPython.core.display.HTML object>"
      ]
     },
     "metadata": {},
     "output_type": "display_data"
    },
    {
     "data": {
      "application/vnd.jupyter.widget-view+json": {
       "model_id": "01782672a87b46a0af124c4a41736494",
       "version_major": 2,
       "version_minor": 0
      },
      "text/plain": [
       "interactive(children=(Button(description='Change constraints', style=ButtonStyle()), Output()), _dom_classes=(…"
      ]
     },
     "metadata": {},
     "output_type": "display_data"
    },
    {
     "data": {
      "application/vnd.jupyter.widget-view+json": {
       "model_id": "d79171a46f0d472ebde539b0839e6fba",
       "version_major": 2,
       "version_minor": 0
      },
      "text/plain": [
       "Button(description='Print solution', style=ButtonStyle())"
      ]
     },
     "metadata": {},
     "output_type": "display_data"
    }
   ],
   "source": [
    "mfo.showGUI(debug=True)"
   ]
  },
  {
   "cell_type": "markdown",
   "metadata": {},
   "source": [
    "## Export solution data as csv"
   ]
  },
  {
   "cell_type": "code",
   "execution_count": 39,
   "metadata": {},
   "outputs": [],
   "source": [
    "import os\n",
    "\n",
    "try:\n",
    "    os.mkdir(\"results\")\n",
    "except FileExistsError:\n",
    "    pass\n",
    "#b = []\n",
    "c = []\n",
    "for key in mfo.regimesDecision.keys():\n",
    "    if mfo.regimesDecision[key].solution_value() > 0:\n",
    " #       b = b+ [(key[0],x, key[1]) for x in range(0,21)]\n",
    "        c = c+ [(key[0],key[1],mfo.regimesDecision[key].solution_value())]\n",
    "#data2b = mfo.data.iloc[mfo.data.index.isin(b)]\n",
    "#data2b.to_csv(\"C:/MultiforestOptimisationNotebook/results/V1/solution_alldata_\"+RCP+\"_\"+scenario+\"_data.csv\")\n",
    "#c1 = pd.DataFrame(c)\n",
    "c1.to_csv(\"C:/MultiforestOptimisationNotebook/results/V1/solution_\"+RCP+\"_\"+scenario+\"_solutions_test.csv\")"
   ]
  },
  {
   "cell_type": "markdown",
   "metadata": {},
   "source": [
    "## Export objective values\n",
    "\n",
    "The optimal solution for each objective."
   ]
  },
  {
   "cell_type": "code",
   "execution_count": null,
   "metadata": {},
   "outputs": [],
   "source": [
    "with open(\"C:/MultiforestOptimisationNotebook/results/V1/objectiveValues_\"+scenario+'_'+RCP+\".csv\",\"w\") as file: \n",
    "    delim = \"\" \n",
    "    for objName in mfo.objectiveTypes.keys(): \n",
    "        file.write(delim+objName) \n",
    "        delim = \",\" \n",
    "    file.write(\"\\n\") \n",
    "    delim = \"\" \n",
    "    for objName in mfo.objectiveTypes.keys(): \n",
    "        file.write(delim+str(mfo.objective[objName].solution_value())) \n",
    "        delim = \",\" \n",
    "    file.write(\"\\n\")"
   ]
  },
  {
   "cell_type": "code",
   "execution_count": null,
   "metadata": {},
   "outputs": [],
   "source": [
    "mfo.data[mfo.timeEnu]"
   ]
  }
 ],
 "metadata": {
  "kernelspec": {
   "display_name": "Python 3",
   "language": "python",
   "name": "python3"
  },
  "language_info": {
   "codemirror_mode": {
    "name": "ipython",
    "version": 3
   },
   "file_extension": ".py",
   "mimetype": "text/x-python",
   "name": "python",
   "nbconvert_exporter": "python",
   "pygments_lexer": "ipython3",
   "version": "3.8.3"
  }
 },
 "nbformat": 4,
 "nbformat_minor": 2
}
