{
 "cells": [
  {
   "cell_type": "markdown",
   "metadata": {},
   "source": [
    "# MultiForest optimization notebook\n",
    "\n",
    "## FINLAND - national policy scenario optimization"
   ]
  },
  {
   "cell_type": "markdown",
   "metadata": {},
   "source": [
    "Above the code cells, there are short instructions how the users can modify the codes in the cells.<br>\n",
    "If there are no instructions, no changes should be needed for the cell by default.\n",
    "\n",
    "A detailed description is provided in the <b>README.md</b>."
   ]
  },
  {
   "cell_type": "markdown",
   "metadata": {},
   "source": [
    "## Basic definitions"
   ]
  },
  {
   "cell_type": "markdown",
   "metadata": {},
   "source": [
    "Simulated forest data (climate scenario and name); sample size of data "
   ]
  },
  {
   "cell_type": "code",
   "execution_count": 1,
   "metadata": {},
   "outputs": [],
   "source": [
    "RCP = \"rcp0\" # \"rcp0\" = no climate change, \"rcp45\"\n",
    "filename = \"sample_central_fin_\"+RCP+\".zip\" # sample_central_fin_rcp0.zip"
   ]
  },
  {
   "cell_type": "markdown",
   "metadata": {},
   "source": [
    "Specify policy scenario: \n",
    "* \"NFS\" - National Forest Strategy\n",
    "* \"BDS\" - Biodiversity Strategy\n",
    "* \"BES\" - Bioeconomy Strategy"
   ]
  },
  {
   "cell_type": "code",
   "execution_count": 2,
   "metadata": {},
   "outputs": [],
   "source": [
    "scenario = \"BES\" "
   ]
  },
  {
   "cell_type": "markdown",
   "metadata": {},
   "source": [
    "Name definition for saved output, rule: _scenario_RCP_extension"
   ]
  },
  {
   "cell_type": "code",
   "execution_count": 3,
   "metadata": {},
   "outputs": [],
   "source": [
    "extension = \"test\" # some additional info to the saved output "
   ]
  },
  {
   "cell_type": "markdown",
   "metadata": {},
   "source": [
    "## Read .py class"
   ]
  },
  {
   "cell_type": "code",
   "execution_count": 4,
   "metadata": {},
   "outputs": [],
   "source": [
    "import wget\n",
    "import os\n",
    "import pandas as pd\n",
    "import sys"
   ]
  },
  {
   "cell_type": "code",
   "execution_count": 5,
   "metadata": {},
   "outputs": [],
   "source": [
    "import multiFunctionalOptimization as MFO"
   ]
  },
  {
   "cell_type": "code",
   "execution_count": 6,
   "metadata": {},
   "outputs": [
    {
     "data": {
      "text/plain": [
       "<module 'multiFunctionalOptimization' from '/home/ubuntu/workspace/opt_ilmari/multiFunctionalOptimization.py'>"
      ]
     },
     "execution_count": 6,
     "metadata": {},
     "output_type": "execute_result"
    }
   ],
   "source": [
    "from importlib import reload\n",
    "reload(MFO)"
   ]
  },
  {
   "cell_type": "markdown",
   "metadata": {},
   "source": [
    "If no solver is specified, the open source solver CLP is used"
   ]
  },
  {
   "cell_type": "code",
   "execution_count": 7,
   "metadata": {},
   "outputs": [
    {
     "data": {
      "text/plain": [
       "'Using CPLEX'"
      ]
     },
     "metadata": {},
     "output_type": "display_data"
    }
   ],
   "source": [
    "mfo = MFO.MultiFunctionalOptimization(solver = 'CPLEX') "
   ]
  },
  {
   "cell_type": "markdown",
   "metadata": {},
   "source": [
    "## Read data"
   ]
  },
  {
   "cell_type": "code",
   "execution_count": 8,
   "metadata": {},
   "outputs": [
    {
     "data": {
      "text/plain": [
       "'sample size 1789/3579(49%)'"
      ]
     },
     "metadata": {},
     "output_type": "display_data"
    },
    {
     "name": "stdout",
     "output_type": "stream",
     "text": [
      "CPU times: user 1.89 s, sys: 749 ms, total: 2.64 s\n",
      "Wall time: 2.64 s\n"
     ]
    }
   ],
   "source": [
    "%%time\n",
    "mfo.readData(filename,\n",
    "             sampleRatio=0.5 #If no sample ratio given, the ratio is assumed to be 1.\n",
    "            )                "
   ]
  },
  {
   "cell_type": "markdown",
   "metadata": {},
   "source": [
    "## Create some new variables in the data"
   ]
  },
  {
   "cell_type": "markdown",
   "metadata": {},
   "source": [
    "Calculate total (per stand) values from relative values:\n",
    "* \"Relative to Area\" = simulated indicator value relate to one hectar -> scaled to represented area of NFI plot <br>\n",
    "* (\"Relative to volume\" = indicator relates to standing Volume -> scaled to the represented volume of the plot) <br>\n",
    "* (\"Absolute Value\" = takes the inticator value as it is)"
   ]
  },
  {
   "cell_type": "code",
   "execution_count": 9,
   "metadata": {},
   "outputs": [],
   "source": [
    "columnTypes = {\n",
    "    'i_Vm3':(float,\"Relative to Area\"),\n",
    "    'Harvested_V':(float,\"Relative to Area\"),\n",
    "    'Harvested_V_log_under_bark':(float,\"Relative to Area\"), \n",
    "    'Harvested_V_pulp_under_bark':(float,\"Relative to Area\"),\n",
    "    'Harvested_V_under_bark':(float,\"Relative to Area\"), \n",
    "    'Biomass':(float,\"Relative to Area\"),\n",
    "    'ALL_MARKETED_MUSHROOMS':(float,\"Relative to Area\"), \n",
    "    'BILBERRY':(float,\"Relative to Area\"), \n",
    "    'COWBERRY':(float,\"Relative to Area\"),\n",
    "    'HSI_MOOSE':(float,\"Relative to Area\"),\n",
    "    'CAPERCAILLIE':(float,\"Relative to Area\"), \n",
    "    'HAZEL_GROUSE':(float,\"Relative to Area\"), \n",
    "    'V_total_deadwood':(float,\"Relative to Area\"), \n",
    "    'N_where_D_gt_40':(float,\"Relative to Area\"),\n",
    "    'prc_V_deciduous':(float,\"Relative to Area\"),\n",
    "    'CARBON_SINK':(float,\"Relative to Area\"), \n",
    "    'Recreation':(float,\"Relative to Area\"),\n",
    "    'Scenic':(float,\"Relative to Area\")\n",
    "}"
   ]
  },
  {
   "cell_type": "code",
   "execution_count": 10,
   "metadata": {},
   "outputs": [],
   "source": [
    "mfo.calculateTotalValuesFromRelativeValues(columnTypes=columnTypes)"
   ]
  },
  {
   "cell_type": "markdown",
   "metadata": {},
   "source": [
    "List the new created columns: <br>\n",
    "* Total_... hectare value multiplied by represented area (or volume)"
   ]
  },
  {
   "cell_type": "code",
   "execution_count": 11,
   "metadata": {},
   "outputs": [
    {
     "data": {
      "text/plain": [
       "['Total_i_Vm3',\n",
       " 'Total_Harvested_V',\n",
       " 'Total_Harvested_V_log_under_bark',\n",
       " 'Total_Harvested_V_pulp_under_bark',\n",
       " 'Total_Harvested_V_under_bark',\n",
       " 'Total_Biomass',\n",
       " 'Total_ALL_MARKETED_MUSHROOMS',\n",
       " 'Total_BILBERRY',\n",
       " 'Total_COWBERRY',\n",
       " 'Total_HSI_MOOSE',\n",
       " 'Total_CAPERCAILLIE',\n",
       " 'Total_HAZEL_GROUSE',\n",
       " 'Total_V_total_deadwood',\n",
       " 'Total_N_where_D_gt_40',\n",
       " 'Total_prc_V_deciduous',\n",
       " 'Total_CARBON_SINK',\n",
       " 'Total_Recreation',\n",
       " 'Total_Scenic']"
      ]
     },
     "execution_count": 11,
     "metadata": {},
     "output_type": "execute_result"
    }
   ],
   "source": [
    "[name for name in mfo.data.columns if \"Total_\" in name and \"Relative\" not in name]"
   ]
  },
  {
   "cell_type": "markdown",
   "metadata": {},
   "source": [
    "## Create new column\n",
    "1) Column indicating if regime is \"CCF_3, CCF_4, BAUwGTR\" (TRUE/FLASE) <br>\n",
    "Important for FES Biodiversity, allowed regimes for conservation sites.\n",
    "\n",
    "2) Column indicating if regime is \"SA\" (TRUE/FALSE)<br>\n",
    "Important for FES Biodiversity, allowed regimes for statutory protection sites.\n",
    "\n",
    "3) Column indicating if regime is \"BAUwT_B, BAUwT_5_B, BAUwT_15_B, BAUwT_30_B, BAUwT_GTR_B\" <br>\n",
    "Important for FES Resillience, allowed regimes for climate change adaption."
   ]
  },
  {
   "cell_type": "code",
   "execution_count": 12,
   "metadata": {},
   "outputs": [],
   "source": [
    "regimeClassNames = {\"regimeClass0name\":\"CCF\",\"regimeClass1name\":\"SA\",\"regimeClass2name\":\"Broadleave\"}\n",
    "regimeClassregimes = {\"regimeClass0regimes\":[\"CCF_3\",\"CCF_4\",\"BAUwGTR\"],\"regimeClass1regimes\":[\"SA\"],\"regimeClass2regimes\":[\"BAUwT_B\", \"BAUwT_5_B\", \"BAUwT_15_B\", \"BAUwT_30_B\", \"BAUwT_GTR_B\"]}"
   ]
  },
  {
   "cell_type": "code",
   "execution_count": 13,
   "metadata": {},
   "outputs": [],
   "source": [
    "mfo.addRegimeClassifications(regimeClassNames = regimeClassNames,regimeClassregimes=regimeClassregimes)"
   ]
  },
  {
   "cell_type": "code",
   "execution_count": null,
   "metadata": {},
   "outputs": [],
   "source": []
  },
  {
   "cell_type": "markdown",
   "metadata": {},
   "source": [
    "## Define initial value\n",
    "1) Define initial values, recognized by the regime \"initial_state\", which only occurs at the first year (here 2016)\n",
    "\n",
    "2) Create new variables that describe the <b>relative change to initial situation (start year) \"Relative_\"</b>:"
   ]
  },
  {
   "cell_type": "code",
   "execution_count": 19,
   "metadata": {},
   "outputs": [],
   "source": [
    "mfo.finalizeData(initialRegime=\"initial_state\")"
   ]
  },
  {
   "cell_type": "markdown",
   "metadata": {},
   "source": [
    "New variables created:"
   ]
  },
  {
   "cell_type": "code",
   "execution_count": 20,
   "metadata": {},
   "outputs": [
    {
     "data": {
      "text/plain": [
       "['Relative_V',\n",
       " 'Relative_Age',\n",
       " 'Relative_AGE_ba',\n",
       " 'Relative_ALL_MARKETED_MUSHROOMS',\n",
       " 'Relative_BILBERRY',\n",
       " 'Relative_COWBERRY',\n",
       " 'Relative_HSI_MOOSE',\n",
       " 'Relative_CAPERCAILLIE',\n",
       " 'Relative_HAZEL_GROUSE',\n",
       " 'Relative_V_total_deadwood',\n",
       " 'Relative_N_where_D_gt_40',\n",
       " 'Relative_prc_V_deciduous',\n",
       " 'Relative_CARBON_STORAGE_Update',\n",
       " 'Relative_Recreation',\n",
       " 'Relative_Scenic',\n",
       " 'Relative_Total_ALL_MARKETED_MUSHROOMS',\n",
       " 'Relative_Total_BILBERRY',\n",
       " 'Relative_Total_COWBERRY',\n",
       " 'Relative_Total_HSI_MOOSE',\n",
       " 'Relative_Total_CAPERCAILLIE',\n",
       " 'Relative_Total_HAZEL_GROUSE',\n",
       " 'Relative_Total_V_total_deadwood',\n",
       " 'Relative_Total_N_where_D_gt_40',\n",
       " 'Relative_Total_prc_V_deciduous',\n",
       " 'Relative_Total_Recreation',\n",
       " 'Relative_Total_Scenic']"
      ]
     },
     "execution_count": 20,
     "metadata": {},
     "output_type": "execute_result"
    }
   ],
   "source": [
    "[name for name in mfo.data.columns if \"Relative_\" in name]"
   ]
  },
  {
   "cell_type": "code",
   "execution_count": 21,
   "metadata": {},
   "outputs": [
    {
     "data": {
      "text/html": [
       "<div>\n",
       "<style scoped>\n",
       "    .dataframe tbody tr th:only-of-type {\n",
       "        vertical-align: middle;\n",
       "    }\n",
       "\n",
       "    .dataframe tbody tr th {\n",
       "        vertical-align: top;\n",
       "    }\n",
       "\n",
       "    .dataframe thead th {\n",
       "        text-align: right;\n",
       "    }\n",
       "</style>\n",
       "<table border=\"1\" class=\"dataframe\">\n",
       "  <thead>\n",
       "    <tr style=\"text-align: right;\">\n",
       "      <th></th>\n",
       "      <th></th>\n",
       "      <th></th>\n",
       "      <th>V</th>\n",
       "      <th>i_Vm3</th>\n",
       "      <th>Harvested_V</th>\n",
       "      <th>Harvested_V_log_under_bark</th>\n",
       "      <th>Harvested_V_pulp_under_bark</th>\n",
       "      <th>Harvested_V_under_bark</th>\n",
       "      <th>MAIN_SP</th>\n",
       "      <th>Age</th>\n",
       "      <th>AGE_ba</th>\n",
       "      <th>SC</th>\n",
       "      <th>...</th>\n",
       "      <th>Relative_Total_BILBERRY</th>\n",
       "      <th>Relative_Total_COWBERRY</th>\n",
       "      <th>Relative_Total_HSI_MOOSE</th>\n",
       "      <th>Relative_Total_CAPERCAILLIE</th>\n",
       "      <th>Relative_Total_HAZEL_GROUSE</th>\n",
       "      <th>Relative_Total_V_total_deadwood</th>\n",
       "      <th>Relative_Total_N_where_D_gt_40</th>\n",
       "      <th>Relative_Total_prc_V_deciduous</th>\n",
       "      <th>Relative_Total_Recreation</th>\n",
       "      <th>Relative_Total_Scenic</th>\n",
       "    </tr>\n",
       "    <tr>\n",
       "      <th>id</th>\n",
       "      <th>year</th>\n",
       "      <th>regime</th>\n",
       "      <th></th>\n",
       "      <th></th>\n",
       "      <th></th>\n",
       "      <th></th>\n",
       "      <th></th>\n",
       "      <th></th>\n",
       "      <th></th>\n",
       "      <th></th>\n",
       "      <th></th>\n",
       "      <th></th>\n",
       "      <th></th>\n",
       "      <th></th>\n",
       "      <th></th>\n",
       "      <th></th>\n",
       "      <th></th>\n",
       "      <th></th>\n",
       "      <th></th>\n",
       "      <th></th>\n",
       "      <th></th>\n",
       "      <th></th>\n",
       "      <th></th>\n",
       "    </tr>\n",
       "  </thead>\n",
       "  <tbody>\n",
       "    <tr>\n",
       "      <th rowspan=\"5\" valign=\"top\">99011014</th>\n",
       "      <th>2021</th>\n",
       "      <th>SA</th>\n",
       "      <td>409.58</td>\n",
       "      <td>7.20</td>\n",
       "      <td>0.0</td>\n",
       "      <td>0.0</td>\n",
       "      <td>0.0</td>\n",
       "      <td>0.0</td>\n",
       "      <td>2</td>\n",
       "      <td>84.0</td>\n",
       "      <td>83.53</td>\n",
       "      <td>1</td>\n",
       "      <td>...</td>\n",
       "      <td>0.0</td>\n",
       "      <td>0.000339</td>\n",
       "      <td>0.0</td>\n",
       "      <td>0.0</td>\n",
       "      <td>0.000147</td>\n",
       "      <td>0.002044</td>\n",
       "      <td>0.0</td>\n",
       "      <td>0.000082</td>\n",
       "      <td>0.000689</td>\n",
       "      <td>0.000711</td>\n",
       "    </tr>\n",
       "    <tr>\n",
       "      <th>2026</th>\n",
       "      <th>SA</th>\n",
       "      <td>445.49</td>\n",
       "      <td>7.29</td>\n",
       "      <td>0.0</td>\n",
       "      <td>0.0</td>\n",
       "      <td>0.0</td>\n",
       "      <td>0.0</td>\n",
       "      <td>2</td>\n",
       "      <td>89.0</td>\n",
       "      <td>88.57</td>\n",
       "      <td>1</td>\n",
       "      <td>...</td>\n",
       "      <td>0.0</td>\n",
       "      <td>0.000329</td>\n",
       "      <td>0.0</td>\n",
       "      <td>0.0</td>\n",
       "      <td>0.000088</td>\n",
       "      <td>0.003213</td>\n",
       "      <td>0.0</td>\n",
       "      <td>0.000082</td>\n",
       "      <td>0.000696</td>\n",
       "      <td>0.000729</td>\n",
       "    </tr>\n",
       "    <tr>\n",
       "      <th>2031</th>\n",
       "      <th>SA</th>\n",
       "      <td>480.72</td>\n",
       "      <td>7.17</td>\n",
       "      <td>0.0</td>\n",
       "      <td>0.0</td>\n",
       "      <td>0.0</td>\n",
       "      <td>0.0</td>\n",
       "      <td>2</td>\n",
       "      <td>94.0</td>\n",
       "      <td>93.60</td>\n",
       "      <td>1</td>\n",
       "      <td>...</td>\n",
       "      <td>0.0</td>\n",
       "      <td>0.000320</td>\n",
       "      <td>0.0</td>\n",
       "      <td>0.0</td>\n",
       "      <td>0.000029</td>\n",
       "      <td>0.004253</td>\n",
       "      <td>0.0</td>\n",
       "      <td>0.000082</td>\n",
       "      <td>0.000703</td>\n",
       "      <td>0.000747</td>\n",
       "    </tr>\n",
       "    <tr>\n",
       "      <th>2036</th>\n",
       "      <th>SA</th>\n",
       "      <td>503.77</td>\n",
       "      <td>4.75</td>\n",
       "      <td>0.0</td>\n",
       "      <td>0.0</td>\n",
       "      <td>0.0</td>\n",
       "      <td>0.0</td>\n",
       "      <td>2</td>\n",
       "      <td>99.0</td>\n",
       "      <td>98.62</td>\n",
       "      <td>1</td>\n",
       "      <td>...</td>\n",
       "      <td>0.0</td>\n",
       "      <td>0.000314</td>\n",
       "      <td>0.0</td>\n",
       "      <td>0.0</td>\n",
       "      <td>0.000000</td>\n",
       "      <td>0.004918</td>\n",
       "      <td>0.0</td>\n",
       "      <td>0.000082</td>\n",
       "      <td>0.000707</td>\n",
       "      <td>0.000765</td>\n",
       "    </tr>\n",
       "    <tr>\n",
       "      <th>2041</th>\n",
       "      <th>SA</th>\n",
       "      <td>518.69</td>\n",
       "      <td>3.13</td>\n",
       "      <td>0.0</td>\n",
       "      <td>0.0</td>\n",
       "      <td>0.0</td>\n",
       "      <td>0.0</td>\n",
       "      <td>2</td>\n",
       "      <td>104.0</td>\n",
       "      <td>103.63</td>\n",
       "      <td>1</td>\n",
       "      <td>...</td>\n",
       "      <td>0.0</td>\n",
       "      <td>0.000311</td>\n",
       "      <td>0.0</td>\n",
       "      <td>0.0</td>\n",
       "      <td>0.000000</td>\n",
       "      <td>0.005344</td>\n",
       "      <td>0.0</td>\n",
       "      <td>0.000055</td>\n",
       "      <td>0.000710</td>\n",
       "      <td>0.000783</td>\n",
       "    </tr>\n",
       "  </tbody>\n",
       "</table>\n",
       "<p>5 rows × 78 columns</p>\n",
       "</div>"
      ],
      "text/plain": [
       "                           V  i_Vm3  Harvested_V  Harvested_V_log_under_bark  \\\n",
       "id       year regime                                                           \n",
       "99011014 2021 SA      409.58   7.20          0.0                         0.0   \n",
       "         2026 SA      445.49   7.29          0.0                         0.0   \n",
       "         2031 SA      480.72   7.17          0.0                         0.0   \n",
       "         2036 SA      503.77   4.75          0.0                         0.0   \n",
       "         2041 SA      518.69   3.13          0.0                         0.0   \n",
       "\n",
       "                      Harvested_V_pulp_under_bark  Harvested_V_under_bark  \\\n",
       "id       year regime                                                        \n",
       "99011014 2021 SA                              0.0                     0.0   \n",
       "         2026 SA                              0.0                     0.0   \n",
       "         2031 SA                              0.0                     0.0   \n",
       "         2036 SA                              0.0                     0.0   \n",
       "         2041 SA                              0.0                     0.0   \n",
       "\n",
       "                      MAIN_SP    Age  AGE_ba  SC  ...  \\\n",
       "id       year regime                              ...   \n",
       "99011014 2021 SA            2   84.0   83.53   1  ...   \n",
       "         2026 SA            2   89.0   88.57   1  ...   \n",
       "         2031 SA            2   94.0   93.60   1  ...   \n",
       "         2036 SA            2   99.0   98.62   1  ...   \n",
       "         2041 SA            2  104.0  103.63   1  ...   \n",
       "\n",
       "                      Relative_Total_BILBERRY  Relative_Total_COWBERRY  \\\n",
       "id       year regime                                                     \n",
       "99011014 2021 SA                          0.0                 0.000339   \n",
       "         2026 SA                          0.0                 0.000329   \n",
       "         2031 SA                          0.0                 0.000320   \n",
       "         2036 SA                          0.0                 0.000314   \n",
       "         2041 SA                          0.0                 0.000311   \n",
       "\n",
       "                      Relative_Total_HSI_MOOSE  Relative_Total_CAPERCAILLIE  \\\n",
       "id       year regime                                                          \n",
       "99011014 2021 SA                           0.0                          0.0   \n",
       "         2026 SA                           0.0                          0.0   \n",
       "         2031 SA                           0.0                          0.0   \n",
       "         2036 SA                           0.0                          0.0   \n",
       "         2041 SA                           0.0                          0.0   \n",
       "\n",
       "                      Relative_Total_HAZEL_GROUSE  \\\n",
       "id       year regime                                \n",
       "99011014 2021 SA                         0.000147   \n",
       "         2026 SA                         0.000088   \n",
       "         2031 SA                         0.000029   \n",
       "         2036 SA                         0.000000   \n",
       "         2041 SA                         0.000000   \n",
       "\n",
       "                      Relative_Total_V_total_deadwood  \\\n",
       "id       year regime                                    \n",
       "99011014 2021 SA                             0.002044   \n",
       "         2026 SA                             0.003213   \n",
       "         2031 SA                             0.004253   \n",
       "         2036 SA                             0.004918   \n",
       "         2041 SA                             0.005344   \n",
       "\n",
       "                      Relative_Total_N_where_D_gt_40  \\\n",
       "id       year regime                                   \n",
       "99011014 2021 SA                                 0.0   \n",
       "         2026 SA                                 0.0   \n",
       "         2031 SA                                 0.0   \n",
       "         2036 SA                                 0.0   \n",
       "         2041 SA                                 0.0   \n",
       "\n",
       "                      Relative_Total_prc_V_deciduous  \\\n",
       "id       year regime                                   \n",
       "99011014 2021 SA                            0.000082   \n",
       "         2026 SA                            0.000082   \n",
       "         2031 SA                            0.000082   \n",
       "         2036 SA                            0.000082   \n",
       "         2041 SA                            0.000055   \n",
       "\n",
       "                      Relative_Total_Recreation  Relative_Total_Scenic  \n",
       "id       year regime                                                    \n",
       "99011014 2021 SA                       0.000689               0.000711  \n",
       "         2026 SA                       0.000696               0.000729  \n",
       "         2031 SA                       0.000703               0.000747  \n",
       "         2036 SA                       0.000707               0.000765  \n",
       "         2041 SA                       0.000710               0.000783  \n",
       "\n",
       "[5 rows x 78 columns]"
      ]
     },
     "execution_count": 21,
     "metadata": {},
     "output_type": "execute_result"
    }
   ],
   "source": [
    "mfo.data.head()"
   ]
  },
  {
   "cell_type": "code",
   "execution_count": 22,
   "metadata": {},
   "outputs": [
    {
     "data": {
      "text/html": [
       "<div>\n",
       "<style scoped>\n",
       "    .dataframe tbody tr th:only-of-type {\n",
       "        vertical-align: middle;\n",
       "    }\n",
       "\n",
       "    .dataframe tbody tr th {\n",
       "        vertical-align: top;\n",
       "    }\n",
       "\n",
       "    .dataframe thead th {\n",
       "        text-align: right;\n",
       "    }\n",
       "</style>\n",
       "<table border=\"1\" class=\"dataframe\">\n",
       "  <thead>\n",
       "    <tr style=\"text-align: right;\">\n",
       "      <th></th>\n",
       "      <th></th>\n",
       "      <th></th>\n",
       "      <th>V</th>\n",
       "      <th>i_Vm3</th>\n",
       "      <th>Harvested_V</th>\n",
       "      <th>Harvested_V_log_under_bark</th>\n",
       "      <th>Harvested_V_pulp_under_bark</th>\n",
       "      <th>Harvested_V_under_bark</th>\n",
       "      <th>MAIN_SP</th>\n",
       "      <th>Age</th>\n",
       "      <th>AGE_ba</th>\n",
       "      <th>SC</th>\n",
       "      <th>...</th>\n",
       "      <th>Total_HAZEL_GROUSE</th>\n",
       "      <th>Total_V_total_deadwood</th>\n",
       "      <th>Total_N_where_D_gt_40</th>\n",
       "      <th>Total_prc_V_deciduous</th>\n",
       "      <th>Total_CARBON_SINK</th>\n",
       "      <th>Total_Recreation</th>\n",
       "      <th>Total_Scenic</th>\n",
       "      <th>CCF_forests</th>\n",
       "      <th>SA_forests</th>\n",
       "      <th>Broadleave_forests</th>\n",
       "    </tr>\n",
       "    <tr>\n",
       "      <th>id</th>\n",
       "      <th>year</th>\n",
       "      <th>regime</th>\n",
       "      <th></th>\n",
       "      <th></th>\n",
       "      <th></th>\n",
       "      <th></th>\n",
       "      <th></th>\n",
       "      <th></th>\n",
       "      <th></th>\n",
       "      <th></th>\n",
       "      <th></th>\n",
       "      <th></th>\n",
       "      <th></th>\n",
       "      <th></th>\n",
       "      <th></th>\n",
       "      <th></th>\n",
       "      <th></th>\n",
       "      <th></th>\n",
       "      <th></th>\n",
       "      <th></th>\n",
       "      <th></th>\n",
       "      <th></th>\n",
       "      <th></th>\n",
       "    </tr>\n",
       "  </thead>\n",
       "  <tbody>\n",
       "    <tr>\n",
       "      <th>99011014</th>\n",
       "      <th>2016</th>\n",
       "      <th>initial_state</th>\n",
       "      <td>374.02</td>\n",
       "      <td>0.0</td>\n",
       "      <td>0.0</td>\n",
       "      <td>0.0</td>\n",
       "      <td>0.0</td>\n",
       "      <td>0.0</td>\n",
       "      <td>2</td>\n",
       "      <td>80.0</td>\n",
       "      <td>79.48</td>\n",
       "      <td>1</td>\n",
       "      <td>...</td>\n",
       "      <td>27.79</td>\n",
       "      <td>1492.72</td>\n",
       "      <td>0.0</td>\n",
       "      <td>1191.0</td>\n",
       "      <td>0.0</td>\n",
       "      <td>2503.879</td>\n",
       "      <td>2317.289</td>\n",
       "      <td>False</td>\n",
       "      <td>False</td>\n",
       "      <td>False</td>\n",
       "    </tr>\n",
       "    <tr>\n",
       "      <th>99011016</th>\n",
       "      <th>2016</th>\n",
       "      <th>initial_state</th>\n",
       "      <td>141.85</td>\n",
       "      <td>0.0</td>\n",
       "      <td>0.0</td>\n",
       "      <td>0.0</td>\n",
       "      <td>0.0</td>\n",
       "      <td>0.0</td>\n",
       "      <td>1</td>\n",
       "      <td>89.0</td>\n",
       "      <td>71.71</td>\n",
       "      <td>4</td>\n",
       "      <td>...</td>\n",
       "      <td>258.05</td>\n",
       "      <td>1413.32</td>\n",
       "      <td>0.0</td>\n",
       "      <td>5161.0</td>\n",
       "      <td>0.0</td>\n",
       "      <td>2374.854</td>\n",
       "      <td>2432.816</td>\n",
       "      <td>False</td>\n",
       "      <td>False</td>\n",
       "      <td>False</td>\n",
       "    </tr>\n",
       "    <tr>\n",
       "      <th>99011019</th>\n",
       "      <th>2016</th>\n",
       "      <th>initial_state</th>\n",
       "      <td>142.53</td>\n",
       "      <td>0.0</td>\n",
       "      <td>0.0</td>\n",
       "      <td>0.0</td>\n",
       "      <td>0.0</td>\n",
       "      <td>0.0</td>\n",
       "      <td>1</td>\n",
       "      <td>60.0</td>\n",
       "      <td>57.78</td>\n",
       "      <td>4</td>\n",
       "      <td>...</td>\n",
       "      <td>0.00</td>\n",
       "      <td>1413.32</td>\n",
       "      <td>0.0</td>\n",
       "      <td>0.0</td>\n",
       "      <td>0.0</td>\n",
       "      <td>2239.477</td>\n",
       "      <td>2069.561</td>\n",
       "      <td>False</td>\n",
       "      <td>False</td>\n",
       "      <td>False</td>\n",
       "    </tr>\n",
       "    <tr>\n",
       "      <th>99011020</th>\n",
       "      <th>2016</th>\n",
       "      <th>initial_state</th>\n",
       "      <td>238.93</td>\n",
       "      <td>0.0</td>\n",
       "      <td>0.0</td>\n",
       "      <td>0.0</td>\n",
       "      <td>0.0</td>\n",
       "      <td>0.0</td>\n",
       "      <td>1</td>\n",
       "      <td>85.0</td>\n",
       "      <td>74.00</td>\n",
       "      <td>4</td>\n",
       "      <td>...</td>\n",
       "      <td>39.70</td>\n",
       "      <td>1409.35</td>\n",
       "      <td>0.0</td>\n",
       "      <td>1588.0</td>\n",
       "      <td>0.0</td>\n",
       "      <td>2317.289</td>\n",
       "      <td>2360.165</td>\n",
       "      <td>False</td>\n",
       "      <td>False</td>\n",
       "      <td>False</td>\n",
       "    </tr>\n",
       "    <tr>\n",
       "      <th>99011021</th>\n",
       "      <th>2016</th>\n",
       "      <th>initial_state</th>\n",
       "      <td>289.15</td>\n",
       "      <td>0.0</td>\n",
       "      <td>0.0</td>\n",
       "      <td>0.0</td>\n",
       "      <td>0.0</td>\n",
       "      <td>0.0</td>\n",
       "      <td>1</td>\n",
       "      <td>89.0</td>\n",
       "      <td>79.30</td>\n",
       "      <td>4</td>\n",
       "      <td>...</td>\n",
       "      <td>0.00</td>\n",
       "      <td>1417.29</td>\n",
       "      <td>0.0</td>\n",
       "      <td>0.0</td>\n",
       "      <td>0.0</td>\n",
       "      <td>2408.202</td>\n",
       "      <td>2418.921</td>\n",
       "      <td>False</td>\n",
       "      <td>False</td>\n",
       "      <td>False</td>\n",
       "    </tr>\n",
       "  </tbody>\n",
       "</table>\n",
       "<p>5 rows × 52 columns</p>\n",
       "</div>"
      ],
      "text/plain": [
       "                                  V  i_Vm3  Harvested_V  \\\n",
       "id       year regime                                      \n",
       "99011014 2016 initial_state  374.02    0.0          0.0   \n",
       "99011016 2016 initial_state  141.85    0.0          0.0   \n",
       "99011019 2016 initial_state  142.53    0.0          0.0   \n",
       "99011020 2016 initial_state  238.93    0.0          0.0   \n",
       "99011021 2016 initial_state  289.15    0.0          0.0   \n",
       "\n",
       "                             Harvested_V_log_under_bark  \\\n",
       "id       year regime                                      \n",
       "99011014 2016 initial_state                         0.0   \n",
       "99011016 2016 initial_state                         0.0   \n",
       "99011019 2016 initial_state                         0.0   \n",
       "99011020 2016 initial_state                         0.0   \n",
       "99011021 2016 initial_state                         0.0   \n",
       "\n",
       "                             Harvested_V_pulp_under_bark  \\\n",
       "id       year regime                                       \n",
       "99011014 2016 initial_state                          0.0   \n",
       "99011016 2016 initial_state                          0.0   \n",
       "99011019 2016 initial_state                          0.0   \n",
       "99011020 2016 initial_state                          0.0   \n",
       "99011021 2016 initial_state                          0.0   \n",
       "\n",
       "                             Harvested_V_under_bark  MAIN_SP   Age  AGE_ba  \\\n",
       "id       year regime                                                         \n",
       "99011014 2016 initial_state                     0.0        2  80.0   79.48   \n",
       "99011016 2016 initial_state                     0.0        1  89.0   71.71   \n",
       "99011019 2016 initial_state                     0.0        1  60.0   57.78   \n",
       "99011020 2016 initial_state                     0.0        1  85.0   74.00   \n",
       "99011021 2016 initial_state                     0.0        1  89.0   79.30   \n",
       "\n",
       "                             SC  ...  Total_HAZEL_GROUSE  \\\n",
       "id       year regime             ...                       \n",
       "99011014 2016 initial_state   1  ...               27.79   \n",
       "99011016 2016 initial_state   4  ...              258.05   \n",
       "99011019 2016 initial_state   4  ...                0.00   \n",
       "99011020 2016 initial_state   4  ...               39.70   \n",
       "99011021 2016 initial_state   4  ...                0.00   \n",
       "\n",
       "                             Total_V_total_deadwood  Total_N_where_D_gt_40  \\\n",
       "id       year regime                                                         \n",
       "99011014 2016 initial_state                 1492.72                    0.0   \n",
       "99011016 2016 initial_state                 1413.32                    0.0   \n",
       "99011019 2016 initial_state                 1413.32                    0.0   \n",
       "99011020 2016 initial_state                 1409.35                    0.0   \n",
       "99011021 2016 initial_state                 1417.29                    0.0   \n",
       "\n",
       "                             Total_prc_V_deciduous  Total_CARBON_SINK  \\\n",
       "id       year regime                                                    \n",
       "99011014 2016 initial_state                 1191.0                0.0   \n",
       "99011016 2016 initial_state                 5161.0                0.0   \n",
       "99011019 2016 initial_state                    0.0                0.0   \n",
       "99011020 2016 initial_state                 1588.0                0.0   \n",
       "99011021 2016 initial_state                    0.0                0.0   \n",
       "\n",
       "                             Total_Recreation  Total_Scenic  CCF_forests  \\\n",
       "id       year regime                                                       \n",
       "99011014 2016 initial_state          2503.879      2317.289        False   \n",
       "99011016 2016 initial_state          2374.854      2432.816        False   \n",
       "99011019 2016 initial_state          2239.477      2069.561        False   \n",
       "99011020 2016 initial_state          2317.289      2360.165        False   \n",
       "99011021 2016 initial_state          2408.202      2418.921        False   \n",
       "\n",
       "                             SA_forests  Broadleave_forests  \n",
       "id       year regime                                         \n",
       "99011014 2016 initial_state       False               False  \n",
       "99011016 2016 initial_state       False               False  \n",
       "99011019 2016 initial_state       False               False  \n",
       "99011020 2016 initial_state       False               False  \n",
       "99011021 2016 initial_state       False               False  \n",
       "\n",
       "[5 rows x 52 columns]"
      ]
     },
     "execution_count": 22,
     "metadata": {},
     "output_type": "execute_result"
    }
   ],
   "source": [
    "mfo.initialData.head()"
   ]
  },
  {
   "cell_type": "markdown",
   "metadata": {},
   "source": [
    "## Define the optimization problem for policy scenarios\n",
    "See README.md for details.\n",
    "\n",
    "<b>Objective format:</b>\n",
    "\n",
    "Unique_key :[Long human readable name, column name in data, max/min objective, year wise aggregation, stand wise aggregation (, target year )]\n",
    "\n",
    "1) \"Unique_key\" : [ (2) \"Long human readable name\", (3) \"column name\", (4) \"max/min objective\", (5) \"year wise aggregation\", (6) \"stand wise aggregation\" (, (7) target year ) ]\n",
    "\n",
    "<b>Options for \"objective\":</b> \"max\"imise or \"min\"imise it <br>\n",
    "<b>year wise aggregation:</b> \"min\" (minimum value), \"average\", \"firstYear\", \"targetYearWithSlope\",\"targetYear\",\"lastYear\" <br>\n",
    "<b>stand wise aggregation:</b> \"sum\", \"areaWeightedAverage\", \"areaWeightedSum\" <br>\n",
    "<b>targe yeart:</b> any year except the first one"
   ]
  },
  {
   "cell_type": "markdown",
   "metadata": {},
   "source": [
    "### NFS - National Forest Strategy"
   ]
  },
  {
   "cell_type": "code",
   "execution_count": 23,
   "metadata": {},
   "outputs": [],
   "source": [
    "if scenario == 'NFS':\n",
    "    \n",
    "    wood_production_bioenergy = { \n",
    "    # Increment - target 2025\n",
    "    \"Total_i_Vm3_2025\": [\"Total annual timber volume increment by 2025 (m3)\",\n",
    "                         \"Total_i_Vm3\",\n",
    "                         \"max\",\"targetYearWithSlope\",\"sum\",2025], \n",
    "    # Increment - target 2050\n",
    "    \"Total_i_Vm3_2050\": [\"Total annual timber volume increment by 2050 (m3)\",\n",
    "                         \"Total_i_Vm3\",\n",
    "                         \"max\",\"targetYearWithSlope\",\"sum\",2050], \n",
    "    # Harvested roundwood - target 2025\n",
    "    \"Total_Harvested_V_2025\" :[\"Total annual harvested timber volume by 2025 (log & pulp) (m3)\",\n",
    "                               \"Total_Harvested_V\",\n",
    "                               \"max\",\"targetYearWithSlope\",\"sum\",2025], \n",
    "    # Harvested biomass - target 2025\n",
    "    \"Total_Biomass_2025\": [\"Total annual harvested biomass volume by 2025 (m3)\",\n",
    "                           \"Total_Biomass\",\n",
    "                           \"max\",\"targetYearWithSlope\",\"sum\",2025]\n",
    "    }\n",
    "    \n",
    "    nonwood = { \n",
    "    # Bilberry - no decline, maximise it\n",
    "    \"Relative_BILBERRY\": [\"Bilberry yield (relative to 2016, max minimum over yrs)\",\n",
    "                          \"Relative_Total_BILBERRY\",\n",
    "                          \"max\",\"min\",\"sum\"],\n",
    "    # Cowberry - no decline, maximise it\n",
    "    \"Relative_COWBERRY\": [\"Cowberry yield (relative to 2016, max minimum over yrs)\",\n",
    "                          \"Relative_Total_COWBERRY\",\n",
    "                          \"max\",\"min\",\"sum\"],\n",
    "    # Mushrooms - no decline, maximise it\n",
    "    \"Relative_ALL_MARKETED_MUSHROOMS\": [\"All marketed mushroom yield (relative to 2016, max minimum over yrs)\",\n",
    "                         \"Relative_Total_ALL_MARKETED_MUSHROOMS\",\n",
    "                         \"max\",\"min\",\"sum\"]    \n",
    "    }\n",
    "    \n",
    "    game = {\n",
    "    # HSI moose - maximise  \n",
    "    \"Sum_Total_HSI_MOOSE\": [\"Total habitat index for MOOSE (max average over all years)\",\n",
    "                           \"Total_HSI_MOOSE\",\n",
    "                           \"max\",\"average\",\"sum\"],\n",
    "    # HSI hazel grouse - maximise\n",
    "    \"Sum_Total_HAZEL_GROUSE\": [\"Total habitat index for HAZEL_GROUSE (max average over yrs)\",\n",
    "                           \"Total_HAZEL_GROUSE\",\n",
    "                           \"max\",\"average\",\"sum\"],\n",
    "    # HSI capercaillie - maximise\n",
    "    \"Sum_Total_CAPERCAILLIE\": [\"Total habitat index for CAPERCAILLIE (max average over yrs)\",\n",
    "                           \"Total_CAPERCAILLIE\",\n",
    "                           \"max\",\"average\",\"sum\"]    \n",
    "    }\n",
    "    \n",
    "    biodiversity = {\n",
    "    # Deadwood - target 2025\n",
    "    \"Average_Deadwood_V_2025\": [\"Average Deadwood volume by 2025 (m3/ha)\", \n",
    "                                \"V_total_deadwood\",\n",
    "                                \"max\", \"targetYear\", \"areaWeightedAverage\", 2025], \n",
    "    # Large trees (>40 cm) - maximise\n",
    "    \"Total_N_where_D_gt_40\": [\"Total No. of trees diameter >= 40 cm  (max end value)\",\n",
    "                              \"Total_N_where_D_gt_40\",\n",
    "                              \"max\",\"lastYear\",\"sum\"],    \n",
    "    # Deciduous tree volume - maximise\n",
    "    \"Total_prc_V_deciduous\":  [\"Total %-share of deciduous trees (related to V) (max end value)\", \n",
    "                               \"Total_prc_V_deciduous\",\n",
    "                               \"max\", \"lastYear\",\"sum\"],\n",
    "    # Conservation regime - target\n",
    "    \"Ratio_CCF_forests\": [\"Ratio of BC sites in commercial forests (%, CCF_3, CCF_4 and BAUwGTR)\",\n",
    "                          \"CCF_forests\",\n",
    "                          \"max\",\"firstYear\",\"areaWeightedAverage\"]\n",
    "    }\n",
    "    \n",
    "    climate_regulation = {\n",
    "    # Carbon sink - target 2025\n",
    "    \"Total_CARBON_SINK_2025\": [\"Total sequestration in carbon dioxide by 2025 (t CO2)\",\n",
    "                               \"Total_CARBON_SINK\",\n",
    "                               \"max\",\"targetYearWithSlope\",\"sum\",2025] \n",
    "    }\n",
    "    \n",
    "    recreation = {\n",
    "    # Recreation index - maximise\n",
    "    \"Sum_Total_Recreation\" : [\"Total Recreation index (max minimum over yrs)\",\n",
    "                              \"Total_Recreation\",\n",
    "                              \"max\",\"min\",\"sum\"],\n",
    "    \n",
    "    # Scenic index - maximise\n",
    "    \"Sum_Total_Scenic\" : [\"Total Scenic index (max minimum over yrs)\",\n",
    "                          \"Total_Scenic\",\n",
    "                          \"max\",\"min\",\"sum\"]\n",
    "    }\n",
    "    \n",
    "    resilience = {\n",
    "    # CC adaption regimes - maximise\n",
    "    \"Ratio_Broadleave_forests\": [\"Ratio of adaptive management regimes (%, increasing broadleave share)\",\n",
    "                                 \"Broadleave_forests\",\n",
    "                                 \"max\",\"firstYear\",\"areaWeightedAverage\"]\n",
    "    }\n",
    "    \n",
    "    objectives = {\n",
    "              **wood_production_bioenergy,\n",
    "              **nonwood,\n",
    "              **game,\n",
    "              **biodiversity,\n",
    "              **climate_regulation,\n",
    "              **recreation,\n",
    "              **resilience\n",
    "    }\n",
    "    \n",
    "    print(\"objectives for NFS loaded\")"
   ]
  },
  {
   "cell_type": "markdown",
   "metadata": {},
   "source": [
    "### BDS - Biodiversity Strategy"
   ]
  },
  {
   "cell_type": "code",
   "execution_count": 24,
   "metadata": {},
   "outputs": [],
   "source": [
    "if scenario == 'BDS':\n",
    "    \n",
    "    wood_production_bioenergy = { \n",
    "    # Harvested roundwood - maximise (even flow)\n",
    "    \"Average_Harvested_V\" : [\"Average harvested timber volume (log & pulp) (m3/ha, evenflow)\",\n",
    "                             \"Harvested_V\",\n",
    "                             \"max\",\"min\",\"areaWeightedAverage\"]\n",
    "    }\n",
    "    \n",
    "    game = {\n",
    "    # HSI moose - maximise       \n",
    "    \"Sum_Total_HSI_MOOSE\": [\"Total habitat index for MOOSE (max average over all years)\",\n",
    "                           \"Total_HSI_MOOSE\",\n",
    "                           \"max\",\"average\",\"sum\"],\n",
    "    # HSI hazel grouse - maximise\n",
    "    \"Sum_Total_HAZEL_GROUSE\": [\"Total habitat index for HAZEL_GROUSE (max average over yrs)\",\n",
    "                           \"Total_HAZEL_GROUSE\",\n",
    "                           \"max\",\"average\",\"sum\"],\n",
    "    # HSI carpercaillie - maximise\n",
    "    \"Sum_Total_CAPERCAILLIE\": [\"Total habitat index for CAPERCAILLIE (max average over yrs)\",\n",
    "                           \"Total_CAPERCAILLIE\",\n",
    "                           \"max\",\"average\",\"sum\"]    \n",
    "    }\n",
    "    \n",
    "    biodiversity = {\n",
    "    # Deadwood - target 2050, increase by XX%\n",
    "    \"relative_Amount_Deadwood_2050\" : [\"Total Deadwood volume by 2050 (%, relative to 2016 values)\",\n",
    "                                       \"Relative_Total_V_total_deadwood\",\n",
    "                                       \"max\",\"targetYearWithSlope\",\"sum\",2050],\n",
    "    # Large trees - target 2050, increase by XX%\n",
    "    \"relative_N_where_D_gt_40_2050\": [\"Total No. of trees diameter >= 40 cm  by 2050 (%, relative to 2016 values)\",\n",
    "                                      \"Relative_Total_N_where_D_gt_40\",\n",
    "                                      \"max\",\"targetYear\",\"sum\",2050],\n",
    "    # Deciduous tree volume - target 2050, increase by XX% \n",
    "    \"relative_prc_V_deciduous_2050\": [\"Total share of deciduous trees by 2050 (related to V) (%, relative to 2016 values)\",\n",
    "                                      \"Relative_Total_prc_V_deciduous\",\n",
    "                                      \"max\",\"targetYearWithSlope\",\"sum\",2050],\n",
    "    # Regime SA - target\n",
    "    \"Ratio_CCF_forests\": [\"Ratio of BC sites in commercial forests (%, CCF_3, CCF_4 and BAUwGTR)\",\n",
    "                          \"CCF_forests\",\n",
    "                          \"max\",\"firstYear\",\"areaWeightedAverage\"],\n",
    "    # Conservation regimes - target\n",
    "    \"Ratio_SA_forests\": [\"Ratio of protected areas (%, SA forests)\",\n",
    "                         \"SA_forests\",\n",
    "                         \"max\",\"firstYear\",\"areaWeightedAverage\"]    \n",
    "    \n",
    "    }\n",
    "    \n",
    "    recreation = {\n",
    "    # Recreation index - maximise\n",
    "    \"Sum_Total_Recreation\" : [\"Total Recreation index (max minimum over yrs)\",\n",
    "                              \"Total_Recreation\",\n",
    "                              \"max\",\"min\",\"sum\"],\n",
    "    # Scenic index - maximise\n",
    "    \"Sum_Total_Scenic\" : [\"Total Scenic index (max minimum over yrs)\",\n",
    "                          \"Total_Scenic\",\n",
    "                          \"max\",\"min\",\"sum\"]\n",
    "    }\n",
    "    \n",
    "    objectives = {\n",
    "              **wood_production_bioenergy,\n",
    "              **game,\n",
    "              **biodiversity,\n",
    "              **recreation\n",
    "    }\n",
    "    \n",
    "    print(\"objectives for BDS loaded\")"
   ]
  },
  {
   "cell_type": "markdown",
   "metadata": {},
   "source": [
    "### BES - Bioeconomy strategy"
   ]
  },
  {
   "cell_type": "code",
   "execution_count": 25,
   "metadata": {},
   "outputs": [
    {
     "name": "stdout",
     "output_type": "stream",
     "text": [
      "objectives for BES loaded\n"
     ]
    }
   ],
   "source": [
    "if scenario == 'BES':\n",
    "    \n",
    "    wood_production_bioenergy = { \n",
    "    # Harvested roundwood - maximise even flow\n",
    "    \"Average_Harvested_V\" : [\"Average harvested timber volume (log & pulp) (m3/ha, evenflow)\",\n",
    "                             \"Harvested_V\",\n",
    "                             \"max\",\"min\",\"areaWeightedAverage\"],\n",
    "    # Harvested biomass - maximise even flow\n",
    "    \"Biomass_Evenflow\": [\"Average harvested biomass volume (m3/ha, evenflow)\",\n",
    "                         \"Biomass\",\n",
    "                         \"max\",\"min\",\"areaWeightedAverage\"]\n",
    "    }\n",
    "    \n",
    "    biodiversity = {\n",
    "    # Deadwood - no decline (no target value)\n",
    "    \"relative_Amount_Deadwood_2050\" : [\"Total Deadwood volume by 2050 (%, relative to 2016 values)\",\n",
    "                                       \"Relative_Total_V_total_deadwood\",\n",
    "                                       \"max\",\"targetYearWithSlope\",\"sum\",2050],\n",
    "    # Large trees - no decline (no target value)\n",
    "    \"relative_N_where_D_gt_40_2050\": [\"Total No. of trees diameter >= 40 cm  by 2050 (%, relative to 2016 values)\",\n",
    "                                      \"Relative_Total_N_where_D_gt_40\",\n",
    "                                      \"max\",\"targetYear\",\"sum\",2050],\n",
    "    # Deciduous tree volume - no decline (no target value)\n",
    "    \"relative_prc_V_deciduous_2050\": [\"Total share of deciduous trees by 2050 (related to V) (%, relative to 2016 values)\",\n",
    "                                      \"Relative_Total_prc_V_deciduous\",\n",
    "                                      \"max\",\"targetYearWithSlope\",\"sum\",2050]\n",
    "    }\n",
    "    \n",
    "    recreation = {\n",
    "    # Recreation index - maximise\n",
    "    \"Sum_Total_Recreation\" : [\"Total Recreation index (max minimum over all years)\",\n",
    "                              \"Total_Recreation\",\n",
    "                              \"max\",\"min\",\"sum\"],\n",
    "    # Scenic index - maximise\n",
    "    \"Sum_Total_Scenic\" : [\"Total Scenic index (max minimum over all years)\",\n",
    "                          \"Total_Scenic\",\n",
    "                          \"max\",\"min\",\"sum\"]\n",
    "    }\n",
    "    \n",
    "    objectives = {\n",
    "              **wood_production_bioenergy,\n",
    "              **biodiversity,\n",
    "              **recreation,\n",
    "    }\n",
    "    \n",
    "    print(\"objectives for BES loaded\")"
   ]
  },
  {
   "cell_type": "code",
   "execution_count": 26,
   "metadata": {},
   "outputs": [
    {
     "data": {
      "text/plain": [
       "7"
      ]
     },
     "execution_count": 26,
     "metadata": {},
     "output_type": "execute_result"
    }
   ],
   "source": [
    "len(objectives)"
   ]
  },
  {
   "cell_type": "code",
   "execution_count": 27,
   "metadata": {},
   "outputs": [
    {
     "data": {
      "text/plain": [
       "dict_keys(['Average_Harvested_V', 'Biomass_Evenflow', 'relative_Amount_Deadwood_2050', 'relative_N_where_D_gt_40_2050', 'relative_prc_V_deciduous_2050', 'Sum_Total_Recreation', 'Sum_Total_Scenic'])"
      ]
     },
     "execution_count": 27,
     "metadata": {},
     "output_type": "execute_result"
    }
   ],
   "source": [
    "objectives.keys()"
   ]
  },
  {
   "cell_type": "code",
   "execution_count": 28,
   "metadata": {},
   "outputs": [
    {
     "data": {
      "text/plain": [
       "Index(['V', 'i_Vm3', 'Harvested_V', 'Harvested_V_log_under_bark',\n",
       "       'Harvested_V_pulp_under_bark', 'Harvested_V_under_bark', 'MAIN_SP',\n",
       "       'Age', 'AGE_ba', 'SC', 'Biomass', 'ALL_MARKETED_MUSHROOMS', 'BILBERRY',\n",
       "       'COWBERRY', 'HSI_MOOSE', 'CAPERCAILLIE', 'HAZEL_GROUSE',\n",
       "       'V_total_deadwood', 'N_where_D_gt_40', 'prc_V_deciduous', 'PEAT',\n",
       "       'clearcut', 'CARBON_SINK', 'CARBON_STORAGE_Update', 'Recreation',\n",
       "       'Scenic', 'scenario', 'represented_area_by_NFIplot', 'region',\n",
       "       'NUTS2_GL', 'protection', 'Total_i_Vm3', 'Total_Harvested_V',\n",
       "       'Total_Harvested_V_log_under_bark', 'Total_Harvested_V_pulp_under_bark',\n",
       "       'Total_Harvested_V_under_bark', 'Total_Biomass',\n",
       "       'Total_ALL_MARKETED_MUSHROOMS', 'Total_BILBERRY', 'Total_COWBERRY',\n",
       "       'Total_HSI_MOOSE', 'Total_CAPERCAILLIE', 'Total_HAZEL_GROUSE',\n",
       "       'Total_V_total_deadwood', 'Total_N_where_D_gt_40',\n",
       "       'Total_prc_V_deciduous', 'Total_CARBON_SINK', 'Total_Recreation',\n",
       "       'Total_Scenic', 'CCF_forests', 'SA_forests', 'Broadleave_forests',\n",
       "       'Relative_V', 'Relative_Age', 'Relative_AGE_ba',\n",
       "       'Relative_ALL_MARKETED_MUSHROOMS', 'Relative_BILBERRY',\n",
       "       'Relative_COWBERRY', 'Relative_HSI_MOOSE', 'Relative_CAPERCAILLIE',\n",
       "       'Relative_HAZEL_GROUSE', 'Relative_V_total_deadwood',\n",
       "       'Relative_N_where_D_gt_40', 'Relative_prc_V_deciduous',\n",
       "       'Relative_CARBON_STORAGE_Update', 'Relative_Recreation',\n",
       "       'Relative_Scenic', 'Relative_Total_ALL_MARKETED_MUSHROOMS',\n",
       "       'Relative_Total_BILBERRY', 'Relative_Total_COWBERRY',\n",
       "       'Relative_Total_HSI_MOOSE', 'Relative_Total_CAPERCAILLIE',\n",
       "       'Relative_Total_HAZEL_GROUSE', 'Relative_Total_V_total_deadwood',\n",
       "       'Relative_Total_N_where_D_gt_40', 'Relative_Total_prc_V_deciduous',\n",
       "       'Relative_Total_Recreation', 'Relative_Total_Scenic'],\n",
       "      dtype='object')"
      ]
     },
     "execution_count": 28,
     "metadata": {},
     "output_type": "execute_result"
    }
   ],
   "source": [
    "mfo.data.columns"
   ]
  },
  {
   "cell_type": "code",
   "execution_count": 29,
   "metadata": {},
   "outputs": [
    {
     "data": {
      "text/plain": [
       "[('prc_V_deciduous', dtype('float64')),\n",
       " ('Total_prc_V_deciduous', dtype('float64')),\n",
       " ('Relative_prc_V_deciduous', dtype('float64')),\n",
       " ('Relative_Total_prc_V_deciduous', dtype('float64'))]"
      ]
     },
     "execution_count": 29,
     "metadata": {},
     "output_type": "execute_result"
    }
   ],
   "source": [
    "[(col,mfo.data.dtypes[col]) for col in mfo.data.columns if \"prc\" in col]"
   ]
  },
  {
   "cell_type": "markdown",
   "metadata": {},
   "source": [
    "## Define initial values NOT available in data, but needed for objective\n",
    "\n",
    "Examples are increment, harvests, biomass and carbon sink. They are required for the \"targetYearWithSlope\" objective, but values only occur after the first simulation period. National values are taken from the policy or forest statistics. \n",
    "\n",
    "<b>For the Central Finland test data, national values are simply divided by 19 (number of considered provinces).</b> "
   ]
  },
  {
   "cell_type": "code",
   "execution_count": 30,
   "metadata": {},
   "outputs": [],
   "source": [
    "initialValues = {\"Total_i_Vm3\":107*10**6 / 19,               # from National Forest Policy            \n",
    "                 \"Total_Harvested_V\": 72.3*10**6 / 19,       # from National Forest Policy \n",
    "                 \"Total_Biomass\": 2.9*10**6 / 19,            # from National Forest Policy  \n",
    "                 \"Total_CARBON_SINK\" : 34.1*10**6 / 19,      # from National Forest Policy  \n",
    "                                            \n",
    "                 \"SA_forests\" : 0.106,     # from ForestStatistics 2018\n",
    "                 \"CCF_forests\" : 0.015,    # from ForestStatistics 2018\n",
    "                 \"BAUwGTR_forests\":0.015}  # from ForestStatistics 2018"
   ]
  },
  {
   "cell_type": "code",
   "execution_count": 31,
   "metadata": {
    "scrolled": true
   },
   "outputs": [
    {
     "data": {
      "text/plain": [
       "'Defining objectives'"
      ]
     },
     "metadata": {},
     "output_type": "display_data"
    },
    {
     "data": {
      "text/plain": [
       "'Aggregating stand wise'"
      ]
     },
     "metadata": {},
     "output_type": "display_data"
    },
    {
     "name": "stderr",
     "output_type": "stream",
     "text": [
      "100%|██████████| 7/7 [00:53<00:00,  7.69s/it]\n"
     ]
    },
    {
     "data": {
      "text/plain": [
       "'Aggregating year wise'"
      ]
     },
     "metadata": {},
     "output_type": "display_data"
    },
    {
     "name": "stdout",
     "output_type": "stream",
     "text": [
      "100%|██████████| 7/7 [00:00<00:00, 2749.08it/s]\n"
     ]
    },
    {
     "data": {
      "text/plain": [
       "'Objectives added'"
      ]
     },
     "metadata": {},
     "output_type": "display_data"
    }
   ],
   "source": [
    "mfo.defineObjectives(objectives,initialValues = initialValues)"
   ]
  },
  {
   "cell_type": "markdown",
   "metadata": {},
   "source": [
    "## Define enabled constraints"
   ]
  },
  {
   "cell_type": "code",
   "execution_count": 32,
   "metadata": {},
   "outputs": [],
   "source": [
    "CCFregimes = [regime for regime in mfo.regimes if \"CCF\" in regime] + [\"SA\"]"
   ]
  },
  {
   "cell_type": "code",
   "execution_count": 33,
   "metadata": {},
   "outputs": [
    {
     "data": {
      "text/plain": [
       "['CCF_1', 'CCF_2', 'CCF_3', 'CCF_4', 'SA']"
      ]
     },
     "execution_count": 33,
     "metadata": {},
     "output_type": "execute_result"
    }
   ],
   "source": [
    "CCFregimes"
   ]
  },
  {
   "cell_type": "markdown",
   "metadata": {},
   "source": [
    "Constraint format:\n",
    "- Shortname: \"constraint type\",\"allowed regimes\",\"human readable name\",(regimes),\"column in data\")"
   ]
  },
  {
   "cell_type": "code",
   "execution_count": 34,
   "metadata": {},
   "outputs": [],
   "source": [
    "constraintTypes = {\"CCFonPeat\":[\"Allowed regimes\",\"Only CCF on peat lands\",CCFregimes,\"PEAT\"]}"
   ]
  },
  {
   "cell_type": "code",
   "execution_count": 35,
   "metadata": {},
   "outputs": [],
   "source": [
    "mfo.defineConstraints(constraintTypes)"
   ]
  },
  {
   "cell_type": "markdown",
   "metadata": {},
   "source": [
    "## Calculate objective ranges\n",
    "The ideal and anti-ideal solution for the individual objective functions."
   ]
  },
  {
   "cell_type": "code",
   "execution_count": 36,
   "metadata": {},
   "outputs": [
    {
     "data": {
      "text/html": [
       "<div>\n",
       "<style scoped>\n",
       "    .dataframe tbody tr th:only-of-type {\n",
       "        vertical-align: middle;\n",
       "    }\n",
       "\n",
       "    .dataframe tbody tr th {\n",
       "        vertical-align: top;\n",
       "    }\n",
       "\n",
       "    .dataframe thead th {\n",
       "        text-align: right;\n",
       "    }\n",
       "</style>\n",
       "<table border=\"1\" class=\"dataframe\">\n",
       "  <thead>\n",
       "    <tr style=\"text-align: right;\">\n",
       "      <th></th>\n",
       "      <th></th>\n",
       "      <th></th>\n",
       "      <th>V</th>\n",
       "      <th>i_Vm3</th>\n",
       "      <th>Harvested_V</th>\n",
       "      <th>Harvested_V_log_under_bark</th>\n",
       "      <th>Harvested_V_pulp_under_bark</th>\n",
       "      <th>Harvested_V_under_bark</th>\n",
       "      <th>MAIN_SP</th>\n",
       "      <th>Age</th>\n",
       "      <th>AGE_ba</th>\n",
       "      <th>SC</th>\n",
       "      <th>...</th>\n",
       "      <th>Relative_Total_BILBERRY</th>\n",
       "      <th>Relative_Total_COWBERRY</th>\n",
       "      <th>Relative_Total_HSI_MOOSE</th>\n",
       "      <th>Relative_Total_CAPERCAILLIE</th>\n",
       "      <th>Relative_Total_HAZEL_GROUSE</th>\n",
       "      <th>Relative_Total_V_total_deadwood</th>\n",
       "      <th>Relative_Total_N_where_D_gt_40</th>\n",
       "      <th>Relative_Total_prc_V_deciduous</th>\n",
       "      <th>Relative_Total_Recreation</th>\n",
       "      <th>Relative_Total_Scenic</th>\n",
       "    </tr>\n",
       "    <tr>\n",
       "      <th>id</th>\n",
       "      <th>year</th>\n",
       "      <th>regime</th>\n",
       "      <th></th>\n",
       "      <th></th>\n",
       "      <th></th>\n",
       "      <th></th>\n",
       "      <th></th>\n",
       "      <th></th>\n",
       "      <th></th>\n",
       "      <th></th>\n",
       "      <th></th>\n",
       "      <th></th>\n",
       "      <th></th>\n",
       "      <th></th>\n",
       "      <th></th>\n",
       "      <th></th>\n",
       "      <th></th>\n",
       "      <th></th>\n",
       "      <th></th>\n",
       "      <th></th>\n",
       "      <th></th>\n",
       "      <th></th>\n",
       "      <th></th>\n",
       "    </tr>\n",
       "  </thead>\n",
       "  <tbody>\n",
       "    <tr>\n",
       "      <th rowspan=\"5\" valign=\"top\">99011014</th>\n",
       "      <th>2021</th>\n",
       "      <th>SA</th>\n",
       "      <td>409.58</td>\n",
       "      <td>7.20</td>\n",
       "      <td>0.00</td>\n",
       "      <td>0.00</td>\n",
       "      <td>0.00</td>\n",
       "      <td>0.00</td>\n",
       "      <td>2</td>\n",
       "      <td>84.0</td>\n",
       "      <td>83.53</td>\n",
       "      <td>1</td>\n",
       "      <td>...</td>\n",
       "      <td>0.000000</td>\n",
       "      <td>0.000339</td>\n",
       "      <td>0.0</td>\n",
       "      <td>0.0</td>\n",
       "      <td>0.000147</td>\n",
       "      <td>0.002044</td>\n",
       "      <td>0.0</td>\n",
       "      <td>0.000082</td>\n",
       "      <td>0.000689</td>\n",
       "      <td>0.000711</td>\n",
       "    </tr>\n",
       "    <tr>\n",
       "      <th>2026</th>\n",
       "      <th>SA</th>\n",
       "      <td>445.49</td>\n",
       "      <td>7.29</td>\n",
       "      <td>0.00</td>\n",
       "      <td>0.00</td>\n",
       "      <td>0.00</td>\n",
       "      <td>0.00</td>\n",
       "      <td>2</td>\n",
       "      <td>89.0</td>\n",
       "      <td>88.57</td>\n",
       "      <td>1</td>\n",
       "      <td>...</td>\n",
       "      <td>0.000000</td>\n",
       "      <td>0.000329</td>\n",
       "      <td>0.0</td>\n",
       "      <td>0.0</td>\n",
       "      <td>0.000088</td>\n",
       "      <td>0.003213</td>\n",
       "      <td>0.0</td>\n",
       "      <td>0.000082</td>\n",
       "      <td>0.000696</td>\n",
       "      <td>0.000729</td>\n",
       "    </tr>\n",
       "    <tr>\n",
       "      <th>2031</th>\n",
       "      <th>SA</th>\n",
       "      <td>480.72</td>\n",
       "      <td>7.17</td>\n",
       "      <td>0.00</td>\n",
       "      <td>0.00</td>\n",
       "      <td>0.00</td>\n",
       "      <td>0.00</td>\n",
       "      <td>2</td>\n",
       "      <td>94.0</td>\n",
       "      <td>93.60</td>\n",
       "      <td>1</td>\n",
       "      <td>...</td>\n",
       "      <td>0.000000</td>\n",
       "      <td>0.000320</td>\n",
       "      <td>0.0</td>\n",
       "      <td>0.0</td>\n",
       "      <td>0.000029</td>\n",
       "      <td>0.004253</td>\n",
       "      <td>0.0</td>\n",
       "      <td>0.000082</td>\n",
       "      <td>0.000703</td>\n",
       "      <td>0.000747</td>\n",
       "    </tr>\n",
       "    <tr>\n",
       "      <th>2036</th>\n",
       "      <th>SA</th>\n",
       "      <td>503.77</td>\n",
       "      <td>4.75</td>\n",
       "      <td>0.00</td>\n",
       "      <td>0.00</td>\n",
       "      <td>0.00</td>\n",
       "      <td>0.00</td>\n",
       "      <td>2</td>\n",
       "      <td>99.0</td>\n",
       "      <td>98.62</td>\n",
       "      <td>1</td>\n",
       "      <td>...</td>\n",
       "      <td>0.000000</td>\n",
       "      <td>0.000314</td>\n",
       "      <td>0.0</td>\n",
       "      <td>0.0</td>\n",
       "      <td>0.000000</td>\n",
       "      <td>0.004918</td>\n",
       "      <td>0.0</td>\n",
       "      <td>0.000082</td>\n",
       "      <td>0.000707</td>\n",
       "      <td>0.000765</td>\n",
       "    </tr>\n",
       "    <tr>\n",
       "      <th>2041</th>\n",
       "      <th>SA</th>\n",
       "      <td>518.69</td>\n",
       "      <td>3.13</td>\n",
       "      <td>0.00</td>\n",
       "      <td>0.00</td>\n",
       "      <td>0.00</td>\n",
       "      <td>0.00</td>\n",
       "      <td>2</td>\n",
       "      <td>104.0</td>\n",
       "      <td>103.63</td>\n",
       "      <td>1</td>\n",
       "      <td>...</td>\n",
       "      <td>0.000000</td>\n",
       "      <td>0.000311</td>\n",
       "      <td>0.0</td>\n",
       "      <td>0.0</td>\n",
       "      <td>0.000000</td>\n",
       "      <td>0.005344</td>\n",
       "      <td>0.0</td>\n",
       "      <td>0.000055</td>\n",
       "      <td>0.000710</td>\n",
       "      <td>0.000783</td>\n",
       "    </tr>\n",
       "    <tr>\n",
       "      <th>...</th>\n",
       "      <th>...</th>\n",
       "      <th>...</th>\n",
       "      <td>...</td>\n",
       "      <td>...</td>\n",
       "      <td>...</td>\n",
       "      <td>...</td>\n",
       "      <td>...</td>\n",
       "      <td>...</td>\n",
       "      <td>...</td>\n",
       "      <td>...</td>\n",
       "      <td>...</td>\n",
       "      <td>...</td>\n",
       "      <td>...</td>\n",
       "      <td>...</td>\n",
       "      <td>...</td>\n",
       "      <td>...</td>\n",
       "      <td>...</td>\n",
       "      <td>...</td>\n",
       "      <td>...</td>\n",
       "      <td>...</td>\n",
       "      <td>...</td>\n",
       "      <td>...</td>\n",
       "      <td>...</td>\n",
       "    </tr>\n",
       "    <tr>\n",
       "      <th rowspan=\"5\" valign=\"top\">99043411</th>\n",
       "      <th rowspan=\"5\" valign=\"top\">2116</th>\n",
       "      <th>CCF_1</th>\n",
       "      <td>133.70</td>\n",
       "      <td>4.66</td>\n",
       "      <td>0.00</td>\n",
       "      <td>0.00</td>\n",
       "      <td>0.00</td>\n",
       "      <td>0.00</td>\n",
       "      <td>6</td>\n",
       "      <td>138.8</td>\n",
       "      <td>108.70</td>\n",
       "      <td>3</td>\n",
       "      <td>...</td>\n",
       "      <td>0.000882</td>\n",
       "      <td>0.000336</td>\n",
       "      <td>0.0</td>\n",
       "      <td>0.0</td>\n",
       "      <td>0.000000</td>\n",
       "      <td>0.000150</td>\n",
       "      <td>0.0</td>\n",
       "      <td>0.002117</td>\n",
       "      <td>0.000551</td>\n",
       "      <td>0.000823</td>\n",
       "    </tr>\n",
       "    <tr>\n",
       "      <th>CCF_2</th>\n",
       "      <td>90.95</td>\n",
       "      <td>5.64</td>\n",
       "      <td>21.71</td>\n",
       "      <td>8.22</td>\n",
       "      <td>10.63</td>\n",
       "      <td>18.85</td>\n",
       "      <td>6</td>\n",
       "      <td>138.8</td>\n",
       "      <td>103.28</td>\n",
       "      <td>3</td>\n",
       "      <td>...</td>\n",
       "      <td>0.000535</td>\n",
       "      <td>0.000382</td>\n",
       "      <td>0.0</td>\n",
       "      <td>0.0</td>\n",
       "      <td>0.000000</td>\n",
       "      <td>0.000164</td>\n",
       "      <td>0.0</td>\n",
       "      <td>0.002007</td>\n",
       "      <td>0.000538</td>\n",
       "      <td>0.000822</td>\n",
       "    </tr>\n",
       "    <tr>\n",
       "      <th>CCF_3</th>\n",
       "      <td>164.46</td>\n",
       "      <td>4.69</td>\n",
       "      <td>0.00</td>\n",
       "      <td>0.00</td>\n",
       "      <td>0.00</td>\n",
       "      <td>0.00</td>\n",
       "      <td>6</td>\n",
       "      <td>138.8</td>\n",
       "      <td>121.35</td>\n",
       "      <td>3</td>\n",
       "      <td>...</td>\n",
       "      <td>0.000814</td>\n",
       "      <td>0.000315</td>\n",
       "      <td>0.0</td>\n",
       "      <td>0.0</td>\n",
       "      <td>0.000000</td>\n",
       "      <td>0.000170</td>\n",
       "      <td>0.0</td>\n",
       "      <td>0.002447</td>\n",
       "      <td>0.000574</td>\n",
       "      <td>0.000838</td>\n",
       "    </tr>\n",
       "    <tr>\n",
       "      <th>CCF_4</th>\n",
       "      <td>237.52</td>\n",
       "      <td>4.70</td>\n",
       "      <td>0.00</td>\n",
       "      <td>0.00</td>\n",
       "      <td>0.00</td>\n",
       "      <td>0.00</td>\n",
       "      <td>6</td>\n",
       "      <td>138.8</td>\n",
       "      <td>132.80</td>\n",
       "      <td>3</td>\n",
       "      <td>...</td>\n",
       "      <td>0.000936</td>\n",
       "      <td>0.000276</td>\n",
       "      <td>0.0</td>\n",
       "      <td>0.0</td>\n",
       "      <td>0.000000</td>\n",
       "      <td>0.000203</td>\n",
       "      <td>0.0</td>\n",
       "      <td>0.002640</td>\n",
       "      <td>0.000647</td>\n",
       "      <td>0.000886</td>\n",
       "    </tr>\n",
       "    <tr>\n",
       "      <th>SA</th>\n",
       "      <td>212.45</td>\n",
       "      <td>0.47</td>\n",
       "      <td>0.00</td>\n",
       "      <td>0.00</td>\n",
       "      <td>0.00</td>\n",
       "      <td>0.00</td>\n",
       "      <td>3</td>\n",
       "      <td>138.8</td>\n",
       "      <td>138.79</td>\n",
       "      <td>3</td>\n",
       "      <td>...</td>\n",
       "      <td>0.000908</td>\n",
       "      <td>0.000266</td>\n",
       "      <td>0.0</td>\n",
       "      <td>0.0</td>\n",
       "      <td>0.000000</td>\n",
       "      <td>0.000580</td>\n",
       "      <td>0.0</td>\n",
       "      <td>0.002750</td>\n",
       "      <td>0.000635</td>\n",
       "      <td>0.000905</td>\n",
       "    </tr>\n",
       "  </tbody>\n",
       "</table>\n",
       "<p>769400 rows × 78 columns</p>\n",
       "</div>"
      ],
      "text/plain": [
       "                           V  i_Vm3  Harvested_V  Harvested_V_log_under_bark  \\\n",
       "id       year regime                                                           \n",
       "99011014 2021 SA      409.58   7.20         0.00                        0.00   \n",
       "         2026 SA      445.49   7.29         0.00                        0.00   \n",
       "         2031 SA      480.72   7.17         0.00                        0.00   \n",
       "         2036 SA      503.77   4.75         0.00                        0.00   \n",
       "         2041 SA      518.69   3.13         0.00                        0.00   \n",
       "...                      ...    ...          ...                         ...   \n",
       "99043411 2116 CCF_1   133.70   4.66         0.00                        0.00   \n",
       "              CCF_2    90.95   5.64        21.71                        8.22   \n",
       "              CCF_3   164.46   4.69         0.00                        0.00   \n",
       "              CCF_4   237.52   4.70         0.00                        0.00   \n",
       "              SA      212.45   0.47         0.00                        0.00   \n",
       "\n",
       "                      Harvested_V_pulp_under_bark  Harvested_V_under_bark  \\\n",
       "id       year regime                                                        \n",
       "99011014 2021 SA                             0.00                    0.00   \n",
       "         2026 SA                             0.00                    0.00   \n",
       "         2031 SA                             0.00                    0.00   \n",
       "         2036 SA                             0.00                    0.00   \n",
       "         2041 SA                             0.00                    0.00   \n",
       "...                                           ...                     ...   \n",
       "99043411 2116 CCF_1                          0.00                    0.00   \n",
       "              CCF_2                         10.63                   18.85   \n",
       "              CCF_3                          0.00                    0.00   \n",
       "              CCF_4                          0.00                    0.00   \n",
       "              SA                             0.00                    0.00   \n",
       "\n",
       "                      MAIN_SP    Age  AGE_ba  SC  ...  \\\n",
       "id       year regime                              ...   \n",
       "99011014 2021 SA            2   84.0   83.53   1  ...   \n",
       "         2026 SA            2   89.0   88.57   1  ...   \n",
       "         2031 SA            2   94.0   93.60   1  ...   \n",
       "         2036 SA            2   99.0   98.62   1  ...   \n",
       "         2041 SA            2  104.0  103.63   1  ...   \n",
       "...                       ...    ...     ...  ..  ...   \n",
       "99043411 2116 CCF_1         6  138.8  108.70   3  ...   \n",
       "              CCF_2         6  138.8  103.28   3  ...   \n",
       "              CCF_3         6  138.8  121.35   3  ...   \n",
       "              CCF_4         6  138.8  132.80   3  ...   \n",
       "              SA            3  138.8  138.79   3  ...   \n",
       "\n",
       "                      Relative_Total_BILBERRY  Relative_Total_COWBERRY  \\\n",
       "id       year regime                                                     \n",
       "99011014 2021 SA                     0.000000                 0.000339   \n",
       "         2026 SA                     0.000000                 0.000329   \n",
       "         2031 SA                     0.000000                 0.000320   \n",
       "         2036 SA                     0.000000                 0.000314   \n",
       "         2041 SA                     0.000000                 0.000311   \n",
       "...                                       ...                      ...   \n",
       "99043411 2116 CCF_1                  0.000882                 0.000336   \n",
       "              CCF_2                  0.000535                 0.000382   \n",
       "              CCF_3                  0.000814                 0.000315   \n",
       "              CCF_4                  0.000936                 0.000276   \n",
       "              SA                     0.000908                 0.000266   \n",
       "\n",
       "                      Relative_Total_HSI_MOOSE  Relative_Total_CAPERCAILLIE  \\\n",
       "id       year regime                                                          \n",
       "99011014 2021 SA                           0.0                          0.0   \n",
       "         2026 SA                           0.0                          0.0   \n",
       "         2031 SA                           0.0                          0.0   \n",
       "         2036 SA                           0.0                          0.0   \n",
       "         2041 SA                           0.0                          0.0   \n",
       "...                                        ...                          ...   \n",
       "99043411 2116 CCF_1                        0.0                          0.0   \n",
       "              CCF_2                        0.0                          0.0   \n",
       "              CCF_3                        0.0                          0.0   \n",
       "              CCF_4                        0.0                          0.0   \n",
       "              SA                           0.0                          0.0   \n",
       "\n",
       "                      Relative_Total_HAZEL_GROUSE  \\\n",
       "id       year regime                                \n",
       "99011014 2021 SA                         0.000147   \n",
       "         2026 SA                         0.000088   \n",
       "         2031 SA                         0.000029   \n",
       "         2036 SA                         0.000000   \n",
       "         2041 SA                         0.000000   \n",
       "...                                           ...   \n",
       "99043411 2116 CCF_1                      0.000000   \n",
       "              CCF_2                      0.000000   \n",
       "              CCF_3                      0.000000   \n",
       "              CCF_4                      0.000000   \n",
       "              SA                         0.000000   \n",
       "\n",
       "                      Relative_Total_V_total_deadwood  \\\n",
       "id       year regime                                    \n",
       "99011014 2021 SA                             0.002044   \n",
       "         2026 SA                             0.003213   \n",
       "         2031 SA                             0.004253   \n",
       "         2036 SA                             0.004918   \n",
       "         2041 SA                             0.005344   \n",
       "...                                               ...   \n",
       "99043411 2116 CCF_1                          0.000150   \n",
       "              CCF_2                          0.000164   \n",
       "              CCF_3                          0.000170   \n",
       "              CCF_4                          0.000203   \n",
       "              SA                             0.000580   \n",
       "\n",
       "                      Relative_Total_N_where_D_gt_40  \\\n",
       "id       year regime                                   \n",
       "99011014 2021 SA                                 0.0   \n",
       "         2026 SA                                 0.0   \n",
       "         2031 SA                                 0.0   \n",
       "         2036 SA                                 0.0   \n",
       "         2041 SA                                 0.0   \n",
       "...                                              ...   \n",
       "99043411 2116 CCF_1                              0.0   \n",
       "              CCF_2                              0.0   \n",
       "              CCF_3                              0.0   \n",
       "              CCF_4                              0.0   \n",
       "              SA                                 0.0   \n",
       "\n",
       "                      Relative_Total_prc_V_deciduous  \\\n",
       "id       year regime                                   \n",
       "99011014 2021 SA                            0.000082   \n",
       "         2026 SA                            0.000082   \n",
       "         2031 SA                            0.000082   \n",
       "         2036 SA                            0.000082   \n",
       "         2041 SA                            0.000055   \n",
       "...                                              ...   \n",
       "99043411 2116 CCF_1                         0.002117   \n",
       "              CCF_2                         0.002007   \n",
       "              CCF_3                         0.002447   \n",
       "              CCF_4                         0.002640   \n",
       "              SA                            0.002750   \n",
       "\n",
       "                      Relative_Total_Recreation  Relative_Total_Scenic  \n",
       "id       year regime                                                    \n",
       "99011014 2021 SA                       0.000689               0.000711  \n",
       "         2026 SA                       0.000696               0.000729  \n",
       "         2031 SA                       0.000703               0.000747  \n",
       "         2036 SA                       0.000707               0.000765  \n",
       "         2041 SA                       0.000710               0.000783  \n",
       "...                                         ...                    ...  \n",
       "99043411 2116 CCF_1                    0.000551               0.000823  \n",
       "              CCF_2                    0.000538               0.000822  \n",
       "              CCF_3                    0.000574               0.000838  \n",
       "              CCF_4                    0.000647               0.000886  \n",
       "              SA                       0.000635               0.000905  \n",
       "\n",
       "[769400 rows x 78 columns]"
      ]
     },
     "execution_count": 36,
     "metadata": {},
     "output_type": "execute_result"
    }
   ],
   "source": [
    "mfo.data"
   ]
  },
  {
   "cell_type": "code",
   "execution_count": 37,
   "metadata": {
    "scrolled": false
   },
   "outputs": [
    {
     "data": {
      "text/plain": [
       "'Calculating objective ranges'"
      ]
     },
     "metadata": {},
     "output_type": "display_data"
    },
    {
     "name": "stdout",
     "output_type": "stream",
     "text": [
      "\r",
      "  0%|          | 0/7 [00:00<?, ?it/s]"
     ]
    },
    {
     "data": {
      "text/plain": [
       "'Optimizing for Average harvested timber volume (log & pulp) (m3/ha, evenflow)'"
      ]
     },
     "metadata": {},
     "output_type": "display_data"
    },
    {
     "data": {
      "text/plain": [
       "'Found an optimal solution in 1 seconds'"
      ]
     },
     "metadata": {},
     "output_type": "display_data"
    },
    {
     "data": {
      "text/plain": [
       "'Objective values are:'"
      ]
     },
     "metadata": {},
     "output_type": "display_data"
    },
    {
     "data": {
      "text/plain": [
       "'Average harvested timber volume (log & pulp) (m3/ha, evenflow)'"
      ]
     },
     "metadata": {},
     "output_type": "display_data"
    },
    {
     "data": {
      "text/plain": [
       "5.153204327374458"
      ]
     },
     "metadata": {},
     "output_type": "display_data"
    },
    {
     "data": {
      "text/plain": [
       "'Average harvested biomass volume (m3/ha, evenflow)'"
      ]
     },
     "metadata": {},
     "output_type": "display_data"
    },
    {
     "data": {
      "text/plain": [
       "0.26978669887024775"
      ]
     },
     "metadata": {},
     "output_type": "display_data"
    },
    {
     "data": {
      "text/plain": [
       "'Total Deadwood volume by 2050 (%, relative to 2016 values)'"
      ]
     },
     "metadata": {},
     "output_type": "display_data"
    },
    {
     "data": {
      "text/plain": [
       "0.8548854792710009"
      ]
     },
     "metadata": {},
     "output_type": "display_data"
    },
    {
     "data": {
      "text/plain": [
       "'Total No. of trees diameter >= 40 cm  by 2050 (%, relative to 2016 values)'"
      ]
     },
     "metadata": {},
     "output_type": "display_data"
    },
    {
     "data": {
      "text/plain": [
       "0.5831212892281596"
      ]
     },
     "metadata": {},
     "output_type": "display_data"
    },
    {
     "data": {
      "text/plain": [
       "'Total share of deciduous trees by 2050 (related to V) (%, relative to 2016 values)'"
      ]
     },
     "metadata": {},
     "output_type": "display_data"
    },
    {
     "data": {
      "text/plain": [
       "0.4720974826498283"
      ]
     },
     "metadata": {},
     "output_type": "display_data"
    },
    {
     "data": {
      "text/plain": [
       "'Total Recreation index (max minimum over all years)'"
      ]
     },
     "metadata": {},
     "output_type": "display_data"
    },
    {
     "data": {
      "text/plain": [
       "6752512.893602777"
      ]
     },
     "metadata": {},
     "output_type": "display_data"
    },
    {
     "data": {
      "text/plain": [
       "'Total Scenic index (max minimum over all years)'"
      ]
     },
     "metadata": {},
     "output_type": "display_data"
    },
    {
     "data": {
      "text/plain": [
       "6117077.43685122"
      ]
     },
     "metadata": {},
     "output_type": "display_data"
    },
    {
     "name": "stdout",
     "output_type": "stream",
     "text": [
      "\r",
      " 14%|█▍        | 1/7 [00:04<00:28,  4.77s/it]"
     ]
    },
    {
     "data": {
      "text/plain": [
       "'Optimizing for Average harvested biomass volume (m3/ha, evenflow)'"
      ]
     },
     "metadata": {},
     "output_type": "display_data"
    },
    {
     "data": {
      "text/plain": [
       "'Found an optimal solution in 0 seconds'"
      ]
     },
     "metadata": {},
     "output_type": "display_data"
    },
    {
     "data": {
      "text/plain": [
       "'Objective values are:'"
      ]
     },
     "metadata": {},
     "output_type": "display_data"
    },
    {
     "data": {
      "text/plain": [
       "'Average harvested timber volume (log & pulp) (m3/ha, evenflow)'"
      ]
     },
     "metadata": {},
     "output_type": "display_data"
    },
    {
     "data": {
      "text/plain": [
       "3.394357601922918"
      ]
     },
     "metadata": {},
     "output_type": "display_data"
    },
    {
     "data": {
      "text/plain": [
       "'Average harvested biomass volume (m3/ha, evenflow)'"
      ]
     },
     "metadata": {},
     "output_type": "display_data"
    },
    {
     "data": {
      "text/plain": [
       "0.6683348035327452"
      ]
     },
     "metadata": {},
     "output_type": "display_data"
    },
    {
     "data": {
      "text/plain": [
       "'Total Deadwood volume by 2050 (%, relative to 2016 values)'"
      ]
     },
     "metadata": {},
     "output_type": "display_data"
    },
    {
     "data": {
      "text/plain": [
       "1.1700362648669749"
      ]
     },
     "metadata": {},
     "output_type": "display_data"
    },
    {
     "data": {
      "text/plain": [
       "'Total No. of trees diameter >= 40 cm  by 2050 (%, relative to 2016 values)'"
      ]
     },
     "metadata": {},
     "output_type": "display_data"
    },
    {
     "data": {
      "text/plain": [
       "0.3333333333333334"
      ]
     },
     "metadata": {},
     "output_type": "display_data"
    },
    {
     "data": {
      "text/plain": [
       "'Total share of deciduous trees by 2050 (related to V) (%, relative to 2016 values)'"
      ]
     },
     "metadata": {},
     "output_type": "display_data"
    },
    {
     "data": {
      "text/plain": [
       "0.08981859562798014"
      ]
     },
     "metadata": {},
     "output_type": "display_data"
    },
    {
     "data": {
      "text/plain": [
       "'Total Recreation index (max minimum over all years)'"
      ]
     },
     "metadata": {},
     "output_type": "display_data"
    },
    {
     "data": {
      "text/plain": [
       "6734729.643279577"
      ]
     },
     "metadata": {},
     "output_type": "display_data"
    },
    {
     "data": {
      "text/plain": [
       "'Total Scenic index (max minimum over all years)'"
      ]
     },
     "metadata": {},
     "output_type": "display_data"
    },
    {
     "data": {
      "text/plain": [
       "6080800.820732711"
      ]
     },
     "metadata": {},
     "output_type": "display_data"
    },
    {
     "name": "stdout",
     "output_type": "stream",
     "text": [
      "\r",
      " 29%|██▊       | 2/7 [00:08<00:22,  4.52s/it]"
     ]
    },
    {
     "data": {
      "text/plain": [
       "'Optimizing for Total Deadwood volume by 2050 (%, relative to 2016 values)'"
      ]
     },
     "metadata": {},
     "output_type": "display_data"
    },
    {
     "data": {
      "text/plain": [
       "'Found an optimal solution in 0 seconds'"
      ]
     },
     "metadata": {},
     "output_type": "display_data"
    },
    {
     "data": {
      "text/plain": [
       "'Objective values are:'"
      ]
     },
     "metadata": {},
     "output_type": "display_data"
    },
    {
     "data": {
      "text/plain": [
       "'Average harvested timber volume (log & pulp) (m3/ha, evenflow)'"
      ]
     },
     "metadata": {},
     "output_type": "display_data"
    },
    {
     "data": {
      "text/plain": [
       "0.0"
      ]
     },
     "metadata": {},
     "output_type": "display_data"
    },
    {
     "data": {
      "text/plain": [
       "'Average harvested biomass volume (m3/ha, evenflow)'"
      ]
     },
     "metadata": {},
     "output_type": "display_data"
    },
    {
     "data": {
      "text/plain": [
       "0.0"
      ]
     },
     "metadata": {},
     "output_type": "display_data"
    },
    {
     "data": {
      "text/plain": [
       "'Total Deadwood volume by 2050 (%, relative to 2016 values)'"
      ]
     },
     "metadata": {},
     "output_type": "display_data"
    },
    {
     "data": {
      "text/plain": [
       "4.720384770498175"
      ]
     },
     "metadata": {},
     "output_type": "display_data"
    },
    {
     "data": {
      "text/plain": [
       "'Total No. of trees diameter >= 40 cm  by 2050 (%, relative to 2016 values)'"
      ]
     },
     "metadata": {},
     "output_type": "display_data"
    },
    {
     "data": {
      "text/plain": [
       "6.171755725190841"
      ]
     },
     "metadata": {},
     "output_type": "display_data"
    },
    {
     "data": {
      "text/plain": [
       "'Total share of deciduous trees by 2050 (related to V) (%, relative to 2016 values)'"
      ]
     },
     "metadata": {},
     "output_type": "display_data"
    },
    {
     "data": {
      "text/plain": [
       "0.4782907581048774"
      ]
     },
     "metadata": {},
     "output_type": "display_data"
    },
    {
     "data": {
      "text/plain": [
       "'Total Recreation index (max minimum over all years)'"
      ]
     },
     "metadata": {},
     "output_type": "display_data"
    },
    {
     "data": {
      "text/plain": [
       "7468148.032000015"
      ]
     },
     "metadata": {},
     "output_type": "display_data"
    },
    {
     "data": {
      "text/plain": [
       "'Total Scenic index (max minimum over all years)'"
      ]
     },
     "metadata": {},
     "output_type": "display_data"
    },
    {
     "data": {
      "text/plain": [
       "6921648.154000009"
      ]
     },
     "metadata": {},
     "output_type": "display_data"
    },
    {
     "name": "stdout",
     "output_type": "stream",
     "text": [
      "\r",
      " 43%|████▎     | 3/7 [00:12<00:17,  4.37s/it]"
     ]
    },
    {
     "data": {
      "text/plain": [
       "'Optimizing for Total No. of trees diameter >= 40 cm  by 2050 (%, relative to 2016 values)'"
      ]
     },
     "metadata": {},
     "output_type": "display_data"
    },
    {
     "data": {
      "text/plain": [
       "'Found an optimal solution in 0 seconds'"
      ]
     },
     "metadata": {},
     "output_type": "display_data"
    },
    {
     "data": {
      "text/plain": [
       "'Objective values are:'"
      ]
     },
     "metadata": {},
     "output_type": "display_data"
    },
    {
     "data": {
      "text/plain": [
       "'Average harvested timber volume (log & pulp) (m3/ha, evenflow)'"
      ]
     },
     "metadata": {},
     "output_type": "display_data"
    },
    {
     "data": {
      "text/plain": [
       "1.2677697037451088"
      ]
     },
     "metadata": {},
     "output_type": "display_data"
    },
    {
     "data": {
      "text/plain": [
       "'Average harvested biomass volume (m3/ha, evenflow)'"
      ]
     },
     "metadata": {},
     "output_type": "display_data"
    },
    {
     "data": {
      "text/plain": [
       "0.0020346562325321404"
      ]
     },
     "metadata": {},
     "output_type": "display_data"
    },
    {
     "data": {
      "text/plain": [
       "'Total Deadwood volume by 2050 (%, relative to 2016 values)'"
      ]
     },
     "metadata": {},
     "output_type": "display_data"
    },
    {
     "data": {
      "text/plain": [
       "1.4998808680234317"
      ]
     },
     "metadata": {},
     "output_type": "display_data"
    },
    {
     "data": {
      "text/plain": [
       "'Total No. of trees diameter >= 40 cm  by 2050 (%, relative to 2016 values)'"
      ]
     },
     "metadata": {},
     "output_type": "display_data"
    },
    {
     "data": {
      "text/plain": [
       "20.39588634435963"
      ]
     },
     "metadata": {},
     "output_type": "display_data"
    },
    {
     "data": {
      "text/plain": [
       "'Total share of deciduous trees by 2050 (related to V) (%, relative to 2016 values)'"
      ]
     },
     "metadata": {},
     "output_type": "display_data"
    },
    {
     "data": {
      "text/plain": [
       "1.0785950632899812"
      ]
     },
     "metadata": {},
     "output_type": "display_data"
    },
    {
     "data": {
      "text/plain": [
       "'Total Recreation index (max minimum over all years)'"
      ]
     },
     "metadata": {},
     "output_type": "display_data"
    },
    {
     "data": {
      "text/plain": [
       "6851637.9980000155"
      ]
     },
     "metadata": {},
     "output_type": "display_data"
    },
    {
     "data": {
      "text/plain": [
       "'Total Scenic index (max minimum over all years)'"
      ]
     },
     "metadata": {},
     "output_type": "display_data"
    },
    {
     "data": {
      "text/plain": [
       "6372434.383999997"
      ]
     },
     "metadata": {},
     "output_type": "display_data"
    },
    {
     "name": "stdout",
     "output_type": "stream",
     "text": [
      "\r",
      " 57%|█████▋    | 4/7 [00:16<00:12,  4.18s/it]"
     ]
    },
    {
     "data": {
      "text/plain": [
       "'Optimizing for Total share of deciduous trees by 2050 (related to V) (%, relative to 2016 values)'"
      ]
     },
     "metadata": {},
     "output_type": "display_data"
    },
    {
     "data": {
      "text/plain": [
       "'Found an optimal solution in 1 seconds'"
      ]
     },
     "metadata": {},
     "output_type": "display_data"
    },
    {
     "data": {
      "text/plain": [
       "'Objective values are:'"
      ]
     },
     "metadata": {},
     "output_type": "display_data"
    },
    {
     "data": {
      "text/plain": [
       "'Average harvested timber volume (log & pulp) (m3/ha, evenflow)'"
      ]
     },
     "metadata": {},
     "output_type": "display_data"
    },
    {
     "data": {
      "text/plain": [
       "2.1196996842946887"
      ]
     },
     "metadata": {},
     "output_type": "display_data"
    },
    {
     "data": {
      "text/plain": [
       "'Average harvested biomass volume (m3/ha, evenflow)'"
      ]
     },
     "metadata": {},
     "output_type": "display_data"
    },
    {
     "data": {
      "text/plain": [
       "0.017238680827277808"
      ]
     },
     "metadata": {},
     "output_type": "display_data"
    },
    {
     "data": {
      "text/plain": [
       "'Total Deadwood volume by 2050 (%, relative to 2016 values)'"
      ]
     },
     "metadata": {},
     "output_type": "display_data"
    },
    {
     "data": {
      "text/plain": [
       "1.2213384040339776"
      ]
     },
     "metadata": {},
     "output_type": "display_data"
    },
    {
     "data": {
      "text/plain": [
       "'Total No. of trees diameter >= 40 cm  by 2050 (%, relative to 2016 values)'"
      ]
     },
     "metadata": {},
     "output_type": "display_data"
    },
    {
     "data": {
      "text/plain": [
       "3.9083969465648867"
      ]
     },
     "metadata": {},
     "output_type": "display_data"
    },
    {
     "data": {
      "text/plain": [
       "'Total share of deciduous trees by 2050 (related to V) (%, relative to 2016 values)'"
      ]
     },
     "metadata": {},
     "output_type": "display_data"
    },
    {
     "data": {
      "text/plain": [
       "1.4016673177073269"
      ]
     },
     "metadata": {},
     "output_type": "display_data"
    },
    {
     "data": {
      "text/plain": [
       "'Total Recreation index (max minimum over all years)'"
      ]
     },
     "metadata": {},
     "output_type": "display_data"
    },
    {
     "data": {
      "text/plain": [
       "6774415.267878579"
      ]
     },
     "metadata": {},
     "output_type": "display_data"
    },
    {
     "data": {
      "text/plain": [
       "'Total Scenic index (max minimum over all years)'"
      ]
     },
     "metadata": {},
     "output_type": "display_data"
    },
    {
     "data": {
      "text/plain": [
       "6267905.052098856"
      ]
     },
     "metadata": {},
     "output_type": "display_data"
    },
    {
     "name": "stdout",
     "output_type": "stream",
     "text": [
      "\r",
      " 71%|███████▏  | 5/7 [00:20<00:08,  4.25s/it]"
     ]
    },
    {
     "data": {
      "text/plain": [
       "'Optimizing for Total Recreation index (max minimum over all years)'"
      ]
     },
     "metadata": {},
     "output_type": "display_data"
    },
    {
     "data": {
      "text/plain": [
       "'Found an optimal solution in 1 seconds'"
      ]
     },
     "metadata": {},
     "output_type": "display_data"
    },
    {
     "data": {
      "text/plain": [
       "'Objective values are:'"
      ]
     },
     "metadata": {},
     "output_type": "display_data"
    },
    {
     "data": {
      "text/plain": [
       "'Average harvested timber volume (log & pulp) (m3/ha, evenflow)'"
      ]
     },
     "metadata": {},
     "output_type": "display_data"
    },
    {
     "data": {
      "text/plain": [
       "1.3811179429849072"
      ]
     },
     "metadata": {},
     "output_type": "display_data"
    },
    {
     "data": {
      "text/plain": [
       "'Average harvested biomass volume (m3/ha, evenflow)'"
      ]
     },
     "metadata": {},
     "output_type": "display_data"
    },
    {
     "data": {
      "text/plain": [
       "0.08211850195640025"
      ]
     },
     "metadata": {},
     "output_type": "display_data"
    },
    {
     "data": {
      "text/plain": [
       "'Total Deadwood volume by 2050 (%, relative to 2016 values)'"
      ]
     },
     "metadata": {},
     "output_type": "display_data"
    },
    {
     "data": {
      "text/plain": [
       "3.171442354296291"
      ]
     },
     "metadata": {},
     "output_type": "display_data"
    },
    {
     "data": {
      "text/plain": [
       "'Total No. of trees diameter >= 40 cm  by 2050 (%, relative to 2016 values)'"
      ]
     },
     "metadata": {},
     "output_type": "display_data"
    },
    {
     "data": {
      "text/plain": [
       "11.16348600508906"
      ]
     },
     "metadata": {},
     "output_type": "display_data"
    },
    {
     "data": {
      "text/plain": [
       "'Total share of deciduous trees by 2050 (related to V) (%, relative to 2016 values)'"
      ]
     },
     "metadata": {},
     "output_type": "display_data"
    },
    {
     "data": {
      "text/plain": [
       "0.5242452299439372"
      ]
     },
     "metadata": {},
     "output_type": "display_data"
    },
    {
     "data": {
      "text/plain": [
       "'Total Recreation index (max minimum over all years)'"
      ]
     },
     "metadata": {},
     "output_type": "display_data"
    },
    {
     "data": {
      "text/plain": [
       "7599694.349055961"
      ]
     },
     "metadata": {},
     "output_type": "display_data"
    },
    {
     "data": {
      "text/plain": [
       "'Total Scenic index (max minimum over all years)'"
      ]
     },
     "metadata": {},
     "output_type": "display_data"
    },
    {
     "data": {
      "text/plain": [
       "6922196.674700715"
      ]
     },
     "metadata": {},
     "output_type": "display_data"
    },
    {
     "name": "stdout",
     "output_type": "stream",
     "text": [
      "\r",
      " 86%|████████▌ | 6/7 [00:25<00:04,  4.29s/it]"
     ]
    },
    {
     "data": {
      "text/plain": [
       "'Optimizing for Total Scenic index (max minimum over all years)'"
      ]
     },
     "metadata": {},
     "output_type": "display_data"
    },
    {
     "data": {
      "text/plain": [
       "'Found an optimal solution in 1 seconds'"
      ]
     },
     "metadata": {},
     "output_type": "display_data"
    },
    {
     "data": {
      "text/plain": [
       "'Objective values are:'"
      ]
     },
     "metadata": {},
     "output_type": "display_data"
    },
    {
     "data": {
      "text/plain": [
       "'Average harvested timber volume (log & pulp) (m3/ha, evenflow)'"
      ]
     },
     "metadata": {},
     "output_type": "display_data"
    },
    {
     "data": {
      "text/plain": [
       "1.1008044515817315"
      ]
     },
     "metadata": {},
     "output_type": "display_data"
    },
    {
     "data": {
      "text/plain": [
       "'Average harvested biomass volume (m3/ha, evenflow)'"
      ]
     },
     "metadata": {},
     "output_type": "display_data"
    },
    {
     "data": {
      "text/plain": [
       "0.08728339854667419"
      ]
     },
     "metadata": {},
     "output_type": "display_data"
    },
    {
     "data": {
      "text/plain": [
       "'Total Deadwood volume by 2050 (%, relative to 2016 values)'"
      ]
     },
     "metadata": {},
     "output_type": "display_data"
    },
    {
     "data": {
      "text/plain": [
       "3.4224042980279528"
      ]
     },
     "metadata": {},
     "output_type": "display_data"
    },
    {
     "data": {
      "text/plain": [
       "'Total No. of trees diameter >= 40 cm  by 2050 (%, relative to 2016 values)'"
      ]
     },
     "metadata": {},
     "output_type": "display_data"
    },
    {
     "data": {
      "text/plain": [
       "6.5199321458863455"
      ]
     },
     "metadata": {},
     "output_type": "display_data"
    },
    {
     "data": {
      "text/plain": [
       "'Total share of deciduous trees by 2050 (related to V) (%, relative to 2016 values)'"
      ]
     },
     "metadata": {},
     "output_type": "display_data"
    },
    {
     "data": {
      "text/plain": [
       "0.6052465146973907"
      ]
     },
     "metadata": {},
     "output_type": "display_data"
    },
    {
     "data": {
      "text/plain": [
       "'Total Recreation index (max minimum over all years)'"
      ]
     },
     "metadata": {},
     "output_type": "display_data"
    },
    {
     "data": {
      "text/plain": [
       "7560858.430247516"
      ]
     },
     "metadata": {},
     "output_type": "display_data"
    },
    {
     "data": {
      "text/plain": [
       "'Total Scenic index (max minimum over all years)'"
      ]
     },
     "metadata": {},
     "output_type": "display_data"
    },
    {
     "data": {
      "text/plain": [
       "6987017.443732449"
      ]
     },
     "metadata": {},
     "output_type": "display_data"
    },
    {
     "name": "stdout",
     "output_type": "stream",
     "text": [
      "100%|██████████| 7/7 [00:29<00:00,  4.21s/it]\n",
      "CPU times: user 31.6 s, sys: 20.3 s, total: 51.9 s\n",
      "Wall time: 29.5 s\n"
     ]
    }
   ],
   "source": [
    "%%time\n",
    "mfo.calculateObjectiveRanges(debug=True)"
   ]
  },
  {
   "cell_type": "code",
   "execution_count": 38,
   "metadata": {},
   "outputs": [
    {
     "data": {
      "text/plain": [
       "{'Average_Harvested_V': (0.0, 5.153204327374458),\n",
       " 'Biomass_Evenflow': (0.0, 0.6683348035327452),\n",
       " 'relative_Amount_Deadwood_2050': (0.8548854792710009, 4.720384770498175),\n",
       " 'relative_N_where_D_gt_40_2050': (0.3333333333333334, 20.39588634435963),\n",
       " 'relative_prc_V_deciduous_2050': (0.08981859562798014, 1.4016673177073269),\n",
       " 'Sum_Total_Recreation': (6734729.643279577, 7599694.349055961),\n",
       " 'Sum_Total_Scenic': (6080800.820732711, 6987017.443732449)}"
      ]
     },
     "execution_count": 38,
     "metadata": {},
     "output_type": "execute_result"
    }
   ],
   "source": [
    "mfo.objectiveRanges"
   ]
  },
  {
   "cell_type": "markdown",
   "metadata": {},
   "source": [
    "## Show GUI"
   ]
  },
  {
   "cell_type": "markdown",
   "metadata": {},
   "source": [
    "* If \"Enabled constraints\" should be considered, start with ticking box \"only CCF ...\" and push \"Change constraints\"\n",
    "* Epsilon constraints are only considered if sliders are moved and button \"Set epsilon constraints\" is pushed\n",
    "* By pushing \"OPTIMIZE\" an optimal solution under the given constraints and reference points is searched\n",
    "\n",
    "<b>SEE example figure below for scenario BES</b>"
   ]
  },
  {
   "cell_type": "markdown",
   "metadata": {},
   "source": [
    "![image](./MFGUIExample.png)"
   ]
  },
  {
   "cell_type": "code",
   "execution_count": 39,
   "metadata": {},
   "outputs": [
    {
     "data": {
      "text/html": [
       "<style>\n",
       "            .widget-label { min-width: 60% !important; }\n",
       "        </style>"
      ],
      "text/plain": [
       "<IPython.core.display.HTML object>"
      ]
     },
     "metadata": {},
     "output_type": "display_data"
    },
    {
     "data": {
      "text/html": [
       "<h2>Epsilon constraint values</h2>"
      ],
      "text/plain": [
       "<IPython.core.display.HTML object>"
      ]
     },
     "metadata": {},
     "output_type": "display_data"
    },
    {
     "data": {
      "application/vnd.jupyter.widget-view+json": {
       "model_id": "2cdc93d58daa4a07bcc758bc5a997ea3",
       "version_major": 2,
       "version_minor": 0
      },
      "text/plain": [
       "interactive(children=(FloatSlider(value=0.0, description='Average harvested timber volume (log & pulp) (m3/ha,…"
      ]
     },
     "metadata": {},
     "output_type": "display_data"
    },
    {
     "data": {
      "text/html": [
       "<h2>Reference point</h2>"
      ],
      "text/plain": [
       "<IPython.core.display.HTML object>"
      ]
     },
     "metadata": {},
     "output_type": "display_data"
    },
    {
     "data": {
      "application/vnd.jupyter.widget-view+json": {
       "model_id": "d067788318364c9c8ced325b6d048347",
       "version_major": 2,
       "version_minor": 0
      },
      "text/plain": [
       "interactive(children=(FloatSlider(value=2.576602163687229, description='Average harvested timber volume (log &…"
      ]
     },
     "metadata": {},
     "output_type": "display_data"
    },
    {
     "data": {
      "text/html": [
       "<h2>Enabled constraints</h2>"
      ],
      "text/plain": [
       "<IPython.core.display.HTML object>"
      ]
     },
     "metadata": {},
     "output_type": "display_data"
    },
    {
     "data": {
      "application/vnd.jupyter.widget-view+json": {
       "model_id": "6afa6d9542d24faab5bdbc68930c45a7",
       "version_major": 2,
       "version_minor": 0
      },
      "text/plain": [
       "interactive(children=(Checkbox(value=False, description='Only CCF on peat lands'), Button(description='Change …"
      ]
     },
     "metadata": {},
     "output_type": "display_data"
    },
    {
     "data": {
      "application/vnd.jupyter.widget-view+json": {
       "model_id": "8ef3c2e7cc1545be9e05c7e584071c66",
       "version_major": 2,
       "version_minor": 0
      },
      "text/plain": [
       "Button(description='Print solution', style=ButtonStyle())"
      ]
     },
     "metadata": {},
     "output_type": "display_data"
    }
   ],
   "source": [
    "mfo.showGUI(debug=True)"
   ]
  },
  {
   "cell_type": "markdown",
   "metadata": {},
   "source": [
    "## Visualization of optimal solution"
   ]
  },
  {
   "cell_type": "code",
   "execution_count": 36,
   "metadata": {},
   "outputs": [],
   "source": [
    "regimeAmounts = {regime:0 for regime in mfo.regimes}\n",
    "for key in mfo.regimesDecision.keys():\n",
    "    regimeAmounts[key[1]] +=mfo.regimesDecision[key].solution_value()*mfo.standAreas.loc[key[0],\"represented_area_by_NFIplot\"]/mfo.standAreas[\"represented_area_by_NFIplot\"].sum()"
   ]
  },
  {
   "cell_type": "code",
   "execution_count": 37,
   "metadata": {},
   "outputs": [
    {
     "name": "stdout",
     "output_type": "stream",
     "text": [
      "Populating the interactive namespace from numpy and matplotlib\n"
     ]
    }
   ],
   "source": [
    "%pylab notebook"
   ]
  },
  {
   "cell_type": "code",
   "execution_count": 38,
   "metadata": {},
   "outputs": [],
   "source": [
    "#[val for val in regimeAmounts.values()]"
   ]
  },
  {
   "cell_type": "code",
   "execution_count": 39,
   "metadata": {},
   "outputs": [
    {
     "data": {
      "application/javascript": [
       "/* Put everything inside the global mpl namespace */\n",
       "window.mpl = {};\n",
       "\n",
       "\n",
       "mpl.get_websocket_type = function() {\n",
       "    if (typeof(WebSocket) !== 'undefined') {\n",
       "        return WebSocket;\n",
       "    } else if (typeof(MozWebSocket) !== 'undefined') {\n",
       "        return MozWebSocket;\n",
       "    } else {\n",
       "        alert('Your browser does not have WebSocket support. ' +\n",
       "              'Please try Chrome, Safari or Firefox ≥ 6. ' +\n",
       "              'Firefox 4 and 5 are also supported but you ' +\n",
       "              'have to enable WebSockets in about:config.');\n",
       "    };\n",
       "}\n",
       "\n",
       "mpl.figure = function(figure_id, websocket, ondownload, parent_element) {\n",
       "    this.id = figure_id;\n",
       "\n",
       "    this.ws = websocket;\n",
       "\n",
       "    this.supports_binary = (this.ws.binaryType != undefined);\n",
       "\n",
       "    if (!this.supports_binary) {\n",
       "        var warnings = document.getElementById(\"mpl-warnings\");\n",
       "        if (warnings) {\n",
       "            warnings.style.display = 'block';\n",
       "            warnings.textContent = (\n",
       "                \"This browser does not support binary websocket messages. \" +\n",
       "                    \"Performance may be slow.\");\n",
       "        }\n",
       "    }\n",
       "\n",
       "    this.imageObj = new Image();\n",
       "\n",
       "    this.context = undefined;\n",
       "    this.message = undefined;\n",
       "    this.canvas = undefined;\n",
       "    this.rubberband_canvas = undefined;\n",
       "    this.rubberband_context = undefined;\n",
       "    this.format_dropdown = undefined;\n",
       "\n",
       "    this.image_mode = 'full';\n",
       "\n",
       "    this.root = $('<div/>');\n",
       "    this._root_extra_style(this.root)\n",
       "    this.root.attr('style', 'display: inline-block');\n",
       "\n",
       "    $(parent_element).append(this.root);\n",
       "\n",
       "    this._init_header(this);\n",
       "    this._init_canvas(this);\n",
       "    this._init_toolbar(this);\n",
       "\n",
       "    var fig = this;\n",
       "\n",
       "    this.waiting = false;\n",
       "\n",
       "    this.ws.onopen =  function () {\n",
       "            fig.send_message(\"supports_binary\", {value: fig.supports_binary});\n",
       "            fig.send_message(\"send_image_mode\", {});\n",
       "            if (mpl.ratio != 1) {\n",
       "                fig.send_message(\"set_dpi_ratio\", {'dpi_ratio': mpl.ratio});\n",
       "            }\n",
       "            fig.send_message(\"refresh\", {});\n",
       "        }\n",
       "\n",
       "    this.imageObj.onload = function() {\n",
       "            if (fig.image_mode == 'full') {\n",
       "                // Full images could contain transparency (where diff images\n",
       "                // almost always do), so we need to clear the canvas so that\n",
       "                // there is no ghosting.\n",
       "                fig.context.clearRect(0, 0, fig.canvas.width, fig.canvas.height);\n",
       "            }\n",
       "            fig.context.drawImage(fig.imageObj, 0, 0);\n",
       "        };\n",
       "\n",
       "    this.imageObj.onunload = function() {\n",
       "        fig.ws.close();\n",
       "    }\n",
       "\n",
       "    this.ws.onmessage = this._make_on_message_function(this);\n",
       "\n",
       "    this.ondownload = ondownload;\n",
       "}\n",
       "\n",
       "mpl.figure.prototype._init_header = function() {\n",
       "    var titlebar = $(\n",
       "        '<div class=\"ui-dialog-titlebar ui-widget-header ui-corner-all ' +\n",
       "        'ui-helper-clearfix\"/>');\n",
       "    var titletext = $(\n",
       "        '<div class=\"ui-dialog-title\" style=\"width: 100%; ' +\n",
       "        'text-align: center; padding: 3px;\"/>');\n",
       "    titlebar.append(titletext)\n",
       "    this.root.append(titlebar);\n",
       "    this.header = titletext[0];\n",
       "}\n",
       "\n",
       "\n",
       "\n",
       "mpl.figure.prototype._canvas_extra_style = function(canvas_div) {\n",
       "\n",
       "}\n",
       "\n",
       "\n",
       "mpl.figure.prototype._root_extra_style = function(canvas_div) {\n",
       "\n",
       "}\n",
       "\n",
       "mpl.figure.prototype._init_canvas = function() {\n",
       "    var fig = this;\n",
       "\n",
       "    var canvas_div = $('<div/>');\n",
       "\n",
       "    canvas_div.attr('style', 'position: relative; clear: both; outline: 0');\n",
       "\n",
       "    function canvas_keyboard_event(event) {\n",
       "        return fig.key_event(event, event['data']);\n",
       "    }\n",
       "\n",
       "    canvas_div.keydown('key_press', canvas_keyboard_event);\n",
       "    canvas_div.keyup('key_release', canvas_keyboard_event);\n",
       "    this.canvas_div = canvas_div\n",
       "    this._canvas_extra_style(canvas_div)\n",
       "    this.root.append(canvas_div);\n",
       "\n",
       "    var canvas = $('<canvas/>');\n",
       "    canvas.addClass('mpl-canvas');\n",
       "    canvas.attr('style', \"left: 0; top: 0; z-index: 0; outline: 0\")\n",
       "\n",
       "    this.canvas = canvas[0];\n",
       "    this.context = canvas[0].getContext(\"2d\");\n",
       "\n",
       "    var backingStore = this.context.backingStorePixelRatio ||\n",
       "\tthis.context.webkitBackingStorePixelRatio ||\n",
       "\tthis.context.mozBackingStorePixelRatio ||\n",
       "\tthis.context.msBackingStorePixelRatio ||\n",
       "\tthis.context.oBackingStorePixelRatio ||\n",
       "\tthis.context.backingStorePixelRatio || 1;\n",
       "\n",
       "    mpl.ratio = (window.devicePixelRatio || 1) / backingStore;\n",
       "\n",
       "    var rubberband = $('<canvas/>');\n",
       "    rubberband.attr('style', \"position: absolute; left: 0; top: 0; z-index: 1;\")\n",
       "\n",
       "    var pass_mouse_events = true;\n",
       "\n",
       "    canvas_div.resizable({\n",
       "        start: function(event, ui) {\n",
       "            pass_mouse_events = false;\n",
       "        },\n",
       "        resize: function(event, ui) {\n",
       "            fig.request_resize(ui.size.width, ui.size.height);\n",
       "        },\n",
       "        stop: function(event, ui) {\n",
       "            pass_mouse_events = true;\n",
       "            fig.request_resize(ui.size.width, ui.size.height);\n",
       "        },\n",
       "    });\n",
       "\n",
       "    function mouse_event_fn(event) {\n",
       "        if (pass_mouse_events)\n",
       "            return fig.mouse_event(event, event['data']);\n",
       "    }\n",
       "\n",
       "    rubberband.mousedown('button_press', mouse_event_fn);\n",
       "    rubberband.mouseup('button_release', mouse_event_fn);\n",
       "    // Throttle sequential mouse events to 1 every 20ms.\n",
       "    rubberband.mousemove('motion_notify', mouse_event_fn);\n",
       "\n",
       "    rubberband.mouseenter('figure_enter', mouse_event_fn);\n",
       "    rubberband.mouseleave('figure_leave', mouse_event_fn);\n",
       "\n",
       "    canvas_div.on(\"wheel\", function (event) {\n",
       "        event = event.originalEvent;\n",
       "        event['data'] = 'scroll'\n",
       "        if (event.deltaY < 0) {\n",
       "            event.step = 1;\n",
       "        } else {\n",
       "            event.step = -1;\n",
       "        }\n",
       "        mouse_event_fn(event);\n",
       "    });\n",
       "\n",
       "    canvas_div.append(canvas);\n",
       "    canvas_div.append(rubberband);\n",
       "\n",
       "    this.rubberband = rubberband;\n",
       "    this.rubberband_canvas = rubberband[0];\n",
       "    this.rubberband_context = rubberband[0].getContext(\"2d\");\n",
       "    this.rubberband_context.strokeStyle = \"#000000\";\n",
       "\n",
       "    this._resize_canvas = function(width, height) {\n",
       "        // Keep the size of the canvas, canvas container, and rubber band\n",
       "        // canvas in synch.\n",
       "        canvas_div.css('width', width)\n",
       "        canvas_div.css('height', height)\n",
       "\n",
       "        canvas.attr('width', width * mpl.ratio);\n",
       "        canvas.attr('height', height * mpl.ratio);\n",
       "        canvas.attr('style', 'width: ' + width + 'px; height: ' + height + 'px;');\n",
       "\n",
       "        rubberband.attr('width', width);\n",
       "        rubberband.attr('height', height);\n",
       "    }\n",
       "\n",
       "    // Set the figure to an initial 600x600px, this will subsequently be updated\n",
       "    // upon first draw.\n",
       "    this._resize_canvas(600, 600);\n",
       "\n",
       "    // Disable right mouse context menu.\n",
       "    $(this.rubberband_canvas).bind(\"contextmenu\",function(e){\n",
       "        return false;\n",
       "    });\n",
       "\n",
       "    function set_focus () {\n",
       "        canvas.focus();\n",
       "        canvas_div.focus();\n",
       "    }\n",
       "\n",
       "    window.setTimeout(set_focus, 100);\n",
       "}\n",
       "\n",
       "mpl.figure.prototype._init_toolbar = function() {\n",
       "    var fig = this;\n",
       "\n",
       "    var nav_element = $('<div/>');\n",
       "    nav_element.attr('style', 'width: 100%');\n",
       "    this.root.append(nav_element);\n",
       "\n",
       "    // Define a callback function for later on.\n",
       "    function toolbar_event(event) {\n",
       "        return fig.toolbar_button_onclick(event['data']);\n",
       "    }\n",
       "    function toolbar_mouse_event(event) {\n",
       "        return fig.toolbar_button_onmouseover(event['data']);\n",
       "    }\n",
       "\n",
       "    for(var toolbar_ind in mpl.toolbar_items) {\n",
       "        var name = mpl.toolbar_items[toolbar_ind][0];\n",
       "        var tooltip = mpl.toolbar_items[toolbar_ind][1];\n",
       "        var image = mpl.toolbar_items[toolbar_ind][2];\n",
       "        var method_name = mpl.toolbar_items[toolbar_ind][3];\n",
       "\n",
       "        if (!name) {\n",
       "            // put a spacer in here.\n",
       "            continue;\n",
       "        }\n",
       "        var button = $('<button/>');\n",
       "        button.addClass('ui-button ui-widget ui-state-default ui-corner-all ' +\n",
       "                        'ui-button-icon-only');\n",
       "        button.attr('role', 'button');\n",
       "        button.attr('aria-disabled', 'false');\n",
       "        button.click(method_name, toolbar_event);\n",
       "        button.mouseover(tooltip, toolbar_mouse_event);\n",
       "\n",
       "        var icon_img = $('<span/>');\n",
       "        icon_img.addClass('ui-button-icon-primary ui-icon');\n",
       "        icon_img.addClass(image);\n",
       "        icon_img.addClass('ui-corner-all');\n",
       "\n",
       "        var tooltip_span = $('<span/>');\n",
       "        tooltip_span.addClass('ui-button-text');\n",
       "        tooltip_span.html(tooltip);\n",
       "\n",
       "        button.append(icon_img);\n",
       "        button.append(tooltip_span);\n",
       "\n",
       "        nav_element.append(button);\n",
       "    }\n",
       "\n",
       "    var fmt_picker_span = $('<span/>');\n",
       "\n",
       "    var fmt_picker = $('<select/>');\n",
       "    fmt_picker.addClass('mpl-toolbar-option ui-widget ui-widget-content');\n",
       "    fmt_picker_span.append(fmt_picker);\n",
       "    nav_element.append(fmt_picker_span);\n",
       "    this.format_dropdown = fmt_picker[0];\n",
       "\n",
       "    for (var ind in mpl.extensions) {\n",
       "        var fmt = mpl.extensions[ind];\n",
       "        var option = $(\n",
       "            '<option/>', {selected: fmt === mpl.default_extension}).html(fmt);\n",
       "        fmt_picker.append(option);\n",
       "    }\n",
       "\n",
       "    // Add hover states to the ui-buttons\n",
       "    $( \".ui-button\" ).hover(\n",
       "        function() { $(this).addClass(\"ui-state-hover\");},\n",
       "        function() { $(this).removeClass(\"ui-state-hover\");}\n",
       "    );\n",
       "\n",
       "    var status_bar = $('<span class=\"mpl-message\"/>');\n",
       "    nav_element.append(status_bar);\n",
       "    this.message = status_bar[0];\n",
       "}\n",
       "\n",
       "mpl.figure.prototype.request_resize = function(x_pixels, y_pixels) {\n",
       "    // Request matplotlib to resize the figure. Matplotlib will then trigger a resize in the client,\n",
       "    // which will in turn request a refresh of the image.\n",
       "    this.send_message('resize', {'width': x_pixels, 'height': y_pixels});\n",
       "}\n",
       "\n",
       "mpl.figure.prototype.send_message = function(type, properties) {\n",
       "    properties['type'] = type;\n",
       "    properties['figure_id'] = this.id;\n",
       "    this.ws.send(JSON.stringify(properties));\n",
       "}\n",
       "\n",
       "mpl.figure.prototype.send_draw_message = function() {\n",
       "    if (!this.waiting) {\n",
       "        this.waiting = true;\n",
       "        this.ws.send(JSON.stringify({type: \"draw\", figure_id: this.id}));\n",
       "    }\n",
       "}\n",
       "\n",
       "\n",
       "mpl.figure.prototype.handle_save = function(fig, msg) {\n",
       "    var format_dropdown = fig.format_dropdown;\n",
       "    var format = format_dropdown.options[format_dropdown.selectedIndex].value;\n",
       "    fig.ondownload(fig, format);\n",
       "}\n",
       "\n",
       "\n",
       "mpl.figure.prototype.handle_resize = function(fig, msg) {\n",
       "    var size = msg['size'];\n",
       "    if (size[0] != fig.canvas.width || size[1] != fig.canvas.height) {\n",
       "        fig._resize_canvas(size[0], size[1]);\n",
       "        fig.send_message(\"refresh\", {});\n",
       "    };\n",
       "}\n",
       "\n",
       "mpl.figure.prototype.handle_rubberband = function(fig, msg) {\n",
       "    var x0 = msg['x0'] / mpl.ratio;\n",
       "    var y0 = (fig.canvas.height - msg['y0']) / mpl.ratio;\n",
       "    var x1 = msg['x1'] / mpl.ratio;\n",
       "    var y1 = (fig.canvas.height - msg['y1']) / mpl.ratio;\n",
       "    x0 = Math.floor(x0) + 0.5;\n",
       "    y0 = Math.floor(y0) + 0.5;\n",
       "    x1 = Math.floor(x1) + 0.5;\n",
       "    y1 = Math.floor(y1) + 0.5;\n",
       "    var min_x = Math.min(x0, x1);\n",
       "    var min_y = Math.min(y0, y1);\n",
       "    var width = Math.abs(x1 - x0);\n",
       "    var height = Math.abs(y1 - y0);\n",
       "\n",
       "    fig.rubberband_context.clearRect(\n",
       "        0, 0, fig.canvas.width / mpl.ratio, fig.canvas.height / mpl.ratio);\n",
       "\n",
       "    fig.rubberband_context.strokeRect(min_x, min_y, width, height);\n",
       "}\n",
       "\n",
       "mpl.figure.prototype.handle_figure_label = function(fig, msg) {\n",
       "    // Updates the figure title.\n",
       "    fig.header.textContent = msg['label'];\n",
       "}\n",
       "\n",
       "mpl.figure.prototype.handle_cursor = function(fig, msg) {\n",
       "    var cursor = msg['cursor'];\n",
       "    switch(cursor)\n",
       "    {\n",
       "    case 0:\n",
       "        cursor = 'pointer';\n",
       "        break;\n",
       "    case 1:\n",
       "        cursor = 'default';\n",
       "        break;\n",
       "    case 2:\n",
       "        cursor = 'crosshair';\n",
       "        break;\n",
       "    case 3:\n",
       "        cursor = 'move';\n",
       "        break;\n",
       "    }\n",
       "    fig.rubberband_canvas.style.cursor = cursor;\n",
       "}\n",
       "\n",
       "mpl.figure.prototype.handle_message = function(fig, msg) {\n",
       "    fig.message.textContent = msg['message'];\n",
       "}\n",
       "\n",
       "mpl.figure.prototype.handle_draw = function(fig, msg) {\n",
       "    // Request the server to send over a new figure.\n",
       "    fig.send_draw_message();\n",
       "}\n",
       "\n",
       "mpl.figure.prototype.handle_image_mode = function(fig, msg) {\n",
       "    fig.image_mode = msg['mode'];\n",
       "}\n",
       "\n",
       "mpl.figure.prototype.updated_canvas_event = function() {\n",
       "    // Called whenever the canvas gets updated.\n",
       "    this.send_message(\"ack\", {});\n",
       "}\n",
       "\n",
       "// A function to construct a web socket function for onmessage handling.\n",
       "// Called in the figure constructor.\n",
       "mpl.figure.prototype._make_on_message_function = function(fig) {\n",
       "    return function socket_on_message(evt) {\n",
       "        if (evt.data instanceof Blob) {\n",
       "            /* FIXME: We get \"Resource interpreted as Image but\n",
       "             * transferred with MIME type text/plain:\" errors on\n",
       "             * Chrome.  But how to set the MIME type?  It doesn't seem\n",
       "             * to be part of the websocket stream */\n",
       "            evt.data.type = \"image/png\";\n",
       "\n",
       "            /* Free the memory for the previous frames */\n",
       "            if (fig.imageObj.src) {\n",
       "                (window.URL || window.webkitURL).revokeObjectURL(\n",
       "                    fig.imageObj.src);\n",
       "            }\n",
       "\n",
       "            fig.imageObj.src = (window.URL || window.webkitURL).createObjectURL(\n",
       "                evt.data);\n",
       "            fig.updated_canvas_event();\n",
       "            fig.waiting = false;\n",
       "            return;\n",
       "        }\n",
       "        else if (typeof evt.data === 'string' && evt.data.slice(0, 21) == \"data:image/png;base64\") {\n",
       "            fig.imageObj.src = evt.data;\n",
       "            fig.updated_canvas_event();\n",
       "            fig.waiting = false;\n",
       "            return;\n",
       "        }\n",
       "\n",
       "        var msg = JSON.parse(evt.data);\n",
       "        var msg_type = msg['type'];\n",
       "\n",
       "        // Call the  \"handle_{type}\" callback, which takes\n",
       "        // the figure and JSON message as its only arguments.\n",
       "        try {\n",
       "            var callback = fig[\"handle_\" + msg_type];\n",
       "        } catch (e) {\n",
       "            console.log(\"No handler for the '\" + msg_type + \"' message type: \", msg);\n",
       "            return;\n",
       "        }\n",
       "\n",
       "        if (callback) {\n",
       "            try {\n",
       "                // console.log(\"Handling '\" + msg_type + \"' message: \", msg);\n",
       "                callback(fig, msg);\n",
       "            } catch (e) {\n",
       "                console.log(\"Exception inside the 'handler_\" + msg_type + \"' callback:\", e, e.stack, msg);\n",
       "            }\n",
       "        }\n",
       "    };\n",
       "}\n",
       "\n",
       "// from http://stackoverflow.com/questions/1114465/getting-mouse-location-in-canvas\n",
       "mpl.findpos = function(e) {\n",
       "    //this section is from http://www.quirksmode.org/js/events_properties.html\n",
       "    var targ;\n",
       "    if (!e)\n",
       "        e = window.event;\n",
       "    if (e.target)\n",
       "        targ = e.target;\n",
       "    else if (e.srcElement)\n",
       "        targ = e.srcElement;\n",
       "    if (targ.nodeType == 3) // defeat Safari bug\n",
       "        targ = targ.parentNode;\n",
       "\n",
       "    // jQuery normalizes the pageX and pageY\n",
       "    // pageX,Y are the mouse positions relative to the document\n",
       "    // offset() returns the position of the element relative to the document\n",
       "    var x = e.pageX - $(targ).offset().left;\n",
       "    var y = e.pageY - $(targ).offset().top;\n",
       "\n",
       "    return {\"x\": x, \"y\": y};\n",
       "};\n",
       "\n",
       "/*\n",
       " * return a copy of an object with only non-object keys\n",
       " * we need this to avoid circular references\n",
       " * http://stackoverflow.com/a/24161582/3208463\n",
       " */\n",
       "function simpleKeys (original) {\n",
       "  return Object.keys(original).reduce(function (obj, key) {\n",
       "    if (typeof original[key] !== 'object')\n",
       "        obj[key] = original[key]\n",
       "    return obj;\n",
       "  }, {});\n",
       "}\n",
       "\n",
       "mpl.figure.prototype.mouse_event = function(event, name) {\n",
       "    var canvas_pos = mpl.findpos(event)\n",
       "\n",
       "    if (name === 'button_press')\n",
       "    {\n",
       "        this.canvas.focus();\n",
       "        this.canvas_div.focus();\n",
       "    }\n",
       "\n",
       "    var x = canvas_pos.x * mpl.ratio;\n",
       "    var y = canvas_pos.y * mpl.ratio;\n",
       "\n",
       "    this.send_message(name, {x: x, y: y, button: event.button,\n",
       "                             step: event.step,\n",
       "                             guiEvent: simpleKeys(event)});\n",
       "\n",
       "    /* This prevents the web browser from automatically changing to\n",
       "     * the text insertion cursor when the button is pressed.  We want\n",
       "     * to control all of the cursor setting manually through the\n",
       "     * 'cursor' event from matplotlib */\n",
       "    event.preventDefault();\n",
       "    return false;\n",
       "}\n",
       "\n",
       "mpl.figure.prototype._key_event_extra = function(event, name) {\n",
       "    // Handle any extra behaviour associated with a key event\n",
       "}\n",
       "\n",
       "mpl.figure.prototype.key_event = function(event, name) {\n",
       "\n",
       "    // Prevent repeat events\n",
       "    if (name == 'key_press')\n",
       "    {\n",
       "        if (event.which === this._key)\n",
       "            return;\n",
       "        else\n",
       "            this._key = event.which;\n",
       "    }\n",
       "    if (name == 'key_release')\n",
       "        this._key = null;\n",
       "\n",
       "    var value = '';\n",
       "    if (event.ctrlKey && event.which != 17)\n",
       "        value += \"ctrl+\";\n",
       "    if (event.altKey && event.which != 18)\n",
       "        value += \"alt+\";\n",
       "    if (event.shiftKey && event.which != 16)\n",
       "        value += \"shift+\";\n",
       "\n",
       "    value += 'k';\n",
       "    value += event.which.toString();\n",
       "\n",
       "    this._key_event_extra(event, name);\n",
       "\n",
       "    this.send_message(name, {key: value,\n",
       "                             guiEvent: simpleKeys(event)});\n",
       "    return false;\n",
       "}\n",
       "\n",
       "mpl.figure.prototype.toolbar_button_onclick = function(name) {\n",
       "    if (name == 'download') {\n",
       "        this.handle_save(this, null);\n",
       "    } else {\n",
       "        this.send_message(\"toolbar_button\", {name: name});\n",
       "    }\n",
       "};\n",
       "\n",
       "mpl.figure.prototype.toolbar_button_onmouseover = function(tooltip) {\n",
       "    this.message.textContent = tooltip;\n",
       "};\n",
       "mpl.toolbar_items = [[\"Home\", \"Reset original view\", \"fa fa-home icon-home\", \"home\"], [\"Back\", \"Back to previous view\", \"fa fa-arrow-left icon-arrow-left\", \"back\"], [\"Forward\", \"Forward to next view\", \"fa fa-arrow-right icon-arrow-right\", \"forward\"], [\"\", \"\", \"\", \"\"], [\"Pan\", \"Pan axes with left mouse, zoom with right\", \"fa fa-arrows icon-move\", \"pan\"], [\"Zoom\", \"Zoom to rectangle\", \"fa fa-square-o icon-check-empty\", \"zoom\"], [\"\", \"\", \"\", \"\"], [\"Download\", \"Download plot\", \"fa fa-floppy-o icon-save\", \"download\"]];\n",
       "\n",
       "mpl.extensions = [\"eps\", \"pdf\", \"png\", \"ps\", \"raw\", \"svg\"];\n",
       "\n",
       "mpl.default_extension = \"png\";var comm_websocket_adapter = function(comm) {\n",
       "    // Create a \"websocket\"-like object which calls the given IPython comm\n",
       "    // object with the appropriate methods. Currently this is a non binary\n",
       "    // socket, so there is still some room for performance tuning.\n",
       "    var ws = {};\n",
       "\n",
       "    ws.close = function() {\n",
       "        comm.close()\n",
       "    };\n",
       "    ws.send = function(m) {\n",
       "        //console.log('sending', m);\n",
       "        comm.send(m);\n",
       "    };\n",
       "    // Register the callback with on_msg.\n",
       "    comm.on_msg(function(msg) {\n",
       "        //console.log('receiving', msg['content']['data'], msg);\n",
       "        // Pass the mpl event to the overridden (by mpl) onmessage function.\n",
       "        ws.onmessage(msg['content']['data'])\n",
       "    });\n",
       "    return ws;\n",
       "}\n",
       "\n",
       "mpl.mpl_figure_comm = function(comm, msg) {\n",
       "    // This is the function which gets called when the mpl process\n",
       "    // starts-up an IPython Comm through the \"matplotlib\" channel.\n",
       "\n",
       "    var id = msg.content.data.id;\n",
       "    // Get hold of the div created by the display call when the Comm\n",
       "    // socket was opened in Python.\n",
       "    var element = $(\"#\" + id);\n",
       "    var ws_proxy = comm_websocket_adapter(comm)\n",
       "\n",
       "    function ondownload(figure, format) {\n",
       "        window.open(figure.imageObj.src);\n",
       "    }\n",
       "\n",
       "    var fig = new mpl.figure(id, ws_proxy,\n",
       "                           ondownload,\n",
       "                           element.get(0));\n",
       "\n",
       "    // Call onopen now - mpl needs it, as it is assuming we've passed it a real\n",
       "    // web socket which is closed, not our websocket->open comm proxy.\n",
       "    ws_proxy.onopen();\n",
       "\n",
       "    fig.parent_element = element.get(0);\n",
       "    fig.cell_info = mpl.find_output_cell(\"<div id='\" + id + \"'></div>\");\n",
       "    if (!fig.cell_info) {\n",
       "        console.error(\"Failed to find cell for figure\", id, fig);\n",
       "        return;\n",
       "    }\n",
       "\n",
       "    var output_index = fig.cell_info[2]\n",
       "    var cell = fig.cell_info[0];\n",
       "\n",
       "};\n",
       "\n",
       "mpl.figure.prototype.handle_close = function(fig, msg) {\n",
       "    var width = fig.canvas.width/mpl.ratio\n",
       "    fig.root.unbind('remove')\n",
       "\n",
       "    // Update the output cell to use the data from the current canvas.\n",
       "    fig.push_to_output();\n",
       "    var dataURL = fig.canvas.toDataURL();\n",
       "    // Re-enable the keyboard manager in IPython - without this line, in FF,\n",
       "    // the notebook keyboard shortcuts fail.\n",
       "    IPython.keyboard_manager.enable()\n",
       "    $(fig.parent_element).html('<img src=\"' + dataURL + '\" width=\"' + width + '\">');\n",
       "    fig.close_ws(fig, msg);\n",
       "}\n",
       "\n",
       "mpl.figure.prototype.close_ws = function(fig, msg){\n",
       "    fig.send_message('closing', msg);\n",
       "    // fig.ws.close()\n",
       "}\n",
       "\n",
       "mpl.figure.prototype.push_to_output = function(remove_interactive) {\n",
       "    // Turn the data on the canvas into data in the output cell.\n",
       "    var width = this.canvas.width/mpl.ratio\n",
       "    var dataURL = this.canvas.toDataURL();\n",
       "    this.cell_info[1]['text/html'] = '<img src=\"' + dataURL + '\" width=\"' + width + '\">';\n",
       "}\n",
       "\n",
       "mpl.figure.prototype.updated_canvas_event = function() {\n",
       "    // Tell IPython that the notebook contents must change.\n",
       "    IPython.notebook.set_dirty(true);\n",
       "    this.send_message(\"ack\", {});\n",
       "    var fig = this;\n",
       "    // Wait a second, then push the new image to the DOM so\n",
       "    // that it is saved nicely (might be nice to debounce this).\n",
       "    setTimeout(function () { fig.push_to_output() }, 1000);\n",
       "}\n",
       "\n",
       "mpl.figure.prototype._init_toolbar = function() {\n",
       "    var fig = this;\n",
       "\n",
       "    var nav_element = $('<div/>');\n",
       "    nav_element.attr('style', 'width: 100%');\n",
       "    this.root.append(nav_element);\n",
       "\n",
       "    // Define a callback function for later on.\n",
       "    function toolbar_event(event) {\n",
       "        return fig.toolbar_button_onclick(event['data']);\n",
       "    }\n",
       "    function toolbar_mouse_event(event) {\n",
       "        return fig.toolbar_button_onmouseover(event['data']);\n",
       "    }\n",
       "\n",
       "    for(var toolbar_ind in mpl.toolbar_items){\n",
       "        var name = mpl.toolbar_items[toolbar_ind][0];\n",
       "        var tooltip = mpl.toolbar_items[toolbar_ind][1];\n",
       "        var image = mpl.toolbar_items[toolbar_ind][2];\n",
       "        var method_name = mpl.toolbar_items[toolbar_ind][3];\n",
       "\n",
       "        if (!name) { continue; };\n",
       "\n",
       "        var button = $('<button class=\"btn btn-default\" href=\"#\" title=\"' + name + '\"><i class=\"fa ' + image + ' fa-lg\"></i></button>');\n",
       "        button.click(method_name, toolbar_event);\n",
       "        button.mouseover(tooltip, toolbar_mouse_event);\n",
       "        nav_element.append(button);\n",
       "    }\n",
       "\n",
       "    // Add the status bar.\n",
       "    var status_bar = $('<span class=\"mpl-message\" style=\"text-align:right; float: right;\"/>');\n",
       "    nav_element.append(status_bar);\n",
       "    this.message = status_bar[0];\n",
       "\n",
       "    // Add the close button to the window.\n",
       "    var buttongrp = $('<div class=\"btn-group inline pull-right\"></div>');\n",
       "    var button = $('<button class=\"btn btn-mini btn-primary\" href=\"#\" title=\"Stop Interaction\"><i class=\"fa fa-power-off icon-remove icon-large\"></i></button>');\n",
       "    button.click(function (evt) { fig.handle_close(fig, {}); } );\n",
       "    button.mouseover('Stop Interaction', toolbar_mouse_event);\n",
       "    buttongrp.append(button);\n",
       "    var titlebar = this.root.find($('.ui-dialog-titlebar'));\n",
       "    titlebar.prepend(buttongrp);\n",
       "}\n",
       "\n",
       "mpl.figure.prototype._root_extra_style = function(el){\n",
       "    var fig = this\n",
       "    el.on(\"remove\", function(){\n",
       "\tfig.close_ws(fig, {});\n",
       "    });\n",
       "}\n",
       "\n",
       "mpl.figure.prototype._canvas_extra_style = function(el){\n",
       "    // this is important to make the div 'focusable\n",
       "    el.attr('tabindex', 0)\n",
       "    // reach out to IPython and tell the keyboard manager to turn it's self\n",
       "    // off when our div gets focus\n",
       "\n",
       "    // location in version 3\n",
       "    if (IPython.notebook.keyboard_manager) {\n",
       "        IPython.notebook.keyboard_manager.register_events(el);\n",
       "    }\n",
       "    else {\n",
       "        // location in version 2\n",
       "        IPython.keyboard_manager.register_events(el);\n",
       "    }\n",
       "\n",
       "}\n",
       "\n",
       "mpl.figure.prototype._key_event_extra = function(event, name) {\n",
       "    var manager = IPython.notebook.keyboard_manager;\n",
       "    if (!manager)\n",
       "        manager = IPython.keyboard_manager;\n",
       "\n",
       "    // Check for shift+enter\n",
       "    if (event.shiftKey && event.which == 13) {\n",
       "        this.canvas_div.blur();\n",
       "        // select the cell after this one\n",
       "        var index = IPython.notebook.find_cell_index(this.cell_info[0]);\n",
       "        IPython.notebook.select(index + 1);\n",
       "    }\n",
       "}\n",
       "\n",
       "mpl.figure.prototype.handle_save = function(fig, msg) {\n",
       "    fig.ondownload(fig, null);\n",
       "}\n",
       "\n",
       "\n",
       "mpl.find_output_cell = function(html_output) {\n",
       "    // Return the cell and output element which can be found *uniquely* in the notebook.\n",
       "    // Note - this is a bit hacky, but it is done because the \"notebook_saving.Notebook\"\n",
       "    // IPython event is triggered only after the cells have been serialised, which for\n",
       "    // our purposes (turning an active figure into a static one), is too late.\n",
       "    var cells = IPython.notebook.get_cells();\n",
       "    var ncells = cells.length;\n",
       "    for (var i=0; i<ncells; i++) {\n",
       "        var cell = cells[i];\n",
       "        if (cell.cell_type === 'code'){\n",
       "            for (var j=0; j<cell.output_area.outputs.length; j++) {\n",
       "                var data = cell.output_area.outputs[j];\n",
       "                if (data.data) {\n",
       "                    // IPython >= 3 moved mimebundle to data attribute of output\n",
       "                    data = data.data;\n",
       "                }\n",
       "                if (data['text/html'] == html_output) {\n",
       "                    return [cell, data, j];\n",
       "                }\n",
       "            }\n",
       "        }\n",
       "    }\n",
       "}\n",
       "\n",
       "// Register the function which deals with the matplotlib target/channel.\n",
       "// The kernel may be null if the page has been refreshed.\n",
       "if (IPython.notebook.kernel != null) {\n",
       "    IPython.notebook.kernel.comm_manager.register_target('matplotlib', mpl.mpl_figure_comm);\n",
       "}\n"
      ],
      "text/plain": [
       "<IPython.core.display.Javascript object>"
      ]
     },
     "metadata": {},
     "output_type": "display_data"
    },
    {
     "data": {
      "text/html": [
       "<img src=\"data:image/png;base64,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\" width=\"640\">"
      ],
      "text/plain": [
       "<IPython.core.display.HTML object>"
      ]
     },
     "metadata": {},
     "output_type": "display_data"
    },
    {
     "data": {
      "text/plain": [
       "[<matplotlib.lines.Line2D at 0x7f709dd14af0>]"
      ]
     },
     "execution_count": 39,
     "metadata": {},
     "output_type": "execute_result"
    }
   ],
   "source": [
    "plt.plot([key for key in regimeAmounts.keys()],[val for val in regimeAmounts.values()])"
   ]
  },
  {
   "cell_type": "code",
   "execution_count": 40,
   "metadata": {},
   "outputs": [
    {
     "data": {
      "text/plain": [
       "([<matplotlib.axis.XTick at 0x7f709dcd62b0>,\n",
       "  <matplotlib.axis.XTick at 0x7f709dcd6280>,\n",
       "  <matplotlib.axis.XTick at 0x7f709dcd1640>,\n",
       "  <matplotlib.axis.XTick at 0x7f709d8e7640>,\n",
       "  <matplotlib.axis.XTick at 0x7f709d8e7b50>,\n",
       "  <matplotlib.axis.XTick at 0x7f709d8f30a0>,\n",
       "  <matplotlib.axis.XTick at 0x7f709d8f35b0>,\n",
       "  <matplotlib.axis.XTick at 0x7f709d8f3ac0>,\n",
       "  <matplotlib.axis.XTick at 0x7f709d8f3fd0>,\n",
       "  <matplotlib.axis.XTick at 0x7f709d8f8520>,\n",
       "  <matplotlib.axis.XTick at 0x7f709d8f8a30>,\n",
       "  <matplotlib.axis.XTick at 0x7f709d8f3640>,\n",
       "  <matplotlib.axis.XTick at 0x7f709d8e76d0>,\n",
       "  <matplotlib.axis.XTick at 0x7f709d8f8640>,\n",
       "  <matplotlib.axis.XTick at 0x7f709d900160>,\n",
       "  <matplotlib.axis.XTick at 0x7f709d900670>,\n",
       "  <matplotlib.axis.XTick at 0x7f709d900b80>,\n",
       "  <matplotlib.axis.XTick at 0x7f709d9030d0>,\n",
       "  <matplotlib.axis.XTick at 0x7f709d9035e0>,\n",
       "  <matplotlib.axis.XTick at 0x7f709d903af0>,\n",
       "  <matplotlib.axis.XTick at 0x7f709d809040>,\n",
       "  <matplotlib.axis.XTick at 0x7f709d9037c0>,\n",
       "  <matplotlib.axis.XTick at 0x7f709d900850>,\n",
       "  <matplotlib.axis.XTick at 0x7f709d8e76a0>,\n",
       "  <matplotlib.axis.XTick at 0x7f709d809550>,\n",
       "  <matplotlib.axis.XTick at 0x7f709d809a60>,\n",
       "  <matplotlib.axis.XTick at 0x7f709d809f70>,\n",
       "  <matplotlib.axis.XTick at 0x7f709d8104c0>,\n",
       "  <matplotlib.axis.XTick at 0x7f709d8109d0>,\n",
       "  <matplotlib.axis.XTick at 0x7f709d810ee0>,\n",
       "  <matplotlib.axis.XTick at 0x7f709d815430>,\n",
       "  <matplotlib.axis.XTick at 0x7f709d810520>],\n",
       " [Text(0, 0, 'BAU'),\n",
       "  Text(0, 0, 'BAU_10'),\n",
       "  Text(0, 0, 'BAU_15'),\n",
       "  Text(0, 0, 'BAU_30'),\n",
       "  Text(0, 0, 'BAU_5'),\n",
       "  Text(0, 0, 'BAU_F'),\n",
       "  Text(0, 0, 'BAU_m5'),\n",
       "  Text(0, 0, 'BAU_m5_F'),\n",
       "  Text(0, 0, 'BAUwGTR'),\n",
       "  Text(0, 0, 'BAUwT'),\n",
       "  Text(0, 0, 'BAUwT_10'),\n",
       "  Text(0, 0, 'BAUwT_15'),\n",
       "  Text(0, 0, 'BAUwT_15_B'),\n",
       "  Text(0, 0, 'BAUwT_30'),\n",
       "  Text(0, 0, 'BAUwT_30_B'),\n",
       "  Text(0, 0, 'BAUwT_5'),\n",
       "  Text(0, 0, 'BAUwT_5_B'),\n",
       "  Text(0, 0, 'BAUwT_B'),\n",
       "  Text(0, 0, 'BAUwT_F'),\n",
       "  Text(0, 0, 'BAUwT_GTR'),\n",
       "  Text(0, 0, 'BAUwT_GTR_B'),\n",
       "  Text(0, 0, 'BAUwT_m5'),\n",
       "  Text(0, 0, 'BAUwT_m5_F'),\n",
       "  Text(0, 0, 'BAUwoT'),\n",
       "  Text(0, 0, 'BAUwoT_10'),\n",
       "  Text(0, 0, 'BAUwoT_m20'),\n",
       "  Text(0, 0, 'BAUwoT_m20_F'),\n",
       "  Text(0, 0, 'CCF_1'),\n",
       "  Text(0, 0, 'CCF_2'),\n",
       "  Text(0, 0, 'CCF_3'),\n",
       "  Text(0, 0, 'CCF_4'),\n",
       "  Text(0, 0, 'SA')])"
      ]
     },
     "execution_count": 40,
     "metadata": {},
     "output_type": "execute_result"
    }
   ],
   "source": [
    "plt.bar(range(len(regimeAmounts)), list(regimeAmounts.values()), align='center')\n",
    "plt.xticks(range(len(regimeAmounts)), list(regimeAmounts.keys()),rotation=\"vertical\")"
   ]
  },
  {
   "cell_type": "markdown",
   "metadata": {},
   "source": [
    "## Export data as csv\n",
    "\n",
    "- <b>Solution_alldata</b> contains the optimal regime per stand AND the timely development of indicator values plus all other input columns (represented_are_by_NFIplot, region, NUTS2)\n",
    "- <b>Solution</b> contains only the selected optimal regime and its share (if multiple regimes per stand are selected)\n"
   ]
  },
  {
   "cell_type": "code",
   "execution_count": 41,
   "metadata": {},
   "outputs": [],
   "source": [
    "try:\n",
    "    os.mkdir(\"results\")\n",
    "except FileExistsError:\n",
    "    pass\n",
    "b = []\n",
    "c = []\n",
    "for key in mfo.regimesDecision.keys():\n",
    "    if mfo.regimesDecision[key].solution_value() > 0:\n",
    "        b = b+ [(key[0],x*5+2016, key[1]) for x in range(0,21)]\n",
    "        c = c+ [(key[0],key[1],mfo.regimesDecision[key].solution_value())]\n",
    "data2b = mfo.data.iloc[mfo.data.index.isin(b)]\n",
    "data2b.to_csv(\"./results/solution_alldata_\"+scenario+\"_\"+RCP+\"_\"+extension+\".csv\")\n",
    "c1 = pd.DataFrame(c)\n",
    "c1.to_csv(\"./results/solution_\"+scenario+\"_\"+RCP+\"_\"+extension+\".csv\")"
   ]
  },
  {
   "cell_type": "markdown",
   "metadata": {},
   "source": [
    "## Export objective ranges "
   ]
  },
  {
   "cell_type": "markdown",
   "metadata": {},
   "source": [
    "Save as json file"
   ]
  },
  {
   "cell_type": "code",
   "execution_count": 42,
   "metadata": {},
   "outputs": [],
   "source": [
    "import json\n",
    "mfo.objectiveRanges\n",
    "\n",
    "with open('./results/objectiveRanges_'+scenario+'_'+RCP+'_'+extension+'.json', 'w') as json_file:\n",
    "  json.dump(mfo.objectiveRanges, json_file)"
   ]
  },
  {
   "cell_type": "markdown",
   "metadata": {},
   "source": [
    "Save as CSV."
   ]
  },
  {
   "cell_type": "code",
   "execution_count": 43,
   "metadata": {},
   "outputs": [],
   "source": [
    "df = pd.read_json('./results/objectiveRanges_'+scenario+'_'+RCP+'_'+extension+'.json')\n",
    "\n",
    "df.to_csv('./results/objectiveRanges_'+scenario+'_'+RCP+'_'+extension+'.csv')"
   ]
  },
  {
   "cell_type": "markdown",
   "metadata": {},
   "source": [
    "## Export objective values\n",
    "The optimal solution for each objective."
   ]
  },
  {
   "cell_type": "code",
   "execution_count": 44,
   "metadata": {},
   "outputs": [],
   "source": [
    "with open(\"./results/objectiveValues_\"+scenario+'_'+RCP+'_'+extension+\".csv\",\"w\") as file: \n",
    "    delim = \"\" \n",
    "    for objName in mfo.objectiveTypes.keys(): \n",
    "        file.write(delim+objName) \n",
    "        delim = \",\" \n",
    "    file.write(\"\\n\") \n",
    "    delim = \"\" \n",
    "    for objName in mfo.objectiveTypes.keys(): \n",
    "        file.write(delim+str(mfo.objective[objName].solution_value())) \n",
    "        delim = \",\" \n",
    "    file.write(\"\\n\")"
   ]
  },
  {
   "cell_type": "code",
   "execution_count": null,
   "metadata": {},
   "outputs": [],
   "source": []
  }
 ],
 "metadata": {
  "kernelspec": {
   "display_name": "Python 3",
   "language": "python",
   "name": "python3"
  },
  "language_info": {
   "codemirror_mode": {
    "name": "ipython",
    "version": 3
   },
   "file_extension": ".py",
   "mimetype": "text/x-python",
   "name": "python",
   "nbconvert_exporter": "python",
   "pygments_lexer": "ipython3",
   "version": "3.8.3"
  }
 },
 "nbformat": 4,
 "nbformat_minor": 2
}
